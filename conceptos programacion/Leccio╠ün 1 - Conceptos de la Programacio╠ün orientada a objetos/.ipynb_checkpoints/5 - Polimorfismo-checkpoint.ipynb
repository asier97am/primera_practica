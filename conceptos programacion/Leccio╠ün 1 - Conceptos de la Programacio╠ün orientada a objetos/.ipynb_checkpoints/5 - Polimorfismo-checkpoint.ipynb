{
 "cells": [
  {
   "cell_type": "markdown",
   "id": "e1a5a97f",
   "metadata": {},
   "source": [
    "# 5 - Polimorfismo\n",
    "\n",
    "<br>\n",
    "<br>\n",
    "\n",
    "<img src=\"https://raw.githubusercontent.com/Hack-io-AI/ai_images/main/python_oop.webp\" style=\"width:400px;\"/>"
   ]
  },
  {
   "cell_type": "markdown",
   "id": "ade2d6b1",
   "metadata": {
    "toc": true
   },
   "source": [
    "<h1>Tabla de Contenidos<span class=\"tocSkip\"></span></h1>\n",
    "<div class=\"toc\"><ul class=\"toc-item\"><li><span><a href=\"#1---Polimorfismo\" data-toc-modified-id=\"1---Polimorfismo-1\">1 - Polimorfismo</a></span></li></ul></div>"
   ]
  },
  {
   "cell_type": "markdown",
   "id": "662b70f5",
   "metadata": {},
   "source": [
    "## 1 - Polimorfismo"
   ]
  },
  {
   "cell_type": "markdown",
   "id": "1a883f53",
   "metadata": {},
   "source": [
    "El polimorfismo permite que las clases derivadas de una superclase sean tratadas como objetos de la superclase. Esto es posible porque las subclases sobrescriben o extienden los métodos de la superclase, permitiendo que los mismos métodos puedan tener diferentes comportamientos en diferentes clases. Vamos a definir una función que toma un objeto de tipo `Animal` y llama al método `hacer_sonido()`. Debido al polimorfismo, esta función funcionará con cualquier objeto que sea una instancia de una subclase de `Animal`.\n"
   ]
  },
  {
   "cell_type": "code",
   "execution_count": 1,
   "id": "aa004641",
   "metadata": {},
   "outputs": [],
   "source": [
    "# definición clase madre\n",
    "\n",
    "class Animal:\n",
    "    def __init__(self, nombre):\n",
    "        self.nombre = nombre\n",
    "        \n",
    "    # método abstracto, debe ser sobreescrito por la clase hija\n",
    "    def hacer_sonido(self):\n",
    "        raise NotImplementedError('Este método debe ser sobrescrito por la subclase')\n",
    "\n",
    "    def moverse(self):\n",
    "        print(f'{self.nombre} se está moviendo')\n"
   ]
  },
  {
   "cell_type": "code",
   "execution_count": 2,
   "id": "ce38f9db",
   "metadata": {},
   "outputs": [],
   "source": [
    "# definición clases hijas\n",
    "\n",
    "class Perro(Animal):\n",
    "    def hacer_sonido(self):\n",
    "        return 'Guau'\n",
    "\n",
    "\n",
    "    \n",
    "class Gato(Animal):\n",
    "    def hacer_sonido(self):\n",
    "        return 'Miau'\n"
   ]
  },
  {
   "cell_type": "code",
   "execution_count": 3,
   "id": "1926400a",
   "metadata": {},
   "outputs": [],
   "source": [
    "# creación de objetos\n",
    "\n",
    "\n",
    "perro = Perro('Akita')\n",
    "\n",
    "\n",
    "gato = Gato('Doraemon')"
   ]
  },
  {
   "cell_type": "code",
   "execution_count": 4,
   "id": "9bb84a0d",
   "metadata": {},
   "outputs": [],
   "source": [
    "# función para polimorfismo\n",
    "\n",
    "def hacer_sonido(animal):\n",
    "    print(animal.hacer_sonido())"
   ]
  },
  {
   "cell_type": "code",
   "execution_count": 5,
   "id": "be3d28ea",
   "metadata": {},
   "outputs": [
    {
     "name": "stdout",
     "output_type": "stream",
     "text": [
      "Guau\n"
     ]
    }
   ],
   "source": [
    "# uso de polimorfismo\n",
    "\n",
    "hacer_sonido(perro)  "
   ]
  },
  {
   "cell_type": "code",
   "execution_count": 6,
   "id": "25474793",
   "metadata": {},
   "outputs": [
    {
     "name": "stdout",
     "output_type": "stream",
     "text": [
      "Miau\n"
     ]
    }
   ],
   "source": [
    "hacer_sonido(gato)  "
   ]
  }
 ],
 "metadata": {
  "kernelspec": {
   "display_name": "ia",
   "language": "python",
   "name": "ia"
  },
  "language_info": {
   "codemirror_mode": {
    "name": "ipython",
    "version": 3
   },
   "file_extension": ".py",
   "mimetype": "text/x-python",
   "name": "python",
   "nbconvert_exporter": "python",
   "pygments_lexer": "ipython3",
   "version": "3.9.19"
  },
  "toc": {
   "base_numbering": 1,
   "nav_menu": {},
   "number_sections": false,
   "sideBar": true,
   "skip_h1_title": true,
   "title_cell": "Tabla de Contenidos",
   "title_sidebar": "Contents",
   "toc_cell": true,
   "toc_position": {
    "height": "calc(100% - 180px)",
    "left": "10px",
    "top": "150px",
    "width": "268.88px"
   },
   "toc_section_display": true,
   "toc_window_display": true
  }
 },
 "nbformat": 4,
 "nbformat_minor": 5
}
