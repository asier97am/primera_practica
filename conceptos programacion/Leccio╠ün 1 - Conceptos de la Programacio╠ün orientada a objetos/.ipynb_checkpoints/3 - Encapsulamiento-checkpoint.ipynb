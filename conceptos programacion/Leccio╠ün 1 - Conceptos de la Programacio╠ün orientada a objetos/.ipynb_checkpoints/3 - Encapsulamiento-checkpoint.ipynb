{
 "cells": [
  {
   "cell_type": "markdown",
   "id": "6e4c22f8",
   "metadata": {},
   "source": [
    "# 3 - Encapsulamiento\n",
    "\n",
    "<br>\n",
    "<br>\n",
    "\n",
    "<img src=\"https://raw.githubusercontent.com/Hack-io-AI/ai_images/main/python_oop.webp\" style=\"width:400px;\"/>"
   ]
  },
  {
   "cell_type": "markdown",
   "id": "7507ce58",
   "metadata": {
    "toc": true
   },
   "source": [
    "<h1>Tabla de Contenidos<span class=\"tocSkip\"></span></h1>\n",
    "<div class=\"toc\"><ul class=\"toc-item\"><li><span><a href=\"#1---Encapsulamiento\" data-toc-modified-id=\"1---Encapsulamiento-1\">1 - Encapsulamiento</a></span></li></ul></div>"
   ]
  },
  {
   "cell_type": "markdown",
   "id": "eb6102b0",
   "metadata": {},
   "source": [
    "## 1 - Encapsulamiento"
   ]
  },
  {
   "cell_type": "markdown",
   "id": "e180f004",
   "metadata": {},
   "source": [
    "Con el encapsulamiento podemos ocultar los detalles internos de los objetos. Esto se logra mediante la definición de métodos públicos y atributos privados."
   ]
  },
  {
   "cell_type": "code",
   "execution_count": null,
   "id": "a4c75b54",
   "metadata": {},
   "outputs": [],
   "source": []
  },
  {
   "cell_type": "code",
   "execution_count": null,
   "id": "14019eaa",
   "metadata": {},
   "outputs": [],
   "source": []
  },
  {
   "cell_type": "code",
   "execution_count": null,
   "id": "152e9ecb",
   "metadata": {},
   "outputs": [],
   "source": []
  }
 ],
 "metadata": {
  "kernelspec": {
   "display_name": "ia",
   "language": "python",
   "name": "ia"
  },
  "language_info": {
   "codemirror_mode": {
    "name": "ipython",
    "version": 3
   },
   "file_extension": ".py",
   "mimetype": "text/x-python",
   "name": "python",
   "nbconvert_exporter": "python",
   "pygments_lexer": "ipython3",
   "version": "3.9.19"
  },
  "toc": {
   "base_numbering": 1,
   "nav_menu": {},
   "number_sections": false,
   "sideBar": true,
   "skip_h1_title": true,
   "title_cell": "Tabla de Contenidos",
   "title_sidebar": "Contents",
   "toc_cell": true,
   "toc_position": {
    "height": "calc(100% - 180px)",
    "left": "10px",
    "top": "150px",
    "width": "272.769px"
   },
   "toc_section_display": true,
   "toc_window_display": true
  }
 },
 "nbformat": 4,
 "nbformat_minor": 5
}
