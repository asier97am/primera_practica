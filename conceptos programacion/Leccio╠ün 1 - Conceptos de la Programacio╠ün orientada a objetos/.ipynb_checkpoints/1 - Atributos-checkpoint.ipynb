{
 "cells": [
  {
   "cell_type": "markdown",
   "id": "c4d40b16",
   "metadata": {},
   "source": [
    "# 1 - Atributos\n",
    "\n",
    "<br>\n",
    "<br>\n",
    "\n",
    "<img src=\"https://raw.githubusercontent.com/Hack-io-AI/ai_images/main/python_oop.webp\" style=\"width:400px;\"/>"
   ]
  },
  {
   "cell_type": "markdown",
   "id": "bf6a9463",
   "metadata": {
    "toc": true
   },
   "source": [
    "<h1>Tabla de Contenidos<span class=\"tocSkip\"></span></h1>\n",
    "<div class=\"toc\"><ul class=\"toc-item\"><li><span><a href=\"#1---Programación-orientada-a-objetos\" data-toc-modified-id=\"1---Programación-orientada-a-objetos-1\">1 - Programación orientada a objetos</a></span></li><li><span><a href=\"#2---Atributos\" data-toc-modified-id=\"2---Atributos-2\">2 - Atributos</a></span><ul class=\"toc-item\"><li><span><a href=\"#2.1---Atributos-de-instancia\" data-toc-modified-id=\"2.1---Atributos-de-instancia-2.1\">2.1 - Atributos de instancia</a></span></li><li><span><a href=\"#2.2---Atributos-de-clase\" data-toc-modified-id=\"2.2---Atributos-de-clase-2.2\">2.2 - Atributos de clase</a></span></li></ul></li></ul></div>"
   ]
  },
  {
   "cell_type": "markdown",
   "id": "2a8924ef",
   "metadata": {},
   "source": [
    "## 1 - Programación orientada a objetos"
   ]
  },
  {
   "cell_type": "markdown",
   "id": "ce537e88",
   "metadata": {},
   "source": [
    "La programación orientada a objetos tiene otra filosofía diferente que la programación funcional. El mayor cambio en el paradigma es que ahora los datos no son inmutables, como eran en la programación funcional, datos y funciones están encapsulados en un objeto (la clase). Cada llamada a la clase (instancia) es un objeto nuevo.\n",
    "\n",
    "\n",
    "**Conceptos Clave de la Programación Orientada a Objetos**\n",
    "\n",
    "\n",
    "1. **Clases y objetos**: Una clase es una plantilla, un molde, para crear objetos. Define un tipo de objeto según los atributos y métodos que tendrán. Un objeto es una instancia de una clase, una copia. Cada objeto puede tener diferentes valores para los atributos definidos en su clase.\n",
    "\n",
    "\n",
    "2. **Atributo**: Es una variable asociada a una clase o instancia de una clase, son los datos asocidos al objeto. Los atributos de instancia pertenecen a objetos individuales, mientras que los atributos de clase pertenecen a la clase en sí y son compartidos por todas las instancias.\n",
    "\n",
    "\n",
    "3. **Método**: Es una función asociada a una clase. Los métodos de instancia operan sobre instancias específicas, los métodos de clase operan sobre la clase en sí y los métodos estáticos no dependen de instancias ni de la clase y se usan como utilidades.\n",
    "\n",
    "\n",
    "4. **Encapsulamiento**: Consiste en ocultar los detalles internos de los objetos y exponer sólo lo necesario. Esto se logra mediante la definición de métodos públicos y atributos privados.\n",
    "\n",
    "\n",
    "5. **Herencia**: Permite crear nuevas clases a partir de clases existentes. La nueva clase (subclase) hereda atributos y métodos de la clase existente (superclase).\n",
    "\n",
    "\n",
    "6. **Polimorfismo**: Permite usar una misma interfaz, una función por ejemplo, para diferentes tipos de objetos. Los métodos pueden tener el mismo nombre pero comportarse de manera diferente según el objeto que los invoque.\n",
    "\n",
    "\n",
    "7. **Abstracción**: Se refiere a la simplificación de conceptos complejos mediante la reducción de los detalles innecesarios, permitiendo centrarse en lo esencial."
   ]
  },
  {
   "cell_type": "markdown",
   "id": "bd3a68c8",
   "metadata": {},
   "source": [
    "**Beneficios de la POO**\n",
    "\n",
    "+ **Modularidad**: Facilita la división de un programa en partes más pequeñas y manejables.\n",
    "+ **Reutilización**: Las clases y objetos pueden ser reutilizados en diferentes programas.\n",
    "+ **Mantenimiento**: El código es más fácil de mantener y modificar debido a su estructura clara y modular.\n",
    "+ **Abstracción**: Permite centrarse en las interacciones de alto nivel sin preocuparse por los detalles internos.\n",
    "+ **Encapsulamiento**: Mejora la seguridad del código al proteger los datos de accesos indebidos.\n",
    "\n",
    "\n",
    "**Desventajas de la POO**\n",
    "\n",
    "+ **Complejidad**: Puede añadir complejidad innecesaria a programas sencillos.\n",
    "+ **Rendimiento**: A veces puede ser menos eficiente en términos de rendimiento en comparación con otros paradigmas, debido a la sobrecarga de la gestión de objetos.\n"
   ]
  },
  {
   "cell_type": "markdown",
   "id": "3b1154ab",
   "metadata": {},
   "source": [
    "En realidad, Python es orientado a objetos, cada vez que se declara una variable como una lista o una string, se esta llamando a esa clase. Para verlo tan solo hace falta escribir `help`"
   ]
  },
  {
   "cell_type": "code",
   "execution_count": 1,
   "id": "656ad629",
   "metadata": {
    "scrolled": false
   },
   "outputs": [
    {
     "name": "stdout",
     "output_type": "stream",
     "text": [
      "Help on class list in module builtins:\n",
      "\n",
      "class list(object)\n",
      " |  list(iterable=(), /)\n",
      " |  \n",
      " |  Built-in mutable sequence.\n",
      " |  \n",
      " |  If no argument is given, the constructor creates a new empty list.\n",
      " |  The argument must be an iterable if specified.\n",
      " |  \n",
      " |  Methods defined here:\n",
      " |  \n",
      " |  __add__(self, value, /)\n",
      " |      Return self+value.\n",
      " |  \n",
      " |  __contains__(self, key, /)\n",
      " |      Return key in self.\n",
      " |  \n",
      " |  __delitem__(self, key, /)\n",
      " |      Delete self[key].\n",
      " |  \n",
      " |  __eq__(self, value, /)\n",
      " |      Return self==value.\n",
      " |  \n",
      " |  __ge__(self, value, /)\n",
      " |      Return self>=value.\n",
      " |  \n",
      " |  __getattribute__(self, name, /)\n",
      " |      Return getattr(self, name).\n",
      " |  \n",
      " |  __getitem__(...)\n",
      " |      x.__getitem__(y) <==> x[y]\n",
      " |  \n",
      " |  __gt__(self, value, /)\n",
      " |      Return self>value.\n",
      " |  \n",
      " |  __iadd__(self, value, /)\n",
      " |      Implement self+=value.\n",
      " |  \n",
      " |  __imul__(self, value, /)\n",
      " |      Implement self*=value.\n",
      " |  \n",
      " |  __init__(self, /, *args, **kwargs)\n",
      " |      Initialize self.  See help(type(self)) for accurate signature.\n",
      " |  \n",
      " |  __iter__(self, /)\n",
      " |      Implement iter(self).\n",
      " |  \n",
      " |  __le__(self, value, /)\n",
      " |      Return self<=value.\n",
      " |  \n",
      " |  __len__(self, /)\n",
      " |      Return len(self).\n",
      " |  \n",
      " |  __lt__(self, value, /)\n",
      " |      Return self<value.\n",
      " |  \n",
      " |  __mul__(self, value, /)\n",
      " |      Return self*value.\n",
      " |  \n",
      " |  __ne__(self, value, /)\n",
      " |      Return self!=value.\n",
      " |  \n",
      " |  __repr__(self, /)\n",
      " |      Return repr(self).\n",
      " |  \n",
      " |  __reversed__(self, /)\n",
      " |      Return a reverse iterator over the list.\n",
      " |  \n",
      " |  __rmul__(self, value, /)\n",
      " |      Return value*self.\n",
      " |  \n",
      " |  __setitem__(self, key, value, /)\n",
      " |      Set self[key] to value.\n",
      " |  \n",
      " |  __sizeof__(self, /)\n",
      " |      Return the size of the list in memory, in bytes.\n",
      " |  \n",
      " |  append(self, object, /)\n",
      " |      Append object to the end of the list.\n",
      " |  \n",
      " |  clear(self, /)\n",
      " |      Remove all items from list.\n",
      " |  \n",
      " |  copy(self, /)\n",
      " |      Return a shallow copy of the list.\n",
      " |  \n",
      " |  count(self, value, /)\n",
      " |      Return number of occurrences of value.\n",
      " |  \n",
      " |  extend(self, iterable, /)\n",
      " |      Extend list by appending elements from the iterable.\n",
      " |  \n",
      " |  index(self, value, start=0, stop=9223372036854775807, /)\n",
      " |      Return first index of value.\n",
      " |      \n",
      " |      Raises ValueError if the value is not present.\n",
      " |  \n",
      " |  insert(self, index, object, /)\n",
      " |      Insert object before index.\n",
      " |  \n",
      " |  pop(self, index=-1, /)\n",
      " |      Remove and return item at index (default last).\n",
      " |      \n",
      " |      Raises IndexError if list is empty or index is out of range.\n",
      " |  \n",
      " |  remove(self, value, /)\n",
      " |      Remove first occurrence of value.\n",
      " |      \n",
      " |      Raises ValueError if the value is not present.\n",
      " |  \n",
      " |  reverse(self, /)\n",
      " |      Reverse *IN PLACE*.\n",
      " |  \n",
      " |  sort(self, /, *, key=None, reverse=False)\n",
      " |      Sort the list in ascending order and return None.\n",
      " |      \n",
      " |      The sort is in-place (i.e. the list itself is modified) and stable (i.e. the\n",
      " |      order of two equal elements is maintained).\n",
      " |      \n",
      " |      If a key function is given, apply it once to each list item and sort them,\n",
      " |      ascending or descending, according to their function values.\n",
      " |      \n",
      " |      The reverse flag can be set to sort in descending order.\n",
      " |  \n",
      " |  ----------------------------------------------------------------------\n",
      " |  Class methods defined here:\n",
      " |  \n",
      " |  __class_getitem__(...) from builtins.type\n",
      " |      See PEP 585\n",
      " |  \n",
      " |  ----------------------------------------------------------------------\n",
      " |  Static methods defined here:\n",
      " |  \n",
      " |  __new__(*args, **kwargs) from builtins.type\n",
      " |      Create and return a new object.  See help(type) for accurate signature.\n",
      " |  \n",
      " |  ----------------------------------------------------------------------\n",
      " |  Data and other attributes defined here:\n",
      " |  \n",
      " |  __hash__ = None\n",
      "\n"
     ]
    }
   ],
   "source": [
    "help(list)"
   ]
  },
  {
   "cell_type": "markdown",
   "id": "2916fcdf",
   "metadata": {},
   "source": [
    "## 2 - Atributos"
   ]
  },
  {
   "cell_type": "markdown",
   "id": "c7a65776",
   "metadata": {},
   "source": [
    "Un atributo es una variable que pertenece a una clase o a un objeto. Los atributos se utilizan para almacenar información sobre el objeto. En Python, los atributos se definen dentro del método constructor `__init__` de una clase, pero también pueden ser definidos fuera de este método para establecer atributos de clase."
   ]
  },
  {
   "cell_type": "markdown",
   "id": "4cbf2b79",
   "metadata": {},
   "source": [
    "### 2.1 - Atributos de instancia\n",
    "\n",
    "Son variables que pertenecen a una instancia específica de una clase. Cada objeto creado a partir de la clase puede tener valores diferentes para estos atributos. Se definen dentro del método constructor `__init__`."
   ]
  },
  {
   "cell_type": "code",
   "execution_count": 2,
   "id": "880db52e",
   "metadata": {},
   "outputs": [],
   "source": [
    "# definición de la clase\n",
    "\n",
    "class Estudiante:\n",
    "    \n",
    "    # método constructor\n",
    "    def __init__(self, nombre, edad):\n",
    "        \n",
    "        # atributos de instancia\n",
    "        self.nombre = nombre\n",
    "        self.edad = edad"
   ]
  },
  {
   "cell_type": "code",
   "execution_count": 3,
   "id": "9e8e257a",
   "metadata": {},
   "outputs": [],
   "source": [
    "# iniciamos dos objetos\n",
    "\n",
    "estudiante_1 = Estudiante('Pepe', 28)\n",
    "\n",
    "estudiante_2 = Estudiante('Maria', 23)"
   ]
  },
  {
   "cell_type": "code",
   "execution_count": 4,
   "id": "46014438",
   "metadata": {},
   "outputs": [
    {
     "data": {
      "text/plain": [
       "'Pepe'"
      ]
     },
     "execution_count": 4,
     "metadata": {},
     "output_type": "execute_result"
    }
   ],
   "source": [
    "# nombre del primer estudiante\n",
    "\n",
    "estudiante_1.nombre"
   ]
  },
  {
   "cell_type": "code",
   "execution_count": 5,
   "id": "d2d8bc00",
   "metadata": {},
   "outputs": [
    {
     "data": {
      "text/plain": [
       "23"
      ]
     },
     "execution_count": 5,
     "metadata": {},
     "output_type": "execute_result"
    }
   ],
   "source": [
    "# edad del segundo estudiante\n",
    "\n",
    "estudiante_2.edad"
   ]
  },
  {
   "cell_type": "markdown",
   "id": "da028997",
   "metadata": {},
   "source": [
    "### 2.2 - Atributos de clase\n",
    "\n",
    "Son variables que pertenecen a la clase en sí y son compartidos por todas las instancias de la clase. Se definen directamente dentro de la clase, fuera de cualquier método."
   ]
  },
  {
   "cell_type": "code",
   "execution_count": 6,
   "id": "a39ae2aa",
   "metadata": {},
   "outputs": [],
   "source": [
    "# definición de la clase\n",
    "\n",
    "class Estudiante:\n",
    "    \n",
    "    # atributo de clase\n",
    "    escuela = 'Desarrollo_IA'\n",
    "    \n",
    "    # método constructor\n",
    "    def __init__(self, nombre, edad):\n",
    "        \n",
    "        # atributos de instancia\n",
    "        self.nombre = nombre\n",
    "        self.edad = edad"
   ]
  },
  {
   "cell_type": "code",
   "execution_count": 7,
   "id": "2408c251",
   "metadata": {},
   "outputs": [],
   "source": [
    "# iniciamos objeto estudiante\n",
    "\n",
    "estudiante = Estudiante('Pepe', 28)"
   ]
  },
  {
   "cell_type": "code",
   "execution_count": 8,
   "id": "8f781c0f",
   "metadata": {},
   "outputs": [
    {
     "data": {
      "text/plain": [
       "'Desarrollo_IA'"
      ]
     },
     "execution_count": 8,
     "metadata": {},
     "output_type": "execute_result"
    }
   ],
   "source": [
    "# escuela del estudiante\n",
    "\n",
    "estudiante.escuela"
   ]
  }
 ],
 "metadata": {
  "kernelspec": {
   "display_name": "ia",
   "language": "python",
   "name": "ia"
  },
  "language_info": {
   "codemirror_mode": {
    "name": "ipython",
    "version": 3
   },
   "file_extension": ".py",
   "mimetype": "text/x-python",
   "name": "python",
   "nbconvert_exporter": "python",
   "pygments_lexer": "ipython3",
   "version": "3.9.19"
  },
  "toc": {
   "base_numbering": 1,
   "nav_menu": {},
   "number_sections": false,
   "sideBar": true,
   "skip_h1_title": true,
   "title_cell": "Tabla de Contenidos",
   "title_sidebar": "Contents",
   "toc_cell": true,
   "toc_position": {
    "height": "calc(100% - 180px)",
    "left": "10px",
    "top": "150px",
    "width": "247.882px"
   },
   "toc_section_display": true,
   "toc_window_display": true
  }
 },
 "nbformat": 4,
 "nbformat_minor": 5
}
