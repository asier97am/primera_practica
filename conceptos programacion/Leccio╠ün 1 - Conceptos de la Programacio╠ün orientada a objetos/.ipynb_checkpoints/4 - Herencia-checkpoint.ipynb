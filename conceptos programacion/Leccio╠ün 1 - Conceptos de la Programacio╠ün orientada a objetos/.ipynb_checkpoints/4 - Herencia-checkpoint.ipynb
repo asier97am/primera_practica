{
 "cells": [
  {
   "cell_type": "markdown",
   "id": "3321fbfd",
   "metadata": {},
   "source": [
    "# 4 - Herencia\n",
    "\n",
    "<br>\n",
    "<br>\n",
    "\n",
    "<img src=\"https://raw.githubusercontent.com/Hack-io-AI/ai_images/main/python_oop.webp\" style=\"width:400px;\"/>"
   ]
  },
  {
   "cell_type": "markdown",
   "id": "4e68437c",
   "metadata": {
    "toc": true
   },
   "source": [
    "<h1>Tabla de Contenidos<span class=\"tocSkip\"></span></h1>\n",
    "<div class=\"toc\"><ul class=\"toc-item\"><li><span><a href=\"#1---Herencia\" data-toc-modified-id=\"1---Herencia-1\">1 - Herencia</a></span></li><li><span><a href=\"#2---Herencia-múltiple\" data-toc-modified-id=\"2---Herencia-múltiple-2\">2 - Herencia múltiple</a></span></li><li><span><a href=\"#3---Jerarquía-de-Herencia\" data-toc-modified-id=\"3---Jerarquía-de-Herencia-3\">3 - Jerarquía de Herencia</a></span></li><li><span><a href=\"#4---Función-super()\" data-toc-modified-id=\"4---Función-super()-4\">4 - Función super()</a></span></li></ul></div>"
   ]
  },
  {
   "cell_type": "markdown",
   "id": "9beff340",
   "metadata": {},
   "source": [
    "## 1 - Herencia"
   ]
  },
  {
   "cell_type": "markdown",
   "id": "a23cf483",
   "metadata": {},
   "source": [
    "La herencia de clases es un principio fundamental de la programación orientada a objetos que permite crear nuevas clases basadas en clases existentes. La nueva clase, llamada subclase,  clase derivada o clase hija, hereda atributos y métodos de la clase existente, llamada superclase,  clase base o clase madre, lo que facilita la reutilización del código y la creación de jerarquías de clases.\n",
    "\n",
    "\n",
    "**Conceptos Clave**\n",
    "\n",
    "+ **Superclase (clase madre)**: Es la clase de la cual otras clases derivan. Proporciona atributos y métodos que pueden ser utilizados por las subclases.\n",
    "\n",
    "+ **Subclase (clase hija)**: Es la clase que hereda de otra clase. Puede añadir nuevos atributos y métodos, así como sobrescribir los existentes de la superclase.\n",
    "\n",
    "+ **Sobrescritura de métodos**: Las subclases pueden redefinir métodos heredados de la superclase para cambiar o ampliar su comportamiento."
   ]
  },
  {
   "cell_type": "code",
   "execution_count": 1,
   "id": "89236391",
   "metadata": {},
   "outputs": [],
   "source": [
    "# definición clase madre\n",
    "\n",
    "class Animal:\n",
    "    def __init__(self, nombre):\n",
    "        self.nombre = nombre\n",
    "        \n",
    "    # método abstracto, debe ser sobreescrito por la clase hija\n",
    "    def hacer_sonido(self):\n",
    "        raise NotImplementedError('Este método debe ser sobrescrito por la subclase')\n",
    "\n",
    "    def moverse(self):\n",
    "        print(f'{self.nombre} se está moviendo')\n"
   ]
  },
  {
   "cell_type": "code",
   "execution_count": 2,
   "id": "ab342350",
   "metadata": {},
   "outputs": [],
   "source": [
    "# definición clases hijas\n",
    "\n",
    "class Perro(Animal):\n",
    "    def hacer_sonido(self):\n",
    "        return 'Guau'\n",
    "\n",
    "\n",
    "    \n",
    "class Gato(Animal):\n",
    "    def hacer_sonido(self):\n",
    "        return 'Miau'\n"
   ]
  },
  {
   "cell_type": "code",
   "execution_count": 3,
   "id": "5d81f5a2",
   "metadata": {},
   "outputs": [],
   "source": [
    "# creación de objetos\n",
    "\n",
    "\n",
    "perro = Perro('Akita')\n",
    "\n",
    "\n",
    "gato = Gato('Doraemon')"
   ]
  },
  {
   "cell_type": "code",
   "execution_count": 4,
   "id": "0a8abd87",
   "metadata": {},
   "outputs": [
    {
     "data": {
      "text/plain": [
       "'Guau'"
      ]
     },
     "execution_count": 4,
     "metadata": {},
     "output_type": "execute_result"
    }
   ],
   "source": [
    "# llamada a los métodos del perro\n",
    "\n",
    "perro.hacer_sonido()"
   ]
  },
  {
   "cell_type": "code",
   "execution_count": 5,
   "id": "f6496e8b",
   "metadata": {},
   "outputs": [
    {
     "name": "stdout",
     "output_type": "stream",
     "text": [
      "Akita se está moviendo\n"
     ]
    }
   ],
   "source": [
    "# llamada a los métodos del perro\n",
    "\n",
    "perro.moverse()"
   ]
  },
  {
   "cell_type": "code",
   "execution_count": 6,
   "id": "1d27b8a2",
   "metadata": {},
   "outputs": [
    {
     "data": {
      "text/plain": [
       "'Miau'"
      ]
     },
     "execution_count": 6,
     "metadata": {},
     "output_type": "execute_result"
    }
   ],
   "source": [
    "# llamada a los métodos del gato\n",
    "\n",
    "gato.hacer_sonido()"
   ]
  },
  {
   "cell_type": "code",
   "execution_count": 7,
   "id": "562c82e0",
   "metadata": {},
   "outputs": [
    {
     "name": "stdout",
     "output_type": "stream",
     "text": [
      "Doraemon se está moviendo\n"
     ]
    }
   ],
   "source": [
    "# llamada a los métodos del gato\n",
    "\n",
    "gato.moverse()"
   ]
  },
  {
   "cell_type": "markdown",
   "id": "33e31220",
   "metadata": {},
   "source": [
    "## 2 - Herencia múltiple\n",
    "\n",
    "Existe también la herencia múltiple, una clase hija que tenga dos madres distintas."
   ]
  },
  {
   "cell_type": "code",
   "execution_count": 8,
   "id": "87dc937a",
   "metadata": {},
   "outputs": [],
   "source": [
    "# clase madre 1\n",
    "\n",
    "class Mamifero:\n",
    "    \n",
    "    def amamantar(self):\n",
    "        \n",
    "        print('Este animal puede amamantar a sus crías')\n"
   ]
  },
  {
   "cell_type": "code",
   "execution_count": 9,
   "id": "97bcd427",
   "metadata": {},
   "outputs": [],
   "source": [
    "# clase madre 2\n",
    "\n",
    "class Volador:\n",
    "    \n",
    "    def volar(self):\n",
    "        \n",
    "        print('Este animal puede volar')\n"
   ]
  },
  {
   "cell_type": "code",
   "execution_count": 10,
   "id": "1841cc83",
   "metadata": {},
   "outputs": [],
   "source": [
    "# clase hija que hereda de dos clases madre\n",
    "\n",
    "class Murcielago(Mamifero, Volador):\n",
    "    \n",
    "    pass"
   ]
  },
  {
   "cell_type": "code",
   "execution_count": 11,
   "id": "ee42ddf3",
   "metadata": {},
   "outputs": [],
   "source": [
    "# creación de objeto\n",
    "\n",
    "murcielago = Murcielago()"
   ]
  },
  {
   "cell_type": "code",
   "execution_count": 12,
   "id": "c5316519",
   "metadata": {},
   "outputs": [
    {
     "name": "stdout",
     "output_type": "stream",
     "text": [
      "Este animal puede amamantar a sus crías\n"
     ]
    }
   ],
   "source": [
    "# llamada al método\n",
    "\n",
    "murcielago.amamantar()"
   ]
  },
  {
   "cell_type": "code",
   "execution_count": 13,
   "id": "4f237d5f",
   "metadata": {},
   "outputs": [
    {
     "name": "stdout",
     "output_type": "stream",
     "text": [
      "Este animal puede volar\n"
     ]
    }
   ],
   "source": [
    "# llamada al método\n",
    "\n",
    "murcielago.volar() "
   ]
  },
  {
   "cell_type": "markdown",
   "id": "f9b60b65",
   "metadata": {},
   "source": [
    "## 3 - Jerarquía de Herencia\n",
    "\n",
    "Es posible tener jerarquías de herencia complejas con múltiples niveles de herencia."
   ]
  },
  {
   "cell_type": "code",
   "execution_count": 14,
   "id": "50242041",
   "metadata": {},
   "outputs": [],
   "source": [
    "# clase abuela\n",
    "\n",
    "class Animal:\n",
    "    def moverse(self):\n",
    "        print('El animal se está moviendo.')\n"
   ]
  },
  {
   "cell_type": "code",
   "execution_count": 15,
   "id": "678b7399",
   "metadata": {},
   "outputs": [],
   "source": [
    "# clase madre\n",
    "\n",
    "class Ave(Animal):\n",
    "    def moverse(self):\n",
    "        print('El ave está volando.')\n"
   ]
  },
  {
   "cell_type": "code",
   "execution_count": 16,
   "id": "7ae8afff",
   "metadata": {},
   "outputs": [],
   "source": [
    "# clase hija\n",
    "\n",
    "class Pinguino(Ave):\n",
    "    def moverse(self):\n",
    "        print('El pingüino está nadando.')\n"
   ]
  },
  {
   "cell_type": "code",
   "execution_count": 17,
   "id": "7aae9230",
   "metadata": {},
   "outputs": [],
   "source": [
    "# creación del objeto\n",
    "\n",
    "pinguino = Pinguino()"
   ]
  },
  {
   "cell_type": "code",
   "execution_count": 18,
   "id": "5ecd313d",
   "metadata": {},
   "outputs": [
    {
     "name": "stdout",
     "output_type": "stream",
     "text": [
      "El pingüino está nadando.\n"
     ]
    }
   ],
   "source": [
    "# llamada al método\n",
    "\n",
    "pinguino.moverse()"
   ]
  },
  {
   "cell_type": "markdown",
   "id": "7c7a7dd0",
   "metadata": {},
   "source": [
    "## 4 - Función super()\n",
    "\n",
    "La función `super()` se utiliza para llamar a métodos de la superclase desde la subclase. Esto es útil para extender el comportamiento de los métodos heredados."
   ]
  },
  {
   "cell_type": "code",
   "execution_count": 19,
   "id": "194a6f51",
   "metadata": {},
   "outputs": [],
   "source": [
    "# clase madre\n",
    "\n",
    "class Mamifero:\n",
    "    \n",
    "    # método constructor de la madre\n",
    "    def __init__(self, nombre):\n",
    "        self.nombre = nombre\n",
    "\n",
    "    def describir(self):\n",
    "        return f'{self.nombre} es un mamífero'"
   ]
  },
  {
   "cell_type": "code",
   "execution_count": 20,
   "id": "bd64dc69",
   "metadata": {},
   "outputs": [],
   "source": [
    "# clase hija\n",
    "\n",
    "class Delfin(Mamifero):\n",
    "    \n",
    "    # método constructor de la hija heredado\n",
    "    def __init__(self, nombre):\n",
    "        super().__init__(nombre)\n",
    "        \n",
    "    \n",
    "    # método de la hija heredado de base\n",
    "    def describir(self):\n",
    "        \n",
    "        descripcion_base = super().describir()\n",
    "        \n",
    "        return f'{descripcion_base} y puede nadar muy bien.'"
   ]
  },
  {
   "cell_type": "code",
   "execution_count": 21,
   "id": "603bb390",
   "metadata": {},
   "outputs": [],
   "source": [
    "# creación del objeto\n",
    "\n",
    "delfin = Delfin('Flipper')"
   ]
  },
  {
   "cell_type": "code",
   "execution_count": 22,
   "id": "9e849984",
   "metadata": {},
   "outputs": [
    {
     "data": {
      "text/plain": [
       "'Flipper es un mamífero y puede nadar muy bien.'"
      ]
     },
     "execution_count": 22,
     "metadata": {},
     "output_type": "execute_result"
    }
   ],
   "source": [
    "# llamada al método\n",
    "\n",
    "delfin.describir()"
   ]
  },
  {
   "cell_type": "code",
   "execution_count": 23,
   "id": "6e8311d0",
   "metadata": {},
   "outputs": [
    {
     "data": {
      "text/plain": [
       "'Flipper'"
      ]
     },
     "execution_count": 23,
     "metadata": {},
     "output_type": "execute_result"
    }
   ],
   "source": [
    "# llamada al atributo\n",
    "\n",
    "delfin.nombre"
   ]
  }
 ],
 "metadata": {
  "kernelspec": {
   "display_name": "ia",
   "language": "python",
   "name": "ia"
  },
  "language_info": {
   "codemirror_mode": {
    "name": "ipython",
    "version": 3
   },
   "file_extension": ".py",
   "mimetype": "text/x-python",
   "name": "python",
   "nbconvert_exporter": "python",
   "pygments_lexer": "ipython3",
   "version": "3.9.19"
  },
  "toc": {
   "base_numbering": 1,
   "nav_menu": {},
   "number_sections": false,
   "sideBar": true,
   "skip_h1_title": true,
   "title_cell": "Tabla de Contenidos",
   "title_sidebar": "Contents",
   "toc_cell": true,
   "toc_position": {
    "height": "calc(100% - 180px)",
    "left": "10px",
    "top": "150px",
    "width": "258.872px"
   },
   "toc_section_display": true,
   "toc_window_display": true
  }
 },
 "nbformat": 4,
 "nbformat_minor": 5
}
