{
 "cells": [
  {
   "cell_type": "markdown",
   "id": "f81240f5",
   "metadata": {},
   "source": [
    "# 2 - Métodos\n",
    "\n",
    "<br>\n",
    "<br>\n",
    "\n",
    "<img src=\"https://raw.githubusercontent.com/Hack-io-AI/ai_images/main/python_oop.webp\" style=\"width:400px;\"/>"
   ]
  },
  {
   "cell_type": "markdown",
   "id": "2796a530",
   "metadata": {
    "toc": true
   },
   "source": [
    "<h1>Tabla de Contenidos<span class=\"tocSkip\"></span></h1>\n",
    "<div class=\"toc\"><ul class=\"toc-item\"><li><span><a href=\"#1---Métodos-de-instancia\" data-toc-modified-id=\"1---Métodos-de-instancia-1\">1 - Métodos de instancia</a></span></li><li><span><a href=\"#2---Métodos-de-clase\" data-toc-modified-id=\"2---Métodos-de-clase-2\">2 - Métodos de clase</a></span></li><li><span><a href=\"#3---Métodos-estáticos\" data-toc-modified-id=\"3---Métodos-estáticos-3\">3 - Métodos estáticos</a></span></li></ul></div>"
   ]
  },
  {
   "cell_type": "markdown",
   "id": "76b63aef",
   "metadata": {},
   "source": [
    "Un método es una función que pertenece a una clase y define un comportamiento que los objetos de la clase pueden realizar. Los métodos pueden manipular los atributos del objeto y suelen definir las acciones que los objetos pueden realizar."
   ]
  },
  {
   "cell_type": "markdown",
   "id": "f813f9d5",
   "metadata": {},
   "source": [
    "## 1 - Métodos de instancia\n",
    "\n",
    "Operan en una instancia específica de una clase. Pueden acceder y modificar los atributos de la instancia.\n",
    "Se definen con al menos un parámetro, `self`, que hace referencia a la instancia actual de la clase, la autoreferencia."
   ]
  },
  {
   "cell_type": "code",
   "execution_count": 1,
   "id": "1dea8831",
   "metadata": {},
   "outputs": [],
   "source": [
    "# definición de la clase\n",
    "\n",
    "class Estudiante:\n",
    "    \n",
    "    # método constructor\n",
    "    def __init__(self, nombre, edad):\n",
    "        \n",
    "        # atributos de instancia\n",
    "        self.nombre = nombre\n",
    "        self.edad = edad\n",
    "        \n",
    "    \n",
    "    # método de instancia\n",
    "    def saludar(self):\n",
    "        \n",
    "        return f'Hola, mi nombre es {self.nombre} y tengo {self.edad} años.'\n"
   ]
  },
  {
   "cell_type": "code",
   "execution_count": 2,
   "id": "456e9d9d",
   "metadata": {},
   "outputs": [],
   "source": [
    "# iniciamos objeto estudiante\n",
    "\n",
    "estudiante = Estudiante('Pepe', 28)"
   ]
  },
  {
   "cell_type": "code",
   "execution_count": 3,
   "id": "31aaece3",
   "metadata": {},
   "outputs": [
    {
     "data": {
      "text/plain": [
       "'Hola, mi nombre es Pepe y tengo 28 años.'"
      ]
     },
     "execution_count": 3,
     "metadata": {},
     "output_type": "execute_result"
    }
   ],
   "source": [
    "# llamada al método\n",
    "\n",
    "estudiante.saludar()"
   ]
  },
  {
   "cell_type": "markdown",
   "id": "52005492",
   "metadata": {},
   "source": [
    "## 2 - Métodos de clase\n",
    "\n",
    "Operan en la clase en sí y no en instancias individuales. Pueden acceder y modificar los atributos de clase. Se definen con un parámetro `cls`, que hace referencia a la clase actual, y se decoran con `@classmethod`."
   ]
  },
  {
   "cell_type": "code",
   "execution_count": 4,
   "id": "804047ac",
   "metadata": {},
   "outputs": [],
   "source": [
    "# definición de la clase\n",
    "\n",
    "class Estudiante:\n",
    "    \n",
    "    # atributo de clase\n",
    "    escuela = 'Desarrollo_IA'\n",
    "    \n",
    "    # método constructor\n",
    "    def __init__(self, nombre, edad):\n",
    "        \n",
    "        # atributos de instancia\n",
    "        self.nombre = nombre\n",
    "        self.edad = edad\n",
    "    \n",
    "    # método de clase\n",
    "    @classmethod\n",
    "    def cambiar_escuela(cls, nueva_escuela):\n",
    "        cls.escuela = nueva_escuela"
   ]
  },
  {
   "cell_type": "code",
   "execution_count": 5,
   "id": "e48200e6",
   "metadata": {},
   "outputs": [],
   "source": [
    "# cambio atributo de clase\n",
    "\n",
    "Estudiante.cambiar_escuela('Escuela IA')"
   ]
  },
  {
   "cell_type": "code",
   "execution_count": 6,
   "id": "07d9cffb",
   "metadata": {},
   "outputs": [
    {
     "data": {
      "text/plain": [
       "'Escuela IA'"
      ]
     },
     "execution_count": 6,
     "metadata": {},
     "output_type": "execute_result"
    }
   ],
   "source": [
    "# atributo de clase\n",
    "\n",
    "Estudiante.escuela"
   ]
  },
  {
   "cell_type": "markdown",
   "id": "8a78a638",
   "metadata": {},
   "source": [
    "## 3 - Métodos estáticos\n",
    "\n",
    "No operan en instancias ni en la clase en sí. No pueden acceder ni modificar atributos de instancia ni de clase. Se utilizan generalmente como utilidades. Se definen con el decorador `@staticmethod`."
   ]
  },
  {
   "cell_type": "code",
   "execution_count": 7,
   "id": "92550f3f",
   "metadata": {},
   "outputs": [],
   "source": [
    "# definición de la clase\n",
    "\n",
    "class Estudiante:\n",
    "    \n",
    "    # método constructor\n",
    "    def __init__(self, nombre, edad):\n",
    "        \n",
    "        # atributos de instancia\n",
    "        self.nombre = nombre\n",
    "        self.edad = edad\n",
    "    \n",
    "    # método estático\n",
    "    @staticmethod\n",
    "    def es_mayor_de_edad(edad):\n",
    "        return edad >= 18"
   ]
  },
  {
   "cell_type": "code",
   "execution_count": 8,
   "id": "9722c84b",
   "metadata": {},
   "outputs": [
    {
     "data": {
      "text/plain": [
       "True"
      ]
     },
     "execution_count": 8,
     "metadata": {},
     "output_type": "execute_result"
    }
   ],
   "source": [
    "# llamada al método estático\n",
    "\n",
    "Estudiante.es_mayor_de_edad(98)"
   ]
  }
 ],
 "metadata": {
  "kernelspec": {
   "display_name": "ia",
   "language": "python",
   "name": "ia"
  },
  "language_info": {
   "codemirror_mode": {
    "name": "ipython",
    "version": 3
   },
   "file_extension": ".py",
   "mimetype": "text/x-python",
   "name": "python",
   "nbconvert_exporter": "python",
   "pygments_lexer": "ipython3",
   "version": "3.9.19"
  },
  "toc": {
   "base_numbering": 1,
   "nav_menu": {},
   "number_sections": false,
   "sideBar": true,
   "skip_h1_title": true,
   "title_cell": "Tabla de Contenidos",
   "title_sidebar": "Contents",
   "toc_cell": true,
   "toc_position": {
    "height": "calc(100% - 180px)",
    "left": "10px",
    "top": "150px",
    "width": "286.884px"
   },
   "toc_section_display": true,
   "toc_window_display": true
  }
 },
 "nbformat": 4,
 "nbformat_minor": 5
}
