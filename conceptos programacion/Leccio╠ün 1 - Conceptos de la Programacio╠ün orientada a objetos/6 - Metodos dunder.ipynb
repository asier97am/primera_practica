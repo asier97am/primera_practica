{
 "cells": [
  {
   "cell_type": "markdown",
   "id": "3244a836",
   "metadata": {},
   "source": [
    "# 6 - Métodos dunder\n",
    "\n",
    "<br>\n",
    "<br>\n",
    "\n",
    "<img src=\"https://raw.githubusercontent.com/Hack-io-AI/ai_images/main/python_oop.webp\" style=\"width:400px;\"/>"
   ]
  },
  {
   "cell_type": "markdown",
   "id": "2f145c93",
   "metadata": {
    "toc": true
   },
   "source": [
    "<h1>Tabla de Contenidos<span class=\"tocSkip\"></span></h1>\n",
    "<div class=\"toc\"><ul class=\"toc-item\"><li><span><a href=\"#1---Métodos-dunder\" data-toc-modified-id=\"1---Métodos-dunder-1\">1 - Métodos dunder</a></span></li></ul></div>"
   ]
  },
  {
   "cell_type": "markdown",
   "id": "30a0d41c",
   "metadata": {},
   "source": [
    "## 1 - Métodos dunder \n",
    "\n",
    "Se les llama `dunders` por la doble barra que tienen (double underscores). También se les llama método mágicos (magic methods). Conectan funciones con comportamientos y operadores externos.\n",
    "\n",
    "Una pequeña lista:\n",
    "\n",
    "+ `__repr__` : Representación oficial de una string (cuando se imprime el objeto)\n",
    "+ `__str__` : Conversion a string y print\n",
    "+ `__len__` : Cuando se pasa `len` a un iterable\n",
    "\n",
    "\n",
    "+ `__eq__` : ==\n",
    "+ `__ne__` : !=\n",
    "+ `__lt__` : <\n",
    "+ `__le__` : <=\n",
    "+ `__gt__` : >\n",
    "+ `__ge__` : >=\n",
    "\n",
    "\n",
    "\n",
    "- `__add__` : +\n",
    "- `__mul__` : *\n",
    "- `__truediv__` : /\n",
    "- `__sub__` : - \n",
    "\n",
    "**Más [información](https://docs.python.org/3/library/operator.html).**"
   ]
  },
  {
   "cell_type": "code",
   "execution_count": 1,
   "id": "63a3fd75",
   "metadata": {},
   "outputs": [],
   "source": [
    "# clase gato de Schrödinger\n",
    "\n",
    "\n",
    "class Gato:\n",
    "    \n",
    "    def __eq__(self, x):\n",
    "        \n",
    "        return True"
   ]
  },
  {
   "cell_type": "code",
   "execution_count": 2,
   "id": "854469a3",
   "metadata": {},
   "outputs": [],
   "source": [
    "# creo el objeto\n",
    "\n",
    "gato = Gato()"
   ]
  },
  {
   "cell_type": "code",
   "execution_count": 3,
   "id": "c0fefb85",
   "metadata": {},
   "outputs": [
    {
     "data": {
      "text/plain": [
       "<__main__.Gato at 0x1068031c0>"
      ]
     },
     "execution_count": 3,
     "metadata": {},
     "output_type": "execute_result"
    }
   ],
   "source": [
    "gato"
   ]
  },
  {
   "cell_type": "code",
   "execution_count": 4,
   "id": "8995cb40",
   "metadata": {},
   "outputs": [
    {
     "data": {
      "text/plain": [
       "True"
      ]
     },
     "execution_count": 4,
     "metadata": {},
     "output_type": "execute_result"
    }
   ],
   "source": [
    "gato == True"
   ]
  },
  {
   "cell_type": "code",
   "execution_count": 5,
   "id": "85a223ab",
   "metadata": {},
   "outputs": [
    {
     "data": {
      "text/plain": [
       "True"
      ]
     },
     "execution_count": 5,
     "metadata": {},
     "output_type": "execute_result"
    }
   ],
   "source": [
    "gato == False"
   ]
  },
  {
   "cell_type": "code",
   "execution_count": 6,
   "id": "b87244d0",
   "metadata": {},
   "outputs": [
    {
     "data": {
      "text/plain": [
       "True"
      ]
     },
     "execution_count": 6,
     "metadata": {},
     "output_type": "execute_result"
    }
   ],
   "source": [
    "gato == 42"
   ]
  },
  {
   "cell_type": "code",
   "execution_count": 7,
   "id": "47a35782",
   "metadata": {},
   "outputs": [
    {
     "data": {
      "text/plain": [
       "True"
      ]
     },
     "execution_count": 7,
     "metadata": {},
     "output_type": "execute_result"
    }
   ],
   "source": [
    "gato == 'hola'"
   ]
  },
  {
   "cell_type": "code",
   "execution_count": 8,
   "id": "9b54d6f0",
   "metadata": {},
   "outputs": [
    {
     "data": {
      "text/plain": [
       "True"
      ]
     },
     "execution_count": 8,
     "metadata": {},
     "output_type": "execute_result"
    }
   ],
   "source": [
    "gato == [1,2,34,4]"
   ]
  },
  {
   "cell_type": "code",
   "execution_count": null,
   "id": "fad7e6e7",
   "metadata": {},
   "outputs": [],
   "source": []
  },
  {
   "cell_type": "code",
   "execution_count": null,
   "id": "d8d0f096",
   "metadata": {},
   "outputs": [],
   "source": []
  },
  {
   "cell_type": "code",
   "execution_count": null,
   "id": "812185cb",
   "metadata": {},
   "outputs": [],
   "source": []
  }
 ],
 "metadata": {
  "kernelspec": {
   "display_name": "ia",
   "language": "python",
   "name": "ia"
  },
  "language_info": {
   "codemirror_mode": {
    "name": "ipython",
    "version": 3
   },
   "file_extension": ".py",
   "mimetype": "text/x-python",
   "name": "python",
   "nbconvert_exporter": "python",
   "pygments_lexer": "ipython3",
   "version": "3.9.19"
  },
  "toc": {
   "base_numbering": 1,
   "nav_menu": {},
   "number_sections": false,
   "sideBar": true,
   "skip_h1_title": true,
   "title_cell": "Tabla de Contenidos",
   "title_sidebar": "Contents",
   "toc_cell": true,
   "toc_position": {
    "height": "calc(100% - 180px)",
    "left": "10px",
    "top": "150px",
    "width": "279.653px"
   },
   "toc_section_display": true,
   "toc_window_display": true
  }
 },
 "nbformat": 4,
 "nbformat_minor": 5
}
