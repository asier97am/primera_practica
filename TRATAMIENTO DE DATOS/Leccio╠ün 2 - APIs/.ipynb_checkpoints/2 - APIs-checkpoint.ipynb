{
 "cells": [
  {
   "cell_type": "markdown",
   "id": "2e166cbe",
   "metadata": {},
   "source": [
    "# 2 - APIs\n",
    "\n",
    "\n",
    "<br>\n",
    "<br>\n",
    "\n",
    "<img src=\"https://raw.githubusercontent.com/Hack-io-AI/ai_images/main/apis.webp\" style=\"width:400px;\"/>"
   ]
  },
  {
   "cell_type": "markdown",
   "id": "278a9536",
   "metadata": {
    "toc": true
   },
   "source": [
    "<h1>Tabla de Contenidos<span class=\"tocSkip\"></span></h1>\n",
    "<div class=\"toc\"><ul class=\"toc-item\"><li><span><a href=\"#1---¿Qué-es-una-API?\" data-toc-modified-id=\"1---¿Qué-es-una-API?-1\">1 - ¿Qué es una API?</a></span></li><li><span><a href=\"#2---Librería-requests\" data-toc-modified-id=\"2---Librería-requests-2\">2 - Librería requests</a></span></li><li><span><a href=\"#3---ISS-API\" data-toc-modified-id=\"3---ISS-API-3\">3 - <a href=\"https://wheretheiss.at/w/developer\" rel=\"nofollow\" target=\"_blank\">ISS</a> API</a></span></li><li><span><a href=\"#4---Nasa-API\" data-toc-modified-id=\"4---Nasa-API-4\">4 - <a href=\"https://api.nasa.gov/\" rel=\"nofollow\" target=\"_blank\">Nasa</a> API</a></span></li><li><span><a href=\"#5---GitHub-API\" data-toc-modified-id=\"5---GitHub-API-5\">5 - <a href=\"https://docs.github.com/en/rest\" rel=\"nofollow\" target=\"_blank\">GitHub</a> API</a></span></li><li><span><a href=\"#6---PokeAPI\" data-toc-modified-id=\"6---PokeAPI-6\">6 - <a href=\"https://pokeapi.co/\" rel=\"nofollow\" target=\"_blank\">PokeAPI</a></a></span></li><li><span><a href=\"#7---Rick-y-Morty-API\" data-toc-modified-id=\"7---Rick-y-Morty-API-7\">7 - <a href=\"https://rickandmortyapi.com/\" rel=\"nofollow\" target=\"_blank\">Rick y Morty API</a></a></span></li><li><span><a href=\"#8---open-meteo-API\" data-toc-modified-id=\"8---open-meteo-API-8\">8 - <a href=\"https://open-meteo.com/\" rel=\"nofollow\" target=\"_blank\">open-meteo</a> API</a></span></li></ul></div>"
   ]
  },
  {
   "cell_type": "markdown",
   "id": "08dbc50e",
   "metadata": {},
   "source": [
    "## 1 - ¿Qué es una API?"
   ]
  },
  {
   "cell_type": "markdown",
   "id": "9c5323e2",
   "metadata": {},
   "source": [
    "Una API (Application Programming Interface, o Interfaz de Programación de Aplicaciones) es un conjunto de definiciones y protocolos que permiten que diferentes software y aplicaciones se comuniquen entre sí. Las API facilitan la integración de sistemas, permitiendo que las aplicaciones interactúen y compartan datos y funcionalidades de manera eficiente y controlada.\n",
    "\n",
    "\n",
    "**Características principales de una API**\n",
    "\n",
    "1. **Interfaz definida**: Las API especifican cómo las diferentes partes del software deben interactuar. Esto incluye los métodos y los datos que se pueden usar, así como los formatos de los datos.\n",
    "\n",
    "\n",
    "2. **Abstracción**: Proporcionan una capa de abstracción que oculta la complejidad del sistema subyacente, permitiendo a los desarrolladores interactuar con el software de manera más sencilla.\n",
    "\n",
    "\n",
    "3. **Reutilización**: Permiten reutilizar el código existente, facilitando la construcción de nuevas aplicaciones sobre funcionalidades ya desarrolladas.\n",
    "\n",
    "\n",
    "4. **Seguridad**: Controlan y limitan el acceso a ciertas funcionalidades y datos, asegurando que solo los usuarios autorizados puedan interactuar con ellas.\n",
    "\n",
    "\n",
    "<br>\n",
    "\n",
    "**Tipos de API**\n",
    "\n",
    "1. **APIs web**: Permiten la comunicación entre servidores y clientes a través de la web. Utilizan protocolos como HTTP/HTTPS.\n",
    "\n",
    "\n",
    "2. **APIs de sistema operativo**: Permiten que las aplicaciones interactúen con el sistema operativo subyacente.\n",
    "\n",
    "\n",
    "3. **APIs de bibliotecas y frameworks**: Proporcionan acceso a funciones y características específicas de bibliotecas y frameworks de programación.\n",
    "\n",
    "\n",
    "4. **APIs de bases de datos**: Facilitan la interacción con sistemas de bases de datos.\n",
    "\n",
    "<br>\n",
    "\n",
    "**Componentes de una API web**\n",
    "\n",
    "1. **Endpoint**: Una URL específica donde se puede acceder a una función o recurso de la API.\n",
    "\n",
    "\n",
    "2. **Métodos HTTP**: Las acciones que se pueden realizar en los endpoints. Los más comunes son:\n",
    "\n",
    "    + **GET**: Obtener datos de la API.\n",
    "    + **POST**: Enviar datos a la API para crear un nuevo recurso.\n",
    "    + **PUT**: Actualizar un recurso existente.\n",
    "    + **DELETE**: Eliminar un recurso.\n",
    "\n",
    "\n",
    "3. **Headers**: Información adicional enviada junto con las solicitudes o respuestas HTTP, como tokens de autenticación.\n",
    "\n",
    "\n",
    "4. **Body**: El contenido de los datos enviados en una solicitud o respuesta, generalmente en formato JSON o XML.\n",
    "\n",
    "<br>\n",
    "\n",
    "**Beneficios de usar APIs**\n",
    "\n",
    "1. **Interoperabilidad**: Permiten que diferentes sistemas y aplicaciones trabajen juntos sin problemas.\n",
    "\n",
    "\n",
    "2. **Eficiencia**: Facilitan la reutilización de componentes de software, reduciendo el tiempo de desarrollo.\n",
    "\n",
    "\n",
    "3. **Seguridad**: Ofrecen control sobre quién puede acceder a qué datos y funciones.\n",
    "\n",
    "\n",
    "4. **Escalabilidad**: Permiten agregar nuevas funcionalidades y servicios sin afectar la infraestructura existente.\n",
    "\n",
    "\n",
    "<br>\n",
    "\n",
    "<br>\n",
    "\n",
    "<img src=\"https://raw.githubusercontent.com/Hack-io-AI/ai_images/main/how_api_works.webp\" style=\"width:800px;\"/>"
   ]
  },
  {
   "cell_type": "markdown",
   "id": "0a65a44f",
   "metadata": {},
   "source": [
    "## 2 - Librería requests"
   ]
  },
  {
   "cell_type": "markdown",
   "id": "15c623d5",
   "metadata": {},
   "source": [
    "La librería requests es una biblioteca de Python diseñada para simplificar las solicitudes HTTP. Es una de las bibliotecas más populares y ampliamente utilizadas para realizar peticiones HTTP en Python debido a su simplicidad y facilidad de uso. La biblioteca permite enviar solicitudes HTTP/1.1 de manera sencilla, con métodos para manejar peticiones y respuestas de manera eficiente.\n",
    "\n",
    "\n",
    "**Características principales de requests**\n",
    "\n",
    "\n",
    "1. **Simplicidad y facilidad de uso**: Proporciona una interfaz fácil de entender para enviar solicitudes HTTP y manejar las respuestas.\n",
    "\n",
    "\n",
    "2. **Soporte completo para métodos HTTP**: Soporta todos los métodos HTTP estándar como GET, POST, PUT o DELETE.\n",
    "\n",
    "\n",
    "3. **Gestión de sesiones**: Permite mantener sesiones persistentes para enviar múltiples solicitudes a la misma URL.\n",
    "\n",
    "\n",
    "4. **Manejo automático de cookies**: Gestiona automáticamente las cookies recibidas en las respuestas y las envía en solicitudes posteriores.\n",
    "\n",
    "\n",
    "5. **Soporte para JSON**: Facilita el envío y la recepción de datos en formato JSON.\n",
    "\n",
    "\n",
    "6. **Autenticación**: Soporta diversos métodos de autenticación como Basic, Digest o OAuth.\n",
    "\n",
    "\n",
    "7. **Manejo de redirecciones**: Gestiona automáticamente las redirecciones HTTP.\n",
    "\n",
    "\n",
    "8. **Tiempo de espera**: Permite establecer tiempos de espera para las solicitudes.\n",
    "\n",
    "\n",
    "9. **Verificación SSL**: Soporta la verificación de certificados SSL (Secure Shell)."
   ]
  },
  {
   "cell_type": "markdown",
   "id": "62bf5a45",
   "metadata": {},
   "source": [
    "Para instalar esta librería es necesario ejecutar el siguiente comando por terminal:\n",
    "\n",
    "```bash\n",
    "pip install requests\n",
    "```"
   ]
  },
  {
   "cell_type": "markdown",
   "id": "a5281718",
   "metadata": {},
   "source": [
    "## 3 - [ISS](https://wheretheiss.at/w/developer) API"
   ]
  },
  {
   "cell_type": "markdown",
   "id": "53f169e6",
   "metadata": {},
   "source": [
    "Esta API nos da datos de la ISS (Estación Espacial Internacional) en tiempo real. Podemos ver su altitud, su velocidad o su latitud y longitud. Hagamos una llamada a la API para sacar esos datos."
   ]
  },
  {
   "cell_type": "code",
   "execution_count": 1,
   "id": "bbf87624",
   "metadata": {},
   "outputs": [],
   "source": [
    "# importamos requests, el alias es cosa mia\n",
    "\n",
    "import requests as req"
   ]
  },
  {
   "cell_type": "code",
   "execution_count": 2,
   "id": "46bf0358",
   "metadata": {},
   "outputs": [],
   "source": [
    "# url a la que llamamos\n",
    "\n",
    "url = 'https://api.wheretheiss.at/v1/satellites/25544'"
   ]
  },
  {
   "cell_type": "code",
   "execution_count": 3,
   "id": "fdae7e12",
   "metadata": {},
   "outputs": [],
   "source": [
    "# método GET con requests para extraer los datos\n",
    "\n",
    "respuesta = req.get(url=url)"
   ]
  },
  {
   "cell_type": "code",
   "execution_count": 4,
   "id": "846e1ff6",
   "metadata": {},
   "outputs": [
    {
     "data": {
      "text/plain": [
       "<Response [200]>"
      ]
     },
     "execution_count": 4,
     "metadata": {},
     "output_type": "execute_result"
    }
   ],
   "source": [
    "# código de estado\n",
    "\n",
    "respuesta"
   ]
  },
  {
   "cell_type": "code",
   "execution_count": 5,
   "id": "7a8d5989",
   "metadata": {},
   "outputs": [
    {
     "data": {
      "text/plain": [
       "{'name': 'iss',\n",
       " 'id': 25544,\n",
       " 'latitude': 51.736224423588,\n",
       " 'longitude': -174.71980374991,\n",
       " 'altitude': 421.78609665381,\n",
       " 'velocity': 27597.395659291,\n",
       " 'visibility': 'daylight',\n",
       " 'footprint': 4516.5391789845,\n",
       " 'timestamp': 1719932658,\n",
       " 'daynum': 2460494.1279861,\n",
       " 'solar_lat': 22.964803994256,\n",
       " 'solar_lon': 314.97855280711,\n",
       " 'units': 'kilometers'}"
      ]
     },
     "execution_count": 5,
     "metadata": {},
     "output_type": "execute_result"
    }
   ],
   "source": [
    "# extracción del dato en formato JSON\n",
    "\n",
    "respuesta.json()"
   ]
  },
  {
   "cell_type": "markdown",
   "id": "8592b100",
   "metadata": {},
   "source": [
    "Podemos hacer una extracción en bucle para tomar varias posiciones y crear un dataframe de pandas con esos datos. Una vez obtenidos podríamos hacer un gráfico con los datos de posición de la ISS."
   ]
  },
  {
   "cell_type": "code",
   "execution_count": 6,
   "id": "0de6c4af",
   "metadata": {},
   "outputs": [
    {
     "data": {
      "text/html": [
       "<div>\n",
       "<style scoped>\n",
       "    .dataframe tbody tr th:only-of-type {\n",
       "        vertical-align: middle;\n",
       "    }\n",
       "\n",
       "    .dataframe tbody tr th {\n",
       "        vertical-align: top;\n",
       "    }\n",
       "\n",
       "    .dataframe thead th {\n",
       "        text-align: right;\n",
       "    }\n",
       "</style>\n",
       "<table border=\"1\" class=\"dataframe\">\n",
       "  <thead>\n",
       "    <tr style=\"text-align: right;\">\n",
       "      <th></th>\n",
       "      <th>name</th>\n",
       "      <th>id</th>\n",
       "      <th>latitude</th>\n",
       "      <th>longitude</th>\n",
       "      <th>altitude</th>\n",
       "      <th>velocity</th>\n",
       "      <th>visibility</th>\n",
       "      <th>footprint</th>\n",
       "      <th>timestamp</th>\n",
       "      <th>daynum</th>\n",
       "      <th>solar_lat</th>\n",
       "      <th>solar_lon</th>\n",
       "      <th>units</th>\n",
       "    </tr>\n",
       "  </thead>\n",
       "  <tbody>\n",
       "    <tr>\n",
       "      <th>0</th>\n",
       "      <td>iss</td>\n",
       "      <td>25544</td>\n",
       "      <td>51.729523</td>\n",
       "      <td>-174.520256</td>\n",
       "      <td>421.798059</td>\n",
       "      <td>27597.341712</td>\n",
       "      <td>daylight</td>\n",
       "      <td>4516.599886</td>\n",
       "      <td>1719932660</td>\n",
       "      <td>2.460494e+06</td>\n",
       "      <td>22.964802</td>\n",
       "      <td>314.970221</td>\n",
       "      <td>kilometers</td>\n",
       "    </tr>\n",
       "    <tr>\n",
       "      <th>1</th>\n",
       "      <td>iss</td>\n",
       "      <td>25544</td>\n",
       "      <td>51.722454</td>\n",
       "      <td>-174.320772</td>\n",
       "      <td>421.809949</td>\n",
       "      <td>27597.287759</td>\n",
       "      <td>daylight</td>\n",
       "      <td>4516.660230</td>\n",
       "      <td>1719932662</td>\n",
       "      <td>2.460494e+06</td>\n",
       "      <td>22.964800</td>\n",
       "      <td>314.961888</td>\n",
       "      <td>kilometers</td>\n",
       "    </tr>\n",
       "    <tr>\n",
       "      <th>2</th>\n",
       "      <td>iss</td>\n",
       "      <td>25544</td>\n",
       "      <td>51.718782</td>\n",
       "      <td>-174.221055</td>\n",
       "      <td>421.815867</td>\n",
       "      <td>27597.260781</td>\n",
       "      <td>daylight</td>\n",
       "      <td>4516.690265</td>\n",
       "      <td>1719932663</td>\n",
       "      <td>2.460494e+06</td>\n",
       "      <td>22.964799</td>\n",
       "      <td>314.957722</td>\n",
       "      <td>kilometers</td>\n",
       "    </tr>\n",
       "    <tr>\n",
       "      <th>3</th>\n",
       "      <td>iss</td>\n",
       "      <td>25544</td>\n",
       "      <td>51.711163</td>\n",
       "      <td>-174.021670</td>\n",
       "      <td>421.827651</td>\n",
       "      <td>27597.206821</td>\n",
       "      <td>daylight</td>\n",
       "      <td>4516.750063</td>\n",
       "      <td>1719932665</td>\n",
       "      <td>2.460494e+06</td>\n",
       "      <td>22.964798</td>\n",
       "      <td>314.949390</td>\n",
       "      <td>kilometers</td>\n",
       "    </tr>\n",
       "    <tr>\n",
       "      <th>4</th>\n",
       "      <td>iss</td>\n",
       "      <td>25544</td>\n",
       "      <td>51.703177</td>\n",
       "      <td>-173.822360</td>\n",
       "      <td>421.839362</td>\n",
       "      <td>27597.152857</td>\n",
       "      <td>daylight</td>\n",
       "      <td>4516.809496</td>\n",
       "      <td>1719932667</td>\n",
       "      <td>2.460494e+06</td>\n",
       "      <td>22.964796</td>\n",
       "      <td>314.941058</td>\n",
       "      <td>kilometers</td>\n",
       "    </tr>\n",
       "    <tr>\n",
       "      <th>5</th>\n",
       "      <td>iss</td>\n",
       "      <td>25544</td>\n",
       "      <td>51.699047</td>\n",
       "      <td>-173.722733</td>\n",
       "      <td>421.845191</td>\n",
       "      <td>27597.125873</td>\n",
       "      <td>daylight</td>\n",
       "      <td>4516.839076</td>\n",
       "      <td>1719932668</td>\n",
       "      <td>2.460494e+06</td>\n",
       "      <td>22.964795</td>\n",
       "      <td>314.936892</td>\n",
       "      <td>kilometers</td>\n",
       "    </tr>\n",
       "    <tr>\n",
       "      <th>6</th>\n",
       "      <td>iss</td>\n",
       "      <td>25544</td>\n",
       "      <td>51.690512</td>\n",
       "      <td>-173.523538</td>\n",
       "      <td>421.856795</td>\n",
       "      <td>27597.071903</td>\n",
       "      <td>daylight</td>\n",
       "      <td>4516.897963</td>\n",
       "      <td>1719932670</td>\n",
       "      <td>2.460494e+06</td>\n",
       "      <td>22.964793</td>\n",
       "      <td>314.928559</td>\n",
       "      <td>kilometers</td>\n",
       "    </tr>\n",
       "    <tr>\n",
       "      <th>7</th>\n",
       "      <td>iss</td>\n",
       "      <td>25544</td>\n",
       "      <td>51.681611</td>\n",
       "      <td>-173.324420</td>\n",
       "      <td>421.868328</td>\n",
       "      <td>27597.017928</td>\n",
       "      <td>daylight</td>\n",
       "      <td>4516.956486</td>\n",
       "      <td>1719932672</td>\n",
       "      <td>2.460494e+06</td>\n",
       "      <td>22.964791</td>\n",
       "      <td>314.920227</td>\n",
       "      <td>kilometers</td>\n",
       "    </tr>\n",
       "    <tr>\n",
       "      <th>8</th>\n",
       "      <td>iss</td>\n",
       "      <td>25544</td>\n",
       "      <td>51.677023</td>\n",
       "      <td>-173.224894</td>\n",
       "      <td>421.874067</td>\n",
       "      <td>27596.990940</td>\n",
       "      <td>daylight</td>\n",
       "      <td>4516.985610</td>\n",
       "      <td>1719932673</td>\n",
       "      <td>2.460494e+06</td>\n",
       "      <td>22.964790</td>\n",
       "      <td>314.916061</td>\n",
       "      <td>kilometers</td>\n",
       "    </tr>\n",
       "    <tr>\n",
       "      <th>9</th>\n",
       "      <td>iss</td>\n",
       "      <td>25544</td>\n",
       "      <td>51.667574</td>\n",
       "      <td>-173.025906</td>\n",
       "      <td>421.885492</td>\n",
       "      <td>27596.936960</td>\n",
       "      <td>daylight</td>\n",
       "      <td>4517.043585</td>\n",
       "      <td>1719932675</td>\n",
       "      <td>2.460494e+06</td>\n",
       "      <td>22.964788</td>\n",
       "      <td>314.907729</td>\n",
       "      <td>kilometers</td>\n",
       "    </tr>\n",
       "  </tbody>\n",
       "</table>\n",
       "</div>"
      ],
      "text/plain": [
       "  name     id   latitude   longitude    altitude      velocity visibility  \\\n",
       "0  iss  25544  51.729523 -174.520256  421.798059  27597.341712   daylight   \n",
       "1  iss  25544  51.722454 -174.320772  421.809949  27597.287759   daylight   \n",
       "2  iss  25544  51.718782 -174.221055  421.815867  27597.260781   daylight   \n",
       "3  iss  25544  51.711163 -174.021670  421.827651  27597.206821   daylight   \n",
       "4  iss  25544  51.703177 -173.822360  421.839362  27597.152857   daylight   \n",
       "5  iss  25544  51.699047 -173.722733  421.845191  27597.125873   daylight   \n",
       "6  iss  25544  51.690512 -173.523538  421.856795  27597.071903   daylight   \n",
       "7  iss  25544  51.681611 -173.324420  421.868328  27597.017928   daylight   \n",
       "8  iss  25544  51.677023 -173.224894  421.874067  27596.990940   daylight   \n",
       "9  iss  25544  51.667574 -173.025906  421.885492  27596.936960   daylight   \n",
       "\n",
       "     footprint   timestamp        daynum  solar_lat   solar_lon       units  \n",
       "0  4516.599886  1719932660  2.460494e+06  22.964802  314.970221  kilometers  \n",
       "1  4516.660230  1719932662  2.460494e+06  22.964800  314.961888  kilometers  \n",
       "2  4516.690265  1719932663  2.460494e+06  22.964799  314.957722  kilometers  \n",
       "3  4516.750063  1719932665  2.460494e+06  22.964798  314.949390  kilometers  \n",
       "4  4516.809496  1719932667  2.460494e+06  22.964796  314.941058  kilometers  \n",
       "5  4516.839076  1719932668  2.460494e+06  22.964795  314.936892  kilometers  \n",
       "6  4516.897963  1719932670  2.460494e+06  22.964793  314.928559  kilometers  \n",
       "7  4516.956486  1719932672  2.460494e+06  22.964791  314.920227  kilometers  \n",
       "8  4516.985610  1719932673  2.460494e+06  22.964790  314.916061  kilometers  \n",
       "9  4517.043585  1719932675  2.460494e+06  22.964788  314.907729  kilometers  "
      ]
     },
     "execution_count": 6,
     "metadata": {},
     "output_type": "execute_result"
    }
   ],
   "source": [
    "# importamos pandas y time\n",
    "import pandas as pd\n",
    "import time\n",
    "\n",
    "\n",
    "# lista de resultados\n",
    "datos = []\n",
    "\n",
    "\n",
    "# bucle de 10 pasos, _ significa que no usamos esa variable\n",
    "for _ in range(10):\n",
    "    \n",
    "    # método GET con requests para extraer los datos\n",
    "    respuesta = req.get(url=url)\n",
    "    \n",
    "    # guardado de resultado\n",
    "    datos.append(respuesta.json())\n",
    "    \n",
    "    # tiempo de espera de 1 segundo\n",
    "    time.sleep(1)\n",
    "    \n",
    "    \n",
    "\n",
    "# creación del dataframe\n",
    "df = pd.DataFrame(data=datos)\n",
    "\n",
    "\n",
    "# display del dataframe\n",
    "df"
   ]
  },
  {
   "cell_type": "markdown",
   "id": "62f25d69",
   "metadata": {},
   "source": [
    "## 4 - [Nasa](https://api.nasa.gov/) API"
   ]
  },
  {
   "cell_type": "markdown",
   "id": "162bfe8d",
   "metadata": {},
   "source": [
    "El objetivo de este sitio es hacer que los datos de la NASA, incluidas las imágenes, sean eminentemente accesibles para los desarrolladores de aplicaciones. Este catálogo se centra en APIs ampliamente útiles y fáciles de usar, y no contiene todas las APIs de la NASA."
   ]
  },
  {
   "cell_type": "code",
   "execution_count": 7,
   "id": "9c56c384",
   "metadata": {},
   "outputs": [],
   "source": [
    "# url a la que llamamos\n",
    "\n",
    "url = 'https://api.nasa.gov/mars-photos/api/v1/rovers/curiosity/photos?sol=1000&api_key=DEMO_KEY'"
   ]
  },
  {
   "cell_type": "code",
   "execution_count": 8,
   "id": "8ece1184",
   "metadata": {},
   "outputs": [],
   "source": [
    "# método GET con requests para extraer los datos\n",
    "\n",
    "respuesta = req.get(url=url)"
   ]
  },
  {
   "cell_type": "code",
   "execution_count": 9,
   "id": "ab29853a",
   "metadata": {},
   "outputs": [
    {
     "data": {
      "text/plain": [
       "<Response [200]>"
      ]
     },
     "execution_count": 9,
     "metadata": {},
     "output_type": "execute_result"
    }
   ],
   "source": [
    "# código de estado\n",
    "\n",
    "respuesta"
   ]
  },
  {
   "cell_type": "code",
   "execution_count": 10,
   "id": "a28726e4",
   "metadata": {},
   "outputs": [],
   "source": [
    "# búsqueda de una imagen\n",
    "\n",
    "foto = respuesta.json()['photos'][0]['img_src']"
   ]
  },
  {
   "cell_type": "code",
   "execution_count": 11,
   "id": "7e4040d9",
   "metadata": {},
   "outputs": [
    {
     "data": {
      "text/html": [
       "<img src=\"http://mars.jpl.nasa.gov/msl-raw-images/proj/msl/redops/ods/surface/sol/01000/opgs/edr/fcam/FLB_486265257EDR_F0481570FHAZ00323M_.JPG\" width=\"500\"/>"
      ],
      "text/plain": [
       "<IPython.core.display.Image object>"
      ]
     },
     "metadata": {},
     "output_type": "display_data"
    }
   ],
   "source": [
    "# display de la imagen\n",
    "\n",
    "from IPython.display import Image\n",
    "\n",
    "display(Image(url=foto, width=500))"
   ]
  },
  {
   "cell_type": "markdown",
   "id": "fff2f024",
   "metadata": {},
   "source": [
    "## 5 - [GitHub](https://docs.github.com/en/rest) API"
   ]
  },
  {
   "cell_type": "markdown",
   "id": "2f8af4af",
   "metadata": {},
   "source": [
    "La API de GitHub permite interactuar con todas las funcionalidades de GitHub de manera programática. Ofrece una amplia gama de endpoints para gestionar repositorios, usuarios, issues o pull requests. La autenticación se puede realizar mediante tokens de acceso personal, OAuth o autenticación básica, aunque se recomienda usar tokens para mayor seguridad. Con esta API, los desarrolladores pueden automatizar tareas, integrar GitHub con otras aplicaciones y servicios, y obtener datos detallados sobre sus proyectos y colaboradores."
   ]
  },
  {
   "cell_type": "code",
   "execution_count": 12,
   "id": "ac5b5fac",
   "metadata": {},
   "outputs": [],
   "source": [
    "# url a la que llamamos\n",
    "\n",
    "url = 'https://api.github.com/'"
   ]
  },
  {
   "cell_type": "code",
   "execution_count": 13,
   "id": "b8e20042",
   "metadata": {},
   "outputs": [],
   "source": [
    "# método GET con requests para extraer los datos\n",
    "\n",
    "respuesta = req.get(url=url)"
   ]
  },
  {
   "cell_type": "code",
   "execution_count": 14,
   "id": "16edb562",
   "metadata": {},
   "outputs": [
    {
     "data": {
      "text/plain": [
       "<Response [200]>"
      ]
     },
     "execution_count": 14,
     "metadata": {},
     "output_type": "execute_result"
    }
   ],
   "source": [
    "# código de estado\n",
    "\n",
    "respuesta"
   ]
  },
  {
   "cell_type": "code",
   "execution_count": 15,
   "id": "eb2a966a",
   "metadata": {},
   "outputs": [
    {
     "data": {
      "text/plain": [
       "{'current_user_url': 'https://api.github.com/user',\n",
       " 'current_user_authorizations_html_url': 'https://github.com/settings/connections/applications{/client_id}',\n",
       " 'authorizations_url': 'https://api.github.com/authorizations',\n",
       " 'code_search_url': 'https://api.github.com/search/code?q={query}{&page,per_page,sort,order}',\n",
       " 'commit_search_url': 'https://api.github.com/search/commits?q={query}{&page,per_page,sort,order}',\n",
       " 'emails_url': 'https://api.github.com/user/emails',\n",
       " 'emojis_url': 'https://api.github.com/emojis',\n",
       " 'events_url': 'https://api.github.com/events',\n",
       " 'feeds_url': 'https://api.github.com/feeds',\n",
       " 'followers_url': 'https://api.github.com/user/followers',\n",
       " 'following_url': 'https://api.github.com/user/following{/target}',\n",
       " 'gists_url': 'https://api.github.com/gists{/gist_id}',\n",
       " 'hub_url': 'https://api.github.com/hub',\n",
       " 'issue_search_url': 'https://api.github.com/search/issues?q={query}{&page,per_page,sort,order}',\n",
       " 'issues_url': 'https://api.github.com/issues',\n",
       " 'keys_url': 'https://api.github.com/user/keys',\n",
       " 'label_search_url': 'https://api.github.com/search/labels?q={query}&repository_id={repository_id}{&page,per_page}',\n",
       " 'notifications_url': 'https://api.github.com/notifications',\n",
       " 'organization_url': 'https://api.github.com/orgs/{org}',\n",
       " 'organization_repositories_url': 'https://api.github.com/orgs/{org}/repos{?type,page,per_page,sort}',\n",
       " 'organization_teams_url': 'https://api.github.com/orgs/{org}/teams',\n",
       " 'public_gists_url': 'https://api.github.com/gists/public',\n",
       " 'rate_limit_url': 'https://api.github.com/rate_limit',\n",
       " 'repository_url': 'https://api.github.com/repos/{owner}/{repo}',\n",
       " 'repository_search_url': 'https://api.github.com/search/repositories?q={query}{&page,per_page,sort,order}',\n",
       " 'current_user_repositories_url': 'https://api.github.com/user/repos{?type,page,per_page,sort}',\n",
       " 'starred_url': 'https://api.github.com/user/starred{/owner}{/repo}',\n",
       " 'starred_gists_url': 'https://api.github.com/gists/starred',\n",
       " 'topic_search_url': 'https://api.github.com/search/topics?q={query}{&page,per_page}',\n",
       " 'user_url': 'https://api.github.com/users/{user}',\n",
       " 'user_organizations_url': 'https://api.github.com/user/orgs',\n",
       " 'user_repositories_url': 'https://api.github.com/users/{user}/repos{?type,page,per_page,sort}',\n",
       " 'user_search_url': 'https://api.github.com/search/users?q={query}{&page,per_page,sort,order}'}"
      ]
     },
     "execution_count": 15,
     "metadata": {},
     "output_type": "execute_result"
    }
   ],
   "source": [
    "# descripción de endpoints\n",
    "\n",
    "respuesta.json()"
   ]
  },
  {
   "cell_type": "code",
   "execution_count": 16,
   "id": "bcdb6d7e",
   "metadata": {},
   "outputs": [],
   "source": [
    "# ejemplo con un repo\n",
    "\n",
    "url = 'https://api.github.com/repos/YonatanRA/AI_Video_Transcriber'"
   ]
  },
  {
   "cell_type": "code",
   "execution_count": 17,
   "id": "a65c4f94",
   "metadata": {},
   "outputs": [],
   "source": [
    "# método GET con requests para extraer los datos\n",
    "\n",
    "respuesta = req.get(url=url)"
   ]
  },
  {
   "cell_type": "code",
   "execution_count": 18,
   "id": "f06e4159",
   "metadata": {},
   "outputs": [
    {
     "data": {
      "text/plain": [
       "{'id': 792713913,\n",
       " 'node_id': 'R_kgDOLz_auQ',\n",
       " 'name': 'AI_Video_Transcriber',\n",
       " 'full_name': 'YonatanRA/AI_Video_Transcriber',\n",
       " 'private': False,\n",
       " 'owner': {'login': 'YonatanRA',\n",
       "  'id': 47545401,\n",
       "  'node_id': 'MDQ6VXNlcjQ3NTQ1NDAx',\n",
       "  'avatar_url': 'https://avatars.githubusercontent.com/u/47545401?v=4',\n",
       "  'gravatar_id': '',\n",
       "  'url': 'https://api.github.com/users/YonatanRA',\n",
       "  'html_url': 'https://github.com/YonatanRA',\n",
       "  'followers_url': 'https://api.github.com/users/YonatanRA/followers',\n",
       "  'following_url': 'https://api.github.com/users/YonatanRA/following{/other_user}',\n",
       "  'gists_url': 'https://api.github.com/users/YonatanRA/gists{/gist_id}',\n",
       "  'starred_url': 'https://api.github.com/users/YonatanRA/starred{/owner}{/repo}',\n",
       "  'subscriptions_url': 'https://api.github.com/users/YonatanRA/subscriptions',\n",
       "  'organizations_url': 'https://api.github.com/users/YonatanRA/orgs',\n",
       "  'repos_url': 'https://api.github.com/users/YonatanRA/repos',\n",
       "  'events_url': 'https://api.github.com/users/YonatanRA/events{/privacy}',\n",
       "  'received_events_url': 'https://api.github.com/users/YonatanRA/received_events',\n",
       "  'type': 'User',\n",
       "  'site_admin': False},\n",
       " 'html_url': 'https://github.com/YonatanRA/AI_Video_Transcriber',\n",
       " 'description': 'Transcribing video to text for knowledge retrieval',\n",
       " 'fork': False,\n",
       " 'url': 'https://api.github.com/repos/YonatanRA/AI_Video_Transcriber',\n",
       " 'forks_url': 'https://api.github.com/repos/YonatanRA/AI_Video_Transcriber/forks',\n",
       " 'keys_url': 'https://api.github.com/repos/YonatanRA/AI_Video_Transcriber/keys{/key_id}',\n",
       " 'collaborators_url': 'https://api.github.com/repos/YonatanRA/AI_Video_Transcriber/collaborators{/collaborator}',\n",
       " 'teams_url': 'https://api.github.com/repos/YonatanRA/AI_Video_Transcriber/teams',\n",
       " 'hooks_url': 'https://api.github.com/repos/YonatanRA/AI_Video_Transcriber/hooks',\n",
       " 'issue_events_url': 'https://api.github.com/repos/YonatanRA/AI_Video_Transcriber/issues/events{/number}',\n",
       " 'events_url': 'https://api.github.com/repos/YonatanRA/AI_Video_Transcriber/events',\n",
       " 'assignees_url': 'https://api.github.com/repos/YonatanRA/AI_Video_Transcriber/assignees{/user}',\n",
       " 'branches_url': 'https://api.github.com/repos/YonatanRA/AI_Video_Transcriber/branches{/branch}',\n",
       " 'tags_url': 'https://api.github.com/repos/YonatanRA/AI_Video_Transcriber/tags',\n",
       " 'blobs_url': 'https://api.github.com/repos/YonatanRA/AI_Video_Transcriber/git/blobs{/sha}',\n",
       " 'git_tags_url': 'https://api.github.com/repos/YonatanRA/AI_Video_Transcriber/git/tags{/sha}',\n",
       " 'git_refs_url': 'https://api.github.com/repos/YonatanRA/AI_Video_Transcriber/git/refs{/sha}',\n",
       " 'trees_url': 'https://api.github.com/repos/YonatanRA/AI_Video_Transcriber/git/trees{/sha}',\n",
       " 'statuses_url': 'https://api.github.com/repos/YonatanRA/AI_Video_Transcriber/statuses/{sha}',\n",
       " 'languages_url': 'https://api.github.com/repos/YonatanRA/AI_Video_Transcriber/languages',\n",
       " 'stargazers_url': 'https://api.github.com/repos/YonatanRA/AI_Video_Transcriber/stargazers',\n",
       " 'contributors_url': 'https://api.github.com/repos/YonatanRA/AI_Video_Transcriber/contributors',\n",
       " 'subscribers_url': 'https://api.github.com/repos/YonatanRA/AI_Video_Transcriber/subscribers',\n",
       " 'subscription_url': 'https://api.github.com/repos/YonatanRA/AI_Video_Transcriber/subscription',\n",
       " 'commits_url': 'https://api.github.com/repos/YonatanRA/AI_Video_Transcriber/commits{/sha}',\n",
       " 'git_commits_url': 'https://api.github.com/repos/YonatanRA/AI_Video_Transcriber/git/commits{/sha}',\n",
       " 'comments_url': 'https://api.github.com/repos/YonatanRA/AI_Video_Transcriber/comments{/number}',\n",
       " 'issue_comment_url': 'https://api.github.com/repos/YonatanRA/AI_Video_Transcriber/issues/comments{/number}',\n",
       " 'contents_url': 'https://api.github.com/repos/YonatanRA/AI_Video_Transcriber/contents/{+path}',\n",
       " 'compare_url': 'https://api.github.com/repos/YonatanRA/AI_Video_Transcriber/compare/{base}...{head}',\n",
       " 'merges_url': 'https://api.github.com/repos/YonatanRA/AI_Video_Transcriber/merges',\n",
       " 'archive_url': 'https://api.github.com/repos/YonatanRA/AI_Video_Transcriber/{archive_format}{/ref}',\n",
       " 'downloads_url': 'https://api.github.com/repos/YonatanRA/AI_Video_Transcriber/downloads',\n",
       " 'issues_url': 'https://api.github.com/repos/YonatanRA/AI_Video_Transcriber/issues{/number}',\n",
       " 'pulls_url': 'https://api.github.com/repos/YonatanRA/AI_Video_Transcriber/pulls{/number}',\n",
       " 'milestones_url': 'https://api.github.com/repos/YonatanRA/AI_Video_Transcriber/milestones{/number}',\n",
       " 'notifications_url': 'https://api.github.com/repos/YonatanRA/AI_Video_Transcriber/notifications{?since,all,participating}',\n",
       " 'labels_url': 'https://api.github.com/repos/YonatanRA/AI_Video_Transcriber/labels{/name}',\n",
       " 'releases_url': 'https://api.github.com/repos/YonatanRA/AI_Video_Transcriber/releases{/id}',\n",
       " 'deployments_url': 'https://api.github.com/repos/YonatanRA/AI_Video_Transcriber/deployments',\n",
       " 'created_at': '2024-04-27T11:10:15Z',\n",
       " 'updated_at': '2024-04-27T18:19:33Z',\n",
       " 'pushed_at': '2024-04-27T18:19:30Z',\n",
       " 'git_url': 'git://github.com/YonatanRA/AI_Video_Transcriber.git',\n",
       " 'ssh_url': 'git@github.com:YonatanRA/AI_Video_Transcriber.git',\n",
       " 'clone_url': 'https://github.com/YonatanRA/AI_Video_Transcriber.git',\n",
       " 'svn_url': 'https://github.com/YonatanRA/AI_Video_Transcriber',\n",
       " 'homepage': None,\n",
       " 'size': 241,\n",
       " 'stargazers_count': 0,\n",
       " 'watchers_count': 0,\n",
       " 'language': 'Jupyter Notebook',\n",
       " 'has_issues': True,\n",
       " 'has_projects': True,\n",
       " 'has_downloads': True,\n",
       " 'has_wiki': True,\n",
       " 'has_pages': False,\n",
       " 'has_discussions': False,\n",
       " 'forks_count': 0,\n",
       " 'mirror_url': None,\n",
       " 'archived': False,\n",
       " 'disabled': False,\n",
       " 'open_issues_count': 0,\n",
       " 'license': None,\n",
       " 'allow_forking': True,\n",
       " 'is_template': False,\n",
       " 'web_commit_signoff_required': False,\n",
       " 'topics': [],\n",
       " 'visibility': 'public',\n",
       " 'forks': 0,\n",
       " 'open_issues': 0,\n",
       " 'watchers': 0,\n",
       " 'default_branch': 'main',\n",
       " 'temp_clone_token': None,\n",
       " 'network_count': 0,\n",
       " 'subscribers_count': 1}"
      ]
     },
     "execution_count": 18,
     "metadata": {},
     "output_type": "execute_result"
    }
   ],
   "source": [
    "# descripción del repositorio\n",
    "\n",
    "respuesta.json()"
   ]
  },
  {
   "cell_type": "markdown",
   "id": "84cd81ed",
   "metadata": {},
   "source": [
    "A la API de GitHub deberíamos conectarnos usando autenticación, para hacer eso usaremos los `headers` de requests. Primero cargamos nuestro token, el cual podemos obtener en Github, usando `dotenv`, una librería que nos permite cargar variables de entorno en nuestro código. Las variables de entorno en `dotenv` se refieren al uso de archivos `.env` para almacenar variables de entorno que pueden ser cargadas en una aplicación. Estos archivos `.env` contienen pares clave-valor que representan configuraciones y valores sensibles que la aplicación necesita, como claves API o contraseñas de bases de datos. En la API deGitHub esto es necesario para realizar más llamadas a la misma, de no tenerlo nos limitará en número de peticiones que podemos hacer."
   ]
  },
  {
   "cell_type": "code",
   "execution_count": 19,
   "id": "5c1d1d9f",
   "metadata": {},
   "outputs": [],
   "source": [
    "# importamos el token\n",
    "\n",
    "import os                           # librería del sistema operativo\n",
    "from dotenv import load_dotenv      # para carga de las variables de entorno \n",
    "\n",
    "\n",
    "load_dotenv()\n",
    "\n",
    "\n",
    "GITHUB_TOKEN = os.getenv('GITHUB_TOKEN')"
   ]
  },
  {
   "cell_type": "code",
   "execution_count": 20,
   "id": "2800051f",
   "metadata": {},
   "outputs": [],
   "source": [
    "# creación del diccionario headers\n",
    "\n",
    "HEADER={'Authorization': 'token ' + GITHUB_TOKEN}"
   ]
  },
  {
   "cell_type": "code",
   "execution_count": 21,
   "id": "9ae427a2",
   "metadata": {},
   "outputs": [],
   "source": [
    "# método GET con requests para extraer los datos con identificacion\n",
    "\n",
    "respuesta = req.get(url=url, headers=HEADER)"
   ]
  },
  {
   "cell_type": "code",
   "execution_count": 22,
   "id": "52d84ecb",
   "metadata": {},
   "outputs": [
    {
     "data": {
      "text/plain": [
       "<Response [200]>"
      ]
     },
     "execution_count": 22,
     "metadata": {},
     "output_type": "execute_result"
    }
   ],
   "source": [
    "# código de estado\n",
    "\n",
    "respuesta"
   ]
  },
  {
   "cell_type": "markdown",
   "id": "b504ca8c",
   "metadata": {},
   "source": [
    "## 6 - [PokeAPI](https://pokeapi.co/)"
   ]
  },
  {
   "cell_type": "markdown",
   "id": "19237c52",
   "metadata": {},
   "source": [
    "PokeAPI es una API pública y gratuita que proporciona información sobre Pokémon. Está diseñada para ser utilizada por desarrolladores de aplicaciones que desean acceder a datos relacionados con Pokémon de manera programática. PokeAPI ofrece datos detallados sobre diferentes aspectos del universo Pokémon, incluyendo especies, habilidades, movimientos o tipos."
   ]
  },
  {
   "cell_type": "code",
   "execution_count": 23,
   "id": "ae791a3a",
   "metadata": {},
   "outputs": [],
   "source": [
    "# url a la que llamamos\n",
    "\n",
    "url = 'https://pokeapi.co/api/v2/pokemon/pikachu'"
   ]
  },
  {
   "cell_type": "code",
   "execution_count": 24,
   "id": "f21ca721",
   "metadata": {},
   "outputs": [],
   "source": [
    "# método GET con requests para extraer los datos\n",
    "\n",
    "respuesta = req.get(url=url)"
   ]
  },
  {
   "cell_type": "code",
   "execution_count": 25,
   "id": "85a0f179",
   "metadata": {},
   "outputs": [
    {
     "data": {
      "text/plain": [
       "<Response [200]>"
      ]
     },
     "execution_count": 25,
     "metadata": {},
     "output_type": "execute_result"
    }
   ],
   "source": [
    "# código de estado\n",
    "\n",
    "respuesta"
   ]
  },
  {
   "cell_type": "code",
   "execution_count": 26,
   "id": "6034ee2c",
   "metadata": {
    "scrolled": false
   },
   "outputs": [],
   "source": [
    "# extracción del dato en formato JSON\n",
    "\n",
    "datos = respuesta.json()"
   ]
  },
  {
   "cell_type": "code",
   "execution_count": 27,
   "id": "fec1c067",
   "metadata": {},
   "outputs": [
    {
     "data": {
      "text/plain": [
       "dict_keys(['abilities', 'base_experience', 'cries', 'forms', 'game_indices', 'height', 'held_items', 'id', 'is_default', 'location_area_encounters', 'moves', 'name', 'order', 'past_abilities', 'past_types', 'species', 'sprites', 'stats', 'types', 'weight'])"
      ]
     },
     "execution_count": 27,
     "metadata": {},
     "output_type": "execute_result"
    }
   ],
   "source": [
    "# keys del deccionario\n",
    "\n",
    "datos.keys()"
   ]
  },
  {
   "cell_type": "code",
   "execution_count": 28,
   "id": "a7aba7b8",
   "metadata": {},
   "outputs": [
    {
     "data": {
      "text/plain": [
       "[{'ability': {'name': 'static', 'url': 'https://pokeapi.co/api/v2/ability/9/'},\n",
       "  'is_hidden': False,\n",
       "  'slot': 1},\n",
       " {'ability': {'name': 'lightning-rod',\n",
       "   'url': 'https://pokeapi.co/api/v2/ability/31/'},\n",
       "  'is_hidden': True,\n",
       "  'slot': 3}]"
      ]
     },
     "execution_count": 28,
     "metadata": {},
     "output_type": "execute_result"
    }
   ],
   "source": [
    "# habilidades de Pikachu\n",
    "\n",
    "datos['abilities']"
   ]
  },
  {
   "cell_type": "code",
   "execution_count": 29,
   "id": "e8966c22",
   "metadata": {},
   "outputs": [
    {
     "data": {
      "text/html": [
       "<img src=\"https://raw.githubusercontent.com/PokeAPI/sprites/master/sprites/pokemon/other/dream-world/25.svg\" width=\"500\"/>"
      ],
      "text/plain": [
       "<IPython.core.display.Image object>"
      ]
     },
     "metadata": {},
     "output_type": "display_data"
    }
   ],
   "source": [
    "# foto de Pikachu\n",
    "\n",
    "foto = datos['sprites']['other']['dream_world']['front_default']\n",
    "\n",
    "display(Image(url=foto, width=500))"
   ]
  },
  {
   "cell_type": "markdown",
   "id": "e59f4919",
   "metadata": {},
   "source": [
    "## 7 - [Rick y Morty API](https://rickandmortyapi.com/)"
   ]
  },
  {
   "cell_type": "markdown",
   "id": "479ec6fc",
   "metadata": {},
   "source": [
    "La API de Rick and Morty es una API pública y gratuita que permite a los desarrolladores acceder a datos detallados sobre la serie de televisión \"Rick and Morty\". Proporciona información sobre personajes, episodios, lugares y más, facilitando la creación de aplicaciones y herramientas relacionadas con el universo de la serie. Tiene endpoints para información de personajes, datos de episodios e información de lugares."
   ]
  },
  {
   "cell_type": "code",
   "execution_count": 30,
   "id": "b5913cdc",
   "metadata": {},
   "outputs": [],
   "source": [
    "# url a la que llamamos\n",
    "\n",
    "url = 'https://rickandmortyapi.com/api/character/1'"
   ]
  },
  {
   "cell_type": "code",
   "execution_count": 31,
   "id": "207ce616",
   "metadata": {},
   "outputs": [],
   "source": [
    "# método GET con requests para extraer los datos\n",
    "\n",
    "respuesta = req.get(url=url)"
   ]
  },
  {
   "cell_type": "code",
   "execution_count": 32,
   "id": "c8eac0d0",
   "metadata": {},
   "outputs": [
    {
     "data": {
      "text/plain": [
       "<Response [200]>"
      ]
     },
     "execution_count": 32,
     "metadata": {},
     "output_type": "execute_result"
    }
   ],
   "source": [
    "# código de estado\n",
    "\n",
    "respuesta"
   ]
  },
  {
   "cell_type": "code",
   "execution_count": 33,
   "id": "4ba32947",
   "metadata": {},
   "outputs": [
    {
     "data": {
      "text/plain": [
       "{'id': 1,\n",
       " 'name': 'Rick Sanchez',\n",
       " 'status': 'Alive',\n",
       " 'species': 'Human',\n",
       " 'type': '',\n",
       " 'gender': 'Male',\n",
       " 'origin': {'name': 'Earth (C-137)',\n",
       "  'url': 'https://rickandmortyapi.com/api/location/1'},\n",
       " 'location': {'name': 'Citadel of Ricks',\n",
       "  'url': 'https://rickandmortyapi.com/api/location/3'},\n",
       " 'image': 'https://rickandmortyapi.com/api/character/avatar/1.jpeg',\n",
       " 'episode': ['https://rickandmortyapi.com/api/episode/1',\n",
       "  'https://rickandmortyapi.com/api/episode/2',\n",
       "  'https://rickandmortyapi.com/api/episode/3',\n",
       "  'https://rickandmortyapi.com/api/episode/4',\n",
       "  'https://rickandmortyapi.com/api/episode/5',\n",
       "  'https://rickandmortyapi.com/api/episode/6',\n",
       "  'https://rickandmortyapi.com/api/episode/7',\n",
       "  'https://rickandmortyapi.com/api/episode/8',\n",
       "  'https://rickandmortyapi.com/api/episode/9',\n",
       "  'https://rickandmortyapi.com/api/episode/10',\n",
       "  'https://rickandmortyapi.com/api/episode/11',\n",
       "  'https://rickandmortyapi.com/api/episode/12',\n",
       "  'https://rickandmortyapi.com/api/episode/13',\n",
       "  'https://rickandmortyapi.com/api/episode/14',\n",
       "  'https://rickandmortyapi.com/api/episode/15',\n",
       "  'https://rickandmortyapi.com/api/episode/16',\n",
       "  'https://rickandmortyapi.com/api/episode/17',\n",
       "  'https://rickandmortyapi.com/api/episode/18',\n",
       "  'https://rickandmortyapi.com/api/episode/19',\n",
       "  'https://rickandmortyapi.com/api/episode/20',\n",
       "  'https://rickandmortyapi.com/api/episode/21',\n",
       "  'https://rickandmortyapi.com/api/episode/22',\n",
       "  'https://rickandmortyapi.com/api/episode/23',\n",
       "  'https://rickandmortyapi.com/api/episode/24',\n",
       "  'https://rickandmortyapi.com/api/episode/25',\n",
       "  'https://rickandmortyapi.com/api/episode/26',\n",
       "  'https://rickandmortyapi.com/api/episode/27',\n",
       "  'https://rickandmortyapi.com/api/episode/28',\n",
       "  'https://rickandmortyapi.com/api/episode/29',\n",
       "  'https://rickandmortyapi.com/api/episode/30',\n",
       "  'https://rickandmortyapi.com/api/episode/31',\n",
       "  'https://rickandmortyapi.com/api/episode/32',\n",
       "  'https://rickandmortyapi.com/api/episode/33',\n",
       "  'https://rickandmortyapi.com/api/episode/34',\n",
       "  'https://rickandmortyapi.com/api/episode/35',\n",
       "  'https://rickandmortyapi.com/api/episode/36',\n",
       "  'https://rickandmortyapi.com/api/episode/37',\n",
       "  'https://rickandmortyapi.com/api/episode/38',\n",
       "  'https://rickandmortyapi.com/api/episode/39',\n",
       "  'https://rickandmortyapi.com/api/episode/40',\n",
       "  'https://rickandmortyapi.com/api/episode/41',\n",
       "  'https://rickandmortyapi.com/api/episode/42',\n",
       "  'https://rickandmortyapi.com/api/episode/43',\n",
       "  'https://rickandmortyapi.com/api/episode/44',\n",
       "  'https://rickandmortyapi.com/api/episode/45',\n",
       "  'https://rickandmortyapi.com/api/episode/46',\n",
       "  'https://rickandmortyapi.com/api/episode/47',\n",
       "  'https://rickandmortyapi.com/api/episode/48',\n",
       "  'https://rickandmortyapi.com/api/episode/49',\n",
       "  'https://rickandmortyapi.com/api/episode/50',\n",
       "  'https://rickandmortyapi.com/api/episode/51'],\n",
       " 'url': 'https://rickandmortyapi.com/api/character/1',\n",
       " 'created': '2017-11-04T18:48:46.250Z'}"
      ]
     },
     "execution_count": 33,
     "metadata": {},
     "output_type": "execute_result"
    }
   ],
   "source": [
    "# extracción del dato en formato JSON\n",
    "\n",
    "datos = respuesta.json()\n",
    "\n",
    "datos"
   ]
  },
  {
   "cell_type": "code",
   "execution_count": 34,
   "id": "63e944dc",
   "metadata": {},
   "outputs": [
    {
     "data": {
      "text/html": [
       "<img src=\"https://rickandmortyapi.com/api/character/avatar/1.jpeg\" width=\"500\"/>"
      ],
      "text/plain": [
       "<IPython.core.display.Image object>"
      ]
     },
     "metadata": {},
     "output_type": "display_data"
    }
   ],
   "source": [
    "# foto de Rick\n",
    "\n",
    "foto = datos['image']\n",
    "\n",
    "display(Image(url=foto, width=500))"
   ]
  },
  {
   "cell_type": "markdown",
   "id": "5bd56324",
   "metadata": {},
   "source": [
    "## 8 - [open-meteo](https://open-meteo.com/) API"
   ]
  },
  {
   "cell_type": "markdown",
   "id": "4d9084de",
   "metadata": {},
   "source": [
    "Esta API nos devuelve datos climáticos en función de la latitud y la longitud. Uno de los problemas clave de la llamada a una API es la creación de la url de manera correcta, por la cantidad de parámetros que pueda tener. Usaremos la latitud 40.4165 y longitud -3.70256, coordenadas de Madrid. "
   ]
  },
  {
   "cell_type": "code",
   "execution_count": 35,
   "id": "410f99ca",
   "metadata": {},
   "outputs": [
    {
     "data": {
      "text/plain": [
       "dict_keys(['latitude', 'longitude', 'generationtime_ms', 'utc_offset_seconds', 'timezone', 'timezone_abbreviation', 'elevation', 'hourly_units', 'hourly'])"
      ]
     },
     "execution_count": 35,
     "metadata": {},
     "output_type": "execute_result"
    }
   ],
   "source": [
    "# datos históricos de 2021\n",
    "\n",
    "url = 'https://archive-api.open-meteo.com/v1/era5?latitude=40.4165&longitude=-3.70256&start_date=2021-01-01&end_date=2021-12-31&hourly=temperature_2m'\n",
    "\n",
    "respuesta = req.get(url=url)\n",
    "\n",
    "respuesta.json().keys()"
   ]
  },
  {
   "cell_type": "code",
   "execution_count": 36,
   "id": "1e34fed2",
   "metadata": {},
   "outputs": [
    {
     "data": {
      "text/plain": [
       "dict_keys(['latitude', 'longitude', 'generationtime_ms', 'utc_offset_seconds', 'timezone', 'timezone_abbreviation', 'elevation', 'hourly_units', 'hourly'])"
      ]
     },
     "execution_count": 36,
     "metadata": {},
     "output_type": "execute_result"
    }
   ],
   "source": [
    "# últimos 10 dias\n",
    "\n",
    "url = 'https://api.open-meteo.com/v1/forecast?latitude=40.4165&longitude=-3.70256&past_days=10&hourly=temperature_2m,relative_humidity_2m,wind_speed_10m'\n",
    "\n",
    "respuesta = req.get(url=url)\n",
    "\n",
    "respuesta.json().keys()"
   ]
  },
  {
   "cell_type": "code",
   "execution_count": 37,
   "id": "2f8bcbe8",
   "metadata": {},
   "outputs": [
    {
     "data": {
      "text/plain": [
       "dict_keys(['latitude', 'longitude', 'generationtime_ms', 'utc_offset_seconds', 'timezone', 'timezone_abbreviation', 'elevation', 'current_units', 'current', 'hourly_units', 'hourly'])"
      ]
     },
     "execution_count": 37,
     "metadata": {},
     "output_type": "execute_result"
    }
   ],
   "source": [
    "# actual y previsión\n",
    "\n",
    "url = 'https://api.open-meteo.com/v1/forecast?latitude=40.4165&longitude=-3.70256&current=temperature_2m,wind_speed_10m&hourly=temperature_2m,relative_humidity_2m,wind_speed_10m'\n",
    "\n",
    "respuesta = req.get(url=url)\n",
    "\n",
    "respuesta.json().keys()"
   ]
  }
 ],
 "metadata": {
  "kernelspec": {
   "display_name": "ia",
   "language": "python",
   "name": "ia"
  },
  "language_info": {
   "codemirror_mode": {
    "name": "ipython",
    "version": 3
   },
   "file_extension": ".py",
   "mimetype": "text/x-python",
   "name": "python",
   "nbconvert_exporter": "python",
   "pygments_lexer": "ipython3",
   "version": "3.9.19"
  },
  "toc": {
   "base_numbering": 1,
   "nav_menu": {},
   "number_sections": false,
   "sideBar": true,
   "skip_h1_title": true,
   "title_cell": "Tabla de Contenidos",
   "title_sidebar": "Contents",
   "toc_cell": true,
   "toc_position": {
    "height": "684.444px",
    "left": "165px",
    "top": "0px",
    "width": "335.998px"
   },
   "toc_section_display": true,
   "toc_window_display": true
  }
 },
 "nbformat": 4,
 "nbformat_minor": 5
}
