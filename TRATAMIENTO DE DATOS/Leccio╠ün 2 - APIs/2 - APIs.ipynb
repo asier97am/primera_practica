{
 "cells": [
  {
   "cell_type": "markdown",
   "id": "2e166cbe",
   "metadata": {},
   "source": [
    "# 2 - APIs\n",
    "\n",
    "\n",
    "<br>\n",
    "<br>\n",
    "\n",
    "<img src=\"https://raw.githubusercontent.com/Hack-io-AI/ai_images/main/apis.webp\" style=\"width:400px;\"/>"
   ]
  },
  {
   "cell_type": "markdown",
   "id": "278a9536",
   "metadata": {
    "toc": true
   },
   "source": [
    "<h1>Tabla de Contenidos<span class=\"tocSkip\"></span></h1>\n",
    "<div class=\"toc\"><ul class=\"toc-item\"><li><span><a href=\"#1---¿Qué-es-una-API?\" data-toc-modified-id=\"1---¿Qué-es-una-API?-1\">1 - ¿Qué es una API?</a></span></li><li><span><a href=\"#2---Librería-requests\" data-toc-modified-id=\"2---Librería-requests-2\">2 - Librería requests</a></span></li><li><span><a href=\"#3---ISS-API\" data-toc-modified-id=\"3---ISS-API-3\">3 - <a href=\"https://wheretheiss.at/w/developer\" rel=\"nofollow\" target=\"_blank\">ISS</a> API</a></span></li><li><span><a href=\"#4---Nasa-API\" data-toc-modified-id=\"4---Nasa-API-4\">4 - <a href=\"https://api.nasa.gov/\" rel=\"nofollow\" target=\"_blank\">Nasa</a> API</a></span></li><li><span><a href=\"#5---GitHub-API\" data-toc-modified-id=\"5---GitHub-API-5\">5 - <a href=\"https://docs.github.com/en/rest\" rel=\"nofollow\" target=\"_blank\">GitHub</a> API</a></span></li><li><span><a href=\"#6---PokeAPI\" data-toc-modified-id=\"6---PokeAPI-6\">6 - <a href=\"https://pokeapi.co/\" rel=\"nofollow\" target=\"_blank\">PokeAPI</a></a></span></li><li><span><a href=\"#7---Rick-y-Morty-API\" data-toc-modified-id=\"7---Rick-y-Morty-API-7\">7 - <a href=\"https://rickandmortyapi.com/\" rel=\"nofollow\" target=\"_blank\">Rick y Morty API</a></a></span></li><li><span><a href=\"#8---open-meteo-API\" data-toc-modified-id=\"8---open-meteo-API-8\">8 - <a href=\"https://open-meteo.com/\" rel=\"nofollow\" target=\"_blank\">open-meteo</a> API</a></span></li></ul></div>"
   ]
  },
  {
   "cell_type": "markdown",
   "id": "08dbc50e",
   "metadata": {},
   "source": [
    "## 1 - ¿Qué es una API?"
   ]
  },
  {
   "cell_type": "markdown",
   "id": "9c5323e2",
   "metadata": {},
   "source": [
    "Una API (Application Programming Interface, o Interfaz de Programación de Aplicaciones) es un conjunto de definiciones y protocolos que permiten que diferentes software y aplicaciones se comuniquen entre sí. Las API facilitan la integración de sistemas, permitiendo que las aplicaciones interactúen y compartan datos y funcionalidades de manera eficiente y controlada.\n",
    "\n",
    "\n",
    "**Características principales de una API**\n",
    "\n",
    "1. **Interfaz definida**: Las API especifican cómo las diferentes partes del software deben interactuar. Esto incluye los métodos y los datos que se pueden usar, así como los formatos de los datos.\n",
    "\n",
    "\n",
    "2. **Abstracción**: Proporcionan una capa de abstracción que oculta la complejidad del sistema subyacente, permitiendo a los desarrolladores interactuar con el software de manera más sencilla.\n",
    "\n",
    "\n",
    "3. **Reutilización**: Permiten reutilizar el código existente, facilitando la construcción de nuevas aplicaciones sobre funcionalidades ya desarrolladas.\n",
    "\n",
    "\n",
    "4. **Seguridad**: Controlan y limitan el acceso a ciertas funcionalidades y datos, asegurando que solo los usuarios autorizados puedan interactuar con ellas.\n",
    "\n",
    "\n",
    "<br>\n",
    "\n",
    "**Tipos de API**\n",
    "\n",
    "1. **APIs web**: Permiten la comunicación entre servidores y clientes a través de la web. Utilizan protocolos como HTTP/HTTPS.\n",
    "\n",
    "\n",
    "2. **APIs de sistema operativo**: Permiten que las aplicaciones interactúen con el sistema operativo subyacente.\n",
    "\n",
    "\n",
    "3. **APIs de bibliotecas y frameworks**: Proporcionan acceso a funciones y características específicas de bibliotecas y frameworks de programación.\n",
    "\n",
    "\n",
    "4. **APIs de bases de datos**: Facilitan la interacción con sistemas de bases de datos.\n",
    "\n",
    "<br>\n",
    "\n",
    "**Componentes de una API web**\n",
    "\n",
    "1. **Endpoint**: Una URL específica donde se puede acceder a una función o recurso de la API.\n",
    "\n",
    "\n",
    "2. **Métodos HTTP**: Las acciones que se pueden realizar en los endpoints. Los más comunes son:\n",
    "\n",
    "    + **GET**: Obtener datos de la API.\n",
    "    + **POST**: Enviar datos a la API para crear un nuevo recurso.\n",
    "    + **PUT**: Actualizar un recurso existente.\n",
    "    + **DELETE**: Eliminar un recurso.\n",
    "\n",
    "\n",
    "3. **Headers**: Información adicional enviada junto con las solicitudes o respuestas HTTP, como tokens de autenticación.\n",
    "\n",
    "\n",
    "4. **Body**: El contenido de los datos enviados en una solicitud o respuesta, generalmente en formato JSON o XML.\n",
    "\n",
    "<br>\n",
    "\n",
    "**Beneficios de usar APIs**\n",
    "\n",
    "1. **Interoperabilidad**: Permiten que diferentes sistemas y aplicaciones trabajen juntos sin problemas.\n",
    "\n",
    "\n",
    "2. **Eficiencia**: Facilitan la reutilización de componentes de software, reduciendo el tiempo de desarrollo.\n",
    "\n",
    "\n",
    "3. **Seguridad**: Ofrecen control sobre quién puede acceder a qué datos y funciones.\n",
    "\n",
    "\n",
    "4. **Escalabilidad**: Permiten agregar nuevas funcionalidades y servicios sin afectar la infraestructura existente.\n",
    "\n",
    "\n",
    "<br>\n",
    "\n",
    "<br>\n",
    "\n",
    "<img src=\"https://raw.githubusercontent.com/Hack-io-AI/ai_images/main/how_api_works.webp\" style=\"width:800px;\"/>"
   ]
  },
  {
   "cell_type": "markdown",
   "id": "0a65a44f",
   "metadata": {},
   "source": [
    "## 2 - Librería requests"
   ]
  },
  {
   "cell_type": "markdown",
   "id": "15c623d5",
   "metadata": {},
   "source": [
    "La librería requests es una biblioteca de Python diseñada para simplificar las solicitudes HTTP. Es una de las bibliotecas más populares y ampliamente utilizadas para realizar peticiones HTTP en Python debido a su simplicidad y facilidad de uso. La biblioteca permite enviar solicitudes HTTP/1.1 de manera sencilla, con métodos para manejar peticiones y respuestas de manera eficiente.\n",
    "\n",
    "\n",
    "**Características principales de requests**\n",
    "\n",
    "\n",
    "1. **Simplicidad y facilidad de uso**: Proporciona una interfaz fácil de entender para enviar solicitudes HTTP y manejar las respuestas.\n",
    "\n",
    "\n",
    "2. **Soporte completo para métodos HTTP**: Soporta todos los métodos HTTP estándar como GET, POST, PUT o DELETE.\n",
    "\n",
    "\n",
    "3. **Gestión de sesiones**: Permite mantener sesiones persistentes para enviar múltiples solicitudes a la misma URL.\n",
    "\n",
    "\n",
    "4. **Manejo automático de cookies**: Gestiona automáticamente las cookies recibidas en las respuestas y las envía en solicitudes posteriores.\n",
    "\n",
    "\n",
    "5. **Soporte para JSON**: Facilita el envío y la recepción de datos en formato JSON.\n",
    "\n",
    "\n",
    "6. **Autenticación**: Soporta diversos métodos de autenticación como Basic, Digest o OAuth.\n",
    "\n",
    "\n",
    "7. **Manejo de redirecciones**: Gestiona automáticamente las redirecciones HTTP.\n",
    "\n",
    "\n",
    "8. **Tiempo de espera**: Permite establecer tiempos de espera para las solicitudes.\n",
    "\n",
    "\n",
    "9. **Verificación SSL**: Soporta la verificación de certificados SSL (Secure Shell)."
   ]
  },
  {
   "cell_type": "markdown",
   "id": "62bf5a45",
   "metadata": {},
   "source": [
    "Para instalar esta librería es necesario ejecutar el siguiente comando por terminal:\n",
    "\n",
    "```bash\n",
    "pip install requests\n",
    "```"
   ]
  },
  {
   "cell_type": "markdown",
   "id": "a5281718",
   "metadata": {},
   "source": [
    "## 3 - [ISS](https://wheretheiss.at/w/developer) API"
   ]
  },
  {
   "cell_type": "markdown",
   "id": "53f169e6",
   "metadata": {},
   "source": [
    "Esta API nos da datos de la ISS (Estación Espacial Internacional) en tiempo real. Podemos ver su altitud, su velocidad o su latitud y longitud. Hagamos una llamada a la API para sacar esos datos."
   ]
  },
  {
   "cell_type": "code",
   "execution_count": 1,
   "id": "bbf87624",
   "metadata": {},
   "outputs": [],
   "source": [
    "import requests as req"
   ]
  },
  {
   "cell_type": "code",
   "execution_count": 2,
   "id": "46bf0358",
   "metadata": {},
   "outputs": [],
   "source": [
    "url = 'https://api.wheretheiss.at/v1/satellites/25544'"
   ]
  },
  {
   "cell_type": "code",
   "execution_count": 3,
   "id": "fdae7e12",
   "metadata": {},
   "outputs": [],
   "source": [
    "respuesta = req.get(url=url)"
   ]
  },
  {
   "cell_type": "code",
   "execution_count": 4,
   "id": "846e1ff6",
   "metadata": {},
   "outputs": [
    {
     "data": {
      "text/plain": [
       "<Response [200]>"
      ]
     },
     "execution_count": 4,
     "metadata": {},
     "output_type": "execute_result"
    }
   ],
   "source": [
    "respuesta"
   ]
  },
  {
   "cell_type": "code",
   "execution_count": 5,
   "id": "7a8d5989",
   "metadata": {},
   "outputs": [
    {
     "data": {
      "text/plain": [
       "{'name': 'iss',\n",
       " 'id': 25544,\n",
       " 'latitude': 11.966134949378,\n",
       " 'longitude': 11.484682840738,\n",
       " 'altitude': 413.20395895272,\n",
       " 'velocity': 27604.21899479,\n",
       " 'visibility': 'daylight',\n",
       " 'footprint': 4472.7253711616,\n",
       " 'timestamp': 1727263674,\n",
       " 'daynum': 2460578.9777083,\n",
       " 'solar_lat': -1.1499488849934,\n",
       " 'solar_lon': 5.9017988684683,\n",
       " 'units': 'kilometers'}"
      ]
     },
     "execution_count": 5,
     "metadata": {},
     "output_type": "execute_result"
    }
   ],
   "source": [
    "respuesta.json()"
   ]
  },
  {
   "cell_type": "markdown",
   "id": "8592b100",
   "metadata": {},
   "source": [
    "Podemos hacer una extracción en bucle para tomar varias posiciones y crear un dataframe de pandas con esos datos. Una vez obtenidos podríamos hacer un gráfico con los datos de posición de la ISS."
   ]
  },
  {
   "cell_type": "code",
   "execution_count": 6,
   "id": "0de6c4af",
   "metadata": {},
   "outputs": [
    {
     "data": {
      "text/html": [
       "<div>\n",
       "<style scoped>\n",
       "    .dataframe tbody tr th:only-of-type {\n",
       "        vertical-align: middle;\n",
       "    }\n",
       "\n",
       "    .dataframe tbody tr th {\n",
       "        vertical-align: top;\n",
       "    }\n",
       "\n",
       "    .dataframe thead th {\n",
       "        text-align: right;\n",
       "    }\n",
       "</style>\n",
       "<table border=\"1\" class=\"dataframe\">\n",
       "  <thead>\n",
       "    <tr style=\"text-align: right;\">\n",
       "      <th></th>\n",
       "      <th>name</th>\n",
       "      <th>id</th>\n",
       "      <th>latitude</th>\n",
       "      <th>longitude</th>\n",
       "      <th>altitude</th>\n",
       "      <th>velocity</th>\n",
       "      <th>visibility</th>\n",
       "      <th>footprint</th>\n",
       "      <th>timestamp</th>\n",
       "      <th>daynum</th>\n",
       "      <th>solar_lat</th>\n",
       "      <th>solar_lon</th>\n",
       "      <th>units</th>\n",
       "    </tr>\n",
       "  </thead>\n",
       "  <tbody>\n",
       "    <tr>\n",
       "      <th>0</th>\n",
       "      <td>iss</td>\n",
       "      <td>25544</td>\n",
       "      <td>19.914903</td>\n",
       "      <td>17.771937</td>\n",
       "      <td>413.401437</td>\n",
       "      <td>27606.866027</td>\n",
       "      <td>daylight</td>\n",
       "      <td>4473.739415</td>\n",
       "      <td>1727263834</td>\n",
       "      <td>2.460579e+06</td>\n",
       "      <td>-1.150670</td>\n",
       "      <td>5.234973</td>\n",
       "      <td>kilometers</td>\n",
       "    </tr>\n",
       "    <tr>\n",
       "      <th>1</th>\n",
       "      <td>iss</td>\n",
       "      <td>25544</td>\n",
       "      <td>19.963787</td>\n",
       "      <td>17.813130</td>\n",
       "      <td>413.405001</td>\n",
       "      <td>27606.877390</td>\n",
       "      <td>daylight</td>\n",
       "      <td>4473.757713</td>\n",
       "      <td>1727263835</td>\n",
       "      <td>2.460579e+06</td>\n",
       "      <td>-1.150675</td>\n",
       "      <td>5.230805</td>\n",
       "      <td>kilometers</td>\n",
       "    </tr>\n",
       "    <tr>\n",
       "      <th>2</th>\n",
       "      <td>iss</td>\n",
       "      <td>25544</td>\n",
       "      <td>20.061520</td>\n",
       "      <td>17.895600</td>\n",
       "      <td>413.412210</td>\n",
       "      <td>27606.899928</td>\n",
       "      <td>daylight</td>\n",
       "      <td>4473.794724</td>\n",
       "      <td>1727263837</td>\n",
       "      <td>2.460579e+06</td>\n",
       "      <td>-1.150684</td>\n",
       "      <td>5.222470</td>\n",
       "      <td>kilometers</td>\n",
       "    </tr>\n",
       "    <tr>\n",
       "      <th>3</th>\n",
       "      <td>iss</td>\n",
       "      <td>25544</td>\n",
       "      <td>20.159208</td>\n",
       "      <td>17.978184</td>\n",
       "      <td>413.419525</td>\n",
       "      <td>27606.922217</td>\n",
       "      <td>daylight</td>\n",
       "      <td>4473.832284</td>\n",
       "      <td>1727263839</td>\n",
       "      <td>2.460579e+06</td>\n",
       "      <td>-1.150693</td>\n",
       "      <td>5.214134</td>\n",
       "      <td>kilometers</td>\n",
       "    </tr>\n",
       "    <tr>\n",
       "      <th>4</th>\n",
       "      <td>iss</td>\n",
       "      <td>25544</td>\n",
       "      <td>20.208032</td>\n",
       "      <td>18.019517</td>\n",
       "      <td>413.423223</td>\n",
       "      <td>27606.933267</td>\n",
       "      <td>daylight</td>\n",
       "      <td>4473.851270</td>\n",
       "      <td>1727263840</td>\n",
       "      <td>2.460579e+06</td>\n",
       "      <td>-1.150697</td>\n",
       "      <td>5.209967</td>\n",
       "      <td>kilometers</td>\n",
       "    </tr>\n",
       "    <tr>\n",
       "      <th>5</th>\n",
       "      <td>iss</td>\n",
       "      <td>25544</td>\n",
       "      <td>20.305646</td>\n",
       "      <td>18.102269</td>\n",
       "      <td>413.430699</td>\n",
       "      <td>27606.955181</td>\n",
       "      <td>daylight</td>\n",
       "      <td>4473.889651</td>\n",
       "      <td>1727263842</td>\n",
       "      <td>2.460579e+06</td>\n",
       "      <td>-1.150706</td>\n",
       "      <td>5.201631</td>\n",
       "      <td>kilometers</td>\n",
       "    </tr>\n",
       "    <tr>\n",
       "      <th>6</th>\n",
       "      <td>iss</td>\n",
       "      <td>25544</td>\n",
       "      <td>20.354435</td>\n",
       "      <td>18.143688</td>\n",
       "      <td>413.434477</td>\n",
       "      <td>27606.966044</td>\n",
       "      <td>daylight</td>\n",
       "      <td>4473.909047</td>\n",
       "      <td>1727263843</td>\n",
       "      <td>2.460579e+06</td>\n",
       "      <td>-1.150711</td>\n",
       "      <td>5.197464</td>\n",
       "      <td>kilometers</td>\n",
       "    </tr>\n",
       "    <tr>\n",
       "      <th>7</th>\n",
       "      <td>iss</td>\n",
       "      <td>25544</td>\n",
       "      <td>20.451975</td>\n",
       "      <td>18.226611</td>\n",
       "      <td>413.442112</td>\n",
       "      <td>27606.987584</td>\n",
       "      <td>daylight</td>\n",
       "      <td>4473.948245</td>\n",
       "      <td>1727263845</td>\n",
       "      <td>2.460579e+06</td>\n",
       "      <td>-1.150720</td>\n",
       "      <td>5.189129</td>\n",
       "      <td>kilometers</td>\n",
       "    </tr>\n",
       "    <tr>\n",
       "      <th>8</th>\n",
       "      <td>iss</td>\n",
       "      <td>25544</td>\n",
       "      <td>20.549469</td>\n",
       "      <td>18.309651</td>\n",
       "      <td>413.449853</td>\n",
       "      <td>27607.008875</td>\n",
       "      <td>daylight</td>\n",
       "      <td>4473.987987</td>\n",
       "      <td>1727263847</td>\n",
       "      <td>2.460579e+06</td>\n",
       "      <td>-1.150729</td>\n",
       "      <td>5.180793</td>\n",
       "      <td>kilometers</td>\n",
       "    </tr>\n",
       "    <tr>\n",
       "      <th>9</th>\n",
       "      <td>iss</td>\n",
       "      <td>25544</td>\n",
       "      <td>20.646912</td>\n",
       "      <td>18.392806</td>\n",
       "      <td>413.457699</td>\n",
       "      <td>27607.029918</td>\n",
       "      <td>daylight</td>\n",
       "      <td>4474.028270</td>\n",
       "      <td>1727263849</td>\n",
       "      <td>2.460579e+06</td>\n",
       "      <td>-1.150738</td>\n",
       "      <td>5.172458</td>\n",
       "      <td>kilometers</td>\n",
       "    </tr>\n",
       "  </tbody>\n",
       "</table>\n",
       "</div>"
      ],
      "text/plain": [
       "  name     id   latitude  longitude    altitude      velocity visibility  \\\n",
       "0  iss  25544  19.914903  17.771937  413.401437  27606.866027   daylight   \n",
       "1  iss  25544  19.963787  17.813130  413.405001  27606.877390   daylight   \n",
       "2  iss  25544  20.061520  17.895600  413.412210  27606.899928   daylight   \n",
       "3  iss  25544  20.159208  17.978184  413.419525  27606.922217   daylight   \n",
       "4  iss  25544  20.208032  18.019517  413.423223  27606.933267   daylight   \n",
       "5  iss  25544  20.305646  18.102269  413.430699  27606.955181   daylight   \n",
       "6  iss  25544  20.354435  18.143688  413.434477  27606.966044   daylight   \n",
       "7  iss  25544  20.451975  18.226611  413.442112  27606.987584   daylight   \n",
       "8  iss  25544  20.549469  18.309651  413.449853  27607.008875   daylight   \n",
       "9  iss  25544  20.646912  18.392806  413.457699  27607.029918   daylight   \n",
       "\n",
       "     footprint   timestamp        daynum  solar_lat  solar_lon       units  \n",
       "0  4473.739415  1727263834  2.460579e+06  -1.150670   5.234973  kilometers  \n",
       "1  4473.757713  1727263835  2.460579e+06  -1.150675   5.230805  kilometers  \n",
       "2  4473.794724  1727263837  2.460579e+06  -1.150684   5.222470  kilometers  \n",
       "3  4473.832284  1727263839  2.460579e+06  -1.150693   5.214134  kilometers  \n",
       "4  4473.851270  1727263840  2.460579e+06  -1.150697   5.209967  kilometers  \n",
       "5  4473.889651  1727263842  2.460579e+06  -1.150706   5.201631  kilometers  \n",
       "6  4473.909047  1727263843  2.460579e+06  -1.150711   5.197464  kilometers  \n",
       "7  4473.948245  1727263845  2.460579e+06  -1.150720   5.189129  kilometers  \n",
       "8  4473.987987  1727263847  2.460579e+06  -1.150729   5.180793  kilometers  \n",
       "9  4474.028270  1727263849  2.460579e+06  -1.150738   5.172458  kilometers  "
      ]
     },
     "execution_count": 6,
     "metadata": {},
     "output_type": "execute_result"
    }
   ],
   "source": [
    "import pandas as pd\n",
    "import time\n",
    "\n",
    "\n",
    "datos = []\n",
    "\n",
    "\n",
    "for _ in range(10):\n",
    "    \n",
    "    respuesta = req.get(url=url)\n",
    "    \n",
    "    datos.append(respuesta.json())\n",
    "    \n",
    "    time.sleep(1)\n",
    "    \n",
    "    \n",
    "df = pd.DataFrame(data=datos)\n",
    "\n",
    "df"
   ]
  },
  {
   "cell_type": "markdown",
   "id": "62f25d69",
   "metadata": {},
   "source": [
    "## 4 - [Nasa](https://api.nasa.gov/) API"
   ]
  },
  {
   "cell_type": "markdown",
   "id": "162bfe8d",
   "metadata": {},
   "source": [
    "El objetivo de este sitio es hacer que los datos de la NASA, incluidas las imágenes, sean eminentemente accesibles para los desarrolladores de aplicaciones. Este catálogo se centra en APIs ampliamente útiles y fáciles de usar, y no contiene todas las APIs de la NASA."
   ]
  },
  {
   "cell_type": "code",
   "execution_count": 7,
   "id": "9c56c384",
   "metadata": {},
   "outputs": [],
   "source": [
    "url = 'https://api.nasa.gov/mars-photos/api/v1/rovers/curiosity/photos?sol=1000&api_key=DEMO_KEY'"
   ]
  },
  {
   "cell_type": "code",
   "execution_count": 8,
   "id": "8ece1184",
   "metadata": {},
   "outputs": [],
   "source": [
    "respuesta = req.get(url=url)"
   ]
  },
  {
   "cell_type": "code",
   "execution_count": 9,
   "id": "ab29853a",
   "metadata": {},
   "outputs": [
    {
     "data": {
      "text/plain": [
       "<Response [200]>"
      ]
     },
     "execution_count": 9,
     "metadata": {},
     "output_type": "execute_result"
    }
   ],
   "source": [
    "respuesta"
   ]
  },
  {
   "cell_type": "code",
   "execution_count": 14,
   "id": "a28726e4",
   "metadata": {},
   "outputs": [],
   "source": [
    "foto = respuesta.json()['photos'][0]['img_src']"
   ]
  },
  {
   "cell_type": "code",
   "execution_count": 15,
   "id": "7e4040d9",
   "metadata": {},
   "outputs": [
    {
     "data": {
      "text/html": [
       "<img src=\"http://mars.jpl.nasa.gov/msl-raw-images/proj/msl/redops/ods/surface/sol/01000/opgs/edr/fcam/FLB_486265257EDR_F0481570FHAZ00323M_.JPG\" width=\"500\"/>"
      ],
      "text/plain": [
       "<IPython.core.display.Image object>"
      ]
     },
     "metadata": {},
     "output_type": "display_data"
    }
   ],
   "source": [
    "from IPython.display import Image\n",
    "\n",
    "display(Image(url=foto, width=500))"
   ]
  },
  {
   "cell_type": "markdown",
   "id": "fff2f024",
   "metadata": {},
   "source": [
    "## 5 - [GitHub](https://docs.github.com/en/rest) API"
   ]
  },
  {
   "cell_type": "markdown",
   "id": "2f8af4af",
   "metadata": {},
   "source": [
    "La API de GitHub permite interactuar con todas las funcionalidades de GitHub de manera programática. Ofrece una amplia gama de endpoints para gestionar repositorios, usuarios, issues o pull requests. La autenticación se puede realizar mediante tokens de acceso personal, OAuth o autenticación básica, aunque se recomienda usar tokens para mayor seguridad. Con esta API, los desarrolladores pueden automatizar tareas, integrar GitHub con otras aplicaciones y servicios, y obtener datos detallados sobre sus proyectos y colaboradores."
   ]
  },
  {
   "cell_type": "code",
   "execution_count": 16,
   "id": "ac5b5fac",
   "metadata": {},
   "outputs": [],
   "source": [
    "url = 'https://api.github.com'"
   ]
  },
  {
   "cell_type": "code",
   "execution_count": 17,
   "id": "b8e20042",
   "metadata": {},
   "outputs": [],
   "source": [
    "respuesta = req.get(url=url)"
   ]
  },
  {
   "cell_type": "code",
   "execution_count": 18,
   "id": "16edb562",
   "metadata": {},
   "outputs": [
    {
     "data": {
      "text/plain": [
       "<Response [200]>"
      ]
     },
     "execution_count": 18,
     "metadata": {},
     "output_type": "execute_result"
    }
   ],
   "source": [
    "respuesta"
   ]
  },
  {
   "cell_type": "code",
   "execution_count": 19,
   "id": "eb2a966a",
   "metadata": {},
   "outputs": [
    {
     "data": {
      "text/plain": [
       "{'current_user_url': 'https://api.github.com/user',\n",
       " 'current_user_authorizations_html_url': 'https://github.com/settings/connections/applications{/client_id}',\n",
       " 'authorizations_url': 'https://api.github.com/authorizations',\n",
       " 'code_search_url': 'https://api.github.com/search/code?q={query}{&page,per_page,sort,order}',\n",
       " 'commit_search_url': 'https://api.github.com/search/commits?q={query}{&page,per_page,sort,order}',\n",
       " 'emails_url': 'https://api.github.com/user/emails',\n",
       " 'emojis_url': 'https://api.github.com/emojis',\n",
       " 'events_url': 'https://api.github.com/events',\n",
       " 'feeds_url': 'https://api.github.com/feeds',\n",
       " 'followers_url': 'https://api.github.com/user/followers',\n",
       " 'following_url': 'https://api.github.com/user/following{/target}',\n",
       " 'gists_url': 'https://api.github.com/gists{/gist_id}',\n",
       " 'hub_url': 'https://api.github.com/hub',\n",
       " 'issue_search_url': 'https://api.github.com/search/issues?q={query}{&page,per_page,sort,order}',\n",
       " 'issues_url': 'https://api.github.com/issues',\n",
       " 'keys_url': 'https://api.github.com/user/keys',\n",
       " 'label_search_url': 'https://api.github.com/search/labels?q={query}&repository_id={repository_id}{&page,per_page}',\n",
       " 'notifications_url': 'https://api.github.com/notifications',\n",
       " 'organization_url': 'https://api.github.com/orgs/{org}',\n",
       " 'organization_repositories_url': 'https://api.github.com/orgs/{org}/repos{?type,page,per_page,sort}',\n",
       " 'organization_teams_url': 'https://api.github.com/orgs/{org}/teams',\n",
       " 'public_gists_url': 'https://api.github.com/gists/public',\n",
       " 'rate_limit_url': 'https://api.github.com/rate_limit',\n",
       " 'repository_url': 'https://api.github.com/repos/{owner}/{repo}',\n",
       " 'repository_search_url': 'https://api.github.com/search/repositories?q={query}{&page,per_page,sort,order}',\n",
       " 'current_user_repositories_url': 'https://api.github.com/user/repos{?type,page,per_page,sort}',\n",
       " 'starred_url': 'https://api.github.com/user/starred{/owner}{/repo}',\n",
       " 'starred_gists_url': 'https://api.github.com/gists/starred',\n",
       " 'topic_search_url': 'https://api.github.com/search/topics?q={query}{&page,per_page}',\n",
       " 'user_url': 'https://api.github.com/users/{user}',\n",
       " 'user_organizations_url': 'https://api.github.com/user/orgs',\n",
       " 'user_repositories_url': 'https://api.github.com/users/{user}/repos{?type,page,per_page,sort}',\n",
       " 'user_search_url': 'https://api.github.com/search/users?q={query}{&page,per_page,sort,order}'}"
      ]
     },
     "execution_count": 19,
     "metadata": {},
     "output_type": "execute_result"
    }
   ],
   "source": [
    "respuesta.json()"
   ]
  },
  {
   "cell_type": "code",
   "execution_count": 20,
   "id": "bcdb6d7e",
   "metadata": {},
   "outputs": [],
   "source": [
    "url = 'https://api.github.com/repos/YonatanRA/AI_Video_Transcriber'"
   ]
  },
  {
   "cell_type": "code",
   "execution_count": 21,
   "id": "a65c4f94",
   "metadata": {},
   "outputs": [],
   "source": [
    "respuesta = req.get(url=url)"
   ]
  },
  {
   "cell_type": "code",
   "execution_count": 23,
   "id": "f06e4159",
   "metadata": {},
   "outputs": [
    {
     "data": {
      "text/plain": [
       "{'id': 792713913,\n",
       " 'node_id': 'R_kgDOLz_auQ',\n",
       " 'name': 'AI_Video_Transcriber',\n",
       " 'full_name': 'YonatanRA/AI_Video_Transcriber',\n",
       " 'private': False,\n",
       " 'owner': {'login': 'YonatanRA',\n",
       "  'id': 47545401,\n",
       "  'node_id': 'MDQ6VXNlcjQ3NTQ1NDAx',\n",
       "  'avatar_url': 'https://avatars.githubusercontent.com/u/47545401?v=4',\n",
       "  'gravatar_id': '',\n",
       "  'url': 'https://api.github.com/users/YonatanRA',\n",
       "  'html_url': 'https://github.com/YonatanRA',\n",
       "  'followers_url': 'https://api.github.com/users/YonatanRA/followers',\n",
       "  'following_url': 'https://api.github.com/users/YonatanRA/following{/other_user}',\n",
       "  'gists_url': 'https://api.github.com/users/YonatanRA/gists{/gist_id}',\n",
       "  'starred_url': 'https://api.github.com/users/YonatanRA/starred{/owner}{/repo}',\n",
       "  'subscriptions_url': 'https://api.github.com/users/YonatanRA/subscriptions',\n",
       "  'organizations_url': 'https://api.github.com/users/YonatanRA/orgs',\n",
       "  'repos_url': 'https://api.github.com/users/YonatanRA/repos',\n",
       "  'events_url': 'https://api.github.com/users/YonatanRA/events{/privacy}',\n",
       "  'received_events_url': 'https://api.github.com/users/YonatanRA/received_events',\n",
       "  'type': 'User',\n",
       "  'site_admin': False},\n",
       " 'html_url': 'https://github.com/YonatanRA/AI_Video_Transcriber',\n",
       " 'description': 'Transcribing video to text for knowledge retrieval',\n",
       " 'fork': False,\n",
       " 'url': 'https://api.github.com/repos/YonatanRA/AI_Video_Transcriber',\n",
       " 'forks_url': 'https://api.github.com/repos/YonatanRA/AI_Video_Transcriber/forks',\n",
       " 'keys_url': 'https://api.github.com/repos/YonatanRA/AI_Video_Transcriber/keys{/key_id}',\n",
       " 'collaborators_url': 'https://api.github.com/repos/YonatanRA/AI_Video_Transcriber/collaborators{/collaborator}',\n",
       " 'teams_url': 'https://api.github.com/repos/YonatanRA/AI_Video_Transcriber/teams',\n",
       " 'hooks_url': 'https://api.github.com/repos/YonatanRA/AI_Video_Transcriber/hooks',\n",
       " 'issue_events_url': 'https://api.github.com/repos/YonatanRA/AI_Video_Transcriber/issues/events{/number}',\n",
       " 'events_url': 'https://api.github.com/repos/YonatanRA/AI_Video_Transcriber/events',\n",
       " 'assignees_url': 'https://api.github.com/repos/YonatanRA/AI_Video_Transcriber/assignees{/user}',\n",
       " 'branches_url': 'https://api.github.com/repos/YonatanRA/AI_Video_Transcriber/branches{/branch}',\n",
       " 'tags_url': 'https://api.github.com/repos/YonatanRA/AI_Video_Transcriber/tags',\n",
       " 'blobs_url': 'https://api.github.com/repos/YonatanRA/AI_Video_Transcriber/git/blobs{/sha}',\n",
       " 'git_tags_url': 'https://api.github.com/repos/YonatanRA/AI_Video_Transcriber/git/tags{/sha}',\n",
       " 'git_refs_url': 'https://api.github.com/repos/YonatanRA/AI_Video_Transcriber/git/refs{/sha}',\n",
       " 'trees_url': 'https://api.github.com/repos/YonatanRA/AI_Video_Transcriber/git/trees{/sha}',\n",
       " 'statuses_url': 'https://api.github.com/repos/YonatanRA/AI_Video_Transcriber/statuses/{sha}',\n",
       " 'languages_url': 'https://api.github.com/repos/YonatanRA/AI_Video_Transcriber/languages',\n",
       " 'stargazers_url': 'https://api.github.com/repos/YonatanRA/AI_Video_Transcriber/stargazers',\n",
       " 'contributors_url': 'https://api.github.com/repos/YonatanRA/AI_Video_Transcriber/contributors',\n",
       " 'subscribers_url': 'https://api.github.com/repos/YonatanRA/AI_Video_Transcriber/subscribers',\n",
       " 'subscription_url': 'https://api.github.com/repos/YonatanRA/AI_Video_Transcriber/subscription',\n",
       " 'commits_url': 'https://api.github.com/repos/YonatanRA/AI_Video_Transcriber/commits{/sha}',\n",
       " 'git_commits_url': 'https://api.github.com/repos/YonatanRA/AI_Video_Transcriber/git/commits{/sha}',\n",
       " 'comments_url': 'https://api.github.com/repos/YonatanRA/AI_Video_Transcriber/comments{/number}',\n",
       " 'issue_comment_url': 'https://api.github.com/repos/YonatanRA/AI_Video_Transcriber/issues/comments{/number}',\n",
       " 'contents_url': 'https://api.github.com/repos/YonatanRA/AI_Video_Transcriber/contents/{+path}',\n",
       " 'compare_url': 'https://api.github.com/repos/YonatanRA/AI_Video_Transcriber/compare/{base}...{head}',\n",
       " 'merges_url': 'https://api.github.com/repos/YonatanRA/AI_Video_Transcriber/merges',\n",
       " 'archive_url': 'https://api.github.com/repos/YonatanRA/AI_Video_Transcriber/{archive_format}{/ref}',\n",
       " 'downloads_url': 'https://api.github.com/repos/YonatanRA/AI_Video_Transcriber/downloads',\n",
       " 'issues_url': 'https://api.github.com/repos/YonatanRA/AI_Video_Transcriber/issues{/number}',\n",
       " 'pulls_url': 'https://api.github.com/repos/YonatanRA/AI_Video_Transcriber/pulls{/number}',\n",
       " 'milestones_url': 'https://api.github.com/repos/YonatanRA/AI_Video_Transcriber/milestones{/number}',\n",
       " 'notifications_url': 'https://api.github.com/repos/YonatanRA/AI_Video_Transcriber/notifications{?since,all,participating}',\n",
       " 'labels_url': 'https://api.github.com/repos/YonatanRA/AI_Video_Transcriber/labels{/name}',\n",
       " 'releases_url': 'https://api.github.com/repos/YonatanRA/AI_Video_Transcriber/releases{/id}',\n",
       " 'deployments_url': 'https://api.github.com/repos/YonatanRA/AI_Video_Transcriber/deployments',\n",
       " 'created_at': '2024-04-27T11:10:15Z',\n",
       " 'updated_at': '2024-04-27T18:19:33Z',\n",
       " 'pushed_at': '2024-04-27T18:19:30Z',\n",
       " 'git_url': 'git://github.com/YonatanRA/AI_Video_Transcriber.git',\n",
       " 'ssh_url': 'git@github.com:YonatanRA/AI_Video_Transcriber.git',\n",
       " 'clone_url': 'https://github.com/YonatanRA/AI_Video_Transcriber.git',\n",
       " 'svn_url': 'https://github.com/YonatanRA/AI_Video_Transcriber',\n",
       " 'homepage': None,\n",
       " 'size': 241,\n",
       " 'stargazers_count': 0,\n",
       " 'watchers_count': 0,\n",
       " 'language': 'Jupyter Notebook',\n",
       " 'has_issues': True,\n",
       " 'has_projects': True,\n",
       " 'has_downloads': True,\n",
       " 'has_wiki': True,\n",
       " 'has_pages': False,\n",
       " 'has_discussions': False,\n",
       " 'forks_count': 0,\n",
       " 'mirror_url': None,\n",
       " 'archived': False,\n",
       " 'disabled': False,\n",
       " 'open_issues_count': 0,\n",
       " 'license': None,\n",
       " 'allow_forking': True,\n",
       " 'is_template': False,\n",
       " 'web_commit_signoff_required': False,\n",
       " 'topics': [],\n",
       " 'visibility': 'public',\n",
       " 'forks': 0,\n",
       " 'open_issues': 0,\n",
       " 'watchers': 0,\n",
       " 'default_branch': 'main',\n",
       " 'temp_clone_token': None,\n",
       " 'network_count': 0,\n",
       " 'subscribers_count': 1}"
      ]
     },
     "execution_count": 23,
     "metadata": {},
     "output_type": "execute_result"
    }
   ],
   "source": [
    "respuesta.json()"
   ]
  },
  {
   "cell_type": "markdown",
   "id": "84cd81ed",
   "metadata": {},
   "source": [
    "A la API de GitHub deberíamos conectarnos usando autenticación, para hacer eso usaremos los `headers` de requests. Primero cargamos nuestro token, el cual podemos obtener en Github, usando `dotenv`, una librería que nos permite cargar variables de entorno en nuestro código. Las variables de entorno en `dotenv` se refieren al uso de archivos `.env` para almacenar variables de entorno que pueden ser cargadas en una aplicación. Estos archivos `.env` contienen pares clave-valor que representan configuraciones y valores sensibles que la aplicación necesita, como claves API o contraseñas de bases de datos. En la API deGitHub esto es necesario para realizar más llamadas a la misma, de no tenerlo nos limitará en número de peticiones que podemos hacer."
   ]
  },
  {
   "cell_type": "code",
   "execution_count": 25,
   "id": "5c1d1d9f",
   "metadata": {},
   "outputs": [],
   "source": [
    "import os\n",
    "from dotenv import load_dotenv\n",
    "\n",
    "\n",
    "load_dotenv()\n",
    "\n",
    "\n",
    "GITHUB_TOKEN = os.getenv('GITHUB_TOKEN')"
   ]
  },
  {
   "cell_type": "code",
   "execution_count": 27,
   "id": "2800051f",
   "metadata": {},
   "outputs": [],
   "source": [
    "HEADER = {'Authorization': 'token ' + GITHUB_TOKEN}"
   ]
  },
  {
   "cell_type": "code",
   "execution_count": 28,
   "id": "9ae427a2",
   "metadata": {},
   "outputs": [],
   "source": [
    "respuesta = req.get(url=url, headers=HEADER)"
   ]
  },
  {
   "cell_type": "code",
   "execution_count": 29,
   "id": "52d84ecb",
   "metadata": {},
   "outputs": [
    {
     "data": {
      "text/plain": [
       "<Response [200]>"
      ]
     },
     "execution_count": 29,
     "metadata": {},
     "output_type": "execute_result"
    }
   ],
   "source": [
    "respuesta"
   ]
  },
  {
   "cell_type": "markdown",
   "id": "b504ca8c",
   "metadata": {},
   "source": [
    "## 6 - [PokeAPI](https://pokeapi.co/)"
   ]
  },
  {
   "cell_type": "markdown",
   "id": "19237c52",
   "metadata": {},
   "source": [
    "PokeAPI es una API pública y gratuita que proporciona información sobre Pokémon. Está diseñada para ser utilizada por desarrolladores de aplicaciones que desean acceder a datos relacionados con Pokémon de manera programática. PokeAPI ofrece datos detallados sobre diferentes aspectos del universo Pokémon, incluyendo especies, habilidades, movimientos o tipos."
   ]
  },
  {
   "cell_type": "code",
   "execution_count": 30,
   "id": "ae791a3a",
   "metadata": {},
   "outputs": [],
   "source": [
    "url = 'https://pokeapi.co/api/v2/pokemon/pikachu'"
   ]
  },
  {
   "cell_type": "code",
   "execution_count": 31,
   "id": "f21ca721",
   "metadata": {},
   "outputs": [],
   "source": [
    "respuesta = req.get(url=url)"
   ]
  },
  {
   "cell_type": "code",
   "execution_count": 32,
   "id": "85a0f179",
   "metadata": {},
   "outputs": [
    {
     "data": {
      "text/plain": [
       "<Response [200]>"
      ]
     },
     "execution_count": 32,
     "metadata": {},
     "output_type": "execute_result"
    }
   ],
   "source": [
    "respuesta"
   ]
  },
  {
   "cell_type": "code",
   "execution_count": 34,
   "id": "6034ee2c",
   "metadata": {
    "scrolled": false
   },
   "outputs": [],
   "source": [
    "datos = respuesta.json()"
   ]
  },
  {
   "cell_type": "code",
   "execution_count": 35,
   "id": "fec1c067",
   "metadata": {},
   "outputs": [
    {
     "data": {
      "text/plain": [
       "dict_keys(['abilities', 'base_experience', 'cries', 'forms', 'game_indices', 'height', 'held_items', 'id', 'is_default', 'location_area_encounters', 'moves', 'name', 'order', 'past_abilities', 'past_types', 'species', 'sprites', 'stats', 'types', 'weight'])"
      ]
     },
     "execution_count": 35,
     "metadata": {},
     "output_type": "execute_result"
    }
   ],
   "source": [
    "datos.keys()"
   ]
  },
  {
   "cell_type": "code",
   "execution_count": 36,
   "id": "a7aba7b8",
   "metadata": {},
   "outputs": [
    {
     "data": {
      "text/plain": [
       "[{'ability': {'name': 'static', 'url': 'https://pokeapi.co/api/v2/ability/9/'},\n",
       "  'is_hidden': False,\n",
       "  'slot': 1},\n",
       " {'ability': {'name': 'lightning-rod',\n",
       "   'url': 'https://pokeapi.co/api/v2/ability/31/'},\n",
       "  'is_hidden': True,\n",
       "  'slot': 3}]"
      ]
     },
     "execution_count": 36,
     "metadata": {},
     "output_type": "execute_result"
    }
   ],
   "source": [
    "datos['abilities']"
   ]
  },
  {
   "cell_type": "code",
   "execution_count": 42,
   "id": "e8966c22",
   "metadata": {},
   "outputs": [
    {
     "data": {
      "text/html": [
       "<img src=\"https://raw.githubusercontent.com/PokeAPI/sprites/master/sprites/pokemon/other/dream-world/25.svg\" width=\"500\"/>"
      ],
      "text/plain": [
       "<IPython.core.display.Image object>"
      ]
     },
     "metadata": {},
     "output_type": "display_data"
    }
   ],
   "source": [
    "foto = datos['sprites']['other']['dream_world']['front_default']\n",
    "\n",
    "display(Image(url=foto, width=500))"
   ]
  },
  {
   "cell_type": "markdown",
   "id": "e59f4919",
   "metadata": {},
   "source": [
    "## 7 - [Rick y Morty API](https://rickandmortyapi.com/)"
   ]
  },
  {
   "cell_type": "markdown",
   "id": "479ec6fc",
   "metadata": {},
   "source": [
    "La API de Rick and Morty es una API pública y gratuita que permite a los desarrolladores acceder a datos detallados sobre la serie de televisión \"Rick and Morty\". Proporciona información sobre personajes, episodios, lugares y más, facilitando la creación de aplicaciones y herramientas relacionadas con el universo de la serie. Tiene endpoints para información de personajes, datos de episodios e información de lugares."
   ]
  },
  {
   "cell_type": "code",
   "execution_count": 43,
   "id": "b5913cdc",
   "metadata": {},
   "outputs": [],
   "source": [
    "url = 'https://rickandmortyapi.com/api/character/1'"
   ]
  },
  {
   "cell_type": "code",
   "execution_count": 44,
   "id": "207ce616",
   "metadata": {},
   "outputs": [],
   "source": [
    "respuesta = req.get(url=url)"
   ]
  },
  {
   "cell_type": "code",
   "execution_count": 45,
   "id": "c8eac0d0",
   "metadata": {},
   "outputs": [
    {
     "data": {
      "text/plain": [
       "<Response [200]>"
      ]
     },
     "execution_count": 45,
     "metadata": {},
     "output_type": "execute_result"
    }
   ],
   "source": [
    "respuesta"
   ]
  },
  {
   "cell_type": "code",
   "execution_count": 47,
   "id": "4ba32947",
   "metadata": {},
   "outputs": [],
   "source": [
    "datos = respuesta.json()"
   ]
  },
  {
   "cell_type": "code",
   "execution_count": 49,
   "id": "63e944dc",
   "metadata": {},
   "outputs": [
    {
     "data": {
      "text/html": [
       "<img src=\"https://rickandmortyapi.com/api/character/avatar/1.jpeg\" width=\"500\"/>"
      ],
      "text/plain": [
       "<IPython.core.display.Image object>"
      ]
     },
     "metadata": {},
     "output_type": "display_data"
    }
   ],
   "source": [
    "foto = datos['image']\n",
    "\n",
    "display(Image(url=foto, width=500))"
   ]
  },
  {
   "cell_type": "markdown",
   "id": "5bd56324",
   "metadata": {},
   "source": [
    "## 8 - [open-meteo](https://open-meteo.com/) API"
   ]
  },
  {
   "cell_type": "markdown",
   "id": "4d9084de",
   "metadata": {},
   "source": [
    "Esta API nos devuelve datos climáticos en función de la latitud y la longitud. Uno de los problemas clave de la llamada a una API es la creación de la url de manera correcta, por la cantidad de parámetros que pueda tener. Usaremos la latitud 40.4165 y longitud -3.70256, coordenadas de Madrid. "
   ]
  },
  {
   "cell_type": "code",
   "execution_count": 53,
   "id": "410f99ca",
   "metadata": {},
   "outputs": [
    {
     "data": {
      "text/plain": [
       "dict_keys(['latitude', 'longitude', 'generationtime_ms', 'utc_offset_seconds', 'timezone', 'timezone_abbreviation', 'elevation', 'hourly_units', 'hourly'])"
      ]
     },
     "execution_count": 53,
     "metadata": {},
     "output_type": "execute_result"
    }
   ],
   "source": [
    "url = 'https://archive-api.open-meteo.com/v1/era5?latitude=40.4165&longitude=-3.70256&past_days=10&hourly=temperature_2m,relative_humidity_2m,wind_speed_10m'\n",
    "\n",
    "\n",
    "respuesta = req.get(url=url)\n",
    "\n",
    "\n",
    "respuesta.json().keys()"
   ]
  },
  {
   "cell_type": "code",
   "execution_count": 54,
   "id": "1e34fed2",
   "metadata": {},
   "outputs": [
    {
     "data": {
      "text/plain": [
       "dict_keys(['latitude', 'longitude', 'generationtime_ms', 'utc_offset_seconds', 'timezone', 'timezone_abbreviation', 'elevation', 'hourly_units', 'hourly'])"
      ]
     },
     "execution_count": 54,
     "metadata": {},
     "output_type": "execute_result"
    }
   ],
   "source": [
    "url ='https://archive-api.open-meteo.com/v1/era5?latitude=52.52&longitude=13.41&start_date=2021-01-01&end_date=2021-12-31&hourly=temperature_2m'\n",
    "\n",
    "\n",
    "respuesta = req.get(url=url)\n",
    "\n",
    "\n",
    "respuesta.json().keys()"
   ]
  },
  {
   "cell_type": "code",
   "execution_count": 55,
   "id": "2f8bcbe8",
   "metadata": {},
   "outputs": [
    {
     "data": {
      "text/html": [
       "<div>\n",
       "<style scoped>\n",
       "    .dataframe tbody tr th:only-of-type {\n",
       "        vertical-align: middle;\n",
       "    }\n",
       "\n",
       "    .dataframe tbody tr th {\n",
       "        vertical-align: top;\n",
       "    }\n",
       "\n",
       "    .dataframe thead th {\n",
       "        text-align: right;\n",
       "    }\n",
       "</style>\n",
       "<table border=\"1\" class=\"dataframe\">\n",
       "  <thead>\n",
       "    <tr style=\"text-align: right;\">\n",
       "      <th></th>\n",
       "      <th>latitude</th>\n",
       "      <th>longitude</th>\n",
       "      <th>generationtime_ms</th>\n",
       "      <th>utc_offset_seconds</th>\n",
       "      <th>timezone</th>\n",
       "      <th>timezone_abbreviation</th>\n",
       "      <th>elevation</th>\n",
       "      <th>hourly_units</th>\n",
       "      <th>hourly</th>\n",
       "    </tr>\n",
       "  </thead>\n",
       "  <tbody>\n",
       "    <tr>\n",
       "      <th>time</th>\n",
       "      <td>52.54833</td>\n",
       "      <td>13.407822</td>\n",
       "      <td>0.172019</td>\n",
       "      <td>0</td>\n",
       "      <td>GMT</td>\n",
       "      <td>GMT</td>\n",
       "      <td>38.0</td>\n",
       "      <td>iso8601</td>\n",
       "      <td>[2021-01-01T00:00, 2021-01-01T01:00, 2021-01-0...</td>\n",
       "    </tr>\n",
       "    <tr>\n",
       "      <th>temperature_2m</th>\n",
       "      <td>52.54833</td>\n",
       "      <td>13.407822</td>\n",
       "      <td>0.172019</td>\n",
       "      <td>0</td>\n",
       "      <td>GMT</td>\n",
       "      <td>GMT</td>\n",
       "      <td>38.0</td>\n",
       "      <td>°C</td>\n",
       "      <td>[0.6, 0.6, 0.2, 0.7, 0.8, 0.2, -0.7, -0.1, 0.3...</td>\n",
       "    </tr>\n",
       "  </tbody>\n",
       "</table>\n",
       "</div>"
      ],
      "text/plain": [
       "                latitude  longitude  generationtime_ms  utc_offset_seconds  \\\n",
       "time            52.54833  13.407822           0.172019                   0   \n",
       "temperature_2m  52.54833  13.407822           0.172019                   0   \n",
       "\n",
       "               timezone timezone_abbreviation  elevation hourly_units  \\\n",
       "time                GMT                   GMT       38.0      iso8601   \n",
       "temperature_2m      GMT                   GMT       38.0           °C   \n",
       "\n",
       "                                                           hourly  \n",
       "time            [2021-01-01T00:00, 2021-01-01T01:00, 2021-01-0...  \n",
       "temperature_2m  [0.6, 0.6, 0.2, 0.7, 0.8, 0.2, -0.7, -0.1, 0.3...  "
      ]
     },
     "execution_count": 55,
     "metadata": {},
     "output_type": "execute_result"
    }
   ],
   "source": [
    "pd.DataFrame(respuesta.json())"
   ]
  },
  {
   "cell_type": "code",
   "execution_count": null,
   "id": "894892c6",
   "metadata": {},
   "outputs": [],
   "source": []
  },
  {
   "cell_type": "code",
   "execution_count": null,
   "id": "e7528fae",
   "metadata": {},
   "outputs": [],
   "source": []
  },
  {
   "cell_type": "code",
   "execution_count": null,
   "id": "0663735f",
   "metadata": {},
   "outputs": [],
   "source": []
  },
  {
   "cell_type": "code",
   "execution_count": null,
   "id": "174fbb34",
   "metadata": {},
   "outputs": [],
   "source": []
  },
  {
   "cell_type": "code",
   "execution_count": null,
   "id": "d2e7d3ba",
   "metadata": {},
   "outputs": [],
   "source": []
  }
 ],
 "metadata": {
  "kernelspec": {
   "display_name": "ia",
   "language": "python",
   "name": "ia"
  },
  "language_info": {
   "codemirror_mode": {
    "name": "ipython",
    "version": 3
   },
   "file_extension": ".py",
   "mimetype": "text/x-python",
   "name": "python",
   "nbconvert_exporter": "python",
   "pygments_lexer": "ipython3",
   "version": "3.9.19"
  },
  "toc": {
   "base_numbering": 1,
   "nav_menu": {},
   "number_sections": false,
   "sideBar": true,
   "skip_h1_title": true,
   "title_cell": "Tabla de Contenidos",
   "title_sidebar": "Contents",
   "toc_cell": true,
   "toc_position": {
    "height": "684.444px",
    "left": "165px",
    "top": "0px",
    "width": "282.873px"
   },
   "toc_section_display": true,
   "toc_window_display": true
  }
 },
 "nbformat": 4,
 "nbformat_minor": 5
}
