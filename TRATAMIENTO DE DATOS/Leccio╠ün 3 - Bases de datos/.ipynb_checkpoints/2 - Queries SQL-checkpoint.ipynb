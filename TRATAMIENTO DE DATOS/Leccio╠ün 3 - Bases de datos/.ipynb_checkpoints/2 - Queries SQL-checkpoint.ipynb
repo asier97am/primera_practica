{
 "cells": [
  {
   "cell_type": "markdown",
   "id": "f0ceac5e",
   "metadata": {},
   "source": [
    "# 2 - Queries SQL\n",
    "\n",
    "\n",
    "<br>\n",
    "<br>\n",
    "\n",
    "<img src=\"https://raw.githubusercontent.com/Hack-io-AI/ai_images/main/queries_sql.webp\" style=\"width:400px;\"/>"
   ]
  },
  {
   "cell_type": "markdown",
   "id": "60df940e",
   "metadata": {
    "toc": true
   },
   "source": [
    "<h1>Tabla de Contenidos<span class=\"tocSkip\"></span></h1>\n",
    "<div class=\"toc\"><ul class=\"toc-item\"><li><span><a href=\"#1---Sublenguajes-de-SQL\" data-toc-modified-id=\"1---Sublenguajes-de-SQL-1\">1 - Sublenguajes de SQL</a></span></li><li><span><a href=\"#2---Tipos-de-datos-es-SQL\" data-toc-modified-id=\"2---Tipos-de-datos-es-SQL-2\">2 - Tipos de datos es SQL</a></span><ul class=\"toc-item\"><li><span><a href=\"#2.1---char/varchar\" data-toc-modified-id=\"2.1---char/varchar-2.1\">2.1 - char/varchar</a></span></li><li><span><a href=\"#2.2---Datos-numéricos\" data-toc-modified-id=\"2.2---Datos-numéricos-2.2\">2.2 - Datos numéricos</a></span></li><li><span><a href=\"#2.3---Datos-temporales\" data-toc-modified-id=\"2.3---Datos-temporales-2.3\">2.3 - Datos temporales</a></span></li></ul></li><li><span><a href=\"#3---Buenas-prácticas\" data-toc-modified-id=\"3---Buenas-prácticas-3\">3 - Buenas prácticas</a></span></li><li><span><a href=\"#4---Queries-de-SQL\" data-toc-modified-id=\"4---Queries-de-SQL-4\">4 - Queries de SQL</a></span><ul class=\"toc-item\"><li><span><a href=\"#4.1---SELECT-y-FROM\" data-toc-modified-id=\"4.1---SELECT-y-FROM-4.1\">4.1 - SELECT y FROM</a></span></li><li><span><a href=\"#4.2---AS-(Alias)\" data-toc-modified-id=\"4.2---AS-(Alias)-4.2\">4.2 - AS (Alias)</a></span></li><li><span><a href=\"#4.3---WHERE\" data-toc-modified-id=\"4.3---WHERE-4.3\">4.3 - WHERE</a></span></li><li><span><a href=\"#4.4---Funciones-de-agregación\" data-toc-modified-id=\"4.4---Funciones-de-agregación-4.4\">4.4 - Funciones de agregación</a></span><ul class=\"toc-item\"><li><span><a href=\"#4.4.1---COUNT\" data-toc-modified-id=\"4.4.1---COUNT-4.4.1\">4.4.1 - COUNT</a></span></li><li><span><a href=\"#4.4.2---SUM\" data-toc-modified-id=\"4.4.2---SUM-4.4.2\">4.4.2 - SUM</a></span></li><li><span><a href=\"#4.4.3---AVG\" data-toc-modified-id=\"4.4.3---AVG-4.4.3\">4.4.3 - AVG</a></span></li><li><span><a href=\"#4.4.4---MIN\" data-toc-modified-id=\"4.4.4---MIN-4.4.4\">4.4.4 - MIN</a></span></li><li><span><a href=\"#4.4.5---MAX\" data-toc-modified-id=\"4.4.5---MAX-4.4.5\">4.4.5 - MAX</a></span></li></ul></li><li><span><a href=\"#4.5---GROUP-BY\" data-toc-modified-id=\"4.5---GROUP-BY-4.5\">4.5 - GROUP BY</a></span></li><li><span><a href=\"#4.6---HAVING\" data-toc-modified-id=\"4.6---HAVING-4.6\">4.6 - HAVING</a></span></li><li><span><a href=\"#4.7---ORDER-BY\" data-toc-modified-id=\"4.7---ORDER-BY-4.7\">4.7 - ORDER BY</a></span></li><li><span><a href=\"#4.8---LIMIT\" data-toc-modified-id=\"4.8---LIMIT-4.8\">4.8 - LIMIT</a></span></li></ul></li><li><span><a href=\"#5---Orden-de-ejecución-de-las-quieries\" data-toc-modified-id=\"5---Orden-de-ejecución-de-las-quieries-5\">5 - Orden de ejecución de las quieries</a></span></li><li><span><a href=\"#6---JOIN\" data-toc-modified-id=\"6---JOIN-6\">6 - JOIN</a></span><ul class=\"toc-item\"><li><span><a href=\"#6.1---INNER-JOIN\" data-toc-modified-id=\"6.1---INNER-JOIN-6.1\">6.1 - INNER JOIN</a></span></li><li><span><a href=\"#6.2---LEFT-JOIN\" data-toc-modified-id=\"6.2---LEFT-JOIN-6.2\">6.2 - LEFT JOIN</a></span></li><li><span><a href=\"#6.3---RIGHT-JOIN\" data-toc-modified-id=\"6.3---RIGHT-JOIN-6.3\">6.3 - RIGHT JOIN</a></span></li></ul></li><li><span><a href=\"#7---Subqueries\" data-toc-modified-id=\"7---Subqueries-7\">7 - Subqueries</a></span></li><li><span><a href=\"#8---Creación-de-tablas\" data-toc-modified-id=\"8---Creación-de-tablas-8\">8 - Creación de tablas</a></span><ul class=\"toc-item\"><li><span><a href=\"#8.1---CREATE\" data-toc-modified-id=\"8.1---CREATE-8.1\">8.1 - CREATE</a></span></li><li><span><a href=\"#8.2---Tabla-permanente-desde-SELECT\" data-toc-modified-id=\"8.2---Tabla-permanente-desde-SELECT-8.2\">8.2 - Tabla permanente desde SELECT</a></span></li><li><span><a href=\"#8.3---Tabla-temporal\" data-toc-modified-id=\"8.3---Tabla-temporal-8.3\">8.3 - Tabla temporal</a></span></li><li><span><a href=\"#8.4---Vista\" data-toc-modified-id=\"8.4---Vista-8.4\">8.4 - Vista</a></span></li></ul></li><li><span><a href=\"#9---Crear-relaciones-entre-tablas\" data-toc-modified-id=\"9---Crear-relaciones-entre-tablas-9\">9 - Crear relaciones entre tablas</a></span></li><li><span><a href=\"#10---Crear-base-de-datos\" data-toc-modified-id=\"10---Crear-base-de-datos-10\">10 - Crear base de datos</a></span></li><li><span><a href=\"#11---INSERT\" data-toc-modified-id=\"11---INSERT-11\">11 - INSERT</a></span></li><li><span><a href=\"#12---UPDATE\" data-toc-modified-id=\"12---UPDATE-12\">12 - UPDATE</a></span></li><li><span><a href=\"#13---DELETE\" data-toc-modified-id=\"13---DELETE-13\">13 - DELETE</a></span></li><li><span><a href=\"#14---DROP\" data-toc-modified-id=\"14---DROP-14\">14 - DROP</a></span></li></ul></div>"
   ]
  },
  {
   "cell_type": "markdown",
   "id": "d016bd4e",
   "metadata": {},
   "source": [
    "## 1 - Sublenguajes de SQL"
   ]
  },
  {
   "cell_type": "markdown",
   "id": "6b1b9cbd",
   "metadata": {},
   "source": [
    "SQL (Structured Query Language) se compone de varios sublenguajes que facilitan diferentes aspectos de la gestión y manipulación de bases de datos. Estos sublenguajes permiten a los usuarios definir estructuras de datos, manipular datos, controlar el acceso a los datos y administrar el sistema de bases de datos. Los principales sublenguajes de SQL son:\n",
    "\n",
    "\n",
    "\n",
    "+ **Data Definition Language (DDL)** : se refiere a la parte del lenguaje que utilizamos para definir las estructuras para el almacenamiento de los datos. \n",
    "\n",
    "    + **CREATE**: Utilizado para crear nuevas tablas, campos e índices.\n",
    "\n",
    "    + **ALTER**: Utilizado para modificar las tablas agregando campos o cambiando la definición de los campos.\n",
    "\n",
    "    + **DROP**: Empleado para eliminar tablas e índices.\n",
    "\n",
    "    + **TRUNCATE**: Empleado para eliminar todos los registros de una tabla.\n",
    "\n",
    "    + **RENAME**: Tal como su nombre lo indica es utilizado para renombrar objetos.\n",
    "    \n",
    "\n",
    "<br>\n",
    "\n",
    "+ **Data Manipulation Language (DML)** : DML podremos manipular los datos propiamente dichos, efectuando consultas para recuperar datos, modificaciones, borrados, etc. Las operaciones fundamentales de manipulación de datos son cuatro y consecuentemente cuatro los comando  DML que necesitaremos para poder llevarlas a cabo.\n",
    "\n",
    "    + **SELECT**: La sentencia DML por excelencia se utiliza para ejecutar consulta de recuperación de datos.\n",
    "\n",
    "    + **INSERT**: Su finalidad es insertar nuevas filas en una tabla.\n",
    "\n",
    "    + **UPDATE**: Con este comando es posible cambiar la información alojada en una o mas filas.\n",
    "\n",
    "    + **DELETE**: Se utiliza para eliminar una o mas filas.\n",
    "\n",
    "<br>\n",
    "\n",
    "+ **Data Control Language (DCL)** : mucho menos conocidos que los anteriores este lenguaje se compone de sentencias especificas para garantizar la seguridad de acceso a los datos, facilitando la gestión de usuarios y el otorgamiento o denegación de los permisos necesarios para operar cada elemento de la base de datos. \n",
    "\n",
    "    + **GRANT**: Da permisos a la base de datos \n",
    "\n",
    "    + **REVOKE**: Revoca permisos a la base de datos\n",
    "      \n",
    "<br>\n",
    "\n",
    "+ **Transaction Control Language (TCL)** : TCL (Transactional Control Language): Permite administrar diferentes transacciones que ocurren dentro de una base de datos. \n",
    "\n",
    "    + **COMMIT**: Guarda los cambios que hemos hecho en la base de datos, no se pueden deshacer.\n",
    "\n",
    "    + **ROLLBACK**: Revierte los cambios al estado del último commit\n"
   ]
  },
  {
   "cell_type": "markdown",
   "id": "4e608b49",
   "metadata": {},
   "source": [
    "## 2 - Tipos de datos es SQL"
   ]
  },
  {
   "cell_type": "markdown",
   "id": "97d3fe9a",
   "metadata": {},
   "source": [
    "### 2.1 - char/varchar"
   ]
  },
  {
   "cell_type": "markdown",
   "id": "12274daf",
   "metadata": {},
   "source": [
    "Los datos de caracteres pueden almacenarse como cadenas de longitud fija o variable; la diferencia es que las cadenas de longitud fija se rellenan con espacios a la derecha y siempre consumen el mismo número de bytes, y las cadenas de longitud variable no se rellenan con espacios a la derecha y no siempre consumen el mismo número de bytes. Al definir una columna de caracteres, debe especificar el tamaño máximo de cualquier cadena que se vaya a almacenar en la columna. Por ejemplo, si desea almacenar cadenas de hasta 20 caracteres de longitud, puede utilizar cualquiera de las siguientes definiciones:\n",
    "\n",
    "```SQL\n",
    "char(20) /* de longitud fija 20 caracteres*/\n",
    "\n",
    "varchar(20) /* de longitud variable, máximo 20 caracteres*/\n",
    "``` \n",
    "La longitud máxima de las columnas char es actualmente de 255 bytes, mientras que las columnas varchar pueden tener hasta 65.535 bytes. Si necesitas almacenar cadenas más largas, como correos electrónicos o documentos XML, entonces querremos utilizar uno de los tipos de texto (mediumtext y longtext).\n",
    "\n",
    "En general, se debe utilizar el tipo char cuando todas las cadenas que se van a almacenar en la columna tienen la misma longitud, como las abreviaturas del estado, y el tipo varchar cuando las cadenas que se van a almacenar en la columna tienen longitudes diferentes. Tanto char como varchar se utilizan de forma similar en los principales servidores de bases de datos."
   ]
  },
  {
   "cell_type": "markdown",
   "id": "3b2e2af2",
   "metadata": {},
   "source": [
    "### 2.2 - Datos numéricos"
   ]
  },
  {
   "cell_type": "markdown",
   "id": "e57fb1f6",
   "metadata": {},
   "source": [
    "Aunque podría parecer razonable tener un único tipo de datos numéricos, en realidad hay varios tipos de datos numéricos diferentes que reflejan las diversas formas en que se utilizan los números, dependiendo de la memoria que necesitemos ocupar.\n",
    "\n",
    "\n",
    "```SQL\n",
    "\n",
    "tinyint  /* rango de -128 a 127 o de 0 a 255 */\n",
    "\n",
    "smallint  /* rango de -32768 a 32767 o de 0 a 65535 */\n",
    "\n",
    "mediumint  /* rango de aprox -8M a 8M 0 de 0 a aprox 16M */\n",
    "\n",
    "int  /* rango de aprox -2000M a 2000M 0 de 0 a aprox 4000M */\n",
    "\n",
    "bigint  /* rango de -2*10^63 a 2*10^63 - 1 o de 0 a 2*10^64 - 1 */\n",
    "\n",
    "float  /* rango de aprox -3.4*10^38 a -1.17*10^-38 y de 1.17*10^-38 a 3.4*10^38 */\n",
    "\n",
    "double  /* rango de aprox -1.79*10^308 a -2.22*10^-308 y de 2.22*10^-308 a 1.79*10^308 */\n",
    "``` \n"
   ]
  },
  {
   "cell_type": "markdown",
   "id": "ff975fde",
   "metadata": {},
   "source": [
    "### 2.3 - Datos temporales"
   ]
  },
  {
   "cell_type": "markdown",
   "id": "eba1a9c7",
   "metadata": {},
   "source": [
    "Junto con las cadenas y los números, es casi seguro que trabajaremos con información sobre fechas y horas. Este tipo de datos se denomina temporal, y algunos ejemplos de datos temporales en una base de datos son:\n",
    "\n",
    "+ La fecha futura en la que se espera que ocurra un evento concreto, como el envío del pedido de un cliente\n",
    "+ La fecha en que se envió el pedido de un cliente\n",
    "+ La fecha y hora en que un usuario modificó una fila concreta de una tabla\n",
    "+ La fecha de nacimiento de un empleado\n",
    "+ El año correspondiente a una fila de una tabla de hechos yearly_sales en un almacén de datos\n",
    "+ El tiempo transcurrido para completar un mazo de cables en una línea de montaje de automóviles\n",
    "\n",
    "\n",
    "MySQL incluye tipos de datos para manejar todas estas situaciones:\n",
    "\n",
    "\n",
    "```SQL\n",
    "date /* yyyy-mm-dd   desde 1000-01-01 hasta 9999-12-31 */\n",
    "\n",
    "datetime /* yyyy-mm-dd hh:mm:ss   desde 1000-01-01 00:00:00 hasta 9999-12-31 23:59:59*/\n",
    "\n",
    "timestamp /* nº de segundos desde 1970-01-01 hasta 2038-01-18 */\n",
    "\n",
    "year /* yyyy desde 1901 hasta 2155 */\n",
    "\n",
    "time /* hh:mm:ss */\n",
    "``` "
   ]
  },
  {
   "cell_type": "markdown",
   "id": "06e70fa9",
   "metadata": {},
   "source": [
    "## 3 - Buenas prácticas"
   ]
  },
  {
   "cell_type": "markdown",
   "id": "776ac8ae",
   "metadata": {},
   "source": [
    "+ Añadir comentarios al código que ayuden a la lectura de la consulta.\n",
    "\n",
    "+ Utilizar las cláusulas en mayúscula y los nombres de tablas y columnas en minúscula.\n",
    "\n",
    "+ Nombrar las variables de forma sencilla y fácil de entender.\n",
    "\n",
    "+ Utilizar bien los espacios y la indentación.\n",
    "\n",
    "+ Usar alias para renombrar las columnas de forma descriptiva y clara.\n",
    "\n",
    "+ Evitar utilizar SELECT *, selecciona las columnas que son de tu interés y trata de hacer todo el filtrado antes de hacer la consulta.\n",
    "\n",
    "+ Utilizar indentación para que las consultas sean más claras y fácil de entender.\n"
   ]
  },
  {
   "cell_type": "markdown",
   "id": "89262690",
   "metadata": {},
   "source": [
    "## 4 - Queries de SQL"
   ]
  },
  {
   "cell_type": "markdown",
   "id": "46ae7c7f",
   "metadata": {},
   "source": [
    "### 4.1 - SELECT y FROM"
   ]
  },
  {
   "cell_type": "markdown",
   "id": "fad3d949",
   "metadata": {},
   "source": [
    "La cláusula `SELECT` se utiliza para especificar las columnas que deseas recuperar de una tabla o de varias tablas. Es la primera cláusula en una consulta SQL y define los datos que se seleccionarán.\n",
    "\n",
    "La cláusula `FROM` se utiliza para especificar la tabla o tablas de las cuales se recuperarán los datos. Es la segunda cláusula en una consulta SQL y define la fuente de los datos.\n",
    "\n",
    "Veamos algunos ejemplos con la base de datos publications:"
   ]
  },
  {
   "cell_type": "markdown",
   "id": "1e2e28a3",
   "metadata": {},
   "source": [
    "```SQL\n",
    "/* selección de todas las columnas de una tabla */\n",
    "\n",
    "SELECT *\n",
    "\n",
    "FROM publishers;\n",
    "\n",
    "``` "
   ]
  },
  {
   "cell_type": "markdown",
   "id": "bd3a4f7e",
   "metadata": {},
   "source": [
    "```SQL\n",
    "/* selección de columnas con nombre de una tabla */\n",
    "\n",
    "SELECT pub_name, \n",
    "       city, \n",
    "       state, \n",
    "       country\n",
    "       \n",
    "FROM publishers;\n",
    "\n",
    "``` "
   ]
  },
  {
   "cell_type": "markdown",
   "id": "2473482b",
   "metadata": {},
   "source": [
    "### 4.2 - AS (Alias)"
   ]
  },
  {
   "cell_type": "markdown",
   "id": "ad829b66",
   "metadata": {},
   "source": [
    "La palabra clave `AS` se utiliza para asignar alias tanto a las columnas como a las tablas en una consulta. Los alias son nombres temporales que puedes usar para hacer que los resultados de las consultas sean más legibles o para simplificar las referencias a las tablas y columnas en una consulta compleja."
   ]
  },
  {
   "cell_type": "markdown",
   "id": "4010fbea",
   "metadata": {},
   "source": [
    "```SQL\n",
    "/* selección de columnas con alias de una tabla */\n",
    "\n",
    "SELECT pub_name AS nombre,  \n",
    "       city AS ciudad, \n",
    "       state AS estado, \n",
    "       country AS pais\n",
    "       \n",
    "FROM publishers;\n",
    "\n",
    "``` "
   ]
  },
  {
   "cell_type": "markdown",
   "id": "4c1821c6",
   "metadata": {},
   "source": [
    "### 4.3 - WHERE"
   ]
  },
  {
   "cell_type": "markdown",
   "id": "93f72213",
   "metadata": {},
   "source": [
    "La cláusula `WHERE` en SQL se utiliza para filtrar registros en una consulta según condiciones específicas. Esta cláusula permite extraer únicamente aquellos registros que cumplen con los criterios definidos, lo que facilita la selección de datos relevantes de una base de datos.\n"
   ]
  },
  {
   "cell_type": "markdown",
   "id": "45bace79",
   "metadata": {},
   "source": [
    "```SQL\n",
    "/* selección de una tabla con un condicional */\n",
    "\n",
    "SELECT pub_name AS nombre,  \n",
    "       city AS ciudad, \n",
    "       state AS estado, \n",
    "       country AS pais\n",
    "       \n",
    "FROM publishers\n",
    "\n",
    "WHERE city='Boston' or city='Chicago';\n",
    "\n",
    "``` "
   ]
  },
  {
   "cell_type": "markdown",
   "id": "e6404ecd",
   "metadata": {},
   "source": [
    "```SQL\n",
    "/* misma query con IN */\n",
    "\n",
    "SELECT pub_name AS nombre,  \n",
    "       city AS ciudad, \n",
    "       state AS estado, \n",
    "       country AS pais\n",
    "       \n",
    "FROM publishers\n",
    "\n",
    "WHERE city IN ('Boston', 'Chicago');\n",
    "\n",
    "``` "
   ]
  },
  {
   "cell_type": "markdown",
   "id": "35f38e07",
   "metadata": {},
   "source": [
    "### 4.4 - Funciones de agregación"
   ]
  },
  {
   "cell_type": "markdown",
   "id": "ea6ec3eb",
   "metadata": {},
   "source": [
    "Las funciones de agregación en SQL se utilizan para realizar cálculos sobre un conjunto de valores y devolver un solo valor. Estas funciones son fundamentales para resumir y analizar datos en bases de datos"
   ]
  },
  {
   "cell_type": "markdown",
   "id": "4f5cfbae",
   "metadata": {},
   "source": [
    "#### 4.4.1 - COUNT"
   ]
  },
  {
   "cell_type": "markdown",
   "id": "ff84edd1",
   "metadata": {},
   "source": [
    "Cuenta el número de filas que coinciden con un criterio."
   ]
  },
  {
   "cell_type": "markdown",
   "id": "6d775b04",
   "metadata": {},
   "source": [
    "```SQL\n",
    "/* uso del count */\n",
    "\n",
    "SELECT COUNT(city) AS cuenta\n",
    "       \n",
    "FROM publishers;\n",
    "\n",
    "``` "
   ]
  },
  {
   "cell_type": "markdown",
   "id": "56d2da9a",
   "metadata": {},
   "source": [
    "#### 4.4.2 - SUM"
   ]
  },
  {
   "cell_type": "markdown",
   "id": "97931dee",
   "metadata": {},
   "source": [
    "Suma los valores de una columna."
   ]
  },
  {
   "cell_type": "markdown",
   "id": "bc88e2a3",
   "metadata": {},
   "source": [
    "```SQL\n",
    "/* uso del sum */\n",
    "\n",
    "SELECT SUM(qty) AS suma\n",
    "       \n",
    "FROM sales;\n",
    "\n",
    "``` "
   ]
  },
  {
   "cell_type": "markdown",
   "id": "58b973e7",
   "metadata": {},
   "source": [
    "#### 4.4.3 - AVG"
   ]
  },
  {
   "cell_type": "markdown",
   "id": "6b39d917",
   "metadata": {},
   "source": [
    "Calcula el valor promedio de una columna."
   ]
  },
  {
   "cell_type": "markdown",
   "id": "7d3b5ed9",
   "metadata": {},
   "source": [
    "```SQL\n",
    "/* uso de avg */\n",
    "\n",
    "SELECT AVG(qty) AS media\n",
    "       \n",
    "FROM sales;\n",
    "\n",
    "``` "
   ]
  },
  {
   "cell_type": "markdown",
   "id": "15f13530",
   "metadata": {},
   "source": [
    "#### 4.4.4 - MIN"
   ]
  },
  {
   "cell_type": "markdown",
   "id": "75577ab7",
   "metadata": {},
   "source": [
    "Encuentra el valor mínimo en una columna."
   ]
  },
  {
   "cell_type": "markdown",
   "id": "4cf2d8bf",
   "metadata": {},
   "source": [
    "```SQL\n",
    "/* uso de min */\n",
    "\n",
    "SELECT MIN(qty) AS minimo\n",
    "       \n",
    "FROM sales;\n",
    "\n",
    "``` "
   ]
  },
  {
   "cell_type": "markdown",
   "id": "7351fcc1",
   "metadata": {},
   "source": [
    "#### 4.4.5 - MAX"
   ]
  },
  {
   "cell_type": "markdown",
   "id": "32002572",
   "metadata": {},
   "source": [
    "Encuentra el valor máximo en una columna."
   ]
  },
  {
   "cell_type": "markdown",
   "id": "3bb6c3da",
   "metadata": {},
   "source": [
    "```SQL\n",
    "/* uso de max */\n",
    "\n",
    "SELECT MAX(qty) AS maximo\n",
    "       \n",
    "FROM sales;\n",
    "\n",
    "``` "
   ]
  },
  {
   "cell_type": "markdown",
   "id": "012f395a",
   "metadata": {},
   "source": [
    "### 4.5 - GROUP BY"
   ]
  },
  {
   "cell_type": "markdown",
   "id": "ca54f88d",
   "metadata": {},
   "source": [
    "La cláusula `GROUP BY` en SQL se utiliza para agrupar filas que tienen valores iguales en columnas específicas y permite realizar operaciones de agregación en cada grupo. De hecho, salvo en la columna por la cual estamos agrupando, es necesario el uso de una función de agregación."
   ]
  },
  {
   "cell_type": "markdown",
   "id": "ebe30f06",
   "metadata": {},
   "source": [
    "```SQL\n",
    "/* uso de group by con distintas funciones de agregación */\n",
    "\n",
    "SELECT ord_num,\n",
    "\t   SUM(qty) AS suma,\n",
    "       AVG(qty) AS media,\n",
    "       MIN(qty) AS minimo,\n",
    "       MAX(qty) AS maximo\n",
    "\n",
    "FROM sales\n",
    "\n",
    "GROUP BY ord_num;\n",
    "\n",
    "``` "
   ]
  },
  {
   "cell_type": "markdown",
   "id": "04f1104b",
   "metadata": {},
   "source": [
    "### 4.6 - HAVING"
   ]
  },
  {
   "cell_type": "markdown",
   "id": "9765ef51",
   "metadata": {},
   "source": [
    "La cláusula `HAVING` se utiliza para filtrar los resultados de GROUP BY según una condición de agregación."
   ]
  },
  {
   "cell_type": "markdown",
   "id": "fe4bdb09",
   "metadata": {},
   "source": [
    "```SQL\n",
    "/* uso del having con group by */\n",
    "\n",
    "SELECT ord_num,\n",
    "\t   SUM(qty) AS suma,\n",
    "       AVG(qty) AS media,\n",
    "       MIN(qty) AS minimo,\n",
    "       MAX(qty) AS maximo\n",
    "\n",
    "FROM sales\n",
    "\n",
    "GROUP BY ord_num\n",
    "\n",
    "HAVING AVG(qty)>20;\n",
    "\n",
    "``` "
   ]
  },
  {
   "cell_type": "markdown",
   "id": "c41117e8",
   "metadata": {},
   "source": [
    "### 4.7 - ORDER BY"
   ]
  },
  {
   "cell_type": "markdown",
   "id": "4f4fcb10",
   "metadata": {},
   "source": [
    "La cláusula `ORDER BY` en SQL se utiliza para ordenar el resultado de una consulta según una o más columnas. Por defecto, ORDER BY ordena los datos en orden ascendente, pero también puedes especificar un orden descendente."
   ]
  },
  {
   "cell_type": "markdown",
   "id": "d30ec67c",
   "metadata": {},
   "source": [
    "```SQL\n",
    "/* ordenado de manera ascendente segun media */\n",
    "\n",
    "SELECT ord_num,\n",
    "       SUM(qty) AS suma,\n",
    "       AVG(qty) AS media,\n",
    "       MIN(qty) AS minimo,\n",
    "       MAX(qty) AS maximo\n",
    "\n",
    "FROM sales\n",
    "\n",
    "GROUP BY ord_num\n",
    "\n",
    "HAVING AVG(qty)>20\n",
    "\n",
    "ORDER BY media ASC;\n",
    "\n",
    "``` "
   ]
  },
  {
   "cell_type": "markdown",
   "id": "782afd02",
   "metadata": {},
   "source": [
    "```SQL\n",
    "/* ordenado de manera descendente segun media */\n",
    "\n",
    "SELECT ord_num,\n",
    "       SUM(qty) AS suma,\n",
    "       AVG(qty) AS media,\n",
    "       MIN(qty) AS minimo,\n",
    "       MAX(qty) AS maximo\n",
    "\n",
    "FROM sales\n",
    "\n",
    "GROUP BY ord_num\n",
    "\n",
    "HAVING AVG(qty)>20\n",
    "\n",
    "ORDER BY media DESC;\n",
    "\n",
    "``` "
   ]
  },
  {
   "cell_type": "markdown",
   "id": "eacd8ede",
   "metadata": {},
   "source": [
    "### 4.8 - LIMIT"
   ]
  },
  {
   "cell_type": "markdown",
   "id": "2883a7a1",
   "metadata": {},
   "source": [
    "La cláusula `LIMIT` en SQL se utiliza para especificar el número máximo de registros que se deben devolver en el resultado de una consulta. Esta cláusula es útil cuando se trabaja con grandes conjuntos de datos y se desea limitar la cantidad de datos devueltos para hacer la consulta más manejable o para paginar los resultados."
   ]
  },
  {
   "cell_type": "markdown",
   "id": "0e9ba2ce",
   "metadata": {},
   "source": [
    "```SQL\n",
    "/* limitado a 5 filas */\n",
    "\n",
    "SELECT ord_num,\n",
    "       SUM(qty) AS suma,\n",
    "       AVG(qty) AS media,\n",
    "       MIN(qty) AS minimo,\n",
    "       MAX(qty) AS maximo\n",
    "\n",
    "FROM sales\n",
    "\n",
    "GROUP BY ord_num\n",
    "\n",
    "HAVING AVG(qty)>20\n",
    "\n",
    "ORDER BY media DESC\n",
    "\n",
    "LIMIT 5;\n",
    "\n",
    "``` "
   ]
  },
  {
   "cell_type": "markdown",
   "id": "086a50b3",
   "metadata": {},
   "source": [
    "## 5 - Orden de ejecución de las quieries"
   ]
  },
  {
   "cell_type": "markdown",
   "id": "3cc2a825",
   "metadata": {},
   "source": [
    "En SQL, el orden de ejecución de las cláusulas en una consulta es crucial para entender cómo se procesan los datos. Aunque las consultas SQL se escriben en un orden específico, las cláusulas se ejecutan en un orden que puede no coincidir con el orden en que aparecen en la consulta. \n",
    "\n",
    "\n",
    "**Orden de ejecución de una consulta SQL**\n",
    "\n",
    "\n",
    "1. **FROM**: Selección de la tabla o tablas de las cuales se recuperarán los datos. Incluye la ejecución de cualquier `JOIN` (a continuación lo veremos) y la generación del producto cartesiano si es necesario.\n",
    "\n",
    "\n",
    "2. **WHERE**: Filtrado de filas basado en condiciones especificadas. Se aplica a los datos recuperados por la cláusula FROM.\n",
    "\n",
    "\n",
    "3. **GROUP BY**: Agrupación de filas en grupos basados en valores de una o más columnas.\n",
    "\n",
    "\n",
    "4. **HAVING**: Filtrado de grupos basados en condiciones especificadas. Se aplica a los grupos creados por GROUP BY.\n",
    "\n",
    "\n",
    "5. **SELECT**: Selección de las columnas que se incluirán en el resultado final. También puede incluir la aplicación de funciones de agregación.\n",
    "\n",
    "\n",
    "6. **ORDER BY**: Ordenación de las filas en el resultado final según uno o más criterios.\n",
    "\n",
    "\n",
    "7. **LIMIT**: Limitación del número de filas y especificación del punto de inicio.\n"
   ]
  },
  {
   "cell_type": "markdown",
   "id": "fea876b7",
   "metadata": {},
   "source": [
    "## 6 - JOIN"
   ]
  },
  {
   "cell_type": "markdown",
   "id": "d22688b6",
   "metadata": {},
   "source": [
    "El `JOIN` en SQL se utiliza para combinar filas de dos o más tablas basadas en una condición relacionada entre ellas, una condición sobre una columna que ambas comparten con la palabra reservada `ON`. Los joins son esenciales para trabajar con bases de datos relacionales, donde los datos están normalizados, donde entidades distintas están en tablas distintas. "
   ]
  },
  {
   "cell_type": "markdown",
   "id": "5760b37f",
   "metadata": {},
   "source": [
    "### 6.1 - INNER JOIN"
   ]
  },
  {
   "cell_type": "markdown",
   "id": "4e69e44e",
   "metadata": {},
   "source": [
    "Devuelve las filas que tienen coincidencias en ambas tablas."
   ]
  },
  {
   "cell_type": "markdown",
   "id": "6f1e32d9",
   "metadata": {},
   "source": [
    "```SQL\n",
    "/* inner join de ventas con tiendas sobre la columna stor_id */\n",
    "\n",
    "SELECT * \n",
    "\n",
    "FROM sales\n",
    "\n",
    "INNER JOIN stores\n",
    "\n",
    "ON sales.stor_id=stores.stor_id;\n",
    "\n",
    "``` "
   ]
  },
  {
   "cell_type": "markdown",
   "id": "d6e194a4",
   "metadata": {},
   "source": [
    "```SQL\n",
    "/* los join pueden unir varias tablas a la vez, una relación many to many por ejemplo */\n",
    "\n",
    "SELECT * \n",
    "\n",
    "FROM authors AS a\n",
    "\n",
    "INNER JOIN titleauthor AS ta\n",
    "\n",
    "ON a.au_id=ta.au_id\n",
    "\n",
    "INNER JOIN titles AS t\n",
    "\n",
    "ON t.title_id=ta.title_id;\n",
    "\n",
    "``` "
   ]
  },
  {
   "cell_type": "markdown",
   "id": "92358d51",
   "metadata": {},
   "source": [
    "### 6.2 - LEFT JOIN"
   ]
  },
  {
   "cell_type": "markdown",
   "id": "d75323a0",
   "metadata": {},
   "source": [
    "Devuelve todas las filas de la tabla de la izquierda y las filas coincidentes de la tabla de la derecha. Las filas de la tabla de la derecha que no tienen coincidencias mostrarán `NULL`."
   ]
  },
  {
   "cell_type": "markdown",
   "id": "ddf48cf3",
   "metadata": {},
   "source": [
    "```SQL\n",
    "/* left join de ventas con tiendas sobre la columna stor_id */\n",
    "\n",
    "SELECT * \n",
    "\n",
    "FROM sales\n",
    "\n",
    "LEFT JOIN stores\n",
    "\n",
    "ON sales.stor_id=stores.stor_id;\n",
    "\n",
    "``` "
   ]
  },
  {
   "cell_type": "markdown",
   "id": "9c913169",
   "metadata": {},
   "source": [
    "### 6.3 - RIGHT JOIN"
   ]
  },
  {
   "cell_type": "markdown",
   "id": "56f054e9",
   "metadata": {},
   "source": [
    "Devuelve todas las filas de la tabla de la derecha y las filas coincidentes de la tabla de la izquierda. Las filas de la tabla de la izquierda que no tienen coincidencias mostrarán `NULL`."
   ]
  },
  {
   "cell_type": "markdown",
   "id": "d4ad9e8a",
   "metadata": {},
   "source": [
    "```SQL\n",
    "/* right join de ventas con tiendas sobre la columna stor_id */\n",
    "\n",
    "SELECT * \n",
    "\n",
    "FROM sales\n",
    "\n",
    "RIGHT JOIN stores\n",
    "\n",
    "ON sales.stor_id=stores.stor_id;\n",
    "\n",
    "``` "
   ]
  },
  {
   "cell_type": "markdown",
   "id": "6da884d2",
   "metadata": {},
   "source": [
    "## 7 - Subqueries"
   ]
  },
  {
   "cell_type": "markdown",
   "id": "490b70df",
   "metadata": {},
   "source": [
    "Las subqueries, también conocidas como subconsultas o consultas anidadas, son consultas SQL ubicadas dentro de otra consulta SQL. Las subqueries se pueden usar en varias partes de una consulta, como en la cláusula SELECT, FROM, WHERE, HAVING, entre otras. Son útiles para realizar consultas más complejas y dinámicas. Hay que tener en cuenta que una query es una tabla, por lo que podemos realizar una consulta sobre esa misma tabla. En general, la subtabla necesitará un alias para poder realizar la consulta."
   ]
  },
  {
   "cell_type": "markdown",
   "id": "9726d60f",
   "metadata": {},
   "source": [
    "```SQL\n",
    "/* subconsulta con from, en el segundo select empieza una tabla llamada averages */\n",
    "\n",
    "SELECT store, \n",
    "       items/orders AS avgitems,\n",
    "       qty/items AS avgqty\n",
    "       \n",
    "FROM\n",
    "\n",
    "    (SELECT stores.stor_name AS store,\n",
    "            COUNT(DISTINCT(ord_num)) AS orders,\n",
    "            COUNT(title_id) AS items, \n",
    "            SUM(qty) AS qty\n",
    "\n",
    "    FROM publications.sales sales\n",
    "\n",
    "    INNER JOIN publications.stores stores\n",
    "\n",
    "    ON stores.stor_id=sales.stor_id\n",
    "\n",
    "    GROUP BY store) AS averages;\n",
    "```"
   ]
  },
  {
   "cell_type": "markdown",
   "id": "07617fdf",
   "metadata": {},
   "source": [
    "```SQL\n",
    "/* subconsulta con in, se realiza un where a una segunda tabla que no necesita alias */\n",
    "\n",
    "SELECT stor_id, \n",
    "       m.title, \n",
    "       m.title_id, \n",
    "       payterms  \n",
    "       \n",
    "FROM sales \n",
    "\n",
    "INNER JOIN titles AS m \n",
    "\n",
    "ON sales.title_id = m.title_id\n",
    "\n",
    "WHERE payterms != \"Net 30\" AND  m.title_id IN (\n",
    "    \n",
    "\t\tSELECT titles.title_id \n",
    "    \n",
    "        FROM sales \n",
    "    \n",
    "\t\tINNER JOIN titles \n",
    "    \n",
    "        ON sales.title_id = titles.title_id\n",
    "    \n",
    "\t\tWHERE payterms = \"Net 30\"\n",
    "    \n",
    "\t);\n",
    "```"
   ]
  },
  {
   "cell_type": "markdown",
   "id": "a2dfebbb",
   "metadata": {},
   "source": [
    "## 8 - Creación de tablas"
   ]
  },
  {
   "cell_type": "markdown",
   "id": "112ecf83",
   "metadata": {},
   "source": [
    "### 8.1 - CREATE"
   ]
  },
  {
   "cell_type": "markdown",
   "id": "7b963962",
   "metadata": {},
   "source": [
    "La cláusula `CREATE` en SQL se utiliza para crear nuevos objetos en una base de datos, como tablas, índices, vistas y bases de datos. Es una parte fundamental del lenguaje de definición de datos (DDL) en SQL."
   ]
  },
  {
   "cell_type": "markdown",
   "id": "ee68d230",
   "metadata": {},
   "source": [
    "```SQL\n",
    "/* creación de una tabla inexistente */\n",
    "\n",
    "CREATE TABLE IF NOT EXISTS nombre_tabla (\n",
    "  id int primary key,\n",
    "  atributo_1 varchar(40) not null,\n",
    "  atributo_2 varchar(3) not null,\n",
    "  atributo_3 int,\n",
    "  atributo_4 date,\n",
    "  atributo_5 boolean\n",
    ");\n",
    "\n",
    "``` "
   ]
  },
  {
   "cell_type": "markdown",
   "id": "fcf50ff4",
   "metadata": {},
   "source": [
    "### 8.2 - Tabla permanente desde SELECT"
   ]
  },
  {
   "cell_type": "markdown",
   "id": "de105f8c",
   "metadata": {},
   "source": [
    "En SQL, podemos crear una tabla a partir del resultado de una consulta `SELECT` utilizando la instrucción `CREATE TABLE`. Esta técnica es útil para guardar los resultados de una consulta en una nueva tabla para un uso posterior."
   ]
  },
  {
   "cell_type": "markdown",
   "id": "4626c0ed",
   "metadata": {},
   "source": [
    "```SQL\n",
    "/* creación de una tabla inexistente desde un select llamada store_sales_summary*/\n",
    "\n",
    "CREATE TABLE publications.store_sales_summary\n",
    "\n",
    "SELECT stores.stor_id AS storeID, \n",
    "       stores.stor_name AS store,\n",
    "       COUNT(DISTINCT(ord_num)) AS orders, \n",
    "       COUNT(title_id) AS items, \n",
    "       SUM(qty) AS qty\n",
    "       \n",
    "FROM publications.sales AS sales\n",
    "\n",
    "INNER JOIN publications.stores AS stores\n",
    "\n",
    "ON stores.stor_id=sales.stor_id\n",
    "\n",
    "GROUP BY storeID, store;\n",
    "\n",
    "```"
   ]
  },
  {
   "cell_type": "markdown",
   "id": "02fce7d0",
   "metadata": {},
   "source": [
    "### 8.3 - Tabla temporal"
   ]
  },
  {
   "cell_type": "markdown",
   "id": "aa269254",
   "metadata": {},
   "source": [
    "Las tablas temporales en SQL son tablas que existen sólo durante la sesión de la base de datos en la que fueron creadas. Son útiles para almacenar datos intermedios o temporales que no necesitan ser persistidos a largo plazo. La mayoría de los sistemas de gestión de bases de datos (DBMS) soportan tablas temporales con algunas variaciones en la sintaxis y el comportamiento.\n"
   ]
  },
  {
   "cell_type": "markdown",
   "id": "7bd147ed",
   "metadata": {},
   "source": [
    "```SQL\n",
    "/* creación de una tabla temporal desde un select llamada store_sales_summary*/\n",
    "\n",
    "CREATE TEMPORARY TABLE publications.store_sales_summary\n",
    "\n",
    "SELECT stores.stor_id AS storeID, \n",
    "       stores.stor_name AS store,\n",
    "       COUNT(DISTINCT(ord_num)) AS orders, \n",
    "       COUNT(title_id) AS items, \n",
    "       SUM(qty) AS qty\n",
    "       \n",
    "FROM publications.sales AS sales\n",
    "\n",
    "INNER JOIN publications.stores AS stores\n",
    "\n",
    "ON stores.stor_id=sales.stor_id\n",
    "\n",
    "GROUP BY storeID, store;\n",
    "\n",
    "```"
   ]
  },
  {
   "cell_type": "markdown",
   "id": "f4158d30",
   "metadata": {},
   "source": [
    "### 8.4 - Vista"
   ]
  },
  {
   "cell_type": "markdown",
   "id": "edcc015b",
   "metadata": {},
   "source": [
    "Una vista en SQL es una tabla virtual basada en el resultado de una consulta SQL. Las vistas no almacenan datos por sí mismas; en su lugar, almacenan una consulta que se ejecuta cada vez que se accede a la vista, es por esto que si se actualiza la base de datos se actualiza la vista. Las vistas son útiles para simplificar consultas complejas, proporcionar una capa de seguridad y abstraer los detalles subyacentes de las tablas."
   ]
  },
  {
   "cell_type": "markdown",
   "id": "7ea437c8",
   "metadata": {},
   "source": [
    "```SQL\n",
    "/* creación de una vista llamada store_sales_summary*/\n",
    "\n",
    "CREATE VIEW store_sales_summary\n",
    "\n",
    "AS\n",
    "\n",
    "SELECT stores.stor_id AS storeID, \n",
    "       stores.stor_name AS store,\n",
    "       COUNT(DISTINCT(ord_num)) AS orders, \n",
    "       COUNT(title_id) AS items, \n",
    "       SUM(qty) AS qty\n",
    "       \n",
    "FROM publications.sales AS sales\n",
    "\n",
    "INNER JOIN publications.stores AS stores\n",
    "\n",
    "ON stores.stor_id=sales.stor_id\n",
    "\n",
    "GROUP BY storeID, store;\n",
    "\n",
    "```"
   ]
  },
  {
   "cell_type": "markdown",
   "id": "c3453a3e",
   "metadata": {},
   "source": [
    "## 9 - Crear relaciones entre tablas"
   ]
  },
  {
   "cell_type": "markdown",
   "id": "2d4a7ced",
   "metadata": {},
   "source": [
    "En SQL, las relaciones entre tablas se definen mediante claves foráneas, foreign keys. Estas claves foráneas se utilizan para mantener la integridad referencial en una base de datos relacional. Podemos usar la instrucción `ALTER TABLE` para añadir, modificar o eliminar claves foráneas en una tabla existente. Ejemplo paso a paso:\n",
    "\n",
    "+ **nombre_tabla**: La tabla a la que se va a añadir la clave foránea.\n",
    "\n",
    "+ **nombre_clave_foranea**: El nombre de la clave foránea (opcional pero recomendado para referencia).\n",
    "\n",
    "+ **columna_clave_foranea**: La columna en la tabla actual que actuará como clave foránea.\n",
    "\n",
    "+ **tabla_referenciada**: La tabla que contiene la clave primaria a la que se hace referencia.\n",
    "\n",
    "+ **columna_referenciada**: La columna en la tabla referenciada que es la clave primaria.\n"
   ]
  },
  {
   "cell_type": "markdown",
   "id": "3b76affc",
   "metadata": {},
   "source": [
    "```SQL\n",
    "/* creación de una relación entre tablas */\n",
    "\n",
    "ALTER TABLE nombre_tabla\n",
    "ADD CONSTRAINT nombre_clave_foranea\n",
    "FOREIGN KEY (columna_clave_foranea)\n",
    "REFERENCES tabla_referenciada (columna_referenciada);\n",
    "\n",
    "```"
   ]
  },
  {
   "cell_type": "markdown",
   "id": "a51171d4",
   "metadata": {},
   "source": [
    "## 10 - Crear base de datos"
   ]
  },
  {
   "cell_type": "markdown",
   "id": "66256506",
   "metadata": {},
   "source": [
    "Para crear una base de datos usamos `CREATE DATABASE` junto con el nombre de la base de datos."
   ]
  },
  {
   "cell_type": "markdown",
   "id": "04fe8eaa",
   "metadata": {},
   "source": [
    "```SQL\n",
    "/* creación de una base de datos */\n",
    "\n",
    "CREATE DATABASE nombre_base_datos;\n",
    "\n",
    "```"
   ]
  },
  {
   "cell_type": "markdown",
   "id": "36e814fd",
   "metadata": {},
   "source": [
    "## 11 - INSERT"
   ]
  },
  {
   "cell_type": "markdown",
   "id": "22ea76e3",
   "metadata": {},
   "source": [
    "La instrucción `INSERT` en SQL se utiliza para añadir nuevos registros a una tabla existente. Es una de las operaciones básicas para manipular datos en una base de datos relacional. "
   ]
  },
  {
   "cell_type": "markdown",
   "id": "59d097a4",
   "metadata": {},
   "source": [
    "```SQL\n",
    "/* insertar una fila en una base de datos */\n",
    "\n",
    "INSERT INTO nombre_tabla (id, columna_a, columna_b,..)\n",
    "VALUES (1, 'A',  3.14,..);\n",
    "```"
   ]
  },
  {
   "cell_type": "markdown",
   "id": "61328492",
   "metadata": {},
   "source": [
    "```SQL\n",
    "/* insertar varias filas en una base de datos */\n",
    "\n",
    "INSERT INTO nombre_tabla (id, columna_a, columna_b,..)\n",
    "\n",
    "VALUES \n",
    "\n",
    "(1, 'A',  3.14,..)\n",
    "(2, 'B',  1.61,..)\n",
    "(3, 'C',  6.36,..)\n",
    "\n",
    ";\n",
    "```"
   ]
  },
  {
   "cell_type": "markdown",
   "id": "bd7ea1f6",
   "metadata": {},
   "source": [
    "## 12 - UPDATE"
   ]
  },
  {
   "cell_type": "markdown",
   "id": "c5f76ff8",
   "metadata": {},
   "source": [
    "La instrucción `UPDATE` en SQL se utiliza para modificar los datos existentes en una tabla. Podemos actualizar una o más columnas de una o más filas basadas en una condición específica.\n"
   ]
  },
  {
   "cell_type": "markdown",
   "id": "6b932419",
   "metadata": {},
   "source": [
    "```SQL\n",
    "/* actualiza valores en una tabla */\n",
    "\n",
    "UPDATE nombre_tabla\n",
    "\n",
    "SET columna = 'valor'\n",
    "\n",
    "WHERE id = 1;\n",
    "```"
   ]
  },
  {
   "cell_type": "markdown",
   "id": "6616c83e",
   "metadata": {},
   "source": [
    "## 13 - DELETE"
   ]
  },
  {
   "cell_type": "markdown",
   "id": "0ebe6d9e",
   "metadata": {},
   "source": [
    "La instrucción `DELETE` en SQL se utiliza para eliminar filas de una tabla. Puedes eliminar una o más filas basándote en una condición específica. [Amigo programador](https://www.youtube.com/watch?v=jsuerKRsEyA), es importante usar la cláusula `WHERE` para especificar qué filas se deben eliminar; de lo contrario, todas las filas de la tabla serán eliminadas.\n"
   ]
  },
  {
   "cell_type": "markdown",
   "id": "6223d746",
   "metadata": {},
   "source": [
    "```SQL\n",
    "/* borra filas de una tabla */\n",
    "\n",
    "DELETE \n",
    "\n",
    "FROM nombre_tabla \n",
    "\n",
    "WHERE columna = 'valor';\n",
    "```"
   ]
  },
  {
   "cell_type": "markdown",
   "id": "e65e198d",
   "metadata": {},
   "source": [
    "## 14 - DROP"
   ]
  },
  {
   "cell_type": "markdown",
   "id": "d076a856",
   "metadata": {},
   "source": [
    "La instrucción `DROP` en SQL se utiliza para eliminar objetos de la base de datos, como tablas, vistas, índices y bases de datos enteras. Es una operación destructiva que borra completamente el objeto y todos sus datos asociados, por lo que debe ser usada con precaución."
   ]
  },
  {
   "cell_type": "markdown",
   "id": "27a1e4f2",
   "metadata": {},
   "source": [
    "```SQL\n",
    "/* borrar tabla */\n",
    "\n",
    "DROP TABLE nombre_tabla;\n",
    "\n",
    "```"
   ]
  },
  {
   "cell_type": "markdown",
   "id": "b372ccd8",
   "metadata": {},
   "source": [
    "```SQL\n",
    "/* borrar vista */\n",
    "\n",
    "DROP VIEW nombre_vista;\n",
    "\n",
    "```"
   ]
  },
  {
   "cell_type": "markdown",
   "id": "76608064",
   "metadata": {},
   "source": [
    "```SQL\n",
    "/* borrar base de datos */\n",
    "\n",
    "DROP DATABASE nombre_base_datos;\n",
    "\n",
    "```"
   ]
  }
 ],
 "metadata": {
  "kernelspec": {
   "display_name": "ia",
   "language": "python",
   "name": "ia"
  },
  "language_info": {
   "codemirror_mode": {
    "name": "ipython",
    "version": 3
   },
   "file_extension": ".py",
   "mimetype": "text/x-python",
   "name": "python",
   "nbconvert_exporter": "python",
   "pygments_lexer": "ipython3",
   "version": "3.9.19"
  },
  "toc": {
   "base_numbering": 1,
   "nav_menu": {},
   "number_sections": false,
   "sideBar": true,
   "skip_h1_title": true,
   "title_cell": "Tabla de Contenidos",
   "title_sidebar": "Contents",
   "toc_cell": true,
   "toc_position": {
    "height": "684.444px",
    "left": "35px",
    "top": "180px",
    "width": "335.99px"
   },
   "toc_section_display": true,
   "toc_window_display": true
  }
 },
 "nbformat": 4,
 "nbformat_minor": 5
}
