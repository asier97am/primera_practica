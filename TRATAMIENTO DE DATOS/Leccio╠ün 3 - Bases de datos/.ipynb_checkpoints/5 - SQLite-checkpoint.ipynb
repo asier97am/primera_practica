{
 "cells": [
  {
   "cell_type": "markdown",
   "id": "c9b118a4",
   "metadata": {},
   "source": [
    "# 5 - SQLite\n",
    "\n",
    "\n",
    "<br>\n",
    "<br>\n",
    "\n",
    "<img src=\"https://raw.githubusercontent.com/Hack-io-AI/ai_images/main/other_relational_db.webp\" style=\"width:400px;\"/>"
   ]
  },
  {
   "cell_type": "markdown",
   "id": "0c6d9d91",
   "metadata": {
    "toc": true
   },
   "source": [
    "<h1>Tabla de Contenidos<span class=\"tocSkip\"></span></h1>\n",
    "<div class=\"toc\"><ul class=\"toc-item\"><li><span><a href=\"#1---SQLite\" data-toc-modified-id=\"1---SQLite-1\">1 - SQLite</a></span></li></ul></div>"
   ]
  },
  {
   "cell_type": "markdown",
   "id": "7e19affe",
   "metadata": {},
   "source": [
    "## 1 - SQLite\n",
    "\n",
    "<img src=\"https://raw.githubusercontent.com/Hack-io-AI/ai_images/main/sqlite.jpeg\" style=\"width:400px;\"/>"
   ]
  },
  {
   "cell_type": "markdown",
   "id": "934292eb",
   "metadata": {},
   "source": [
    "SQLite es un sistema de gestión de bases de datos relacional (RDBMS) ligero, de código abierto y de dominio público. A diferencia de otros sistemas de gestión de bases de datos, SQLite no sigue el modelo cliente-servidor. En su lugar, se embebe directamente en las aplicaciones que lo utilizan, lo que significa que la base de datos se gestiona directamente desde el proceso de la aplicación. En la mayoría de los sistemas operativos, SQLite está preinstalado, si no lo tenemos lo podemos descargar desde su [página web](https://www.sqlite.org/)."
   ]
  },
  {
   "cell_type": "markdown",
   "id": "25e5b2e7",
   "metadata": {},
   "source": [
    "**Características principales de SQLite**\n",
    "\n",
    "\n",
    "1. **Ligero y autónomo**: SQLite es extremadamente ligero y no requiere un servidor separado para funcionar. Todo el motor de la base de datos se almacena en una sola biblioteca, y las bases de datos se guardan como archivos ordinarios en el sistema de archivos.\n",
    "\n",
    "\n",
    "2. **Código abierto y de dominio público**: SQLite es de código abierto y está en el dominio público, lo que significa que cualquiera puede usarlo, modificarlo y distribuirlo sin restricciones.\n",
    "\n",
    "\n",
    "3. **Configuración cero**: No requiere ninguna configuración inicial ni instalación especial. Las bases de datos pueden crearse y utilizarse con un mínimo de configuración.\n",
    "\n",
    "\n",
    "4. **Integración fácil**: Debido a su naturaleza embebida, SQLite es fácil de integrar en aplicaciones de escritorio, móviles y web. Es ampliamente utilizado en aplicaciones móviles, navegadores web, y pequeños sistemas de desarrollo.\n",
    "\n",
    "\n",
    "5. **Soporte para transacciones ACID**: SQLite soporta las propiedades ACID (Atomicidad, Consistencia, Aislamiento, Durabilidad), lo que garantiza la integridad y confiabilidad de las transacciones.\n",
    "\n",
    "\n",
    "6. **Soporte para SQL estándar**: SQLite soporta la mayor parte del SQL estándar, incluyendo consultas complejas, subconsultas, uniones, y funciones de agregación.\n",
    "\n",
    "\n",
    "7. **Portabilidad**: Las bases de datos SQLite se almacenan en archivos simples que pueden copiarse y moverse fácilmente entre diferentes sistemas y plataformas.\n",
    "\n",
    "\n",
    "8. **Buena performance**: Para muchas aplicaciones, SQLite proporciona un rendimiento excelente, especialmente para bases de datos pequeñas a medianas y aplicaciones con cargas de trabajo de lectura intensiva.\n",
    "\n"
   ]
  },
  {
   "cell_type": "markdown",
   "id": "1fa3eb2a",
   "metadata": {},
   "source": [
    "**Historia de SQLite**\n",
    "\n",
    "SQLite fue creado en el año 2000 por D. Richard Hipp para proporcionar una alternativa embebida a los sistemas de bases de datos cliente-servidor. Desde su creación, ha ganado una enorme popularidad y se ha convertido en una de las bases de datos embebidas más utilizadas en el mundo.\n",
    "\n"
   ]
  },
  {
   "cell_type": "markdown",
   "id": "0e7ec8e2",
   "metadata": {},
   "source": [
    "**Arquitectura de SQLite**\n",
    "\n",
    "\n",
    "1. **Biblioteca SQLite**: El motor de la base de datos reside en una sola biblioteca (libsqlite3), que se enlaza con la aplicación que lo utiliza.\n",
    "\n",
    "\n",
    "2. **Archivos de base de datos**: Las bases de datos SQLite se almacenan en archivos ordinarios del sistema de archivos. Cada archivo de base de datos puede contener múltiples tablas, índices, triggers y vistas.\n",
    "\n",
    "\n",
    "3. **Transacciones y concurrencia**: SQLite utiliza un modelo de bloqueo de archivo completo para manejar la concurrencia. Soporta múltiples lectores concurrentes, pero solo un escritor a la vez.\n",
    "\n",
    "\n",
    "4. **Interfaz SQL**: SQLite proporciona una interfaz completa de SQL que permite a los usuarios ejecutar comandos SQL para crear, leer, actualizar y borrar datos en la base de datos.\n"
   ]
  },
  {
   "cell_type": "markdown",
   "id": "cf6c8948",
   "metadata": {},
   "source": [
    "**Ventajas**\n",
    "\n",
    "+ Simplicidad: Fácil de configurar y usar.\n",
    "\n",
    "+ Portabilidad: Las bases de datos pueden trasladarse fácilmente entre sistemas.\n",
    "\n",
    "+ Ligero: Ideal para aplicaciones embebidas y móviles.\n",
    "\n",
    "+ Rendimiento: Excelente para bases de datos pequeñas a medianas y cargas de trabajo de lectura intensiva.\n",
    "\n",
    "\n",
    "**Limitaciones**\n",
    "\n",
    "+ Concurrencia Limitada: Solo un escritor a la vez, lo que puede ser una limitación para aplicaciones con muchas escrituras concurrentes.\n",
    "\n",
    "+ Sin Soporte para Usuarios Múltiples: No es adecuado para aplicaciones cliente-servidor con múltiples usuarios simultáneos.\n",
    "\n",
    "+ Funcionalidad Limitada: Aunque soporta la mayor parte del SQL estándar, algunas características avanzadas pueden no estar disponibles."
   ]
  },
  {
   "cell_type": "markdown",
   "id": "50ec42eb",
   "metadata": {},
   "source": [
    "**Uso es SQLAlchemy** \n",
    "\n",
    "Para usarlo en SQLAlchemy, tenemos que pasarla directamente la base de datos. Un ejemplo de string de conexión es el siguiente:\n",
    "\n",
    "```python\n",
    "uri = 'sqlite:///base_de_datos.db'\n",
    "```"
   ]
  },
  {
   "cell_type": "markdown",
   "id": "68627906",
   "metadata": {},
   "source": [
    "**Librería sqlite** \n",
    "\n",
    "SQLite está integrado en Python a través del módulo sqlite3, aunque si no está instalado podemos instalarlo con el siguiente comando:\n",
    "\n",
    "```bash\n",
    "pip install pysqlite3 \n",
    "```\n",
    "\n",
    "\n",
    "Un ejemplo de código es el siguiente:\n",
    "\n",
    "```python\n",
    "import sqlite3\n",
    "\n",
    "# conectar a la base de datos (o crearla si no existe)\n",
    "conexion = sqlite3.connect('mi_base_de_datos.db')\n",
    "\n",
    "# Crear un cursor\n",
    "cursor = conexion.cursor()\n",
    "\n",
    "\n",
    "# crear una tabla\n",
    "cursor.execute('''\n",
    "\n",
    "CREATE TABLE IF NOT EXISTS usuarios (\n",
    "    id INTEGER PRIMARY KEY,\n",
    "    nombre TEXT,\n",
    "    edad INTEGER\n",
    ")\n",
    "\n",
    "''')\n",
    "\n",
    "\n",
    "# insertar datos\n",
    "cursor.execute('INSERT INTO usuarios (nombre, edad) VALUES (?, ?)', ('Carlos', 25))\n",
    "cursor.execute('INSERT INTO usuarios (nombre, edad) VALUES (?, ?)', ('Laura', 32))\n",
    "\n",
    "\n",
    "# confirmar los cambios\n",
    "conexion.commit()\n",
    "\n",
    "# consultar datos\n",
    "cursor.execute('SELECT * FROM usuarios')\n",
    "for row in cursor.fetchall():\n",
    "    print(row)\n",
    "\n",
    "# cerrar la conexión\n",
    "conexion.close()\n",
    "\n",
    "```"
   ]
  }
 ],
 "metadata": {
  "kernelspec": {
   "display_name": "ia",
   "language": "python",
   "name": "ia"
  },
  "language_info": {
   "codemirror_mode": {
    "name": "ipython",
    "version": 3
   },
   "file_extension": ".py",
   "mimetype": "text/x-python",
   "name": "python",
   "nbconvert_exporter": "python",
   "pygments_lexer": "ipython3",
   "version": "3.9.19"
  },
  "toc": {
   "base_numbering": 1,
   "nav_menu": {},
   "number_sections": false,
   "sideBar": true,
   "skip_h1_title": true,
   "title_cell": "Tabla de Contenidos",
   "title_sidebar": "Contents",
   "toc_cell": true,
   "toc_position": {
    "height": "684.444px",
    "left": "112px",
    "top": "0px",
    "width": "335.998px"
   },
   "toc_section_display": true,
   "toc_window_display": true
  }
 },
 "nbformat": 4,
 "nbformat_minor": 5
}
