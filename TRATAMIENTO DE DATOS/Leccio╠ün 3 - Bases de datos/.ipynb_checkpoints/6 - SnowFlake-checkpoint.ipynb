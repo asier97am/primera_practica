{
 "cells": [
  {
   "cell_type": "markdown",
   "id": "c9b118a4",
   "metadata": {},
   "source": [
    "# 6 - SnowFlake\n",
    "\n",
    "\n",
    "<br>\n",
    "<br>\n",
    "\n",
    "<img src=\"https://raw.githubusercontent.com/Hack-io-AI/ai_images/main/other_relational_db.webp\" style=\"width:400px;\"/>"
   ]
  },
  {
   "cell_type": "markdown",
   "id": "0c6d9d91",
   "metadata": {
    "toc": true
   },
   "source": [
    "<h1>Tabla de Contenidos<span class=\"tocSkip\"></span></h1>\n",
    "<div class=\"toc\"><ul class=\"toc-item\"><li><span><a href=\"#1---SnowFlake\" data-toc-modified-id=\"1---SnowFlake-1\">1 - SnowFlake</a></span></li></ul></div>"
   ]
  },
  {
   "cell_type": "markdown",
   "id": "c1159b26",
   "metadata": {},
   "source": [
    "## 1 - SnowFlake\n",
    "\n",
    "<img src=\"https://raw.githubusercontent.com/Hack-io-AI/ai_images/main/snowflake.png\" style=\"width:400px;\"/>"
   ]
  },
  {
   "cell_type": "markdown",
   "id": "8289a195",
   "metadata": {},
   "source": [
    "[Snowflake](https://signup.snowflake.com/) es una plataforma de almacenamiento y análisis de datos basada en la nube que ofrece una arquitectura única y escalable diseñada para manejar grandes volúmenes de datos de manera eficiente. Fundada en 2012 por Benoit Dageville, Thierry Cruanes y Marcin Zukowski, Snowflake se ha convertido en una de las soluciones más populares para la gestión y el análisis de datos en la nube."
   ]
  },
  {
   "cell_type": "markdown",
   "id": "bbcf4f03",
   "metadata": {},
   "source": [
    "**Características principales de Snowflake**\n",
    "\n",
    "\n",
    "1. **Arquitectura multi-cluster y compartida**: Snowflake utiliza una arquitectura patentada denominada \"multi-cluster shared data architecture\". Esta arquitectura separa el almacenamiento de datos del cómputo, lo que permite a los usuarios escalar estos componentes de forma independiente según sus necesidades.\n",
    "\n",
    "\n",
    "2. **Escalabilidad y elasticidad**: La plataforma puede escalar automáticamente hacia arriba o hacia abajo, lo que significa que puede ajustar los recursos de cómputo en función de la demanda. Esto es particularmente útil para manejar cargas de trabajo fluctuantes sin intervención manual.\n",
    "\n",
    "\n",
    "3. **Separación de almacenamiento y cómputo**: A diferencia de muchos sistemas tradicionales, Snowflake permite escalar el almacenamiento y el cómputo por separado. Los datos se almacenan en un almacenamiento centralizado en la nube, mientras que los recursos de cómputo se pueden escalar según sea necesario.\n",
    "\n",
    "\n",
    "4. **Compatibilidad SQL**: Snowflake es completamente compatible con SQL, lo que permite a los usuarios ejecutar consultas SQL estándar para interactuar con los datos. También soporta funciones avanzadas como la creación de vistas materializadas, funciones definidas por el usuario y procedimientos almacenados.\n",
    "\n",
    "\n",
    "5. **Soporte para datos semi-estructurados**: Snowflake puede manejar datos estructurados y semi-estructurados como JSON, Avro y Parquet, sin necesidad de transformación previa. Esto facilita la integración de diferentes tipos de datos en la misma plataforma.\n",
    "\n",
    "\n",
    "6. **Seguridad y cumplimiento**: La seguridad es una prioridad en Snowflake. Ofrece características de seguridad avanzadas como cifrado de datos en reposo y en tránsito, control de acceso basado en roles (RBAC), y cumplimiento con normativas como GDPR, HIPAA y SOC 2.\n",
    "\n",
    "\n",
    "7. **Tiempo de cero copia (Time Travel)**: Esta característica permite a los usuarios acceder a versiones anteriores de sus datos hasta por 90 días, lo que facilita la recuperación de datos en caso de errores o cambios no deseados.\n",
    "\n",
    "\n",
    "8. **Compartición de datos**: Snowflake permite compartir datos de forma segura y en tiempo real con otras cuentas de Snowflake sin necesidad de copiar físicamente los datos, facilitando la colaboración y el intercambio de datos.\n",
    "\n"
   ]
  },
  {
   "cell_type": "markdown",
   "id": "9d54abea",
   "metadata": {},
   "source": [
    "**Arquitectura de Snowflake**\n",
    "\n",
    "\n",
    "1. **Almacenamiento de datos**: Los datos se almacenan en un formato comprimido y optimizado en la nube, utilizando servicios como Amazon S3, Microsoft Azure Blob Storage o Google Cloud Storage. Esta capa gestiona todos los aspectos del almacenamiento de datos, incluidos los archivos de datos comprimidos, las estructuras de metadatos, y las estadísticas.\n",
    "\n",
    "\n",
    "2. **Procesamiento de datos (Compute)**: Esta capa maneja el procesamiento y la ejecución de consultas. Snowflake utiliza \"virtual warehouses\" (almacenes virtuales) que son clústeres de cómputo escalables y elásticos. Cada almacén virtual puede escalar de manera independiente y se puede ajustar para manejar diferentes cargas de trabajo.\n",
    "\n",
    "\n",
    "3. **Servicios en la nube**: Esta capa coordina y gestiona todas las actividades de Snowflake. Incluye servicios como autenticación, gestión de infraestructura, optimización de consultas, y gestión de transacciones. Estos servicios son responsables de la funcionalidad de alto nivel y de garantizar que todo funcione de manera eficiente.\n",
    "\n"
   ]
  },
  {
   "cell_type": "markdown",
   "id": "f3fcb73c",
   "metadata": {},
   "source": [
    "**Ventajas de usar Snowflake**\n",
    "\n",
    "\n",
    "1. **Fácil de usar**: Snowflake es conocido por su simplicidad y facilidad de uso. No requiere un equipo dedicado de administración de bases de datos y la mayoría de las tareas de mantenimiento se gestionan automáticamente.\n",
    "\n",
    "\n",
    "2. **Escalabilidad y rendimiento**: Snowflake puede manejar cargas de trabajo masivas y escalar tanto el almacenamiento como el cómputo de manera independiente. Esto permite un rendimiento óptimo sin costos innecesarios.\n",
    "\n",
    "\n",
    "3. **Integración con herramientas de BI y ETL**: Snowflake se integra fácilmente con muchas herramientas populares de Business Intelligence (BI) y de Extracción, Transformación y Carga (ETL), lo que facilita la incorporación en flujos de trabajo existentes.\n",
    "\n",
    "\n",
    "4. **Modelo de precios basado en uso**: Snowflake utiliza un modelo de precios basado en el uso, lo que significa que los usuarios solo pagan por los recursos que realmente utilizan. Esto puede resultar en ahorros significativos en comparación con soluciones tradicionales.\n",
    "\n",
    "\n",
    "5. **Alta disponibilidad y durabilidad**: Al estar basado en la nube, Snowflake ofrece alta disponibilidad y durabilidad de los datos. Sus datos están replicados en múltiples regiones, lo que garantiza la continuidad del negocio."
   ]
  },
  {
   "cell_type": "markdown",
   "id": "06e6a7a3",
   "metadata": {},
   "source": [
    "**Uso es SQLAlchemy**"
   ]
  },
  {
   "cell_type": "code",
   "execution_count": 1,
   "id": "a07504d2",
   "metadata": {},
   "outputs": [
    {
     "data": {
      "text/plain": [
       "True"
      ]
     },
     "execution_count": 1,
     "metadata": {},
     "output_type": "execute_result"
    }
   ],
   "source": [
    "# cargamos dotenv\n",
    "\n",
    "import os                           \n",
    "from dotenv import load_dotenv      \n",
    "\n",
    "load_dotenv()"
   ]
  },
  {
   "cell_type": "code",
   "execution_count": 2,
   "id": "2bfa7587",
   "metadata": {},
   "outputs": [],
   "source": [
    "# servidor y credenciales\n",
    "\n",
    "snowflake_account = os.getenv('snowflake_account')  # tiene esta pinta, MYQFELQ-IT56823\n",
    "\n",
    "username = os.getenv('username')                    # tu nombre de usuario\n",
    "\n",
    "password = os.getenv('password')                    # tu clave de acceso\n",
    "\n",
    "database = os.getenv('database')                    # nombre de la base de datos\n",
    "\n",
    "schema = os.getenv('schema')                        # nombre del esquema\n",
    "\n",
    "warehouse = os.getenv('warehouse')                  # puede tener esta pinta, COMPUTE_WH\n",
    " \n",
    "role = os.getenv('role')                            # algo así, ACCOUNTADMIN"
   ]
  },
  {
   "cell_type": "code",
   "execution_count": 3,
   "id": "297c2128",
   "metadata": {},
   "outputs": [],
   "source": [
    "# string de conexión\n",
    "\n",
    "uri = f'snowflake://{username}:{password}@{snowflake_account}/{database}/{schema}?warehouse={warehouse}&role={role}'\n",
    "    "
   ]
  }
 ],
 "metadata": {
  "kernelspec": {
   "display_name": "ia",
   "language": "python",
   "name": "ia"
  },
  "language_info": {
   "codemirror_mode": {
    "name": "ipython",
    "version": 3
   },
   "file_extension": ".py",
   "mimetype": "text/x-python",
   "name": "python",
   "nbconvert_exporter": "python",
   "pygments_lexer": "ipython3",
   "version": "3.9.19"
  },
  "toc": {
   "base_numbering": 1,
   "nav_menu": {},
   "number_sections": false,
   "sideBar": true,
   "skip_h1_title": true,
   "title_cell": "Tabla de Contenidos",
   "title_sidebar": "Contents",
   "toc_cell": true,
   "toc_position": {
    "height": "684.444px",
    "left": "112px",
    "top": "0px",
    "width": "335.998px"
   },
   "toc_section_display": true,
   "toc_window_display": true
  }
 },
 "nbformat": 4,
 "nbformat_minor": 5
}
