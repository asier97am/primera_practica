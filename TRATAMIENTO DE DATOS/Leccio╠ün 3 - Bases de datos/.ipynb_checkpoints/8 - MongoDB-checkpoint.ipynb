{
 "cells": [
  {
   "cell_type": "markdown",
   "id": "1f1005b8",
   "metadata": {},
   "source": [
    "# 8 - MongoDB\n",
    "\n",
    "\n",
    "<br>\n",
    "<br>\n",
    "\n",
    "<img src=\"https://raw.githubusercontent.com/Hack-io-AI/ai_images/main/mongodb.jpeg\" style=\"width:400px;\"/>"
   ]
  },
  {
   "cell_type": "markdown",
   "id": "8c0dd927",
   "metadata": {
    "toc": true
   },
   "source": [
    "<h1>Tabla de Contenidos<span class=\"tocSkip\"></span></h1>\n",
    "<div class=\"toc\"><ul class=\"toc-item\"><li><span><a href=\"#1---¿Qué-es-MongoDB?\" data-toc-modified-id=\"1---¿Qué-es-MongoDB?-1\">1 - ¿Qué es MongoDB?</a></span></li><li><span><a href=\"#2---PyMongo\" data-toc-modified-id=\"2---PyMongo-2\">2 - PyMongo</a></span></li><li><span><a href=\"#3---Conexión-con-el-cliente\" data-toc-modified-id=\"3---Conexión-con-el-cliente-3\">3 - Conexión con el cliente</a></span></li><li><span><a href=\"#4---Crear-base-de-datos\" data-toc-modified-id=\"4---Crear-base-de-datos-4\">4 - Crear base de datos</a></span></li><li><span><a href=\"#5---Crear-colección\" data-toc-modified-id=\"5---Crear-colección-5\">5 - Crear colección</a></span></li><li><span><a href=\"#6---Insertar-datos\" data-toc-modified-id=\"6---Insertar-datos-6\">6 - Insertar datos</a></span></li><li><span><a href=\"#7---Consultas-con-find\" data-toc-modified-id=\"7---Consultas-con-find-7\">7 - Consultas con find</a></span><ul class=\"toc-item\"><li><span><a href=\"#7.1---filter\" data-toc-modified-id=\"7.1---filter-7.1\">7.1 - filter</a></span></li><li><span><a href=\"#7.2---projection\" data-toc-modified-id=\"7.2---projection-7.2\">7.2 - projection</a></span></li><li><span><a href=\"#7.3---limit\" data-toc-modified-id=\"7.3---limit-7.3\">7.3 - limit</a></span></li><li><span><a href=\"#7.4---sort\" data-toc-modified-id=\"7.4---sort-7.4\">7.4 - sort</a></span></li><li><span><a href=\"#7.5---skip\" data-toc-modified-id=\"7.5---skip-7.5\">7.5 - skip</a></span></li><li><span><a href=\"#7.6---Ejemplo-completo\" data-toc-modified-id=\"7.6---Ejemplo-completo-7.6\">7.6 - Ejemplo completo</a></span></li></ul></li><li><span><a href=\"#8---Actualizar-documento\" data-toc-modified-id=\"8---Actualizar-documento-8\">8 - Actualizar documento</a></span></li><li><span><a href=\"#9---Borrar-documento\" data-toc-modified-id=\"9---Borrar-documento-9\">9 - Borrar documento</a></span></li><li><span><a href=\"#10---Borrar-colección\" data-toc-modified-id=\"10---Borrar-colección-10\">10 - Borrar colección</a></span></li></ul></div>"
   ]
  },
  {
   "cell_type": "markdown",
   "id": "d9cda93a",
   "metadata": {},
   "source": [
    "## 1 - ¿Qué es MongoDB?"
   ]
  },
  {
   "cell_type": "markdown",
   "id": "cc364ae4",
   "metadata": {},
   "source": [
    "MongoDB es una base de datos NoSQL de código abierto que se utiliza para el almacenamiento y la gestión de datos de alta escala. A diferencia de las bases de datos relacionales tradicionales que utilizan tablas y filas, MongoDB almacena datos en documentos flexibles, similar a los objetos JSON, lo que permite una estructura de datos más dinámica y jerárquica.\n"
   ]
  },
  {
   "cell_type": "markdown",
   "id": "192f0ca3",
   "metadata": {},
   "source": [
    "**Características principales de MongoDB**\n",
    "\n",
    "\n",
    "1. **Modelo de datos basado en documentos**: MongoDB almacena datos en documentos BSON (Binary JSON). Cada documento es un conjunto de pares clave-valor, lo que permite una estructura de datos flexible y jerárquica.\n",
    "\n",
    "\n",
    "2. **NoSQL**: Como una base de datos NoSQL, MongoDB no requiere un esquema fijo, lo que permite una rápida iteración y evolución de las aplicaciones. Esto lo hace ideal para aplicaciones con requisitos de datos no estructurados o semi-estructurados.\n",
    "\n",
    "\n",
    "3. **Escalabilidad horizontal**: MongoDB está diseñado para escalar horizontalmente a través de particionamiento, lo que permite distribuir datos y carga de trabajo en múltiples servidores.\n",
    "\n",
    "\n",
    "4. **Consultas y agregaciones poderosas**: MongoDB proporciona un lenguaje de consultas rico y potente, permitiendo consultas ad-hoc, búsquedas por campo, rangos y expresiones regulares. También soporta operaciones de agregación avanzadas para el análisis de datos.\n",
    "\n",
    "\n",
    "5. **Alta disponibilidad**: Con la replicación, MongoDB ofrece alta disponibilidad y recuperación ante desastres. Los conjuntos de réplicas replican los datos en varios servidores, lo que garantiza redundancia y fiabilidad.\n",
    "\n",
    "\n",
    "6. **Compatibilidad con JSON y BSON**: MongoDB utiliza BSON, una extensión binaria de JSON, para almacenar datos. Esto permite almacenar tipos de datos más complejos y optimizar el rendimiento en comparación con JSON puro.\n",
    "\n",
    "\n",
    "7. **Flexibilidad de esquema**: MongoDB permite a los desarrolladores modificar fácilmente la estructura de los documentos sin necesidad de realizar migraciones de esquema complicadas. Esto es especialmente útil en entornos de desarrollo ágil.\n"
   ]
  },
  {
   "cell_type": "markdown",
   "id": "55f88fdb",
   "metadata": {},
   "source": [
    "**Arquitectura de MongoDB**\n",
    "\n",
    "\n",
    "1. **Bases de datos y colecciones**: En MongoDB, una base de datos contiene un conjunto de colecciones. Las colecciones son análogas a las tablas en una base de datos relacional, pero no tienen un esquema fijo.\n",
    "\n",
    "\n",
    "2. **Documentos**: Los documentos son las unidades básicas de datos en MongoDB. Cada documento es un conjunto de pares clave-valor y puede contener estructuras jerárquicas mediante documentos anidados.\n",
    "\n",
    "\n",
    "3. **Índices**: MongoDB soporta índices en cualquier campo de un documento. Los índices mejoran significativamente la eficiencia de las consultas y operaciones de búsqueda.\n",
    "\n",
    "\n",
    "4. **Conjuntos de réplicas**: Un conjunto de réplicas es un grupo de instancias de MongoDB que mantienen los mismos datos, proporcionando alta disponibilidad y redundancia.\n",
    "\n",
    "\n",
    "5. **Sharding**: El sharding, particionamiento, permite escalar horizontalmente las bases de datos distribuyendo los datos y las operaciones a través de múltiples servidores.\n"
   ]
  },
  {
   "cell_type": "markdown",
   "id": "2fb3b861",
   "metadata": {},
   "source": [
    "**Ventajas**\n",
    "\n",
    "+ Flexibilidad de esquema: Permite almacenar datos sin un esquema predefinido, lo que es ideal para aplicaciones que requieren estructuras de datos dinámicas.\n",
    "\n",
    "+ Escalabilidad: Facilita la escalabilidad horizontal, permitiendo manejar grandes volúmenes de datos distribuidos.\n",
    "\n",
    "+ Consultas rápidas: Proporciona consultas rápidas y eficientes con soporte para índices en cualquier campo.\n",
    "\n",
    "+ Alta disponibilidad: Ofrece alta disponibilidad y recuperación ante desastres mediante conjuntos de réplicas.\n",
    "\n",
    "+ Facilidad de uso: Su modelo basado en documentos y la compatibilidad con JSON lo hacen fácil de usar y aprender.\n"
   ]
  },
  {
   "cell_type": "markdown",
   "id": "920e864c",
   "metadata": {},
   "source": [
    "**Desventajas**\n",
    "\n",
    "+ Consumo de espacio: El uso de BSON puede consumir más espacio de almacenamiento en comparación con formatos binarios más compactos.\n",
    "\n",
    "+ Consistencia eventual: En configuraciones distribuidas, puede operar bajo un modelo de consistencia eventual, lo que puede no ser adecuado para todas las aplicaciones.\n",
    "\n",
    "+ No es ideal para transacciones complejas: Aunque ha mejorado en las versiones recientes, MongoDB no es tan fuerte como las bases de datos relacionales para transacciones complejas que requieren propiedades ACID estrictas."
   ]
  },
  {
   "cell_type": "markdown",
   "id": "7781303f",
   "metadata": {},
   "source": [
    "## 2 - PyMongo"
   ]
  },
  {
   "cell_type": "markdown",
   "id": "ad332bed",
   "metadata": {},
   "source": [
    "PyMongo es una biblioteca oficial de MongoDB para Python. Proporciona una interfaz para interactuar con MongoDB desde aplicaciones escritas en Python, permitiendo realizar operaciones de base de datos como insertar, actualizar, eliminar y consultar documentos, así como manejar índices y realizar operaciones de agregación.\n",
    "\n",
    "\n",
    "Para usar esta librería debemos ejecutar el siguiente comando:\n",
    "```bash\n",
    "pip install pymongo\n",
    "```"
   ]
  },
  {
   "cell_type": "markdown",
   "id": "38a20ef3",
   "metadata": {},
   "source": [
    "## 3 - Conexión con el cliente "
   ]
  },
  {
   "cell_type": "markdown",
   "id": "64f66a5a",
   "metadata": {},
   "source": [
    "Para conectarnos al servidor de MongoDB tenenos que iniciar un cursor, una conexión desde Python al servidor. Un cursor es un objeto que permite iterar sobre los documentos devueltos por una consulta a una colección de MongoDB. Los cursores son una parte fundamental de cómo se recuperan y manejan los datos en MongoDB, ya que permiten procesar grandes conjuntos de resultados de manera eficiente, sin necesidad de cargar todos los documentos en la memoria de una sola vez."
   ]
  },
  {
   "cell_type": "code",
   "execution_count": null,
   "id": "f9546ae5",
   "metadata": {},
   "outputs": [],
   "source": []
  },
  {
   "cell_type": "code",
   "execution_count": null,
   "id": "87d4c98c",
   "metadata": {},
   "outputs": [],
   "source": []
  },
  {
   "cell_type": "code",
   "execution_count": null,
   "id": "7acdc5e7",
   "metadata": {},
   "outputs": [],
   "source": []
  },
  {
   "cell_type": "markdown",
   "id": "c6ecfdac",
   "metadata": {},
   "source": [
    "## 4 - Crear base de datos"
   ]
  },
  {
   "cell_type": "markdown",
   "id": "eddb2fcd",
   "metadata": {},
   "source": [
    "PyMongo nos permite manejar la conexión con el servidor a través de la programación orientada a objetos. Todas las operaciones que realizamos sobre la base de datos las realizaremos de esta manera. La propia base de datos será tratada como un objeto. Para crear una base de datos nueva tan solo tenemos que declararla."
   ]
  },
  {
   "cell_type": "code",
   "execution_count": null,
   "id": "f61e73a8",
   "metadata": {},
   "outputs": [],
   "source": []
  },
  {
   "cell_type": "code",
   "execution_count": null,
   "id": "77b45fa6",
   "metadata": {},
   "outputs": [],
   "source": []
  },
  {
   "cell_type": "code",
   "execution_count": null,
   "id": "52e3f3be",
   "metadata": {},
   "outputs": [],
   "source": []
  },
  {
   "cell_type": "markdown",
   "id": "67ae517c",
   "metadata": {},
   "source": [
    "## 5 - Crear colección"
   ]
  },
  {
   "cell_type": "markdown",
   "id": "f417205d",
   "metadata": {},
   "source": [
    "Una colección es un grupo de documentos relacionados que se almacenan juntos en la base de datos. Las colecciones son análogas a las tablas en las bases de datos relacionales, pero con la flexibilidad añadida de no requerir un esquema fijo. Esto significa que los documentos dentro de una colección pueden tener diferentes campos y estructuras, lo que proporciona una gran flexibilidad para almacenar datos semi-estructurados. Al igual que para crear una nueva base de datos, para crear una nueva colección solo hace falta declararla desde la base de datos."
   ]
  },
  {
   "cell_type": "code",
   "execution_count": null,
   "id": "c7a1ee9e",
   "metadata": {},
   "outputs": [],
   "source": []
  },
  {
   "cell_type": "code",
   "execution_count": null,
   "id": "343e235e",
   "metadata": {},
   "outputs": [],
   "source": []
  },
  {
   "cell_type": "code",
   "execution_count": null,
   "id": "86c1edf5",
   "metadata": {},
   "outputs": [],
   "source": []
  },
  {
   "cell_type": "markdown",
   "id": "165edecd",
   "metadata": {},
   "source": [
    "## 6 - Insertar datos"
   ]
  },
  {
   "cell_type": "markdown",
   "id": "af9ffeea",
   "metadata": {},
   "source": [
    "Un documento es la unidad básica de datos. Los documentos son análogos a las filas en las tablas de bases de datos relacionales, pero con una estructura más flexible y jerárquica. Se almacenan en formato BSON (Binary JSON) dentro del servidor de Mongo, lo que permite una representación eficiente y flexible de los datos. Para nosotros en Python, un documento es simplemente un diccionario.\n"
   ]
  },
  {
   "cell_type": "code",
   "execution_count": null,
   "id": "f85cdc1f",
   "metadata": {},
   "outputs": [],
   "source": []
  },
  {
   "cell_type": "code",
   "execution_count": null,
   "id": "b7532672",
   "metadata": {},
   "outputs": [],
   "source": []
  },
  {
   "cell_type": "code",
   "execution_count": null,
   "id": "ab07dc4e",
   "metadata": {},
   "outputs": [],
   "source": []
  },
  {
   "cell_type": "code",
   "execution_count": null,
   "id": "f6e93b9f",
   "metadata": {},
   "outputs": [],
   "source": []
  },
  {
   "cell_type": "code",
   "execution_count": null,
   "id": "cb074a42",
   "metadata": {},
   "outputs": [],
   "source": []
  },
  {
   "cell_type": "markdown",
   "id": "d5fbdfce",
   "metadata": {},
   "source": [
    "## 7 - Consultas con find"
   ]
  },
  {
   "cell_type": "markdown",
   "id": "6c3f9f1c",
   "metadata": {},
   "source": [
    "El método `find` es el método principal de consulta. Podemos hacer el equivalente de SQL con el `SELECT FROM`. Veamos el ejemplo más sencillo."
   ]
  },
  {
   "cell_type": "code",
   "execution_count": null,
   "id": "2e084ae1",
   "metadata": {},
   "outputs": [],
   "source": []
  },
  {
   "cell_type": "code",
   "execution_count": null,
   "id": "0c0a3a5e",
   "metadata": {},
   "outputs": [],
   "source": []
  },
  {
   "cell_type": "code",
   "execution_count": null,
   "id": "2a3e342f",
   "metadata": {},
   "outputs": [],
   "source": []
  },
  {
   "cell_type": "code",
   "execution_count": null,
   "id": "7417d827",
   "metadata": {},
   "outputs": [],
   "source": []
  },
  {
   "cell_type": "markdown",
   "id": "58295d43",
   "metadata": {},
   "source": [
    "Usar el `find` de esta manera hace que se consulten todos y cada uno de los documentos que existen en esa colección. Este método tiene varios argumentos para gestionar la consulta: \n",
    "\n",
    "1. `filter`: Es el equivalente del `WHERE` en SQL. Nos permite filtrar el resultado de la consulta que estamos haciendo y que nos devuelva solo los elementos que queremos.\n",
    "\n",
    "\n",
    "2. `projection`: Con este parámetro seleccionamos los campos que queremos en la consulta. El equivalente en SQL es la selección de columnas. Si no usamos este parámetro sería equivalente a usar `*` en el `SELECT`. \n",
    "\n",
    "\n",
    "3. `limit`: Limita el número de documentos de la consulta, equivalente al `LIMIT` de SQL.\n",
    "\n",
    "\n",
    "4. `sort`: Ordena el resultado de la consulta en función de una de las claves del documento. Equivalente al `ORDER BY` de SQL.\n",
    "\n",
    "\n",
    "5. `skip`: Salta un número dado de elementos del resultado de la consulta."
   ]
  },
  {
   "cell_type": "markdown",
   "id": "b3862c44",
   "metadata": {},
   "source": [
    "### 7.1 - filter"
   ]
  },
  {
   "cell_type": "markdown",
   "id": "b4dad267",
   "metadata": {},
   "source": [
    "Veamos un ejemplo sencillo de consulta con el filter. El equivalente de la consulta en SQL sería `SELECT * FROM colec WHERE edad=39;`"
   ]
  },
  {
   "cell_type": "code",
   "execution_count": null,
   "id": "3f3e32be",
   "metadata": {},
   "outputs": [],
   "source": []
  },
  {
   "cell_type": "markdown",
   "id": "438ab615",
   "metadata": {},
   "source": [
    "Para realizar otras operaciones como mayor que o menor que tenemos que usar operadores propios de Mongo. Veamos una lista de estos operadores:\n",
    "\n",
    "\n",
    "**Operadores de comparación**:\n",
    "\n",
    "1. `$eq`: Igual a un valor. Ejemplo:     \n",
    "\n",
    "```python \n",
    "{'clave': {'$eq': 'valor'}} \n",
    "```\n",
    "\n",
    "\n",
    "2. `$ne`: Distinto de un valor. Ejemplo: \n",
    "\n",
    "```python \n",
    "{'clave': {'$ne': 'valor'}} \n",
    "```\n",
    "\n",
    "\n",
    "3. `$gt`: Mayor que un valor. Ejemplo: \n",
    "\n",
    "```python \n",
    "{'clave': {'$gt': 'valor'}} \n",
    "```\n",
    "\n",
    "\n",
    "4. `$gte`: Mayor o igual a un valor. Ejemplo: \n",
    "\n",
    "```python \n",
    "{'clave': {'$gte': 'valor'}} \n",
    "```\n",
    "\n",
    "\n",
    "5. `$lt`: Menor que un valor. Ejemplo: \n",
    "\n",
    "```python \n",
    "{'clave': {'$lt': 'valor'}} \n",
    "```\n",
    "\n",
    "\n",
    "6. `$lte`: Menor o igual a un valor. Ejemplo: \n",
    "\n",
    "```python \n",
    "{'clave': {'$lte': 'valor'}} \n",
    "```\n",
    "\n",
    "\n",
    "\n",
    "\n",
    "**Operadores lógicos**:\n",
    "\n",
    "1. `$and`: Operación lógica \"AND\" en una lista de filtros. Ejemplo: \n",
    "\n",
    "```python \n",
    "{ '$and': [ { filtro_1 }, { filtro_2 }, ... ] }\n",
    "```\n",
    "\n",
    "\n",
    "2. `$or`: Operación lógica \"OR\" en una lista de filtros. Ejemplo: \n",
    "\n",
    "```python \n",
    "{ '$or': [ { filtro_1 }, { filtro_2 }, ... ] }\n",
    "```\n",
    "\n",
    "\n",
    "3. `$nor`: Operación lógica \"NOR\" en una lista de filtros. Ejemplo: \n",
    "\n",
    "```python \n",
    "{ '$nor': [ { filtro_1 }, { filtro_2 }, ... ] }\n",
    "```\n",
    "\n",
    "\n",
    "4. `$not`: Lo contrario de un filtro.  Ejemplo: \n",
    "\n",
    "```python \n",
    "{'$not': filtro} \n",
    "```\n",
    "\n",
    "\n",
    "\n",
    "**Operadores de elemento**:\n",
    "\n",
    "1. `$exists`: Busca los documentos que contienen un campo específico. Ejemplo: \n",
    "\n",
    "```python \n",
    "{'clave': {'$exists': True}} \n",
    "```\n",
    "\n",
    "\n",
    "2. `$type`: Busca los documentos que tienen una clave con el tipo de dato especificado. Ejemplo: \n",
    "\n",
    "```python \n",
    "{'clave': {'$type': tipo_dato}} \n",
    "```\n",
    "\n",
    "\n",
    "\n",
    "**Más operadores**:\n",
    "\n",
    "1. `$in`: Busca los documentos cuyos valores estén en una lista. Ejemplo: \n",
    "\n",
    "```python \n",
    "{'clave': {'$in': [v1, v2, v3]}} \n",
    "```\n",
    "\n",
    "\n",
    "2. `$nin`: Busca los documentos cuyos valores no estén en una lista. Ejemplo: \n",
    "\n",
    "```python \n",
    "{'clave': {'$nin': [v1, v2, v3]}} \n",
    "```\n",
    "\n",
    "\n",
    "3. `$regex`: Busca utilizando expresiones regulares. Ejemplo: \n",
    "\n",
    "```python \n",
    "{'clave': {'$regex': 'expresión_regular'}} \n",
    "```\n",
    "\n"
   ]
  },
  {
   "cell_type": "code",
   "execution_count": null,
   "id": "68248408",
   "metadata": {},
   "outputs": [],
   "source": []
  },
  {
   "cell_type": "code",
   "execution_count": null,
   "id": "0c6ec84a",
   "metadata": {},
   "outputs": [],
   "source": []
  },
  {
   "cell_type": "code",
   "execution_count": null,
   "id": "1bc8d87a",
   "metadata": {},
   "outputs": [],
   "source": []
  },
  {
   "cell_type": "code",
   "execution_count": null,
   "id": "43aec0e6",
   "metadata": {},
   "outputs": [],
   "source": []
  },
  {
   "cell_type": "code",
   "execution_count": null,
   "id": "fed2e7a5",
   "metadata": {},
   "outputs": [],
   "source": []
  },
  {
   "cell_type": "markdown",
   "id": "3aae7085",
   "metadata": {},
   "source": [
    "### 7.2 - projection"
   ]
  },
  {
   "cell_type": "markdown",
   "id": "b4a0c3d0",
   "metadata": {},
   "source": [
    "Con la proyección podemos selecionar las claves que queremos ver. Sería el equivalente a seleccionar columnas de una tabla. Se gestiona con booleanos, True para que la clave se devuelva y False para que no."
   ]
  },
  {
   "cell_type": "code",
   "execution_count": null,
   "id": "e81acd9a",
   "metadata": {},
   "outputs": [],
   "source": []
  },
  {
   "cell_type": "markdown",
   "id": "e5a33b12",
   "metadata": {},
   "source": [
    "Vemos que el `_id` siempre aparece, para eliminarlo debemos poner explícitamente False."
   ]
  },
  {
   "cell_type": "code",
   "execution_count": null,
   "id": "aa7b6d65",
   "metadata": {},
   "outputs": [],
   "source": []
  },
  {
   "cell_type": "markdown",
   "id": "b5ae369a",
   "metadata": {},
   "source": [
    "Los documentos que no tienen las claves filtradas también se devuelven, para evitar eso podemos filtrar desde una de las claves buscadas."
   ]
  },
  {
   "cell_type": "code",
   "execution_count": null,
   "id": "21aa8d04",
   "metadata": {},
   "outputs": [],
   "source": []
  },
  {
   "cell_type": "markdown",
   "id": "00e4c843",
   "metadata": {},
   "source": [
    "### 7.3 - limit"
   ]
  },
  {
   "cell_type": "markdown",
   "id": "52827f89",
   "metadata": {},
   "source": [
    "Con este parámetro limitamos el número de resultados que nos devuelve la consulta. Equivalente al `LIMIT` de SQL. Devuelve los primeros documentos que se encuentra."
   ]
  },
  {
   "cell_type": "code",
   "execution_count": null,
   "id": "e2b085af",
   "metadata": {},
   "outputs": [],
   "source": []
  },
  {
   "cell_type": "markdown",
   "id": "edb6c4f2",
   "metadata": {},
   "source": [
    "### 7.4 - sort"
   ]
  },
  {
   "cell_type": "markdown",
   "id": "720dcdd0",
   "metadata": {},
   "source": [
    "Con este parámetro podemos ordenar la respuesta de la consulta de mayor a menor o viceversa. Ordenamos por una clave y asignamos `1` para ascendente y `-1` para descendente. Es el equivalente `ORDER BY` de SQL."
   ]
  },
  {
   "cell_type": "code",
   "execution_count": null,
   "id": "eee43d14",
   "metadata": {},
   "outputs": [],
   "source": []
  },
  {
   "cell_type": "code",
   "execution_count": null,
   "id": "9b88c51f",
   "metadata": {},
   "outputs": [],
   "source": []
  },
  {
   "cell_type": "markdown",
   "id": "be38e623",
   "metadata": {},
   "source": [
    "### 7.5 - skip"
   ]
  },
  {
   "cell_type": "markdown",
   "id": "c536965a",
   "metadata": {},
   "source": [
    "Con este parámetro nos podemos saltar el número de registros que queramos. Se saltan los primeros documentos que se encuentra."
   ]
  },
  {
   "cell_type": "code",
   "execution_count": null,
   "id": "77037513",
   "metadata": {},
   "outputs": [],
   "source": []
  },
  {
   "cell_type": "markdown",
   "id": "a58fbf46",
   "metadata": {},
   "source": [
    "### 7.6 - Ejemplo completo"
   ]
  },
  {
   "cell_type": "code",
   "execution_count": null,
   "id": "7fcdc37b",
   "metadata": {},
   "outputs": [],
   "source": []
  },
  {
   "cell_type": "markdown",
   "id": "e3a37949",
   "metadata": {},
   "source": [
    "## 8 - Actualizar documento"
   ]
  },
  {
   "cell_type": "markdown",
   "id": "ad691d29",
   "metadata": {},
   "source": [
    "Para actualizar el valor de un documento se utiliza el operador `$set`. Actualizar puede significar cambiar el valor de una clave ya existente o añadir una clave-valor dentro del documento que no existe."
   ]
  },
  {
   "cell_type": "code",
   "execution_count": null,
   "id": "dfb6d12b",
   "metadata": {},
   "outputs": [],
   "source": []
  },
  {
   "cell_type": "code",
   "execution_count": null,
   "id": "37de1741",
   "metadata": {},
   "outputs": [],
   "source": []
  },
  {
   "cell_type": "code",
   "execution_count": null,
   "id": "cf36c6a1",
   "metadata": {},
   "outputs": [],
   "source": []
  },
  {
   "cell_type": "code",
   "execution_count": null,
   "id": "5e8eba40",
   "metadata": {},
   "outputs": [],
   "source": []
  },
  {
   "cell_type": "code",
   "execution_count": null,
   "id": "158b6e79",
   "metadata": {},
   "outputs": [],
   "source": []
  },
  {
   "cell_type": "markdown",
   "id": "492572b2",
   "metadata": {},
   "source": [
    "## 9 - Borrar documento"
   ]
  },
  {
   "cell_type": "markdown",
   "id": "0a231712",
   "metadata": {},
   "source": [
    "Para borrar un documento se usa el método `delete_one` o `delete_many` si queremos borrar varios documentos que cumplan con una condición. El equivalente en SQL sería `DELETE WHERE`."
   ]
  },
  {
   "cell_type": "code",
   "execution_count": null,
   "id": "1a1f4271",
   "metadata": {},
   "outputs": [],
   "source": []
  },
  {
   "cell_type": "code",
   "execution_count": null,
   "id": "f2175b49",
   "metadata": {},
   "outputs": [],
   "source": []
  },
  {
   "cell_type": "code",
   "execution_count": null,
   "id": "e4a2abaa",
   "metadata": {},
   "outputs": [],
   "source": []
  },
  {
   "cell_type": "code",
   "execution_count": null,
   "id": "25717cb2",
   "metadata": {},
   "outputs": [],
   "source": []
  },
  {
   "cell_type": "code",
   "execution_count": null,
   "id": "e3f93134",
   "metadata": {},
   "outputs": [],
   "source": []
  },
  {
   "cell_type": "code",
   "execution_count": null,
   "id": "d06333b3",
   "metadata": {},
   "outputs": [],
   "source": []
  },
  {
   "cell_type": "code",
   "execution_count": null,
   "id": "a290734b",
   "metadata": {},
   "outputs": [],
   "source": []
  },
  {
   "cell_type": "markdown",
   "id": "83f222ae",
   "metadata": {},
   "source": [
    "## 10 - Borrar colección"
   ]
  },
  {
   "cell_type": "markdown",
   "id": "d4a23fce",
   "metadata": {},
   "source": [
    "Es el equivalente al `DROP TABLE` de SQL."
   ]
  },
  {
   "cell_type": "code",
   "execution_count": null,
   "id": "1af398cb",
   "metadata": {},
   "outputs": [],
   "source": []
  },
  {
   "cell_type": "code",
   "execution_count": null,
   "id": "5afc4028",
   "metadata": {},
   "outputs": [],
   "source": []
  },
  {
   "cell_type": "code",
   "execution_count": null,
   "id": "59513dbc",
   "metadata": {},
   "outputs": [],
   "source": []
  }
 ],
 "metadata": {
  "kernelspec": {
   "display_name": "ia",
   "language": "python",
   "name": "ia"
  },
  "language_info": {
   "codemirror_mode": {
    "name": "ipython",
    "version": 3
   },
   "file_extension": ".py",
   "mimetype": "text/x-python",
   "name": "python",
   "nbconvert_exporter": "python",
   "pygments_lexer": "ipython3",
   "version": "3.9.19"
  },
  "toc": {
   "base_numbering": 1,
   "nav_menu": {},
   "number_sections": false,
   "sideBar": true,
   "skip_h1_title": true,
   "title_cell": "Tabla de Contenidos",
   "title_sidebar": "Contents",
   "toc_cell": true,
   "toc_position": {
    "height": "684.444px",
    "left": "59px",
    "top": "0px",
    "width": "268.872px"
   },
   "toc_section_display": true,
   "toc_window_display": true
  }
 },
 "nbformat": 4,
 "nbformat_minor": 5
}
