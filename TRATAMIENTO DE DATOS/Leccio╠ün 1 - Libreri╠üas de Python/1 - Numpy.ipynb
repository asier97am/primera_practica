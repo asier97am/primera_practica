{
 "cells": [
  {
   "cell_type": "markdown",
   "id": "88f98805",
   "metadata": {},
   "source": [
    "# 1 - Numpy\n",
    "\n",
    "\n",
    "<br>\n",
    "<br>\n",
    "\n",
    "<img src=\"https://raw.githubusercontent.com/Hack-io-AI/ai_images/main/numpy.png\" style=\"width:400px;\"/>"
   ]
  },
  {
   "cell_type": "markdown",
   "id": "2780f657",
   "metadata": {
    "toc": true
   },
   "source": [
    "<h1>Tabla de Contenidos<span class=\"tocSkip\"></span></h1>\n",
    "<div class=\"toc\"><ul class=\"toc-item\"><li><span><a href=\"#1---¿Qué-es-Numpy?\" data-toc-modified-id=\"1---¿Qué-es-Numpy?-1\">1 - ¿Qué es Numpy?</a></span></li><li><span><a href=\"#2---Recordatorio-de-álgebra\" data-toc-modified-id=\"2---Recordatorio-de-álgebra-2\">2 - Recordatorio de álgebra</a></span><ul class=\"toc-item\"><li><span><a href=\"#2.1---Concepto-de-tensor\" data-toc-modified-id=\"2.1---Concepto-de-tensor-2.1\">2.1 - Concepto de tensor</a></span></li><li><span><a href=\"#2.2---Operaciones-con-vectores\" data-toc-modified-id=\"2.2---Operaciones-con-vectores-2.2\">2.2 - Operaciones con vectores</a></span><ul class=\"toc-item\"><li><span><a href=\"#2.2.1---Espacio-vectorial\" data-toc-modified-id=\"2.2.1---Espacio-vectorial-2.2.1\">2.2.1 - Espacio vectorial</a></span></li><li><span><a href=\"#2.2.2---Base-vectorial\" data-toc-modified-id=\"2.2.2---Base-vectorial-2.2.2\">2.2.2 - Base vectorial</a></span></li><li><span><a href=\"#2.2.3---Suma-de-vectores\" data-toc-modified-id=\"2.2.3---Suma-de-vectores-2.2.3\">2.2.3 - Suma de vectores</a></span></li><li><span><a href=\"#2.2.4---Producto-escalar\" data-toc-modified-id=\"2.2.4---Producto-escalar-2.2.4\">2.2.4 - Producto escalar</a></span></li><li><span><a href=\"#2.2.5---Producto-vectorial\" data-toc-modified-id=\"2.2.5---Producto-vectorial-2.2.5\">2.2.5 - Producto vectorial</a></span></li></ul></li><li><span><a href=\"#2.3---Operaciones-con-matrices\" data-toc-modified-id=\"2.3---Operaciones-con-matrices-2.3\">2.3 - Operaciones con matrices</a></span><ul class=\"toc-item\"><li><span><a href=\"#2.3.1---Suma-de-matrices\" data-toc-modified-id=\"2.3.1---Suma-de-matrices-2.3.1\">2.3.1 - Suma de matrices</a></span></li><li><span><a href=\"#2.3.2---Producto-matricial\" data-toc-modified-id=\"2.3.2---Producto-matricial-2.3.2\">2.3.2 - Producto matricial</a></span></li><li><span><a href=\"#2.3.3---Matriz-Identidad\" data-toc-modified-id=\"2.3.3---Matriz-Identidad-2.3.3\">2.3.3 - Matriz Identidad</a></span></li><li><span><a href=\"#2.3.4---Matriz-traspuesta--(hermítica)\" data-toc-modified-id=\"2.3.4---Matriz-traspuesta--(hermítica)-2.3.4\">2.3.4 - Matriz traspuesta  (hermítica)</a></span></li><li><span><a href=\"#2.3.5---Matriz-Inversa\" data-toc-modified-id=\"2.3.5---Matriz-Inversa-2.3.5\">2.3.5 - Matriz Inversa</a></span></li><li><span><a href=\"#2.3.6---Determinante\" data-toc-modified-id=\"2.3.6---Determinante-2.3.6\">2.3.6 - Determinante</a></span></li></ul></li></ul></li><li><span><a href=\"#3---Operaciones-con-NumPy\" data-toc-modified-id=\"3---Operaciones-con-NumPy-3\">3 - Operaciones con NumPy</a></span><ul class=\"toc-item\"><li><span><a href=\"#3.1---Creación-de-arrays\" data-toc-modified-id=\"3.1---Creación-de-arrays-3.1\">3.1 - Creación de arrays</a></span></li><li><span><a href=\"#3.2---Dimensiones-y-acceso-a-elementos\" data-toc-modified-id=\"3.2---Dimensiones-y-acceso-a-elementos-3.2\">3.2 - Dimensiones y acceso a elementos</a></span></li><li><span><a href=\"#3.3---Suma-de-vectores\" data-toc-modified-id=\"3.3---Suma-de-vectores-3.3\">3.3 - Suma de vectores</a></span></li><li><span><a href=\"#3.4---Producto-por-escalares\" data-toc-modified-id=\"3.4---Producto-por-escalares-3.4\">3.4 - Producto por escalares</a></span></li><li><span><a href=\"#3.5---Producto-escalar-de-vectores\" data-toc-modified-id=\"3.5---Producto-escalar-de-vectores-3.5\">3.5 - Producto escalar de vectores</a></span></li><li><span><a href=\"#3.6---Producto-vectorial\" data-toc-modified-id=\"3.6---Producto-vectorial-3.6\">3.6 - Producto vectorial</a></span></li><li><span><a href=\"#3.7---Suma-de-matrices\" data-toc-modified-id=\"3.7---Suma-de-matrices-3.7\">3.7 - Suma de matrices</a></span></li><li><span><a href=\"#3.8---Producto-escalar-de-matrices\" data-toc-modified-id=\"3.8---Producto-escalar-de-matrices-3.8\">3.8 - Producto escalar de matrices</a></span></li><li><span><a href=\"#3.9---Producto-matricial\" data-toc-modified-id=\"3.9---Producto-matricial-3.9\">3.9 - Producto matricial</a></span></li><li><span><a href=\"#3.10---Matriz-identidad\" data-toc-modified-id=\"3.10---Matriz-identidad-3.10\">3.10 - Matriz identidad</a></span></li><li><span><a href=\"#3.11---Matriz-traspuesta\" data-toc-modified-id=\"3.11---Matriz-traspuesta-3.11\">3.11 - Matriz traspuesta</a></span></li><li><span><a href=\"#3.12---Matriz-inversa\" data-toc-modified-id=\"3.12---Matriz-inversa-3.12\">3.12 - Matriz inversa</a></span></li><li><span><a href=\"#3.13---Determinante\" data-toc-modified-id=\"3.13---Determinante-3.13\">3.13 - Determinante</a></span></li><li><span><a href=\"#3.14---Otra-operaciones\" data-toc-modified-id=\"3.14---Otra-operaciones-3.14\">3.14 - Otra operaciones</a></span></li></ul></li></ul></div>"
   ]
  },
  {
   "cell_type": "markdown",
   "id": "ec6ec33f",
   "metadata": {},
   "source": [
    "## 1 - ¿Qué es Numpy?"
   ]
  },
  {
   "cell_type": "markdown",
   "id": "1dc63aa5",
   "metadata": {},
   "source": [
    "NumPy (Numerical Python) es el paquete fundamental para computación cientifíca en python. Es una librería de python nos permite manejar vectores, matrices, [tensores](https://es.wikipedia.org/wiki/C%C3%A1lculo_tensorial) (arrays multidimensionales) y además realizar todas las operaciones matemáticas y lógicas de los mismos, como la manipulación de la dimensión, ordenado, selección, I/O, operaciones estadísticas, transformadas de Fourier, simulación aleatoria y un largo etcétera. Constituye la herramienta de álgebra lineal. Aquí, la [documentación](https://numpy.org/doc/stable/) y el [código fuente](https://github.com/numpy/numpy). \n",
    "\n",
    "Numpy suele venir instalado por defecto en el paquete de Python. Si no lo está, podemos instalarlo con el siguiente comando:\n",
    "\n",
    "```bash\n",
    "pip install numpy\n",
    "```"
   ]
  },
  {
   "cell_type": "markdown",
   "id": "2f63e7de",
   "metadata": {},
   "source": [
    "## 2 - Recordatorio de álgebra"
   ]
  },
  {
   "cell_type": "markdown",
   "id": "54ab6691",
   "metadata": {},
   "source": [
    "El álgebra es la rama de la matemática que estudia la combinación de elementos de estructuras abstractas acorde a ciertas reglas. Originalmente esos elementos podían ser interpretados como números o cantidades, por lo que el álgebra en cierto modo fue originalmente una generalización y extensión de la aritmética. Veamos algunos conceptos algebraicos."
   ]
  },
  {
   "cell_type": "markdown",
   "id": "b461225e",
   "metadata": {},
   "source": [
    "### 2.1 - Concepto de tensor"
   ]
  },
  {
   "cell_type": "markdown",
   "id": "64a5b65e",
   "metadata": {},
   "source": [
    "La palabra ['tensor'](https://es.wikipedia.org/wiki/C%C3%A1lculo_tensorial) se utiliza a menudo como abreviatura de campo tensorial, que es un valor tensorial definido en cada punto en una variedad. El primero en utilizar esta palabra fue William Rowan Hamilton en 1846, empleándola para lo que actualmente se conoce como módulo y fue Woldemar Voigt en 1899 quien la empleó en su acepción actual. La palabra tensor proviene del latín tensus, participio pasado de tendere 'estirar, extender'. El nombre se extendió porque la teoría de la elasticidad fue una de las primeras aplicaciones físicas donde se usaron tensores. Gregorio Ricci-Curbastro en 1890 desarrolló la notación actual con el nombre de geometría diferencial absoluta, y se popularizó con la publicación de Cálculo Diferencial Absoluto de Tullio Levi-Civita en 1900. Con la introducción de la teoría de la relatividad general por parte de Albert Einstein alrededor de 1915 se encontró su aplicación más pragmática. La Relatividad General es netamente tensorial. Einstein había aprendido del mismo Levi-Civita el uso de tensores con gran dificultad.\n",
    "\n",
    "Podemos pensar en un tensor como la generalización del ente algebraico. Con un ejemplo se verá más claro.\n",
    "\n",
    "Un **número**, cualquier número, $2$, $3.6$, $\\pi$, $\\phi$, $\\sqrt{2}$, es un **tensor de rango $0$**.\n",
    "\n",
    "Un **vector**, cualquier vector, sea como sea su longitud, $(1, 2, 3)$, $(0, 5, 2, 1, 5)$, $(9,2)$, es un **tensor de rango $1$**.\n",
    "\n",
    "Una **matriz**, cualquier matriz, sean cuales sean sus dimensiones, es un **tensor de rango $2$**.\n",
    "\n",
    "Un **cubo de Rubik** por ejemplo es un **tensor de rango $3$**.\n",
    "\n",
    "Pensar en dimensiones superiores es complicado por no decir imposible, pero se pueden interpretar a través del contenido. Una **bolsa llena de cubos de Rubik** es un **tensor de rango $4$**.\n",
    "\n",
    "Una **caja llena de bolsas que están llenas de cubos de Rubik es un tensor de rango $5$**.\n",
    "\n",
    "Y así sucesivamente."
   ]
  },
  {
   "cell_type": "markdown",
   "id": "ae331521",
   "metadata": {},
   "source": [
    "### 2.2 - Operaciones con vectores"
   ]
  },
  {
   "cell_type": "markdown",
   "id": "2664c419",
   "metadata": {},
   "source": [
    "#### 2.2.1 - Espacio vectorial\n",
    "\n",
    "La definición matemática de [espacio vectorial](https://es.wikipedia.org/wiki/Espacio_vectorial) implica los conceptos de conjunto, ley de composición(operación) interna y ley de composición externa, definida sobre un segundo conjunto. Resumiendo, un espacio vectorial es una estructura creada sobre un conjunto no vacío con ambas leyes de composición. A los elementos de un espacio vectorial se les llama vectores.\n",
    "\n",
    "Veamos un ejemplo:\n",
    "\n",
    "Un espacio vectorial es el espacio tridimensional ${\\Bbb R}^{3}$. Los elementos de ${\\Bbb R}^{3}$ son vectores, por lo que la ley de composición interna es la suma de vectores. Para la ley de composición externa se necesita otro conjunto, que en esta caso son los números reales ${\\Bbb R}$, y queda definida como el producto por escalares, multiplicar un vector por un número."
   ]
  },
  {
   "cell_type": "markdown",
   "id": "04de4c48",
   "metadata": {},
   "source": [
    "#### 2.2.2 - Base vectorial\n",
    "\n",
    "Una [base](https://es.wikipedia.org/wiki/Base_(%C3%A1lgebra)) es un conjunto de vectores {$v_{1}, v_{2}, v_{3}, ... ,v_{n}$} que cumplen las siguientes propiedades:\n",
    "\n",
    "+ Todos los elementos de la base pertenecen al mismo espacio vectorial.\n",
    "+ Los elementos de la base forman un sistema linealmente independiente (ninguno es combinación lineal de los demás).\n",
    "+ Cualquier elemento del espacio vectorial se puede escribir como combinación lineal de los elementos de la base (es lo que se llama sistema generador del espacio vectorial).\n",
    "\n",
    "Ejemplo:\n",
    "\n",
    "En ${\\Bbb R}^{3}$, la base principal (llamada canónica) es {$(1,0,0), (0,1,0), (0,0,1)$}. Todos esos vectores pertenecen a ${\\Bbb R}^{3}$, son linealmente independientes(ninguno puede ser una suma de los otros) y cualquier otro vector en ${\\Bbb R}^{3}$ se puede representar como una suma de esos tres, una combinación lineal. No es única, otra base de ${\\Bbb R}^{3}$ podría ser {$(1,1,1), (1,1,0), (1,0,0)$}\n"
   ]
  },
  {
   "cell_type": "markdown",
   "id": "c9bd40e0",
   "metadata": {},
   "source": [
    "#### 2.2.3 - Suma de vectores\n",
    "\n",
    "Los vectores se suman por componentes, lo que implica que ambos tienen la misma longitud. Por ejemplo en ${\\Bbb R}^{3}$:\n",
    "\n",
    "$$\\vec{A}=A_{x}\\vec{i}+A_{y}\\vec{j}+A_{z}\\vec{k}$$\n",
    "\n",
    "$$\\vec{B}=B_{x}\\vec{i}+B_{y}\\vec{j}+B_{z}\\vec{k}$$\n",
    "\n",
    "$$\\vec{A}+\\vec{B}=(B_{x}+A_{x})\\vec{i}+(B_{y}+A_{y})\\vec{j}+(B_{z}+A_{z})\\vec{k}$$\n",
    "\n",
    "$$$$\n",
    "\n",
    "$$\\vec{A}=(1,8,9)$$\n",
    "\n",
    "$$\\vec{B}=(4,3,0)$$\n",
    "\n",
    "$$\\vec{A}+\\vec{B}=(5,11,9)$$\n"
   ]
  },
  {
   "cell_type": "markdown",
   "id": "c7209dc6",
   "metadata": {},
   "source": [
    "#### 2.2.4 - Producto escalar\n",
    "\n",
    "Hay que diferenciar entre producto por escalares, un número por un vector resultando un vector, y el productor escalar donde se multiplican dos vectores resultando un número, un escalar.\n",
    "\n",
    "+ Producto por escalares:\n",
    "\n",
    "Se realiza elemento a elemento la multiplicación por el número:\n",
    "\n",
    "$$\\vec{A}=(1,8,9)$$\n",
    "\n",
    "$$2*\\vec{A}=(2,16,18)$$\n",
    "\n",
    "+ Productos escalar:\n",
    "\n",
    "Se realiza multiplicando elemento un vector fila por un vector columna y sumando los resultados. Hay que tener en cuenta, igual que en la suma, que ambos vectores tienen el mismo número de elementos. También se le llama producto punto (dot product) o producto interno (inner product).\n",
    "\n",
    "$$\\vec{A}\\cdot\\vec{B}=(1, 8, 9)\\cdot\\begin{pmatrix}4\\\\3\\\\0\\end{pmatrix} = 1·4+8·3+9·0 = 4+24+0 = 28$$\n"
   ]
  },
  {
   "cell_type": "markdown",
   "id": "c9ac62f9",
   "metadata": {},
   "source": [
    "#### 2.2.5 - Producto vectorial\n",
    "\n",
    "En este caso, se multiplican dos vectores resultando otro vector. La manera más fácil de hacerlo es a través de un determinante:\n",
    "\n",
    "\n",
    "$$\\vec{A}\\times \\vec{B} = \\begin{vmatrix}\n",
    "\\hat{\\imath}&\\hat{\\jmath}&\\hat{k}\\\\\n",
    "1 & 8 & 9 \\\\\n",
    "4 & 3 & 0\n",
    "\\end{vmatrix} = \\begin{vmatrix}\n",
    "8 & 9 \\\\\n",
    "3 & 0\n",
    "\\end{vmatrix}·\\hat{\\imath} - \n",
    "\\begin{vmatrix}\n",
    "1 & 9 \\\\\n",
    "4 & 0\n",
    "\\end{vmatrix}·\\hat{\\jmath} +\n",
    "\\begin{vmatrix}\n",
    "1 & 8 \\\\\n",
    "4 & 3\n",
    "\\end{vmatrix}·\\hat{k} = (8·0-9·3)·\\hat{\\imath}-(1·0-9·4)·\\hat{\\jmath}+(1·3-8·4)·\\hat{k}$$\n",
    "\n",
    "$$\\vec{A}\\times \\vec{B} = (-27, 36, -29)$$"
   ]
  },
  {
   "cell_type": "markdown",
   "id": "c49c7cb0",
   "metadata": {},
   "source": [
    "### 2.3 - Operaciones con matrices"
   ]
  },
  {
   "cell_type": "markdown",
   "id": "2bda9189",
   "metadata": {},
   "source": [
    "#### 2.3.1 - Suma de matrices\n",
    "\n",
    "Las matrices tienen definidas sus dimensiones sugún el número de filas($m$) y de columnas($n$), y se representan como $A_{mxn}$. Para sumar matrices las dimensiones tienen que ser las mismas, igual que ocurría con los vectores, y se realiza elemento a elemento (element wise):\n",
    "\n",
    "\n",
    "$$\\begin{pmatrix}\n",
    "5 & 7 & 1 \\\\\n",
    "4 & 0 & 2 \n",
    "\\end{pmatrix}+\\begin{pmatrix}\n",
    "0 & 0 & 3 \\\\\n",
    "2 & 2 & 7 \n",
    "\\end{pmatrix}=\\begin{pmatrix}\n",
    "5 & 7 & 4 \\\\\n",
    "6 & 2 & 9 \n",
    "\\end{pmatrix}$$"
   ]
  },
  {
   "cell_type": "markdown",
   "id": "0a787ed5",
   "metadata": {},
   "source": [
    "#### 2.3.2 - Producto matricial\n",
    "\n",
    "Para multiplicar matrices tenemos que tener en cuenta las dimensiones, porque el producto matricial no es conmutativo e incluso a veces no se puede realizar. El número de columnas de la primera matriz tiene que ser igual que el número de filas de la segunda y el resultado tendrá el número de filas de la primera y el número de columnas de la segunda. Es decir:\n",
    "\n",
    "$$A_{rxn}\\cdot B_{nxq} = C_{rxq}$$\n",
    "\n",
    "\n",
    "$$\\begin{pmatrix}\n",
    "5 & 7 & 1 \\\\\n",
    "4 & 0 & 2 \n",
    "\\end{pmatrix}\\cdot\\begin{pmatrix}\n",
    "0 & 0 \\\\\n",
    "2 & 3 \\\\\n",
    "2 & 7 \n",
    "\\end{pmatrix}=\\begin{pmatrix}\n",
    "5·0+7·2+1·2 & 5·0+7·3+1·7 \\\\\n",
    "4·0+0·2+2·2 & 4·0+0·3+2·7\n",
    "\\end{pmatrix}=\\begin{pmatrix}\n",
    "18 & 28 \\\\\n",
    "4 & 14\n",
    "\\end{pmatrix}$$"
   ]
  },
  {
   "cell_type": "markdown",
   "id": "a86d4dba",
   "metadata": {},
   "source": [
    "#### 2.3.3 - Matriz Identidad\n",
    "\n",
    "Elemento neutro de la multiplicación, solo $1_s$ en la diagonal:\n",
    "\n",
    "$$I = \\begin{pmatrix}\n",
    "1&0&\\cdots&0&0\\\\\n",
    "0&1&\\cdots&0&0\\\\\n",
    "\\vdots&\\vdots&\\ddots&\\vdots&\\vdots\\\\\n",
    "0&\\cdots&\\cdots&\\cdots&0\\\\\n",
    "0&0&\\cdots&1&0\\\\\n",
    "0&0&\\cdots&0&1\\\\\n",
    "\\end{pmatrix}$$"
   ]
  },
  {
   "cell_type": "markdown",
   "id": "44f8a1d3",
   "metadata": {},
   "source": [
    "#### 2.3.4 - Matriz traspuesta  (hermítica)\n",
    "\n",
    "La traspuesta $A^{T}$ de una matriz $A$ puede ser obtenida reflejando los elementos a lo largo de su diagonal.\n",
    "\n",
    "$$A=\\begin{pmatrix}\n",
    "5 & 7 & 9 \\\\\n",
    "4 & 0 & 7 \\\\\n",
    "1 & 2 & 2\n",
    "\\end{pmatrix}$$\n",
    "\n",
    "$$A^{T}=\\begin{pmatrix}\n",
    "5 & 4 & 1 \\\\\n",
    "7 & 0 & 2 \\\\\n",
    "9 & 7 & 2\n",
    "\\end{pmatrix}$$\n",
    "\n",
    "\n",
    "Se le dice hermítica si los elementos son números complejos, es la traspuesta conjugada (el conjugado de $x+iy$ es $x-iy$).\n"
   ]
  },
  {
   "cell_type": "markdown",
   "id": "eb7615a8",
   "metadata": {},
   "source": [
    "#### 2.3.5 - Matriz Inversa\n",
    "\n",
    "¿Como se dividen las matrices? Se multiplica por la inversa, pues no existe la operación división para las matrices. El cálculo de la matriz inversa se puede hacer por el método de Gauss o de manera más sencilla:\n",
    "\n",
    "$$A= \\begin{pmatrix}\n",
    "       a_{11} & a_{12} \\\\ \n",
    "       a_{21} & a_{22}\n",
    "    \\end{pmatrix}$$\n",
    "    \n",
    "    \n",
    "$$A^{-1}=\\begin{pmatrix}\n",
    "a_{11} & a_{12} \\\\ \n",
    "a_{21} & a_{22}\n",
    "\\end{pmatrix}^{-1}\n",
    "=\\frac{1}{\\lvert A\\rvert}\n",
    "\\begin{pmatrix}\n",
    "a_{22} & -a_{12} \\\\ \n",
    "-a_{21} &  a_{11}\n",
    "\\end{pmatrix}$$"
   ]
  },
  {
   "cell_type": "markdown",
   "id": "e1b83e5c",
   "metadata": {},
   "source": [
    "#### 2.3.6 - Determinante\n",
    "\n",
    "El determinante de una matriz es un número. Conocer el determinante de una matriz tiene varios usos. Uno de ellos es resolver un sistema de ecuaciones lineal. También nos sirve para calcular la inversa de una matriz, el rango de una matriz o áreas de un plano, entre otras operaciones. Para que una matriz tenga determinante, es necesario que sea cuadrada, es decir, que tenga el mismo número de filas y columnas. De lo contrario, la matriz no tendrá un determinante.\n",
    "\n",
    "\n",
    "\n",
    "$$A=\\begin{pmatrix}\n",
    "    1 & 3 & 2 & -6 \\\\ \n",
    "    0 & -1 & -4 & 1 \\\\ \n",
    "    0 & -2 & -6 & 3 \\\\ \n",
    "    0 & -2 & -10 & 3\n",
    "  \\end{pmatrix}$$\n",
    "  \n",
    "\n",
    "$$$$\n",
    "\n",
    "\n",
    "$$det(A)=\\begin{vmatrix}\n",
    "    1 & 3 & 2 & -6 \\\\ \n",
    "    0 & -1 & -4 & 1 \\\\ \n",
    "    0 & -2 & -6 & 3 \\\\ \n",
    "    0 & -2 & -10 & 3\n",
    "  \\end{vmatrix}=\\begin{vmatrix}\n",
    "    1 & 0 & 0 \\\\ \n",
    "    -2 & 1 & 0 \\\\ \n",
    "    -2 & 0 & 1\n",
    "  \\end{vmatrix}\\cdot\n",
    "  \\begin{vmatrix}\n",
    "    1 & 4 & 1 \\\\ \n",
    "    2 & 6 & 3 \\\\ \n",
    "    2 & 10 & 3\n",
    "  \\end{vmatrix}=\\begin{vmatrix}\n",
    "    1 & 4 & 1 \\\\ \n",
    "    0 & -2 & 1 \\\\ \n",
    "    0 & 2 & 1\n",
    "  \\end{vmatrix}\n",
    "  =\n",
    "  \\begin{vmatrix}\n",
    "    -2 & 1 \\\\ \n",
    "    2 & 1\n",
    "  \\end{vmatrix}\n",
    "  =-4$$"
   ]
  },
  {
   "cell_type": "markdown",
   "id": "2171168f",
   "metadata": {},
   "source": [
    "## 3 - Operaciones con NumPy"
   ]
  },
  {
   "cell_type": "code",
   "execution_count": 1,
   "id": "41a0f501",
   "metadata": {},
   "outputs": [],
   "source": [
    "import numpy as np"
   ]
  },
  {
   "cell_type": "markdown",
   "id": "d14c85e1",
   "metadata": {},
   "source": [
    "### 3.1 - Creación de arrays"
   ]
  },
  {
   "cell_type": "code",
   "execution_count": 2,
   "id": "96403d16",
   "metadata": {},
   "outputs": [
    {
     "data": {
      "text/plain": [
       "array([0.06270523])"
      ]
     },
     "execution_count": 2,
     "metadata": {},
     "output_type": "execute_result"
    }
   ],
   "source": [
    "# nº aleatorio\n",
    "\n",
    "np.random.random(1)"
   ]
  },
  {
   "cell_type": "code",
   "execution_count": 4,
   "id": "bf09021d",
   "metadata": {},
   "outputs": [
    {
     "data": {
      "text/plain": [
       "array([0.95838592, 0.44765657, 0.25356653])"
      ]
     },
     "execution_count": 4,
     "metadata": {},
     "output_type": "execute_result"
    }
   ],
   "source": [
    "# vector\n",
    "\n",
    "vector = np.random.random(3)\n",
    "\n",
    "vector"
   ]
  },
  {
   "cell_type": "code",
   "execution_count": 5,
   "id": "858bcc7b",
   "metadata": {},
   "outputs": [
    {
     "data": {
      "text/plain": [
       "numpy.ndarray"
      ]
     },
     "execution_count": 5,
     "metadata": {},
     "output_type": "execute_result"
    }
   ],
   "source": [
    "type(vector)"
   ]
  },
  {
   "cell_type": "code",
   "execution_count": 6,
   "id": "756b6ccd",
   "metadata": {},
   "outputs": [
    {
     "data": {
      "text/plain": [
       "array([[0.48109826, 0.30940098, 0.58033676, 0.78477373],\n",
       "       [0.55148065, 0.30130801, 0.49925205, 0.66931179],\n",
       "       [0.37922522, 0.9109447 , 0.25494026, 0.08178075],\n",
       "       [0.66065679, 0.87877676, 0.32754796, 0.63123097],\n",
       "       [0.50335743, 0.12839078, 0.37630036, 0.43507551],\n",
       "       [0.3380827 , 0.65198261, 0.12961856, 0.72812614],\n",
       "       [0.79422305, 0.47836228, 0.00211945, 0.10652424],\n",
       "       [0.30571149, 0.46025486, 0.81656482, 0.29582646],\n",
       "       [0.2331184 , 0.16202035, 0.81413503, 0.61233515],\n",
       "       [0.18857015, 0.70710913, 0.47713318, 0.1020249 ]])"
      ]
     },
     "execution_count": 6,
     "metadata": {},
     "output_type": "execute_result"
    }
   ],
   "source": [
    "# matriz\n",
    "\n",
    "matriz = np.random.random((10, 4))\n",
    "\n",
    "matriz"
   ]
  },
  {
   "cell_type": "code",
   "execution_count": 7,
   "id": "9ae2b3c5",
   "metadata": {},
   "outputs": [
    {
     "data": {
      "text/plain": [
       "array([[[0.37123832, 0.20975298, 0.20204886],\n",
       "        [0.29699024, 0.79403698, 0.69791082]],\n",
       "\n",
       "       [[0.15857794, 0.80325027, 0.99484584],\n",
       "        [0.41069678, 0.79693985, 0.42724261]],\n",
       "\n",
       "       [[0.11190008, 0.81718533, 0.215276  ],\n",
       "        [0.21943194, 0.26295884, 0.25391224]]])"
      ]
     },
     "execution_count": 7,
     "metadata": {},
     "output_type": "execute_result"
    }
   ],
   "source": [
    "# cubo \n",
    "\n",
    "cubo = np.random.random((3, 2, 3))\n",
    "\n",
    "cubo"
   ]
  },
  {
   "cell_type": "code",
   "execution_count": 8,
   "id": "ca78757b",
   "metadata": {},
   "outputs": [
    {
     "data": {
      "text/plain": [
       "array([[[[0.3722862 , 0.73776361, 0.88238095, 0.01346938, 0.18837309],\n",
       "         [0.80036172, 0.25105888, 0.25651851, 0.42370584, 0.95211806],\n",
       "         [0.40838395, 0.32344128, 0.22329266, 0.99264905, 0.04622368],\n",
       "         [0.03999243, 0.7508564 , 0.2835343 , 0.10588172, 0.5056635 ]],\n",
       "\n",
       "        [[0.67518612, 0.606057  , 0.88742251, 0.40380171, 0.89919059],\n",
       "         [0.37407904, 0.9627731 , 0.04441872, 0.64184857, 0.12460229],\n",
       "         [0.14293215, 0.67028651, 0.98459871, 0.45689841, 0.4721    ],\n",
       "         [0.73691211, 0.90637285, 0.65207036, 0.65070753, 0.47968598]],\n",
       "\n",
       "        [[0.59311963, 0.73737137, 0.89885474, 0.15970677, 0.61774943],\n",
       "         [0.69427925, 0.75726296, 0.64357666, 0.0509524 , 0.18477414],\n",
       "         [0.50501625, 0.49097808, 0.65114908, 0.81581144, 0.55819875],\n",
       "         [0.12955986, 0.8769677 , 0.61675131, 0.63502534, 0.01281995]]],\n",
       "\n",
       "\n",
       "       [[[0.97377342, 0.31995586, 0.47368454, 0.60935696, 0.6612998 ],\n",
       "         [0.12591455, 0.82641418, 0.12477577, 0.89962281, 0.97827139],\n",
       "         [0.43223349, 0.34648857, 0.10938725, 0.87024228, 0.89092473],\n",
       "         [0.8876487 , 0.15356466, 0.53542772, 0.46665356, 0.5877893 ]],\n",
       "\n",
       "        [[0.89224544, 0.52504675, 0.6606205 , 0.12689475, 0.95234943],\n",
       "         [0.47270592, 0.32173638, 0.40460965, 0.23521524, 0.62121201],\n",
       "         [0.1310293 , 0.68602312, 0.90788398, 0.38985962, 0.97315362],\n",
       "         [0.8136993 , 0.39695734, 0.76121918, 0.05162413, 0.42296652]],\n",
       "\n",
       "        [[0.29817164, 0.57358414, 0.61466706, 0.36816374, 0.44280261],\n",
       "         [0.6669958 , 0.42194833, 0.87612093, 0.57810742, 0.55012059],\n",
       "         [0.51733729, 0.86700453, 0.68875584, 0.69457817, 0.5541491 ],\n",
       "         [0.37960725, 0.5693531 , 0.33176186, 0.77912049, 0.88016698]]]])"
      ]
     },
     "execution_count": 8,
     "metadata": {},
     "output_type": "execute_result"
    }
   ],
   "source": [
    "# tensor \n",
    "\n",
    "tensor = np.random.random((2, 3, 4, 5))\n",
    "\n",
    "tensor"
   ]
  },
  {
   "cell_type": "code",
   "execution_count": 9,
   "id": "b0a4a6d0",
   "metadata": {},
   "outputs": [
    {
     "data": {
      "text/plain": [
       "numpy.ndarray"
      ]
     },
     "execution_count": 9,
     "metadata": {},
     "output_type": "execute_result"
    }
   ],
   "source": [
    "type(tensor)"
   ]
  },
  {
   "cell_type": "markdown",
   "id": "16c3f878",
   "metadata": {},
   "source": [
    "### 3.2 - Dimensiones y acceso a elementos"
   ]
  },
  {
   "cell_type": "markdown",
   "id": "ba3ab748",
   "metadata": {},
   "source": [
    "Vamos a ver esos métodos para ver las dimensiones y número de elementos que hay enn un array. Además, en los array de NumPy podemos acceder a los elementos en su interior de la misma manera que lo haríamos con una lista, con los índices y también usando slicing."
   ]
  },
  {
   "cell_type": "code",
   "execution_count": 10,
   "id": "04004396",
   "metadata": {},
   "outputs": [
    {
     "data": {
      "text/plain": [
       "(3,)"
      ]
     },
     "execution_count": 10,
     "metadata": {},
     "output_type": "execute_result"
    }
   ],
   "source": [
    "vector.shape"
   ]
  },
  {
   "cell_type": "code",
   "execution_count": 11,
   "id": "fa837ad0",
   "metadata": {},
   "outputs": [
    {
     "data": {
      "text/plain": [
       "(10, 4)"
      ]
     },
     "execution_count": 11,
     "metadata": {},
     "output_type": "execute_result"
    }
   ],
   "source": [
    "matriz.shape"
   ]
  },
  {
   "cell_type": "code",
   "execution_count": 12,
   "id": "ed16f4db",
   "metadata": {},
   "outputs": [
    {
     "data": {
      "text/plain": [
       "(3, 2, 3)"
      ]
     },
     "execution_count": 12,
     "metadata": {},
     "output_type": "execute_result"
    }
   ],
   "source": [
    "cubo.shape"
   ]
  },
  {
   "cell_type": "code",
   "execution_count": 13,
   "id": "6555b001",
   "metadata": {},
   "outputs": [
    {
     "data": {
      "text/plain": [
       "array([[0.48109826, 0.30940098, 0.58033676, 0.78477373],\n",
       "       [0.55148065, 0.30130801, 0.49925205, 0.66931179],\n",
       "       [0.37922522, 0.9109447 , 0.25494026, 0.08178075],\n",
       "       [0.66065679, 0.87877676, 0.32754796, 0.63123097],\n",
       "       [0.50335743, 0.12839078, 0.37630036, 0.43507551],\n",
       "       [0.3380827 , 0.65198261, 0.12961856, 0.72812614],\n",
       "       [0.79422305, 0.47836228, 0.00211945, 0.10652424],\n",
       "       [0.30571149, 0.46025486, 0.81656482, 0.29582646],\n",
       "       [0.2331184 , 0.16202035, 0.81413503, 0.61233515],\n",
       "       [0.18857015, 0.70710913, 0.47713318, 0.1020249 ]])"
      ]
     },
     "execution_count": 13,
     "metadata": {},
     "output_type": "execute_result"
    }
   ],
   "source": [
    "matriz"
   ]
  },
  {
   "cell_type": "code",
   "execution_count": 14,
   "id": "bdf1e801",
   "metadata": {},
   "outputs": [
    {
     "data": {
      "text/plain": [
       "array([0.48109826, 0.30940098, 0.58033676, 0.78477373])"
      ]
     },
     "execution_count": 14,
     "metadata": {},
     "output_type": "execute_result"
    }
   ],
   "source": [
    "matriz[0]  # 1ª fila"
   ]
  },
  {
   "cell_type": "code",
   "execution_count": 15,
   "id": "9782ac8e",
   "metadata": {},
   "outputs": [
    {
     "data": {
      "text/plain": [
       "0.48109826335811745"
      ]
     },
     "execution_count": 15,
     "metadata": {},
     "output_type": "execute_result"
    }
   ],
   "source": [
    "matriz[0][0]"
   ]
  },
  {
   "cell_type": "code",
   "execution_count": 16,
   "id": "53f9c079",
   "metadata": {},
   "outputs": [
    {
     "data": {
      "text/plain": [
       "0.48109826335811745"
      ]
     },
     "execution_count": 16,
     "metadata": {},
     "output_type": "execute_result"
    }
   ],
   "source": [
    "matriz[0, 0]"
   ]
  },
  {
   "cell_type": "code",
   "execution_count": 17,
   "id": "21298c4d",
   "metadata": {},
   "outputs": [
    {
     "data": {
      "text/plain": [
       "array([0.48109826, 0.55148065, 0.37922522, 0.66065679, 0.50335743,\n",
       "       0.3380827 , 0.79422305, 0.30571149, 0.2331184 , 0.18857015])"
      ]
     },
     "execution_count": 17,
     "metadata": {},
     "output_type": "execute_result"
    }
   ],
   "source": [
    "# primera columna\n",
    "\n",
    "matriz[:, 0]"
   ]
  },
  {
   "cell_type": "code",
   "execution_count": 18,
   "id": "798badb9",
   "metadata": {},
   "outputs": [
    {
     "data": {
      "text/plain": [
       "array([[0.48109826, 0.30940098, 0.58033676, 0.78477373],\n",
       "       [0.37922522, 0.9109447 , 0.25494026, 0.08178075],\n",
       "       [0.50335743, 0.12839078, 0.37630036, 0.43507551],\n",
       "       [0.79422305, 0.47836228, 0.00211945, 0.10652424]])"
      ]
     },
     "execution_count": 18,
     "metadata": {},
     "output_type": "execute_result"
    }
   ],
   "source": [
    "# slicing, filas 1,3,5,7\n",
    "\n",
    "matriz[0:8:2]"
   ]
  },
  {
   "cell_type": "code",
   "execution_count": 19,
   "id": "e4f62b32",
   "metadata": {},
   "outputs": [
    {
     "data": {
      "text/plain": [
       "array([[0.30940098, 0.78477373],\n",
       "       [0.9109447 , 0.08178075],\n",
       "       [0.12839078, 0.43507551],\n",
       "       [0.47836228, 0.10652424]])"
      ]
     },
     "execution_count": 19,
     "metadata": {},
     "output_type": "execute_result"
    }
   ],
   "source": [
    "matriz[0:8:2, 1:4:2]"
   ]
  },
  {
   "cell_type": "markdown",
   "id": "1964b5a0",
   "metadata": {},
   "source": [
    "### 3.3 - Suma de vectores"
   ]
  },
  {
   "cell_type": "markdown",
   "id": "62dcf242",
   "metadata": {},
   "source": [
    "Recordemos que los vectores se suman componente a componente en contraposición a lo que hacen las listas, que se concatenan."
   ]
  },
  {
   "cell_type": "code",
   "execution_count": 20,
   "id": "3f3faf2e",
   "metadata": {},
   "outputs": [
    {
     "data": {
      "text/plain": [
       "array([0.95838592, 0.44765657, 0.25356653])"
      ]
     },
     "execution_count": 20,
     "metadata": {},
     "output_type": "execute_result"
    }
   ],
   "source": [
    "vector"
   ]
  },
  {
   "cell_type": "code",
   "execution_count": 21,
   "id": "c2b01ee9",
   "metadata": {},
   "outputs": [
    {
     "data": {
      "text/plain": [
       "array([1.91677183, 0.89531315, 0.50713306])"
      ]
     },
     "execution_count": 21,
     "metadata": {},
     "output_type": "execute_result"
    }
   ],
   "source": [
    "vector + vector"
   ]
  },
  {
   "cell_type": "code",
   "execution_count": 22,
   "id": "58d99ed9",
   "metadata": {},
   "outputs": [
    {
     "data": {
      "text/plain": [
       "[1, 2, 3, 1, 2, 3]"
      ]
     },
     "execution_count": 22,
     "metadata": {},
     "output_type": "execute_result"
    }
   ],
   "source": [
    "[1, 2, 3] + [1, 2, 3]"
   ]
  },
  {
   "cell_type": "markdown",
   "id": "f3d9cb91",
   "metadata": {},
   "source": [
    "### 3.4 - Producto por escalares "
   ]
  },
  {
   "cell_type": "markdown",
   "id": "088fe895",
   "metadata": {},
   "source": [
    "Exactamente igual que en el ejemplo anterior, al multiplicar un vector por un número se multiplica elemento a elemento, las listas se repiten."
   ]
  },
  {
   "cell_type": "code",
   "execution_count": 23,
   "id": "aa22d625",
   "metadata": {},
   "outputs": [
    {
     "data": {
      "text/plain": [
       "array([2.87515775, 1.34296972, 0.76069958])"
      ]
     },
     "execution_count": 23,
     "metadata": {},
     "output_type": "execute_result"
    }
   ],
   "source": [
    "3 * vector"
   ]
  },
  {
   "cell_type": "code",
   "execution_count": 24,
   "id": "a59b89a1",
   "metadata": {},
   "outputs": [
    {
     "data": {
      "text/plain": [
       "[1, 2, 3, 1, 2, 3, 1, 2, 3]"
      ]
     },
     "execution_count": 24,
     "metadata": {},
     "output_type": "execute_result"
    }
   ],
   "source": [
    "3 * [1, 2, 3]"
   ]
  },
  {
   "cell_type": "markdown",
   "id": "e2c3dee6",
   "metadata": {},
   "source": [
    "### 3.5 - Producto escalar de vectores"
   ]
  },
  {
   "cell_type": "markdown",
   "id": "085d2cfb",
   "metadata": {},
   "source": [
    "Vamos a multiplicar dos vectores con el mismo número de elementos y el resultado será un número. Este producto se realiza con el método `np.dot` que proporciona NumPy."
   ]
  },
  {
   "cell_type": "code",
   "execution_count": 25,
   "id": "e84587e6",
   "metadata": {},
   "outputs": [
    {
     "data": {
      "text/plain": [
       "1.1831959571907107"
      ]
     },
     "execution_count": 25,
     "metadata": {},
     "output_type": "execute_result"
    }
   ],
   "source": [
    "np.dot(vector, vector)"
   ]
  },
  {
   "cell_type": "markdown",
   "id": "c5650a9a",
   "metadata": {},
   "source": [
    "### 3.6 - Producto vectorial"
   ]
  },
  {
   "cell_type": "markdown",
   "id": "2382174d",
   "metadata": {},
   "source": [
    "Para realizar el producto vectorial, NumPy tiene un método `np.cross`, el cual recibe dos vectores y devuelve un vector resultado del producto."
   ]
  },
  {
   "cell_type": "code",
   "execution_count": 26,
   "id": "ef579338",
   "metadata": {},
   "outputs": [
    {
     "data": {
      "text/plain": [
       "array([ 0.19409004, -0.70481939,  0.51072934])"
      ]
     },
     "execution_count": 26,
     "metadata": {},
     "output_type": "execute_result"
    }
   ],
   "source": [
    "np.cross(vector, vector+1)"
   ]
  },
  {
   "cell_type": "markdown",
   "id": "7b15c26d",
   "metadata": {},
   "source": [
    "### 3.7 - Suma de matrices"
   ]
  },
  {
   "cell_type": "code",
   "execution_count": 27,
   "id": "7c8fcbad",
   "metadata": {},
   "outputs": [
    {
     "data": {
      "text/plain": [
       "array([[0.48109826, 0.30940098, 0.58033676, 0.78477373],\n",
       "       [0.55148065, 0.30130801, 0.49925205, 0.66931179],\n",
       "       [0.37922522, 0.9109447 , 0.25494026, 0.08178075],\n",
       "       [0.66065679, 0.87877676, 0.32754796, 0.63123097],\n",
       "       [0.50335743, 0.12839078, 0.37630036, 0.43507551],\n",
       "       [0.3380827 , 0.65198261, 0.12961856, 0.72812614],\n",
       "       [0.79422305, 0.47836228, 0.00211945, 0.10652424],\n",
       "       [0.30571149, 0.46025486, 0.81656482, 0.29582646],\n",
       "       [0.2331184 , 0.16202035, 0.81413503, 0.61233515],\n",
       "       [0.18857015, 0.70710913, 0.47713318, 0.1020249 ]])"
      ]
     },
     "execution_count": 27,
     "metadata": {},
     "output_type": "execute_result"
    }
   ],
   "source": [
    "matriz"
   ]
  },
  {
   "cell_type": "code",
   "execution_count": 28,
   "id": "c715709e",
   "metadata": {},
   "outputs": [
    {
     "data": {
      "text/plain": [
       "array([[0.96219653, 0.61880195, 1.16067351, 1.56954746],\n",
       "       [1.1029613 , 0.60261603, 0.99850411, 1.33862358],\n",
       "       [0.75845044, 1.82188939, 0.50988053, 0.1635615 ],\n",
       "       [1.32131358, 1.75755353, 0.65509593, 1.26246193],\n",
       "       [1.00671487, 0.25678157, 0.75260071, 0.87015103],\n",
       "       [0.67616539, 1.30396521, 0.25923711, 1.45625227],\n",
       "       [1.58844611, 0.95672456, 0.00423891, 0.21304848],\n",
       "       [0.61142299, 0.92050972, 1.63312965, 0.59165293],\n",
       "       [0.4662368 , 0.32404071, 1.62827006, 1.22467029],\n",
       "       [0.37714031, 1.41421825, 0.95426635, 0.20404981]])"
      ]
     },
     "execution_count": 28,
     "metadata": {},
     "output_type": "execute_result"
    }
   ],
   "source": [
    "matriz + matriz"
   ]
  },
  {
   "cell_type": "markdown",
   "id": "afa833bc",
   "metadata": {},
   "source": [
    "### 3.8 - Producto escalar de matrices"
   ]
  },
  {
   "cell_type": "code",
   "execution_count": 29,
   "id": "8e07f0fb",
   "metadata": {},
   "outputs": [
    {
     "data": {
      "text/plain": [
       "array([[2.40549132, 1.54700489, 2.90168378, 3.92386865],\n",
       "       [2.75740325, 1.50654006, 2.49626027, 3.34655894],\n",
       "       [1.89612609, 4.55472348, 1.27470131, 0.40890376],\n",
       "       [3.30328396, 4.39388382, 1.63773982, 3.15615484],\n",
       "       [2.51678716, 0.64195391, 1.88150178, 2.17537757],\n",
       "       [1.69041348, 3.25991303, 0.64809278, 3.64063068],\n",
       "       [3.97111527, 2.3918114 , 0.01059727, 0.53262119],\n",
       "       [1.52855747, 2.30127431, 4.08282412, 1.47913231],\n",
       "       [1.165592  , 0.81010177, 4.07067514, 3.06167574],\n",
       "       [0.94285077, 3.53554563, 2.38566588, 0.51012452]])"
      ]
     },
     "execution_count": 29,
     "metadata": {},
     "output_type": "execute_result"
    }
   ],
   "source": [
    "5 * matriz"
   ]
  },
  {
   "cell_type": "markdown",
   "id": "7ed1da93",
   "metadata": {},
   "source": [
    "### 3.9 - Producto matricial"
   ]
  },
  {
   "cell_type": "markdown",
   "id": "6763d299",
   "metadata": {},
   "source": [
    "Para multiplicar matrices, las dimensiones tienen que ser correctas, es decir, el número de columnas de la primera matriz tiene que ser igual al número de filas de la segunda. El resultado tendrá el número de filas de la primera matriz y el número de columnas de la segunda. Esta es la razón por la que el producto de matrices no es conmutativo. Esta operación se realiza con el método `np.matmul`."
   ]
  },
  {
   "cell_type": "code",
   "execution_count": 30,
   "id": "e2d0b101",
   "metadata": {},
   "outputs": [],
   "source": [
    "matriz_1 = np.random.random((10, 4))\n",
    "\n",
    "matriz_2 = np.random.random((4, 10))"
   ]
  },
  {
   "cell_type": "code",
   "execution_count": 31,
   "id": "e68b8e11",
   "metadata": {},
   "outputs": [
    {
     "data": {
      "text/plain": [
       "array([[0.82476305, 0.47670128, 0.48805732, 0.54593268, 0.21724204,\n",
       "        0.73738481, 0.54241908, 0.49769168, 0.73805946, 0.32759859],\n",
       "       [1.42466581, 0.93199204, 1.42591681, 1.46914555, 0.53170545,\n",
       "        1.63958829, 1.57774501, 0.81902918, 1.29926191, 0.78542863],\n",
       "       [0.8599162 , 0.75622384, 1.15979544, 1.20364228, 0.46497859,\n",
       "        1.26860115, 1.34493075, 0.59909339, 1.06873703, 0.57037244],\n",
       "       [1.76067857, 0.90775126, 1.57453059, 2.01814862, 0.61497196,\n",
       "        1.8536528 , 1.72537636, 1.33683755, 1.7385854 , 0.83924459],\n",
       "       [0.80959584, 0.64284059, 0.97721439, 1.1849774 , 0.4255165 ,\n",
       "        1.12308277, 1.14843992, 0.72292113, 1.12137594, 0.46632589],\n",
       "       [0.73723056, 0.83768547, 1.06399531, 1.0880488 , 0.48305852,\n",
       "        1.23537647, 1.29934065, 0.59377688, 1.18366159, 0.50718174],\n",
       "       [1.30148924, 1.04844985, 1.15868879, 1.41670313, 0.58094833,\n",
       "        1.57963236, 1.40930461, 1.10759148, 1.78258624, 0.61192253],\n",
       "       [0.66471043, 0.67635275, 0.38810581, 0.37170822, 0.27051365,\n",
       "        0.75405729, 0.53796388, 0.48348663, 0.96887092, 0.25876644],\n",
       "       [1.52398194, 0.52406071, 1.3108096 , 1.77756037, 0.44055616,\n",
       "        1.43597611, 1.3486948 , 1.11640749, 1.2098009 , 0.70518218],\n",
       "       [1.27937247, 0.33289225, 0.96859598, 1.62367766, 0.36225548,\n",
       "        1.12063565, 0.99851481, 1.18679765, 1.19505138, 0.49835894]])"
      ]
     },
     "execution_count": 31,
     "metadata": {},
     "output_type": "execute_result"
    }
   ],
   "source": [
    "np.matmul(matriz_1, matriz_2)"
   ]
  },
  {
   "cell_type": "code",
   "execution_count": 32,
   "id": "b75478a1",
   "metadata": {},
   "outputs": [
    {
     "data": {
      "text/plain": [
       "array([[2.23537954, 2.74279377, 2.56813594, 2.44992216],\n",
       "       [2.48651987, 2.77001183, 2.58628789, 2.45745248],\n",
       "       [2.36954279, 2.20480296, 2.17230367, 2.35276864],\n",
       "       [2.23031034, 2.84431842, 2.07878961, 3.01884815]])"
      ]
     },
     "execution_count": 32,
     "metadata": {},
     "output_type": "execute_result"
    }
   ],
   "source": [
    "np.matmul(matriz_2, matriz_1)"
   ]
  },
  {
   "cell_type": "code",
   "execution_count": 33,
   "id": "3b056bbf",
   "metadata": {},
   "outputs": [
    {
     "ename": "ValueError",
     "evalue": "matmul: Input operand 1 has a mismatch in its core dimension 0, with gufunc signature (n?,k),(k,m?)->(n?,m?) (size 10 is different from 4)",
     "output_type": "error",
     "traceback": [
      "\u001b[0;31m---------------------------------------------------------------------------\u001b[0m",
      "\u001b[0;31mValueError\u001b[0m                                Traceback (most recent call last)",
      "Cell \u001b[0;32mIn[33], line 1\u001b[0m\n\u001b[0;32m----> 1\u001b[0m \u001b[43mnp\u001b[49m\u001b[38;5;241;43m.\u001b[39;49m\u001b[43mmatmul\u001b[49m\u001b[43m(\u001b[49m\u001b[43mmatriz_1\u001b[49m\u001b[43m,\u001b[49m\u001b[43m \u001b[49m\u001b[43mmatriz_1\u001b[49m\u001b[43m)\u001b[49m\n",
      "\u001b[0;31mValueError\u001b[0m: matmul: Input operand 1 has a mismatch in its core dimension 0, with gufunc signature (n?,k),(k,m?)->(n?,m?) (size 10 is different from 4)"
     ]
    }
   ],
   "source": [
    "np.matmul(matriz_1, matriz_1)"
   ]
  },
  {
   "cell_type": "markdown",
   "id": "e65f2823",
   "metadata": {},
   "source": [
    "### 3.10 - Matriz identidad"
   ]
  },
  {
   "cell_type": "markdown",
   "id": "2b11740c",
   "metadata": {},
   "source": [
    "Vimos que esta matriz es el elemento neutro del producto, una matriz que se multiplica por la matriz identidad devuelve la misma matriz. La matriz identidad es un matriz con todo ceros salvo en la diagonal, que tiene unos. Se construye con el método `np.eye`."
   ]
  },
  {
   "cell_type": "code",
   "execution_count": 34,
   "id": "bb03556c",
   "metadata": {},
   "outputs": [
    {
     "data": {
      "text/plain": [
       "array([[1., 0., 0., 0.],\n",
       "       [0., 1., 0., 0.],\n",
       "       [0., 0., 1., 0.],\n",
       "       [0., 0., 0., 1.]])"
      ]
     },
     "execution_count": 34,
     "metadata": {},
     "output_type": "execute_result"
    }
   ],
   "source": [
    "np.eye(4)"
   ]
  },
  {
   "cell_type": "markdown",
   "id": "92cca280",
   "metadata": {},
   "source": [
    "### 3.11 - Matriz traspuesta"
   ]
  },
  {
   "cell_type": "markdown",
   "id": "b88615b1",
   "metadata": {},
   "source": [
    "La matriz traspuesta es una matriz que cambia filas por columnas. Una vez creada la matriz se puede calcular su traspuesta usando el atributo `.T` o el método `.transpose()`."
   ]
  },
  {
   "cell_type": "code",
   "execution_count": 40,
   "id": "00136604",
   "metadata": {},
   "outputs": [
    {
     "data": {
      "text/plain": [
       "(4, 10)"
      ]
     },
     "execution_count": 40,
     "metadata": {},
     "output_type": "execute_result"
    }
   ],
   "source": [
    "matriz_2.shape"
   ]
  },
  {
   "cell_type": "code",
   "execution_count": 42,
   "id": "2cd2a6a4",
   "metadata": {},
   "outputs": [
    {
     "data": {
      "text/plain": [
       "(10, 4)"
      ]
     },
     "execution_count": 42,
     "metadata": {},
     "output_type": "execute_result"
    }
   ],
   "source": [
    "matriz_2.T.shape"
   ]
  },
  {
   "cell_type": "code",
   "execution_count": 43,
   "id": "6d174818",
   "metadata": {},
   "outputs": [
    {
     "data": {
      "text/plain": [
       "array([[0.48109826, 0.55148065, 0.37922522, 0.66065679, 0.50335743,\n",
       "        0.3380827 , 0.79422305, 0.30571149, 0.2331184 , 0.18857015],\n",
       "       [0.30940098, 0.30130801, 0.9109447 , 0.87877676, 0.12839078,\n",
       "        0.65198261, 0.47836228, 0.46025486, 0.16202035, 0.70710913],\n",
       "       [0.58033676, 0.49925205, 0.25494026, 0.32754796, 0.37630036,\n",
       "        0.12961856, 0.00211945, 0.81656482, 0.81413503, 0.47713318],\n",
       "       [0.78477373, 0.66931179, 0.08178075, 0.63123097, 0.43507551,\n",
       "        0.72812614, 0.10652424, 0.29582646, 0.61233515, 0.1020249 ]])"
      ]
     },
     "execution_count": 43,
     "metadata": {},
     "output_type": "execute_result"
    }
   ],
   "source": [
    "matriz.transpose()"
   ]
  },
  {
   "cell_type": "markdown",
   "id": "46332941",
   "metadata": {},
   "source": [
    "### 3.12 - Matriz inversa"
   ]
  },
  {
   "cell_type": "markdown",
   "id": "d202c491",
   "metadata": {},
   "source": [
    "Decíamos que para dividir matrices teníamos que calcular la inversa. Esto quiere decir que si multiplicamos una matriz por su inversa saldrá la matriz identidad. NumPy tiene el módulo `linalg`, el cual tiene el método `inv` para realizar esta operación."
   ]
  },
  {
   "cell_type": "code",
   "execution_count": 44,
   "id": "4dccdee5",
   "metadata": {},
   "outputs": [],
   "source": [
    "from numpy.linalg import inv"
   ]
  },
  {
   "cell_type": "code",
   "execution_count": 45,
   "id": "938cb4f8",
   "metadata": {},
   "outputs": [
    {
     "data": {
      "text/plain": [
       "array([[0.35814511, 0.08041552, 0.0632703 ],\n",
       "       [0.07838014, 0.40306924, 0.83833243],\n",
       "       [0.73976694, 0.86538467, 0.70650104]])"
      ]
     },
     "execution_count": 45,
     "metadata": {},
     "output_type": "execute_result"
    }
   ],
   "source": [
    "matriz = np.random.random((3, 3))\n",
    "\n",
    "matriz"
   ]
  },
  {
   "cell_type": "code",
   "execution_count": 46,
   "id": "cf4e6eb8",
   "metadata": {},
   "outputs": [
    {
     "data": {
      "text/plain": [
       "array([[ 3.47031761,  0.01622512, -0.33003503],\n",
       "       [-4.44739759, -1.62388638,  2.32518384],\n",
       "       [ 1.81384509,  1.9720899 , -1.08708891]])"
      ]
     },
     "execution_count": 46,
     "metadata": {},
     "output_type": "execute_result"
    }
   ],
   "source": [
    "inv(matriz)"
   ]
  },
  {
   "cell_type": "code",
   "execution_count": 47,
   "id": "d3799328",
   "metadata": {},
   "outputs": [
    {
     "data": {
      "text/plain": [
       "array([[ 1.00000000e+00, -3.29519269e-17,  6.08678011e-17],\n",
       "       [-1.01894395e-16,  1.00000000e+00, -8.70788010e-18],\n",
       "       [-2.84411546e-16, -4.82287933e-17,  1.00000000e+00]])"
      ]
     },
     "execution_count": 47,
     "metadata": {},
     "output_type": "execute_result"
    }
   ],
   "source": [
    "np.matmul(matriz, inv(matriz))"
   ]
  },
  {
   "cell_type": "markdown",
   "id": "6e28198a",
   "metadata": {},
   "source": [
    "### 3.13 - Determinante"
   ]
  },
  {
   "cell_type": "markdown",
   "id": "afc85e9b",
   "metadata": {},
   "source": [
    "El módulo `linalg`, también tiene el método `det` para calcular el determinante de una matriz. Vimos que no podía ser cero para calcular la matriz inversa."
   ]
  },
  {
   "cell_type": "code",
   "execution_count": 48,
   "id": "7a325f22",
   "metadata": {},
   "outputs": [],
   "source": [
    "from numpy.linalg import det"
   ]
  },
  {
   "cell_type": "code",
   "execution_count": 49,
   "id": "5c228558",
   "metadata": {},
   "outputs": [
    {
     "data": {
      "text/plain": [
       "-0.12699448455049542"
      ]
     },
     "execution_count": 49,
     "metadata": {},
     "output_type": "execute_result"
    }
   ],
   "source": [
    "det(matriz)"
   ]
  },
  {
   "cell_type": "markdown",
   "id": "8ca57f70",
   "metadata": {},
   "source": [
    "### 3.14 - Otra operaciones"
   ]
  },
  {
   "cell_type": "markdown",
   "id": "bf1c1dc8",
   "metadata": {},
   "source": [
    "NumPy es una librería realmente grande. Con ella se pueden hacer multitud de operaciones y transformaciones, como el cálculo del mínimo, el máximo, la media o la desviación estandar. Vamos a ver algunas de esas operaciones que nos proporciona NumPy."
   ]
  },
  {
   "cell_type": "code",
   "execution_count": 51,
   "id": "f2f6cbe2",
   "metadata": {},
   "outputs": [
    {
     "data": {
      "text/plain": [
       "array([[0.39451183, 0.69728752, 0.84212474, 0.80363268],\n",
       "       [0.91212088, 0.92175549, 0.11526855, 0.15645495],\n",
       "       [0.14468113, 0.65383038, 0.06836297, 0.07055831],\n",
       "       [0.76558053, 0.74069201, 0.40851154, 0.17700496],\n",
       "       [0.00445504, 0.63127721, 0.81897758, 0.15713056],\n",
       "       [0.51537956, 0.58640824, 0.80467651, 0.650851  ],\n",
       "       [0.37506257, 0.9499508 , 0.06164917, 0.57580375],\n",
       "       [0.77441744, 0.62776658, 0.30093834, 0.5973944 ],\n",
       "       [0.09080517, 0.87641358, 0.53332645, 0.46107891],\n",
       "       [0.01850809, 0.45941211, 0.05300036, 0.28458822]])"
      ]
     },
     "execution_count": 51,
     "metadata": {},
     "output_type": "execute_result"
    }
   ],
   "source": [
    "matriz = np.random.random((10, 4))\n",
    "\n",
    "matriz"
   ]
  },
  {
   "cell_type": "code",
   "execution_count": 52,
   "id": "9ab2ddb8",
   "metadata": {},
   "outputs": [
    {
     "data": {
      "text/plain": [
       "0.004455041495789791"
      ]
     },
     "execution_count": 52,
     "metadata": {},
     "output_type": "execute_result"
    }
   ],
   "source": [
    "matriz.min()"
   ]
  },
  {
   "cell_type": "code",
   "execution_count": 53,
   "id": "f0c65810",
   "metadata": {},
   "outputs": [
    {
     "data": {
      "text/plain": [
       "0.9499507952607109"
      ]
     },
     "execution_count": 53,
     "metadata": {},
     "output_type": "execute_result"
    }
   ],
   "source": [
    "matriz.max()"
   ]
  },
  {
   "cell_type": "code",
   "execution_count": 54,
   "id": "a33b47c7",
   "metadata": {},
   "outputs": [
    {
     "data": {
      "text/plain": [
       "19.08165009289494"
      ]
     },
     "execution_count": 54,
     "metadata": {},
     "output_type": "execute_result"
    }
   ],
   "source": [
    "matriz.sum()"
   ]
  },
  {
   "cell_type": "markdown",
   "id": "5b777b2d",
   "metadata": {},
   "source": [
    "Estos métodos tienen un argumento llamada `axis`, el cual nos permite realizar el cálculo según los ejes del array, es decir, según sus dimensiones."
   ]
  },
  {
   "cell_type": "code",
   "execution_count": 55,
   "id": "c0f1df48",
   "metadata": {},
   "outputs": [
    {
     "data": {
      "text/plain": [
       "array([3.99552224, 7.14479392, 4.0068362 , 3.93449774])"
      ]
     },
     "execution_count": 55,
     "metadata": {},
     "output_type": "execute_result"
    }
   ],
   "source": [
    "# sumar por columnas\n",
    "\n",
    "matriz.sum(axis=0)"
   ]
  },
  {
   "cell_type": "code",
   "execution_count": 56,
   "id": "ab325590",
   "metadata": {},
   "outputs": [
    {
     "data": {
      "text/plain": [
       "array([2.73755676, 2.10559986, 0.93743278, 2.09178904, 1.61184039,\n",
       "       2.55731531, 1.96246628, 2.30051676, 1.96162412, 0.81550878])"
      ]
     },
     "execution_count": 56,
     "metadata": {},
     "output_type": "execute_result"
    }
   ],
   "source": [
    " # sumar por filas\n",
    "\n",
    "matriz.sum(axis=1)"
   ]
  },
  {
   "cell_type": "code",
   "execution_count": 57,
   "id": "38bd0a5d",
   "metadata": {},
   "outputs": [
    {
     "data": {
      "text/plain": [
       "0.4770412523223735"
      ]
     },
     "execution_count": 57,
     "metadata": {},
     "output_type": "execute_result"
    }
   ],
   "source": [
    "matriz.mean()"
   ]
  },
  {
   "cell_type": "code",
   "execution_count": 58,
   "id": "f668e9c7",
   "metadata": {},
   "outputs": [
    {
     "data": {
      "text/plain": [
       "0.5243530085504085"
      ]
     },
     "execution_count": 58,
     "metadata": {},
     "output_type": "execute_result"
    }
   ],
   "source": [
    "np.median(matriz)"
   ]
  },
  {
   "cell_type": "code",
   "execution_count": 59,
   "id": "0c13d44c",
   "metadata": {},
   "outputs": [
    {
     "data": {
      "text/plain": [
       "0.2986351815802402"
      ]
     },
     "execution_count": 59,
     "metadata": {},
     "output_type": "execute_result"
    }
   ],
   "source": [
    "matriz.std()"
   ]
  },
  {
   "cell_type": "code",
   "execution_count": 60,
   "id": "0a65eaf2",
   "metadata": {},
   "outputs": [
    {
     "data": {
      "text/plain": [
       "8.393432793441453e-21"
      ]
     },
     "execution_count": 60,
     "metadata": {},
     "output_type": "execute_result"
    }
   ],
   "source": [
    "np.prod(matriz)"
   ]
  },
  {
   "cell_type": "code",
   "execution_count": 61,
   "id": "de9b6bfe",
   "metadata": {},
   "outputs": [
    {
     "data": {
      "text/plain": [
       "array([0.35984248, 0.6427286 , 0.0970705 , 0.12573231])"
      ]
     },
     "execution_count": 61,
     "metadata": {},
     "output_type": "execute_result"
    }
   ],
   "source": [
    "np.multiply(matriz[0], matriz[1])"
   ]
  },
  {
   "cell_type": "code",
   "execution_count": 62,
   "id": "83b75c2d",
   "metadata": {},
   "outputs": [
    {
     "data": {
      "text/plain": [
       "array([ 0.39451183,  1.09179935,  1.93392409,  2.73755676,  3.64967764,\n",
       "        4.57143313,  4.68670168,  4.84315663,  4.98783775,  5.64166813,\n",
       "        5.7100311 ,  5.78058941,  6.54616993,  7.28686194,  7.69537348,\n",
       "        7.87237845,  7.87683349,  8.5081107 ,  9.32708828,  9.48421883,\n",
       "        9.9995984 , 10.58600664, 11.39068315, 12.04153415, 12.41659672,\n",
       "       13.36654751, 13.42819668, 14.00400043, 14.77841787, 15.40618445,\n",
       "       15.70712279, 16.30451719, 16.39532236, 17.27173594, 17.8050624 ,\n",
       "       18.26614131, 18.2846494 , 18.74406151, 18.79706187, 19.08165009])"
      ]
     },
     "execution_count": 62,
     "metadata": {},
     "output_type": "execute_result"
    }
   ],
   "source": [
    "matriz.cumsum()"
   ]
  },
  {
   "cell_type": "code",
   "execution_count": 63,
   "id": "526cf765",
   "metadata": {},
   "outputs": [
    {
     "data": {
      "text/plain": [
       "array([3.94511832e-01, 2.75088177e-01, 2.31658558e-01, 1.86168387e-01,\n",
       "       1.69808072e-01, 1.56521523e-01, 1.80420086e-02, 2.82276155e-03,\n",
       "       4.08400324e-04, 2.67024538e-04, 1.82545906e-05, 1.28801298e-06,\n",
       "       9.86077655e-07, 7.30379838e-07, 2.98368594e-07, 5.28127220e-08,\n",
       "       2.35282868e-10, 1.48528713e-10, 1.21641686e-10, 1.91136258e-11,\n",
       "       9.85077209e-12, 5.77657395e-12, 4.64827335e-12, 3.02533337e-12,\n",
       "       1.13468930e-12, 1.07789900e-12, 6.64515742e-14, 3.82630657e-14,\n",
       "       2.96315854e-14, 1.86017191e-14, 5.59797043e-15, 3.34419619e-15,\n",
       "       3.03670320e-16, 2.66140792e-16, 1.41939925e-16, 6.54455061e-17,\n",
       "       1.21127133e-18, 5.56472720e-19, 2.94932543e-20, 8.39343279e-21])"
      ]
     },
     "execution_count": 63,
     "metadata": {},
     "output_type": "execute_result"
    }
   ],
   "source": [
    "matriz.cumprod()"
   ]
  },
  {
   "cell_type": "code",
   "execution_count": 64,
   "id": "341de0dc",
   "metadata": {},
   "outputs": [
    {
     "data": {
      "text/plain": [
       "inf"
      ]
     },
     "execution_count": 64,
     "metadata": {},
     "output_type": "execute_result"
    }
   ],
   "source": [
    "np.inf"
   ]
  },
  {
   "cell_type": "code",
   "execution_count": 65,
   "id": "e283bd02",
   "metadata": {},
   "outputs": [
    {
     "data": {
      "text/plain": [
       "3.141592653589793"
      ]
     },
     "execution_count": 65,
     "metadata": {},
     "output_type": "execute_result"
    }
   ],
   "source": [
    "np.pi"
   ]
  },
  {
   "cell_type": "code",
   "execution_count": 66,
   "id": "93b7c63b",
   "metadata": {},
   "outputs": [
    {
     "data": {
      "text/plain": [
       "nan"
      ]
     },
     "execution_count": 66,
     "metadata": {},
     "output_type": "execute_result"
    }
   ],
   "source": [
    "np.nan"
   ]
  },
  {
   "cell_type": "code",
   "execution_count": 67,
   "id": "9d27e380",
   "metadata": {},
   "outputs": [
    {
     "data": {
      "text/plain": [
       "float"
      ]
     },
     "execution_count": 67,
     "metadata": {},
     "output_type": "execute_result"
    }
   ],
   "source": [
    "type(np.nan)"
   ]
  },
  {
   "cell_type": "code",
   "execution_count": 68,
   "id": "e99a236c",
   "metadata": {},
   "outputs": [
    {
     "data": {
      "text/plain": [
       "float"
      ]
     },
     "execution_count": 68,
     "metadata": {},
     "output_type": "execute_result"
    }
   ],
   "source": [
    "type(np.inf)"
   ]
  },
  {
   "cell_type": "code",
   "execution_count": 69,
   "id": "3baf4feb",
   "metadata": {},
   "outputs": [
    {
     "data": {
      "text/plain": [
       "float"
      ]
     },
     "execution_count": 69,
     "metadata": {},
     "output_type": "execute_result"
    }
   ],
   "source": [
    "type(np.pi)"
   ]
  },
  {
   "cell_type": "code",
   "execution_count": 71,
   "id": "94f67962",
   "metadata": {},
   "outputs": [
    {
     "data": {
      "text/plain": [
       "148.4131591025766"
      ]
     },
     "execution_count": 71,
     "metadata": {},
     "output_type": "execute_result"
    }
   ],
   "source": [
    "np.exp(5)"
   ]
  },
  {
   "cell_type": "code",
   "execution_count": 72,
   "id": "9278f632",
   "metadata": {},
   "outputs": [
    {
     "data": {
      "text/plain": [
       "-0.9899924966004454"
      ]
     },
     "execution_count": 72,
     "metadata": {},
     "output_type": "execute_result"
    }
   ],
   "source": [
    "np.cos(3)"
   ]
  },
  {
   "cell_type": "code",
   "execution_count": 73,
   "id": "8c7ed02b",
   "metadata": {},
   "outputs": [
    {
     "data": {
      "text/plain": [
       "0.6569865987187891"
      ]
     },
     "execution_count": 73,
     "metadata": {},
     "output_type": "execute_result"
    }
   ],
   "source": [
    "np.sin(7)"
   ]
  },
  {
   "cell_type": "code",
   "execution_count": 74,
   "id": "ff8b6d50",
   "metadata": {},
   "outputs": [
    {
     "data": {
      "text/plain": [
       "1.791759469228055"
      ]
     },
     "execution_count": 74,
     "metadata": {},
     "output_type": "execute_result"
    }
   ],
   "source": [
    "np.log(6)"
   ]
  },
  {
   "cell_type": "code",
   "execution_count": 78,
   "id": "8ae12cb7",
   "metadata": {},
   "outputs": [
    {
     "data": {
      "text/plain": [
       "(5, 8)"
      ]
     },
     "execution_count": 78,
     "metadata": {},
     "output_type": "execute_result"
    }
   ],
   "source": [
    "matriz.reshape((5, 8)).shape"
   ]
  },
  {
   "cell_type": "code",
   "execution_count": 81,
   "id": "16a302ac",
   "metadata": {},
   "outputs": [
    {
     "data": {
      "text/plain": [
       "(40,)"
      ]
     },
     "execution_count": 81,
     "metadata": {},
     "output_type": "execute_result"
    }
   ],
   "source": [
    "matriz.flatten().shape"
   ]
  },
  {
   "cell_type": "code",
   "execution_count": 82,
   "id": "470a9a93",
   "metadata": {},
   "outputs": [
    {
     "data": {
      "text/plain": [
       "array([[1., 1., 1.],\n",
       "       [1., 1., 1.],\n",
       "       [1., 1., 1.]])"
      ]
     },
     "execution_count": 82,
     "metadata": {},
     "output_type": "execute_result"
    }
   ],
   "source": [
    "np.ones((3, 3))"
   ]
  },
  {
   "cell_type": "code",
   "execution_count": 83,
   "id": "8e6c020c",
   "metadata": {},
   "outputs": [
    {
     "data": {
      "text/plain": [
       "array([[0., 0., 0.],\n",
       "       [0., 0., 0.],\n",
       "       [0., 0., 0.]])"
      ]
     },
     "execution_count": 83,
     "metadata": {},
     "output_type": "execute_result"
    }
   ],
   "source": [
    "np.zeros((3, 3))"
   ]
  },
  {
   "cell_type": "code",
   "execution_count": 84,
   "id": "87bd7e7b",
   "metadata": {},
   "outputs": [
    {
     "data": {
      "text/plain": [
       "array([[0, 1, 1, 1],\n",
       "       [1, 1, 0, 0],\n",
       "       [0, 1, 0, 0],\n",
       "       [1, 1, 0, 0],\n",
       "       [0, 1, 1, 0],\n",
       "       [1, 1, 1, 1],\n",
       "       [0, 1, 0, 1],\n",
       "       [1, 1, 0, 1],\n",
       "       [0, 1, 1, 0],\n",
       "       [0, 0, 0, 0]])"
      ]
     },
     "execution_count": 84,
     "metadata": {},
     "output_type": "execute_result"
    }
   ],
   "source": [
    "# condicional\n",
    "\n",
    "np.where(matriz > 0.5, 1, 0)   # if > 0.5 1 else 0"
   ]
  },
  {
   "cell_type": "code",
   "execution_count": 85,
   "id": "49990897",
   "metadata": {},
   "outputs": [
    {
     "data": {
      "text/plain": [
       "array([[2, 1, 1, 1],\n",
       "       [1, 1, 2, 2],\n",
       "       [2, 1, 2, 2],\n",
       "       [1, 1, 2, 2],\n",
       "       [2, 1, 1, 2],\n",
       "       [1, 1, 1, 1],\n",
       "       [2, 1, 2, 1],\n",
       "       [1, 1, 2, 1],\n",
       "       [2, 1, 1, 2],\n",
       "       [2, 2, 2, 2]])"
      ]
     },
     "execution_count": 85,
     "metadata": {},
     "output_type": "execute_result"
    }
   ],
   "source": [
    "np.where(matriz > 0.5, 1, np.where(matriz<0.5, 2, 0))"
   ]
  },
  {
   "cell_type": "code",
   "execution_count": 87,
   "id": "d141cdca",
   "metadata": {},
   "outputs": [
    {
     "data": {
      "text/plain": [
       "array([ 4,  8, 12])"
      ]
     },
     "execution_count": 87,
     "metadata": {},
     "output_type": "execute_result"
    }
   ],
   "source": [
    "np.array([1,2,3]) * 4"
   ]
  },
  {
   "cell_type": "code",
   "execution_count": null,
   "id": "f6df8dd4",
   "metadata": {},
   "outputs": [],
   "source": []
  }
 ],
 "metadata": {
  "kernelspec": {
   "display_name": "ia",
   "language": "python",
   "name": "ia"
  },
  "language_info": {
   "codemirror_mode": {
    "name": "ipython",
    "version": 3
   },
   "file_extension": ".py",
   "mimetype": "text/x-python",
   "name": "python",
   "nbconvert_exporter": "python",
   "pygments_lexer": "ipython3",
   "version": "3.9.19"
  },
  "toc": {
   "base_numbering": 1,
   "nav_menu": {},
   "number_sections": false,
   "sideBar": true,
   "skip_h1_title": true,
   "title_cell": "Tabla de Contenidos",
   "title_sidebar": "Contents",
   "toc_cell": true,
   "toc_position": {
    "height": "684.444px",
    "left": "63px",
    "top": "110.113px",
    "width": "279.878px"
   },
   "toc_section_display": true,
   "toc_window_display": true
  }
 },
 "nbformat": 4,
 "nbformat_minor": 5
}
