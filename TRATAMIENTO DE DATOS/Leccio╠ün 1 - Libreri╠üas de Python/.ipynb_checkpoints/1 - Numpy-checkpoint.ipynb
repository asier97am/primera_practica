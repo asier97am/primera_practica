{
 "cells": [
  {
   "cell_type": "markdown",
   "id": "88f98805",
   "metadata": {},
   "source": [
    "# 1 - Numpy\n",
    "\n",
    "\n",
    "<br>\n",
    "<br>\n",
    "\n",
    "<img src=\"https://raw.githubusercontent.com/Hack-io-AI/ai_images/main/numpy.png\" style=\"width:400px;\"/>"
   ]
  },
  {
   "cell_type": "markdown",
   "id": "2780f657",
   "metadata": {
    "toc": true
   },
   "source": [
    "<h1>Tabla de Contenidos<span class=\"tocSkip\"></span></h1>\n",
    "<div class=\"toc\"><ul class=\"toc-item\"><li><span><a href=\"#1---¿Qué-es-Numpy?\" data-toc-modified-id=\"1---¿Qué-es-Numpy?-1\">1 - ¿Qué es Numpy?</a></span></li><li><span><a href=\"#2---Recordatorio-de-álgebra\" data-toc-modified-id=\"2---Recordatorio-de-álgebra-2\">2 - Recordatorio de álgebra</a></span><ul class=\"toc-item\"><li><span><a href=\"#2.1---Concepto-de-tensor\" data-toc-modified-id=\"2.1---Concepto-de-tensor-2.1\">2.1 - Concepto de tensor</a></span></li><li><span><a href=\"#2.2---Operaciones-con-vectores\" data-toc-modified-id=\"2.2---Operaciones-con-vectores-2.2\">2.2 - Operaciones con vectores</a></span><ul class=\"toc-item\"><li><span><a href=\"#2.2.1---Espacio-vectorial\" data-toc-modified-id=\"2.2.1---Espacio-vectorial-2.2.1\">2.2.1 - Espacio vectorial</a></span></li><li><span><a href=\"#2.2.2---Base-vectorial\" data-toc-modified-id=\"2.2.2---Base-vectorial-2.2.2\">2.2.2 - Base vectorial</a></span></li><li><span><a href=\"#2.2.3---Suma-de-vectores\" data-toc-modified-id=\"2.2.3---Suma-de-vectores-2.2.3\">2.2.3 - Suma de vectores</a></span></li><li><span><a href=\"#2.2.4---Producto-escalar\" data-toc-modified-id=\"2.2.4---Producto-escalar-2.2.4\">2.2.4 - Producto escalar</a></span></li><li><span><a href=\"#2.2.5---Producto-vectorial\" data-toc-modified-id=\"2.2.5---Producto-vectorial-2.2.5\">2.2.5 - Producto vectorial</a></span></li></ul></li><li><span><a href=\"#2.3---Operaciones-con-matrices\" data-toc-modified-id=\"2.3---Operaciones-con-matrices-2.3\">2.3 - Operaciones con matrices</a></span><ul class=\"toc-item\"><li><span><a href=\"#2.3.1---Suma-de-matrices\" data-toc-modified-id=\"2.3.1---Suma-de-matrices-2.3.1\">2.3.1 - Suma de matrices</a></span></li><li><span><a href=\"#2.3.2---Producto-matricial\" data-toc-modified-id=\"2.3.2---Producto-matricial-2.3.2\">2.3.2 - Producto matricial</a></span></li><li><span><a href=\"#2.3.3---Matriz-Identidad\" data-toc-modified-id=\"2.3.3---Matriz-Identidad-2.3.3\">2.3.3 - Matriz Identidad</a></span></li><li><span><a href=\"#2.3.4---Matriz-traspuesta--(hermítica)\" data-toc-modified-id=\"2.3.4---Matriz-traspuesta--(hermítica)-2.3.4\">2.3.4 - Matriz traspuesta  (hermítica)</a></span></li><li><span><a href=\"#2.3.5---Matriz-Inversa\" data-toc-modified-id=\"2.3.5---Matriz-Inversa-2.3.5\">2.3.5 - Matriz Inversa</a></span></li><li><span><a href=\"#2.3.6---Determinante\" data-toc-modified-id=\"2.3.6---Determinante-2.3.6\">2.3.6 - Determinante</a></span></li></ul></li></ul></li><li><span><a href=\"#3---Operaciones-con-NumPy\" data-toc-modified-id=\"3---Operaciones-con-NumPy-3\">3 - Operaciones con NumPy</a></span><ul class=\"toc-item\"><li><span><a href=\"#3.1---Creación-de-arrays\" data-toc-modified-id=\"3.1---Creación-de-arrays-3.1\">3.1 - Creación de arrays</a></span></li><li><span><a href=\"#3.2---Dimensiones-y-acceso-a-elementos\" data-toc-modified-id=\"3.2---Dimensiones-y-acceso-a-elementos-3.2\">3.2 - Dimensiones y acceso a elementos</a></span></li><li><span><a href=\"#3.3---Suma-de-vectores\" data-toc-modified-id=\"3.3---Suma-de-vectores-3.3\">3.3 - Suma de vectores</a></span></li><li><span><a href=\"#3.4---Producto-por-escalares\" data-toc-modified-id=\"3.4---Producto-por-escalares-3.4\">3.4 - Producto por escalares</a></span></li><li><span><a href=\"#3.5---Producto-escalar-de-vectores\" data-toc-modified-id=\"3.5---Producto-escalar-de-vectores-3.5\">3.5 - Producto escalar de vectores</a></span></li><li><span><a href=\"#3.6---Producto-vectorial\" data-toc-modified-id=\"3.6---Producto-vectorial-3.6\">3.6 - Producto vectorial</a></span></li><li><span><a href=\"#3.7---Suma-de-matrices\" data-toc-modified-id=\"3.7---Suma-de-matrices-3.7\">3.7 - Suma de matrices</a></span></li><li><span><a href=\"#3.8---Producto-escalar-de-matrices\" data-toc-modified-id=\"3.8---Producto-escalar-de-matrices-3.8\">3.8 - Producto escalar de matrices</a></span></li><li><span><a href=\"#3.9---Producto-matricial\" data-toc-modified-id=\"3.9---Producto-matricial-3.9\">3.9 - Producto matricial</a></span></li><li><span><a href=\"#3.10---Matriz-identidad\" data-toc-modified-id=\"3.10---Matriz-identidad-3.10\">3.10 - Matriz identidad</a></span></li><li><span><a href=\"#3.11---Matriz-traspuesta\" data-toc-modified-id=\"3.11---Matriz-traspuesta-3.11\">3.11 - Matriz traspuesta</a></span></li><li><span><a href=\"#3.12---Matriz-inversa\" data-toc-modified-id=\"3.12---Matriz-inversa-3.12\">3.12 - Matriz inversa</a></span></li><li><span><a href=\"#3.13---Determinante\" data-toc-modified-id=\"3.13---Determinante-3.13\">3.13 - Determinante</a></span></li><li><span><a href=\"#3.14---Otra-operaciones\" data-toc-modified-id=\"3.14---Otra-operaciones-3.14\">3.14 - Otra operaciones</a></span></li></ul></li></ul></div>"
   ]
  },
  {
   "cell_type": "markdown",
   "id": "ec6ec33f",
   "metadata": {},
   "source": [
    "## 1 - ¿Qué es Numpy?"
   ]
  },
  {
   "cell_type": "markdown",
   "id": "1dc63aa5",
   "metadata": {},
   "source": [
    "NumPy (Numerical Python) es el paquete fundamental para computación cientifíca en python. Es una librería de python nos permite manejar vectores, matrices, [tensores](https://es.wikipedia.org/wiki/C%C3%A1lculo_tensorial) (arrays multidimensionales) y además realizar todas las operaciones matemáticas y lógicas de los mismos, como la manipulación de la dimensión, ordenado, selección, I/O, operaciones estadísticas, transformadas de Fourier, simulación aleatoria y un largo etcétera. Constituye la herramienta de álgebra lineal. Aquí, la [documentación](https://numpy.org/doc/stable/) y el [código fuente](https://github.com/numpy/numpy). \n",
    "\n",
    "Numpy suele venir instalado por defecto en el paquete de Python. Si no lo está, podemos instalarlo con el siguiente comando:\n",
    "\n",
    "```bash\n",
    "pip install numpy\n",
    "```"
   ]
  },
  {
   "cell_type": "markdown",
   "id": "2f63e7de",
   "metadata": {},
   "source": [
    "## 2 - Recordatorio de álgebra"
   ]
  },
  {
   "cell_type": "markdown",
   "id": "54ab6691",
   "metadata": {},
   "source": [
    "El álgebra es la rama de la matemática que estudia la combinación de elementos de estructuras abstractas acorde a ciertas reglas. Originalmente esos elementos podían ser interpretados como números o cantidades, por lo que el álgebra en cierto modo fue originalmente una generalización y extensión de la aritmética. Veamos algunos conceptos algebraicos."
   ]
  },
  {
   "cell_type": "markdown",
   "id": "b461225e",
   "metadata": {},
   "source": [
    "### 2.1 - Concepto de tensor"
   ]
  },
  {
   "cell_type": "markdown",
   "id": "64a5b65e",
   "metadata": {},
   "source": [
    "La palabra ['tensor'](https://es.wikipedia.org/wiki/C%C3%A1lculo_tensorial) se utiliza a menudo como abreviatura de campo tensorial, que es un valor tensorial definido en cada punto en una variedad. El primero en utilizar esta palabra fue William Rowan Hamilton en 1846, empleándola para lo que actualmente se conoce como módulo y fue Woldemar Voigt en 1899 quien la empleó en su acepción actual. La palabra tensor proviene del latín tensus, participio pasado de tendere 'estirar, extender'. El nombre se extendió porque la teoría de la elasticidad fue una de las primeras aplicaciones físicas donde se usaron tensores. Gregorio Ricci-Curbastro en 1890 desarrolló la notación actual con el nombre de geometría diferencial absoluta, y se popularizó con la publicación de Cálculo Diferencial Absoluto de Tullio Levi-Civita en 1900. Con la introducción de la teoría de la relatividad general por parte de Albert Einstein alrededor de 1915 se encontró su aplicación más pragmática. La Relatividad General es netamente tensorial. Einstein había aprendido del mismo Levi-Civita el uso de tensores con gran dificultad.\n",
    "\n",
    "Podemos pensar en un tensor como la generalización del ente algebraico. Con un ejemplo se verá más claro.\n",
    "\n",
    "Un **número**, cualquier número, $2$, $3.6$, $\\pi$, $\\phi$, $\\sqrt{2}$, es un **tensor de rango $0$**.\n",
    "\n",
    "Un **vector**, cualquier vector, sea como sea su longitud, $(1, 2, 3)$, $(0, 5, 2, 1, 5)$, $(9,2)$, es un **tensor de rango $1$**.\n",
    "\n",
    "Una **matriz**, cualquier matriz, sean cuales sean sus dimensiones, es un **tensor de rango $2$**.\n",
    "\n",
    "Un **cubo de Rubik** por ejemplo es un **tensor de rango $3$**.\n",
    "\n",
    "Pensar en dimensiones superiores es complicado por no decir imposible, pero se pueden interpretar a través del contenido. Una **bolsa llena de cubos de Rubik** es un **tensor de rango $4$**.\n",
    "\n",
    "Una **caja llena de bolsas que están llenas de cubos de Rubik es un tensor de rango $5$**.\n",
    "\n",
    "Y así sucesivamente."
   ]
  },
  {
   "cell_type": "markdown",
   "id": "ae331521",
   "metadata": {},
   "source": [
    "### 2.2 - Operaciones con vectores"
   ]
  },
  {
   "cell_type": "markdown",
   "id": "2664c419",
   "metadata": {},
   "source": [
    "#### 2.2.1 - Espacio vectorial\n",
    "\n",
    "La definición matemática de [espacio vectorial](https://es.wikipedia.org/wiki/Espacio_vectorial) implica los conceptos de conjunto, ley de composición(operación) interna y ley de composición externa, definida sobre un segundo conjunto. Resumiendo, un espacio vectorial es una estructura creada sobre un conjunto no vacío con ambas leyes de composición. A los elementos de un espacio vectorial se les llama vectores.\n",
    "\n",
    "Veamos un ejemplo:\n",
    "\n",
    "Un espacio vectorial es el espacio tridimensional ${\\Bbb R}^{3}$. Los elementos de ${\\Bbb R}^{3}$ son vectores, por lo que la ley de composición interna es la suma de vectores. Para la ley de composición externa se necesita otro conjunto, que en esta caso son los números reales ${\\Bbb R}$, y queda definida como el producto por escalares, multiplicar un vector por un número."
   ]
  },
  {
   "cell_type": "markdown",
   "id": "04de4c48",
   "metadata": {},
   "source": [
    "#### 2.2.2 - Base vectorial\n",
    "\n",
    "Una [base](https://es.wikipedia.org/wiki/Base_(%C3%A1lgebra)) es un conjunto de vectores {$v_{1}, v_{2}, v_{3}, ... ,v_{n}$} que cumplen las siguientes propiedades:\n",
    "\n",
    "+ Todos los elementos de la base pertenecen al mismo espacio vectorial.\n",
    "+ Los elementos de la base forman un sistema linealmente independiente (ninguno es combinación lineal de los demás).\n",
    "+ Cualquier elemento del espacio vectorial se puede escribir como combinación lineal de los elementos de la base (es lo que se llama sistema generador del espacio vectorial).\n",
    "\n",
    "Ejemplo:\n",
    "\n",
    "En ${\\Bbb R}^{3}$, la base principal (llamada canónica) es {$(1,0,0), (0,1,0), (0,0,1)$}. Todos esos vectores pertenecen a ${\\Bbb R}^{3}$, son linealmente independientes(ninguno puede ser una suma de los otros) y cualquier otro vector en ${\\Bbb R}^{3}$ se puede representar como una suma de esos tres, una combinación lineal. No es única, otra base de ${\\Bbb R}^{3}$ podría ser {$(1,1,1), (1,1,0), (1,0,0)$}\n"
   ]
  },
  {
   "cell_type": "markdown",
   "id": "c9bd40e0",
   "metadata": {},
   "source": [
    "#### 2.2.3 - Suma de vectores\n",
    "\n",
    "Los vectores se suman por componentes, lo que implica que ambos tienen la misma longitud. Por ejemplo en ${\\Bbb R}^{3}$:\n",
    "\n",
    "$$\\vec{A}=A_{x}\\vec{i}+A_{y}\\vec{j}+A_{z}\\vec{k}$$\n",
    "\n",
    "$$\\vec{B}=B_{x}\\vec{i}+B_{y}\\vec{j}+B_{z}\\vec{k}$$\n",
    "\n",
    "$$\\vec{A}+\\vec{B}=(B_{x}+A_{x})\\vec{i}+(B_{y}+A_{y})\\vec{j}+(B_{z}+A_{z})\\vec{k}$$\n",
    "\n",
    "$$$$\n",
    "\n",
    "$$\\vec{A}=(1,8,9)$$\n",
    "\n",
    "$$\\vec{B}=(4,3,0)$$\n",
    "\n",
    "$$\\vec{A}+\\vec{B}=(5,11,9)$$\n"
   ]
  },
  {
   "cell_type": "markdown",
   "id": "c7209dc6",
   "metadata": {},
   "source": [
    "#### 2.2.4 - Producto escalar\n",
    "\n",
    "Hay que diferenciar entre producto por escalares, un número por un vector resultando un vector, y el productor escalar donde se multiplican dos vectores resultando un número, un escalar.\n",
    "\n",
    "+ Producto por escalares:\n",
    "\n",
    "Se realiza elemento a elemento la multiplicación por el número:\n",
    "\n",
    "$$\\vec{A}=(1,8,9)$$\n",
    "\n",
    "$$2*\\vec{A}=(2,16,18)$$\n",
    "\n",
    "+ Productos escalar:\n",
    "\n",
    "Se realiza multiplicando elemento un vector fila por un vector columna y sumando los resultados. Hay que tener en cuenta, igual que en la suma, que ambos vectores tienen el mismo número de elementos. También se le llama producto punto (dot product) o producto interno (inner product).\n",
    "\n",
    "$$\\vec{A}\\cdot\\vec{B}=(1, 8, 9)\\cdot\\begin{pmatrix}4\\\\3\\\\0\\end{pmatrix} = 1·4+8·3+9·0 = 4+24+0 = 28$$\n"
   ]
  },
  {
   "cell_type": "markdown",
   "id": "c9ac62f9",
   "metadata": {},
   "source": [
    "#### 2.2.5 - Producto vectorial\n",
    "\n",
    "En este caso, se multiplican dos vectores resultando otro vector. La manera más fácil de hacerlo es a través de un determinante:\n",
    "\n",
    "\n",
    "$$\\vec{A}\\times \\vec{B} = \\begin{vmatrix}\n",
    "\\hat{\\imath}&\\hat{\\jmath}&\\hat{k}\\\\\n",
    "1 & 8 & 9 \\\\\n",
    "4 & 3 & 0\n",
    "\\end{vmatrix} = \\begin{vmatrix}\n",
    "8 & 9 \\\\\n",
    "3 & 0\n",
    "\\end{vmatrix}·\\hat{\\imath} - \n",
    "\\begin{vmatrix}\n",
    "1 & 9 \\\\\n",
    "4 & 0\n",
    "\\end{vmatrix}·\\hat{\\jmath} +\n",
    "\\begin{vmatrix}\n",
    "1 & 8 \\\\\n",
    "4 & 3\n",
    "\\end{vmatrix}·\\hat{k} = (8·0-9·3)·\\hat{\\imath}-(1·0-9·4)·\\hat{\\jmath}+(1·3-8·4)·\\hat{k}$$\n",
    "\n",
    "$$\\vec{A}\\times \\vec{B} = (-27, 36, -29)$$"
   ]
  },
  {
   "cell_type": "markdown",
   "id": "c49c7cb0",
   "metadata": {},
   "source": [
    "### 2.3 - Operaciones con matrices"
   ]
  },
  {
   "cell_type": "markdown",
   "id": "2bda9189",
   "metadata": {},
   "source": [
    "#### 2.3.1 - Suma de matrices\n",
    "\n",
    "Las matrices tienen definidas sus dimensiones sugún el número de filas($m$) y de columnas($n$), y se representan como $A_{mxn}$. Para sumar matrices las dimensiones tienen que ser las mismas, igual que ocurría con los vectores, y se realiza elemento a elemento (element wise):\n",
    "\n",
    "\n",
    "$$\\begin{pmatrix}\n",
    "5 & 7 & 1 \\\\\n",
    "4 & 0 & 2 \n",
    "\\end{pmatrix}+\\begin{pmatrix}\n",
    "0 & 0 & 3 \\\\\n",
    "2 & 2 & 7 \n",
    "\\end{pmatrix}=\\begin{pmatrix}\n",
    "5 & 7 & 4 \\\\\n",
    "6 & 2 & 9 \n",
    "\\end{pmatrix}$$"
   ]
  },
  {
   "cell_type": "markdown",
   "id": "0a787ed5",
   "metadata": {},
   "source": [
    "#### 2.3.2 - Producto matricial\n",
    "\n",
    "Para multiplicar matrices tenemos que tener en cuenta las dimensiones, porque el producto matricial no es conmutativo e incluso a veces no se puede realizar. El número de columnas de la primera matriz tiene que ser igual que el número de filas de la segunda y el resultado tendrá el número de filas de la primera y el número de columnas de la segunda. Es decir:\n",
    "\n",
    "$$A_{rxn}\\cdot B_{nxq} = C_{rxq}$$\n",
    "\n",
    "\n",
    "$$\\begin{pmatrix}\n",
    "5 & 7 & 1 \\\\\n",
    "4 & 0 & 2 \n",
    "\\end{pmatrix}\\cdot\\begin{pmatrix}\n",
    "0 & 0 \\\\\n",
    "2 & 3 \\\\\n",
    "2 & 7 \n",
    "\\end{pmatrix}=\\begin{pmatrix}\n",
    "5·0+7·2+1·2 & 5·0+7·3+1·7 \\\\\n",
    "4·0+0·2+2·2 & 4·0+0·3+2·7\n",
    "\\end{pmatrix}=\\begin{pmatrix}\n",
    "18 & 28 \\\\\n",
    "4 & 14\n",
    "\\end{pmatrix}$$"
   ]
  },
  {
   "cell_type": "markdown",
   "id": "a86d4dba",
   "metadata": {},
   "source": [
    "#### 2.3.3 - Matriz Identidad\n",
    "\n",
    "Elemento neutro de la multiplicación, solo $1_s$ en la diagonal:\n",
    "\n",
    "$$I = \\begin{pmatrix}\n",
    "1&0&\\cdots&0&0\\\\\n",
    "0&1&\\cdots&0&0\\\\\n",
    "\\vdots&\\vdots&\\ddots&\\vdots&\\vdots\\\\\n",
    "0&\\cdots&\\cdots&\\cdots&0\\\\\n",
    "0&0&\\cdots&1&0\\\\\n",
    "0&0&\\cdots&0&1\\\\\n",
    "\\end{pmatrix}$$"
   ]
  },
  {
   "cell_type": "markdown",
   "id": "44f8a1d3",
   "metadata": {},
   "source": [
    "#### 2.3.4 - Matriz traspuesta  (hermítica)\n",
    "\n",
    "La traspuesta $A^{T}$ de una matriz $A$ puede ser obtenida reflejando los elementos a lo largo de su diagonal.\n",
    "\n",
    "$$A=\\begin{pmatrix}\n",
    "5 & 7 & 9 \\\\\n",
    "4 & 0 & 7 \\\\\n",
    "1 & 2 & 2\n",
    "\\end{pmatrix}$$\n",
    "\n",
    "$$A^{T}=\\begin{pmatrix}\n",
    "5 & 4 & 1 \\\\\n",
    "7 & 0 & 2 \\\\\n",
    "9 & 7 & 2\n",
    "\\end{pmatrix}$$\n",
    "\n",
    "\n",
    "Se le dice hermítica si los elementos son números complejos, es la traspuesta conjugada (el conjugado de $x+iy$ es $x-iy$).\n"
   ]
  },
  {
   "cell_type": "markdown",
   "id": "eb7615a8",
   "metadata": {},
   "source": [
    "#### 2.3.5 - Matriz Inversa\n",
    "\n",
    "¿Como se dividen las matrices? Se multiplica por la inversa, pues no existe la operación división para las matrices. El cálculo de la matriz inversa se puede hacer por el método de Gauss o de manera más sencilla:\n",
    "\n",
    "$$A= \\begin{pmatrix}\n",
    "       a_{11} & a_{12} \\\\ \n",
    "       a_{21} & a_{22}\n",
    "    \\end{pmatrix}$$\n",
    "    \n",
    "    \n",
    "$$A^{-1}=\\begin{pmatrix}\n",
    "a_{11} & a_{12} \\\\ \n",
    "a_{21} & a_{22}\n",
    "\\end{pmatrix}^{-1}\n",
    "=\\frac{1}{\\lvert A\\rvert}\n",
    "\\begin{pmatrix}\n",
    "a_{22} & -a_{12} \\\\ \n",
    "-a_{21} &  a_{11}\n",
    "\\end{pmatrix}$$"
   ]
  },
  {
   "cell_type": "markdown",
   "id": "e1b83e5c",
   "metadata": {},
   "source": [
    "#### 2.3.6 - Determinante\n",
    "\n",
    "El determinante de una matriz es un número. Conocer el determinante de una matriz tiene varios usos. Uno de ellos es resolver un sistema de ecuaciones lineal. También nos sirve para calcular la inversa de una matriz, el rango de una matriz o áreas de un plano, entre otras operaciones. Para que una matriz tenga determinante, es necesario que sea cuadrada, es decir, que tenga el mismo número de filas y columnas. De lo contrario, la matriz no tendrá un determinante.\n",
    "\n",
    "\n",
    "\n",
    "$$A=\\begin{pmatrix}\n",
    "    1 & 3 & 2 & -6 \\\\ \n",
    "    0 & -1 & -4 & 1 \\\\ \n",
    "    0 & -2 & -6 & 3 \\\\ \n",
    "    0 & -2 & -10 & 3\n",
    "  \\end{pmatrix}$$\n",
    "  \n",
    "\n",
    "$$$$\n",
    "\n",
    "\n",
    "$$det(A)=\\begin{vmatrix}\n",
    "    1 & 3 & 2 & -6 \\\\ \n",
    "    0 & -1 & -4 & 1 \\\\ \n",
    "    0 & -2 & -6 & 3 \\\\ \n",
    "    0 & -2 & -10 & 3\n",
    "  \\end{vmatrix}=\\begin{vmatrix}\n",
    "    1 & 0 & 0 \\\\ \n",
    "    -2 & 1 & 0 \\\\ \n",
    "    -2 & 0 & 1\n",
    "  \\end{vmatrix}\\cdot\n",
    "  \\begin{vmatrix}\n",
    "    1 & 4 & 1 \\\\ \n",
    "    2 & 6 & 3 \\\\ \n",
    "    2 & 10 & 3\n",
    "  \\end{vmatrix}=\\begin{vmatrix}\n",
    "    1 & 4 & 1 \\\\ \n",
    "    0 & -2 & 1 \\\\ \n",
    "    0 & 2 & 1\n",
    "  \\end{vmatrix}\n",
    "  =\n",
    "  \\begin{vmatrix}\n",
    "    -2 & 1 \\\\ \n",
    "    2 & 1\n",
    "  \\end{vmatrix}\n",
    "  =-4$$"
   ]
  },
  {
   "cell_type": "markdown",
   "id": "2171168f",
   "metadata": {},
   "source": [
    "## 3 - Operaciones con NumPy"
   ]
  },
  {
   "cell_type": "code",
   "execution_count": null,
   "id": "41a0f501",
   "metadata": {},
   "outputs": [],
   "source": []
  },
  {
   "cell_type": "markdown",
   "id": "d14c85e1",
   "metadata": {},
   "source": [
    "### 3.1 - Creación de arrays"
   ]
  },
  {
   "cell_type": "code",
   "execution_count": null,
   "id": "96403d16",
   "metadata": {},
   "outputs": [],
   "source": []
  },
  {
   "cell_type": "code",
   "execution_count": null,
   "id": "bf09021d",
   "metadata": {},
   "outputs": [],
   "source": []
  },
  {
   "cell_type": "code",
   "execution_count": null,
   "id": "858bcc7b",
   "metadata": {},
   "outputs": [],
   "source": []
  },
  {
   "cell_type": "code",
   "execution_count": null,
   "id": "756b6ccd",
   "metadata": {},
   "outputs": [],
   "source": []
  },
  {
   "cell_type": "code",
   "execution_count": null,
   "id": "9ae2b3c5",
   "metadata": {},
   "outputs": [],
   "source": []
  },
  {
   "cell_type": "code",
   "execution_count": null,
   "id": "ca78757b",
   "metadata": {},
   "outputs": [],
   "source": []
  },
  {
   "cell_type": "markdown",
   "id": "16c3f878",
   "metadata": {},
   "source": [
    "### 3.2 - Dimensiones y acceso a elementos"
   ]
  },
  {
   "cell_type": "markdown",
   "id": "ba3ab748",
   "metadata": {},
   "source": [
    "Vamos a ver esos métodos para ver las dimensiones y número de elementos que hay enn un array. Además, en los array de NumPy podemos acceder a los elementos en su interior de la misma manera que lo haríamos con una lista, con los índices y también usando slicing."
   ]
  },
  {
   "cell_type": "code",
   "execution_count": null,
   "id": "04004396",
   "metadata": {},
   "outputs": [],
   "source": []
  },
  {
   "cell_type": "code",
   "execution_count": null,
   "id": "fa837ad0",
   "metadata": {},
   "outputs": [],
   "source": []
  },
  {
   "cell_type": "code",
   "execution_count": null,
   "id": "ed16f4db",
   "metadata": {},
   "outputs": [],
   "source": []
  },
  {
   "cell_type": "code",
   "execution_count": null,
   "id": "6555b001",
   "metadata": {},
   "outputs": [],
   "source": []
  },
  {
   "cell_type": "code",
   "execution_count": null,
   "id": "bdf1e801",
   "metadata": {},
   "outputs": [],
   "source": []
  },
  {
   "cell_type": "code",
   "execution_count": null,
   "id": "9782ac8e",
   "metadata": {},
   "outputs": [],
   "source": []
  },
  {
   "cell_type": "code",
   "execution_count": null,
   "id": "53f9c079",
   "metadata": {},
   "outputs": [],
   "source": []
  },
  {
   "cell_type": "code",
   "execution_count": null,
   "id": "21298c4d",
   "metadata": {},
   "outputs": [],
   "source": []
  },
  {
   "cell_type": "code",
   "execution_count": null,
   "id": "798badb9",
   "metadata": {},
   "outputs": [],
   "source": []
  },
  {
   "cell_type": "code",
   "execution_count": null,
   "id": "43eae4bc",
   "metadata": {},
   "outputs": [],
   "source": []
  },
  {
   "cell_type": "code",
   "execution_count": null,
   "id": "e4f62b32",
   "metadata": {},
   "outputs": [],
   "source": []
  },
  {
   "cell_type": "markdown",
   "id": "1964b5a0",
   "metadata": {},
   "source": [
    "### 3.3 - Suma de vectores"
   ]
  },
  {
   "cell_type": "markdown",
   "id": "62dcf242",
   "metadata": {},
   "source": [
    "Recordemos que los vectores se suman componente a componente en contraposición a lo que hacen las listas, que se concatenan."
   ]
  },
  {
   "cell_type": "code",
   "execution_count": null,
   "id": "3f3faf2e",
   "metadata": {},
   "outputs": [],
   "source": []
  },
  {
   "cell_type": "code",
   "execution_count": null,
   "id": "c2b01ee9",
   "metadata": {},
   "outputs": [],
   "source": []
  },
  {
   "cell_type": "code",
   "execution_count": null,
   "id": "58d99ed9",
   "metadata": {},
   "outputs": [],
   "source": []
  },
  {
   "cell_type": "markdown",
   "id": "f3d9cb91",
   "metadata": {},
   "source": [
    "### 3.4 - Producto por escalares "
   ]
  },
  {
   "cell_type": "markdown",
   "id": "088fe895",
   "metadata": {},
   "source": [
    "Exactamente igual que en el ejemplo anterior, al multiplicar un vector por un número se multiplica elemento a elemento, las listas se repiten."
   ]
  },
  {
   "cell_type": "code",
   "execution_count": null,
   "id": "aa22d625",
   "metadata": {},
   "outputs": [],
   "source": []
  },
  {
   "cell_type": "code",
   "execution_count": null,
   "id": "a59b89a1",
   "metadata": {},
   "outputs": [],
   "source": []
  },
  {
   "cell_type": "markdown",
   "id": "e2c3dee6",
   "metadata": {},
   "source": [
    "### 3.5 - Producto escalar de vectores"
   ]
  },
  {
   "cell_type": "markdown",
   "id": "085d2cfb",
   "metadata": {},
   "source": [
    "Vamos a multiplicar dos vectores con el mismo número de elementos y el resultado será un número. Este producto se realiza con el método `np.dot` que proporciona NumPy."
   ]
  },
  {
   "cell_type": "code",
   "execution_count": null,
   "id": "e84587e6",
   "metadata": {},
   "outputs": [],
   "source": []
  },
  {
   "cell_type": "markdown",
   "id": "c5650a9a",
   "metadata": {},
   "source": [
    "### 3.6 - Producto vectorial"
   ]
  },
  {
   "cell_type": "markdown",
   "id": "2382174d",
   "metadata": {},
   "source": [
    "Para realizar el producto vectorial, NumPy tiene un método `np.cross`, el cual recibe dos vectores y devuelve un vector resultado del producto."
   ]
  },
  {
   "cell_type": "code",
   "execution_count": null,
   "id": "ef579338",
   "metadata": {},
   "outputs": [],
   "source": []
  },
  {
   "cell_type": "markdown",
   "id": "7b15c26d",
   "metadata": {},
   "source": [
    "### 3.7 - Suma de matrices"
   ]
  },
  {
   "cell_type": "code",
   "execution_count": null,
   "id": "7c8fcbad",
   "metadata": {},
   "outputs": [],
   "source": []
  },
  {
   "cell_type": "code",
   "execution_count": null,
   "id": "c715709e",
   "metadata": {},
   "outputs": [],
   "source": []
  },
  {
   "cell_type": "markdown",
   "id": "afa833bc",
   "metadata": {},
   "source": [
    "### 3.8 - Producto escalar de matrices"
   ]
  },
  {
   "cell_type": "code",
   "execution_count": null,
   "id": "8e07f0fb",
   "metadata": {},
   "outputs": [],
   "source": []
  },
  {
   "cell_type": "markdown",
   "id": "7ed1da93",
   "metadata": {},
   "source": [
    "### 3.9 - Producto matricial"
   ]
  },
  {
   "cell_type": "markdown",
   "id": "6763d299",
   "metadata": {},
   "source": [
    "Para multiplicar matrices, las dimensiones tienen que ser correctas, es decir, el número de columnas de la primera matriz tiene que ser igual al número de filas de la segunda. El resultado tendrá el número de filas de la primera matriz y el número de columnas de la segunda. Esta es la razón por la que el producto de matrices no es conmutativo. Esta operación se realiza con el método `np.matmul`."
   ]
  },
  {
   "cell_type": "code",
   "execution_count": null,
   "id": "e2d0b101",
   "metadata": {},
   "outputs": [],
   "source": []
  },
  {
   "cell_type": "code",
   "execution_count": null,
   "id": "e68b8e11",
   "metadata": {},
   "outputs": [],
   "source": []
  },
  {
   "cell_type": "code",
   "execution_count": null,
   "id": "b75478a1",
   "metadata": {},
   "outputs": [],
   "source": []
  },
  {
   "cell_type": "markdown",
   "id": "e65f2823",
   "metadata": {},
   "source": [
    "### 3.10 - Matriz identidad"
   ]
  },
  {
   "cell_type": "markdown",
   "id": "2b11740c",
   "metadata": {},
   "source": [
    "Vimos que esta matriz es el elemento neutro del producto, una matriz que se multiplica por la matriz identidad devuelve la misma matriz. La matriz identidad es un matriz con todo ceros salvo en la diagonal, que tiene unos. Se construye con el método `np.eye`."
   ]
  },
  {
   "cell_type": "code",
   "execution_count": null,
   "id": "bb03556c",
   "metadata": {},
   "outputs": [],
   "source": []
  },
  {
   "cell_type": "markdown",
   "id": "92cca280",
   "metadata": {},
   "source": [
    "### 3.11 - Matriz traspuesta"
   ]
  },
  {
   "cell_type": "markdown",
   "id": "b88615b1",
   "metadata": {},
   "source": [
    "La matriz traspuesta es una matriz que cambia filas por columnas. Una vez creada la matriz se puede calcular su traspuesta usando el atributo `.T` o el método `.transpose()`."
   ]
  },
  {
   "cell_type": "code",
   "execution_count": null,
   "id": "00136604",
   "metadata": {},
   "outputs": [],
   "source": []
  },
  {
   "cell_type": "code",
   "execution_count": null,
   "id": "6d174818",
   "metadata": {},
   "outputs": [],
   "source": []
  },
  {
   "cell_type": "markdown",
   "id": "46332941",
   "metadata": {},
   "source": [
    "### 3.12 - Matriz inversa"
   ]
  },
  {
   "cell_type": "markdown",
   "id": "d202c491",
   "metadata": {},
   "source": [
    "Decíamos que para dividir matrices teníamos que calcular la inversa. Esto quiere decir que si multiplicamos una matriz por su inversa saldrá la matriz identidad. NumPy tiene el módulo `linalg`, el cual tiene el método `inv` para realizar esta operación."
   ]
  },
  {
   "cell_type": "code",
   "execution_count": null,
   "id": "4dccdee5",
   "metadata": {},
   "outputs": [],
   "source": []
  },
  {
   "cell_type": "code",
   "execution_count": null,
   "id": "938cb4f8",
   "metadata": {},
   "outputs": [],
   "source": []
  },
  {
   "cell_type": "code",
   "execution_count": null,
   "id": "cf4e6eb8",
   "metadata": {},
   "outputs": [],
   "source": []
  },
  {
   "cell_type": "code",
   "execution_count": null,
   "id": "d3799328",
   "metadata": {},
   "outputs": [],
   "source": []
  },
  {
   "cell_type": "markdown",
   "id": "6e28198a",
   "metadata": {},
   "source": [
    "### 3.13 - Determinante"
   ]
  },
  {
   "cell_type": "markdown",
   "id": "afc85e9b",
   "metadata": {},
   "source": [
    "El módulo `linalg`, también tiene el método `det` para calcular el determinante de una matriz. Vimos que no podía ser cero para calcular la matriz inversa."
   ]
  },
  {
   "cell_type": "code",
   "execution_count": null,
   "id": "7a325f22",
   "metadata": {},
   "outputs": [],
   "source": []
  },
  {
   "cell_type": "code",
   "execution_count": null,
   "id": "5c228558",
   "metadata": {},
   "outputs": [],
   "source": []
  },
  {
   "cell_type": "markdown",
   "id": "8ca57f70",
   "metadata": {},
   "source": [
    "### 3.14 - Otra operaciones"
   ]
  },
  {
   "cell_type": "markdown",
   "id": "bf1c1dc8",
   "metadata": {},
   "source": [
    "NumPy es una librería realmente grande. Con ella se pueden hacer multitud de operaciones y transformaciones, como el cálculo del mínimo, el máximo, la media o la desviación estandar. Vamos a ver algunas de esas operaciones que nos proporciona NumPy."
   ]
  },
  {
   "cell_type": "code",
   "execution_count": null,
   "id": "f2f6cbe2",
   "metadata": {},
   "outputs": [],
   "source": []
  },
  {
   "cell_type": "code",
   "execution_count": null,
   "id": "9ab2ddb8",
   "metadata": {},
   "outputs": [],
   "source": []
  },
  {
   "cell_type": "code",
   "execution_count": null,
   "id": "f0c65810",
   "metadata": {},
   "outputs": [],
   "source": []
  },
  {
   "cell_type": "code",
   "execution_count": null,
   "id": "a33b47c7",
   "metadata": {},
   "outputs": [],
   "source": []
  },
  {
   "cell_type": "markdown",
   "id": "5b777b2d",
   "metadata": {},
   "source": [
    "Estos métodos tienen un argumento llamada `axis`, el cual nos permite realizar el cálculo según los ejes del array, es decir, según sus dimensiones."
   ]
  },
  {
   "cell_type": "code",
   "execution_count": null,
   "id": "c0f1df48",
   "metadata": {},
   "outputs": [],
   "source": [
    "   "
   ]
  },
  {
   "cell_type": "code",
   "execution_count": null,
   "id": "ab325590",
   "metadata": {},
   "outputs": [],
   "source": [
    " "
   ]
  },
  {
   "cell_type": "code",
   "execution_count": null,
   "id": "38bd0a5d",
   "metadata": {},
   "outputs": [],
   "source": []
  },
  {
   "cell_type": "code",
   "execution_count": null,
   "id": "f668e9c7",
   "metadata": {},
   "outputs": [],
   "source": []
  },
  {
   "cell_type": "code",
   "execution_count": null,
   "id": "0c13d44c",
   "metadata": {},
   "outputs": [],
   "source": []
  },
  {
   "cell_type": "code",
   "execution_count": null,
   "id": "0a65eaf2",
   "metadata": {},
   "outputs": [],
   "source": []
  },
  {
   "cell_type": "code",
   "execution_count": null,
   "id": "de9b6bfe",
   "metadata": {},
   "outputs": [],
   "source": [
    "  "
   ]
  },
  {
   "cell_type": "code",
   "execution_count": null,
   "id": "83b75c2d",
   "metadata": {},
   "outputs": [],
   "source": [
    "  "
   ]
  },
  {
   "cell_type": "code",
   "execution_count": null,
   "id": "526cf765",
   "metadata": {},
   "outputs": [],
   "source": [
    "     "
   ]
  },
  {
   "cell_type": "code",
   "execution_count": null,
   "id": "341de0dc",
   "metadata": {},
   "outputs": [],
   "source": [
    "   "
   ]
  },
  {
   "cell_type": "code",
   "execution_count": null,
   "id": "e283bd02",
   "metadata": {},
   "outputs": [],
   "source": []
  },
  {
   "cell_type": "code",
   "execution_count": null,
   "id": "93b7c63b",
   "metadata": {},
   "outputs": [],
   "source": []
  },
  {
   "cell_type": "code",
   "execution_count": null,
   "id": "9d27e380",
   "metadata": {},
   "outputs": [],
   "source": []
  },
  {
   "cell_type": "code",
   "execution_count": null,
   "id": "e99a236c",
   "metadata": {},
   "outputs": [],
   "source": []
  },
  {
   "cell_type": "code",
   "execution_count": null,
   "id": "3baf4feb",
   "metadata": {},
   "outputs": [],
   "source": []
  },
  {
   "cell_type": "code",
   "execution_count": null,
   "id": "94f67962",
   "metadata": {},
   "outputs": [],
   "source": []
  },
  {
   "cell_type": "code",
   "execution_count": null,
   "id": "9278f632",
   "metadata": {},
   "outputs": [],
   "source": []
  },
  {
   "cell_type": "code",
   "execution_count": null,
   "id": "8c7ed02b",
   "metadata": {},
   "outputs": [],
   "source": []
  },
  {
   "cell_type": "code",
   "execution_count": null,
   "id": "ff8b6d50",
   "metadata": {},
   "outputs": [],
   "source": []
  },
  {
   "cell_type": "code",
   "execution_count": null,
   "id": "8ae12cb7",
   "metadata": {},
   "outputs": [],
   "source": []
  },
  {
   "cell_type": "code",
   "execution_count": null,
   "id": "16a302ac",
   "metadata": {},
   "outputs": [],
   "source": []
  },
  {
   "cell_type": "code",
   "execution_count": null,
   "id": "470a9a93",
   "metadata": {},
   "outputs": [],
   "source": []
  },
  {
   "cell_type": "code",
   "execution_count": null,
   "id": "8e6c020c",
   "metadata": {},
   "outputs": [],
   "source": []
  },
  {
   "cell_type": "code",
   "execution_count": null,
   "id": "87bd7e7b",
   "metadata": {},
   "outputs": [],
   "source": []
  },
  {
   "cell_type": "code",
   "execution_count": null,
   "id": "49990897",
   "metadata": {},
   "outputs": [],
   "source": []
  }
 ],
 "metadata": {
  "kernelspec": {
   "display_name": "ia",
   "language": "python",
   "name": "ia"
  },
  "language_info": {
   "codemirror_mode": {
    "name": "ipython",
    "version": 3
   },
   "file_extension": ".py",
   "mimetype": "text/x-python",
   "name": "python",
   "nbconvert_exporter": "python",
   "pygments_lexer": "ipython3",
   "version": "3.9.19"
  },
  "toc": {
   "base_numbering": 1,
   "nav_menu": {},
   "number_sections": false,
   "sideBar": true,
   "skip_h1_title": true,
   "title_cell": "Tabla de Contenidos",
   "title_sidebar": "Contents",
   "toc_cell": true,
   "toc_position": {
    "height": "684.444px",
    "left": "63px",
    "top": "110.113px",
    "width": "335.99px"
   },
   "toc_section_display": true,
   "toc_window_display": true
  }
 },
 "nbformat": 4,
 "nbformat_minor": 5
}
