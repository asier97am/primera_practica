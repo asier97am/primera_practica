{
 "cells": [
  {
   "cell_type": "markdown",
   "id": "3d66f3c4",
   "metadata": {},
   "source": [
    "# 2 - PyTorch\n",
    "\n",
    "\n",
    "<br>\n",
    "<br>\n",
    "\n",
    "<img src=\"https://raw.githubusercontent.com/Hack-io-AI/ai_images/main/pytorch.png\" style=\"width:400px;\"/>"
   ]
  },
  {
   "cell_type": "markdown",
   "id": "ac59b436",
   "metadata": {
    "toc": true
   },
   "source": [
    "<h1>Tabla de Contenidos<span class=\"tocSkip\"></span></h1>\n",
    "<div class=\"toc\"><ul class=\"toc-item\"><li><span><a href=\"#1---¿Qué-es-PyTorch?\" data-toc-modified-id=\"1---¿Qué-es-PyTorch?-1\">1 - ¿Qué es PyTorch?</a></span></li><li><span><a href=\"#2---Creación-de-tensores\" data-toc-modified-id=\"2---Creación-de-tensores-2\">2 - Creación de tensores</a></span></li><li><span><a href=\"#3---Atributos-de-los-tensores\" data-toc-modified-id=\"3---Atributos-de-los-tensores-3\">3 - Atributos de los tensores</a></span></li><li><span><a href=\"#4---Dispositivo\" data-toc-modified-id=\"4---Dispositivo-4\">4 - Dispositivo</a></span></li><li><span><a href=\"#5---Manipulación-de-tensores\" data-toc-modified-id=\"5---Manipulación-de-tensores-5\">5 - Manipulación de tensores</a></span></li><li><span><a href=\"#6---Cálculos-con-tensores\" data-toc-modified-id=\"6---Cálculos-con-tensores-6\">6 - Cálculos con tensores</a></span></li><li><span><a href=\"#7---Selección-de-elementos-y-slicing\" data-toc-modified-id=\"7---Selección-de-elementos-y-slicing-7\">7 - Selección de elementos y slicing</a></span></li><li><span><a href=\"#8---Cálculo-del-gradiente-(derivadas)\" data-toc-modified-id=\"8---Cálculo-del-gradiente-(derivadas)-8\">8 - Cálculo del gradiente (derivadas)</a></span></li></ul></div>"
   ]
  },
  {
   "cell_type": "markdown",
   "id": "d99fe2be",
   "metadata": {},
   "source": [
    "## 1 - ¿Qué es PyTorch?"
   ]
  },
  {
   "cell_type": "markdown",
   "id": "a4081c88",
   "metadata": {},
   "source": [
    "PyTorch es una biblioteca de código abierto para el aprendizaje automático y el desarrollo de redes neuronales profundas. Fue desarrollada principalmente por Facebook's AI Research lab (FAIR) y es ampliamente utilizada tanto en la investigación académica como en la industria. PyTorch proporciona una interfaz flexible y fácil de usar para construir, entrenar y desplegar modelos de aprendizaje profundo.\n",
    "\n",
    "\n",
    "**Características Clave de PyTorch**\n",
    "\n",
    "\n",
    "1. **Tensores**: Los tensores son estructuras de datos similares a los arrays de NumPy, pero con soporte para operaciones en aceleradores de hardware como GPUs. Son la base de las operaciones en PyTorch.\n",
    "\n",
    "\n",
    "2. **Autograd**: PyTorch incluye una potente capacidad de diferenciación automática que permite calcular gradientes automáticamente. Esto es esencial para la optimización de redes neuronales mediante métodos de retropropagación.\n",
    "\n",
    "\n",
    "3. **Interfaz dinámica**: A diferencia de otros marcos de aprendizaje profundo como TensorFlow, PyTorch utiliza una definición de gráficos dinámicos, lo que significa que los gráficos de computación se construyen en tiempo de ejecución. Esto hace que sea más fácil y natural escribir código de aprendizaje profundo, depurar y experimentar.\n",
    "\n",
    "\n",
    "4. **Integración con Python**: PyTorch está profundamente integrado con Python, lo que lo hace intuitivo y fácil de aprender para aquellos que ya están familiarizados con el lenguaje. Se puede utilizar junto con otras bibliotecas de Python, como NumPy, SciPy y scikit-learn.\n",
    "\n",
    "\n",
    "5. **Soporte extenso para redes neuronales**: PyTorch proporciona una amplia gama de herramientas y bibliotecas para construir y entrenar redes neuronales, incluyendo capas predefinidas, funciones de activación, optimizadores y herramientas para el procesamiento de datos.\n"
   ]
  },
  {
   "cell_type": "markdown",
   "id": "d048efa5",
   "metadata": {},
   "source": [
    "**Aplicaciones de PyTorch**\n",
    "\n",
    "\n",
    "1. **Investigación académica**: PyTorch es muy popular en la comunidad de investigación debido a su flexibilidad y facilidad de uso. Permite a los investigadores experimentar rápidamente con nuevas ideas y algoritmos.\n",
    "\n",
    "\n",
    "2. **Industria**: Empresas como Facebook, Tesla, Microsoft y muchas startups utilizan PyTorch para desarrollar y desplegar modelos de aprendizaje profundo en producción.\n",
    "\n",
    "\n",
    "3. **Procesamiento de lenguaje natural (NLP)**: PyTorch es utilizado para desarrollar modelos avanzados de NLP, como transformers y modelos de generación de lenguaje.\n",
    "\n",
    "\n",
    "4. **Visión por computador**: PyTorch proporciona herramientas y bibliotecas para tareas de visión por computador, como clasificación de imágenes, detección de objetos y segmentación semántica.\n"
   ]
  },
  {
   "cell_type": "markdown",
   "id": "a09d0072",
   "metadata": {},
   "source": [
    "Para instalar PyTorch tenemos que ejeccutar el siguiente comando:\n",
    "\n",
    "```python\n",
    "pip install pytorch\n",
    "```\n"
   ]
  },
  {
   "cell_type": "code",
   "execution_count": 1,
   "id": "9972a14c",
   "metadata": {},
   "outputs": [],
   "source": [
    "import torch"
   ]
  },
  {
   "cell_type": "markdown",
   "id": "2271998b",
   "metadata": {},
   "source": [
    "## 2 - Creación de tensores"
   ]
  },
  {
   "cell_type": "markdown",
   "id": "a6c4cbba",
   "metadata": {},
   "source": [
    "Un tensor puede crearse usando constructores de torch o a partir de listas de Python o ndarray de NumPy."
   ]
  },
  {
   "cell_type": "code",
   "execution_count": 2,
   "id": "5d25a129",
   "metadata": {},
   "outputs": [
    {
     "data": {
      "text/plain": [
       "tensor([0., 0., 0., 0., 0., 0., 0., 0., 0., 0.])"
      ]
     },
     "execution_count": 2,
     "metadata": {},
     "output_type": "execute_result"
    }
   ],
   "source": [
    "torch.zeros(10)"
   ]
  },
  {
   "cell_type": "code",
   "execution_count": 3,
   "id": "229ee18f",
   "metadata": {},
   "outputs": [
    {
     "data": {
      "text/plain": [
       "tensor([1., 1., 1., 1., 1., 1., 1., 1., 1., 1.])"
      ]
     },
     "execution_count": 3,
     "metadata": {},
     "output_type": "execute_result"
    }
   ],
   "source": [
    "torch.ones(10)"
   ]
  },
  {
   "cell_type": "code",
   "execution_count": 4,
   "id": "6b07c3ed",
   "metadata": {},
   "outputs": [
    {
     "data": {
      "text/plain": [
       "tensor([0., 1., 2., 3., 4., 5., 6., 7., 8., 9.])"
      ]
     },
     "execution_count": 4,
     "metadata": {},
     "output_type": "execute_result"
    }
   ],
   "source": [
    "torch.linspace(0, 9, steps=10)"
   ]
  },
  {
   "cell_type": "code",
   "execution_count": 5,
   "id": "22a1e25c",
   "metadata": {},
   "outputs": [
    {
     "data": {
      "text/plain": [
       "tensor([1., 2., 3., 4., 5., 6., 7., 8.])"
      ]
     },
     "execution_count": 5,
     "metadata": {},
     "output_type": "execute_result"
    }
   ],
   "source": [
    "lista = [1,2,3,4,5,6,7,8]\n",
    "\n",
    "torch.Tensor(lista)"
   ]
  },
  {
   "cell_type": "code",
   "execution_count": 6,
   "id": "1070e1c5",
   "metadata": {},
   "outputs": [
    {
     "data": {
      "text/plain": [
       "tensor([0.8469, 0.5095, 0.7175, 0.0550, 0.8968, 0.9874, 0.7470, 0.5663, 0.7383],\n",
       "       dtype=torch.float64)"
      ]
     },
     "execution_count": 6,
     "metadata": {},
     "output_type": "execute_result"
    }
   ],
   "source": [
    "import numpy as np\n",
    "\n",
    "array = np.random.random(9)\n",
    "\n",
    "torch.from_numpy(array)"
   ]
  },
  {
   "cell_type": "code",
   "execution_count": 8,
   "id": "5b2e6ec2",
   "metadata": {},
   "outputs": [
    {
     "data": {
      "text/plain": [
       "array([0.23727506, 0.5851321 , 0.8017535 , 0.36349165, 0.03304368],\n",
       "      dtype=float32)"
      ]
     },
     "execution_count": 8,
     "metadata": {},
     "output_type": "execute_result"
    }
   ],
   "source": [
    "data = torch.rand(5)\n",
    "\n",
    "data.numpy()"
   ]
  },
  {
   "cell_type": "markdown",
   "id": "20563a0a",
   "metadata": {},
   "source": [
    "## 3 - Atributos de los tensores"
   ]
  },
  {
   "cell_type": "markdown",
   "id": "b26661ac",
   "metadata": {},
   "source": [
    "Un tensor tiene un tamaño, dimensiones y tipo específico. Esto se consulta con los atributos `ndim`, `shape` y `dtype`."
   ]
  },
  {
   "cell_type": "code",
   "execution_count": 10,
   "id": "3c009491",
   "metadata": {},
   "outputs": [],
   "source": [
    "tensor = torch.rand(10, 20, 30)"
   ]
  },
  {
   "cell_type": "code",
   "execution_count": 11,
   "id": "8ce1d7e8",
   "metadata": {},
   "outputs": [
    {
     "data": {
      "text/plain": [
       "3"
      ]
     },
     "execution_count": 11,
     "metadata": {},
     "output_type": "execute_result"
    }
   ],
   "source": [
    "tensor.ndim"
   ]
  },
  {
   "cell_type": "code",
   "execution_count": 12,
   "id": "00076ede",
   "metadata": {},
   "outputs": [
    {
     "data": {
      "text/plain": [
       "torch.Size([10, 20, 30])"
      ]
     },
     "execution_count": 12,
     "metadata": {},
     "output_type": "execute_result"
    }
   ],
   "source": [
    "tensor.shape"
   ]
  },
  {
   "cell_type": "code",
   "execution_count": 13,
   "id": "ecd93a96",
   "metadata": {},
   "outputs": [
    {
     "data": {
      "text/plain": [
       "torch.float32"
      ]
     },
     "execution_count": 13,
     "metadata": {},
     "output_type": "execute_result"
    }
   ],
   "source": [
    "tensor.dtype"
   ]
  },
  {
   "cell_type": "markdown",
   "id": "838d14ae",
   "metadata": {},
   "source": [
    "## 4 - Dispositivo"
   ]
  },
  {
   "cell_type": "markdown",
   "id": "52356fdf",
   "metadata": {},
   "source": [
    "Un tensor puede estar alojado en la memoria del sistema, `cpu`, en la memoria de dispositivo `gpu` con `cuda` o `mps` en los Mac, esto se consulta con el atributo `device`. Cuando se crea un tensor se puede especificar el tipo y el dispositivo."
   ]
  },
  {
   "cell_type": "code",
   "execution_count": 14,
   "id": "fb12f3af",
   "metadata": {},
   "outputs": [
    {
     "data": {
      "text/plain": [
       "device(type='cpu')"
      ]
     },
     "execution_count": 14,
     "metadata": {},
     "output_type": "execute_result"
    }
   ],
   "source": [
    "tensor.device"
   ]
  },
  {
   "cell_type": "code",
   "execution_count": 15,
   "id": "d0fe4bb5",
   "metadata": {},
   "outputs": [
    {
     "data": {
      "text/plain": [
       "device(type='mps', index=0)"
      ]
     },
     "execution_count": 15,
     "metadata": {},
     "output_type": "execute_result"
    }
   ],
   "source": [
    "tensor = torch.zeros(10, dtype=torch.int32, device='mps')\n",
    "\n",
    "tensor.device"
   ]
  },
  {
   "cell_type": "code",
   "execution_count": 16,
   "id": "de23785d",
   "metadata": {},
   "outputs": [
    {
     "data": {
      "text/plain": [
       "torch.int32"
      ]
     },
     "execution_count": 16,
     "metadata": {},
     "output_type": "execute_result"
    }
   ],
   "source": [
    "tensor.dtype"
   ]
  },
  {
   "cell_type": "markdown",
   "id": "fe289561",
   "metadata": {},
   "source": [
    "## 5 - Manipulación de tensores"
   ]
  },
  {
   "cell_type": "code",
   "execution_count": 17,
   "id": "fcdbf0ab",
   "metadata": {},
   "outputs": [
    {
     "data": {
      "text/plain": [
       "tensor([0., 1., 2., 3., 4., 5., 6., 7., 8., 9.])"
      ]
     },
     "execution_count": 17,
     "metadata": {},
     "output_type": "execute_result"
    }
   ],
   "source": [
    "tensor = torch.linspace(0, 9, 10)\n",
    "\n",
    "tensor"
   ]
  },
  {
   "cell_type": "markdown",
   "id": "f06d52dc",
   "metadata": {},
   "source": [
    "Podemos reorganizar las dimensiones del tensor con el método `reshape`:"
   ]
  },
  {
   "cell_type": "code",
   "execution_count": 18,
   "id": "cb2f3416",
   "metadata": {},
   "outputs": [
    {
     "data": {
      "text/plain": [
       "tensor([[0., 1., 2., 3., 4.],\n",
       "        [5., 6., 7., 8., 9.]])"
      ]
     },
     "execution_count": 18,
     "metadata": {},
     "output_type": "execute_result"
    }
   ],
   "source": [
    "tensor = tensor.reshape(2, 5)\n",
    "\n",
    "tensor"
   ]
  },
  {
   "cell_type": "markdown",
   "id": "38e7a0c2",
   "metadata": {},
   "source": [
    "Podemos transponer el método `transpose()` o su alias `T`:"
   ]
  },
  {
   "cell_type": "code",
   "execution_count": 19,
   "id": "1f7433f3",
   "metadata": {},
   "outputs": [
    {
     "data": {
      "text/plain": [
       "tensor([[0., 5.],\n",
       "        [1., 6.],\n",
       "        [2., 7.],\n",
       "        [3., 8.],\n",
       "        [4., 9.]])"
      ]
     },
     "execution_count": 19,
     "metadata": {},
     "output_type": "execute_result"
    }
   ],
   "source": [
    "tensor.T"
   ]
  },
  {
   "cell_type": "markdown",
   "id": "f84aa84d",
   "metadata": {},
   "source": [
    "Podemos convertir un tensor de dimensión arbitraria a uno de una dimensión con `flatten()`:"
   ]
  },
  {
   "cell_type": "code",
   "execution_count": 21,
   "id": "2152b118",
   "metadata": {},
   "outputs": [
    {
     "data": {
      "text/plain": [
       "tensor([0., 1., 2., 3., 4., 5., 6., 7., 8., 9.])"
      ]
     },
     "execution_count": 21,
     "metadata": {},
     "output_type": "execute_result"
    }
   ],
   "source": [
    "tensor.flatten()"
   ]
  },
  {
   "cell_type": "markdown",
   "id": "595a76c9",
   "metadata": {},
   "source": [
    "Podemos agregar una dimensión en una posición arbitraria con `unsqueeze(n)`:"
   ]
  },
  {
   "cell_type": "code",
   "execution_count": 23,
   "id": "ade5be14",
   "metadata": {},
   "outputs": [
    {
     "data": {
      "text/plain": [
       "torch.Size([2, 1, 5])"
      ]
     },
     "execution_count": 23,
     "metadata": {},
     "output_type": "execute_result"
    }
   ],
   "source": [
    "tensor.unsqueeze(1).shape"
   ]
  },
  {
   "cell_type": "markdown",
   "id": "cd1e0df5",
   "metadata": {},
   "source": [
    "## 6 - Cálculos con tensores"
   ]
  },
  {
   "cell_type": "markdown",
   "id": "2b844a64",
   "metadata": {},
   "source": [
    "Veamos algunas operaciones con tensores, igual que hicimos con NumPy:"
   ]
  },
  {
   "cell_type": "code",
   "execution_count": 24,
   "id": "a88e6593",
   "metadata": {},
   "outputs": [
    {
     "data": {
      "text/plain": [
       "tensor([0., 1., 2., 3., 4., 5., 6., 7., 8., 9.])"
      ]
     },
     "execution_count": 24,
     "metadata": {},
     "output_type": "execute_result"
    }
   ],
   "source": [
    "tensor = tensor.flatten()\n",
    "\n",
    "tensor"
   ]
  },
  {
   "cell_type": "code",
   "execution_count": 25,
   "id": "26c44046",
   "metadata": {},
   "outputs": [
    {
     "data": {
      "text/plain": [
       "tensor([ 5.,  6.,  7.,  8.,  9., 10., 11., 12., 13., 14.])"
      ]
     },
     "execution_count": 25,
     "metadata": {},
     "output_type": "execute_result"
    }
   ],
   "source": [
    "5 + tensor"
   ]
  },
  {
   "cell_type": "code",
   "execution_count": 26,
   "id": "2007113d",
   "metadata": {},
   "outputs": [
    {
     "data": {
      "text/plain": [
       "tensor([ 0.,  2.,  4.,  6.,  8., 10., 12., 14., 16., 18.])"
      ]
     },
     "execution_count": 26,
     "metadata": {},
     "output_type": "execute_result"
    }
   ],
   "source": [
    "tensor + tensor"
   ]
  },
  {
   "cell_type": "code",
   "execution_count": 27,
   "id": "fff1c872",
   "metadata": {},
   "outputs": [
    {
     "data": {
      "text/plain": [
       "tensor([ 0.,  5., 10., 15., 20., 25., 30., 35., 40., 45.])"
      ]
     },
     "execution_count": 27,
     "metadata": {},
     "output_type": "execute_result"
    }
   ],
   "source": [
    "5 * tensor"
   ]
  },
  {
   "cell_type": "code",
   "execution_count": 28,
   "id": "63745623",
   "metadata": {},
   "outputs": [
    {
     "data": {
      "text/plain": [
       "tensor([ 0.,  1.,  4.,  9., 16., 25., 36., 49., 64., 81.])"
      ]
     },
     "execution_count": 28,
     "metadata": {},
     "output_type": "execute_result"
    }
   ],
   "source": [
    "tensor.pow(2)"
   ]
  },
  {
   "cell_type": "code",
   "execution_count": 29,
   "id": "6cedf256",
   "metadata": {},
   "outputs": [
    {
     "data": {
      "text/plain": [
       "tensor([  -inf, 0.0000, 0.6931, 1.0986, 1.3863, 1.6094, 1.7918, 1.9459, 2.0794,\n",
       "        2.1972])"
      ]
     },
     "execution_count": 29,
     "metadata": {},
     "output_type": "execute_result"
    }
   ],
   "source": [
    "tensor.log()"
   ]
  },
  {
   "cell_type": "code",
   "execution_count": 30,
   "id": "57207ed7",
   "metadata": {},
   "outputs": [
    {
     "data": {
      "text/plain": [
       "tensor([1.0000e+00, 2.7183e+00, 7.3891e+00, 2.0086e+01, 5.4598e+01, 1.4841e+02,\n",
       "        4.0343e+02, 1.0966e+03, 2.9810e+03, 8.1031e+03])"
      ]
     },
     "execution_count": 30,
     "metadata": {},
     "output_type": "execute_result"
    }
   ],
   "source": [
    "tensor.exp()"
   ]
  },
  {
   "cell_type": "code",
   "execution_count": 31,
   "id": "ef032b37",
   "metadata": {},
   "outputs": [
    {
     "data": {
      "text/plain": [
       "tensor([ 1.0000,  0.5403, -0.4161, -0.9900, -0.6536,  0.2837,  0.9602,  0.7539,\n",
       "        -0.1455, -0.9111])"
      ]
     },
     "execution_count": 31,
     "metadata": {},
     "output_type": "execute_result"
    }
   ],
   "source": [
    "tensor.cos()"
   ]
  },
  {
   "cell_type": "code",
   "execution_count": 32,
   "id": "835e4694",
   "metadata": {},
   "outputs": [
    {
     "data": {
      "text/plain": [
       "tensor([ 0.0000,  0.8415,  0.9093,  0.1411, -0.7568, -0.9589, -0.2794,  0.6570,\n",
       "         0.9894,  0.4121])"
      ]
     },
     "execution_count": 32,
     "metadata": {},
     "output_type": "execute_result"
    }
   ],
   "source": [
    "tensor.sin()"
   ]
  },
  {
   "cell_type": "code",
   "execution_count": 33,
   "id": "01f1d890",
   "metadata": {},
   "outputs": [
    {
     "data": {
      "text/plain": [
       "tensor(0.)"
      ]
     },
     "execution_count": 33,
     "metadata": {},
     "output_type": "execute_result"
    }
   ],
   "source": [
    "tensor.min()"
   ]
  },
  {
   "cell_type": "code",
   "execution_count": 34,
   "id": "5bdbeb62",
   "metadata": {},
   "outputs": [
    {
     "data": {
      "text/plain": [
       "tensor(9.)"
      ]
     },
     "execution_count": 34,
     "metadata": {},
     "output_type": "execute_result"
    }
   ],
   "source": [
    "tensor.max()"
   ]
  },
  {
   "cell_type": "code",
   "execution_count": 35,
   "id": "cea23936",
   "metadata": {},
   "outputs": [
    {
     "data": {
      "text/plain": [
       "tensor(4.5000)"
      ]
     },
     "execution_count": 35,
     "metadata": {},
     "output_type": "execute_result"
    }
   ],
   "source": [
    "tensor.mean()"
   ]
  },
  {
   "cell_type": "code",
   "execution_count": 36,
   "id": "2b671c14",
   "metadata": {},
   "outputs": [
    {
     "data": {
      "text/plain": [
       "tensor(4.)"
      ]
     },
     "execution_count": 36,
     "metadata": {},
     "output_type": "execute_result"
    }
   ],
   "source": [
    "tensor.median()"
   ]
  },
  {
   "cell_type": "code",
   "execution_count": 37,
   "id": "dd4e0dad",
   "metadata": {},
   "outputs": [
    {
     "data": {
      "text/plain": [
       "tensor(9.1667)"
      ]
     },
     "execution_count": 37,
     "metadata": {},
     "output_type": "execute_result"
    }
   ],
   "source": [
    "tensor.var()"
   ]
  },
  {
   "cell_type": "code",
   "execution_count": 38,
   "id": "a0c6cac4",
   "metadata": {},
   "outputs": [
    {
     "data": {
      "text/plain": [
       "tensor(3.0277)"
      ]
     },
     "execution_count": 38,
     "metadata": {},
     "output_type": "execute_result"
    }
   ],
   "source": [
    "tensor.std()"
   ]
  },
  {
   "cell_type": "markdown",
   "id": "7247f91e",
   "metadata": {},
   "source": [
    "En pricipio, cualquier operación que pudieramos hacer con un ndarray de NumPy, se podrían hacer también con PyTorch. "
   ]
  },
  {
   "cell_type": "markdown",
   "id": "9e4ec923",
   "metadata": {},
   "source": [
    "## 7 - Selección de elementos y slicing"
   ]
  },
  {
   "cell_type": "markdown",
   "id": "b2e8206d",
   "metadata": {},
   "source": [
    "Podemos realizar la selección de elementos y el slicing exactamente igual que hicimos con los ndarray."
   ]
  },
  {
   "cell_type": "code",
   "execution_count": 40,
   "id": "fac71309",
   "metadata": {},
   "outputs": [
    {
     "data": {
      "text/plain": [
       "tensor(0.)"
      ]
     },
     "execution_count": 40,
     "metadata": {},
     "output_type": "execute_result"
    }
   ],
   "source": [
    "tensor[0]"
   ]
  },
  {
   "cell_type": "code",
   "execution_count": 41,
   "id": "c330ba3e",
   "metadata": {},
   "outputs": [
    {
     "data": {
      "text/plain": [
       "0.0"
      ]
     },
     "execution_count": 41,
     "metadata": {},
     "output_type": "execute_result"
    }
   ],
   "source": [
    "tensor[0].item()"
   ]
  },
  {
   "cell_type": "code",
   "execution_count": 42,
   "id": "3e99481c",
   "metadata": {},
   "outputs": [
    {
     "data": {
      "text/plain": [
       "0"
      ]
     },
     "execution_count": 42,
     "metadata": {},
     "output_type": "execute_result"
    }
   ],
   "source": [
    "int(tensor[0])"
   ]
  },
  {
   "cell_type": "code",
   "execution_count": 44,
   "id": "2a55f6db",
   "metadata": {},
   "outputs": [
    {
     "data": {
      "text/plain": [
       "tensor([0., 2., 4., 6.])"
      ]
     },
     "execution_count": 44,
     "metadata": {},
     "output_type": "execute_result"
    }
   ],
   "source": [
    "tensor[0:7:2]"
   ]
  },
  {
   "cell_type": "markdown",
   "id": "3dc0f045",
   "metadata": {},
   "source": [
    "## 8 - Cálculo del gradiente (derivadas)"
   ]
  },
  {
   "cell_type": "markdown",
   "id": "6c36cab6",
   "metadata": {},
   "source": [
    "En general, las redes neuronales se entrenan usando Gradiente descedente. Por lo tanto necesitamos calcular las derivadas de la función de pérdida para todos los parámetros de la red. PyTorch tiene incorporado un sistema de derivación automática denominado autograd. Para poder derivar una función en pytorch:\n",
    "\n",
    "1. Se necesita que su entrada sean tensores con el atributo `requires_grad=True`.\n",
    "\n",
    "2. Luego llamamos la función `backward()` de la función.\n",
    "\n",
    "3. El resultado queda guardado en el atributo `grad` de la entrada.\n",
    "\n",
    "4. Podemos saber la función derivada de la función original con el atributo `grad_fn`."
   ]
  },
  {
   "cell_type": "code",
   "execution_count": 54,
   "id": "0a621691",
   "metadata": {},
   "outputs": [],
   "source": [
    "# definiciones\n",
    "\n",
    "x = torch.tensor(4., requires_grad=True)\n",
    "\n",
    "y = 2*x\n",
    "\n",
    "z = y**2. # (4x^2)"
   ]
  },
  {
   "cell_type": "code",
   "execution_count": 55,
   "id": "1d3525ca",
   "metadata": {},
   "outputs": [],
   "source": [
    "# calculo de derivada  (dz/dx = d4x^2/dx = 8x)\n",
    "\n",
    "z.backward()"
   ]
  },
  {
   "cell_type": "code",
   "execution_count": 56,
   "id": "776f7f5d",
   "metadata": {},
   "outputs": [
    {
     "data": {
      "text/plain": [
       "tensor(32.)"
      ]
     },
     "execution_count": 56,
     "metadata": {},
     "output_type": "execute_result"
    }
   ],
   "source": [
    "# valor\n",
    "\n",
    "x.grad"
   ]
  },
  {
   "cell_type": "markdown",
   "id": "28a005c9",
   "metadata": {},
   "source": [
    "Podemos hacer esto para una función completa. Veamos como:"
   ]
  },
  {
   "cell_type": "code",
   "execution_count": 58,
   "id": "3340d716",
   "metadata": {},
   "outputs": [],
   "source": [
    "x = torch.linspace(0, 10, steps=10, requires_grad=True)\n",
    "\n",
    "y = torch.sin(2*x)"
   ]
  },
  {
   "cell_type": "code",
   "execution_count": 60,
   "id": "71c91e0e",
   "metadata": {},
   "outputs": [
    {
     "data": {
      "text/plain": [
       "<SinBackward0 at 0x12fde1070>"
      ]
     },
     "execution_count": 60,
     "metadata": {},
     "output_type": "execute_result"
    }
   ],
   "source": [
    "# funcion derivada\n",
    "\n",
    "y.grad_fn"
   ]
  },
  {
   "cell_type": "code",
   "execution_count": 61,
   "id": "8f23d033",
   "metadata": {},
   "outputs": [],
   "source": [
    "y.backward(torch.ones_like(x))"
   ]
  },
  {
   "cell_type": "code",
   "execution_count": 62,
   "id": "7ec032d5",
   "metadata": {},
   "outputs": [
    {
     "data": {
      "text/plain": [
       "tensor([ 2.0000, -1.2126, -0.5295,  1.8547, -1.7196,  0.2306,  1.4400, -1.9768,\n",
       "         0.9571,  0.8162])"
      ]
     },
     "execution_count": 62,
     "metadata": {},
     "output_type": "execute_result"
    }
   ],
   "source": [
    "x.grad"
   ]
  },
  {
   "cell_type": "code",
   "execution_count": null,
   "id": "058ea61c",
   "metadata": {},
   "outputs": [],
   "source": []
  },
  {
   "cell_type": "code",
   "execution_count": null,
   "id": "2582e6e0",
   "metadata": {},
   "outputs": [],
   "source": []
  },
  {
   "cell_type": "code",
   "execution_count": null,
   "id": "5f02b396",
   "metadata": {},
   "outputs": [],
   "source": []
  }
 ],
 "metadata": {
  "kernelspec": {
   "display_name": "ia",
   "language": "python",
   "name": "ia"
  },
  "language_info": {
   "codemirror_mode": {
    "name": "ipython",
    "version": 3
   },
   "file_extension": ".py",
   "mimetype": "text/x-python",
   "name": "python",
   "nbconvert_exporter": "python",
   "pygments_lexer": "ipython3",
   "version": "3.9.19"
  },
  "toc": {
   "base_numbering": 1,
   "nav_menu": {},
   "number_sections": false,
   "sideBar": true,
   "skip_h1_title": true,
   "title_cell": "Tabla de Contenidos",
   "title_sidebar": "Contents",
   "toc_cell": true,
   "toc_position": {
    "height": "684.444px",
    "left": "22.9948px",
    "top": "180px",
    "width": "281.875px"
   },
   "toc_section_display": true,
   "toc_window_display": true
  }
 },
 "nbformat": 4,
 "nbformat_minor": 5
}
