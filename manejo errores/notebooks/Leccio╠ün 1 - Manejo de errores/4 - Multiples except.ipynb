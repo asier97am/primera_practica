{
 "cells": [
  {
   "cell_type": "markdown",
   "id": "7cf2d0c0",
   "metadata": {},
   "source": [
    "# 4 - Múltiples except\n",
    "\n",
    "<br>\n",
    "<br>\n",
    "\n",
    "<img src=\"https://raw.githubusercontent.com/Hack-io-AI/ai_images/main/python_errores.webp\" style=\"width:400px;\"/>"
   ]
  },
  {
   "cell_type": "markdown",
   "id": "723f6651",
   "metadata": {
    "toc": true
   },
   "source": [
    "<h1>Tabla de Contenidos<span class=\"tocSkip\"></span></h1>\n",
    "<div class=\"toc\"><ul class=\"toc-item\"><li><span><a href=\"#1---Múltiples-except\" data-toc-modified-id=\"1---Múltiples-except-1\">1 - Múltiples except</a></span></li></ul></div>"
   ]
  },
  {
   "cell_type": "markdown",
   "id": "ef662175",
   "metadata": {},
   "source": [
    "## 1 - Múltiples except"
   ]
  },
  {
   "cell_type": "markdown",
   "id": "944d1af9",
   "metadata": {},
   "source": [
    "Como hemos apuntado, podemos manejar distintos tipos de errores con múltiples bloques except. Cuando el bloque try falla, dependiendo del tipo de error, se ejecuturá un bloque except u otro. Vamos a generar distintos errores para ir cambiando el flujo del código en función de ellos."
   ]
  },
  {
   "cell_type": "code",
   "execution_count": 4,
   "id": "fcc919af",
   "metadata": {},
   "outputs": [
    {
     "name": "stdout",
     "output_type": "stream",
     "text": [
      "Hola\n",
      "Ha ocurrido un error por nombre: name 'c' is not defined\n",
      "FIN\n"
     ]
    }
   ],
   "source": [
    "# ejemplo con multiples excepts\n",
    "\n",
    "\n",
    "try:\n",
    "    a=9\n",
    "    b=0\n",
    "    print('Hola')\n",
    "    print(a/c)\n",
    "    \n",
    "except TypeError as e:\n",
    "    print(f'Ha ocurrido un error por tipo: {e}')\n",
    "    \n",
    "except ZeroDivisionError as e:\n",
    "    print(f'Ha ocurrido un error por division: {e}')\n",
    "    \n",
    "except NameError as e:\n",
    "    print(f'Ha ocurrido un error por nombre: {e}')\n",
    "    \n",
    "    \n",
    "print('FIN')"
   ]
  },
  {
   "cell_type": "code",
   "execution_count": null,
   "id": "5a67c74d",
   "metadata": {},
   "outputs": [],
   "source": []
  },
  {
   "cell_type": "code",
   "execution_count": null,
   "id": "b99cb97c",
   "metadata": {},
   "outputs": [],
   "source": []
  },
  {
   "cell_type": "code",
   "execution_count": null,
   "id": "3583d55c",
   "metadata": {},
   "outputs": [],
   "source": []
  },
  {
   "cell_type": "code",
   "execution_count": null,
   "id": "8680c57c",
   "metadata": {},
   "outputs": [],
   "source": []
  }
 ],
 "metadata": {
  "kernelspec": {
   "display_name": "ia",
   "language": "python",
   "name": "ia"
  },
  "language_info": {
   "codemirror_mode": {
    "name": "ipython",
    "version": 3
   },
   "file_extension": ".py",
   "mimetype": "text/x-python",
   "name": "python",
   "nbconvert_exporter": "python",
   "pygments_lexer": "ipython3",
   "version": "3.9.19"
  },
  "toc": {
   "base_numbering": 1,
   "nav_menu": {},
   "number_sections": false,
   "sideBar": true,
   "skip_h1_title": true,
   "title_cell": "Tabla de Contenidos",
   "title_sidebar": "Contents",
   "toc_cell": true,
   "toc_position": {
    "height": "calc(100% - 180px)",
    "left": "10px",
    "top": "150px",
    "width": "268.646px"
   },
   "toc_section_display": true,
   "toc_window_display": true
  }
 },
 "nbformat": 4,
 "nbformat_minor": 5
}
