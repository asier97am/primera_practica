{
 "cells": [
  {
   "cell_type": "markdown",
   "id": "1d096971",
   "metadata": {},
   "source": [
    "# 9 - Programación defensiva\n",
    "\n",
    "<br>\n",
    "<br>\n",
    "\n",
    "<img src=\"https://raw.githubusercontent.com/Hack-io-AI/ai_images/main/python_errores.webp\" style=\"width:400px;\"/>"
   ]
  },
  {
   "cell_type": "markdown",
   "id": "a5f813c5",
   "metadata": {
    "toc": true
   },
   "source": [
    "<h1>Tabla de Contenidos<span class=\"tocSkip\"></span></h1>\n",
    "<div class=\"toc\"><ul class=\"toc-item\"><li><span><a href=\"#1---Programación-defensiva\" data-toc-modified-id=\"1---Programación-defensiva-1\">1 - Programación defensiva</a></span></li></ul></div>"
   ]
  },
  {
   "cell_type": "markdown",
   "id": "07e4cb09",
   "metadata": {},
   "source": [
    "## 1 - Programación defensiva"
   ]
  },
  {
   "cell_type": "markdown",
   "id": "1da233c9",
   "metadata": {},
   "source": [
    "Todos estos conceptos de manejo de errores nos lleva a la programación defensiva. El objetivo consiste en tener en cuenta errores sistemáticos que se pudieran estar cometiendo en nuestro código."
   ]
  },
  {
   "cell_type": "code",
   "execution_count": 3,
   "id": "17a973e1",
   "metadata": {},
   "outputs": [],
   "source": [
    "clientes = {'a_1234': 35.32,\n",
    "            'b_4432': 21.90,\n",
    "            'a_5890': '123,45'}"
   ]
  },
  {
   "cell_type": "code",
   "execution_count": 4,
   "id": "0b2ee59e",
   "metadata": {},
   "outputs": [],
   "source": [
    "pasan = []\n",
    "\n",
    "no_pasan = []"
   ]
  },
  {
   "cell_type": "code",
   "execution_count": 8,
   "id": "65c91e89",
   "metadata": {},
   "outputs": [],
   "source": [
    "# con if-elif\n",
    "\n",
    "for key, value in clientes.items():\n",
    "    \n",
    "    if type(value)==float:\n",
    "        \n",
    "        total = int(value) * 4/3\n",
    "        \n",
    "        pasan.append({key: total})\n",
    "        \n",
    "    elif type(value)==str:\n",
    "        \n",
    "        no_pasan.append({key: value})"
   ]
  },
  {
   "cell_type": "code",
   "execution_count": 9,
   "id": "38942020",
   "metadata": {},
   "outputs": [
    {
     "data": {
      "text/plain": [
       "[{'a_1234': 46.666666666666664}, {'b_4432': 28.0}]"
      ]
     },
     "execution_count": 9,
     "metadata": {},
     "output_type": "execute_result"
    }
   ],
   "source": [
    "pasan"
   ]
  },
  {
   "cell_type": "code",
   "execution_count": 10,
   "id": "5c9256ef",
   "metadata": {},
   "outputs": [
    {
     "data": {
      "text/plain": [
       "[{'a_5890': '123,45'}]"
      ]
     },
     "execution_count": 10,
     "metadata": {},
     "output_type": "execute_result"
    }
   ],
   "source": [
    "no_pasan"
   ]
  },
  {
   "cell_type": "code",
   "execution_count": 11,
   "id": "b278bb5a",
   "metadata": {},
   "outputs": [],
   "source": [
    "# con try-except\n",
    "\n",
    "pasan = []\n",
    "\n",
    "no_pasan = []"
   ]
  },
  {
   "cell_type": "code",
   "execution_count": 12,
   "id": "9647c5ce",
   "metadata": {},
   "outputs": [],
   "source": [
    "for key, value in clientes.items():\n",
    "    \n",
    "    try:\n",
    "        total = int(value) * 4/3\n",
    "        \n",
    "        pasan.append({key: total})\n",
    "        \n",
    "    except:\n",
    "        no_pasan.append({key: value})"
   ]
  },
  {
   "cell_type": "code",
   "execution_count": 13,
   "id": "a7d13a8e",
   "metadata": {},
   "outputs": [
    {
     "data": {
      "text/plain": [
       "[{'a_1234': 46.666666666666664}, {'b_4432': 28.0}]"
      ]
     },
     "execution_count": 13,
     "metadata": {},
     "output_type": "execute_result"
    }
   ],
   "source": [
    "pasan"
   ]
  },
  {
   "cell_type": "code",
   "execution_count": 14,
   "id": "4e05629f",
   "metadata": {},
   "outputs": [
    {
     "data": {
      "text/plain": [
       "[{'a_5890': '123,45'}]"
      ]
     },
     "execution_count": 14,
     "metadata": {},
     "output_type": "execute_result"
    }
   ],
   "source": [
    "no_pasan"
   ]
  },
  {
   "cell_type": "code",
   "execution_count": 15,
   "id": "28cab5f8",
   "metadata": {},
   "outputs": [
    {
     "ename": "ValueError",
     "evalue": "invalid literal for int() with base 10: '123,45'",
     "output_type": "error",
     "traceback": [
      "\u001b[0;31m---------------------------------------------------------------------------\u001b[0m",
      "\u001b[0;31mValueError\u001b[0m                                Traceback (most recent call last)",
      "Cell \u001b[0;32mIn[15], line 3\u001b[0m\n\u001b[1;32m      1\u001b[0m \u001b[38;5;66;03m# limpieza\u001b[39;00m\n\u001b[0;32m----> 3\u001b[0m \u001b[38;5;28;43mint\u001b[39;49m\u001b[43m(\u001b[49m\u001b[38;5;124;43m'\u001b[39;49m\u001b[38;5;124;43m123,45\u001b[39;49m\u001b[38;5;124;43m'\u001b[39;49m\u001b[43m)\u001b[49m\n",
      "\u001b[0;31mValueError\u001b[0m: invalid literal for int() with base 10: '123,45'"
     ]
    }
   ],
   "source": [
    "# limpieza\n",
    "\n",
    "int('123,45')"
   ]
  },
  {
   "cell_type": "code",
   "execution_count": 18,
   "id": "c19364d5",
   "metadata": {},
   "outputs": [
    {
     "data": {
      "text/plain": [
       "123.45"
      ]
     },
     "execution_count": 18,
     "metadata": {},
     "output_type": "execute_result"
    }
   ],
   "source": [
    "float('123,45'.replace(',', '.'))"
   ]
  },
  {
   "cell_type": "code",
   "execution_count": 19,
   "id": "1df5e5f8",
   "metadata": {},
   "outputs": [
    {
     "data": {
      "text/plain": [
       "123"
      ]
     },
     "execution_count": 19,
     "metadata": {},
     "output_type": "execute_result"
    }
   ],
   "source": [
    "int('123,45'.split(',')[0])"
   ]
  },
  {
   "cell_type": "code",
   "execution_count": null,
   "id": "f1fb32ed",
   "metadata": {},
   "outputs": [],
   "source": []
  }
 ],
 "metadata": {
  "kernelspec": {
   "display_name": "ia",
   "language": "python",
   "name": "ia"
  },
  "language_info": {
   "codemirror_mode": {
    "name": "ipython",
    "version": 3
   },
   "file_extension": ".py",
   "mimetype": "text/x-python",
   "name": "python",
   "nbconvert_exporter": "python",
   "pygments_lexer": "ipython3",
   "version": "3.9.19"
  },
  "toc": {
   "base_numbering": 1,
   "nav_menu": {},
   "number_sections": false,
   "sideBar": true,
   "skip_h1_title": true,
   "title_cell": "Tabla de Contenidos",
   "title_sidebar": "Contents",
   "toc_cell": true,
   "toc_position": {
    "height": "calc(100% - 180px)",
    "left": "10px",
    "top": "150px",
    "width": "288.767px"
   },
   "toc_section_display": true,
   "toc_window_display": true
  }
 },
 "nbformat": 4,
 "nbformat_minor": 5
}
