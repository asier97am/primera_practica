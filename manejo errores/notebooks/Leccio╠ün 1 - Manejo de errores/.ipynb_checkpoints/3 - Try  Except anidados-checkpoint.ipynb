{
 "cells": [
  {
   "cell_type": "markdown",
   "id": "9490e3b4",
   "metadata": {},
   "source": [
    "# 3 - Try / Except anidados\n",
    "\n",
    "<br>\n",
    "<br>\n",
    "\n",
    "<img src=\"https://raw.githubusercontent.com/Hack-io-AI/ai_images/main/python_errores.webp\" style=\"width:400px;\"/>"
   ]
  },
  {
   "cell_type": "markdown",
   "id": "89ec67ed",
   "metadata": {
    "toc": true
   },
   "source": [
    "<h1>Tabla de Contenidos<span class=\"tocSkip\"></span></h1>\n",
    "<div class=\"toc\"><ul class=\"toc-item\"><li><span><a href=\"#1---try-/-except-anidados\" data-toc-modified-id=\"1---try-/-except-anidados-1\">1 - try / except anidados</a></span></li></ul></div>"
   ]
  },
  {
   "cell_type": "markdown",
   "id": "3dc3eafd",
   "metadata": {},
   "source": [
    "## 1 - try / except anidados"
   ]
  },
  {
   "cell_type": "markdown",
   "id": "1eed49c6",
   "metadata": {},
   "source": [
    "Los bloques try/except se pueden anidar, igual que ya hicimos con los condicionales o con los bucles. En realidad esta no es una buena práctica porque los errores podrían pasar silenciosamente más fácilmente, pero efectivamente podemos hacerlo. "
   ]
  },
  {
   "cell_type": "code",
   "execution_count": 1,
   "id": "2f3670cc",
   "metadata": {},
   "outputs": [
    {
     "name": "stdout",
     "output_type": "stream",
     "text": [
      "Hola\n",
      "No se puede dividir entre cero.\n",
      "Try2\n",
      "Ha ocusrrido un error: name 'variable' is not defined\n",
      "FIN DEL CODIGO\n"
     ]
    }
   ],
   "source": [
    "# division por cero y de variable inexistente\n",
    "\n",
    "try:\n",
    "    print('Hola')\n",
    "    resultado = 10 / 0\n",
    "    \n",
    "    \n",
    "except ZeroDivisionError:\n",
    "    \n",
    "    print('No se puede dividir entre cero.')\n",
    "    \n",
    "    try:\n",
    "        \n",
    "        print('Try2')\n",
    "        print(variable)\n",
    "        \n",
    "    except NameError as e:\n",
    "        \n",
    "        print(f'Ha ocusrrido un error: {e}')\n",
    "    \n",
    "    \n",
    "print('FIN DEL CODIGO')"
   ]
  },
  {
   "cell_type": "code",
   "execution_count": null,
   "id": "44edc3f3",
   "metadata": {},
   "outputs": [],
   "source": []
  },
  {
   "cell_type": "code",
   "execution_count": null,
   "id": "04801370",
   "metadata": {},
   "outputs": [],
   "source": []
  },
  {
   "cell_type": "code",
   "execution_count": null,
   "id": "2c03c5ff",
   "metadata": {},
   "outputs": [],
   "source": []
  }
 ],
 "metadata": {
  "kernelspec": {
   "display_name": "ia",
   "language": "python",
   "name": "ia"
  },
  "language_info": {
   "codemirror_mode": {
    "name": "ipython",
    "version": 3
   },
   "file_extension": ".py",
   "mimetype": "text/x-python",
   "name": "python",
   "nbconvert_exporter": "python",
   "pygments_lexer": "ipython3",
   "version": "3.9.19"
  },
  "toc": {
   "base_numbering": 1,
   "nav_menu": {},
   "number_sections": false,
   "sideBar": true,
   "skip_h1_title": true,
   "title_cell": "Tabla de Contenidos",
   "title_sidebar": "Contents",
   "toc_cell": true,
   "toc_position": {
    "height": "calc(100% - 180px)",
    "left": "10px",
    "top": "150px",
    "width": "281.884px"
   },
   "toc_section_display": true,
   "toc_window_display": true
  }
 },
 "nbformat": 4,
 "nbformat_minor": 5
}
