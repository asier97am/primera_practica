{
 "cells": [
  {
   "cell_type": "markdown",
   "id": "c6d00539",
   "metadata": {},
   "source": [
    "# 2 - Try / Except\n",
    "\n",
    "<br>\n",
    "<br>\n",
    "\n",
    "<img src=\"https://raw.githubusercontent.com/Hack-io-AI/ai_images/main/python_errores.webp\" style=\"width:400px;\"/>"
   ]
  },
  {
   "cell_type": "markdown",
   "id": "7c251dfb",
   "metadata": {
    "toc": true
   },
   "source": [
    "<h1>Tabla de Contenidos<span class=\"tocSkip\"></span></h1>\n",
    "<div class=\"toc\"><ul class=\"toc-item\"><li><span><a href=\"#1---try-/-except\" data-toc-modified-id=\"1---try-/-except-1\">1 - try / except</a></span></li></ul></div>"
   ]
  },
  {
   "cell_type": "markdown",
   "id": "5312f395",
   "metadata": {},
   "source": [
    "## 1 - try / except"
   ]
  },
  {
   "cell_type": "markdown",
   "id": "3adb7835",
   "metadata": {},
   "source": [
    "El manejo de excepciones en Python se realiza principalmente utilizando las sentencias try y except. Estas sentencias permiten que nuestro programa maneje errores o situaciones excepcionales de manera controlada, evitando que el programa se detenga abruptamente. \n",
    "\n",
    "\n",
    "+ `try`: Contiene el bloque de código que puede generar una excepción. Si el código dentro del bloque try ejecuta sin errores, las sentencias except se omiten.\n",
    "\n",
    "\n",
    "+ `except`: Contiene el bloque de código que se ejecuta si ocurre una excepción en el bloque try. Puedes tener múltiples bloques except para manejar diferentes tipos de excepciones."
   ]
  },
  {
   "cell_type": "code",
   "execution_count": 1,
   "id": "48fb1c7a",
   "metadata": {},
   "outputs": [
    {
     "name": "stdout",
     "output_type": "stream",
     "text": [
      "Error en el bloque try.\n",
      "Fin del código.\n"
     ]
    }
   ],
   "source": [
    "# ejemplo división por cero\n",
    "\n",
    "try:\n",
    "    # bloque de código que genera una excepción\n",
    "    resultado = 10 / 0\n",
    "    \n",
    "except:\n",
    "    # bloque de código que se ejecuta si ocurre una excepción \n",
    "    print('Error en el bloque try.')\n",
    "\n",
    "    \n",
    "print('Fin del código.')"
   ]
  },
  {
   "cell_type": "markdown",
   "id": "0f499e51",
   "metadata": {},
   "source": [
    "El error generado en el bloque try hace saltar la ejecución al bloque except. Podemos ponerle un alias a la excepción para que tipo de error es e incluso guardarlo si fuera necesario."
   ]
  },
  {
   "cell_type": "code",
   "execution_count": 2,
   "id": "720ebcf6",
   "metadata": {},
   "outputs": [
    {
     "name": "stdout",
     "output_type": "stream",
     "text": [
      "Ha ocurrido un error: division by zero\n"
     ]
    }
   ],
   "source": [
    "# ejemplo división por cero\n",
    "\n",
    "try:\n",
    "    # bloque de código que genera una excepción\n",
    "    resultado = 10 / 0\n",
    "    \n",
    "except Exception as e:\n",
    "    # bloque de código que se ejecuta si ocurre una excepción \n",
    "    print(f'Ha ocurrido un error: {e}')"
   ]
  },
  {
   "cell_type": "markdown",
   "id": "d227a46d",
   "metadata": {},
   "source": [
    "Vemos que el alias nos da el tipo de error que se está generando en el bloque try. El bloque except puede llevar especificado el tipo de error que maneja escribiéndolo justo a continuación. Esto nos llevará a los múltiples except, pues cuando especificamos el tipo de error ese bloque except solo se ejecutará para ese tipo de error en concreto."
   ]
  },
  {
   "cell_type": "code",
   "execution_count": 3,
   "id": "e1591493",
   "metadata": {},
   "outputs": [
    {
     "name": "stdout",
     "output_type": "stream",
     "text": [
      "Error: No se puede dividir por cero.\n",
      "Fin del código.\n"
     ]
    }
   ],
   "source": [
    "# ejemplo división por cero\n",
    "\n",
    "try:\n",
    "    # bloque de código que puede generar una excepción\n",
    "    resultado = 10 / 0\n",
    "    \n",
    "except ZeroDivisionError:\n",
    "    # bloque de código que se ejecuta si ocurre una excepción ZeroDivisionError\n",
    "    print('Error: No se puede dividir por cero.')\n",
    "\n",
    "    \n",
    "print('Fin del código.')"
   ]
  },
  {
   "cell_type": "markdown",
   "id": "7cdede5d",
   "metadata": {},
   "source": [
    "Si existe un error dentro del bloque except, el código interrumpe su ejecución completamente y saldrán dos mensaje de error, uno relativo al error generado en el bloque except y otro relativo al primer error que ocurrió en el bloque try."
   ]
  },
  {
   "cell_type": "code",
   "execution_count": 4,
   "id": "6c0c338f",
   "metadata": {},
   "outputs": [
    {
     "name": "stdout",
     "output_type": "stream",
     "text": [
      "Error: No se puede dividir por cero.\n"
     ]
    },
    {
     "ename": "NameError",
     "evalue": "name 'variable' is not defined",
     "output_type": "error",
     "traceback": [
      "\u001b[0;31m---------------------------------------------------------------------------\u001b[0m",
      "\u001b[0;31mZeroDivisionError\u001b[0m                         Traceback (most recent call last)",
      "Cell \u001b[0;32mIn[4], line 5\u001b[0m\n\u001b[1;32m      3\u001b[0m \u001b[38;5;28;01mtry\u001b[39;00m:\n\u001b[1;32m      4\u001b[0m     \u001b[38;5;66;03m# bloque de código que puede generar una excepción\u001b[39;00m\n\u001b[0;32m----> 5\u001b[0m     resultado \u001b[38;5;241m=\u001b[39m \u001b[38;5;241;43m10\u001b[39;49m\u001b[43m \u001b[49m\u001b[38;5;241;43m/\u001b[39;49m\u001b[43m \u001b[49m\u001b[38;5;241;43m0\u001b[39;49m\n\u001b[1;32m      7\u001b[0m \u001b[38;5;28;01mexcept\u001b[39;00m \u001b[38;5;167;01mZeroDivisionError\u001b[39;00m:\n\u001b[1;32m      8\u001b[0m     \u001b[38;5;66;03m# bloque de código que se ejecuta si ocurre una excepción ZeroDivisionError\u001b[39;00m\n",
      "\u001b[0;31mZeroDivisionError\u001b[0m: division by zero",
      "\nDuring handling of the above exception, another exception occurred:\n",
      "\u001b[0;31mNameError\u001b[0m                                 Traceback (most recent call last)",
      "Cell \u001b[0;32mIn[4], line 12\u001b[0m\n\u001b[1;32m      9\u001b[0m     \u001b[38;5;28mprint\u001b[39m(\u001b[38;5;124m'\u001b[39m\u001b[38;5;124mError: No se puede dividir por cero.\u001b[39m\u001b[38;5;124m'\u001b[39m)\n\u001b[1;32m     11\u001b[0m     \u001b[38;5;66;03m# esta variable no existe, genera un NameError\u001b[39;00m\n\u001b[0;32m---> 12\u001b[0m     \u001b[38;5;28mprint\u001b[39m(\u001b[43mvariable\u001b[49m)\n\u001b[1;32m     15\u001b[0m \u001b[38;5;28mprint\u001b[39m(\u001b[38;5;124m'\u001b[39m\u001b[38;5;124mFin del código.\u001b[39m\u001b[38;5;124m'\u001b[39m)\n",
      "\u001b[0;31mNameError\u001b[0m: name 'variable' is not defined"
     ]
    }
   ],
   "source": [
    "# ejemplo división por cero y variable inexistente\n",
    "\n",
    "try:\n",
    "    # bloque de código que puede generar una excepción\n",
    "    resultado = 10 / 0\n",
    "    \n",
    "except ZeroDivisionError:\n",
    "    # bloque de código que se ejecuta si ocurre una excepción ZeroDivisionError\n",
    "    print('Error: No se puede dividir por cero.')\n",
    "    \n",
    "    # esta variable no existe, genera un NameError\n",
    "    print(variable)\n",
    "\n",
    "    \n",
    "print('Fin del código.')"
   ]
  }
 ],
 "metadata": {
  "kernelspec": {
   "display_name": "ia",
   "language": "python",
   "name": "ia"
  },
  "language_info": {
   "codemirror_mode": {
    "name": "ipython",
    "version": 3
   },
   "file_extension": ".py",
   "mimetype": "text/x-python",
   "name": "python",
   "nbconvert_exporter": "python",
   "pygments_lexer": "ipython3",
   "version": "3.9.19"
  },
  "toc": {
   "base_numbering": 1,
   "nav_menu": {},
   "number_sections": false,
   "sideBar": true,
   "skip_h1_title": true,
   "title_cell": "Tabla de Contenidos",
   "title_sidebar": "Contents",
   "toc_cell": true,
   "toc_position": {
    "height": "calc(100% - 180px)",
    "left": "10px",
    "top": "150px",
    "width": "282.882px"
   },
   "toc_section_display": true,
   "toc_window_display": true
  }
 },
 "nbformat": 4,
 "nbformat_minor": 5
}
