{
 "cells": [
  {
   "cell_type": "markdown",
   "id": "47d09970",
   "metadata": {},
   "source": [
    "# 6 - Else\n",
    "\n",
    "<br>\n",
    "<br>\n",
    "\n",
    "<img src=\"https://raw.githubusercontent.com/Hack-io-AI/ai_images/main/python_errores.webp\" style=\"width:400px;\"/>"
   ]
  },
  {
   "cell_type": "markdown",
   "id": "c0185813",
   "metadata": {
    "toc": true
   },
   "source": [
    "<h1>Tabla de Contenidos<span class=\"tocSkip\"></span></h1>\n",
    "<div class=\"toc\"><ul class=\"toc-item\"><li><span><a href=\"#1---else\" data-toc-modified-id=\"1---else-1\">1 - else</a></span></li></ul></div>"
   ]
  },
  {
   "cell_type": "markdown",
   "id": "2739ad4b",
   "metadata": {},
   "source": [
    "## 1 - else"
   ]
  },
  {
   "cell_type": "markdown",
   "id": "e25d7135",
   "metadata": {},
   "source": [
    "El bloque `else` puede ser usado como una alternativa al bloque `except`. En ese caso se ejecutará antes del bloque `finally` y siempre que no falle el `try`."
   ]
  },
  {
   "cell_type": "code",
   "execution_count": 2,
   "id": "5cdd9df2",
   "metadata": {},
   "outputs": [
    {
     "name": "stdout",
     "output_type": "stream",
     "text": [
      "Hola\n",
      "Antes del final\n",
      "Esto se ejecuta igualmente\n",
      "FIN\n"
     ]
    }
   ],
   "source": [
    "# ejemplo division por cero\n",
    "\n",
    "try:\n",
    "    print('Hola')\n",
    "    resultado = 10 / 1\n",
    "    \n",
    "    \n",
    "except ZeroDivisionError:\n",
    "    print('Error por division')\n",
    "    \n",
    "    \n",
    "else:\n",
    "    # solo se ejecuta si todo va bien, si no falla el try\n",
    "    print('Antes del final')\n",
    "    \n",
    "    \n",
    "finally:\n",
    "    print('Esto se ejecuta igualmente')\n",
    "    \n",
    "    \n",
    "print('FIN')"
   ]
  },
  {
   "cell_type": "code",
   "execution_count": null,
   "id": "925075eb",
   "metadata": {},
   "outputs": [],
   "source": []
  },
  {
   "cell_type": "code",
   "execution_count": null,
   "id": "edbed8c4",
   "metadata": {},
   "outputs": [],
   "source": []
  },
  {
   "cell_type": "code",
   "execution_count": null,
   "id": "527fb02b",
   "metadata": {},
   "outputs": [],
   "source": []
  },
  {
   "cell_type": "code",
   "execution_count": null,
   "id": "d08c9f2f",
   "metadata": {},
   "outputs": [],
   "source": []
  }
 ],
 "metadata": {
  "kernelspec": {
   "display_name": "ia",
   "language": "python",
   "name": "ia"
  },
  "language_info": {
   "codemirror_mode": {
    "name": "ipython",
    "version": 3
   },
   "file_extension": ".py",
   "mimetype": "text/x-python",
   "name": "python",
   "nbconvert_exporter": "python",
   "pygments_lexer": "ipython3",
   "version": "3.9.19"
  },
  "toc": {
   "base_numbering": 1,
   "nav_menu": {},
   "number_sections": false,
   "sideBar": true,
   "skip_h1_title": true,
   "title_cell": "Tabla de Contenidos",
   "title_sidebar": "Contents",
   "toc_cell": true,
   "toc_position": {
    "height": "calc(100% - 180px)",
    "left": "10px",
    "top": "150px",
    "width": "295.755px"
   },
   "toc_section_display": true,
   "toc_window_display": true
  }
 },
 "nbformat": 4,
 "nbformat_minor": 5
}
