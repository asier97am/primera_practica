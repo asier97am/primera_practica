{
 "cells": [
  {
   "cell_type": "markdown",
   "id": "2541ce4a",
   "metadata": {},
   "source": [
    "# 1 - Listas\n",
    "\n",
    "<br>\n",
    "<br>\n",
    "\n",
    "<img src=\"https://raw.githubusercontent.com/Hack-io-AI/ai_images/main/python_compound.webp\" style=\"width:400px;\"/>"
   ]
  },
  {
   "cell_type": "markdown",
   "id": "ee3e9181",
   "metadata": {
    "toc": true
   },
   "source": [
    "<h1>Tabla de Contenidos<span class=\"tocSkip\"></span></h1>\n",
    "<div class=\"toc\"><ul class=\"toc-item\"><li><span><a href=\"#1---Definición-de-listas\" data-toc-modified-id=\"1---Definición-de-listas-1\">1 - Definición de listas</a></span></li><li><span><a href=\"#2---Acceso-a-elementos-de-una-lista\" data-toc-modified-id=\"2---Acceso-a-elementos-de-una-lista-2\">2 - Acceso a elementos de una lista</a></span></li><li><span><a href=\"#3---Métodos-de-las-listas\" data-toc-modified-id=\"3---Métodos-de-las-listas-3\">3 - Métodos de las listas</a></span><ul class=\"toc-item\"><li><span><a href=\"#3.1---append\" data-toc-modified-id=\"3.1---append-3.1\">3.1 - append</a></span></li><li><span><a href=\"#3.2---extend\" data-toc-modified-id=\"3.2---extend-3.2\">3.2 - extend</a></span></li><li><span><a href=\"#3.3---insert\" data-toc-modified-id=\"3.3---insert-3.3\">3.3 - insert</a></span></li><li><span><a href=\"#3.4---remove\" data-toc-modified-id=\"3.4---remove-3.4\">3.4 - remove</a></span></li><li><span><a href=\"#3.5---pop\" data-toc-modified-id=\"3.5---pop-3.5\">3.5 - pop</a></span></li><li><span><a href=\"#3.6---index\" data-toc-modified-id=\"3.6---index-3.6\">3.6 - index</a></span></li><li><span><a href=\"#3.7---count\" data-toc-modified-id=\"3.7---count-3.7\">3.7 - count</a></span></li><li><span><a href=\"#3.8---sort\" data-toc-modified-id=\"3.8---sort-3.8\">3.8 - sort</a></span></li><li><span><a href=\"#3.9---reverse\" data-toc-modified-id=\"3.9---reverse-3.9\">3.9 - reverse</a></span></li><li><span><a href=\"#3.10---copy\" data-toc-modified-id=\"3.10---copy-3.10\">3.10 - copy</a></span></li><li><span><a href=\"#3.11---clear\" data-toc-modified-id=\"3.11---clear-3.11\">3.11 - clear</a></span></li></ul></li></ul></div>"
   ]
  },
  {
   "cell_type": "markdown",
   "id": "4a5c0ff5",
   "metadata": {},
   "source": [
    "## 1 - Definición de listas"
   ]
  },
  {
   "cell_type": "markdown",
   "id": "e00c22fa",
   "metadata": {},
   "source": [
    "Las listas son estructuras de datos versátiles y muy utilizadas. Son colecciones ordenadas y mutables, lo que significa que los elementos pueden ser modificados, añadidos o eliminados después de la creación de la lista. Permiten elementos duplicados y pueden contener diferentes tipos de datos. Las listas se definen con `[]` o con la palabra reservada `list`."
   ]
  },
  {
   "cell_type": "code",
   "execution_count": 1,
   "id": "9739f3b5",
   "metadata": {},
   "outputs": [],
   "source": [
    "# defininamos tres listas\n",
    "\n",
    "lista_1 = [1, 4, 5, 6, 7, 8, 9, 12, 45, 67, 32, 21]\n",
    "\n",
    "lista_2 = ['hola', 'adios', 'que tal', 'alegre', 'hasta luego']\n",
    "\n",
    "lista_3 = [1, 3.21, 'hola', True, False, 3, 1]"
   ]
  },
  {
   "cell_type": "code",
   "execution_count": 2,
   "id": "7a332fe8",
   "metadata": {},
   "outputs": [
    {
     "name": "stdout",
     "output_type": "stream",
     "text": [
      "[1, 4, 5, 6, 7, 8, 9, 12, 45, 67, 32, 21]\n"
     ]
    }
   ],
   "source": [
    "# imprimir lista 1\n",
    "\n",
    "print(lista_1)"
   ]
  },
  {
   "cell_type": "code",
   "execution_count": 3,
   "id": "95d02690",
   "metadata": {},
   "outputs": [
    {
     "name": "stdout",
     "output_type": "stream",
     "text": [
      "['hola', 'adios', 'que tal', 'alegre', 'hasta luego']\n"
     ]
    }
   ],
   "source": [
    "# imprimir lista 2\n",
    "\n",
    "print(lista_2)"
   ]
  },
  {
   "cell_type": "code",
   "execution_count": 4,
   "id": "ebd05ba4",
   "metadata": {},
   "outputs": [
    {
     "name": "stdout",
     "output_type": "stream",
     "text": [
      "[1, 3.21, 'hola', True, False, 3, 1]\n"
     ]
    }
   ],
   "source": [
    "# imprimir lista 3\n",
    "\n",
    "print(lista_3)"
   ]
  },
  {
   "cell_type": "code",
   "execution_count": 5,
   "id": "6de66efd",
   "metadata": {},
   "outputs": [
    {
     "data": {
      "text/plain": [
       "list"
      ]
     },
     "execution_count": 5,
     "metadata": {},
     "output_type": "execute_result"
    }
   ],
   "source": [
    "# tipo de dato\n",
    "\n",
    "type(lista_1)"
   ]
  },
  {
   "cell_type": "markdown",
   "id": "b895858e",
   "metadata": {},
   "source": [
    "## 2 - Acceso a elementos de una lista"
   ]
  },
  {
   "cell_type": "markdown",
   "id": "f0953502",
   "metadata": {},
   "source": [
    "Acceder a elementos de una lista en Python es una operación fundamental y se puede realizar de diversas maneras, incluyendo el uso de índices o rebanado (slicing). En el acceso por índices, el primer elemento de una lista tiene un índice de 0, el segundo un índice de 1 y así sucesivamente. Los índices negativos se usan para acceder a los elementos desde el final de la lista, donde el último elemento tiene un índice de -1, el penúltimo un índice de -2, y así sucesivamente."
   ]
  },
  {
   "cell_type": "code",
   "execution_count": 7,
   "id": "7deb550f",
   "metadata": {},
   "outputs": [
    {
     "data": {
      "text/plain": [
       "1"
      ]
     },
     "execution_count": 7,
     "metadata": {},
     "output_type": "execute_result"
    }
   ],
   "source": [
    "# primer elemento de la lista\n",
    "\n",
    "lista_1[0]"
   ]
  },
  {
   "cell_type": "code",
   "execution_count": 8,
   "id": "d29721bc",
   "metadata": {},
   "outputs": [
    {
     "data": {
      "text/plain": [
       "4"
      ]
     },
     "execution_count": 8,
     "metadata": {},
     "output_type": "execute_result"
    }
   ],
   "source": [
    "# segundo elemento de la lista\n",
    "\n",
    "lista_1[1]"
   ]
  },
  {
   "cell_type": "code",
   "execution_count": 9,
   "id": "9a48d6e0",
   "metadata": {},
   "outputs": [
    {
     "data": {
      "text/plain": [
       "21"
      ]
     },
     "execution_count": 9,
     "metadata": {},
     "output_type": "execute_result"
    }
   ],
   "source": [
    "# ultimo elemento de la lista\n",
    "\n",
    "lista_1[-1]"
   ]
  },
  {
   "cell_type": "code",
   "execution_count": 10,
   "id": "afbb673c",
   "metadata": {},
   "outputs": [
    {
     "data": {
      "text/plain": [
       "32"
      ]
     },
     "execution_count": 10,
     "metadata": {},
     "output_type": "execute_result"
    }
   ],
   "source": [
    "# penultimo elemento de la lista\n",
    "\n",
    "lista_1[-2]"
   ]
  },
  {
   "cell_type": "markdown",
   "id": "31f9ead5",
   "metadata": {},
   "source": [
    "Para rebanar la lista, realizar el slicing, tenemos que seleccionar los índices inicial y final de la rebanda que queremos extraer con la siguiente sintaxis:\n",
    "\n",
    "```python\n",
    "lista[indice_incial:indice_final]\n",
    "```\n",
    "\n",
    "Recordemos que los índices empiezan en 0 y acaban en N-1, siendo N el número de elementos que tiene la lista. Realizar un slicing no cambia la lista original a no ser que se sobreescriba la variable."
   ]
  },
  {
   "cell_type": "code",
   "execution_count": 12,
   "id": "eef5ee56",
   "metadata": {},
   "outputs": [
    {
     "data": {
      "text/plain": [
       "[4, 5, 6]"
      ]
     },
     "execution_count": 12,
     "metadata": {},
     "output_type": "execute_result"
    }
   ],
   "source": [
    "# segundo, tercer y cuarto elemento de la lista\n",
    "\n",
    "lista_1[1:4]"
   ]
  },
  {
   "cell_type": "code",
   "execution_count": 13,
   "id": "adafb402",
   "metadata": {},
   "outputs": [
    {
     "data": {
      "text/plain": [
       "[1, 4, 5, 6]"
      ]
     },
     "execution_count": 13,
     "metadata": {},
     "output_type": "execute_result"
    }
   ],
   "source": [
    "# desde el principio hasta el cuarto valor\n",
    "\n",
    "lista_1[0:4]"
   ]
  },
  {
   "cell_type": "code",
   "execution_count": 14,
   "id": "2f43f304",
   "metadata": {},
   "outputs": [
    {
     "data": {
      "text/plain": [
       "[1, 4, 5, 6]"
      ]
     },
     "execution_count": 14,
     "metadata": {},
     "output_type": "execute_result"
    }
   ],
   "source": [
    "# desde el principio hasta el cuarto valor, omitiendo el primer indice\n",
    "\n",
    "lista_1[:4]"
   ]
  },
  {
   "cell_type": "code",
   "execution_count": 16,
   "id": "cd8d4b8f",
   "metadata": {},
   "outputs": [
    {
     "data": {
      "text/plain": [
       "[7, 8, 9, 12, 45, 67, 32, 21]"
      ]
     },
     "execution_count": 16,
     "metadata": {},
     "output_type": "execute_result"
    }
   ],
   "source": [
    "# desde el cuarto elemento hasta el final\n",
    "\n",
    "lista_1[4:]"
   ]
  },
  {
   "cell_type": "markdown",
   "id": "8378757d",
   "metadata": {},
   "source": [
    "También podemos usar el slicing con un paso, para extraer elementos de manera regular, por ejemplo de 2 en 2 entre dos posiciones. Usaremos la siguiente sintaxis:\n",
    "\n",
    "```python\n",
    "lista[indice_incial:indice_final:paso]\n",
    "```"
   ]
  },
  {
   "cell_type": "code",
   "execution_count": 18,
   "id": "038f30d9",
   "metadata": {},
   "outputs": [
    {
     "data": {
      "text/plain": [
       "[4, 6, 8, 12, 67]"
      ]
     },
     "execution_count": 18,
     "metadata": {},
     "output_type": "execute_result"
    }
   ],
   "source": [
    "# desde el segundo al decimo de dos en dos\n",
    "\n",
    "lista_1[1:11:2]"
   ]
  },
  {
   "cell_type": "code",
   "execution_count": 19,
   "id": "02123154",
   "metadata": {},
   "outputs": [
    {
     "data": {
      "text/plain": [
       "[8, 67]"
      ]
     },
     "execution_count": 19,
     "metadata": {},
     "output_type": "execute_result"
    }
   ],
   "source": [
    "# desde el cuarto al ultimo de cuatro en cuatro\n",
    "\n",
    "lista_1[5:-1:4]"
   ]
  },
  {
   "cell_type": "code",
   "execution_count": 21,
   "id": "e412302e",
   "metadata": {},
   "outputs": [
    {
     "data": {
      "text/plain": [
       "[1, 6, 9, 67]"
      ]
     },
     "execution_count": 21,
     "metadata": {},
     "output_type": "execute_result"
    }
   ],
   "source": [
    "# del primero al ultimo de tres en tres\n",
    "\n",
    "lista_1[::3]"
   ]
  },
  {
   "cell_type": "code",
   "execution_count": 23,
   "id": "d4fb55e0",
   "metadata": {},
   "outputs": [
    {
     "data": {
      "text/plain": [
       "[21, 32, 67, 45, 12, 9, 8, 7, 6, 5, 4, 1]"
      ]
     },
     "execution_count": 23,
     "metadata": {},
     "output_type": "execute_result"
    }
   ],
   "source": [
    "# desde el primero al ultimo al reves, dada la vuelta\n",
    "\n",
    "lista_1[::-1]"
   ]
  },
  {
   "cell_type": "markdown",
   "id": "6f9b3843",
   "metadata": {},
   "source": [
    "## 3 - Métodos de las listas"
   ]
  },
  {
   "cell_type": "markdown",
   "id": "4c4bb77c",
   "metadata": {},
   "source": [
    "Existen métodos, funciones internas, que nos permiten realizar operaciones sobre las listas de manera directa, como añadir elementos y elminarlos. Veámos algunos de esos métodos."
   ]
  },
  {
   "cell_type": "markdown",
   "id": "48d67d8c",
   "metadata": {},
   "source": [
    "### 3.1 - append\n",
    "\n",
    "Agrega un elemento al final de la lista."
   ]
  },
  {
   "cell_type": "code",
   "execution_count": 24,
   "id": "6b6b986f",
   "metadata": {},
   "outputs": [
    {
     "name": "stdout",
     "output_type": "stream",
     "text": [
      "[1, 4, 5, 6, 7, 8, 9, 12, 45, 67, 32, 21]\n"
     ]
    }
   ],
   "source": [
    "# veamos la lista 1\n",
    "\n",
    "print(lista_1)"
   ]
  },
  {
   "cell_type": "code",
   "execution_count": 25,
   "id": "e4dcf112",
   "metadata": {},
   "outputs": [],
   "source": [
    "# añadimos un numero\n",
    "\n",
    "lista_1.append(8)"
   ]
  },
  {
   "cell_type": "code",
   "execution_count": 26,
   "id": "d8021b1d",
   "metadata": {},
   "outputs": [
    {
     "name": "stdout",
     "output_type": "stream",
     "text": [
      "[1, 4, 5, 6, 7, 8, 9, 12, 45, 67, 32, 21, 8]\n"
     ]
    }
   ],
   "source": [
    "# veamos la lista 1 modificada\n",
    "\n",
    "print(lista_1)"
   ]
  },
  {
   "cell_type": "markdown",
   "id": "b823e68e",
   "metadata": {},
   "source": [
    "### 3.2 - extend\n",
    "\n",
    "Agrega varios elementos al final de la lista."
   ]
  },
  {
   "cell_type": "code",
   "execution_count": 27,
   "id": "51446605",
   "metadata": {},
   "outputs": [],
   "source": [
    "# nueva lista \n",
    "\n",
    "n_lista = [1,1,1,1]"
   ]
  },
  {
   "cell_type": "code",
   "execution_count": 29,
   "id": "0410d7bf",
   "metadata": {},
   "outputs": [],
   "source": [
    "lista_1.extend(n_lista)"
   ]
  },
  {
   "cell_type": "code",
   "execution_count": 30,
   "id": "04f6c924",
   "metadata": {},
   "outputs": [
    {
     "name": "stdout",
     "output_type": "stream",
     "text": [
      "[1, 4, 5, 6, 7, 8, 9, 12, 45, 67, 32, 21, 8, 1, 1, 1, 1]\n"
     ]
    }
   ],
   "source": [
    "# veamos la lista 1 modificada\n",
    "\n",
    "print(lista_1)"
   ]
  },
  {
   "cell_type": "markdown",
   "id": "6dba2da1",
   "metadata": {},
   "source": [
    "### 3.3 - insert\n",
    "\n",
    "Inserta un elemento en una posición específica de la lista."
   ]
  },
  {
   "cell_type": "code",
   "execution_count": 32,
   "id": "576a9b94",
   "metadata": {},
   "outputs": [],
   "source": [
    "# insertar el 100 al principio\n",
    "\n",
    "\n",
    "lista_1.insert(0, 100)"
   ]
  },
  {
   "cell_type": "code",
   "execution_count": 33,
   "id": "ef3630b9",
   "metadata": {},
   "outputs": [
    {
     "name": "stdout",
     "output_type": "stream",
     "text": [
      "[100, 1, 4, 5, 6, 7, 8, 9, 12, 45, 67, 32, 21, 8, 1, 1, 1, 1]\n"
     ]
    }
   ],
   "source": [
    "# veamos la lista\n",
    "\n",
    "print(lista_1)"
   ]
  },
  {
   "cell_type": "markdown",
   "id": "4849428d",
   "metadata": {},
   "source": [
    "### 3.4 - remove\n",
    "\n",
    "Elimina el primer elemento de la lista que coincida con el valor especificado."
   ]
  },
  {
   "cell_type": "code",
   "execution_count": 34,
   "id": "45a71453",
   "metadata": {},
   "outputs": [],
   "source": [
    "# eliminar el valor 1, el primero que se encuantra\n",
    "\n",
    "lista_1.remove(1)"
   ]
  },
  {
   "cell_type": "code",
   "execution_count": 35,
   "id": "15b3723b",
   "metadata": {},
   "outputs": [
    {
     "name": "stdout",
     "output_type": "stream",
     "text": [
      "[100, 4, 5, 6, 7, 8, 9, 12, 45, 67, 32, 21, 8, 1, 1, 1, 1]\n"
     ]
    }
   ],
   "source": [
    "# veamos la lista\n",
    "\n",
    "print(lista_1)"
   ]
  },
  {
   "cell_type": "markdown",
   "id": "03616eef",
   "metadata": {},
   "source": [
    "### 3.5 - pop\n",
    "\n",
    "Elimina y devuelve un elemento de la lista según el índice. Por defecto es el último."
   ]
  },
  {
   "cell_type": "code",
   "execution_count": 36,
   "id": "2f74a62f",
   "metadata": {},
   "outputs": [
    {
     "data": {
      "text/plain": [
       "1"
      ]
     },
     "execution_count": 36,
     "metadata": {},
     "output_type": "execute_result"
    }
   ],
   "source": [
    "# eliminamos el ultimo valor de la lista\n",
    "\n",
    "lista_1.pop()"
   ]
  },
  {
   "cell_type": "code",
   "execution_count": 37,
   "id": "d40ec95c",
   "metadata": {},
   "outputs": [
    {
     "name": "stdout",
     "output_type": "stream",
     "text": [
      "[100, 4, 5, 6, 7, 8, 9, 12, 45, 67, 32, 21, 8, 1, 1, 1]\n"
     ]
    }
   ],
   "source": [
    "# veamos la lista\n",
    "\n",
    "print(lista_1)"
   ]
  },
  {
   "cell_type": "code",
   "execution_count": 38,
   "id": "f8575e22",
   "metadata": {},
   "outputs": [
    {
     "name": "stdout",
     "output_type": "stream",
     "text": [
      "4\n"
     ]
    }
   ],
   "source": [
    "# elimino el segundo valor y lo guardo\n",
    "\n",
    "num = lista_1.pop(1)\n",
    "\n",
    "print(num)"
   ]
  },
  {
   "cell_type": "code",
   "execution_count": 39,
   "id": "c4746084",
   "metadata": {},
   "outputs": [
    {
     "name": "stdout",
     "output_type": "stream",
     "text": [
      "[100, 5, 6, 7, 8, 9, 12, 45, 67, 32, 21, 8, 1, 1, 1]\n"
     ]
    }
   ],
   "source": [
    "# veamos la lista\n",
    "\n",
    "print(lista_1)"
   ]
  },
  {
   "cell_type": "markdown",
   "id": "e568ed1e",
   "metadata": {},
   "source": [
    "### 3.6 - index\n",
    "\n",
    "Devuelve el índice de la primera ocurrencia del elemento especificado en la lista."
   ]
  },
  {
   "cell_type": "code",
   "execution_count": 40,
   "id": "b5e102ed",
   "metadata": {},
   "outputs": [
    {
     "data": {
      "text/plain": [
       "8"
      ]
     },
     "execution_count": 40,
     "metadata": {},
     "output_type": "execute_result"
    }
   ],
   "source": [
    "# ¿qué posición tiene el numero 67?\n",
    "\n",
    "lista_1.index(67)"
   ]
  },
  {
   "cell_type": "code",
   "execution_count": 41,
   "id": "a2d4e174",
   "metadata": {},
   "outputs": [
    {
     "data": {
      "text/plain": [
       "67"
      ]
     },
     "execution_count": 41,
     "metadata": {},
     "output_type": "execute_result"
    }
   ],
   "source": [
    "lista_1[8]"
   ]
  },
  {
   "cell_type": "markdown",
   "id": "c0c5d586",
   "metadata": {},
   "source": [
    "### 3.7 - count\n",
    "\n",
    "Devuelve el número de veces que aparece el elemento especificado en la lista."
   ]
  },
  {
   "cell_type": "code",
   "execution_count": 43,
   "id": "5da6f31d",
   "metadata": {},
   "outputs": [
    {
     "data": {
      "text/plain": [
       "3"
      ]
     },
     "execution_count": 43,
     "metadata": {},
     "output_type": "execute_result"
    }
   ],
   "source": [
    "# ¿cuantas aparece el 1?\n",
    "\n",
    "lista_1.count(1)"
   ]
  },
  {
   "cell_type": "markdown",
   "id": "5daec459",
   "metadata": {},
   "source": [
    "### 3.8 - sort\n",
    "\n",
    "Ordena los elementos de la lista de forma ascendente o descendente"
   ]
  },
  {
   "cell_type": "code",
   "execution_count": 44,
   "id": "051c308c",
   "metadata": {},
   "outputs": [
    {
     "data": {
      "text/plain": [
       "[100, 5, 6, 7, 8, 9, 12, 45, 67, 32, 21, 8, 1, 1, 1]"
      ]
     },
     "execution_count": 44,
     "metadata": {},
     "output_type": "execute_result"
    }
   ],
   "source": [
    "lista_1"
   ]
  },
  {
   "cell_type": "code",
   "execution_count": 45,
   "id": "56fc4e6f",
   "metadata": {},
   "outputs": [],
   "source": [
    "# ordenar de menor a mayor\n",
    "\n",
    "lista_1.sort()"
   ]
  },
  {
   "cell_type": "code",
   "execution_count": 46,
   "id": "170cacd9",
   "metadata": {},
   "outputs": [
    {
     "name": "stdout",
     "output_type": "stream",
     "text": [
      "[1, 1, 1, 5, 6, 7, 8, 8, 9, 12, 21, 32, 45, 67, 100]\n"
     ]
    }
   ],
   "source": [
    "# veamos la lista\n",
    "\n",
    "print(lista_1)"
   ]
  },
  {
   "cell_type": "code",
   "execution_count": 47,
   "id": "40788192",
   "metadata": {},
   "outputs": [],
   "source": [
    "# ordenar de mayor a menor\n",
    "\n",
    "lista_1.sort(reverse=True)"
   ]
  },
  {
   "cell_type": "code",
   "execution_count": 48,
   "id": "befb7451",
   "metadata": {},
   "outputs": [
    {
     "name": "stdout",
     "output_type": "stream",
     "text": [
      "[100, 67, 45, 32, 21, 12, 9, 8, 8, 7, 6, 5, 1, 1, 1]\n"
     ]
    }
   ],
   "source": [
    "# veamos la lista\n",
    "\n",
    "print(lista_1)"
   ]
  },
  {
   "cell_type": "markdown",
   "id": "f9285f53",
   "metadata": {},
   "source": [
    "### 3.9 - reverse\n",
    "\n",
    "Invierte el orden de los elementos de la lista."
   ]
  },
  {
   "cell_type": "code",
   "execution_count": 50,
   "id": "de862d89",
   "metadata": {},
   "outputs": [],
   "source": [
    "# darle la vuelta\n",
    "\n",
    "lista_1.reverse()"
   ]
  },
  {
   "cell_type": "code",
   "execution_count": 51,
   "id": "ad68eaf0",
   "metadata": {},
   "outputs": [
    {
     "data": {
      "text/plain": [
       "[1, 1, 1, 5, 6, 7, 8, 8, 9, 12, 21, 32, 45, 67, 100]"
      ]
     },
     "execution_count": 51,
     "metadata": {},
     "output_type": "execute_result"
    }
   ],
   "source": [
    "lista_1"
   ]
  },
  {
   "cell_type": "markdown",
   "id": "d6a21bf2",
   "metadata": {},
   "source": [
    "### 3.10 - copy\n",
    "\n",
    "Hace una copia exacta de una lista con los mismos elementos de la lista original."
   ]
  },
  {
   "cell_type": "code",
   "execution_count": 52,
   "id": "27d98a1a",
   "metadata": {},
   "outputs": [],
   "source": [
    "# realizar una copia de la lista\n",
    "\n",
    "copia = lista_1.copy()"
   ]
  },
  {
   "cell_type": "code",
   "execution_count": 53,
   "id": "e18a0b8e",
   "metadata": {},
   "outputs": [
    {
     "name": "stdout",
     "output_type": "stream",
     "text": [
      "[1, 1, 1, 5, 6, 7, 8, 8, 9, 12, 21, 32, 45, 67, 100]\n"
     ]
    }
   ],
   "source": [
    "# veamos la copia\n",
    "\n",
    "print(copia)"
   ]
  },
  {
   "cell_type": "code",
   "execution_count": 54,
   "id": "a8f1f38e",
   "metadata": {},
   "outputs": [],
   "source": [
    "# tambien se puede hacer con el slicing\n",
    "\n",
    "copia2 = lista_1[:]"
   ]
  },
  {
   "cell_type": "code",
   "execution_count": 55,
   "id": "a3ed5849",
   "metadata": {},
   "outputs": [
    {
     "name": "stdout",
     "output_type": "stream",
     "text": [
      "[1, 1, 1, 5, 6, 7, 8, 8, 9, 12, 21, 32, 45, 67, 100]\n"
     ]
    }
   ],
   "source": [
    "# veamos la copia 2\n",
    "\n",
    "print(copia2)"
   ]
  },
  {
   "cell_type": "markdown",
   "id": "cac34597",
   "metadata": {},
   "source": [
    "### 3.11 - clear\n",
    "\n",
    "Elimina todos los elementos de la lista y la deja vacía."
   ]
  },
  {
   "cell_type": "code",
   "execution_count": 56,
   "id": "45d528d8",
   "metadata": {},
   "outputs": [],
   "source": [
    "# borramos la lista copia\n",
    "\n",
    "copia.clear()"
   ]
  },
  {
   "cell_type": "code",
   "execution_count": 57,
   "id": "f5de6c25",
   "metadata": {},
   "outputs": [
    {
     "name": "stdout",
     "output_type": "stream",
     "text": [
      "[]\n"
     ]
    }
   ],
   "source": [
    "# veamos la copia\n",
    "\n",
    "print(copia)"
   ]
  },
  {
   "cell_type": "code",
   "execution_count": null,
   "id": "be5a4944",
   "metadata": {},
   "outputs": [],
   "source": []
  }
 ],
 "metadata": {
  "kernelspec": {
   "display_name": "ia",
   "language": "python",
   "name": "ia"
  },
  "language_info": {
   "codemirror_mode": {
    "name": "ipython",
    "version": 3
   },
   "file_extension": ".py",
   "mimetype": "text/x-python",
   "name": "python",
   "nbconvert_exporter": "python",
   "pygments_lexer": "ipython3",
   "version": "3.9.19"
  },
  "toc": {
   "base_numbering": 1,
   "nav_menu": {},
   "number_sections": false,
   "sideBar": true,
   "skip_h1_title": true,
   "title_cell": "Tabla de Contenidos",
   "title_sidebar": "Contents",
   "toc_cell": true,
   "toc_position": {
    "height": "calc(100% - 180px)",
    "left": "10px",
    "top": "150px",
    "width": "281.753px"
   },
   "toc_section_display": true,
   "toc_window_display": true
  }
 },
 "nbformat": 4,
 "nbformat_minor": 5
}
