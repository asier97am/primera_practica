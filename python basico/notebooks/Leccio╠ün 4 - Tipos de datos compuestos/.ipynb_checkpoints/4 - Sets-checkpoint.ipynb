{
 "cells": [
  {
   "cell_type": "markdown",
   "id": "b1cf5aae",
   "metadata": {},
   "source": [
    "# 4 - Sets\n",
    "\n",
    "<br>\n",
    "<br>\n",
    "\n",
    "<img src=\"https://raw.githubusercontent.com/Hack-io-AI/ai_images/main/python_compound.webp\" style=\"width:400px;\"/>"
   ]
  },
  {
   "cell_type": "markdown",
   "id": "3c50ffd2",
   "metadata": {
    "toc": true
   },
   "source": [
    "<h1>Tabla de Contenidos<span class=\"tocSkip\"></span></h1>\n",
    "<div class=\"toc\"><ul class=\"toc-item\"><li><span><a href=\"#1---Definición-de-sets\" data-toc-modified-id=\"1---Definición-de-sets-1\">1 - Definición de sets</a></span></li><li><span><a href=\"#2---Métodos-de-los-sets\" data-toc-modified-id=\"2---Métodos-de-los-sets-2\">2 - Métodos de los sets</a></span><ul class=\"toc-item\"><li><span><a href=\"#2.1---add\" data-toc-modified-id=\"2.1---add-2.1\">2.1 - add</a></span></li><li><span><a href=\"#2.2---discard\" data-toc-modified-id=\"2.2---discard-2.2\">2.2 - discard</a></span></li><li><span><a href=\"#2.3---remove\" data-toc-modified-id=\"2.3---remove-2.3\">2.3 - remove</a></span></li><li><span><a href=\"#2.4---pop\" data-toc-modified-id=\"2.4---pop-2.4\">2.4 - pop</a></span></li></ul></li><li><span><a href=\"#3---Operaciones-con-sets\" data-toc-modified-id=\"3---Operaciones-con-sets-3\">3 - Operaciones con sets</a></span><ul class=\"toc-item\"><li><span><a href=\"#3.1---Unión\" data-toc-modified-id=\"3.1---Unión-3.1\">3.1 - Unión</a></span></li><li><span><a href=\"#3.2---Intersección\" data-toc-modified-id=\"3.2---Intersección-3.2\">3.2 - Intersección</a></span></li><li><span><a href=\"#3.3---Subconjunto\" data-toc-modified-id=\"3.3---Subconjunto-3.3\">3.3 - Subconjunto</a></span></li><li><span><a href=\"#3.4---Superconjunto\" data-toc-modified-id=\"3.4---Superconjunto-3.4\">3.4 - Superconjunto</a></span></li></ul></li></ul></div>"
   ]
  },
  {
   "cell_type": "markdown",
   "id": "acb37b4c",
   "metadata": {},
   "source": [
    "## 1 - Definición de sets"
   ]
  },
  {
   "cell_type": "markdown",
   "id": "f0ff5abe",
   "metadata": {},
   "source": [
    "Los sets o conjuntos son colecciones desordenadas de elementos únicos. Se utilizan para almacenar múltiples elementos en una sola variable, pero a diferencia de las listas o las tuplas, no permiten duplicados y no mantienen ningún orden particular.\n",
    "\n",
    "\n",
    "**Características de los conjuntos**\n",
    "\n",
    "+ **Desordenados**: Los elementos en un conjunto no tienen un orden específico.\n",
    "+ **Elementos únicos**: Un conjunto no puede contener elementos duplicados.\n",
    "+ **Mutables**: Los conjuntos pueden ser modificados después de su creación, se pueden añadir y eliminar elementos.\n",
    "+ **Tipos inmutables**: Los elementos de un conjunto deben ser de un tipo de dato inmutable, por ejemplo, números, cadenas o tuplas.\n",
    "\n",
    "Podemos definir un set con `{}`, sin la estructura clave-valor, o con la función `set()` y una tupla o una lista."
   ]
  },
  {
   "cell_type": "code",
   "execution_count": null,
   "id": "c37a39f9",
   "metadata": {},
   "outputs": [],
   "source": []
  },
  {
   "cell_type": "code",
   "execution_count": null,
   "id": "53e65763",
   "metadata": {},
   "outputs": [],
   "source": []
  },
  {
   "cell_type": "code",
   "execution_count": null,
   "id": "07c4b2a5",
   "metadata": {},
   "outputs": [],
   "source": []
  },
  {
   "cell_type": "code",
   "execution_count": null,
   "id": "25c79c0d",
   "metadata": {},
   "outputs": [],
   "source": []
  },
  {
   "cell_type": "markdown",
   "id": "43c0dd83",
   "metadata": {},
   "source": [
    "## 2 - Métodos de los sets"
   ]
  },
  {
   "cell_type": "markdown",
   "id": "1fba462b",
   "metadata": {},
   "source": [
    "### 2.1 - add\n",
    "\n",
    "Con este método podemos añadir un elemento al set."
   ]
  },
  {
   "cell_type": "code",
   "execution_count": null,
   "id": "a9870005",
   "metadata": {},
   "outputs": [],
   "source": []
  },
  {
   "cell_type": "code",
   "execution_count": null,
   "id": "17056543",
   "metadata": {},
   "outputs": [],
   "source": []
  },
  {
   "cell_type": "markdown",
   "id": "d281b5c3",
   "metadata": {},
   "source": [
    "### 2.2 - discard\n",
    "\n",
    "Con este método podemos eliminar un elemento del set si existe, si no existe no hace nada."
   ]
  },
  {
   "cell_type": "code",
   "execution_count": null,
   "id": "a4eecf6b",
   "metadata": {},
   "outputs": [],
   "source": []
  },
  {
   "cell_type": "code",
   "execution_count": null,
   "id": "7233c897",
   "metadata": {},
   "outputs": [],
   "source": []
  },
  {
   "cell_type": "markdown",
   "id": "dd0e7050",
   "metadata": {},
   "source": [
    "### 2.3 - remove\n",
    "\n",
    "Con este método podemos eliminar un elemento del set si existe, si no existe devuelve un error."
   ]
  },
  {
   "cell_type": "code",
   "execution_count": null,
   "id": "0cb78f3d",
   "metadata": {},
   "outputs": [],
   "source": []
  },
  {
   "cell_type": "code",
   "execution_count": null,
   "id": "58c7416b",
   "metadata": {},
   "outputs": [],
   "source": []
  },
  {
   "cell_type": "markdown",
   "id": "c798abf1",
   "metadata": {},
   "source": [
    "### 2.4 - pop\n",
    "\n",
    "Elimina y devuelve un elemento del set."
   ]
  },
  {
   "cell_type": "code",
   "execution_count": null,
   "id": "175f8b98",
   "metadata": {},
   "outputs": [],
   "source": []
  },
  {
   "cell_type": "code",
   "execution_count": null,
   "id": "a462cad1",
   "metadata": {},
   "outputs": [],
   "source": []
  },
  {
   "cell_type": "code",
   "execution_count": null,
   "id": "0e7bb95d",
   "metadata": {},
   "outputs": [],
   "source": []
  },
  {
   "cell_type": "markdown",
   "id": "b4f2ae24",
   "metadata": {},
   "source": [
    "## 3 - Operaciones con sets"
   ]
  },
  {
   "cell_type": "markdown",
   "id": "b75da68c",
   "metadata": {},
   "source": [
    "Las operaciones con sets son aquellas que tienen que ver con [la teoría de conjuntos](https://es.wikipedia.org/wiki/Teor%C3%ADa_de_conjuntos) o el álgebra de conjuntos."
   ]
  },
  {
   "cell_type": "markdown",
   "id": "f2b103d4",
   "metadata": {},
   "source": [
    "### 3.1 - Unión"
   ]
  },
  {
   "cell_type": "code",
   "execution_count": null,
   "id": "c531f399",
   "metadata": {},
   "outputs": [],
   "source": []
  },
  {
   "cell_type": "markdown",
   "id": "91427bcb",
   "metadata": {},
   "source": [
    "### 3.2 - Intersección"
   ]
  },
  {
   "cell_type": "code",
   "execution_count": null,
   "id": "f10fb6a3",
   "metadata": {},
   "outputs": [],
   "source": []
  },
  {
   "cell_type": "markdown",
   "id": "79222b95",
   "metadata": {},
   "source": [
    "### 3.3 - Subconjunto"
   ]
  },
  {
   "cell_type": "code",
   "execution_count": null,
   "id": "028d8b84",
   "metadata": {},
   "outputs": [],
   "source": []
  },
  {
   "cell_type": "markdown",
   "id": "be9ff975",
   "metadata": {},
   "source": [
    "### 3.4 - Superconjunto"
   ]
  },
  {
   "cell_type": "code",
   "execution_count": null,
   "id": "89e57feb",
   "metadata": {},
   "outputs": [],
   "source": []
  }
 ],
 "metadata": {
  "kernelspec": {
   "display_name": "ia",
   "language": "python",
   "name": "ia"
  },
  "language_info": {
   "codemirror_mode": {
    "name": "ipython",
    "version": 3
   },
   "file_extension": ".py",
   "mimetype": "text/x-python",
   "name": "python",
   "nbconvert_exporter": "python",
   "pygments_lexer": "ipython3",
   "version": "3.9.19"
  },
  "toc": {
   "base_numbering": 1,
   "nav_menu": {},
   "number_sections": false,
   "sideBar": true,
   "skip_h1_title": true,
   "title_cell": "Tabla de Contenidos",
   "title_sidebar": "Contents",
   "toc_cell": true,
   "toc_position": {
    "height": "calc(100% - 180px)",
    "left": "10px",
    "top": "150px",
    "width": "291.753px"
   },
   "toc_section_display": true,
   "toc_window_display": true
  }
 },
 "nbformat": 4,
 "nbformat_minor": 5
}
