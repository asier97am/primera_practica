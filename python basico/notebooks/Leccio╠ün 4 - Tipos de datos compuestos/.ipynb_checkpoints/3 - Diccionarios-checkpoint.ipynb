{
 "cells": [
  {
   "cell_type": "markdown",
   "id": "67371877",
   "metadata": {},
   "source": [
    "# 3 - Diccionarios\n",
    "\n",
    "<br>\n",
    "<br>\n",
    "\n",
    "<img src=\"https://raw.githubusercontent.com/Hack-io-AI/ai_images/main/python_compound.webp\" style=\"width:400px;\"/>"
   ]
  },
  {
   "cell_type": "markdown",
   "id": "b96db1ff",
   "metadata": {
    "toc": true
   },
   "source": [
    "<h1>Tabla de Contenidos<span class=\"tocSkip\"></span></h1>\n",
    "<div class=\"toc\"><ul class=\"toc-item\"><li><span><a href=\"#1---Definición-de-diccionarios\" data-toc-modified-id=\"1---Definición-de-diccionarios-1\">1 - Definición de diccionarios</a></span></li><li><span><a href=\"#2---Acceso-a-los-elementos-de-un-diccionario\" data-toc-modified-id=\"2---Acceso-a-los-elementos-de-un-diccionario-2\">2 - Acceso a los elementos de un diccionario</a></span></li><li><span><a href=\"#3---Métodos-de-los-diccionarios\" data-toc-modified-id=\"3---Métodos-de-los-diccionarios-3\">3 - Métodos de los diccionarios</a></span><ul class=\"toc-item\"><li><span><a href=\"#3.1---get\" data-toc-modified-id=\"3.1---get-3.1\">3.1 - get</a></span></li><li><span><a href=\"#3.2---keys\" data-toc-modified-id=\"3.2---keys-3.2\">3.2 - keys</a></span></li><li><span><a href=\"#3.3---values\" data-toc-modified-id=\"3.3---values-3.3\">3.3 - values</a></span></li><li><span><a href=\"#3.4---items\" data-toc-modified-id=\"3.4---items-3.4\">3.4 - items</a></span></li><li><span><a href=\"#3.5---update\" data-toc-modified-id=\"3.5---update-3.5\">3.5 - update</a></span></li><li><span><a href=\"#3.6---pop\" data-toc-modified-id=\"3.6---pop-3.6\">3.6 - pop</a></span></li><li><span><a href=\"#3.7---popitem\" data-toc-modified-id=\"3.7---popitem-3.7\">3.7 - popitem</a></span></li></ul></li></ul></div>"
   ]
  },
  {
   "cell_type": "markdown",
   "id": "e6c37c35",
   "metadata": {},
   "source": [
    "## 1 - Definición de diccionarios"
   ]
  },
  {
   "cell_type": "markdown",
   "id": "118c0c0b",
   "metadata": {},
   "source": [
    "Un diccionario es una colección desordenada de elementos que se almacenan en pares clave-valor. Cada par clave-valor en un diccionario se denota como `clave: valor`. Cada clave en un diccionario debe ser única. Los diccionarios son mutables, lo que significa que se pueden modificar después de su creación. Son extremadamente útiles para almacenar datos que necesitan ser accedidos por una clave única, además los elementos en un diccionario no están ordenados. Se crean utilizando llaves `{}` y separando los pares clave-valor con comas. También podemos definir un diccionario con la función `dict`."
   ]
  },
  {
   "cell_type": "code",
   "execution_count": null,
   "id": "aa4b80dc",
   "metadata": {},
   "outputs": [],
   "source": []
  },
  {
   "cell_type": "code",
   "execution_count": null,
   "id": "a761e7a6",
   "metadata": {},
   "outputs": [],
   "source": []
  },
  {
   "cell_type": "code",
   "execution_count": null,
   "id": "307cb701",
   "metadata": {},
   "outputs": [],
   "source": []
  },
  {
   "cell_type": "code",
   "execution_count": null,
   "id": "69977f34",
   "metadata": {},
   "outputs": [],
   "source": []
  },
  {
   "cell_type": "code",
   "execution_count": null,
   "id": "feaab222",
   "metadata": {},
   "outputs": [],
   "source": []
  },
  {
   "cell_type": "code",
   "execution_count": null,
   "id": "b634dc53",
   "metadata": {},
   "outputs": [],
   "source": []
  },
  {
   "cell_type": "markdown",
   "id": "47f4031f",
   "metadata": {},
   "source": [
    "## 2 - Acceso a los elementos de un diccionario"
   ]
  },
  {
   "cell_type": "markdown",
   "id": "e0d149b0",
   "metadata": {},
   "source": [
    "El acceso a un diccionario se realiza con la sintaxis `dictio[clave]`, eso nos devolverá el valor asociado a dicha clave. Recordemos que los diccionarios no tienen orden, lo que quiere decir que no podemos acceder a sus elementos según el índice."
   ]
  },
  {
   "cell_type": "code",
   "execution_count": null,
   "id": "bf0af919",
   "metadata": {},
   "outputs": [],
   "source": []
  },
  {
   "cell_type": "code",
   "execution_count": null,
   "id": "42c9aa11",
   "metadata": {},
   "outputs": [],
   "source": []
  },
  {
   "cell_type": "code",
   "execution_count": null,
   "id": "c9431036",
   "metadata": {},
   "outputs": [],
   "source": []
  },
  {
   "cell_type": "code",
   "execution_count": null,
   "id": "7adf71b7",
   "metadata": {},
   "outputs": [],
   "source": []
  },
  {
   "cell_type": "markdown",
   "id": "0b8aea57",
   "metadata": {},
   "source": [
    "## 3 - Métodos de los diccionarios"
   ]
  },
  {
   "cell_type": "markdown",
   "id": "43af01c0",
   "metadata": {},
   "source": [
    "### 3.1 - get\n",
    "\n",
    "El método get es otra forma de acceder a los elementos de un diccionario, pero nos permite devolver un valor por defecto en caso de no existir la clave que estamos usando."
   ]
  },
  {
   "cell_type": "code",
   "execution_count": null,
   "id": "a129a4f9",
   "metadata": {},
   "outputs": [],
   "source": []
  },
  {
   "cell_type": "code",
   "execution_count": null,
   "id": "924ce8d8",
   "metadata": {},
   "outputs": [],
   "source": []
  },
  {
   "cell_type": "markdown",
   "id": "a5197936",
   "metadata": {},
   "source": [
    "### 3.2 - keys\n",
    "\n",
    "Devuelve una lista con las claves del diccionario."
   ]
  },
  {
   "cell_type": "code",
   "execution_count": null,
   "id": "2877158e",
   "metadata": {},
   "outputs": [],
   "source": []
  },
  {
   "cell_type": "code",
   "execution_count": null,
   "id": "465b5035",
   "metadata": {},
   "outputs": [],
   "source": []
  },
  {
   "cell_type": "markdown",
   "id": "5851cc96",
   "metadata": {},
   "source": [
    "### 3.3 - values\n",
    "\n",
    "Devuelve una lista con los valores del diccionario."
   ]
  },
  {
   "cell_type": "code",
   "execution_count": null,
   "id": "e1f8dd93",
   "metadata": {},
   "outputs": [],
   "source": []
  },
  {
   "cell_type": "code",
   "execution_count": null,
   "id": "8dde386b",
   "metadata": {},
   "outputs": [],
   "source": []
  },
  {
   "cell_type": "markdown",
   "id": "eab6cf5a",
   "metadata": {},
   "source": [
    "### 3.4 - items\n",
    "\n",
    "Devuelve uns lista de tuplas. Cada tupla tiene dos elementos, donde el primero es una clave y el segundo su valor asociado."
   ]
  },
  {
   "cell_type": "code",
   "execution_count": null,
   "id": "c00564a0",
   "metadata": {},
   "outputs": [],
   "source": []
  },
  {
   "cell_type": "code",
   "execution_count": null,
   "id": "5fcea43e",
   "metadata": {},
   "outputs": [],
   "source": []
  },
  {
   "cell_type": "markdown",
   "id": "9a245cbb",
   "metadata": {},
   "source": [
    "### 3.5 - update\n",
    "\n",
    "Este método actualiza el valor de una clave dada."
   ]
  },
  {
   "cell_type": "code",
   "execution_count": null,
   "id": "fec64095",
   "metadata": {},
   "outputs": [],
   "source": []
  },
  {
   "cell_type": "code",
   "execution_count": null,
   "id": "0a5109d7",
   "metadata": {},
   "outputs": [],
   "source": []
  },
  {
   "cell_type": "code",
   "execution_count": null,
   "id": "00848d3b",
   "metadata": {},
   "outputs": [],
   "source": []
  },
  {
   "cell_type": "code",
   "execution_count": null,
   "id": "1a928b76",
   "metadata": {},
   "outputs": [],
   "source": []
  },
  {
   "cell_type": "markdown",
   "id": "722a981a",
   "metadata": {},
   "source": [
    "### 3.6 - pop\n",
    "\n",
    "Este método elimina la clave dada y devuelve su valor."
   ]
  },
  {
   "cell_type": "code",
   "execution_count": null,
   "id": "bd06c1d9",
   "metadata": {},
   "outputs": [],
   "source": []
  },
  {
   "cell_type": "code",
   "execution_count": null,
   "id": "5cd29eaa",
   "metadata": {},
   "outputs": [],
   "source": []
  },
  {
   "cell_type": "markdown",
   "id": "0b3b7d36",
   "metadata": {},
   "source": [
    "### 3.7 - popitem\n",
    "\n",
    "Elimina y devuelve la \"última\" clave-valor."
   ]
  },
  {
   "cell_type": "code",
   "execution_count": null,
   "id": "c50414ea",
   "metadata": {},
   "outputs": [],
   "source": []
  }
 ],
 "metadata": {
  "kernelspec": {
   "display_name": "ia",
   "language": "python",
   "name": "ia"
  },
  "language_info": {
   "codemirror_mode": {
    "name": "ipython",
    "version": 3
   },
   "file_extension": ".py",
   "mimetype": "text/x-python",
   "name": "python",
   "nbconvert_exporter": "python",
   "pygments_lexer": "ipython3",
   "version": "3.9.19"
  },
  "toc": {
   "base_numbering": 1,
   "nav_menu": {},
   "number_sections": false,
   "sideBar": true,
   "skip_h1_title": true,
   "title_cell": "Tabla de Contenidos",
   "title_sidebar": "Contents",
   "toc_cell": true,
   "toc_position": {
    "height": "calc(100% - 180px)",
    "left": "10px",
    "top": "150px",
    "width": "272.769px"
   },
   "toc_section_display": true,
   "toc_window_display": true
  }
 },
 "nbformat": 4,
 "nbformat_minor": 5
}
