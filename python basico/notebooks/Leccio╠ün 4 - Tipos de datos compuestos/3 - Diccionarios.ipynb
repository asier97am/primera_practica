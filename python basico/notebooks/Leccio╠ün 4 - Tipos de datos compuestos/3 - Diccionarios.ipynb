{
 "cells": [
  {
   "cell_type": "markdown",
   "id": "67371877",
   "metadata": {},
   "source": [
    "# 3 - Diccionarios\n",
    "\n",
    "<br>\n",
    "<br>\n",
    "\n",
    "<img src=\"https://raw.githubusercontent.com/Hack-io-AI/ai_images/main/python_compound.webp\" style=\"width:400px;\"/>"
   ]
  },
  {
   "cell_type": "markdown",
   "id": "b96db1ff",
   "metadata": {
    "toc": true
   },
   "source": [
    "<h1>Tabla de Contenidos<span class=\"tocSkip\"></span></h1>\n",
    "<div class=\"toc\"><ul class=\"toc-item\"><li><span><a href=\"#1---Definición-de-diccionarios\" data-toc-modified-id=\"1---Definición-de-diccionarios-1\">1 - Definición de diccionarios</a></span></li><li><span><a href=\"#2---Acceso-a-los-elementos-de-un-diccionario\" data-toc-modified-id=\"2---Acceso-a-los-elementos-de-un-diccionario-2\">2 - Acceso a los elementos de un diccionario</a></span></li><li><span><a href=\"#3---Métodos-de-los-diccionarios\" data-toc-modified-id=\"3---Métodos-de-los-diccionarios-3\">3 - Métodos de los diccionarios</a></span><ul class=\"toc-item\"><li><span><a href=\"#3.1---get\" data-toc-modified-id=\"3.1---get-3.1\">3.1 - get</a></span></li><li><span><a href=\"#3.2---keys\" data-toc-modified-id=\"3.2---keys-3.2\">3.2 - keys</a></span></li><li><span><a href=\"#3.3---values\" data-toc-modified-id=\"3.3---values-3.3\">3.3 - values</a></span></li><li><span><a href=\"#3.4---items\" data-toc-modified-id=\"3.4---items-3.4\">3.4 - items</a></span></li><li><span><a href=\"#3.5---update\" data-toc-modified-id=\"3.5---update-3.5\">3.5 - update</a></span></li><li><span><a href=\"#3.6---pop\" data-toc-modified-id=\"3.6---pop-3.6\">3.6 - pop</a></span></li><li><span><a href=\"#3.7---popitem\" data-toc-modified-id=\"3.7---popitem-3.7\">3.7 - popitem</a></span></li></ul></li></ul></div>"
   ]
  },
  {
   "cell_type": "markdown",
   "id": "e6c37c35",
   "metadata": {},
   "source": [
    "## 1 - Definición de diccionarios"
   ]
  },
  {
   "cell_type": "markdown",
   "id": "118c0c0b",
   "metadata": {},
   "source": [
    "Un diccionario es una colección desordenada de elementos que se almacenan en pares clave-valor. Cada par clave-valor en un diccionario se denota como `clave: valor`. Cada clave en un diccionario debe ser única. Los diccionarios son mutables, lo que significa que se pueden modificar después de su creación. Son extremadamente útiles para almacenar datos que necesitan ser accedidos por una clave única, además los elementos en un diccionario no están ordenados. Se crean utilizando llaves `{}` y separando los pares clave-valor con comas. También podemos definir un diccionario con la función `dict`."
   ]
  },
  {
   "cell_type": "code",
   "execution_count": 1,
   "id": "aa4b80dc",
   "metadata": {},
   "outputs": [],
   "source": [
    "# definir diccionarios\n",
    "\n",
    "dictio_1 = {'clave': 'valor', 'entero': 4, 'real': 3.14, 'lista': [1,2,3], 1: True, False: 'valor'}"
   ]
  },
  {
   "cell_type": "code",
   "execution_count": 2,
   "id": "a761e7a6",
   "metadata": {},
   "outputs": [],
   "source": [
    "# con dict\n",
    "\n",
    "dictio_2 = dict(clave='valor', numero=42, lista=[1,2,3])"
   ]
  },
  {
   "cell_type": "code",
   "execution_count": 3,
   "id": "307cb701",
   "metadata": {},
   "outputs": [
    {
     "name": "stdout",
     "output_type": "stream",
     "text": [
      "{'clave': 'valor', 'entero': 4, 'real': 3.14, 'lista': [1, 2, 3], 1: True, False: 'valor'}\n"
     ]
    }
   ],
   "source": [
    "# imprimir el diccionario\n",
    "\n",
    "print(dictio_1)"
   ]
  },
  {
   "cell_type": "code",
   "execution_count": 4,
   "id": "69977f34",
   "metadata": {},
   "outputs": [
    {
     "name": "stdout",
     "output_type": "stream",
     "text": [
      "{'clave': 'valor', 'numero': 42, 'lista': [1, 2, 3]}\n"
     ]
    }
   ],
   "source": [
    "# imprimir el diccionario\n",
    "\n",
    "print(dictio_2)"
   ]
  },
  {
   "cell_type": "code",
   "execution_count": 5,
   "id": "feaab222",
   "metadata": {},
   "outputs": [
    {
     "data": {
      "text/plain": [
       "dict"
      ]
     },
     "execution_count": 5,
     "metadata": {},
     "output_type": "execute_result"
    }
   ],
   "source": [
    "# tipo de dato\n",
    "\n",
    "type(dictio_1)"
   ]
  },
  {
   "cell_type": "code",
   "execution_count": 6,
   "id": "b634dc53",
   "metadata": {},
   "outputs": [
    {
     "data": {
      "text/plain": [
       "dict"
      ]
     },
     "execution_count": 6,
     "metadata": {},
     "output_type": "execute_result"
    }
   ],
   "source": [
    "# tipo de dato\n",
    "\n",
    "type(dictio_2)"
   ]
  },
  {
   "cell_type": "markdown",
   "id": "47f4031f",
   "metadata": {},
   "source": [
    "## 2 - Acceso a los elementos de un diccionario"
   ]
  },
  {
   "cell_type": "markdown",
   "id": "e0d149b0",
   "metadata": {},
   "source": [
    "El acceso a un diccionario se realiza con la sintaxis `dictio[clave]`, eso nos devolverá el valor asociado a dicha clave. Recordemos que los diccionarios no tienen orden, lo que quiere decir que no podemos acceder a sus elementos según el índice."
   ]
  },
  {
   "cell_type": "code",
   "execution_count": 8,
   "id": "bf0af919",
   "metadata": {},
   "outputs": [
    {
     "data": {
      "text/plain": [
       "'valor'"
      ]
     },
     "execution_count": 8,
     "metadata": {},
     "output_type": "execute_result"
    }
   ],
   "source": [
    "# acceso a valor\n",
    "\n",
    "dictio_1['clave']"
   ]
  },
  {
   "cell_type": "code",
   "execution_count": 9,
   "id": "42c9aa11",
   "metadata": {},
   "outputs": [
    {
     "data": {
      "text/plain": [
       "4"
      ]
     },
     "execution_count": 9,
     "metadata": {},
     "output_type": "execute_result"
    }
   ],
   "source": [
    "# acceso a valor\n",
    "\n",
    "dictio_1['entero']"
   ]
  },
  {
   "cell_type": "code",
   "execution_count": 11,
   "id": "c9431036",
   "metadata": {},
   "outputs": [
    {
     "name": "stdout",
     "output_type": "stream",
     "text": [
      "3.14\n"
     ]
    }
   ],
   "source": [
    "# acceso a valor y guardado\n",
    "\n",
    "numero = dictio_1['real']\n",
    "\n",
    "print(numero)"
   ]
  },
  {
   "cell_type": "code",
   "execution_count": 13,
   "id": "7adf71b7",
   "metadata": {},
   "outputs": [
    {
     "data": {
      "text/plain": [
       "42"
      ]
     },
     "execution_count": 13,
     "metadata": {},
     "output_type": "execute_result"
    }
   ],
   "source": [
    "# acceso a valor\n",
    "\n",
    "dictio_2['numero']"
   ]
  },
  {
   "cell_type": "markdown",
   "id": "0b8aea57",
   "metadata": {},
   "source": [
    "## 3 - Métodos de los diccionarios"
   ]
  },
  {
   "cell_type": "markdown",
   "id": "43af01c0",
   "metadata": {},
   "source": [
    "### 3.1 - get\n",
    "\n",
    "El método get es otra forma de acceder a los elementos de un diccionario, pero nos permite devolver un valor por defecto en caso de no existir la clave que estamos usando."
   ]
  },
  {
   "cell_type": "code",
   "execution_count": 15,
   "id": "a129a4f9",
   "metadata": {},
   "outputs": [
    {
     "data": {
      "text/plain": [
       "'valor'"
      ]
     },
     "execution_count": 15,
     "metadata": {},
     "output_type": "execute_result"
    }
   ],
   "source": [
    "# acceso al valor\n",
    "\n",
    "dictio_1.get('clave')"
   ]
  },
  {
   "cell_type": "code",
   "execution_count": 17,
   "id": "c4180b5c",
   "metadata": {},
   "outputs": [
    {
     "ename": "KeyError",
     "evalue": "'numero'",
     "output_type": "error",
     "traceback": [
      "\u001b[0;31m---------------------------------------------------------------------------\u001b[0m",
      "\u001b[0;31mKeyError\u001b[0m                                  Traceback (most recent call last)",
      "Cell \u001b[0;32mIn[17], line 1\u001b[0m\n\u001b[0;32m----> 1\u001b[0m \u001b[43mdictio_1\u001b[49m\u001b[43m[\u001b[49m\u001b[38;5;124;43m'\u001b[39;49m\u001b[38;5;124;43mnumero\u001b[39;49m\u001b[38;5;124;43m'\u001b[39;49m\u001b[43m]\u001b[49m\n",
      "\u001b[0;31mKeyError\u001b[0m: 'numero'"
     ]
    }
   ],
   "source": [
    "dictio_1['numero']"
   ]
  },
  {
   "cell_type": "code",
   "execution_count": 19,
   "id": "924ce8d8",
   "metadata": {},
   "outputs": [
    {
     "data": {
      "text/plain": [
       "'esta clave no existe'"
      ]
     },
     "execution_count": 19,
     "metadata": {},
     "output_type": "execute_result"
    }
   ],
   "source": [
    "# acceso a clave inexistente\n",
    "\n",
    "dictio_1.get('numero', 'esta clave no existe')"
   ]
  },
  {
   "cell_type": "code",
   "execution_count": 20,
   "id": "0d9443eb",
   "metadata": {},
   "outputs": [
    {
     "data": {
      "text/plain": [
       "4"
      ]
     },
     "execution_count": 20,
     "metadata": {},
     "output_type": "execute_result"
    }
   ],
   "source": [
    "# acceso a clave existente\n",
    "\n",
    "dictio_1.get('entero', 'esta clave no existe')"
   ]
  },
  {
   "cell_type": "markdown",
   "id": "a5197936",
   "metadata": {},
   "source": [
    "### 3.2 - keys\n",
    "\n",
    "Devuelve una lista con las claves del diccionario."
   ]
  },
  {
   "cell_type": "code",
   "execution_count": 21,
   "id": "2877158e",
   "metadata": {},
   "outputs": [
    {
     "data": {
      "text/plain": [
       "dict_keys(['clave', 'entero', 'real', 'lista', 1, False])"
      ]
     },
     "execution_count": 21,
     "metadata": {},
     "output_type": "execute_result"
    }
   ],
   "source": [
    "# lista de claves\n",
    "\n",
    "dictio_1.keys()"
   ]
  },
  {
   "cell_type": "code",
   "execution_count": 22,
   "id": "465b5035",
   "metadata": {},
   "outputs": [
    {
     "data": {
      "text/plain": [
       "dict_keys(['clave', 'numero', 'lista'])"
      ]
     },
     "execution_count": 22,
     "metadata": {},
     "output_type": "execute_result"
    }
   ],
   "source": [
    "# lista de claves\n",
    "\n",
    "dictio_2.keys()"
   ]
  },
  {
   "cell_type": "markdown",
   "id": "5851cc96",
   "metadata": {},
   "source": [
    "### 3.3 - values\n",
    "\n",
    "Devuelve una lista con los valores del diccionario."
   ]
  },
  {
   "cell_type": "code",
   "execution_count": 23,
   "id": "e1f8dd93",
   "metadata": {},
   "outputs": [
    {
     "data": {
      "text/plain": [
       "dict_values(['valor', 4, 3.14, [1, 2, 3], True, 'valor'])"
      ]
     },
     "execution_count": 23,
     "metadata": {},
     "output_type": "execute_result"
    }
   ],
   "source": [
    "# lista de valores\n",
    "\n",
    "dictio_1.values()"
   ]
  },
  {
   "cell_type": "code",
   "execution_count": 24,
   "id": "8dde386b",
   "metadata": {},
   "outputs": [
    {
     "data": {
      "text/plain": [
       "dict_values(['valor', 42, [1, 2, 3]])"
      ]
     },
     "execution_count": 24,
     "metadata": {},
     "output_type": "execute_result"
    }
   ],
   "source": [
    "# lista de valores\n",
    "\n",
    "dictio_2.values()"
   ]
  },
  {
   "cell_type": "markdown",
   "id": "eab6cf5a",
   "metadata": {},
   "source": [
    "### 3.4 - items\n",
    "\n",
    "Devuelve uns lista de tuplas. Cada tupla tiene dos elementos, donde el primero es una clave y el segundo su valor asociado."
   ]
  },
  {
   "cell_type": "code",
   "execution_count": 25,
   "id": "c00564a0",
   "metadata": {},
   "outputs": [
    {
     "data": {
      "text/plain": [
       "dict_items([('clave', 'valor'), ('entero', 4), ('real', 3.14), ('lista', [1, 2, 3]), (1, True), (False, 'valor')])"
      ]
     },
     "execution_count": 25,
     "metadata": {},
     "output_type": "execute_result"
    }
   ],
   "source": [
    "# lista de items\n",
    "\n",
    "dictio_1.items()"
   ]
  },
  {
   "cell_type": "code",
   "execution_count": 26,
   "id": "5fcea43e",
   "metadata": {},
   "outputs": [
    {
     "data": {
      "text/plain": [
       "dict_items([('clave', 'valor'), ('numero', 42), ('lista', [1, 2, 3])])"
      ]
     },
     "execution_count": 26,
     "metadata": {},
     "output_type": "execute_result"
    }
   ],
   "source": [
    "# lista de items\n",
    "\n",
    "dictio_2.items()"
   ]
  },
  {
   "cell_type": "markdown",
   "id": "9a245cbb",
   "metadata": {},
   "source": [
    "### 3.5 - update\n",
    "\n",
    "Este método actualiza el valor de una clave dada."
   ]
  },
  {
   "cell_type": "code",
   "execution_count": 27,
   "id": "fec64095",
   "metadata": {},
   "outputs": [],
   "source": [
    "# actualizamos un valor\n",
    "\n",
    "dictio_1.update({'entero': 432})"
   ]
  },
  {
   "cell_type": "code",
   "execution_count": 29,
   "id": "0a5109d7",
   "metadata": {},
   "outputs": [
    {
     "name": "stdout",
     "output_type": "stream",
     "text": [
      "{'clave': 'valor', 'entero': 432, 'real': 3.14, 'lista': [1, 2, 3], 1: True, False: 'valor'}\n"
     ]
    }
   ],
   "source": [
    "# vemos el dictio\n",
    "\n",
    "print(dictio_1)"
   ]
  },
  {
   "cell_type": "code",
   "execution_count": 31,
   "id": "00848d3b",
   "metadata": {},
   "outputs": [],
   "source": [
    "# podemos sobreescribiendo la clave\n",
    "\n",
    "dictio_1['entero'] = 1000"
   ]
  },
  {
   "cell_type": "code",
   "execution_count": 32,
   "id": "1a928b76",
   "metadata": {},
   "outputs": [
    {
     "name": "stdout",
     "output_type": "stream",
     "text": [
      "{'clave': 'valor', 'entero': 1000, 'real': 3.14, 'lista': [1, 2, 3], 1: True, False: 'valor'}\n"
     ]
    }
   ],
   "source": [
    "# vemos el dictio\n",
    "\n",
    "print(dictio_1)"
   ]
  },
  {
   "cell_type": "markdown",
   "id": "722a981a",
   "metadata": {},
   "source": [
    "### 3.6 - pop\n",
    "\n",
    "Este método elimina la clave dada y devuelve su valor."
   ]
  },
  {
   "cell_type": "code",
   "execution_count": 33,
   "id": "bd06c1d9",
   "metadata": {},
   "outputs": [
    {
     "data": {
      "text/plain": [
       "'valor'"
      ]
     },
     "execution_count": 33,
     "metadata": {},
     "output_type": "execute_result"
    }
   ],
   "source": [
    "# eliminar una clave\n",
    "\n",
    "dictio_1.pop('clave')"
   ]
  },
  {
   "cell_type": "code",
   "execution_count": 34,
   "id": "5cd29eaa",
   "metadata": {},
   "outputs": [
    {
     "name": "stdout",
     "output_type": "stream",
     "text": [
      "{'entero': 1000, 'real': 3.14, 'lista': [1, 2, 3], 1: True, False: 'valor'}\n"
     ]
    }
   ],
   "source": [
    "# vemos el dictio\n",
    "\n",
    "print(dictio_1)"
   ]
  },
  {
   "cell_type": "markdown",
   "id": "0b3b7d36",
   "metadata": {},
   "source": [
    "### 3.7 - popitem\n",
    "\n",
    "Elimina y devuelve la \"última\" clave-valor."
   ]
  },
  {
   "cell_type": "code",
   "execution_count": 35,
   "id": "c50414ea",
   "metadata": {},
   "outputs": [
    {
     "data": {
      "text/plain": [
       "(False, 'valor')"
      ]
     },
     "execution_count": 35,
     "metadata": {},
     "output_type": "execute_result"
    }
   ],
   "source": [
    "# eliminar la ultima clave\n",
    "\n",
    "dictio_1.popitem()"
   ]
  },
  {
   "cell_type": "code",
   "execution_count": 36,
   "id": "2ebc4568",
   "metadata": {},
   "outputs": [
    {
     "name": "stdout",
     "output_type": "stream",
     "text": [
      "{'entero': 1000, 'real': 3.14, 'lista': [1, 2, 3], 1: True}\n"
     ]
    }
   ],
   "source": [
    "# vemos el dictio\n",
    "\n",
    "print(dictio_1)"
   ]
  },
  {
   "cell_type": "code",
   "execution_count": null,
   "id": "b4b3bdc6",
   "metadata": {},
   "outputs": [],
   "source": []
  }
 ],
 "metadata": {
  "kernelspec": {
   "display_name": "ia",
   "language": "python",
   "name": "ia"
  },
  "language_info": {
   "codemirror_mode": {
    "name": "ipython",
    "version": 3
   },
   "file_extension": ".py",
   "mimetype": "text/x-python",
   "name": "python",
   "nbconvert_exporter": "python",
   "pygments_lexer": "ipython3",
   "version": "3.9.19"
  },
  "toc": {
   "base_numbering": 1,
   "nav_menu": {},
   "number_sections": false,
   "sideBar": true,
   "skip_h1_title": true,
   "title_cell": "Tabla de Contenidos",
   "title_sidebar": "Contents",
   "toc_cell": true,
   "toc_position": {
    "height": "calc(100% - 180px)",
    "left": "10px",
    "top": "150px",
    "width": "272.769px"
   },
   "toc_section_display": true,
   "toc_window_display": true
  }
 },
 "nbformat": 4,
 "nbformat_minor": 5
}
