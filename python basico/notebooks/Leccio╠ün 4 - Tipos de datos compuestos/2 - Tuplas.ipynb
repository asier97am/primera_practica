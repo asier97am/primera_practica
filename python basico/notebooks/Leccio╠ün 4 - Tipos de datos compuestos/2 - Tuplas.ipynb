{
 "cells": [
  {
   "cell_type": "markdown",
   "id": "962d2b05",
   "metadata": {},
   "source": [
    "# 2 - Tuplas\n",
    "\n",
    "<br>\n",
    "<br>\n",
    "\n",
    "<img src=\"https://raw.githubusercontent.com/Hack-io-AI/ai_images/main/python_compound.webp\" style=\"width:400px;\"/>"
   ]
  },
  {
   "cell_type": "markdown",
   "id": "1fe0f3ea",
   "metadata": {
    "toc": true
   },
   "source": [
    "<h1>Tabla de Contenidos<span class=\"tocSkip\"></span></h1>\n",
    "<div class=\"toc\"><ul class=\"toc-item\"><li><span><a href=\"#1---Definición-de-tuplas\" data-toc-modified-id=\"1---Definición-de-tuplas-1\">1 - Definición de tuplas</a></span></li><li><span><a href=\"#2---Acceso-a-elementos-de-una-tupla\" data-toc-modified-id=\"2---Acceso-a-elementos-de-una-tupla-2\">2 - Acceso a elementos de una tupla</a></span></li><li><span><a href=\"#3---Métodos-de-las-tuplas\" data-toc-modified-id=\"3---Métodos-de-las-tuplas-3\">3 - Métodos de las tuplas</a></span><ul class=\"toc-item\"><li><span><a href=\"#3.1---count\" data-toc-modified-id=\"3.1---count-3.1\">3.1 - count</a></span></li><li><span><a href=\"#3.2---index\" data-toc-modified-id=\"3.2---index-3.2\">3.2 - index</a></span></li></ul></li></ul></div>"
   ]
  },
  {
   "cell_type": "markdown",
   "id": "74513baa",
   "metadata": {},
   "source": [
    "## 1 - Definición de tuplas"
   ]
  },
  {
   "cell_type": "markdown",
   "id": "0d0cd81b",
   "metadata": {},
   "source": [
    "Las tuplas en Python son un tipo de estructura de datos que permite almacenar una colección de elementos ordenados. A diferencia de las listas, las tuplas son inmutables, lo que significa que una vez creadas, no pueden ser modificadas, no se pueden añadir, eliminar ni cambiar elementos. Los elementos dentro de una tupla tienen un orden específico y se puede acceder a ellos utilizando índices, similar a las listas. El hecho de ser inmutables hace que las tuplas sean más eficientes en términos de acceso. Las tuplas se definen con `()`, aunque también se pueden definir de manera empaquetada.\n"
   ]
  },
  {
   "cell_type": "code",
   "execution_count": 1,
   "id": "4404af0a",
   "metadata": {},
   "outputs": [],
   "source": [
    "# definimos varias tuplas\n",
    "\n",
    "tupla_1 = (1, 2, 5, 21, 34, 1, 1, 1, 'hola')"
   ]
  },
  {
   "cell_type": "code",
   "execution_count": 2,
   "id": "b433718e",
   "metadata": {},
   "outputs": [],
   "source": [
    "# de manera empaquetada\n",
    "\n",
    "tupla_2 = 6, 7, 8, 9, 'adios'"
   ]
  },
  {
   "cell_type": "code",
   "execution_count": 3,
   "id": "e26aa88f",
   "metadata": {},
   "outputs": [
    {
     "name": "stdout",
     "output_type": "stream",
     "text": [
      "(1, 2, 5, 21, 34, 1, 1, 1, 'hola')\n"
     ]
    }
   ],
   "source": [
    "# imprimir tupla 1\n",
    "\n",
    "print(tupla_1)"
   ]
  },
  {
   "cell_type": "code",
   "execution_count": 4,
   "id": "e3b7ddf5",
   "metadata": {},
   "outputs": [
    {
     "name": "stdout",
     "output_type": "stream",
     "text": [
      "(6, 7, 8, 9, 'adios')\n"
     ]
    }
   ],
   "source": [
    "# imprimir tupla 2\n",
    "\n",
    "print(tupla_2)"
   ]
  },
  {
   "cell_type": "code",
   "execution_count": 5,
   "id": "cb9b25a7",
   "metadata": {},
   "outputs": [
    {
     "data": {
      "text/plain": [
       "tuple"
      ]
     },
     "execution_count": 5,
     "metadata": {},
     "output_type": "execute_result"
    }
   ],
   "source": [
    "# tipo de dato tupla1 \n",
    "\n",
    "type(tupla_1)"
   ]
  },
  {
   "cell_type": "code",
   "execution_count": 6,
   "id": "6ab862fd",
   "metadata": {},
   "outputs": [
    {
     "data": {
      "text/plain": [
       "tuple"
      ]
     },
     "execution_count": 6,
     "metadata": {},
     "output_type": "execute_result"
    }
   ],
   "source": [
    "# tipo de dato tupla2\n",
    "\n",
    "type(tupla_2)"
   ]
  },
  {
   "cell_type": "markdown",
   "id": "1e66ed52",
   "metadata": {},
   "source": [
    "## 2 - Acceso a elementos de una tupla"
   ]
  },
  {
   "cell_type": "markdown",
   "id": "105c1b23",
   "metadata": {},
   "source": [
    "El acceso a elementos de una tupla es exactamente igual que en las listas, se realiza con [] y el índice. También funciona el slicing de igual manera que en las listas."
   ]
  },
  {
   "cell_type": "code",
   "execution_count": 7,
   "id": "831adfe8",
   "metadata": {},
   "outputs": [
    {
     "data": {
      "text/plain": [
       "1"
      ]
     },
     "execution_count": 7,
     "metadata": {},
     "output_type": "execute_result"
    }
   ],
   "source": [
    "# primer elemento\n",
    "\n",
    "tupla_1[0]"
   ]
  },
  {
   "cell_type": "code",
   "execution_count": 8,
   "id": "8b23be11",
   "metadata": {},
   "outputs": [
    {
     "data": {
      "text/plain": [
       "'hola'"
      ]
     },
     "execution_count": 8,
     "metadata": {},
     "output_type": "execute_result"
    }
   ],
   "source": [
    "# ultimo elemento\n",
    "\n",
    "tupla_1[-1]"
   ]
  },
  {
   "cell_type": "code",
   "execution_count": 9,
   "id": "3f8c9cbe",
   "metadata": {},
   "outputs": [
    {
     "data": {
      "text/plain": [
       "(5, 1, 'hola')"
      ]
     },
     "execution_count": 9,
     "metadata": {},
     "output_type": "execute_result"
    }
   ],
   "source": [
    "# slicing, del tercero al octavo de tres en tres\n",
    "\n",
    "tupla_1[2:9:3]"
   ]
  },
  {
   "cell_type": "markdown",
   "id": "49da8012",
   "metadata": {},
   "source": [
    "## 3 - Métodos de las tuplas"
   ]
  },
  {
   "cell_type": "markdown",
   "id": "ab722c78",
   "metadata": {},
   "source": [
    "Las tuplas no cuentan con tantos métodos como las listas. Al ser inmutables, no se pueden añadir o insertar elementos, aunque sí podemos contar o preguntar el índice de un elemento."
   ]
  },
  {
   "cell_type": "markdown",
   "id": "7d0ddb69",
   "metadata": {},
   "source": [
    "### 3.1 - count\n",
    "\n",
    "Devuelve el número de veces que aparece el elemento especificado en la tupla."
   ]
  },
  {
   "cell_type": "code",
   "execution_count": 11,
   "id": "b45d1696",
   "metadata": {},
   "outputs": [
    {
     "data": {
      "text/plain": [
       "4"
      ]
     },
     "execution_count": 11,
     "metadata": {},
     "output_type": "execute_result"
    }
   ],
   "source": [
    "# ¿cuantas veces esta el 1 un la tupla?\n",
    "\n",
    "tupla_1.count(1)"
   ]
  },
  {
   "cell_type": "markdown",
   "id": "251adea6",
   "metadata": {},
   "source": [
    "### 3.2 - index\n",
    "\n",
    "Devuelve el índice de la primera ocurrencia del elemento especificado en la tupla."
   ]
  },
  {
   "cell_type": "code",
   "execution_count": 13,
   "id": "ae0d4d8a",
   "metadata": {},
   "outputs": [
    {
     "data": {
      "text/plain": [
       "8"
      ]
     },
     "execution_count": 13,
     "metadata": {},
     "output_type": "execute_result"
    }
   ],
   "source": [
    "# ¿que posicion ocupa la palabra 'hola'?\n",
    "\n",
    "tupla_1.index('hola')"
   ]
  },
  {
   "cell_type": "code",
   "execution_count": null,
   "id": "e1760a0f",
   "metadata": {},
   "outputs": [],
   "source": []
  }
 ],
 "metadata": {
  "kernelspec": {
   "display_name": "ia",
   "language": "python",
   "name": "ia"
  },
  "language_info": {
   "codemirror_mode": {
    "name": "ipython",
    "version": 3
   },
   "file_extension": ".py",
   "mimetype": "text/x-python",
   "name": "python",
   "nbconvert_exporter": "python",
   "pygments_lexer": "ipython3",
   "version": "3.9.19"
  },
  "toc": {
   "base_numbering": 1,
   "nav_menu": {},
   "number_sections": false,
   "sideBar": true,
   "skip_h1_title": true,
   "title_cell": "Tabla de Contenidos",
   "title_sidebar": "Contents",
   "toc_cell": true,
   "toc_position": {
    "height": "calc(100% - 180px)",
    "left": "10px",
    "top": "150px",
    "width": "273.759px"
   },
   "toc_section_display": true,
   "toc_window_display": true
  }
 },
 "nbformat": 4,
 "nbformat_minor": 5
}
