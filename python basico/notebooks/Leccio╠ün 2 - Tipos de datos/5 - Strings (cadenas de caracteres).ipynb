{
 "cells": [
  {
   "cell_type": "markdown",
   "id": "cf4db514",
   "metadata": {},
   "source": [
    "# 5 - Strings (cadenas de caracteres)\n",
    "\n",
    "<br>\n",
    "<br>\n",
    "\n",
    "<img src=\"https://raw.githubusercontent.com/Hack-io-AI/ai_images/main/python_strings.webp\" style=\"width:400px;\"/>"
   ]
  },
  {
   "cell_type": "markdown",
   "id": "82a8d2bf",
   "metadata": {
    "toc": true
   },
   "source": [
    "<h1>Tabla de Contenidos<span class=\"tocSkip\"></span></h1>\n",
    "<div class=\"toc\"><ul class=\"toc-item\"><li><span><a href=\"#1---Strings-(cadenas-de-caracteres)\" data-toc-modified-id=\"1---Strings-(cadenas-de-caracteres)-1\">1 - Strings (cadenas de caracteres)</a></span></li></ul></div>"
   ]
  },
  {
   "cell_type": "markdown",
   "id": "c52958cd",
   "metadata": {},
   "source": [
    "### 1 - Strings (cadenas de caracteres)"
   ]
  },
  {
   "cell_type": "markdown",
   "id": "f6df6ad1",
   "metadata": {},
   "source": [
    "Las strings, o cadenas de caracteres, en Python son una secuencia de caracteres utilizados para representar texto. Son uno de los tipos de datos más comunes y esenciales en la programación. En Python, las strings se pueden definir utilizando comillas simples ('...') o comillas dobles (\"...\"). Debemos de tener cuidado con esto, pues puede ser que queramos la propia comilla dentro del texto y en ese caso debemos seleccionar un tipo de comillas o el otro. Aún así, las buenas prácticas es elegir una de ellas y ser consistente. También se pueden usar comillas triples ('''...''' o \"\"\"...\"\"\") para definir strings que abarcan múltiples líneas, un párrafo. La triple comilla se puede usar también para tener un comentario multilínea, la almohadilla es el comentario de una línea."
   ]
  },
  {
   "cell_type": "code",
   "execution_count": 1,
   "id": "b1c85680",
   "metadata": {},
   "outputs": [],
   "source": [
    "# definimos un nombre en string\n",
    "\n",
    "nombre = 'Pepe'"
   ]
  },
  {
   "cell_type": "code",
   "execution_count": 2,
   "id": "d21620d6",
   "metadata": {},
   "outputs": [
    {
     "name": "stdout",
     "output_type": "stream",
     "text": [
      "Pepe\n"
     ]
    }
   ],
   "source": [
    "# imprimir el valor \n",
    "\n",
    "print(nombre)"
   ]
  },
  {
   "cell_type": "code",
   "execution_count": 3,
   "id": "4d2f995f",
   "metadata": {},
   "outputs": [
    {
     "data": {
      "text/plain": [
       "str"
      ]
     },
     "execution_count": 3,
     "metadata": {},
     "output_type": "execute_result"
    }
   ],
   "source": [
    "# tipo de dato\n",
    "\n",
    "type(nombre)"
   ]
  },
  {
   "cell_type": "code",
   "execution_count": 5,
   "id": "3aaf5ee8",
   "metadata": {},
   "outputs": [],
   "source": [
    "# definimos un nombre en string\n",
    "\n",
    "nombre2 = \"Maria\""
   ]
  },
  {
   "cell_type": "code",
   "execution_count": 6,
   "id": "a7eb52ff",
   "metadata": {},
   "outputs": [
    {
     "name": "stdout",
     "output_type": "stream",
     "text": [
      "Maria\n"
     ]
    }
   ],
   "source": [
    "# imprimir el valor \n",
    "\n",
    "print(nombre2)"
   ]
  },
  {
   "cell_type": "code",
   "execution_count": 7,
   "id": "c26fb787",
   "metadata": {},
   "outputs": [
    {
     "data": {
      "text/plain": [
       "str"
      ]
     },
     "execution_count": 7,
     "metadata": {},
     "output_type": "execute_result"
    }
   ],
   "source": [
    "# tipo de dato\n",
    "\n",
    "type(nombre2)"
   ]
  },
  {
   "cell_type": "code",
   "execution_count": 8,
   "id": "5ca54c1d",
   "metadata": {},
   "outputs": [],
   "source": [
    "# definimos una string con triple comilla\n",
    "\n",
    "parrafo = '''Los alegres \n",
    "             codeando en Python'''"
   ]
  },
  {
   "cell_type": "code",
   "execution_count": 9,
   "id": "d3c9082f",
   "metadata": {},
   "outputs": [
    {
     "name": "stdout",
     "output_type": "stream",
     "text": [
      "Los alegres \n",
      "             codeando en Python\n"
     ]
    }
   ],
   "source": [
    "# imprimir el valor \n",
    "\n",
    "print(parrafo)"
   ]
  },
  {
   "cell_type": "code",
   "execution_count": 10,
   "id": "c6b1545c",
   "metadata": {},
   "outputs": [
    {
     "data": {
      "text/plain": [
       "'Los alegres \\n             codeando en Python'"
      ]
     },
     "metadata": {},
     "output_type": "display_data"
    }
   ],
   "source": [
    "# display, la ultima fila de una casilla del notebook hace display\n",
    "\n",
    "display(parrafo)"
   ]
  },
  {
   "cell_type": "code",
   "execution_count": 11,
   "id": "1bf622ac",
   "metadata": {},
   "outputs": [
    {
     "name": "stdout",
     "output_type": "stream",
     "text": [
      "Maria\n"
     ]
    }
   ],
   "source": [
    "# esto es un comentario y no se ejecuta\n",
    "\n",
    "print(nombre)"
   ]
  },
  {
   "cell_type": "code",
   "execution_count": 12,
   "id": "2fcd8e16",
   "metadata": {},
   "outputs": [
    {
     "name": "stdout",
     "output_type": "stream",
     "text": [
      "Maria\n"
     ]
    }
   ],
   "source": [
    "\"\"\"ESto es un comentario\n",
    "multilinea, tampoco se ejecuta\"\"\"\n",
    "\n",
    "print(nombre)"
   ]
  },
  {
   "cell_type": "code",
   "execution_count": null,
   "id": "c6ad018c",
   "metadata": {},
   "outputs": [],
   "source": []
  }
 ],
 "metadata": {
  "kernelspec": {
   "display_name": "Python [conda env:base] *",
   "language": "python",
   "name": "conda-base-py"
  },
  "language_info": {
   "codemirror_mode": {
    "name": "ipython",
    "version": 3
   },
   "file_extension": ".py",
   "mimetype": "text/x-python",
   "name": "python",
   "nbconvert_exporter": "python",
   "pygments_lexer": "ipython3",
   "version": "3.12.7"
  },
  "toc": {
   "base_numbering": 1,
   "nav_menu": {},
   "number_sections": false,
   "sideBar": true,
   "skip_h1_title": true,
   "title_cell": "Tabla de Contenidos",
   "title_sidebar": "Contents",
   "toc_cell": true,
   "toc_position": {
    "height": "calc(100% - 180px)",
    "left": "10px",
    "top": "150px",
    "width": "271.649px"
   },
   "toc_section_display": true,
   "toc_window_display": true
  }
 },
 "nbformat": 4,
 "nbformat_minor": 5
}
