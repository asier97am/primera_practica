{
 "cells": [
  {
   "cell_type": "markdown",
   "id": "3906d45f",
   "metadata": {},
   "source": [
    "# 3 - Números complejos\n",
    "\n",
    "\n",
    "<br>\n",
    "<br>\n",
    "\n",
    "<img src=\"https://raw.githubusercontent.com/Hack-io-AI/ai_images/main/python_complex.webp\" style=\"width:400px;\"/>"
   ]
  },
  {
   "cell_type": "markdown",
   "id": "4d9b6271",
   "metadata": {
    "toc": true
   },
   "source": [
    "<h1>Tabla de Contenidos<span class=\"tocSkip\"></span></h1>\n",
    "<div class=\"toc\"><ul class=\"toc-item\"><li><span><a href=\"#1---Números-complejos\" data-toc-modified-id=\"1---Números-complejos-1\">1 - Números complejos</a></span></li></ul></div>"
   ]
  },
  {
   "cell_type": "markdown",
   "id": "210dbf99",
   "metadata": {},
   "source": [
    "### 1 - Números complejos"
   ]
  },
  {
   "cell_type": "markdown",
   "id": "3c05ca92",
   "metadata": {},
   "source": [
    "El número imaginario en Python se representa con `1j`, es la raíz cuadrada de menos uno. Los números complejos $\\mathbb{C}$ son números que tienen una parte real y una parte imaginaria. En Python, los números complejos se representan utilizando la clase complex. La parte real y la parte imaginaria de un número complejo se almacenan como números de punto flotante.\n"
   ]
  },
  {
   "cell_type": "code",
   "execution_count": 1,
   "id": "7d5dd825",
   "metadata": {},
   "outputs": [],
   "source": [
    "# número imaginario\n",
    "\n",
    "i = 1j"
   ]
  },
  {
   "cell_type": "code",
   "execution_count": 2,
   "id": "837831f5",
   "metadata": {},
   "outputs": [
    {
     "name": "stdout",
     "output_type": "stream",
     "text": [
      "1j\n"
     ]
    }
   ],
   "source": [
    "# imprimimos su valor\n",
    "\n",
    "print(i)"
   ]
  },
  {
   "cell_type": "code",
   "execution_count": 3,
   "id": "81e79816",
   "metadata": {},
   "outputs": [
    {
     "data": {
      "text/plain": [
       "complex"
      ]
     },
     "execution_count": 3,
     "metadata": {},
     "output_type": "execute_result"
    }
   ],
   "source": [
    "# comprobación del tipo de dato, complex\n",
    "\n",
    "type(i)"
   ]
  },
  {
   "cell_type": "code",
   "execution_count": 4,
   "id": "430ea450",
   "metadata": {},
   "outputs": [],
   "source": [
    "# número complejo\n",
    "\n",
    "complejo = 3 + 6j"
   ]
  },
  {
   "cell_type": "code",
   "execution_count": 5,
   "id": "311fc64d",
   "metadata": {},
   "outputs": [
    {
     "name": "stdout",
     "output_type": "stream",
     "text": [
      "(3+6j)\n"
     ]
    }
   ],
   "source": [
    "# imprimimos su valor\n",
    "\n",
    "print(complejo)"
   ]
  },
  {
   "cell_type": "code",
   "execution_count": 6,
   "id": "d5f8fab4",
   "metadata": {},
   "outputs": [
    {
     "data": {
      "text/plain": [
       "complex"
      ]
     },
     "execution_count": 6,
     "metadata": {},
     "output_type": "execute_result"
    }
   ],
   "source": [
    "# comprobación del tipo de dato, complex\n",
    "\n",
    "type(complejo)"
   ]
  },
  {
   "cell_type": "code",
   "execution_count": 7,
   "id": "05580cf4",
   "metadata": {},
   "outputs": [
    {
     "name": "stdout",
     "output_type": "stream",
     "text": [
      "3.0\n"
     ]
    }
   ],
   "source": [
    "# parte real\n",
    "\n",
    "print(complejo.real)"
   ]
  },
  {
   "cell_type": "code",
   "execution_count": 8,
   "id": "a0bc1a4f",
   "metadata": {},
   "outputs": [
    {
     "name": "stdout",
     "output_type": "stream",
     "text": [
      "6.0\n"
     ]
    }
   ],
   "source": [
    "# parte imaginaria\n",
    "\n",
    "print(complejo.imag)"
   ]
  }
 ],
 "metadata": {
  "kernelspec": {
   "display_name": "ia",
   "language": "python",
   "name": "ia"
  },
  "language_info": {
   "codemirror_mode": {
    "name": "ipython",
    "version": 3
   },
   "file_extension": ".py",
   "mimetype": "text/x-python",
   "name": "python",
   "nbconvert_exporter": "python",
   "pygments_lexer": "ipython3",
   "version": "3.9.19"
  },
  "toc": {
   "base_numbering": 1,
   "nav_menu": {},
   "number_sections": false,
   "sideBar": true,
   "skip_h1_title": true,
   "title_cell": "Tabla de Contenidos",
   "title_sidebar": "Contents",
   "toc_cell": true,
   "toc_position": {
    "height": "calc(100% - 180px)",
    "left": "10px",
    "top": "150px",
    "width": "221.884px"
   },
   "toc_section_display": true,
   "toc_window_display": true
  }
 },
 "nbformat": 4,
 "nbformat_minor": 5
}
