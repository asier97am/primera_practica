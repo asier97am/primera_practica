{
 "cells": [
  {
   "cell_type": "markdown",
   "id": "8c7e6399",
   "metadata": {},
   "source": [
    "# 6 - Valores Nulos\n",
    "\n",
    "<br>\n",
    "<br>\n",
    "\n",
    "<img src=\"https://raw.githubusercontent.com/Hack-io-AI/ai_images/main/python_none.webp\" style=\"width:400px;\"/>"
   ]
  },
  {
   "cell_type": "markdown",
   "id": "4102acf0",
   "metadata": {
    "toc": true
   },
   "source": [
    "<h1>Tabla de Contenidos<span class=\"tocSkip\"></span></h1>\n",
    "<div class=\"toc\"><ul class=\"toc-item\"><li><span><a href=\"#1---Valores-Nulos\" data-toc-modified-id=\"1---Valores-Nulos-1\">1 - Valores Nulos</a></span></li></ul></div>"
   ]
  },
  {
   "cell_type": "markdown",
   "id": "6da4b926",
   "metadata": {},
   "source": [
    "### 1 - Valores Nulos"
   ]
  },
  {
   "cell_type": "markdown",
   "id": "6b13eabf",
   "metadata": {},
   "source": [
    "En Python, el valor nulo se representa con la palabra clave `None`. Es un objeto especial que se utiliza para denotar la ausencia de un valor o un valor nulo. None es un tipo de dato en sí mismo, `NoneType`, y es la única instancia de este tipo."
   ]
  },
  {
   "cell_type": "code",
   "execution_count": 1,
   "id": "eea32fd8",
   "metadata": {},
   "outputs": [],
   "source": [
    "# definimos un valor nulo\n",
    "\n",
    "nulo = None"
   ]
  },
  {
   "cell_type": "code",
   "execution_count": 2,
   "id": "225d3b77",
   "metadata": {},
   "outputs": [
    {
     "name": "stdout",
     "output_type": "stream",
     "text": [
      "None\n"
     ]
    }
   ],
   "source": [
    "# lo imprimimos \n",
    "\n",
    "print(nulo)"
   ]
  },
  {
   "cell_type": "code",
   "execution_count": 3,
   "id": "0c7467c4",
   "metadata": {},
   "outputs": [
    {
     "data": {
      "text/plain": [
       "NoneType"
      ]
     },
     "execution_count": 3,
     "metadata": {},
     "output_type": "execute_result"
    }
   ],
   "source": [
    "# comprobación del tipo de dato, NoneType\n",
    "\n",
    "type(nulo)"
   ]
  }
 ],
 "metadata": {
  "kernelspec": {
   "display_name": "ia",
   "language": "python",
   "name": "ia"
  },
  "language_info": {
   "codemirror_mode": {
    "name": "ipython",
    "version": 3
   },
   "file_extension": ".py",
   "mimetype": "text/x-python",
   "name": "python",
   "nbconvert_exporter": "python",
   "pygments_lexer": "ipython3",
   "version": "3.9.19"
  },
  "toc": {
   "base_numbering": 1,
   "nav_menu": {},
   "number_sections": false,
   "sideBar": true,
   "skip_h1_title": true,
   "title_cell": "Tabla de Contenidos",
   "title_sidebar": "Contents",
   "toc_cell": true,
   "toc_position": {
    "height": "calc(100% - 180px)",
    "left": "10px",
    "top": "150px",
    "width": "206.884px"
   },
   "toc_section_display": true,
   "toc_window_display": true
  }
 },
 "nbformat": 4,
 "nbformat_minor": 5
}
