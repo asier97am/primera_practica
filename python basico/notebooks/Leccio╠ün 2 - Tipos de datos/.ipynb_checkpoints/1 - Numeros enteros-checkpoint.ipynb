{
 "cells": [
  {
   "cell_type": "markdown",
   "id": "2878a432",
   "metadata": {},
   "source": [
    "# 1 - Números enteros\n",
    "\n",
    "\n",
    "<br>\n",
    "<br>\n",
    "\n",
    "<img src=\"https://raw.githubusercontent.com/Hack-io-AI/ai_images/main/python_integer.webp\" style=\"width:400px;\"/>"
   ]
  },
  {
   "cell_type": "markdown",
   "id": "51a793a6",
   "metadata": {
    "toc": true
   },
   "source": [
    "<h1>Tabla de Contenidos<span class=\"tocSkip\"></span></h1>\n",
    "<div class=\"toc\"><ul class=\"toc-item\"><li><span><a href=\"#1---Números-enteros-(integer)\" data-toc-modified-id=\"1---Números-enteros-(integer)-1\">1 - Números enteros (integer)</a></span></li></ul></div>"
   ]
  },
  {
   "cell_type": "markdown",
   "id": "c6256a63",
   "metadata": {},
   "source": [
    "## 1 - Números enteros (integer)"
   ]
  },
  {
   "cell_type": "markdown",
   "id": "94ad91f1",
   "metadata": {},
   "source": [
    "Los números enteros $\\mathbb{Z}$ en Python son uno de los tipos de datos más básicos y se utilizan para representar números sin parte decimal. Python maneja los enteros de una manera flexible, permitiendo una amplia gama de operaciones aritméticas y lógicas. Definiremos una variable con tipo de dato entero y usaremos las funciones **[print](https://docs.python.org/3/library/functions.html#print)** para imprimir su valor y **[type](https://docs.python.org/3/library/functions.html#type)** para ver su tipo de dato."
   ]
  },
  {
   "cell_type": "code",
   "execution_count": null,
   "id": "45c2ec16",
   "metadata": {},
   "outputs": [],
   "source": []
  },
  {
   "cell_type": "code",
   "execution_count": null,
   "id": "664b9baf",
   "metadata": {},
   "outputs": [],
   "source": []
  },
  {
   "cell_type": "code",
   "execution_count": null,
   "id": "92b3b86b",
   "metadata": {},
   "outputs": [],
   "source": []
  },
  {
   "cell_type": "markdown",
   "id": "400ca207",
   "metadata": {},
   "source": [
    "Por supuesto, los números enteros son positivos, negativos o cero, sin parte decimal:"
   ]
  },
  {
   "cell_type": "code",
   "execution_count": null,
   "id": "8f1f4787",
   "metadata": {},
   "outputs": [],
   "source": []
  },
  {
   "cell_type": "code",
   "execution_count": null,
   "id": "80ef4ed6",
   "metadata": {},
   "outputs": [],
   "source": []
  },
  {
   "cell_type": "code",
   "execution_count": null,
   "id": "92ef0913",
   "metadata": {},
   "outputs": [],
   "source": []
  },
  {
   "cell_type": "code",
   "execution_count": null,
   "id": "edfbe5c2",
   "metadata": {},
   "outputs": [],
   "source": []
  },
  {
   "cell_type": "code",
   "execution_count": null,
   "id": "2db133db",
   "metadata": {},
   "outputs": [],
   "source": []
  },
  {
   "cell_type": "code",
   "execution_count": null,
   "id": "59b7181d",
   "metadata": {},
   "outputs": [],
   "source": []
  },
  {
   "cell_type": "code",
   "execution_count": null,
   "id": "796a8877",
   "metadata": {},
   "outputs": [],
   "source": []
  },
  {
   "cell_type": "markdown",
   "id": "c5a895db",
   "metadata": {},
   "source": [
    "Cuando escribimos números muy grandes, solemos separar los números en bloques de rtes cifras para poder leerlos mejor. En Python también podemos hacer esto con la barra baja, el underscore `_`. Esto no afecta a su tipo de dato. Veámos cómo:"
   ]
  },
  {
   "cell_type": "code",
   "execution_count": null,
   "id": "80bd19ac",
   "metadata": {},
   "outputs": [],
   "source": []
  },
  {
   "cell_type": "code",
   "execution_count": null,
   "id": "ad5ad5a5",
   "metadata": {},
   "outputs": [],
   "source": []
  }
 ],
 "metadata": {
  "kernelspec": {
   "display_name": "ia",
   "language": "python",
   "name": "ia"
  },
  "language_info": {
   "codemirror_mode": {
    "name": "ipython",
    "version": 3
   },
   "file_extension": ".py",
   "mimetype": "text/x-python",
   "name": "python",
   "nbconvert_exporter": "python",
   "pygments_lexer": "ipython3",
   "version": "3.9.19"
  },
  "toc": {
   "base_numbering": 1,
   "nav_menu": {},
   "number_sections": false,
   "sideBar": true,
   "skip_h1_title": true,
   "title_cell": "Tabla de Contenidos",
   "title_sidebar": "Contents",
   "toc_cell": true,
   "toc_position": {
    "height": "calc(100% - 180px)",
    "left": "10px",
    "top": "150px",
    "width": "228.872px"
   },
   "toc_section_display": true,
   "toc_window_display": true
  }
 },
 "nbformat": 4,
 "nbformat_minor": 5
}
