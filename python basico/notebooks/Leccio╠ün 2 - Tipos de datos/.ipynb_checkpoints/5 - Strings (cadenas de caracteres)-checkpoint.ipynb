{
 "cells": [
  {
   "cell_type": "markdown",
   "id": "cf4db514",
   "metadata": {},
   "source": [
    "# 5 - Strings (cadenas de caracteres)\n",
    "\n",
    "<br>\n",
    "<br>\n",
    "\n",
    "<img src=\"https://raw.githubusercontent.com/Hack-io-AI/ai_images/main/python_strings.webp\" style=\"width:400px;\"/>"
   ]
  },
  {
   "cell_type": "markdown",
   "id": "82a8d2bf",
   "metadata": {
    "toc": true
   },
   "source": [
    "<h1>Tabla de Contenidos<span class=\"tocSkip\"></span></h1>\n",
    "<div class=\"toc\"><ul class=\"toc-item\"><li><span><a href=\"#1---Strings-(cadenas-de-caracteres)\" data-toc-modified-id=\"1---Strings-(cadenas-de-caracteres)-1\">1 - Strings (cadenas de caracteres)</a></span></li></ul></div>"
   ]
  },
  {
   "cell_type": "markdown",
   "id": "c52958cd",
   "metadata": {},
   "source": [
    "### 1 - Strings (cadenas de caracteres)"
   ]
  },
  {
   "cell_type": "markdown",
   "id": "f6df6ad1",
   "metadata": {},
   "source": [
    "Las strings, o cadenas de caracteres, en Python son una secuencia de caracteres utilizados para representar texto. Son uno de los tipos de datos más comunes y esenciales en la programación. En Python, las strings se pueden definir utilizando comillas simples ('...') o comillas dobles (\"...\"). Debemos de tener cuidado con esto, pues puede ser que queramos la propia comilla dentro del texto y en ese caso debemos seleccionar un tipo de comillas o el otro. Aún así, las buenas prácticas es elegir una de ellas y ser consistente. También se pueden usar comillas triples ('''...''' o \"\"\"...\"\"\") para definir strings que abarcan múltiples líneas, un párrafo. La triple comilla se puede usar también para tener un comentario multilínea, la almohadilla es el comentario de una línea."
   ]
  },
  {
   "cell_type": "code",
   "execution_count": null,
   "id": "b1c85680",
   "metadata": {},
   "outputs": [],
   "source": []
  },
  {
   "cell_type": "code",
   "execution_count": null,
   "id": "d21620d6",
   "metadata": {},
   "outputs": [],
   "source": []
  },
  {
   "cell_type": "code",
   "execution_count": null,
   "id": "4d2f995f",
   "metadata": {},
   "outputs": [],
   "source": []
  },
  {
   "cell_type": "code",
   "execution_count": null,
   "id": "3aaf5ee8",
   "metadata": {},
   "outputs": [],
   "source": []
  },
  {
   "cell_type": "code",
   "execution_count": null,
   "id": "a7eb52ff",
   "metadata": {},
   "outputs": [],
   "source": []
  },
  {
   "cell_type": "code",
   "execution_count": null,
   "id": "c26fb787",
   "metadata": {},
   "outputs": [],
   "source": []
  },
  {
   "cell_type": "code",
   "execution_count": null,
   "id": "5ca54c1d",
   "metadata": {},
   "outputs": [],
   "source": []
  },
  {
   "cell_type": "code",
   "execution_count": null,
   "id": "d3c9082f",
   "metadata": {},
   "outputs": [],
   "source": []
  },
  {
   "cell_type": "code",
   "execution_count": null,
   "id": "c6b1545c",
   "metadata": {},
   "outputs": [],
   "source": []
  },
  {
   "cell_type": "code",
   "execution_count": null,
   "id": "1bf622ac",
   "metadata": {},
   "outputs": [],
   "source": []
  },
  {
   "cell_type": "code",
   "execution_count": null,
   "id": "2fcd8e16",
   "metadata": {},
   "outputs": [],
   "source": []
  }
 ],
 "metadata": {
  "kernelspec": {
   "display_name": "ia",
   "language": "python",
   "name": "ia"
  },
  "language_info": {
   "codemirror_mode": {
    "name": "ipython",
    "version": 3
   },
   "file_extension": ".py",
   "mimetype": "text/x-python",
   "name": "python",
   "nbconvert_exporter": "python",
   "pygments_lexer": "ipython3",
   "version": "3.9.19"
  },
  "toc": {
   "base_numbering": 1,
   "nav_menu": {},
   "number_sections": false,
   "sideBar": true,
   "skip_h1_title": true,
   "title_cell": "Tabla de Contenidos",
   "title_sidebar": "Contents",
   "toc_cell": true,
   "toc_position": {
    "height": "calc(100% - 180px)",
    "left": "10px",
    "top": "150px",
    "width": "302.769px"
   },
   "toc_section_display": true,
   "toc_window_display": true
  }
 },
 "nbformat": 4,
 "nbformat_minor": 5
}
