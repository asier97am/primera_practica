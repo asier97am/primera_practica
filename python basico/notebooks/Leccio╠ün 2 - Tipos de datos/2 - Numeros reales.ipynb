{
 "cells": [
  {
   "cell_type": "markdown",
   "id": "0b591d96",
   "metadata": {},
   "source": [
    "# 2 - Números reales\n",
    "\n",
    "\n",
    "<br>\n",
    "<br>\n",
    "\n",
    "<img src=\"https://raw.githubusercontent.com/Hack-io-AI/ai_images/main/python_real.webp\" style=\"width:400px;\"/>"
   ]
  },
  {
   "cell_type": "markdown",
   "id": "35f50931",
   "metadata": {
    "toc": true
   },
   "source": [
    "<h1>Tabla de Contenidos<span class=\"tocSkip\"></span></h1>\n",
    "<div class=\"toc\"><ul class=\"toc-item\"><li><span><a href=\"#1---Números-reales\" data-toc-modified-id=\"1---Números-reales-1\">1 - Números reales</a></span></li></ul></div>"
   ]
  },
  {
   "cell_type": "markdown",
   "id": "a9b07347",
   "metadata": {},
   "source": [
    "### 1 - Números reales"
   ]
  },
  {
   "cell_type": "markdown",
   "id": "f353d04c",
   "metadata": {},
   "source": [
    "Los números reales $\\mathbb{R}$ en Python se representan utilizando el tipo de datos de punto flotante, de ahí que el tipo de dato se llame float. Este tipo de datos permite almacenar números con decimales, lo cual es útil para una amplia gama de aplicaciones científicas, financieras y de ingeniería. Definamos algunas variables con números reales y veamos su tipo de dato."
   ]
  },
  {
   "cell_type": "code",
   "execution_count": 1,
   "id": "eb10c93e",
   "metadata": {},
   "outputs": [],
   "source": [
    "# definir una variable real\n",
    "\n",
    "numero = 3.141592"
   ]
  },
  {
   "cell_type": "code",
   "execution_count": 2,
   "id": "cee5e599",
   "metadata": {},
   "outputs": [
    {
     "name": "stdout",
     "output_type": "stream",
     "text": [
      "3.141592\n"
     ]
    }
   ],
   "source": [
    "# imprimir su valor\n",
    "\n",
    "print(numero)"
   ]
  },
  {
   "cell_type": "code",
   "execution_count": 3,
   "id": "ee71b896",
   "metadata": {},
   "outputs": [
    {
     "name": "stdout",
     "output_type": "stream",
     "text": [
      "<class 'float'>\n"
     ]
    }
   ],
   "source": [
    "# ver el tipo de dato\n",
    "\n",
    "print(type(numero))"
   ]
  },
  {
   "cell_type": "markdown",
   "id": "d97aa1f8",
   "metadata": {},
   "source": [
    "De nuevo, los números reales son positivos, negativos o cero, pero con parte decimal."
   ]
  },
  {
   "cell_type": "code",
   "execution_count": 4,
   "id": "1ea0f7cb",
   "metadata": {},
   "outputs": [],
   "source": [
    "# numero real negativo\n",
    "\n",
    "negativo = -2.1618"
   ]
  },
  {
   "cell_type": "code",
   "execution_count": 5,
   "id": "063df503",
   "metadata": {},
   "outputs": [
    {
     "name": "stdout",
     "output_type": "stream",
     "text": [
      "-2.1618\n"
     ]
    }
   ],
   "source": [
    "# imprimir su valor\n",
    "\n",
    "print(negativo)"
   ]
  },
  {
   "cell_type": "code",
   "execution_count": 6,
   "id": "9f3d0433",
   "metadata": {},
   "outputs": [
    {
     "name": "stdout",
     "output_type": "stream",
     "text": [
      "<class 'float'>\n"
     ]
    }
   ],
   "source": [
    "# ver el tipo de dato\n",
    "\n",
    "print(type(negativo))"
   ]
  },
  {
   "cell_type": "code",
   "execution_count": 7,
   "id": "be8de6dd",
   "metadata": {},
   "outputs": [],
   "source": [
    "# el cero\n",
    "\n",
    "cero = 0.0"
   ]
  },
  {
   "cell_type": "code",
   "execution_count": 8,
   "id": "bc1ef86d",
   "metadata": {},
   "outputs": [
    {
     "name": "stdout",
     "output_type": "stream",
     "text": [
      "0.0\n"
     ]
    }
   ],
   "source": [
    "# imprimir su valor\n",
    "\n",
    "print(cero)"
   ]
  },
  {
   "cell_type": "code",
   "execution_count": 9,
   "id": "2321377b",
   "metadata": {},
   "outputs": [
    {
     "name": "stdout",
     "output_type": "stream",
     "text": [
      "<class 'float'>\n"
     ]
    }
   ],
   "source": [
    "# ver el tipo de dato\n",
    "\n",
    "print(type(cero))"
   ]
  },
  {
   "cell_type": "markdown",
   "id": "d52ab5d7",
   "metadata": {},
   "source": [
    "Para números menores que cero, o números que tienen parte decimal igual a cero, podemos usar el punto directamente sin escribir el resto. Veámos a qué nos referimos:"
   ]
  },
  {
   "cell_type": "code",
   "execution_count": 10,
   "id": "a3f25379",
   "metadata": {},
   "outputs": [],
   "source": [
    "# parte decimal igual a cero\n",
    "\n",
    "numero = 4."
   ]
  },
  {
   "cell_type": "code",
   "execution_count": 11,
   "id": "e9bc485e",
   "metadata": {},
   "outputs": [
    {
     "name": "stdout",
     "output_type": "stream",
     "text": [
      "4.0\n"
     ]
    }
   ],
   "source": [
    "# imprimir su valor\n",
    "\n",
    "print(numero)"
   ]
  },
  {
   "cell_type": "code",
   "execution_count": 12,
   "id": "5c62dd10",
   "metadata": {},
   "outputs": [
    {
     "name": "stdout",
     "output_type": "stream",
     "text": [
      "<class 'float'>\n"
     ]
    }
   ],
   "source": [
    "# ver el tipo de dato\n",
    "\n",
    "print(type(numero))"
   ]
  },
  {
   "cell_type": "code",
   "execution_count": 13,
   "id": "1ab649ca",
   "metadata": {},
   "outputs": [],
   "source": [
    "# numero con parte entera igual a cero\n",
    "\n",
    "numero = .45677"
   ]
  },
  {
   "cell_type": "code",
   "execution_count": 14,
   "id": "7de79d61",
   "metadata": {},
   "outputs": [
    {
     "name": "stdout",
     "output_type": "stream",
     "text": [
      "0.45677\n"
     ]
    }
   ],
   "source": [
    "# imprimir su valor\n",
    "\n",
    "print(numero)"
   ]
  },
  {
   "cell_type": "code",
   "execution_count": 15,
   "id": "bf78caf5",
   "metadata": {},
   "outputs": [
    {
     "name": "stdout",
     "output_type": "stream",
     "text": [
      "<class 'float'>\n"
     ]
    }
   ],
   "source": [
    "# ver el tipo de dato\n",
    "\n",
    "print(type(numero))"
   ]
  },
  {
   "cell_type": "code",
   "execution_count": 16,
   "id": "18fc0641",
   "metadata": {},
   "outputs": [],
   "source": [
    "numero = 0.45677"
   ]
  },
  {
   "cell_type": "code",
   "execution_count": 17,
   "id": "37f0d540",
   "metadata": {},
   "outputs": [],
   "source": [
    "numero = 4.0"
   ]
  },
  {
   "cell_type": "code",
   "execution_count": null,
   "id": "16212b5d",
   "metadata": {},
   "outputs": [],
   "source": []
  }
 ],
 "metadata": {
  "kernelspec": {
   "display_name": "Python [conda env:base] *",
   "language": "python",
   "name": "conda-base-py"
  },
  "language_info": {
   "codemirror_mode": {
    "name": "ipython",
    "version": 3
   },
   "file_extension": ".py",
   "mimetype": "text/x-python",
   "name": "python",
   "nbconvert_exporter": "python",
   "pygments_lexer": "ipython3",
   "version": "3.12.7"
  },
  "toc": {
   "base_numbering": 1,
   "nav_menu": {},
   "number_sections": false,
   "sideBar": true,
   "skip_h1_title": true,
   "title_cell": "Tabla de Contenidos",
   "title_sidebar": "Contents",
   "toc_cell": true,
   "toc_position": {
    "height": "calc(100% - 180px)",
    "left": "10px",
    "top": "150px",
    "width": "259.87px"
   },
   "toc_section_display": true,
   "toc_window_display": true
  }
 },
 "nbformat": 4,
 "nbformat_minor": 5
}
