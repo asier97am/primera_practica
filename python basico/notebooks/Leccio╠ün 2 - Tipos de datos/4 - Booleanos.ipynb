{
 "cells": [
  {
   "cell_type": "markdown",
   "id": "5d28f062",
   "metadata": {},
   "source": [
    "# 4 - Booleanos\n",
    "\n",
    "\n",
    "<br>\n",
    "<br>\n",
    "\n",
    "<img src=\"https://raw.githubusercontent.com/Hack-io-AI/ai_images/main/python_boolean.webp\" style=\"width:400px;\"/>"
   ]
  },
  {
   "cell_type": "markdown",
   "id": "55d49b53",
   "metadata": {
    "toc": true
   },
   "source": [
    "<h1>Tabla de Contenidos<span class=\"tocSkip\"></span></h1>\n",
    "<div class=\"toc\"><ul class=\"toc-item\"><li><span><a href=\"#1---Booleanos\" data-toc-modified-id=\"1---Booleanos-1\">1 - Booleanos</a></span></li></ul></div>"
   ]
  },
  {
   "cell_type": "markdown",
   "id": "fc1a7590",
   "metadata": {},
   "source": [
    "### 1 - Booleanos"
   ]
  },
  {
   "cell_type": "markdown",
   "id": "20f4f408",
   "metadata": {},
   "source": [
    "Los booleanos son un tipo de datos en Python que pueden tener uno de dos valores: `True` o `False`. Estos valores se utilizan para representar la verdad o falsedad de una condición y son fundamentales para el control de flujo en la programación, como en las sentencias condicionales y los bucles. Entender cómo utilizar valores booleanos, operadores lógicos y sentencias condicionales nos permitirá escribir código más efectivo y claro. Python facilita el trabajo con booleanos, proporcionando una sintaxis intuitiva y funciones útiles para convertir y manipular valores booleanos."
   ]
  },
  {
   "cell_type": "code",
   "execution_count": 1,
   "id": "1672659a",
   "metadata": {},
   "outputs": [],
   "source": [
    "# definimos verdad\n",
    "\n",
    "verdad = True"
   ]
  },
  {
   "cell_type": "code",
   "execution_count": 2,
   "id": "a3d1a89f",
   "metadata": {},
   "outputs": [
    {
     "name": "stdout",
     "output_type": "stream",
     "text": [
      "True\n"
     ]
    }
   ],
   "source": [
    "# imprimir su valor\n",
    "\n",
    "print(verdad)"
   ]
  },
  {
   "cell_type": "code",
   "execution_count": 3,
   "id": "0cce8285",
   "metadata": {},
   "outputs": [
    {
     "data": {
      "text/plain": [
       "bool"
      ]
     },
     "execution_count": 3,
     "metadata": {},
     "output_type": "execute_result"
    }
   ],
   "source": [
    "# ver tipo de dato\n",
    "\n",
    "type(verdad)"
   ]
  },
  {
   "cell_type": "markdown",
   "id": "edd8d8b6",
   "metadata": {},
   "source": [
    "También podemos definir un booleano con la función `bool`, la cuál devuelve False con cero, y True para cualquier otro valor que le demos:"
   ]
  },
  {
   "cell_type": "code",
   "execution_count": 4,
   "id": "4598e38c",
   "metadata": {},
   "outputs": [],
   "source": [
    "# definir falso\n",
    "\n",
    "falso = bool(0)"
   ]
  },
  {
   "cell_type": "code",
   "execution_count": 5,
   "id": "fa0a49b6",
   "metadata": {},
   "outputs": [
    {
     "name": "stdout",
     "output_type": "stream",
     "text": [
      "False\n"
     ]
    }
   ],
   "source": [
    "# imprimir su valor\n",
    "\n",
    "print(falso)"
   ]
  },
  {
   "cell_type": "code",
   "execution_count": 6,
   "id": "1be9dfce",
   "metadata": {},
   "outputs": [],
   "source": [
    "# definir verdad\n",
    "\n",
    "v = bool(1)"
   ]
  },
  {
   "cell_type": "code",
   "execution_count": 7,
   "id": "d8bd710e",
   "metadata": {},
   "outputs": [
    {
     "name": "stdout",
     "output_type": "stream",
     "text": [
      "True\n"
     ]
    }
   ],
   "source": [
    "# imprimir su valor\n",
    "\n",
    "print(v)"
   ]
  },
  {
   "cell_type": "code",
   "execution_count": 8,
   "id": "89a22855",
   "metadata": {},
   "outputs": [
    {
     "data": {
      "text/plain": [
       "bool"
      ]
     },
     "execution_count": 8,
     "metadata": {},
     "output_type": "execute_result"
    }
   ],
   "source": [
    "# ver tipo de dato\n",
    "\n",
    "type(v)"
   ]
  },
  {
   "cell_type": "code",
   "execution_count": 1,
   "id": "69ae45ef",
   "metadata": {},
   "outputs": [],
   "source": [
    "# definir verdad\n",
    "\n",
    "verdad = bool(434325)"
   ]
  },
  {
   "cell_type": "code",
   "execution_count": 2,
   "id": "5cd74903",
   "metadata": {},
   "outputs": [
    {
     "name": "stdout",
     "output_type": "stream",
     "text": [
      "True\n"
     ]
    }
   ],
   "source": [
    "print(verdad)"
   ]
  },
  {
   "cell_type": "code",
   "execution_count": null,
   "id": "3ce0747a-5bd5-4319-b6f8-d716d40d95e6",
   "metadata": {},
   "outputs": [],
   "source": []
  }
 ],
 "metadata": {
  "kernelspec": {
   "display_name": "Python [conda env:base] *",
   "language": "python",
   "name": "conda-base-py"
  },
  "language_info": {
   "codemirror_mode": {
    "name": "ipython",
    "version": 3
   },
   "file_extension": ".py",
   "mimetype": "text/x-python",
   "name": "python",
   "nbconvert_exporter": "python",
   "pygments_lexer": "ipython3",
   "version": "3.12.7"
  },
  "toc": {
   "base_numbering": 1,
   "nav_menu": {},
   "number_sections": false,
   "sideBar": true,
   "skip_h1_title": true,
   "title_cell": "Tabla de Contenidos",
   "title_sidebar": "Contents",
   "toc_cell": true,
   "toc_position": {
    "height": "calc(100% - 180px)",
    "left": "10px",
    "top": "150px",
    "width": "263.759px"
   },
   "toc_section_display": true,
   "toc_window_display": true
  }
 },
 "nbformat": 4,
 "nbformat_minor": 5
}
