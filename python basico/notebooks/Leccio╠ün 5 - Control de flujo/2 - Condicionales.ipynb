{
 "cells": [
  {
   "cell_type": "markdown",
   "id": "0ac14783",
   "metadata": {},
   "source": [
    "# 2 - Condicionales\n",
    "\n",
    "<br>\n",
    "<br>\n",
    "\n",
    "<img src=\"https://raw.githubusercontent.com/Hack-io-AI/ai_images/main/python_flow.webp\" style=\"width:400px;\"/>"
   ]
  },
  {
   "cell_type": "markdown",
   "id": "39020337",
   "metadata": {
    "toc": true
   },
   "source": [
    "<h1>Tabla de Contenidos<span class=\"tocSkip\"></span></h1>\n",
    "<div class=\"toc\"><ul class=\"toc-item\"><li><span><a href=\"#1---Condicionales\" data-toc-modified-id=\"1---Condicionales-1\">1 - Condicionales</a></span><ul class=\"toc-item\"><li><span><a href=\"#1.1---if\" data-toc-modified-id=\"1.1---if-1.1\">1.1 - if</a></span></li><li><span><a href=\"#1.2---if-else\" data-toc-modified-id=\"1.2---if-else-1.2\">1.2 - if-else</a></span></li><li><span><a href=\"#1.3---if-elif-else\" data-toc-modified-id=\"1.3---if-elif-else-1.3\">1.3 - if-elif-else</a></span></li></ul></li><li><span><a href=\"#2---Condicionales-anidados\" data-toc-modified-id=\"2---Condicionales-anidados-2\">2 - Condicionales anidados</a></span></li><li><span><a href=\"#3---Varias-condiciones-en-un-condicional\" data-toc-modified-id=\"3---Varias-condiciones-en-un-condicional-3\">3 - Varias condiciones en un condicional</a></span></li><li><span><a href=\"#4---Condicionales-en-una-sola-línea\" data-toc-modified-id=\"4---Condicionales-en-una-sola-línea-4\">4 - Condicionales en una sola línea</a></span></li></ul></div>"
   ]
  },
  {
   "cell_type": "markdown",
   "id": "f59dc68c",
   "metadata": {},
   "source": [
    "## 1 - Condicionales"
   ]
  },
  {
   "cell_type": "markdown",
   "id": "444c4152",
   "metadata": {},
   "source": [
    "Las condicionales permiten ejecutar diferentes bloques de código en función de si una condición es verdadera o falsa. Son fundamentales para controlar el flujo del programa y tomar decisiones.\n",
    "\n",
    "\n",
    "**Declaraciones Condicionales Básicas**\n",
    "\n",
    "\n",
    "+ `if`:  La declaración if se usa para evaluar una condición. Si la condición es verdadera, el bloque de código dentro de la declaración if se ejecuta.\n",
    "\n",
    "+ `else`:  La declaración else se usa para ejecutar un bloque de código alternativo si la condición en la declaración if es falsa. Básicamente significa \"para cualquier otro caso\".\n",
    "\n",
    "+ `elif`: La declaración elif, abreviatura de \"else if\", se usa para verificar múltiples condiciones. Si la condición en if es falsa, el programa verifica la condición en elif. Podemos tener múltiples elif.\n",
    "\n",
    "\n",
    "**Operadores de Comparación**\n",
    "\n",
    "Los operadores de comparación se usan para evaluar condiciones en las declaraciones condicionales.\n",
    "\n",
    "+ `==` : Igual a\n",
    "\n",
    "+ `!=` : No igual a\n",
    "\n",
    "+ `>` : Mayor que\n",
    "\n",
    "+ `<` : Menor que\n",
    "\n",
    "+ `>=` : Mayor o igual que\n",
    "\n",
    "+ `<=` : Menor o igual que\n",
    "\n",
    "\n",
    "**Operadores Lógicos**\n",
    "\n",
    "Los operadores lógicos se usan para combinar múltiples condiciones.\n",
    "\n",
    "+ `and`: Verdadero si ambas condiciones son verdaderas\n",
    "\n",
    "+ `or`: Verdadero si al menos una de las condiciones es verdadera\n",
    "\n",
    "+ `not`: Invierte el valor de verdad de una condición"
   ]
  },
  {
   "cell_type": "markdown",
   "id": "3b3b49c8",
   "metadata": {},
   "source": [
    "### 1.1 - if"
   ]
  },
  {
   "cell_type": "code",
   "execution_count": 1,
   "id": "38524ab3",
   "metadata": {},
   "outputs": [
    {
     "name": "stdout",
     "output_type": "stream",
     "text": [
      "El numero es 10 o menor.\n",
      "Fin del condicional\n"
     ]
    }
   ],
   "source": [
    "# ejemplo con variable numerica\n",
    "\n",
    "x = 10\n",
    "\n",
    "\n",
    "if x <= 10:\n",
    "    print('El numero es 10 o menor.')\n",
    "    \n",
    "print('Fin del condicional')"
   ]
  },
  {
   "cell_type": "code",
   "execution_count": 2,
   "id": "58b76eaa",
   "metadata": {},
   "outputs": [
    {
     "name": "stdout",
     "output_type": "stream",
     "text": [
      "Fin del condicional\n"
     ]
    }
   ],
   "source": [
    "if x < 10:\n",
    "    print('El numero es menor que 10.')\n",
    "    \n",
    "print('Fin del condicional')"
   ]
  },
  {
   "cell_type": "code",
   "execution_count": 3,
   "id": "0a3c934b",
   "metadata": {},
   "outputs": [
    {
     "name": "stdout",
     "output_type": "stream",
     "text": [
      "El numero es menor que 10.\n",
      "Fin del condicional\n"
     ]
    }
   ],
   "source": [
    "x = 4\n",
    "\n",
    "if x < 10:\n",
    "    print('El numero es menor que 10.')\n",
    "    \n",
    "print('Fin del condicional')"
   ]
  },
  {
   "cell_type": "code",
   "execution_count": 4,
   "id": "e078f0b5",
   "metadata": {},
   "outputs": [
    {
     "data": {
      "text/plain": [
       "'😷'"
      ]
     },
     "execution_count": 4,
     "metadata": {},
     "output_type": "execute_result"
    }
   ],
   "source": [
    "# ejemplo con strings\n",
    "\n",
    "estudiante = 'Pepe 😷'\n",
    "\n",
    "estudiante[-1]"
   ]
  },
  {
   "cell_type": "code",
   "execution_count": 5,
   "id": "4d5925ab",
   "metadata": {},
   "outputs": [
    {
     "name": "stdout",
     "output_type": "stream",
     "text": [
      "El estudiante puede entrar\n",
      "Fin del condicional\n"
     ]
    }
   ],
   "source": [
    "if estudiante[-1] == '😷':\n",
    "    print('El estudiante puede entrar')\n",
    "    \n",
    "print('Fin del condicional')"
   ]
  },
  {
   "cell_type": "code",
   "execution_count": 6,
   "id": "424f2e57",
   "metadata": {},
   "outputs": [
    {
     "name": "stdout",
     "output_type": "stream",
     "text": [
      "Fin del condicional\n"
     ]
    }
   ],
   "source": [
    "if estudiante[-1] == '👺':\n",
    "    print('El estudiante puede entrar')\n",
    "    \n",
    "print('Fin del condicional')"
   ]
  },
  {
   "cell_type": "code",
   "execution_count": 7,
   "id": "11065900",
   "metadata": {},
   "outputs": [
    {
     "data": {
      "text/plain": [
       "False"
      ]
     },
     "execution_count": 7,
     "metadata": {},
     "output_type": "execute_result"
    }
   ],
   "source": [
    "estudiante[-1] == '👺'"
   ]
  },
  {
   "cell_type": "markdown",
   "id": "0f6bdb38",
   "metadata": {},
   "source": [
    "### 1.2 - if-else"
   ]
  },
  {
   "cell_type": "code",
   "execution_count": 9,
   "id": "be35c7ae",
   "metadata": {},
   "outputs": [
    {
     "name": "stdout",
     "output_type": "stream",
     "text": [
      "El numero es 10 o menor.\n",
      "Fin del condicional\n"
     ]
    }
   ],
   "source": [
    "# ejmplo con variable numerica\n",
    "\n",
    "x = 3\n",
    "\n",
    "if x <= 10:\n",
    "    print('El numero es 10 o menor.')\n",
    "    \n",
    "else:\n",
    "    print('El numero es estrictamente mayor que 10')\n",
    "    \n",
    "print('Fin del condicional')"
   ]
  },
  {
   "cell_type": "code",
   "execution_count": 11,
   "id": "5edb3edc",
   "metadata": {},
   "outputs": [
    {
     "name": "stdout",
     "output_type": "stream",
     "text": [
      "Hasta luegui\n",
      "Fin del condicional\n"
     ]
    }
   ],
   "source": [
    "# ejemplo con string\n",
    "\n",
    "if estudiante[-1] == 'h':\n",
    "    print('El estudiante puede entrar')\n",
    "    \n",
    "else:\n",
    "    print('Hasta luegui')\n",
    "    \n",
    "print('Fin del condicional')"
   ]
  },
  {
   "cell_type": "markdown",
   "id": "ffa77060",
   "metadata": {},
   "source": [
    "### 1.3 - if-elif-else"
   ]
  },
  {
   "cell_type": "code",
   "execution_count": 12,
   "id": "6663975c",
   "metadata": {},
   "outputs": [
    {
     "name": "stdout",
     "output_type": "stream",
     "text": [
      "Igual\n",
      "Fin del condicional\n"
     ]
    }
   ],
   "source": [
    "# ejemplo numerico\n",
    "\n",
    "x = 10\n",
    "\n",
    "if x < 10:\n",
    "    print('Menor')\n",
    "    \n",
    "elif x == 10:\n",
    "    print('Igual')\n",
    "    \n",
    "else:\n",
    "    print('Mayor')\n",
    "    \n",
    "print('Fin del condicional')"
   ]
  },
  {
   "cell_type": "code",
   "execution_count": 15,
   "id": "0395ebad",
   "metadata": {},
   "outputs": [
    {
     "name": "stdout",
     "output_type": "stream",
     "text": [
      "Igual\n",
      "Mayor\n",
      "Fin del condicional\n"
     ]
    }
   ],
   "source": [
    "\n",
    "if x == 10:\n",
    "    print('Igual')\n",
    "    \n",
    "if x < 10:\n",
    "    print('Menor')\n",
    "    \n",
    "else:\n",
    "    print('Mayor')\n",
    "    \n",
    "print('Fin del condicional')"
   ]
  },
  {
   "cell_type": "markdown",
   "id": "2aaf00d6",
   "metadata": {},
   "source": [
    "## 2 - Condicionales anidados\n",
    "\n",
    "Podemos poner varias condiciones a la hora de hacer un condicional de manera anidada."
   ]
  },
  {
   "cell_type": "code",
   "execution_count": 16,
   "id": "a67d76b8",
   "metadata": {},
   "outputs": [
    {
     "name": "stdout",
     "output_type": "stream",
     "text": [
      "El numero es 10 o menor....\n",
      ".. y es par.\n",
      "Fin del condicional\n"
     ]
    }
   ],
   "source": [
    "# ejmplo numerico, mayor-menor y par-impar\n",
    "\n",
    "x = 10\n",
    "\n",
    "if x <= 10:\n",
    "    print('El numero es 10 o menor....')\n",
    "    \n",
    "    if x%2 == 0:   \n",
    "        print('.. y es par.')\n",
    "    \n",
    "    elif x%2 == 1:\n",
    "        print('.. y es impar.')\n",
    "        \n",
    "        \n",
    "else:\n",
    "    print('El numero es mayor que 10.')\n",
    "    \n",
    "    \n",
    "print('Fin del condicional')"
   ]
  },
  {
   "cell_type": "code",
   "execution_count": 19,
   "id": "601a6092",
   "metadata": {},
   "outputs": [
    {
     "name": "stdout",
     "output_type": "stream",
     "text": [
      "El numero es mayor que 10.\n",
      ".. y es impar.\n",
      "Fin del condicional\n"
     ]
    }
   ],
   "source": [
    "# ejmplo numerico, mayor-menor y par-impar\n",
    "\n",
    "x = 51\n",
    "\n",
    "if x < 10:\n",
    "    print('El numero es menor que 10....')\n",
    "    \n",
    "    if x%2 == 0:   \n",
    "        print('.. y es par.')\n",
    "    \n",
    "    elif x%2 == 1:\n",
    "        print('.. y es impar.')\n",
    "\n",
    "        \n",
    "elif x == 10:\n",
    "    print('El numero es 10....')\n",
    "    \n",
    "    if x%2 == 0:   \n",
    "        print('.. y es par.')\n",
    "    \n",
    "    elif x%2 == 1:\n",
    "        print('.. y es impar.')\n",
    "\n",
    "        \n",
    "        \n",
    "else:\n",
    "    print('El numero es mayor que 10.')\n",
    "    \n",
    "    \n",
    "    if x%2 == 0:   \n",
    "        print('.. y es par.')\n",
    "    \n",
    "    elif x%2 == 1:\n",
    "        print('.. y es impar.')\n",
    "    \n",
    "    \n",
    "print('Fin del condicional')"
   ]
  },
  {
   "cell_type": "markdown",
   "id": "9444e68a",
   "metadata": {},
   "source": [
    "## 3 - Varias condiciones en un condicional\n",
    "\n",
    "Podemos crear un condicional con varias condiciones utilizando varios operadores lógicos."
   ]
  },
  {
   "cell_type": "code",
   "execution_count": 21,
   "id": "5ae8067a",
   "metadata": {},
   "outputs": [
    {
     "name": "stdout",
     "output_type": "stream",
     "text": [
      "Menor que 10 y par\n",
      "Fin del condicional\n"
     ]
    }
   ],
   "source": [
    "# ejemplo numerico con and\n",
    "\n",
    "x = 8\n",
    "\n",
    "if x < 10 and x%2 == 0:   # menor que 10 y par\n",
    "    print('Menor que 10 y par')\n",
    "    \n",
    "else:\n",
    "    print('No es menor o no es par')\n",
    "    \n",
    "print('Fin del condicional')"
   ]
  },
  {
   "cell_type": "code",
   "execution_count": 24,
   "id": "17f97f87",
   "metadata": {},
   "outputs": [
    {
     "name": "stdout",
     "output_type": "stream",
     "text": [
      "No es menor o no es par\n",
      "Fin del condicional\n"
     ]
    }
   ],
   "source": [
    "# ejemplo numerico con or\n",
    "\n",
    "x = 91\n",
    "\n",
    "if x < 10 or x%2 == 0:   # menor que 10 o par\n",
    "    print('Menor que 10 o par')\n",
    "    \n",
    "else:\n",
    "    print('No es menor o no es par')\n",
    "    \n",
    "print('Fin del condicional')"
   ]
  },
  {
   "cell_type": "markdown",
   "id": "a9fcbda8",
   "metadata": {},
   "source": [
    "## 4 - Condicionales en una sola línea \n",
    "\n",
    "Python permite escribir condicionales en una sola línea usando el operador ternario."
   ]
  },
  {
   "cell_type": "code",
   "execution_count": 28,
   "id": "1b8c4979",
   "metadata": {},
   "outputs": [
    {
     "name": "stdout",
     "output_type": "stream",
     "text": [
      "positivo\n"
     ]
    }
   ],
   "source": [
    "# ejemplo de varible segun una condicion\n",
    "\n",
    "x = 2\n",
    "\n",
    "# valor_si_verdadero if condicion else valor_si_falso\n",
    "resultado = 'positivo' if x > 0 else 'negativo o cero'\n",
    "\n",
    "print(resultado)"
   ]
  },
  {
   "cell_type": "code",
   "execution_count": null,
   "id": "120cb06c",
   "metadata": {},
   "outputs": [],
   "source": []
  }
 ],
 "metadata": {
  "kernelspec": {
   "display_name": "ia",
   "language": "python",
   "name": "ia"
  },
  "language_info": {
   "codemirror_mode": {
    "name": "ipython",
    "version": 3
   },
   "file_extension": ".py",
   "mimetype": "text/x-python",
   "name": "python",
   "nbconvert_exporter": "python",
   "pygments_lexer": "ipython3",
   "version": "3.9.19"
  },
  "toc": {
   "base_numbering": 1,
   "nav_menu": {},
   "number_sections": false,
   "sideBar": true,
   "skip_h1_title": true,
   "title_cell": "Tabla de Contenidos",
   "title_sidebar": "Contents",
   "toc_cell": true,
   "toc_position": {
    "height": "calc(100% - 180px)",
    "left": "10px",
    "top": "150px",
    "width": "278.542px"
   },
   "toc_section_display": true,
   "toc_window_display": true
  }
 },
 "nbformat": 4,
 "nbformat_minor": 5
}
