{
 "cells": [
  {
   "cell_type": "markdown",
   "id": "f84c3682",
   "metadata": {},
   "source": [
    "# 1 - Control de flujo e iterables\n",
    "\n",
    "<br>\n",
    "<br>\n",
    "\n",
    "<img src=\"https://raw.githubusercontent.com/Hack-io-AI/ai_images/main/python_flow.webp\" style=\"width:400px;\"/>"
   ]
  },
  {
   "cell_type": "markdown",
   "id": "168e4930",
   "metadata": {
    "toc": true
   },
   "source": [
    "<h1>Tabla de Contenidos<span class=\"tocSkip\"></span></h1>\n",
    "<div class=\"toc\"><ul class=\"toc-item\"><li><span><a href=\"#1---¿Qué-es-el-control-de-flujo?\" data-toc-modified-id=\"1---¿Qué-es-el-control-de-flujo?-1\">1 - ¿Qué es el control de flujo?</a></span></li><li><span><a href=\"#2---Iterables\" data-toc-modified-id=\"2---Iterables-2\">2 - Iterables</a></span><ul class=\"toc-item\"><li><span><a href=\"#2.1---len\" data-toc-modified-id=\"2.1---len-2.1\">2.1 - len</a></span></li><li><span><a href=\"#2.2---min\" data-toc-modified-id=\"2.2---min-2.2\">2.2 - min</a></span></li><li><span><a href=\"#2.3---max\" data-toc-modified-id=\"2.3---max-2.3\">2.3 - max</a></span></li><li><span><a href=\"#2.4---sorted\" data-toc-modified-id=\"2.4---sorted-2.4\">2.4 - sorted</a></span></li><li><span><a href=\"#2.4---in\" data-toc-modified-id=\"2.4---in-2.5\">2.4 - in</a></span></li><li><span><a href=\"#2.5---not-in\" data-toc-modified-id=\"2.5---not-in-2.6\">2.5 - not in</a></span></li><li><span><a href=\"#2.6---range\" data-toc-modified-id=\"2.6---range-2.7\">2.6 - range</a></span></li><li><span><a href=\"#2.7---zip\" data-toc-modified-id=\"2.7---zip-2.8\">2.7 - zip</a></span></li></ul></li></ul></div>"
   ]
  },
  {
   "cell_type": "markdown",
   "id": "e3c62396",
   "metadata": {},
   "source": [
    "## 1 - ¿Qué es el control de flujo?"
   ]
  },
  {
   "cell_type": "markdown",
   "id": "a790802f",
   "metadata": {},
   "source": [
    "El control de flujo en programación se refiere a la dirección en la que se ejecutan las instrucciones o declaraciones en un programa. Básicamente, se trata de cómo se controla la secuencia de ejecución de las declaraciones para lograr el comportamiento deseado. Python ofrece varias estructuras de control de flujo que permiten tomar decisiones, ejecutar bloques de código repetidamente y manejar excepciones.\n",
    "\n",
    "\n",
    "**Principales componentes del control de flujo**\n",
    "\n",
    "\n",
    "1. **Declaraciones condicionales**: Permiten ejecutar ciertos bloques de código en función de condiciones específicas.\n",
    "\n",
    "\n",
    "2. **Bucles**: Permiten repetir un bloque de código varias veces.\n",
    "\n",
    "\n",
    "3. **Control de flujo basado en excepciones**: Manejan errores que ocurren durante la ejecución del programa. Esto lo veremos en una clase posterior.\n",
    "\n",
    "\n",
    "Veamos primero qué son los iterables y algunas palabras reservadas y funciones para su manejo."
   ]
  },
  {
   "cell_type": "markdown",
   "id": "bb60b6b0",
   "metadata": {},
   "source": [
    "## 2 - Iterables"
   ]
  },
  {
   "cell_type": "markdown",
   "id": "ada10389",
   "metadata": {},
   "source": [
    "Un iterable es cualquier objeto que puede ser recorrido, iterado, uno por uno. Los iterables son una parte fundamental de Python y se utilizan en muchas operaciones de programación, incluyendo bucles y comprensiones. Ejemplos de iterables son las listas, las tuplas, strings, diccionarios, sets o generadores. Vamos a crear una lista y vamos a comprobar con algunas funciones las propiedades de dicha lista, extrapolable a los iterables."
   ]
  },
  {
   "cell_type": "code",
   "execution_count": 1,
   "id": "a9bd181a",
   "metadata": {},
   "outputs": [],
   "source": [
    "# creamos una lista de numeros\n",
    "\n",
    "lista = [2, 4, 5, 687, 23, 1, 23, 2, 3, 9, 8, 8, 45]"
   ]
  },
  {
   "cell_type": "markdown",
   "id": "47f2cd24",
   "metadata": {},
   "source": [
    "### 2.1 - len\n",
    "\n",
    "Función para comprobar la longitud de un iterable."
   ]
  },
  {
   "cell_type": "code",
   "execution_count": 2,
   "id": "62011222",
   "metadata": {},
   "outputs": [
    {
     "data": {
      "text/plain": [
       "13"
      ]
     },
     "execution_count": 2,
     "metadata": {},
     "output_type": "execute_result"
    }
   ],
   "source": [
    "# devuelve el nº de elementos que tiene el iterable\n",
    "\n",
    "len(lista)"
   ]
  },
  {
   "cell_type": "markdown",
   "id": "bfc45a62",
   "metadata": {},
   "source": [
    "### 2.2 - min\n",
    "\n",
    "Función para comprobar el valor mínimo de un iterable."
   ]
  },
  {
   "cell_type": "code",
   "execution_count": 3,
   "id": "f5d53727",
   "metadata": {},
   "outputs": [
    {
     "data": {
      "text/plain": [
       "1"
      ]
     },
     "execution_count": 3,
     "metadata": {},
     "output_type": "execute_result"
    }
   ],
   "source": [
    "# devuelve el valor minimo del iterable\n",
    "\n",
    "min(lista)"
   ]
  },
  {
   "cell_type": "markdown",
   "id": "599e5267",
   "metadata": {},
   "source": [
    "### 2.3 - max\n",
    "\n",
    "Función para comprobar el valor máximo de un iterable."
   ]
  },
  {
   "cell_type": "code",
   "execution_count": 4,
   "id": "99ca95b0",
   "metadata": {},
   "outputs": [
    {
     "data": {
      "text/plain": [
       "687"
      ]
     },
     "execution_count": 4,
     "metadata": {},
     "output_type": "execute_result"
    }
   ],
   "source": [
    "# devuelve el valor maximo del iterable\n",
    "\n",
    "max(lista)"
   ]
  },
  {
   "cell_type": "markdown",
   "id": "60ff7a64",
   "metadata": {},
   "source": [
    "### 2.4 - sorted\n",
    "\n",
    "Función para ordenar un iterable."
   ]
  },
  {
   "cell_type": "code",
   "execution_count": 5,
   "id": "bc4b9b04",
   "metadata": {},
   "outputs": [
    {
     "data": {
      "text/plain": [
       "[1, 2, 2, 3, 4, 5, 8, 8, 9, 23, 23, 45, 687]"
      ]
     },
     "execution_count": 5,
     "metadata": {},
     "output_type": "execute_result"
    }
   ],
   "source": [
    "# ordenado de menor a mayor\n",
    "\n",
    "sorted(lista)"
   ]
  },
  {
   "cell_type": "code",
   "execution_count": 6,
   "id": "e9d1cb4e",
   "metadata": {},
   "outputs": [
    {
     "data": {
      "text/plain": [
       "[687, 45, 23, 23, 9, 8, 8, 5, 4, 3, 2, 2, 1]"
      ]
     },
     "execution_count": 6,
     "metadata": {},
     "output_type": "execute_result"
    }
   ],
   "source": [
    "# ordenado de mayor a menor\n",
    "\n",
    "sorted(lista, reverse=True)"
   ]
  },
  {
   "cell_type": "code",
   "execution_count": 7,
   "id": "c6f2c8c2",
   "metadata": {},
   "outputs": [
    {
     "name": "stdout",
     "output_type": "stream",
     "text": [
      "[2, 4, 5, 687, 23, 1, 23, 2, 3, 9, 8, 8, 45]\n"
     ]
    }
   ],
   "source": [
    "# lista original \n",
    "\n",
    "print(lista)"
   ]
  },
  {
   "cell_type": "markdown",
   "id": "99f1ef40",
   "metadata": {},
   "source": [
    "¿Podríamos usar estas funciones con una lista de strings?, ¿tendría sentido?. La respuesta es sí. Se basa en el [código ASCII](https://elcodigoascii.com.ar/), sería menor las mayúsculas que las minúsculas y se ordenaría por orden alfabético."
   ]
  },
  {
   "cell_type": "code",
   "execution_count": 8,
   "id": "8837fbd2",
   "metadata": {},
   "outputs": [],
   "source": [
    "# lista de strings\n",
    "\n",
    "lista_string = ['hola', 'adios', 'alegre', 'como estas']"
   ]
  },
  {
   "cell_type": "code",
   "execution_count": 9,
   "id": "e7b8ca6b",
   "metadata": {},
   "outputs": [
    {
     "data": {
      "text/plain": [
       "4"
      ]
     },
     "execution_count": 9,
     "metadata": {},
     "output_type": "execute_result"
    }
   ],
   "source": [
    "# longitud de la lista\n",
    "\n",
    "len(lista_string)"
   ]
  },
  {
   "cell_type": "code",
   "execution_count": 10,
   "id": "6175a42e",
   "metadata": {},
   "outputs": [
    {
     "data": {
      "text/plain": [
       "'adios'"
      ]
     },
     "execution_count": 10,
     "metadata": {},
     "output_type": "execute_result"
    }
   ],
   "source": [
    "# minimo\n",
    "\n",
    "min(lista_string)"
   ]
  },
  {
   "cell_type": "code",
   "execution_count": 11,
   "id": "ad60c7cc",
   "metadata": {},
   "outputs": [
    {
     "data": {
      "text/plain": [
       "'hola'"
      ]
     },
     "execution_count": 11,
     "metadata": {},
     "output_type": "execute_result"
    }
   ],
   "source": [
    "# maximo\n",
    "\n",
    "max(lista_string)"
   ]
  },
  {
   "cell_type": "code",
   "execution_count": 12,
   "id": "f6dab423",
   "metadata": {},
   "outputs": [
    {
     "data": {
      "text/plain": [
       "['adios', 'alegre', 'como estas', 'hola']"
      ]
     },
     "execution_count": 12,
     "metadata": {},
     "output_type": "execute_result"
    }
   ],
   "source": [
    "# ordenado de menor a mayor\n",
    "\n",
    "sorted(lista_string)"
   ]
  },
  {
   "cell_type": "code",
   "execution_count": 13,
   "id": "be564e40",
   "metadata": {},
   "outputs": [
    {
     "data": {
      "text/plain": [
       "['hola', 'como estas', 'alegre', 'adios']"
      ]
     },
     "execution_count": 13,
     "metadata": {},
     "output_type": "execute_result"
    }
   ],
   "source": [
    "# ordenado de mayor a menor\n",
    "\n",
    "sorted(lista_string, reverse=True)"
   ]
  },
  {
   "cell_type": "markdown",
   "id": "6fc27f9d",
   "metadata": {},
   "source": [
    "### 2.4 - in\n",
    "\n",
    "Función para comprobar si un valor está presente en un iterable. Devuelve un booleano."
   ]
  },
  {
   "cell_type": "code",
   "execution_count": 14,
   "id": "049b1d47",
   "metadata": {},
   "outputs": [
    {
     "data": {
      "text/plain": [
       "False"
      ]
     },
     "execution_count": 14,
     "metadata": {},
     "output_type": "execute_result"
    }
   ],
   "source": [
    "# ¿el nº 42 esta en la lista?\n",
    "\n",
    "42 in lista"
   ]
  },
  {
   "cell_type": "code",
   "execution_count": 15,
   "id": "f0738442",
   "metadata": {},
   "outputs": [
    {
     "data": {
      "text/plain": [
       "True"
      ]
     },
     "execution_count": 15,
     "metadata": {},
     "output_type": "execute_result"
    }
   ],
   "source": [
    "# ¿alegre esta en la lista de strings?\n",
    "\n",
    "'alegre' in lista_string"
   ]
  },
  {
   "cell_type": "code",
   "execution_count": 16,
   "id": "fdc5b4fb",
   "metadata": {},
   "outputs": [
    {
     "data": {
      "text/plain": [
       "False"
      ]
     },
     "execution_count": 16,
     "metadata": {},
     "output_type": "execute_result"
    }
   ],
   "source": [
    "# ¿la frase 'hasta luego' esta en la lista de strings?\n",
    "\n",
    "'hasta luego' in lista_string"
   ]
  },
  {
   "cell_type": "markdown",
   "id": "38dfd826",
   "metadata": {},
   "source": [
    "### 2.5 - not in\n",
    "\n",
    "Añadiendo el operador lógico `not`, podemos saber si algo no está en el iterable. Devuelve un booleano."
   ]
  },
  {
   "cell_type": "code",
   "execution_count": 17,
   "id": "41aacbd2",
   "metadata": {},
   "outputs": [
    {
     "data": {
      "text/plain": [
       "True"
      ]
     },
     "execution_count": 17,
     "metadata": {},
     "output_type": "execute_result"
    }
   ],
   "source": [
    "# ¿la frase 'hasta luego' no esta en la lista de strings?\n",
    "\n",
    "'hasta luego' not in lista_string"
   ]
  },
  {
   "cell_type": "markdown",
   "id": "42d76e72",
   "metadata": {},
   "source": [
    "### 2.6 - range\n",
    "\n",
    "`range` es una función incorporada que se utiliza para generar una secuencia de números. Es comúnmente utilizada en bucles para iterar sobre una secuencia de números. La función range puede tomar uno, dos o tres argumentos para definir el inicio, el final y el paso de la secuencia.\n",
    "\n",
    "+ start (opcional): El número inicial de la secuencia. Por defecto es 0.\n",
    "+ stop: El número que termina la secuencia (no inclusivo).\n",
    "+ step (opcional): La diferencia entre cada par de números consecutivos en la secuencia. Por defecto es 1."
   ]
  },
  {
   "cell_type": "code",
   "execution_count": 18,
   "id": "2061019c",
   "metadata": {},
   "outputs": [
    {
     "data": {
      "text/plain": [
       "range(0, 4)"
      ]
     },
     "execution_count": 18,
     "metadata": {},
     "output_type": "execute_result"
    }
   ],
   "source": [
    "# range con un argumento, el final, hasta N-1\n",
    "\n",
    "range(4)"
   ]
  },
  {
   "cell_type": "code",
   "execution_count": 19,
   "id": "939e1a49",
   "metadata": {},
   "outputs": [
    {
     "data": {
      "text/plain": [
       "[0, 1, 2, 3]"
      ]
     },
     "execution_count": 19,
     "metadata": {},
     "output_type": "execute_result"
    }
   ],
   "source": [
    "# lo convertimos a lista para verlo\n",
    "\n",
    "list(range(4))"
   ]
  },
  {
   "cell_type": "code",
   "execution_count": 20,
   "id": "6befe3ff",
   "metadata": {},
   "outputs": [
    {
     "data": {
      "text/plain": [
       "range(1, 4)"
      ]
     },
     "execution_count": 20,
     "metadata": {},
     "output_type": "execute_result"
    }
   ],
   "source": [
    "# range con dos argumentos, el inicio y el final, start y stop\n",
    "\n",
    "range(1, 4)"
   ]
  },
  {
   "cell_type": "code",
   "execution_count": 21,
   "id": "7eac68bf",
   "metadata": {},
   "outputs": [
    {
     "data": {
      "text/plain": [
       "[1, 2, 3]"
      ]
     },
     "execution_count": 21,
     "metadata": {},
     "output_type": "execute_result"
    }
   ],
   "source": [
    "# lo convertimos a lista para verlo\n",
    "\n",
    "list(range(1, 4))"
   ]
  },
  {
   "cell_type": "code",
   "execution_count": 22,
   "id": "0fc087a7",
   "metadata": {},
   "outputs": [
    {
     "data": {
      "text/plain": [
       "range(1, 10, 3)"
      ]
     },
     "execution_count": 22,
     "metadata": {},
     "output_type": "execute_result"
    }
   ],
   "source": [
    "# range con tres argumentos, el inicio, el final y el paso, start-stop-step\n",
    "\n",
    "range(1, 10, 3)"
   ]
  },
  {
   "cell_type": "code",
   "execution_count": 24,
   "id": "010ee65b",
   "metadata": {},
   "outputs": [
    {
     "data": {
      "text/plain": [
       "[1, 4, 7, 10]"
      ]
     },
     "execution_count": 24,
     "metadata": {},
     "output_type": "execute_result"
    }
   ],
   "source": [
    "# lo convertimos a lista para verlo\n",
    "\n",
    "list(range(1, 11, 3))"
   ]
  },
  {
   "cell_type": "markdown",
   "id": "3a90cf68",
   "metadata": {},
   "source": [
    "### 2.7 - zip\n",
    "\n",
    "La función zip (cremallera) es una función incorporada que se utiliza para combinar dos o más iterables elemento a elemento, produciendo un iterador de tuplas. Cada tupla contiene un elemento de cada uno de los iterables proporcionados. Es útil para emparejar datos de diferentes iterables de manera eficiente. Probemos con dos listas."
   ]
  },
  {
   "cell_type": "code",
   "execution_count": 26,
   "id": "c3f19ef7",
   "metadata": {},
   "outputs": [
    {
     "name": "stdout",
     "output_type": "stream",
     "text": [
      "<zip object at 0x107d00c40>\n"
     ]
    }
   ],
   "source": [
    "# aplicacion de la funcion zip\n",
    "\n",
    "cremallera = zip(lista, lista_string)\n",
    "\n",
    "print(cremallera)"
   ]
  },
  {
   "cell_type": "code",
   "execution_count": 27,
   "id": "74dac3fc",
   "metadata": {},
   "outputs": [
    {
     "data": {
      "text/plain": [
       "[(2, 'hola'), (4, 'adios'), (5, 'alegre'), (687, 'como estas')]"
      ]
     },
     "execution_count": 27,
     "metadata": {},
     "output_type": "execute_result"
    }
   ],
   "source": [
    "# convertir a lista para verlo\n",
    "\n",
    "list(cremallera)"
   ]
  },
  {
   "cell_type": "code",
   "execution_count": 29,
   "id": "a24afc86",
   "metadata": {},
   "outputs": [
    {
     "data": {
      "text/plain": [
       "{2: 'hola', 4: 'adios', 5: 'alegre', 687: 'como estas'}"
      ]
     },
     "execution_count": 29,
     "metadata": {},
     "output_type": "execute_result"
    }
   ],
   "source": [
    "# convertir a diccionario para verlo\n",
    "\n",
    "cremallera = zip(lista, lista_string)\n",
    "\n",
    "dict(cremallera)"
   ]
  },
  {
   "cell_type": "code",
   "execution_count": 30,
   "id": "dbae5af3",
   "metadata": {},
   "outputs": [
    {
     "data": {
      "text/plain": [
       "[(1, 'a', 7), (2, 'b', 8), (3, 'c', 9)]"
      ]
     },
     "execution_count": 30,
     "metadata": {},
     "output_type": "execute_result"
    }
   ],
   "source": [
    "# podemos hacerlo con mas de dos listas\n",
    "\n",
    "cremallera = zip((1, 2, 3), ('a', 'b', 'c'), (7, 8, 9))\n",
    "\n",
    "list(cremallera)"
   ]
  },
  {
   "cell_type": "code",
   "execution_count": null,
   "id": "200b362c",
   "metadata": {},
   "outputs": [],
   "source": []
  }
 ],
 "metadata": {
  "kernelspec": {
   "display_name": "ia",
   "language": "python",
   "name": "ia"
  },
  "language_info": {
   "codemirror_mode": {
    "name": "ipython",
    "version": 3
   },
   "file_extension": ".py",
   "mimetype": "text/x-python",
   "name": "python",
   "nbconvert_exporter": "python",
   "pygments_lexer": "ipython3",
   "version": "3.9.19"
  },
  "toc": {
   "base_numbering": 1,
   "nav_menu": {},
   "number_sections": false,
   "sideBar": true,
   "skip_h1_title": true,
   "title_cell": "Tabla de Contenidos",
   "title_sidebar": "Contents",
   "toc_cell": true,
   "toc_position": {
    "height": "calc(100% - 180px)",
    "left": "10px",
    "top": "150px",
    "width": "277.769px"
   },
   "toc_section_display": true,
   "toc_window_display": true
  }
 },
 "nbformat": 4,
 "nbformat_minor": 5
}
