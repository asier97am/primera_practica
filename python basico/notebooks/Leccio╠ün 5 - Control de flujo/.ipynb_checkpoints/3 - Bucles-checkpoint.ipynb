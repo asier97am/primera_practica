{
 "cells": [
  {
   "cell_type": "markdown",
   "id": "1f25463f",
   "metadata": {},
   "source": [
    "# 3 - Bucles\n",
    "\n",
    "<br>\n",
    "<br>\n",
    "\n",
    "<img src=\"https://raw.githubusercontent.com/Hack-io-AI/ai_images/main/python_flow.webp\" style=\"width:400px;\"/>"
   ]
  },
  {
   "cell_type": "markdown",
   "id": "8129c119",
   "metadata": {
    "toc": true
   },
   "source": [
    "<h1>Tabla de Contenidos<span class=\"tocSkip\"></span></h1>\n",
    "<div class=\"toc\"><ul class=\"toc-item\"><li><span><a href=\"#1---Bucle-while\" data-toc-modified-id=\"1---Bucle-while-1\">1 - Bucle while</a></span></li><li><span><a href=\"#2---Bucle-for\" data-toc-modified-id=\"2---Bucle-for-2\">2 - Bucle for</a></span><ul class=\"toc-item\"><li><span><a href=\"#2.1---For-basado-en-elementos\" data-toc-modified-id=\"2.1---For-basado-en-elementos-2.1\">2.1 - For basado en elementos</a></span></li><li><span><a href=\"#2.2---For-basado-en-índices\" data-toc-modified-id=\"2.2---For-basado-en-índices-2.2\">2.2 - For basado en índices</a></span></li><li><span><a href=\"#2.3---For-basado-en-índices-y-elemento-(enumerate)\" data-toc-modified-id=\"2.3---For-basado-en-índices-y-elemento-(enumerate)-2.3\">2.3 - For basado en índices y elemento (enumerate)</a></span></li><li><span><a href=\"#2.4---For-anidado\" data-toc-modified-id=\"2.4---For-anidado-2.4\">2.4 - For anidado</a></span></li></ul></li><li><span><a href=\"#3---Comprehension\" data-toc-modified-id=\"3---Comprehension-3\">3 - Comprehension</a></span><ul class=\"toc-item\"><li><span><a href=\"#3.1---List-comprehension\" data-toc-modified-id=\"3.1---List-comprehension-3.1\">3.1 - List comprehension</a></span></li><li><span><a href=\"#3.2---Dict-comprehension\" data-toc-modified-id=\"3.2---Dict-comprehension-3.2\">3.2 - Dict comprehension</a></span></li></ul></li></ul></div>"
   ]
  },
  {
   "cell_type": "markdown",
   "id": "6d06a41a",
   "metadata": {},
   "source": [
    "## 1 - Bucle while"
   ]
  },
  {
   "cell_type": "markdown",
   "id": "648cca28",
   "metadata": {},
   "source": [
    "Un bucle, o loop en inglés, es una estructura de control que permite repetir un bloque de código varias veces. También nos permite recorrer elemento a elemento un iterable. Python ofrece dos tipos principales de bucles: `for` y `while`. Los bucles son útiles cuando necesitamos ejecutar el mismo bloque de código múltiples veces, con o sin condiciones específicas. El bucle while es un tipo de bucle que está basado en un condicional. Vamos a crear un bucle while para generar [la secuencia de Fibonacci](https://es.wikipedia.org/wiki/Sucesi%C3%B3n_de_Fibonacci), creada por [Leonardo de Pisa](https://es.wikipedia.org/wiki/Leonardo_de_Pisa), donde el siguiente elemento de la secuencia es la suma de los dos anteriores."
   ]
  },
  {
   "cell_type": "code",
   "execution_count": 1,
   "id": "75b2867e",
   "metadata": {},
   "outputs": [
    {
     "name": "stdout",
     "output_type": "stream",
     "text": [
      "0\n",
      "1\n",
      "1\n",
      "2\n",
      "3\n",
      "5\n",
      "8\n",
      "13\n",
      "21\n",
      "34\n",
      "55\n",
      "89\n",
      "Fin del bucle.\n"
     ]
    }
   ],
   "source": [
    "# secuencia de Fibonacci\n",
    "\n",
    "# primer y segundo elemento de la secuencia\n",
    "a=0\n",
    "b=1\n",
    "\n",
    "\n",
    "# creamos un contador para saber cuántos elementos hemos creado, base de la condición\n",
    "contador=0\n",
    "\n",
    "# cuántos elemento queremos de la secuencia\n",
    "cuantos=10\n",
    "\n",
    "\n",
    "# imprimimos los dos primeros valores\n",
    "print(a)\n",
    "print(b)\n",
    "\n",
    "\n",
    "# mientras el contador sea menor que el nº de elementos que queremos...\n",
    "while contador<cuantos:\n",
    "    \n",
    "    # siguiente elemento de la secuencia, lo imprimimos\n",
    "    c=a+b\n",
    "    print(c)\n",
    "    \n",
    "    # actualización de los valores anteriores\n",
    "    a=b\n",
    "    b=c\n",
    "    \n",
    "    # actualización del contador\n",
    "    contador+=1\n",
    " \n",
    "\n",
    "\n",
    "print('Fin del bucle.')"
   ]
  },
  {
   "cell_type": "markdown",
   "id": "836b5dea",
   "metadata": {},
   "source": [
    "Con el bucle while también podríamos crear un bucle infinito, un bucle que no se detiene nunca, pues la condición nunca se cumple, False nunca aparece. Este tipo de bucle resulta útil para aplicaciones que no queremos que se paren, como un sensor que nunca se apaga, un videojuego que nunca se detiene o Alexa que no para de escucharnos."
   ]
  },
  {
   "cell_type": "code",
   "execution_count": 2,
   "id": "33c76beb",
   "metadata": {},
   "outputs": [
    {
     "name": "stdout",
     "output_type": "stream",
     "text": [
      "Juego\n"
     ]
    }
   ],
   "source": [
    "# bucle infinito roto en el primer paso\n",
    "\n",
    "while 1:\n",
    "    \n",
    "    print('Juego')\n",
    "    \n",
    "    break"
   ]
  },
  {
   "cell_type": "markdown",
   "id": "d0e5b54a",
   "metadata": {},
   "source": [
    "La palabra reservada `break` rompe el bucle, lo detiene, cuando se ejecuta."
   ]
  },
  {
   "cell_type": "markdown",
   "id": "fc12c121",
   "metadata": {},
   "source": [
    "## 2 - Bucle for"
   ]
  },
  {
   "cell_type": "markdown",
   "id": "af5f6597",
   "metadata": {},
   "source": [
    "El bucle `for` se utiliza para iterar sobre un iterable, como una lista, tupla, diccionario, set o cadena de caracteres. Existen tres bucles for distintos: el basado en los elementos del iterable, el basado en índices, por posición normalmente usando `range` y el que está basado en una mezcla de los dos, normalmente usando la función `enumerate`."
   ]
  },
  {
   "cell_type": "markdown",
   "id": "f8b1121f",
   "metadata": {},
   "source": [
    "### 2.1 - For basado en elementos"
   ]
  },
  {
   "cell_type": "code",
   "execution_count": 3,
   "id": "231a6408",
   "metadata": {},
   "outputs": [
    {
     "data": {
      "text/plain": [
       "['hola', 'adios', 'como estás?', 'alegre', 'saltasebes']"
      ]
     },
     "execution_count": 3,
     "metadata": {},
     "output_type": "execute_result"
    }
   ],
   "source": [
    "# veamos una lista de strings\n",
    "\n",
    "lista_strings = ['hola', 'adios', 'como estás?', 'alegre', 'saltasebes']\n",
    "\n",
    "lista_strings"
   ]
  },
  {
   "cell_type": "code",
   "execution_count": 4,
   "id": "78c0fe68",
   "metadata": {},
   "outputs": [
    {
     "name": "stdout",
     "output_type": "stream",
     "text": [
      "Hola hola\n",
      "Hola adios\n",
      "Hola como estás?\n",
      "Hola alegre\n",
      "Hola saltasebes\n",
      "Fin del bucle.\n"
     ]
    }
   ],
   "source": [
    "# para cada elemento en la lista.... (e de elemento)\n",
    "\n",
    "for e in lista_strings:\n",
    "    print('Hola '+e)\n",
    "    \n",
    "print('Fin del bucle.')"
   ]
  },
  {
   "cell_type": "code",
   "execution_count": 5,
   "id": "bc9b5683",
   "metadata": {},
   "outputs": [
    {
     "name": "stdout",
     "output_type": "stream",
     "text": [
      "saltasebes\n"
     ]
    }
   ],
   "source": [
    "# e es una variable que queda en el código, el último valor que tuvo\n",
    "\n",
    "print(e)"
   ]
  },
  {
   "cell_type": "code",
   "execution_count": 6,
   "id": "f9a3d200",
   "metadata": {},
   "outputs": [
    {
     "name": "stdout",
     "output_type": "stream",
     "text": [
      "hola\n",
      "adios\n",
      "como estás?\n",
      "alegre\n",
      "saltasebes\n",
      "Fin del bucle.\n"
     ]
    }
   ],
   "source": [
    "# la variable e puede tener cualquier nombre.\n",
    "\n",
    "for palabra in lista_strings:\n",
    "    print(palabra)\n",
    "    \n",
    "print('Fin del bucle.')"
   ]
  },
  {
   "cell_type": "code",
   "execution_count": 7,
   "id": "893190fd",
   "metadata": {},
   "outputs": [
    {
     "name": "stdout",
     "output_type": "stream",
     "text": [
      "saltasebes\n"
     ]
    }
   ],
   "source": [
    "# el último valor que tuvo\n",
    "\n",
    "print(palabra)"
   ]
  },
  {
   "cell_type": "code",
   "execution_count": 8,
   "id": "19a4b84f",
   "metadata": {},
   "outputs": [
    {
     "data": {
      "text/plain": [
       "[4, 9, 25, 1, 7921, 103041, 1156, 1764, 14884, 169, 100]"
      ]
     },
     "execution_count": 8,
     "metadata": {},
     "output_type": "execute_result"
    }
   ],
   "source": [
    "# veamos una lista de numeros\n",
    "\n",
    "lista = [4, 9, 25, 1, 7921, 103041, 1156, 1764, 14884, 169, 100]\n",
    "\n",
    "lista"
   ]
  },
  {
   "cell_type": "code",
   "execution_count": 9,
   "id": "234994f7",
   "metadata": {},
   "outputs": [
    {
     "name": "stdout",
     "output_type": "stream",
     "text": [
      "16\n",
      "81\n",
      "625\n",
      "1\n",
      "62742241\n",
      "10617447681\n",
      "1336336\n",
      "3111696\n",
      "221533456\n",
      "28561\n",
      "10000\n",
      "Fin del bucle.\n"
     ]
    }
   ],
   "source": [
    "# para cada elemento en la lista numérica... lo elevamos al cuadrado (e de elemento)\n",
    "\n",
    "for e in lista:\n",
    "    print(e**2)\n",
    "    \n",
    "print('Fin del bucle.')"
   ]
  },
  {
   "cell_type": "code",
   "execution_count": 10,
   "id": "61f562a0",
   "metadata": {},
   "outputs": [
    {
     "name": "stdout",
     "output_type": "stream",
     "text": [
      "Letra -- p\n",
      "Letra -- a\n",
      "Letra -- e\n",
      "Letra -- l\n",
      "Letra -- l\n",
      "Letra -- a\n",
      "Fin del bucle.\n"
     ]
    }
   ],
   "source": [
    "# hagamos un bucle sobre una string (cadena de caracteres)\n",
    "\n",
    "for letra in 'paella':\n",
    "    \n",
    "    print('Letra --', letra)\n",
    "    \n",
    "print('Fin del bucle.')"
   ]
  },
  {
   "cell_type": "markdown",
   "id": "1c4e559b",
   "metadata": {},
   "source": [
    "### 2.2 - For basado en índices"
   ]
  },
  {
   "cell_type": "code",
   "execution_count": 11,
   "id": "4a6b3626",
   "metadata": {},
   "outputs": [
    {
     "data": {
      "text/plain": [
       "5"
      ]
     },
     "execution_count": 11,
     "metadata": {},
     "output_type": "execute_result"
    }
   ],
   "source": [
    "# longitud de la lista\n",
    "\n",
    "len(lista_strings)"
   ]
  },
  {
   "cell_type": "code",
   "execution_count": 12,
   "id": "6a11d909",
   "metadata": {},
   "outputs": [
    {
     "data": {
      "text/plain": [
       "[0, 1, 2, 3, 4]"
      ]
     },
     "execution_count": 12,
     "metadata": {},
     "output_type": "execute_result"
    }
   ],
   "source": [
    "# veamos el rango de la lista, los índices de cada elemento\n",
    "\n",
    "list(range(len(lista_strings)))"
   ]
  },
  {
   "cell_type": "code",
   "execution_count": 13,
   "id": "89dd9884",
   "metadata": {},
   "outputs": [
    {
     "name": "stdout",
     "output_type": "stream",
     "text": [
      "0 --------- hola\n",
      "1 --------- adios\n",
      "2 --------- como estás?\n",
      "3 --------- alegre\n",
      "4 --------- saltasebes\n",
      "Fin del bucle.\n"
     ]
    }
   ],
   "source": [
    "# para cada indice en el rango de la longitud de la lista... (i de índice)\n",
    "\n",
    "for i in range(len(lista_strings)):\n",
    "    print(i, '---------', lista_strings[i])\n",
    "    \n",
    "    \n",
    "print('Fin del bucle.')"
   ]
  },
  {
   "cell_type": "code",
   "execution_count": 14,
   "id": "62bc3859",
   "metadata": {},
   "outputs": [
    {
     "name": "stdout",
     "output_type": "stream",
     "text": [
      "0 --------- hola\n",
      "1 --------- adios\n",
      "Fin del bucle.\n"
     ]
    }
   ],
   "source": [
    "# para cada indice hasta 2... (i de índice)\n",
    "\n",
    "for i in range(2):\n",
    "    print(i, '---------', lista_strings[i])\n",
    "    \n",
    "    \n",
    "print('Fin del bucle.')"
   ]
  },
  {
   "cell_type": "code",
   "execution_count": 15,
   "id": "fe518626",
   "metadata": {},
   "outputs": [
    {
     "name": "stdout",
     "output_type": "stream",
     "text": [
      "0 --------- hola\n",
      "2 --------- como estás?\n",
      "4 --------- saltasebes\n",
      "Fin del bucle.\n"
     ]
    }
   ],
   "source": [
    "# para cada indice desde 0 hasta 5 de 2 en 2... \n",
    "\n",
    "for indice in range(0, 5, 2):\n",
    "    print(indice, '---------', lista_strings[indice])\n",
    "    \n",
    "    \n",
    "print('Fin del bucle.')"
   ]
  },
  {
   "cell_type": "code",
   "execution_count": 16,
   "id": "cbc93eef",
   "metadata": {},
   "outputs": [
    {
     "name": "stdout",
     "output_type": "stream",
     "text": [
      "4\n"
     ]
    }
   ],
   "source": [
    "# indice es una variable que queda en el código, el último valor que tuvo\n",
    "\n",
    "print(indice)"
   ]
  },
  {
   "cell_type": "markdown",
   "id": "b6e61f41",
   "metadata": {},
   "source": [
    "### 2.3 - For basado en índices y elemento (enumerate)"
   ]
  },
  {
   "cell_type": "markdown",
   "id": "dbafe422",
   "metadata": {},
   "source": [
    "La función `enumerate` se utiliza para iterar sobre un iterable, como una lista, tupla o string, y obtener tanto el índice como el valor de cada elemento durante la iteración. Esto es especialmente útil cuando necesitas acceder tanto al índice como al valor en un bucle. El enumerate genera una lista de tuplas, donde cada tupla tiene dos elementos, el primero es el índice y el segundo es el valor."
   ]
  },
  {
   "cell_type": "code",
   "execution_count": 17,
   "id": "85dae4c1",
   "metadata": {},
   "outputs": [
    {
     "data": {
      "text/plain": [
       "[(0, 'hola'),\n",
       " (1, 'adios'),\n",
       " (2, 'como estás?'),\n",
       " (3, 'alegre'),\n",
       " (4, 'saltasebes')]"
      ]
     },
     "execution_count": 17,
     "metadata": {},
     "output_type": "execute_result"
    }
   ],
   "source": [
    "# vemos el enumerate, lo convertimos a lista para verlo\n",
    "\n",
    "list(enumerate(lista_strings))"
   ]
  },
  {
   "cell_type": "code",
   "execution_count": 18,
   "id": "fd8d9474",
   "metadata": {},
   "outputs": [
    {
     "name": "stdout",
     "output_type": "stream",
     "text": [
      "0 ----- hola\n",
      "1 ----- adios\n",
      "2 ----- como estás?\n",
      "3 ----- alegre\n",
      "4 ----- saltasebes\n",
      "Fin del bucle.\n"
     ]
    }
   ],
   "source": [
    "# para cada índice y elemento en la lista... (se desempaqueta)\n",
    "\n",
    "for i,e in enumerate(lista_strings):\n",
    "    \n",
    "    print(i, '-----', e)\n",
    "    \n",
    "print('Fin del bucle.')"
   ]
  },
  {
   "cell_type": "code",
   "execution_count": 19,
   "id": "edc03c98",
   "metadata": {},
   "outputs": [
    {
     "name": "stdout",
     "output_type": "stream",
     "text": [
      "0 ********* hola\n",
      "1 ********* adios\n",
      "2 ********* como estás?\n",
      "3 ********* alegre\n",
      "4 ********* saltasebes\n",
      "Fin del bucle.\n"
     ]
    }
   ],
   "source": [
    "# se pueden poner los nombres que queramos a las variables\n",
    "\n",
    "for index, element in enumerate(lista_strings):\n",
    "    \n",
    "    print(index, '*********' ,element)\n",
    "    \n",
    "print('Fin del bucle.')"
   ]
  },
  {
   "cell_type": "markdown",
   "id": "a6973635",
   "metadata": {},
   "source": [
    "### 2.4 - For anidado"
   ]
  },
  {
   "cell_type": "code",
   "execution_count": 20,
   "id": "46adc1e5",
   "metadata": {},
   "outputs": [
    {
     "name": "stdout",
     "output_type": "stream",
     "text": [
      "\n",
      "Palabra hola\n",
      "Letra h\n",
      "Letra o\n",
      "Letra l\n",
      "Letra a\n",
      "\n",
      "Palabra adios\n",
      "Letra a\n",
      "Letra d\n",
      "Letra i\n",
      "Letra o\n",
      "Letra s\n",
      "\n",
      "Palabra como estás?\n",
      "Letra c\n",
      "Letra o\n",
      "Letra m\n",
      "Letra o\n",
      "Letra  \n",
      "Letra e\n",
      "Letra s\n",
      "Letra t\n",
      "Letra á\n",
      "Letra s\n",
      "Letra ?\n",
      "\n",
      "Palabra alegre\n",
      "Letra a\n",
      "Letra l\n",
      "Letra e\n",
      "Letra g\n",
      "Letra r\n",
      "Letra e\n",
      "\n",
      "Palabra saltasebes\n",
      "Letra s\n",
      "Letra a\n",
      "Letra l\n",
      "Letra t\n",
      "Letra a\n",
      "Letra s\n",
      "Letra e\n",
      "Letra b\n",
      "Letra e\n",
      "Letra s\n",
      "Fin del bucle.\n"
     ]
    }
   ],
   "source": [
    "# podemos tener un bucle dentro de un bucle\n",
    "\n",
    "for palabra in lista_strings:\n",
    "    \n",
    "    print('\\nPalabra', palabra)   # cadena de caracteres\n",
    "    \n",
    "    for letra in palabra:\n",
    "        \n",
    "        print('Letra', letra)\n",
    "        \n",
    "print('Fin del bucle.')"
   ]
  },
  {
   "cell_type": "markdown",
   "id": "347125f8",
   "metadata": {},
   "source": [
    "## 3 - Comprehension"
   ]
  },
  {
   "cell_type": "markdown",
   "id": "3b36e0a4",
   "metadata": {},
   "source": [
    "Las comprensiones (comprehensions) son una manera concisa, elegante y más eficiente de crear nuevos iterables a partir de otros ya existentes. Las comprensiones permiten escribir bucles y declaraciones condicionales de manera más compacta y legible."
   ]
  },
  {
   "cell_type": "markdown",
   "id": "4c35dfd1",
   "metadata": {},
   "source": [
    "### 3.1 - List comprehension\n",
    "\n",
    "Supongamos que queremos crear una lista a través de un bucle, por ejemplo, queremos elevar al cuadrado los números que tenemos en nuestra lista numérica. Veámos cómo hacerlo con un bucle for."
   ]
  },
  {
   "cell_type": "code",
   "execution_count": 21,
   "id": "5f314a5b",
   "metadata": {},
   "outputs": [
    {
     "data": {
      "text/plain": [
       "[4, 9, 25, 1, 7921, 103041, 1156, 1764, 14884, 169, 100]"
      ]
     },
     "execution_count": 21,
     "metadata": {},
     "output_type": "execute_result"
    }
   ],
   "source": [
    "# lista numérica\n",
    "\n",
    "lista"
   ]
  },
  {
   "cell_type": "code",
   "execution_count": 22,
   "id": "c8e6c7a7",
   "metadata": {},
   "outputs": [
    {
     "data": {
      "text/plain": [
       "[16,\n",
       " 81,\n",
       " 625,\n",
       " 1,\n",
       " 62742241,\n",
       " 10617447681,\n",
       " 1336336,\n",
       " 3111696,\n",
       " 221533456,\n",
       " 28561,\n",
       " 10000]"
      ]
     },
     "execution_count": 22,
     "metadata": {},
     "output_type": "execute_result"
    }
   ],
   "source": [
    "# paso a paso\n",
    "\n",
    "nueva = []\n",
    "\n",
    "\n",
    "for e in lista:\n",
    "    \n",
    "    cuadrado = e**2\n",
    "    \n",
    "    nueva.append(cuadrado)\n",
    "    \n",
    "    \n",
    "nueva"
   ]
  },
  {
   "cell_type": "code",
   "execution_count": 23,
   "id": "d6152027",
   "metadata": {},
   "outputs": [
    {
     "data": {
      "text/plain": [
       "[16,\n",
       " 81,\n",
       " 625,\n",
       " 1,\n",
       " 62742241,\n",
       " 10617447681,\n",
       " 1336336,\n",
       " 3111696,\n",
       " 221533456,\n",
       " 28561,\n",
       " 10000]"
      ]
     },
     "execution_count": 23,
     "metadata": {},
     "output_type": "execute_result"
    }
   ],
   "source": [
    "# podemos hacer esto en una solo línea\n",
    "\n",
    "nueva = [e**2 for e in lista]\n",
    "\n",
    "nueva"
   ]
  },
  {
   "cell_type": "code",
   "execution_count": 24,
   "id": "3a922031",
   "metadata": {},
   "outputs": [
    {
     "data": {
      "text/plain": [
       "[0, 0, 0, 0, 1, 2, 0, 2, 4, 0, 3, 6, 0, 4, 8]"
      ]
     },
     "execution_count": 24,
     "metadata": {},
     "output_type": "execute_result"
    }
   ],
   "source": [
    "# podemos hacer esto con un doble bucle\n",
    "\n",
    "lst = [i*j for i in range(5) for j in range(3)]\n",
    "\n",
    "lst "
   ]
  },
  {
   "cell_type": "code",
   "execution_count": 25,
   "id": "d40b528e",
   "metadata": {},
   "outputs": [
    {
     "data": {
      "text/plain": [
       "[625, 62742241, 10617447681, 1336336, 3111696, 221533456, 28561, 10000]"
      ]
     },
     "execution_count": 25,
     "metadata": {},
     "output_type": "execute_result"
    }
   ],
   "source": [
    "# incluso podemos añadir un condicional, volvamos al paso a paso\n",
    "\n",
    "nueva = []\n",
    "\n",
    "\n",
    "for e in lista:\n",
    "    \n",
    "    cuadrado = e**2\n",
    "    \n",
    "    if cuadrado > 100:\n",
    "        nueva.append(cuadrado)\n",
    "    \n",
    "    \n",
    "nueva"
   ]
  },
  {
   "cell_type": "code",
   "execution_count": 26,
   "id": "c6d30a7c",
   "metadata": {},
   "outputs": [
    {
     "data": {
      "text/plain": [
       "[625, 62742241, 10617447681, 1336336, 3111696, 221533456, 28561, 10000]"
      ]
     },
     "execution_count": 26,
     "metadata": {},
     "output_type": "execute_result"
    }
   ],
   "source": [
    "# podemos hacer esto en una solo línea\n",
    "\n",
    "nueva = [e**2 for e in lista if e**2 > 100]\n",
    "\n",
    "nueva"
   ]
  },
  {
   "cell_type": "markdown",
   "id": "34ac5697",
   "metadata": {},
   "source": [
    "### 3.2 - Dict comprehension\n",
    "\n",
    "Podemos hacer lo mismo con un diccionario. "
   ]
  },
  {
   "cell_type": "code",
   "execution_count": 27,
   "id": "b79e579b",
   "metadata": {},
   "outputs": [
    {
     "data": {
      "text/plain": [
       "[(0, 'hola'),\n",
       " (1, 'adios'),\n",
       " (2, 'como estás?'),\n",
       " (3, 'alegre'),\n",
       " (4, 'saltasebes')]"
      ]
     },
     "execution_count": 27,
     "metadata": {},
     "output_type": "execute_result"
    }
   ],
   "source": [
    "# volvamos al enumerate\n",
    "\n",
    "list(enumerate(lista_strings))"
   ]
  },
  {
   "cell_type": "code",
   "execution_count": 28,
   "id": "af455348",
   "metadata": {},
   "outputs": [
    {
     "data": {
      "text/plain": [
       "{0: 'hola', 1: 'adios', 2: 'como estás?', 3: 'alegre', 4: 'saltasebes'}"
      ]
     },
     "execution_count": 28,
     "metadata": {},
     "output_type": "execute_result"
    }
   ],
   "source": [
    "# diccionario comprimido\n",
    "\n",
    "dictio = {k:v for k,v in enumerate(lista_strings)}\n",
    "\n",
    "dictio"
   ]
  },
  {
   "cell_type": "code",
   "execution_count": 29,
   "id": "43fc2218",
   "metadata": {},
   "outputs": [
    {
     "data": {
      "text/plain": [
       "{0: 'hola', 1: 'adios', 2: 'como estás?', 3: 'alegre', 4: 'saltasebes'}"
      ]
     },
     "execution_count": 29,
     "metadata": {},
     "output_type": "execute_result"
    }
   ],
   "source": [
    "# aunque podemos hacerlo directamente\n",
    "\n",
    "dict(enumerate(lista_strings))"
   ]
  },
  {
   "cell_type": "code",
   "execution_count": 30,
   "id": "d3d8917f",
   "metadata": {},
   "outputs": [
    {
     "data": {
      "text/plain": [
       "{'hola': 4, 'adios': 9, 'como estás?': 25, 'alegre': 1, 'saltasebes': 7921}"
      ]
     },
     "execution_count": 30,
     "metadata": {},
     "output_type": "execute_result"
    }
   ],
   "source": [
    "# también con el zip\n",
    "\n",
    "dict(zip(lista_strings, lista))"
   ]
  }
 ],
 "metadata": {
  "kernelspec": {
   "display_name": "ia",
   "language": "python",
   "name": "ia"
  },
  "language_info": {
   "codemirror_mode": {
    "name": "ipython",
    "version": 3
   },
   "file_extension": ".py",
   "mimetype": "text/x-python",
   "name": "python",
   "nbconvert_exporter": "python",
   "pygments_lexer": "ipython3",
   "version": "3.9.19"
  },
  "toc": {
   "base_numbering": 1,
   "nav_menu": {},
   "number_sections": false,
   "sideBar": true,
   "skip_h1_title": true,
   "title_cell": "Tabla de Contenidos",
   "title_sidebar": "Contents",
   "toc_cell": true,
   "toc_position": {
    "height": "calc(100% - 180px)",
    "left": "10px",
    "top": "150px",
    "width": "246.771px"
   },
   "toc_section_display": true,
   "toc_window_display": true
  }
 },
 "nbformat": 4,
 "nbformat_minor": 5
}
