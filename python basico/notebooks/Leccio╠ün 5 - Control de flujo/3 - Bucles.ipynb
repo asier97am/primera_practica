{
 "cells": [
  {
   "cell_type": "markdown",
   "id": "1f25463f",
   "metadata": {},
   "source": [
    "# 3 - Bucles\n",
    "\n",
    "<br>\n",
    "<br>\n",
    "\n",
    "<img src=\"https://raw.githubusercontent.com/Hack-io-AI/ai_images/main/python_flow.webp\" style=\"width:400px;\"/>"
   ]
  },
  {
   "cell_type": "markdown",
   "id": "8129c119",
   "metadata": {
    "toc": true
   },
   "source": [
    "<h1>Tabla de Contenidos<span class=\"tocSkip\"></span></h1>\n",
    "<div class=\"toc\"><ul class=\"toc-item\"><li><span><a href=\"#1---Bucle-while\" data-toc-modified-id=\"1---Bucle-while-1\">1 - Bucle while</a></span></li><li><span><a href=\"#2---Bucle-for\" data-toc-modified-id=\"2---Bucle-for-2\">2 - Bucle for</a></span><ul class=\"toc-item\"><li><span><a href=\"#2.1---For-basado-en-elementos\" data-toc-modified-id=\"2.1---For-basado-en-elementos-2.1\">2.1 - For basado en elementos</a></span></li><li><span><a href=\"#2.2---For-basado-en-índices\" data-toc-modified-id=\"2.2---For-basado-en-índices-2.2\">2.2 - For basado en índices</a></span></li><li><span><a href=\"#2.3---For-basado-en-índices-y-elemento-(enumerate)\" data-toc-modified-id=\"2.3---For-basado-en-índices-y-elemento-(enumerate)-2.3\">2.3 - For basado en índices y elemento (enumerate)</a></span></li><li><span><a href=\"#2.4---For-anidado\" data-toc-modified-id=\"2.4---For-anidado-2.4\">2.4 - For anidado</a></span></li></ul></li><li><span><a href=\"#3---Comprehension\" data-toc-modified-id=\"3---Comprehension-3\">3 - Comprehension</a></span><ul class=\"toc-item\"><li><span><a href=\"#3.1---List-comprehension\" data-toc-modified-id=\"3.1---List-comprehension-3.1\">3.1 - List comprehension</a></span></li><li><span><a href=\"#3.2---Dict-comprehension\" data-toc-modified-id=\"3.2---Dict-comprehension-3.2\">3.2 - Dict comprehension</a></span></li></ul></li></ul></div>"
   ]
  },
  {
   "cell_type": "markdown",
   "id": "6d06a41a",
   "metadata": {},
   "source": [
    "## 1 - Bucle while"
   ]
  },
  {
   "cell_type": "markdown",
   "id": "648cca28",
   "metadata": {},
   "source": [
    "Un bucle, o loop en inglés, es una estructura de control que permite repetir un bloque de código varias veces. También nos permite recorrer elemento a elemento un iterable. Python ofrece dos tipos principales de bucles: `for` y `while`. Los bucles son útiles cuando necesitamos ejecutar el mismo bloque de código múltiples veces, con o sin condiciones específicas. El bucle while es un tipo de bucle que está basado en un condicional. Vamos a crear un bucle while para generar [la secuencia de Fibonacci](https://es.wikipedia.org/wiki/Sucesi%C3%B3n_de_Fibonacci), creada por [Leonardo de Pisa](https://es.wikipedia.org/wiki/Leonardo_de_Pisa), donde el siguiente elemento de la secuencia es la suma de los dos anteriores."
   ]
  },
  {
   "cell_type": "code",
   "execution_count": 1,
   "id": "75b2867e",
   "metadata": {},
   "outputs": [
    {
     "name": "stdout",
     "output_type": "stream",
     "text": [
      "0\n",
      "1\n",
      "1\n",
      "2\n",
      "3\n",
      "5\n",
      "8\n",
      "13\n",
      "21\n",
      "34\n",
      "55\n",
      "89\n",
      "Fin del bucle.\n"
     ]
    }
   ],
   "source": [
    "# secuencia de Fibonacci\n",
    "\n",
    "# primer y segundo elemento\n",
    "a = 0\n",
    "b = 1\n",
    "\n",
    "# creamos un contador, para saber cuantos elementos tenemos ya\n",
    "contador = 0\n",
    "\n",
    "\n",
    "# cuantos elementos queremos\n",
    "cuantos = 10\n",
    "\n",
    "# imprimir los primeros valores\n",
    "print(a)\n",
    "print(b)\n",
    "\n",
    "\n",
    "# mientras que el contador sea menor que el nº de elementos que queremos....\n",
    "while contador<cuantos:\n",
    "    \n",
    "    # siguiente elemento\n",
    "    c = a+b\n",
    "    print(c)\n",
    "    \n",
    "    \n",
    "    # actualizar los valores\n",
    "    a = b\n",
    "    b = c\n",
    "    \n",
    "    # actualizar el valor del contador\n",
    "    #contador = contador + 1\n",
    "    contador += 1\n",
    "    \n",
    "    \n",
    "print('Fin del bucle.')"
   ]
  },
  {
   "cell_type": "markdown",
   "id": "836b5dea",
   "metadata": {},
   "source": [
    "Con el bucle while también podríamos crear un bucle infinito, un bucle que no se detiene nunca, pues la condición nunca se cumple, False nunca aparece. Este tipo de bucle resulta útil para aplicaciones que no queremos que se paren, como un sensor que nunca se apaga, un videojuego que nunca se detiene o Alexa que no para de escucharnos."
   ]
  },
  {
   "cell_type": "code",
   "execution_count": 4,
   "id": "33c76beb",
   "metadata": {},
   "outputs": [
    {
     "name": "stdout",
     "output_type": "stream",
     "text": [
      "Juego\n",
      "fin del bucle\n"
     ]
    }
   ],
   "source": [
    "# bucle infinito\n",
    "\n",
    "while 1:\n",
    "    \n",
    "    print('Juego')\n",
    "    \n",
    "    break\n",
    "    \n",
    "print('fin del bucle')"
   ]
  },
  {
   "cell_type": "markdown",
   "id": "d0e5b54a",
   "metadata": {},
   "source": [
    "La palabra reservada `break` rompe el bucle, lo detiene, cuando se ejecuta."
   ]
  },
  {
   "cell_type": "markdown",
   "id": "fc12c121",
   "metadata": {},
   "source": [
    "## 2 - Bucle for"
   ]
  },
  {
   "cell_type": "markdown",
   "id": "af5f6597",
   "metadata": {},
   "source": [
    "El bucle `for` se utiliza para iterar sobre un iterable, como una lista, tupla, diccionario, set o cadena de caracteres. Existen tres bucles for distintos: el basado en los elementos del iterable, el basado en índices, por posición normalmente usando `range` y el que está basado en una mezcla de los dos, normalmente usando la función `enumerate`."
   ]
  },
  {
   "cell_type": "markdown",
   "id": "f8b1121f",
   "metadata": {},
   "source": [
    "### 2.1 - For basado en elementos"
   ]
  },
  {
   "cell_type": "code",
   "execution_count": 5,
   "id": "231a6408",
   "metadata": {},
   "outputs": [
    {
     "name": "stdout",
     "output_type": "stream",
     "text": [
      "['hola', 'adios', 'alegre', 'como estas']\n"
     ]
    }
   ],
   "source": [
    "# veamos una lista de strings\n",
    "\n",
    "\n",
    "lista_strings = ['hola', 'adios', 'alegre', 'como estas']\n",
    "\n",
    "print(lista_strings)"
   ]
  },
  {
   "cell_type": "code",
   "execution_count": 6,
   "id": "78c0fe68",
   "metadata": {},
   "outputs": [
    {
     "name": "stdout",
     "output_type": "stream",
     "text": [
      "Hola hola\n",
      "Hola adios\n",
      "Hola alegre\n",
      "Hola como estas\n",
      "Fin del bucle\n"
     ]
    }
   ],
   "source": [
    "# para cada elemento dentro de la lista.... (e de elemento)\n",
    "\n",
    "for e in lista_strings:\n",
    "    \n",
    "    print('Hola ' + e)\n",
    "    \n",
    "    \n",
    "print('Fin del bucle')"
   ]
  },
  {
   "cell_type": "code",
   "execution_count": 7,
   "id": "bc9b5683",
   "metadata": {},
   "outputs": [
    {
     "name": "stdout",
     "output_type": "stream",
     "text": [
      "como estas\n"
     ]
    }
   ],
   "source": [
    "# e es una variable\n",
    "\n",
    "print(e)"
   ]
  },
  {
   "cell_type": "code",
   "execution_count": 8,
   "id": "f9a3d200",
   "metadata": {},
   "outputs": [
    {
     "name": "stdout",
     "output_type": "stream",
     "text": [
      "hola\n",
      "adios\n",
      "alegre\n",
      "como estas\n",
      "Fin del bucle\n"
     ]
    }
   ],
   "source": [
    "# la variable e puede tener cualquier nombre\n",
    "\n",
    "for palabra in lista_strings:\n",
    "    print(palabra)\n",
    "    \n",
    "print('Fin del bucle')"
   ]
  },
  {
   "cell_type": "code",
   "execution_count": 9,
   "id": "893190fd",
   "metadata": {},
   "outputs": [
    {
     "name": "stdout",
     "output_type": "stream",
     "text": [
      "como estas\n"
     ]
    }
   ],
   "source": [
    "# palabra es una variable\n",
    "\n",
    "print(palabra)"
   ]
  },
  {
   "cell_type": "code",
   "execution_count": 10,
   "id": "19a4b84f",
   "metadata": {},
   "outputs": [],
   "source": [
    "# numerico\n",
    "\n",
    "lista = [2, 3, 4, 56, 7, 8, 9]"
   ]
  },
  {
   "cell_type": "code",
   "execution_count": 11,
   "id": "234994f7",
   "metadata": {},
   "outputs": [
    {
     "name": "stdout",
     "output_type": "stream",
     "text": [
      "4\n",
      "9\n",
      "16\n",
      "3136\n",
      "49\n",
      "64\n",
      "81\n",
      "FIN\n"
     ]
    }
   ],
   "source": [
    "# para elemento dentro de la lista numerica.... lo elevamos al cuadrado\n",
    "\n",
    "for e in lista:\n",
    "    print(e**2)\n",
    "    \n",
    "print('FIN')"
   ]
  },
  {
   "cell_type": "code",
   "execution_count": 12,
   "id": "128c5f23",
   "metadata": {},
   "outputs": [
    {
     "name": "stdout",
     "output_type": "stream",
     "text": [
      "9\n"
     ]
    }
   ],
   "source": [
    "# e es una variable\n",
    "\n",
    "print(e)"
   ]
  },
  {
   "cell_type": "code",
   "execution_count": 13,
   "id": "61f562a0",
   "metadata": {},
   "outputs": [
    {
     "name": "stdout",
     "output_type": "stream",
     "text": [
      "Letra --- p\n",
      "Letra --- a\n",
      "Letra --- e\n",
      "Letra --- l\n",
      "Letra --- l\n",
      "Letra --- a\n",
      "FIN\n"
     ]
    }
   ],
   "source": [
    "# un bucle sobre una string\n",
    "\n",
    "\n",
    "for letra in 'paella':\n",
    "    \n",
    "    print('Letra ---', letra)\n",
    "    \n",
    "    \n",
    "print('FIN')"
   ]
  },
  {
   "cell_type": "markdown",
   "id": "1c4e559b",
   "metadata": {},
   "source": [
    "### 2.2 - For basado en índices"
   ]
  },
  {
   "cell_type": "code",
   "execution_count": 14,
   "id": "4a6b3626",
   "metadata": {},
   "outputs": [
    {
     "data": {
      "text/plain": [
       "4"
      ]
     },
     "execution_count": 14,
     "metadata": {},
     "output_type": "execute_result"
    }
   ],
   "source": [
    "# longitud de la lista\n",
    "\n",
    "len(lista_strings)"
   ]
  },
  {
   "cell_type": "code",
   "execution_count": 16,
   "id": "6a11d909",
   "metadata": {},
   "outputs": [
    {
     "data": {
      "text/plain": [
       "[0, 1, 2, 3]"
      ]
     },
     "execution_count": 16,
     "metadata": {},
     "output_type": "execute_result"
    }
   ],
   "source": [
    "# veamos el rango de la longitud de la lista, los indices de cada elemento\n",
    "\n",
    "list(range(len(lista_strings)))"
   ]
  },
  {
   "cell_type": "code",
   "execution_count": 17,
   "id": "89dd9884",
   "metadata": {},
   "outputs": [
    {
     "name": "stdout",
     "output_type": "stream",
     "text": [
      "0 ------- hola\n",
      "1 ------- adios\n",
      "2 ------- alegre\n",
      "3 ------- como estas\n",
      "FIN\n"
     ]
    }
   ],
   "source": [
    "# para cada indice en el rango de la longitud de la lista.... (i de indice)\n",
    "\n",
    "\n",
    "for i in range(len(lista_strings)):\n",
    "    print(i, '-------', lista_strings[i])\n",
    "    \n",
    "print('FIN')"
   ]
  },
  {
   "cell_type": "code",
   "execution_count": 22,
   "id": "62bc3859",
   "metadata": {},
   "outputs": [
    {
     "name": "stdout",
     "output_type": "stream",
     "text": [
      "0 ------- hola\n",
      "2 ------- alegre\n",
      "FIN\n"
     ]
    }
   ],
   "source": [
    "# para cada indice desde 0 hasta 4 de 2 en 2...\n",
    "\n",
    "\n",
    "for indice in range(0, 4, 2):\n",
    "    print(indice, '-------', lista_strings[indice])\n",
    "    \n",
    "print('FIN')"
   ]
  },
  {
   "cell_type": "code",
   "execution_count": 23,
   "id": "fe518626",
   "metadata": {},
   "outputs": [
    {
     "data": {
      "text/plain": [
       "[0, 2]"
      ]
     },
     "execution_count": 23,
     "metadata": {},
     "output_type": "execute_result"
    }
   ],
   "source": [
    "list(range(0, 4, 2))"
   ]
  },
  {
   "cell_type": "code",
   "execution_count": 24,
   "id": "cbc93eef",
   "metadata": {},
   "outputs": [
    {
     "name": "stdout",
     "output_type": "stream",
     "text": [
      "2\n"
     ]
    }
   ],
   "source": [
    "print(indice)"
   ]
  },
  {
   "cell_type": "markdown",
   "id": "b6e61f41",
   "metadata": {},
   "source": [
    "### 2.3 - For basado en índices y elemento (enumerate)"
   ]
  },
  {
   "cell_type": "markdown",
   "id": "dbafe422",
   "metadata": {},
   "source": [
    "La función `enumerate` se utiliza para iterar sobre un iterable, como una lista, tupla o string, y obtener tanto el índice como el valor de cada elemento durante la iteración. Esto es especialmente útil cuando necesitas acceder tanto al índice como al valor en un bucle. El enumerate genera una lista de tuplas, donde cada tupla tiene dos elementos, el primero es el índice y el segundo es el valor."
   ]
  },
  {
   "cell_type": "code",
   "execution_count": 26,
   "id": "85dae4c1",
   "metadata": {},
   "outputs": [
    {
     "data": {
      "text/plain": [
       "[(0, 'hola'), (1, 'adios'), (2, 'alegre'), (3, 'como estas')]"
      ]
     },
     "execution_count": 26,
     "metadata": {},
     "output_type": "execute_result"
    }
   ],
   "source": [
    "# veamos el enumerate\n",
    "\n",
    "list(enumerate(lista_strings))"
   ]
  },
  {
   "cell_type": "code",
   "execution_count": 27,
   "id": "fd8d9474",
   "metadata": {},
   "outputs": [
    {
     "name": "stdout",
     "output_type": "stream",
     "text": [
      "0 ----- hola\n",
      "1 ----- adios\n",
      "2 ----- alegre\n",
      "3 ----- como estas\n",
      "FIN\n"
     ]
    }
   ],
   "source": [
    "# para cada indice y elemento en la lista... (se desempaqueta)\n",
    "\n",
    "for i,e in enumerate(lista_strings):\n",
    "    \n",
    "    print(i, '-----', e)\n",
    "    \n",
    "print('FIN')"
   ]
  },
  {
   "cell_type": "code",
   "execution_count": 28,
   "id": "edc03c98",
   "metadata": {},
   "outputs": [
    {
     "name": "stdout",
     "output_type": "stream",
     "text": [
      "0 ----- hola ---- de otra lista: 2\n",
      "1 ----- adios ---- de otra lista: 3\n",
      "2 ----- alegre ---- de otra lista: 4\n",
      "3 ----- como estas ---- de otra lista: 56\n",
      "FIN\n"
     ]
    }
   ],
   "source": [
    "# para cada indice y elemento en la lista... (se desempaqueta)\n",
    "\n",
    "for index, elem in enumerate(lista_strings):\n",
    "    \n",
    "    print(index, '-----', elem, '---- de otra lista:', lista[index])\n",
    "    \n",
    "print('FIN')"
   ]
  },
  {
   "cell_type": "code",
   "execution_count": 29,
   "id": "ca8b9189",
   "metadata": {},
   "outputs": [
    {
     "name": "stdout",
     "output_type": "stream",
     "text": [
      "holahola\n",
      "adiosadiosadios\n",
      "alegrealegrealegrealegre\n",
      "como estascomo estascomo estascomo estascomo estascomo estascomo estascomo estascomo estascomo estascomo estascomo estascomo estascomo estascomo estascomo estascomo estascomo estascomo estascomo estascomo estascomo estascomo estascomo estascomo estascomo estascomo estascomo estascomo estascomo estascomo estascomo estascomo estascomo estascomo estascomo estascomo estascomo estascomo estascomo estascomo estascomo estascomo estascomo estascomo estascomo estascomo estascomo estascomo estascomo estascomo estascomo estascomo estascomo estascomo estascomo estas\n",
      "FIN\n"
     ]
    }
   ],
   "source": [
    "# para cada indice y elemento en la lista... (se desempaqueta)\n",
    "\n",
    "for index, elem in enumerate(lista_strings):\n",
    "    \n",
    "    print(elem * lista[index])\n",
    "    \n",
    "print('FIN')"
   ]
  },
  {
   "cell_type": "markdown",
   "id": "a6973635",
   "metadata": {},
   "source": [
    "### 2.4 - For anidado"
   ]
  },
  {
   "cell_type": "code",
   "execution_count": 30,
   "id": "46adc1e5",
   "metadata": {},
   "outputs": [
    {
     "name": "stdout",
     "output_type": "stream",
     "text": [
      "\n",
      "Palabra: hola\n",
      "Letra: h\n",
      "Letra: o\n",
      "Letra: l\n",
      "Letra: a\n",
      "\n",
      "Palabra: adios\n",
      "Letra: a\n",
      "Letra: d\n",
      "Letra: i\n",
      "Letra: o\n",
      "Letra: s\n",
      "\n",
      "Palabra: alegre\n",
      "Letra: a\n",
      "Letra: l\n",
      "Letra: e\n",
      "Letra: g\n",
      "Letra: r\n",
      "Letra: e\n",
      "\n",
      "Palabra: como estas\n",
      "Letra: c\n",
      "Letra: o\n",
      "Letra: m\n",
      "Letra: o\n",
      "Letra:  \n",
      "Letra: e\n",
      "Letra: s\n",
      "Letra: t\n",
      "Letra: a\n",
      "Letra: s\n",
      "FIN\n"
     ]
    }
   ],
   "source": [
    "# podemos tener un bucle dentro de un bucle\n",
    "\n",
    "for palabra in lista_strings:\n",
    "    \n",
    "    print('\\nPalabra:', palabra)\n",
    "    \n",
    "    for letra in palabra:\n",
    "        \n",
    "        print('Letra:', letra)\n",
    "        \n",
    "        \n",
    "print('FIN')"
   ]
  },
  {
   "cell_type": "markdown",
   "id": "347125f8",
   "metadata": {},
   "source": [
    "## 3 - Comprehension"
   ]
  },
  {
   "cell_type": "markdown",
   "id": "3b36e0a4",
   "metadata": {},
   "source": [
    "Las comprensiones (comprehensions) son una manera concisa, elegante y más eficiente de crear nuevos iterables a partir de otros ya existentes. Las comprensiones permiten escribir bucles y declaraciones condicionales de manera más compacta y legible."
   ]
  },
  {
   "cell_type": "markdown",
   "id": "4c35dfd1",
   "metadata": {},
   "source": [
    "### 3.1 - List comprehension\n",
    "\n",
    "Supongamos que queremos crear una lista a través de un bucle, por ejemplo, queremos elevar al cuadrado los números que tenemos en nuestra lista numérica. Veámos cómo hacerlo con un bucle for."
   ]
  },
  {
   "cell_type": "code",
   "execution_count": 31,
   "id": "5f314a5b",
   "metadata": {},
   "outputs": [
    {
     "data": {
      "text/plain": [
       "[2, 3, 4, 56, 7, 8, 9]"
      ]
     },
     "execution_count": 31,
     "metadata": {},
     "output_type": "execute_result"
    }
   ],
   "source": [
    "# lista numerica\n",
    "\n",
    "lista"
   ]
  },
  {
   "cell_type": "code",
   "execution_count": 32,
   "id": "c8e6c7a7",
   "metadata": {},
   "outputs": [
    {
     "name": "stdout",
     "output_type": "stream",
     "text": [
      "[4, 9, 16, 3136, 49, 64, 81]\n"
     ]
    }
   ],
   "source": [
    "# paso a paso\n",
    "\n",
    "nueva = []\n",
    "\n",
    "\n",
    "for e in lista:\n",
    "    \n",
    "    cuadrado = e**2\n",
    "    \n",
    "    nueva.append(cuadrado)\n",
    "    \n",
    "    \n",
    "print(nueva)"
   ]
  },
  {
   "cell_type": "code",
   "execution_count": 34,
   "id": "d6152027",
   "metadata": {},
   "outputs": [
    {
     "name": "stdout",
     "output_type": "stream",
     "text": [
      "[4, 9, 16, 3136, 49, 64, 81]\n"
     ]
    }
   ],
   "source": [
    "# podemos hacerlo en una linea\n",
    "\n",
    "\n",
    "nueva = [e**2 for e in lista]\n",
    "\n",
    "\n",
    "print(nueva)"
   ]
  },
  {
   "cell_type": "code",
   "execution_count": 36,
   "id": "3a922031",
   "metadata": {},
   "outputs": [
    {
     "name": "stdout",
     "output_type": "stream",
     "text": [
      "[1, 2, 3, 2, 4, 6, 3, 6, 9, 4, 8, 12]\n"
     ]
    }
   ],
   "source": [
    "# con doble bucle\n",
    "\n",
    "lst = [i*j for i in range(1, 5) for j in range(1, 4)]\n",
    "\n",
    "print(lst)"
   ]
  },
  {
   "cell_type": "code",
   "execution_count": 40,
   "id": "d40b528e",
   "metadata": {},
   "outputs": [
    {
     "name": "stdout",
     "output_type": "stream",
     "text": [
      "[3136, 64, 81]\n"
     ]
    }
   ],
   "source": [
    "# con condicionales paso paso a paso\n",
    "\n",
    "\n",
    "nueva = []\n",
    "\n",
    "\n",
    "for e in lista:\n",
    "    \n",
    "    cuadrado = e**2\n",
    "    \n",
    "    if cuadrado > 50:\n",
    "        \n",
    "        nueva.append(cuadrado)\n",
    "        \n",
    "    else:\n",
    "        pass\n",
    "        \n",
    "        \n",
    "print(nueva)"
   ]
  },
  {
   "cell_type": "code",
   "execution_count": 42,
   "id": "c6d30a7c",
   "metadata": {},
   "outputs": [
    {
     "name": "stdout",
     "output_type": "stream",
     "text": [
      "[3136, 64, 81]\n"
     ]
    }
   ],
   "source": [
    "# en una linea, lo mismo\n",
    "\n",
    "nueva = [e**2 for e in lista if e**2 > 50]\n",
    "\n",
    "print(nueva)"
   ]
  },
  {
   "cell_type": "markdown",
   "id": "34ac5697",
   "metadata": {},
   "source": [
    "### 3.2 - Dict comprehension\n",
    "\n",
    "Podemos hacer lo mismo con un diccionario. "
   ]
  },
  {
   "cell_type": "code",
   "execution_count": 44,
   "id": "b79e579b",
   "metadata": {},
   "outputs": [
    {
     "data": {
      "text/plain": [
       "[(0, 'hola'), (1, 'adios'), (2, 'alegre'), (3, 'como estas')]"
      ]
     },
     "execution_count": 44,
     "metadata": {},
     "output_type": "execute_result"
    }
   ],
   "source": [
    "# volvamos al enumerate\n",
    "\n",
    "list(enumerate(lista_strings))"
   ]
  },
  {
   "cell_type": "code",
   "execution_count": 45,
   "id": "af455348",
   "metadata": {},
   "outputs": [
    {
     "name": "stdout",
     "output_type": "stream",
     "text": [
      "{0: 'hola', 1: 'adios', 2: 'alegre', 3: 'como estas'}\n"
     ]
    }
   ],
   "source": [
    "# diccionario comprimido\n",
    "\n",
    "dictio = {clave:valor for clave,valor in enumerate(lista_strings)}\n",
    "\n",
    "print(dictio)"
   ]
  },
  {
   "cell_type": "code",
   "execution_count": 47,
   "id": "43fc2218",
   "metadata": {},
   "outputs": [
    {
     "data": {
      "text/plain": [
       "{0: 'hola', 1: 'adios', 2: 'alegre', 3: 'como estas'}"
      ]
     },
     "execution_count": 47,
     "metadata": {},
     "output_type": "execute_result"
    }
   ],
   "source": [
    "# directamente\n",
    "\n",
    "dict(enumerate(lista_strings))"
   ]
  },
  {
   "cell_type": "code",
   "execution_count": 50,
   "id": "d3d8917f",
   "metadata": {},
   "outputs": [
    {
     "data": {
      "text/plain": [
       "[('hola', 2), ('adios', 3), ('alegre', 4), ('como estas', 56)]"
      ]
     },
     "execution_count": 50,
     "metadata": {},
     "output_type": "execute_result"
    }
   ],
   "source": [
    "# con un zip\n",
    "\n",
    "list(zip(lista_strings, lista))"
   ]
  },
  {
   "cell_type": "code",
   "execution_count": 51,
   "id": "4e28dc83",
   "metadata": {},
   "outputs": [
    {
     "data": {
      "text/plain": [
       "{'hola': 2, 'adios': 3, 'alegre': 4, 'como estas': 56}"
      ]
     },
     "execution_count": 51,
     "metadata": {},
     "output_type": "execute_result"
    }
   ],
   "source": [
    "# con un zip\n",
    "\n",
    "dict(zip(lista_strings, lista))"
   ]
  },
  {
   "cell_type": "code",
   "execution_count": null,
   "id": "174b27ae",
   "metadata": {},
   "outputs": [],
   "source": []
  }
 ],
 "metadata": {
  "kernelspec": {
   "display_name": "ia",
   "language": "python",
   "name": "ia"
  },
  "language_info": {
   "codemirror_mode": {
    "name": "ipython",
    "version": 3
   },
   "file_extension": ".py",
   "mimetype": "text/x-python",
   "name": "python",
   "nbconvert_exporter": "python",
   "pygments_lexer": "ipython3",
   "version": "3.9.19"
  },
  "toc": {
   "base_numbering": 1,
   "nav_menu": {},
   "number_sections": false,
   "sideBar": true,
   "skip_h1_title": true,
   "title_cell": "Tabla de Contenidos",
   "title_sidebar": "Contents",
   "toc_cell": true,
   "toc_position": {
    "height": "calc(100% - 180px)",
    "left": "10px",
    "top": "150px",
    "width": "285.66px"
   },
   "toc_section_display": true,
   "toc_window_display": true
  }
 },
 "nbformat": 4,
 "nbformat_minor": 5
}
