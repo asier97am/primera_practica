{
 "cells": [
  {
   "cell_type": "markdown",
   "id": "e4d47a76",
   "metadata": {},
   "source": [
    "# 1 - Operaciones numéricas\n",
    "\n",
    "<br>\n",
    "<br>\n",
    "\n",
    "<img src=\"https://raw.githubusercontent.com/Hack-io-AI/ai_images/main/python_num_operations.webp\" style=\"width:400px;\"/>"
   ]
  },
  {
   "cell_type": "markdown",
   "id": "13e2a36e",
   "metadata": {
    "toc": true
   },
   "source": [
    "<h1>Tabla de Contenidos<span class=\"tocSkip\"></span></h1>\n",
    "<div class=\"toc\"><ul class=\"toc-item\"><li><span><a href=\"#1---Operaciones-numéricas\" data-toc-modified-id=\"1---Operaciones-numéricas-1\">1 - Operaciones numéricas</a></span><ul class=\"toc-item\"><li><span><a href=\"#1.1---Sumar\" data-toc-modified-id=\"1.1---Sumar-1.1\">1.1 - Sumar</a></span></li><li><span><a href=\"#1.2---Restar\" data-toc-modified-id=\"1.2---Restar-1.2\">1.2 - Restar</a></span></li><li><span><a href=\"#1.3---Multiplicar\" data-toc-modified-id=\"1.3---Multiplicar-1.3\">1.3 - Multiplicar</a></span></li><li><span><a href=\"#1.4---Dividir\" data-toc-modified-id=\"1.4---Dividir-1.4\">1.4 - Dividir</a></span></li><li><span><a href=\"#1.5---División-entera\" data-toc-modified-id=\"1.5---División-entera-1.5\">1.5 - División entera</a></span></li><li><span><a href=\"#1.6---Exponente\" data-toc-modified-id=\"1.6---Exponente-1.6\">1.6 - Exponente</a></span></li><li><span><a href=\"#1.7---Redondeo\" data-toc-modified-id=\"1.7---Redondeo-1.7\">1.7 - Redondeo</a></span></li></ul></li></ul></div>"
   ]
  },
  {
   "cell_type": "markdown",
   "id": "ed18ea38",
   "metadata": {},
   "source": [
    "### 1 - Operaciones numéricas"
   ]
  },
  {
   "cell_type": "markdown",
   "id": "db06e0f4",
   "metadata": {},
   "source": [
    "Python proporciona una amplia gama de operaciones numéricas, que se pueden realizar utilizando operadores aritméticos básicos. Veámos varios ejemplos:"
   ]
  },
  {
   "cell_type": "markdown",
   "id": "f174cf70",
   "metadata": {},
   "source": [
    "#### 1.1 - Sumar\n",
    "\n",
    "**(+)**: Realiza la suma de dos números."
   ]
  },
  {
   "cell_type": "code",
   "execution_count": 1,
   "id": "996c6849",
   "metadata": {},
   "outputs": [
    {
     "name": "stdout",
     "output_type": "stream",
     "text": [
      "15\n"
     ]
    }
   ],
   "source": [
    "a = 10\n",
    "\n",
    "b = 5\n",
    "\n",
    "resultado = a + b\n",
    "\n",
    "print(resultado)"
   ]
  },
  {
   "cell_type": "code",
   "execution_count": 2,
   "id": "d1c18967",
   "metadata": {},
   "outputs": [
    {
     "name": "stdout",
     "output_type": "stream",
     "text": [
      "55.0\n"
     ]
    }
   ],
   "source": [
    "resultado = 42.1 + 12.9\n",
    "\n",
    "print(resultado)"
   ]
  },
  {
   "cell_type": "markdown",
   "id": "0d68a0f1",
   "metadata": {},
   "source": [
    "Es importante notar que los números reales en Python pueden sufrir de problemas de precisión debido a la forma en que se representan internamente. Esto es común en muchos lenguajes de programación y es resultado de la representación binaria de los números de punto flotante.\n"
   ]
  },
  {
   "cell_type": "code",
   "execution_count": 3,
   "id": "2ff6b454",
   "metadata": {},
   "outputs": [
    {
     "name": "stdout",
     "output_type": "stream",
     "text": [
      "0.30000000000000004\n"
     ]
    }
   ],
   "source": [
    "resultado = 0.1 + 0.2\n",
    "\n",
    "print(resultado)"
   ]
  },
  {
   "cell_type": "markdown",
   "id": "a6a072ab",
   "metadata": {},
   "source": [
    "#### 1.2 - Restar\n",
    "\n",
    "**(-)**: Resta el segundo número del primero."
   ]
  },
  {
   "cell_type": "code",
   "execution_count": 4,
   "id": "4274acd6",
   "metadata": {},
   "outputs": [
    {
     "name": "stdout",
     "output_type": "stream",
     "text": [
      "5\n"
     ]
    }
   ],
   "source": [
    "resultado = a - b\n",
    "\n",
    "print(resultado)"
   ]
  },
  {
   "cell_type": "code",
   "execution_count": 5,
   "id": "3e1c7e7c",
   "metadata": {},
   "outputs": [
    {
     "name": "stdout",
     "output_type": "stream",
     "text": [
      "-0.1\n"
     ]
    }
   ],
   "source": [
    "resultado = 0.1 - 0.2\n",
    "\n",
    "print(resultado)"
   ]
  },
  {
   "cell_type": "markdown",
   "id": "a8f5675e",
   "metadata": {},
   "source": [
    "#### 1.3 - Multiplicar\n",
    "\n",
    "**(*)**: Multiplica dos números."
   ]
  },
  {
   "cell_type": "code",
   "execution_count": 7,
   "id": "5e11796e",
   "metadata": {},
   "outputs": [
    {
     "name": "stdout",
     "output_type": "stream",
     "text": [
      "50\n"
     ]
    }
   ],
   "source": [
    "resultado = a * b\n",
    "    \n",
    "print(resultado)"
   ]
  },
  {
   "cell_type": "code",
   "execution_count": 8,
   "id": "cece43a3",
   "metadata": {},
   "outputs": [
    {
     "name": "stdout",
     "output_type": "stream",
     "text": [
      "13.225200000000001\n"
     ]
    }
   ],
   "source": [
    "resultado = 4.12 * 3.21\n",
    "\n",
    "print(resultado)"
   ]
  },
  {
   "cell_type": "markdown",
   "id": "df4e3eff",
   "metadata": {},
   "source": [
    "#### 1.4 - Dividir\n",
    "\n",
    "**(/)**: Divide el primer número por el segundo. El resultado es un número de punto flotante."
   ]
  },
  {
   "cell_type": "code",
   "execution_count": 9,
   "id": "7eba55de",
   "metadata": {},
   "outputs": [
    {
     "name": "stdout",
     "output_type": "stream",
     "text": [
      "2.0\n"
     ]
    }
   ],
   "source": [
    "resultado = a / b\n",
    "\n",
    "print(resultado)"
   ]
  },
  {
   "cell_type": "code",
   "execution_count": 10,
   "id": "a9af65d6",
   "metadata": {},
   "outputs": [
    {
     "name": "stdout",
     "output_type": "stream",
     "text": [
      "15.089201877934274\n"
     ]
    }
   ],
   "source": [
    "resultado = 32.14 / 2.13\n",
    "\n",
    "print(resultado)"
   ]
  },
  {
   "cell_type": "markdown",
   "id": "f1d318bd",
   "metadata": {},
   "source": [
    "#### 1.5 - División entera\n",
    "\n",
    "**(//)**: Divide el primer número por el segundo y devuelve el resultado truncado, sin parte decimal."
   ]
  },
  {
   "cell_type": "code",
   "execution_count": 11,
   "id": "f56423cc",
   "metadata": {},
   "outputs": [
    {
     "name": "stdout",
     "output_type": "stream",
     "text": [
      "2\n"
     ]
    }
   ],
   "source": [
    "resultado = a // b\n",
    "\n",
    "print(resultado)"
   ]
  },
  {
   "cell_type": "code",
   "execution_count": 12,
   "id": "ddc445cd",
   "metadata": {},
   "outputs": [
    {
     "name": "stdout",
     "output_type": "stream",
     "text": [
      "15.0\n"
     ]
    }
   ],
   "source": [
    "resultado = 32.14 // 2.13\n",
    "\n",
    "print(resultado)"
   ]
  },
  {
   "cell_type": "markdown",
   "id": "47915b76",
   "metadata": {},
   "source": [
    "#### 1.6 - Exponente\n",
    "\n",
    "(**): Eleva el primer número a la potencia del segundo."
   ]
  },
  {
   "cell_type": "code",
   "execution_count": 13,
   "id": "b00158af",
   "metadata": {},
   "outputs": [
    {
     "name": "stdout",
     "output_type": "stream",
     "text": [
      "8\n"
     ]
    }
   ],
   "source": [
    "resultado = 2 ** 3\n",
    "\n",
    "print(resultado)"
   ]
  },
  {
   "cell_type": "code",
   "execution_count": 14,
   "id": "204d95c7",
   "metadata": {},
   "outputs": [
    {
     "name": "stdout",
     "output_type": "stream",
     "text": [
      "1.4142135623730951\n"
     ]
    }
   ],
   "source": [
    "# raiz cuadrada\n",
    "\n",
    "resultado = 2 ** (1/2)\n",
    "\n",
    "print(resultado)"
   ]
  },
  {
   "cell_type": "markdown",
   "id": "c92765e8",
   "metadata": {},
   "source": [
    "#### 1.7 - Redondeo\n",
    "\n",
    "Redondeo de un número."
   ]
  },
  {
   "cell_type": "code",
   "execution_count": 19,
   "id": "71d36bb3",
   "metadata": {},
   "outputs": [],
   "source": [
    "# definimos un numero\n",
    "\n",
    "\n",
    "numero = 0.9834"
   ]
  },
  {
   "cell_type": "code",
   "execution_count": 20,
   "id": "dfd05321",
   "metadata": {},
   "outputs": [
    {
     "data": {
      "text/plain": [
       "1"
      ]
     },
     "execution_count": 20,
     "metadata": {},
     "output_type": "execute_result"
    }
   ],
   "source": [
    "round(numero)"
   ]
  },
  {
   "cell_type": "code",
   "execution_count": 21,
   "id": "fcb2d89b",
   "metadata": {},
   "outputs": [
    {
     "data": {
      "text/plain": [
       "0.98"
      ]
     },
     "execution_count": 21,
     "metadata": {},
     "output_type": "execute_result"
    }
   ],
   "source": [
    "round(numero, 2)"
   ]
  },
  {
   "cell_type": "code",
   "execution_count": null,
   "id": "cc3897b8",
   "metadata": {},
   "outputs": [],
   "source": []
  }
 ],
 "metadata": {
  "kernelspec": {
   "display_name": "ia",
   "language": "python",
   "name": "ia"
  },
  "language_info": {
   "codemirror_mode": {
    "name": "ipython",
    "version": 3
   },
   "file_extension": ".py",
   "mimetype": "text/x-python",
   "name": "python",
   "nbconvert_exporter": "python",
   "pygments_lexer": "ipython3",
   "version": "3.9.19"
  },
  "toc": {
   "base_numbering": 1,
   "nav_menu": {},
   "number_sections": false,
   "sideBar": true,
   "skip_h1_title": true,
   "title_cell": "Tabla de Contenidos",
   "title_sidebar": "Contents",
   "toc_cell": true,
   "toc_position": {
    "height": "calc(100% - 180px)",
    "left": "10px",
    "top": "150px",
    "width": "273.655px"
   },
   "toc_section_display": true,
   "toc_window_display": true
  }
 },
 "nbformat": 4,
 "nbformat_minor": 5
}
