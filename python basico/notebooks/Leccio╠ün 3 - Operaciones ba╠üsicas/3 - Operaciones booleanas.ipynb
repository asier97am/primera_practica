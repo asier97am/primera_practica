{
 "cells": [
  {
   "cell_type": "markdown",
   "id": "1f8bf395",
   "metadata": {},
   "source": [
    "# 3 - Operaciones booleanas\n",
    "\n",
    "<br>\n",
    "<br>\n",
    "\n",
    "<img src=\"https://raw.githubusercontent.com/Hack-io-AI/ai_images/main/python_boolean.webp\" style=\"width:400px;\"/>"
   ]
  },
  {
   "cell_type": "markdown",
   "id": "a1813d00",
   "metadata": {
    "toc": true
   },
   "source": [
    "<h1>Tabla de Contenidos<span class=\"tocSkip\"></span></h1>\n",
    "<div class=\"toc\"><ul class=\"toc-item\"><li><span><a href=\"#1---Operadores-Lógicos\" data-toc-modified-id=\"1---Operadores-Lógicos-1\">1 - Operadores Lógicos</a></span><ul class=\"toc-item\"><li><span><a href=\"#1.1-AND-(and)\" data-toc-modified-id=\"1.1-AND-(and)-1.1\">1.1 AND (and)</a></span></li><li><span><a href=\"#1.2---OR-(or)\" data-toc-modified-id=\"1.2---OR-(or)-1.2\">1.2 - OR (or)</a></span></li><li><span><a href=\"#1.3---NOT-(not)\" data-toc-modified-id=\"1.3---NOT-(not)-1.3\">1.3 - NOT (not)</a></span></li></ul></li><li><span><a href=\"#2---Operadores-de-Comparación\" data-toc-modified-id=\"2---Operadores-de-Comparación-2\">2 - Operadores de Comparación</a></span><ul class=\"toc-item\"><li><span><a href=\"#2.1---Igual-a-(==)\" data-toc-modified-id=\"2.1---Igual-a-(==)-2.1\">2.1 - Igual a (==)</a></span></li><li><span><a href=\"#2.2---Distinto-de-(!=)\" data-toc-modified-id=\"2.2---Distinto-de-(!=)-2.2\">2.2 - Distinto de (!=)</a></span></li><li><span><a href=\"#2.3---Mayor-que-(>)\" data-toc-modified-id=\"2.3---Mayor-que-(>)-2.3\">2.3 - Mayor que (&gt;)</a></span></li><li><span><a href=\"#2.4---Menor-que-(<)\" data-toc-modified-id=\"2.4---Menor-que-(<)-2.4\">2.4 - Menor que (&lt;)</a></span></li><li><span><a href=\"#2.5---Mayor-o-igual-que-(>=)\" data-toc-modified-id=\"2.5---Mayor-o-igual-que-(>=)-2.5\">2.5 - Mayor o igual que (&gt;=)</a></span></li><li><span><a href=\"#2.6---Menor-o-igual-que-(<=)\" data-toc-modified-id=\"2.6---Menor-o-igual-que-(<=)-2.6\">2.6 - Menor o igual que (&lt;=)</a></span></li></ul></li></ul></div>"
   ]
  },
  {
   "cell_type": "markdown",
   "id": "c7ee105f",
   "metadata": {},
   "source": [
    "### 1 - Operadores Lógicos"
   ]
  },
  {
   "cell_type": "markdown",
   "id": "61a93549",
   "metadata": {},
   "source": [
    "#### 1.1 AND (and)\n",
    "\n",
    "Devuelve True si ambos operandos son True."
   ]
  },
  {
   "cell_type": "code",
   "execution_count": 1,
   "id": "1ca5dfd1",
   "metadata": {},
   "outputs": [
    {
     "name": "stdout",
     "output_type": "stream",
     "text": [
      "False\n"
     ]
    }
   ],
   "source": [
    "a = True\n",
    "\n",
    "b = False\n",
    "\n",
    "resultado = a and b\n",
    "\n",
    "print(resultado)"
   ]
  },
  {
   "cell_type": "markdown",
   "id": "7beea0a2",
   "metadata": {},
   "source": [
    "#### 1.2 - OR (or)\n",
    "\n",
    "Devuelve True si al menos uno de los operandos es True."
   ]
  },
  {
   "cell_type": "code",
   "execution_count": 2,
   "id": "1be18186",
   "metadata": {},
   "outputs": [
    {
     "name": "stdout",
     "output_type": "stream",
     "text": [
      "True\n"
     ]
    }
   ],
   "source": [
    "resultado = a or b\n",
    "\n",
    "print(resultado)"
   ]
  },
  {
   "cell_type": "markdown",
   "id": "2bcafe80",
   "metadata": {},
   "source": [
    "#### 1.3 - NOT (not)\n",
    "\n",
    "Invierte el valor booleano."
   ]
  },
  {
   "cell_type": "code",
   "execution_count": 4,
   "id": "3d4196f3",
   "metadata": {},
   "outputs": [
    {
     "name": "stdout",
     "output_type": "stream",
     "text": [
      "False\n"
     ]
    }
   ],
   "source": [
    "resultado = not a\n",
    "\n",
    "print(resultado)"
   ]
  },
  {
   "cell_type": "markdown",
   "id": "1deec3d8",
   "metadata": {},
   "source": [
    "### 2 - Operadores de Comparación"
   ]
  },
  {
   "cell_type": "markdown",
   "id": "b426cefc",
   "metadata": {},
   "source": [
    "Los operadores de comparación devuelven valores booleanos (True o False) y se utilizan para comparar valores."
   ]
  },
  {
   "cell_type": "markdown",
   "id": "c936466d",
   "metadata": {},
   "source": [
    "#### 2.1 - Igual a (==)"
   ]
  },
  {
   "cell_type": "code",
   "execution_count": 5,
   "id": "252323e5",
   "metadata": {},
   "outputs": [
    {
     "name": "stdout",
     "output_type": "stream",
     "text": [
      "True\n"
     ]
    }
   ],
   "source": [
    "print(5 == 5)"
   ]
  },
  {
   "cell_type": "code",
   "execution_count": 6,
   "id": "3b8f15fb",
   "metadata": {},
   "outputs": [
    {
     "name": "stdout",
     "output_type": "stream",
     "text": [
      "False\n"
     ]
    }
   ],
   "source": [
    "print(5 == 2)"
   ]
  },
  {
   "cell_type": "markdown",
   "id": "faa12007",
   "metadata": {},
   "source": [
    "#### 2.2 - Distinto de (!=)"
   ]
  },
  {
   "cell_type": "code",
   "execution_count": 7,
   "id": "371e6435",
   "metadata": {},
   "outputs": [
    {
     "name": "stdout",
     "output_type": "stream",
     "text": [
      "False\n"
     ]
    }
   ],
   "source": [
    "print(5 != 5)"
   ]
  },
  {
   "cell_type": "code",
   "execution_count": 8,
   "id": "b101663f",
   "metadata": {},
   "outputs": [
    {
     "name": "stdout",
     "output_type": "stream",
     "text": [
      "True\n"
     ]
    }
   ],
   "source": [
    "print(5 != 2)"
   ]
  },
  {
   "cell_type": "markdown",
   "id": "791214bf",
   "metadata": {},
   "source": [
    "#### 2.3 - Mayor que (>)"
   ]
  },
  {
   "cell_type": "code",
   "execution_count": 9,
   "id": "e2c35bfb",
   "metadata": {},
   "outputs": [
    {
     "name": "stdout",
     "output_type": "stream",
     "text": [
      "False\n"
     ]
    }
   ],
   "source": [
    "print(5 > 5)"
   ]
  },
  {
   "cell_type": "code",
   "execution_count": 10,
   "id": "37d2775d",
   "metadata": {},
   "outputs": [
    {
     "name": "stdout",
     "output_type": "stream",
     "text": [
      "True\n"
     ]
    }
   ],
   "source": [
    "print(5 > 2)"
   ]
  },
  {
   "cell_type": "markdown",
   "id": "9043c628",
   "metadata": {},
   "source": [
    "#### 2.4 - Menor que (<)"
   ]
  },
  {
   "cell_type": "code",
   "execution_count": 11,
   "id": "4e2174f8",
   "metadata": {},
   "outputs": [
    {
     "name": "stdout",
     "output_type": "stream",
     "text": [
      "False\n"
     ]
    }
   ],
   "source": [
    "print(5 < 5)"
   ]
  },
  {
   "cell_type": "code",
   "execution_count": 12,
   "id": "ff940550",
   "metadata": {},
   "outputs": [
    {
     "name": "stdout",
     "output_type": "stream",
     "text": [
      "False\n"
     ]
    }
   ],
   "source": [
    "print(5 < 2)"
   ]
  },
  {
   "cell_type": "code",
   "execution_count": 13,
   "id": "1044e6fe",
   "metadata": {},
   "outputs": [
    {
     "name": "stdout",
     "output_type": "stream",
     "text": [
      "True\n"
     ]
    }
   ],
   "source": [
    "print(2 < 5)"
   ]
  },
  {
   "cell_type": "markdown",
   "id": "11ea8b0b",
   "metadata": {},
   "source": [
    "#### 2.5 - Mayor o igual que (>=)"
   ]
  },
  {
   "cell_type": "code",
   "execution_count": 14,
   "id": "8a3845d8",
   "metadata": {},
   "outputs": [
    {
     "name": "stdout",
     "output_type": "stream",
     "text": [
      "True\n"
     ]
    }
   ],
   "source": [
    "print(5 >= 5)"
   ]
  },
  {
   "cell_type": "code",
   "execution_count": 15,
   "id": "64ef0a33",
   "metadata": {},
   "outputs": [
    {
     "name": "stdout",
     "output_type": "stream",
     "text": [
      "True\n"
     ]
    }
   ],
   "source": [
    "print(15 >= 5)"
   ]
  },
  {
   "cell_type": "markdown",
   "id": "0a8e0902",
   "metadata": {},
   "source": [
    "#### 2.6 - Menor o igual que (<=)"
   ]
  },
  {
   "cell_type": "code",
   "execution_count": 16,
   "id": "947f46e0",
   "metadata": {},
   "outputs": [
    {
     "name": "stdout",
     "output_type": "stream",
     "text": [
      "True\n"
     ]
    }
   ],
   "source": [
    "print(2 <= 5)"
   ]
  },
  {
   "cell_type": "code",
   "execution_count": null,
   "id": "490e020f",
   "metadata": {},
   "outputs": [],
   "source": []
  }
 ],
 "metadata": {
  "kernelspec": {
   "display_name": "ia",
   "language": "python",
   "name": "ia"
  },
  "language_info": {
   "codemirror_mode": {
    "name": "ipython",
    "version": 3
   },
   "file_extension": ".py",
   "mimetype": "text/x-python",
   "name": "python",
   "nbconvert_exporter": "python",
   "pygments_lexer": "ipython3",
   "version": "3.9.19"
  },
  "toc": {
   "base_numbering": 1,
   "nav_menu": {},
   "number_sections": false,
   "sideBar": true,
   "skip_h1_title": true,
   "title_cell": "Tabla de Contenidos",
   "title_sidebar": "Contents",
   "toc_cell": true,
   "toc_position": {
    "height": "calc(100% - 180px)",
    "left": "10px",
    "top": "150px",
    "width": "309.766px"
   },
   "toc_section_display": true,
   "toc_window_display": true
  }
 },
 "nbformat": 4,
 "nbformat_minor": 5
}
