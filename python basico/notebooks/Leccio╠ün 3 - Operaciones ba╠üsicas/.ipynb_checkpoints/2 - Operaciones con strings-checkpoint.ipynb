{
 "cells": [
  {
   "cell_type": "markdown",
   "id": "091b7084",
   "metadata": {},
   "source": [
    "# 2 - Operaciones con strings\n",
    "\n",
    "<br>\n",
    "<br>\n",
    "\n",
    "<img src=\"https://raw.githubusercontent.com/Hack-io-AI/ai_images/main/python_strings.webp\" style=\"width:400px;\"/>"
   ]
  },
  {
   "cell_type": "markdown",
   "id": "63c09b37",
   "metadata": {
    "toc": true
   },
   "source": [
    "<h1>Tabla de Contenidos<span class=\"tocSkip\"></span></h1>\n",
    "<div class=\"toc\"><ul class=\"toc-item\"><li><span><a href=\"#1---Operaciones-con-strings\" data-toc-modified-id=\"1---Operaciones-con-strings-1\">1 - Operaciones con strings</a></span><ul class=\"toc-item\"><li><span><a href=\"#1.1---Concatenación\" data-toc-modified-id=\"1.1---Concatenación-1.1\">1.1 - Concatenación</a></span></li><li><span><a href=\"#1.2---Repetición\" data-toc-modified-id=\"1.2---Repetición-1.2\">1.2 - Repetición</a></span></li></ul></li></ul></div>"
   ]
  },
  {
   "cell_type": "markdown",
   "id": "996bcd0c",
   "metadata": {},
   "source": [
    "### 1 - Operaciones con strings"
   ]
  },
  {
   "cell_type": "markdown",
   "id": "bd4c7e03",
   "metadata": {},
   "source": [
    "#### 1.1 - Concatenación\n",
    "\n",
    "Podemos concatenar strings usando el operador +."
   ]
  },
  {
   "cell_type": "code",
   "execution_count": 1,
   "id": "8fa9d68b",
   "metadata": {},
   "outputs": [
    {
     "name": "stdout",
     "output_type": "stream",
     "text": [
      "Hola Python\n"
     ]
    }
   ],
   "source": [
    "saludo = 'Hola'\n",
    "\n",
    "sujeto = 'Python'\n",
    "\n",
    "\n",
    "concatenacion = saludo + ' ' + sujeto\n",
    "\n",
    "print(concatenacion)  "
   ]
  },
  {
   "cell_type": "markdown",
   "id": "45eb664e",
   "metadata": {},
   "source": [
    "#### 1.2 - Repetición\n",
    "\n",
    "Podemos repetir una string usando el operador *."
   ]
  },
  {
   "cell_type": "code",
   "execution_count": 2,
   "id": "a5af9e71",
   "metadata": {},
   "outputs": [
    {
     "name": "stdout",
     "output_type": "stream",
     "text": [
      "jajaja\n"
     ]
    }
   ],
   "source": [
    "risa = 'ja' * 3\n",
    "\n",
    "print(risa)  "
   ]
  }
 ],
 "metadata": {
  "kernelspec": {
   "display_name": "ia",
   "language": "python",
   "name": "ia"
  },
  "language_info": {
   "codemirror_mode": {
    "name": "ipython",
    "version": 3
   },
   "file_extension": ".py",
   "mimetype": "text/x-python",
   "name": "python",
   "nbconvert_exporter": "python",
   "pygments_lexer": "ipython3",
   "version": "3.9.19"
  },
  "toc": {
   "base_numbering": 1,
   "nav_menu": {},
   "number_sections": false,
   "sideBar": true,
   "skip_h1_title": true,
   "title_cell": "Tabla de Contenidos",
   "title_sidebar": "Contents",
   "toc_cell": true,
   "toc_position": {
    "height": "calc(100% - 180px)",
    "left": "10px",
    "top": "150px",
    "width": "246.884px"
   },
   "toc_section_display": true,
   "toc_window_display": true
  }
 },
 "nbformat": 4,
 "nbformat_minor": 5
}
