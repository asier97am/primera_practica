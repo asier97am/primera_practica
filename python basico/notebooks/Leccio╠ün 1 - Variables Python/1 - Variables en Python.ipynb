{
 "cells": [
  {
   "cell_type": "markdown",
   "id": "5c7daa9f",
   "metadata": {},
   "source": [
    "# 1 - Variables en Python\n",
    "\n",
    "<br>\n",
    "<br>\n",
    "\n",
    "<img src=\"https://raw.githubusercontent.com/Hack-io-AI/ai_images/main/python_variables.webp\" style=\"width:400px;\"/>"
   ]
  },
  {
   "cell_type": "markdown",
   "id": "aac8b4f6",
   "metadata": {
    "toc": true
   },
   "source": [
    "<h1>Tabla de Contenidos<span class=\"tocSkip\"></span></h1>\n",
    "<div class=\"toc\"><ul class=\"toc-item\"><li><span><a href=\"#1---Variables-en-Python\" data-toc-modified-id=\"1---Variables-en-Python-1\">1 - Variables en Python</a></span></li><li><span><a href=\"#2---Declaración-de-variables\" data-toc-modified-id=\"2---Declaración-de-variables-2\">2 - Declaración de variables</a></span></li><li><span><a href=\"#3---Reasignación-de-variables\" data-toc-modified-id=\"3---Reasignación-de-variables-3\">3 - Reasignación de variables</a></span></li><li><span><a href=\"#4---Variables-constantes\" data-toc-modified-id=\"4---Variables-constantes-4\">4 - Variables constantes</a></span></li><li><span><a href=\"#5---Intercambio-de-valores\" data-toc-modified-id=\"5---Intercambio-de-valores-5\">5 - Intercambio de valores</a></span></li><li><span><a href=\"#6---del-para-eliminar-variables\" data-toc-modified-id=\"6---del-para-eliminar-variables-6\">6 - <code>del</code> para eliminar variables</a></span></li></ul></div>"
   ]
  },
  {
   "cell_type": "markdown",
   "id": "2ae7bdd9",
   "metadata": {},
   "source": [
    "## 1 - Variables en Python"
   ]
  },
  {
   "cell_type": "markdown",
   "id": "eb28611b",
   "metadata": {},
   "source": [
    "En Python, una variable es un contenedor para almacenar datos. Tienen tres componentes, nombre, valor y tipo de dato. Las variables se crean en el momento en que se les asigna un valor por primera vez. Python es un lenguaje de programación de tipado dinámico, lo que significa que no necesitas declarar explícitamente el tipo de dato de la variable. El tipo de dato de la variable es inferido automáticamente según el valor que le asignemos."
   ]
  },
  {
   "cell_type": "markdown",
   "id": "2ebad17d",
   "metadata": {},
   "source": [
    "**Reglas para Nombres de Variables**\n",
    "\n",
    "+ Los nombres de las variables pueden contener letras, números y guiones bajos (_).\n",
    "\n",
    "+ Deben comenzar con una letra o un guion bajo.\n",
    "\n",
    "+ No pueden comenzar con un número.\n",
    "\n",
    "+ No pueden ser una palabra reservada de Python (como if, else, for, while, etc.)."
   ]
  },
  {
   "cell_type": "markdown",
   "id": "d2070a1f",
   "metadata": {},
   "source": [
    "**Variables Globales y Locales**\n",
    "\n",
    "+ Variables Globales: Se definen fuera de cualquier función y están disponibles en cualquier parte del código.\n",
    "\n",
    "+ Variables Locales: Se definen dentro de una función y solo están disponibles dentro de esa función."
   ]
  },
  {
   "cell_type": "markdown",
   "id": "aec959ce",
   "metadata": {},
   "source": [
    "## 2 - Declaración de variables"
   ]
  },
  {
   "cell_type": "markdown",
   "id": "298fa92f",
   "metadata": {},
   "source": [
    "A diferencia de otros lenguajes, en Python no es necesario declarar el tipo de dato de una variable antes de usarla. Basta con asignar un valor utilizando el operador =:"
   ]
  },
  {
   "cell_type": "code",
   "execution_count": 1,
   "id": "1d7eabd1",
   "metadata": {},
   "outputs": [],
   "source": [
    "# ejemplos de declaración de variables\n",
    "\n",
    "nombre = 'Juan'\n",
    "\n",
    "edad = 32\n",
    "\n",
    "altura = 1.75\n",
    "\n",
    "es_estudiante = True"
   ]
  },
  {
   "cell_type": "markdown",
   "id": "43f7bb4b",
   "metadata": {},
   "source": [
    "En este ejemplo, nombre es una cadena de texto (str), edad es un entero (int), altura es un número flotante (float), y es_estudiante es un booleano (bool). Python asigna automáticamente el tipo de dato según el valor que se almacene."
   ]
  },
  {
   "cell_type": "markdown",
   "id": "845d2c86",
   "metadata": {},
   "source": [
    "## 3 - Reasignación de variables"
   ]
  },
  {
   "cell_type": "markdown",
   "id": "a1cbf8ec",
   "metadata": {},
   "source": [
    "Podemos reasignar un nuevo valor a una variable en cualquier momento. El tipo de dato puede cambiar dinámicamente:"
   ]
  },
  {
   "cell_type": "code",
   "execution_count": 2,
   "id": "7d69bf93",
   "metadata": {},
   "outputs": [],
   "source": [
    "edad = 25   # inicialmente es un numero\n",
    "\n",
    "edad = 'veinticinco'   # ahora es una cadena de caracteres"
   ]
  },
  {
   "cell_type": "markdown",
   "id": "3e2a8fef",
   "metadata": {},
   "source": [
    "## 4 - Variables constantes"
   ]
  },
  {
   "cell_type": "markdown",
   "id": "74b73ead",
   "metadata": {},
   "source": [
    "Aunque Python no tiene variables \"constantes\" como tal, por convención se usan nombres de variables en mayúsculas para indicar que su valor no debe cambiar, aunque Python lo permite."
   ]
  },
  {
   "cell_type": "code",
   "execution_count": 3,
   "id": "efdef131",
   "metadata": {},
   "outputs": [],
   "source": [
    "# constante\n",
    "\n",
    "PI = 3.141592"
   ]
  },
  {
   "cell_type": "markdown",
   "id": "d99f8970",
   "metadata": {},
   "source": [
    "## 5 - Intercambio de valores"
   ]
  },
  {
   "cell_type": "markdown",
   "id": "d1d2705c",
   "metadata": {},
   "source": [
    "Python permite intercambiar los valores de dos variables de manera sencilla:"
   ]
  },
  {
   "cell_type": "code",
   "execution_count": 4,
   "id": "e632843a",
   "metadata": {},
   "outputs": [],
   "source": [
    "a = 2\n",
    "\n",
    "b = 9\n",
    "\n",
    "a, b = b, a"
   ]
  },
  {
   "cell_type": "code",
   "execution_count": 5,
   "id": "a4cae706",
   "metadata": {},
   "outputs": [
    {
     "name": "stdout",
     "output_type": "stream",
     "text": [
      "9\n"
     ]
    }
   ],
   "source": [
    "print(a)"
   ]
  },
  {
   "cell_type": "code",
   "execution_count": 6,
   "id": "995c2749",
   "metadata": {},
   "outputs": [
    {
     "name": "stdout",
     "output_type": "stream",
     "text": [
      "2\n"
     ]
    }
   ],
   "source": [
    "print(b)"
   ]
  },
  {
   "cell_type": "code",
   "execution_count": 7,
   "id": "ba459f1c",
   "metadata": {},
   "outputs": [],
   "source": [
    "a, b = 5, 7"
   ]
  },
  {
   "cell_type": "markdown",
   "id": "7be3fb07",
   "metadata": {},
   "source": [
    "## 6 - `del` para eliminar variables"
   ]
  },
  {
   "cell_type": "code",
   "execution_count": 8,
   "id": "1140a2cd",
   "metadata": {},
   "outputs": [],
   "source": [
    "x = 10\n",
    "\n",
    "del x  # elmina la variable x de la memoria"
   ]
  },
  {
   "cell_type": "code",
   "execution_count": 9,
   "id": "4790072e",
   "metadata": {},
   "outputs": [
    {
     "ename": "NameError",
     "evalue": "name 'x' is not defined",
     "output_type": "error",
     "traceback": [
      "\u001b[0;31m---------------------------------------------------------------------------\u001b[0m",
      "\u001b[0;31mNameError\u001b[0m                                 Traceback (most recent call last)",
      "Cell \u001b[0;32mIn[9], line 1\u001b[0m\n\u001b[0;32m----> 1\u001b[0m \u001b[38;5;28mprint\u001b[39m(\u001b[43mx\u001b[49m)\n",
      "\u001b[0;31mNameError\u001b[0m: name 'x' is not defined"
     ]
    }
   ],
   "source": [
    "print(x)"
   ]
  },
  {
   "cell_type": "code",
   "execution_count": null,
   "id": "62897e10",
   "metadata": {},
   "outputs": [],
   "source": []
  }
 ],
 "metadata": {
  "kernelspec": {
   "display_name": "Python [conda env:base] *",
   "language": "python",
   "name": "conda-base-py"
  },
  "language_info": {
   "codemirror_mode": {
    "name": "ipython",
    "version": 3
   },
   "file_extension": ".py",
   "mimetype": "text/x-python",
   "name": "python",
   "nbconvert_exporter": "python",
   "pygments_lexer": "ipython3",
   "version": "3.12.7"
  },
  "toc": {
   "base_numbering": 1,
   "nav_menu": {},
   "number_sections": false,
   "sideBar": true,
   "skip_h1_title": true,
   "title_cell": "Tabla de Contenidos",
   "title_sidebar": "Contents",
   "toc_cell": true,
   "toc_position": {
    "height": "calc(100% - 180px)",
    "left": "10px",
    "top": "150px",
    "width": "261.745px"
   },
   "toc_section_display": true,
   "toc_window_display": true
  }
 },
 "nbformat": 4,
 "nbformat_minor": 5
}
