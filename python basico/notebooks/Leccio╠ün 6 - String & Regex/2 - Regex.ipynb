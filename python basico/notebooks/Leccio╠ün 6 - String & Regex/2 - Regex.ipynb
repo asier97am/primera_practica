{
 "cells": [
  {
   "cell_type": "markdown",
   "id": "4b978620",
   "metadata": {},
   "source": [
    "# 3 - Regex\n",
    "\n",
    "\n",
    "<br>\n",
    "<br>\n",
    "\n",
    "<img src=\"https://raw.githubusercontent.com/Hack-io-AI/ai_images/main/python_regex.webp\" style=\"width:400px;\"/>\n",
    "\n",
    "<br>\n",
    "\n",
    "<img src=\"https://raw.githubusercontent.com/Hack-io-AI/ai_images/main/regex.jpg\" style=\"width:400px;\"/>\n"
   ]
  },
  {
   "cell_type": "markdown",
   "id": "fea2c936",
   "metadata": {
    "toc": true
   },
   "source": [
    "<h1>Tabla de Contenidos<span class=\"tocSkip\"></span></h1>\n",
    "<div class=\"toc\"><ul class=\"toc-item\"><li><span><a href=\"#1---¿Qué-es-regex?\" data-toc-modified-id=\"1---¿Qué-es-regex?-1\">1 - ¿Qué es regex?</a></span></li><li><span><a href=\"#2---Sintáxis-básica\" data-toc-modified-id=\"2---Sintáxis-básica-2\">2 - Sintáxis básica</a></span></li><li><span><a href=\"#3---Patrones-básicos\" data-toc-modified-id=\"3---Patrones-básicos-3\">3 - Patrones básicos</a></span></li><li><span><a href=\"#4---Ejemplos-de-patrones\" data-toc-modified-id=\"4---Ejemplos-de-patrones-4\">4 - Ejemplos de patrones</a></span></li><li><span><a href=\"#5----Uso-de-regex-en-Python\" data-toc-modified-id=\"5----Uso-de-regex-en-Python-5\">5 -  Uso de regex en Python</a></span><ul class=\"toc-item\"><li><span><a href=\"#5.1---Método-search\" data-toc-modified-id=\"5.1---Método-search-5.1\">5.1 - Método search</a></span></li><li><span><a href=\"#5.2---Método-match\" data-toc-modified-id=\"5.2---Método-match-5.2\">5.2 - Método match</a></span></li><li><span><a href=\"#5.3---Método-findall\" data-toc-modified-id=\"5.3---Método-findall-5.3\">5.3 - Método findall</a></span></li><li><span><a href=\"#5.4---Método-sub\" data-toc-modified-id=\"5.4---Método-sub-5.4\">5.4 - Método sub</a></span></li><li><span><a href=\"#5.5---Método-split\" data-toc-modified-id=\"5.5---Método-split-5.5\">5.5 - Método split</a></span></li></ul></li><li><span><a href=\"#6---Recursos\" data-toc-modified-id=\"6---Recursos-6\">6 - Recursos</a></span></li></ul></div>"
   ]
  },
  {
   "cell_type": "markdown",
   "id": "f6c70017",
   "metadata": {},
   "source": [
    "## 1 - ¿Qué es regex?"
   ]
  },
  {
   "cell_type": "markdown",
   "id": "df15e990",
   "metadata": {},
   "source": [
    "Una expresión regular (regex, abreviatura de \"regular expression\") es una secuencia de caracteres que define un patrón de búsqueda. Las expresiones regulares se utilizan para realizar búsquedas y manipulaciones avanzadas de texto.\n",
    "\n",
    "**Se buscan patrones en strings tales como**:\n",
    "\n",
    "+ emails\n",
    "+ números de teléfono\n",
    "+ números de tarjetas de crédito\n",
    "+ IDs\n",
    "+ fechas\n",
    "+ cualquier tipo de dato que tenga un patrón definido"
   ]
  },
  {
   "cell_type": "markdown",
   "id": "b5d60003",
   "metadata": {},
   "source": [
    "## 2 - Sintáxis básica"
   ]
  },
  {
   "cell_type": "markdown",
   "id": "032da4ed",
   "metadata": {},
   "source": [
    "\n",
    "**selección**\n",
    "- `.`  : cualquier caracter excepto salto de línea\n",
    "- `\\d` : dígitos (0-9)\n",
    "- `\\D` : NO dígitos, cualquier cosa salvo un número\n",
    "- `\\w` : alfanumérico (a-z, A-Z, 0-9)\n",
    "- `\\W` : NO alfanumérico (., '¡)\n",
    "- `\\s` : espacio en blanco\n",
    "- `\\S` : cualquier cosa que NO sea un espacio en blanco\n",
    "\n",
    "**según posición**\n",
    "- `\\b` : límite de la string\n",
    "- `\\B` : NO limíte, dentro de la string\n",
    "- `^`  : principio de la string\n",
    "- `$`  : fin de la string\n",
    "\n",
    "**según cantidad**\n",
    "- `*`       : 0 o más\n",
    "- `+`       : 1 o más\n",
    "- `?`       : 0 o 1, haya o no haya\n",
    "- `{3}`     : exactamente 3, número exacto de caracteres\n",
    "- `{3,4}`   : rango de caracteres, {mínimo, máximo}\n",
    "\n",
    "**corchetes y grupos**\n",
    "- `[]`      : busca grupo de caracteres en el corchete\n",
    "- `[^ ]`    : busca grupo de caracteres que NO estén en el corchete\n",
    "- `|`       : o lógico (e.g: a|c significa el caracter a o el b)\n",
    "- `( )`     : grupo"
   ]
  },
  {
   "cell_type": "markdown",
   "id": "7282c3aa",
   "metadata": {},
   "source": [
    "## 3 - Patrones básicos"
   ]
  },
  {
   "cell_type": "markdown",
   "id": "14ba9a4a",
   "metadata": {},
   "source": [
    "+ `.` : Coincide con cualquier carácter excepto un salto de línea.\n",
    "+ `^` : Coincide con el inicio de una cadena.\n",
    "+ `$` : Coincide con el final de una cadena.\n",
    "+ `*` : Coincide con cero o más repeticiones del carácter anterior.\n",
    "+ `+` : Coincide con una o más repeticiones del carácter anterior.\n",
    "+ `?` : Coincide con cero o una repetición del carácter anterior.\n",
    "+ `{n}` : Coincide exactamente con n repeticiones del carácter anterior.\n",
    "+ `{n,}` : Coincide con n o más repeticiones del carácter anterior.\n",
    "+ `{n,m}` : Coincide con al menos n y no más de m repeticiones del carácter anterior.\n",
    "+ `[]` : Coincide con cualquier carácter dentro de los corchetes.\n",
    "+ `|` : Alternancia, coincide con el patrón a la izquierda o el patrón a la derecha.\n",
    "+ `()` : Agrupamiento, permite agrupar partes de una expresión regular.\n"
   ]
  },
  {
   "cell_type": "markdown",
   "id": "e1924506",
   "metadata": {},
   "source": [
    "## 4 - Ejemplos de patrones "
   ]
  },
  {
   "cell_type": "markdown",
   "id": "f96b2cc3",
   "metadata": {},
   "source": [
    "+ `[a-z]` : Coincide con cualquier letra minúscula.\n",
    "+ `[A-Z]` : Coincide con cualquier letra mayúscula.\n",
    "+ `[0-9]` : Coincide con cualquier dígito.\n",
    "+ `\\d` : Coincide con cualquier dígito (equivalente a [0-9]).\n",
    "+ `\\D` : Coincide con cualquier carácter que no sea un dígito.\n",
    "+ `\\w` : Coincide con cualquier carácter alfanumérico (equivalente a [a-zA-Z0-9_]).\n",
    "+ `\\W` : Coincide con cualquier carácter que no sea alfanumérico.\n",
    "+ `\\s` : Coincide con cualquier espacio en blanco (espacios, tabulaciones, saltos de línea).\n",
    "+ `\\S` : Coincide con cualquier carácter que no sea un espacio en blanco.\n"
   ]
  },
  {
   "cell_type": "markdown",
   "id": "21e96809",
   "metadata": {},
   "source": [
    "## 5 -  Uso de regex en Python"
   ]
  },
  {
   "cell_type": "markdown",
   "id": "30ee8090",
   "metadata": {},
   "source": [
    "Para usar regex tendremos que realizar la siguiente instalación:\n",
    "\n",
    "```bash\n",
    "pip install regex\n",
    "```"
   ]
  },
  {
   "cell_type": "code",
   "execution_count": 1,
   "id": "123e2144",
   "metadata": {},
   "outputs": [],
   "source": [
    "# importamos regex\n",
    "\n",
    "import re"
   ]
  },
  {
   "cell_type": "code",
   "execution_count": 2,
   "id": "faadc41f",
   "metadata": {},
   "outputs": [],
   "source": [
    "# usemos el siguiente texto\n",
    "\n",
    "texto='''Hola     Hackio, buscamos a nuestro nuevo    desarrollador  12  345  0.987986  😎  \n",
    "    \n",
    "    lista de contactos: \n",
    "    \n",
    "    hola@gmail.com, yo_rod_aqui@ifgsttdb.es, ha@hack.io, yo.r.a@gmail.com\n",
    "    \n",
    "    +34666123890, 1563-454-222\n",
    "    \n",
    "    ean : 0983458721346\n",
    "\n",
    "'''"
   ]
  },
  {
   "cell_type": "markdown",
   "id": "a1b77241",
   "metadata": {},
   "source": [
    "### 5.1 - Método search\n",
    "\n",
    "**re.search()**: Busca a través de la string el patrón dado, cualquier parte de la string\n",
    "\n",
    "- **argumentos de entrada:** patrón (regex) + string\n",
    "- **devuelve:** un objeto (span=rango de índices dentro de la str, match=elemento)"
   ]
  },
  {
   "cell_type": "code",
   "execution_count": 3,
   "id": "4fe69921",
   "metadata": {},
   "outputs": [],
   "source": [
    "# definimos el patron\n",
    "\n",
    "patron = '\\d+'    # numerico, 1 o mas caracteres"
   ]
  },
  {
   "cell_type": "code",
   "execution_count": 4,
   "id": "c973db28",
   "metadata": {},
   "outputs": [
    {
     "data": {
      "text/plain": [
       "<re.Match object; span=(60, 62), match='12'>"
      ]
     },
     "execution_count": 4,
     "metadata": {},
     "output_type": "execute_result"
    }
   ],
   "source": [
    "# uso del metodo\n",
    "\n",
    "re.search(patron, texto)"
   ]
  },
  {
   "cell_type": "code",
   "execution_count": 5,
   "id": "28cb2aa2",
   "metadata": {},
   "outputs": [
    {
     "data": {
      "text/plain": [
       "<re.Match object; span=(4, 9), match='     '>"
      ]
     },
     "execution_count": 5,
     "metadata": {},
     "output_type": "execute_result"
    }
   ],
   "source": [
    "# otro ejmplo\n",
    "\n",
    "patron = '\\W+'   # No alfanumerico, 1 o mas caracteres\n",
    "\n",
    "\n",
    "re.search(patron, texto)"
   ]
  },
  {
   "cell_type": "markdown",
   "id": "768cdaea",
   "metadata": {},
   "source": [
    "### 5.2 - Método match\n",
    "\n",
    "**re.match():** Busca el patrón al inicio de la string\n",
    "\n",
    "- **argumentos de entrada:** patrón (regex) + string\n",
    "- **devuelve:** un objeto (span=rango de índices dentro de la str, match=elemento)"
   ]
  },
  {
   "cell_type": "code",
   "execution_count": 6,
   "id": "9f9fea4e",
   "metadata": {},
   "outputs": [
    {
     "data": {
      "text/plain": [
       "<re.Match object; span=(0, 1), match='H'>"
      ]
     },
     "execution_count": 6,
     "metadata": {},
     "output_type": "execute_result"
    }
   ],
   "source": [
    "# usar el metodo\n",
    "\n",
    "re.match('\\w', texto)"
   ]
  },
  {
   "cell_type": "code",
   "execution_count": 7,
   "id": "7706c6db",
   "metadata": {},
   "outputs": [
    {
     "name": "stdout",
     "output_type": "stream",
     "text": [
      "Correcto dentro de la string\n"
     ]
    }
   ],
   "source": [
    "# otro ejemplo\n",
    "\n",
    "if re.match('\\w+', texto):\n",
    "    print('Correcto dentro de la string')\n",
    "    \n",
    "else:\n",
    "    print('El patron que buscas aqui no esta')"
   ]
  },
  {
   "cell_type": "markdown",
   "id": "15d22f53",
   "metadata": {},
   "source": [
    "### 5.3 - Método findall\n",
    "\n",
    "**re.findall()**: Encuentra todas las coincidencias del patrón.\n",
    "\n",
    "- **argumentos de entrada:** patrón (regex) + string\n",
    "- **devuelve:** una lista de los elementos encontrados"
   ]
  },
  {
   "cell_type": "code",
   "execution_count": 10,
   "id": "059e515a",
   "metadata": {},
   "outputs": [
    {
     "data": {
      "text/plain": [
       "['12',\n",
       " '345',\n",
       " '0',\n",
       " '987986',\n",
       " '34666123890',\n",
       " '1563',\n",
       " '454',\n",
       " '222',\n",
       " '0983458721346']"
      ]
     },
     "execution_count": 10,
     "metadata": {},
     "output_type": "execute_result"
    }
   ],
   "source": [
    "# ejmplo basico\n",
    "\n",
    "patron = '\\d+'    # numerico, 1 o mas caracteres\n",
    "\n",
    "re.findall(patron, texto)"
   ]
  },
  {
   "cell_type": "code",
   "execution_count": 11,
   "id": "0f48b14f",
   "metadata": {},
   "outputs": [
    {
     "data": {
      "text/plain": [
       "['hola@gmail.com', 'yo_rod_aqui@ifgsttdb.es', 'ha@hack.io', 'yo.r.a@gmail.com']"
      ]
     },
     "execution_count": 11,
     "metadata": {},
     "output_type": "execute_result"
    }
   ],
   "source": [
    "# busqueda de emails\n",
    "\n",
    "patron = '[\\w\\.]+@\\w+\\.\\w+'\n",
    "\n",
    "re.findall(patron, texto)"
   ]
  },
  {
   "cell_type": "markdown",
   "id": "8d757cb7",
   "metadata": {},
   "source": [
    "### 5.4 - Método sub\n",
    "\n",
    "**re.sub()**: Replaces one or many matches with a string\n",
    "\n",
    "- **argumentos de entrada:** patrón (regex) + cadena a modificar + string original\n",
    "- **devuelve:** una string modificada"
   ]
  },
  {
   "cell_type": "code",
   "execution_count": 12,
   "id": "a9a1a55a",
   "metadata": {},
   "outputs": [
    {
     "data": {
      "text/plain": [
       "'Hola     Hackio, buscamos a nuestro nuevo    desarrollador      .  😎  \\n    \\n    lista de contactos: \\n    \\n    hola@gmail.com, yo_rod_aqui@ifgsttdb.es, ha@hack.io, yo.r.a@gmail.com\\n    \\n    +, --\\n    \\n    ean : \\n\\n'"
      ]
     },
     "execution_count": 12,
     "metadata": {},
     "output_type": "execute_result"
    }
   ],
   "source": [
    "# sustituye numeros por nada\n",
    "\n",
    "re.sub('\\d+', '', texto)"
   ]
  },
  {
   "cell_type": "code",
   "execution_count": 13,
   "id": "c0e3bdbf",
   "metadata": {},
   "outputs": [
    {
     "data": {
      "text/plain": [
       "'Hola     Hackio, buscamos a nuestro nuevo    desarrollador  12  345  0.987986  😎  \\n    \\n    lista de contactos: \\n    \\n    , , , \\n    \\n    +34666123890, 1563-454-222\\n    \\n    ean : 0983458721346\\n\\n'"
      ]
     },
     "execution_count": 13,
     "metadata": {},
     "output_type": "execute_result"
    }
   ],
   "source": [
    "# sustituye email por nada\n",
    "\n",
    "re.sub(patron, '', texto)"
   ]
  },
  {
   "cell_type": "code",
   "execution_count": 14,
   "id": "ff2ea837",
   "metadata": {},
   "outputs": [
    {
     "data": {
      "text/plain": [
       "'Hola     Hackio, buscamos a nuestro nuevo    desarrollador  \\U0001fae5  \\U0001fae5  \\U0001fae5.\\U0001fae5  😎  \\n    \\n    lista de contactos: \\n    \\n    hola@gmail.com, yo_rod_aqui@ifgsttdb.es, ha@hack.io, yo.r.a@gmail.com\\n    \\n    +\\U0001fae5, \\U0001fae5-\\U0001fae5-\\U0001fae5\\n    \\n    ean : \\U0001fae5\\n\\n'"
      ]
     },
     "execution_count": 14,
     "metadata": {},
     "output_type": "execute_result"
    }
   ],
   "source": [
    "# sustituye numeros por emojis\n",
    "\n",
    "re.sub('\\d+', '🫥', texto) "
   ]
  },
  {
   "cell_type": "code",
   "execution_count": 15,
   "id": "8aec4c29",
   "metadata": {},
   "outputs": [
    {
     "data": {
      "text/plain": [
       "'\\U0001fae5'"
      ]
     },
     "execution_count": 15,
     "metadata": {},
     "output_type": "execute_result"
    }
   ],
   "source": [
    "'\\U0001fae5'"
   ]
  },
  {
   "cell_type": "markdown",
   "id": "0bd9b371",
   "metadata": {},
   "source": [
    "### 5.5 - Método split\n",
    "\n",
    "**re.split()**: Similar al split de las strings, corta la string por el patrón dado y devuelva una lista.\n",
    "\n",
    "- **argumentos de entrada:** patrón (regex) + string\n",
    "- **devuelve:** una lista"
   ]
  },
  {
   "cell_type": "code",
   "execution_count": 16,
   "id": "2350f009",
   "metadata": {},
   "outputs": [
    {
     "data": {
      "text/plain": [
       "['Hola     Hackio, buscamos a nuestro nuevo    desarrollador  12  345  0.987986  😎  ',\n",
       " '    ',\n",
       " '    lista de contactos: ',\n",
       " '    ',\n",
       " '    hola@gmail.com, yo_rod_aqui@ifgsttdb.es, ha@hack.io, yo.r.a@gmail.com',\n",
       " '    ',\n",
       " '    +34666123890, 1563-454-222',\n",
       " '    ',\n",
       " '    ean : 0983458721346',\n",
       " '',\n",
       " '']"
      ]
     },
     "execution_count": 16,
     "metadata": {},
     "output_type": "execute_result"
    }
   ],
   "source": [
    "# rompoe la string por el salto de linea\n",
    "\n",
    "re.split('\\n', texto)"
   ]
  },
  {
   "cell_type": "code",
   "execution_count": 17,
   "id": "7b7110f7",
   "metadata": {},
   "outputs": [
    {
     "data": {
      "text/plain": [
       "['Hola     Hackio, buscamos a nuestro nuevo    desarrollador  ',\n",
       " '  ',\n",
       " '  ',\n",
       " '.',\n",
       " '  😎  \\n    \\n    lista de contactos: \\n    \\n    hola@gmail.com, yo_rod_aqui@ifgsttdb.es, ha@hack.io, yo.r.a@gmail.com\\n    \\n    +',\n",
       " ', ',\n",
       " '-',\n",
       " '-',\n",
       " '\\n    \\n    ean : ',\n",
       " '\\n\\n']"
      ]
     },
     "execution_count": 17,
     "metadata": {},
     "output_type": "execute_result"
    }
   ],
   "source": [
    "# rompe por los numeros\n",
    "\n",
    "re.split('\\d+', texto)"
   ]
  },
  {
   "cell_type": "code",
   "execution_count": 18,
   "id": "3e3c4809",
   "metadata": {},
   "outputs": [
    {
     "data": {
      "text/plain": [
       "['Hola     Hackio, buscamos a nuestro nuevo    desarrollador  12  345  0.987986  😎  \\n    \\n    lista de contactos: \\n    \\n    ',\n",
       " ', ',\n",
       " ', ',\n",
       " ', ',\n",
       " '\\n    \\n    +34666123890, 1563-454-222\\n    \\n    ean : 0983458721346\\n\\n']"
      ]
     },
     "execution_count": 18,
     "metadata": {},
     "output_type": "execute_result"
    }
   ],
   "source": [
    "# rompe por los emails\n",
    "\n",
    "re.split(patron, texto)"
   ]
  },
  {
   "cell_type": "markdown",
   "id": "d0cfb4dd",
   "metadata": {},
   "source": [
    "## 6 - Recursos"
   ]
  },
  {
   "cell_type": "markdown",
   "id": "5f611224",
   "metadata": {},
   "source": [
    "**[pratica con regex101](https://regex101.com/)**\n",
    "\n",
    "**[Documentación](https://docs.python.org/3/howto/regex.html)**\n",
    "\n",
    "**[CHEATSHEET](https://medium.com/factory-mind/regex-tutorial-a-simple-cheatsheet-by-examples-649dc1c3f285)**\n"
   ]
  }
 ],
 "metadata": {
  "kernelspec": {
   "display_name": "ia",
   "language": "python",
   "name": "ia"
  },
  "language_info": {
   "codemirror_mode": {
    "name": "ipython",
    "version": 3
   },
   "file_extension": ".py",
   "mimetype": "text/x-python",
   "name": "python",
   "nbconvert_exporter": "python",
   "pygments_lexer": "ipython3",
   "version": "3.9.19"
  },
  "toc": {
   "base_numbering": 1,
   "nav_menu": {},
   "number_sections": false,
   "sideBar": true,
   "skip_h1_title": true,
   "title_cell": "Tabla de Contenidos",
   "title_sidebar": "Contents",
   "toc_cell": true,
   "toc_position": {
    "height": "calc(100% - 180px)",
    "left": "10px",
    "top": "150px",
    "width": "270.642px"
   },
   "toc_section_display": true,
   "toc_window_display": true
  }
 },
 "nbformat": 4,
 "nbformat_minor": 5
}
