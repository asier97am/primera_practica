{
 "cells": [
  {
   "cell_type": "markdown",
   "id": "6fe56554",
   "metadata": {},
   "source": [
    "# 1 - Métodos de Strings\n",
    "\n",
    "\n",
    "<br>\n",
    "<br>\n",
    "\n",
    "<img src=\"https://raw.githubusercontent.com/Hack-io-AI/ai_images/main/python_strings.webp\" style=\"width:400px;\"/>"
   ]
  },
  {
   "cell_type": "markdown",
   "id": "b0b35e58",
   "metadata": {
    "toc": true
   },
   "source": [
    "<h1>Tabla de Contenidos<span class=\"tocSkip\"></span></h1>\n",
    "<div class=\"toc\"><ul class=\"toc-item\"><li><span><a href=\"#1---Métodos-de-Strings\" data-toc-modified-id=\"1---Métodos-de-Strings-1\">1 - Métodos de Strings</a></span><ul class=\"toc-item\"><li><span><a href=\"#1.1---join\" data-toc-modified-id=\"1.1---join-1.1\">1.1 - join</a></span></li><li><span><a href=\"#1.2---split\" data-toc-modified-id=\"1.2---split-1.2\">1.2 - split</a></span></li><li><span><a href=\"#1.3---capitalize\" data-toc-modified-id=\"1.3---capitalize-1.3\">1.3 - capitalize</a></span></li><li><span><a href=\"#1.4---upper\" data-toc-modified-id=\"1.4---upper-1.4\">1.4 - upper</a></span></li><li><span><a href=\"#1.5---lower\" data-toc-modified-id=\"1.5---lower-1.5\">1.5 - lower</a></span></li><li><span><a href=\"#1.6---title\" data-toc-modified-id=\"1.6---title-1.6\">1.6 - title</a></span></li><li><span><a href=\"#1.7---replace\" data-toc-modified-id=\"1.7---replace-1.7\">1.7 - replace</a></span></li><li><span><a href=\"#1.8---count\" data-toc-modified-id=\"1.8---count-1.8\">1.8 - count</a></span></li><li><span><a href=\"#1.9---lstrip\" data-toc-modified-id=\"1.9---lstrip-1.9\">1.9 - lstrip</a></span></li><li><span><a href=\"#1.10---rstrip\" data-toc-modified-id=\"1.10---rstrip-1.10\">1.10 - rstrip</a></span></li><li><span><a href=\"#1.11---strip\" data-toc-modified-id=\"1.11---strip-1.11\">1.11 - strip</a></span></li><li><span><a href=\"#1.11---islower\" data-toc-modified-id=\"1.11---islower-1.12\">1.11 - islower</a></span></li><li><span><a href=\"#1.12---isupper\" data-toc-modified-id=\"1.12---isupper-1.13\">1.12 - isupper</a></span></li><li><span><a href=\"#1.13---isnumeric\" data-toc-modified-id=\"1.13---isnumeric-1.14\">1.13 - isnumeric</a></span></li><li><span><a href=\"#1.14---format\" data-toc-modified-id=\"1.14---format-1.15\">1.14 - format</a></span></li><li><span><a href=\"#1.15---raw\" data-toc-modified-id=\"1.15---raw-1.16\">1.15 - raw</a></span></li></ul></li></ul></div>"
   ]
  },
  {
   "cell_type": "markdown",
   "id": "91a65abb",
   "metadata": {},
   "source": [
    "## 1 - Métodos de Strings"
   ]
  },
  {
   "cell_type": "markdown",
   "id": "0fddb011",
   "metadata": {},
   "source": [
    "Las strings son el tipo de dato inmutable más general. Básicamente cualquier otro tipo de dato puede ser convertido a una string, de hecho suele ser el tipo de dato para la transmisión en la web. Vamos a ver los métodos de las strings y herramientas para tratar con ellas. Empecemos creando una lista de strings."
   ]
  },
  {
   "cell_type": "code",
   "execution_count": 1,
   "id": "ffdd9d25",
   "metadata": {},
   "outputs": [
    {
     "data": {
      "text/plain": [
       "['Hola', 'estamos', 'en', 'clase', 'de', 'IA.', 'Hasta', 'luego', 'alegre.']"
      ]
     },
     "execution_count": 1,
     "metadata": {},
     "output_type": "execute_result"
    }
   ],
   "source": [
    "# lista de strings\n",
    "\n",
    "lst = ['Hola', 'estamos', 'en', 'clase', 'de', 'IA.', 'Hasta', 'luego', 'alegre.']\n",
    "\n",
    "lst"
   ]
  },
  {
   "cell_type": "markdown",
   "id": "ed724ac0",
   "metadata": {},
   "source": [
    "### 1.1 - join\n",
    "\n",
    "Con este método podemos crear una string desde una lista, uniendo los elementos con un caracter en particular. Básicamente concatena las strings que están dentro de la lista."
   ]
  },
  {
   "cell_type": "code",
   "execution_count": 2,
   "id": "600f41ae",
   "metadata": {},
   "outputs": [
    {
     "data": {
      "text/plain": [
       "'Hola👹estamos👹en👹clase👹de👹IA.👹Hasta👹luego👹alegre.'"
      ]
     },
     "execution_count": 2,
     "metadata": {},
     "output_type": "execute_result"
    }
   ],
   "source": [
    "# uniendo con un icono\n",
    "\n",
    "'👹'.join(lst)"
   ]
  },
  {
   "cell_type": "code",
   "execution_count": 3,
   "id": "6848c108",
   "metadata": {},
   "outputs": [
    {
     "data": {
      "text/plain": [
       "'Hola estamos en clase de IA. Hasta luego alegre.'"
      ]
     },
     "execution_count": 3,
     "metadata": {},
     "output_type": "execute_result"
    }
   ],
   "source": [
    "# definir un texto\n",
    "\n",
    "texto = ' '.join(lst)\n",
    "\n",
    "texto"
   ]
  },
  {
   "cell_type": "code",
   "execution_count": 4,
   "id": "8520eede",
   "metadata": {},
   "outputs": [
    {
     "data": {
      "text/plain": [
       "str"
      ]
     },
     "execution_count": 4,
     "metadata": {},
     "output_type": "execute_result"
    }
   ],
   "source": [
    "# tipo de dato\n",
    "\n",
    "type(texto)"
   ]
  },
  {
   "cell_type": "markdown",
   "id": "36186e9e",
   "metadata": {},
   "source": [
    "### 1.2 - split\n",
    "\n",
    "Existe el método inverso, el método split, el cual convierte una string en una lista rompiendo la string por cierto caracter, dicho caracter desaparece. Por defecto ese caracter es el espacio vacío."
   ]
  },
  {
   "cell_type": "code",
   "execution_count": 5,
   "id": "6bd622aa",
   "metadata": {},
   "outputs": [
    {
     "data": {
      "text/plain": [
       "['Hola', 'estamos', 'en', 'clase', 'de', 'IA.', 'Hasta', 'luego', 'alegre.']"
      ]
     },
     "execution_count": 5,
     "metadata": {},
     "output_type": "execute_result"
    }
   ],
   "source": [
    "# rotura de la string por el espacio\n",
    "\n",
    "texto.split()"
   ]
  },
  {
   "cell_type": "code",
   "execution_count": 6,
   "id": "9575f0da",
   "metadata": {},
   "outputs": [
    {
     "data": {
      "text/plain": [
       "['Hola ', 'stamos ', 'n clas', ' d', ' IA. Hasta lu', 'go al', 'gr', '.']"
      ]
     },
     "execution_count": 6,
     "metadata": {},
     "output_type": "execute_result"
    }
   ],
   "source": [
    "# rotura por la e\n",
    "\n",
    "texto.split('e')"
   ]
  },
  {
   "cell_type": "markdown",
   "id": "feb2233d",
   "metadata": {},
   "source": [
    "### 1.3 - capitalize\n",
    "\n",
    "Este método pone en mayúscula la primera letra de la string."
   ]
  },
  {
   "cell_type": "code",
   "execution_count": 7,
   "id": "3b10461b",
   "metadata": {},
   "outputs": [
    {
     "data": {
      "text/plain": [
       "'Hola estamos en clase de ia. hasta luego alegre.'"
      ]
     },
     "execution_count": 7,
     "metadata": {},
     "output_type": "execute_result"
    }
   ],
   "source": [
    "texto.capitalize()"
   ]
  },
  {
   "cell_type": "code",
   "execution_count": 8,
   "id": "fa33a28e",
   "metadata": {},
   "outputs": [
    {
     "data": {
      "text/plain": [
       "'Adios'"
      ]
     },
     "execution_count": 8,
     "metadata": {},
     "output_type": "execute_result"
    }
   ],
   "source": [
    "'adios'.capitalize()"
   ]
  },
  {
   "cell_type": "markdown",
   "id": "32db920c",
   "metadata": {},
   "source": [
    "### 1.4 - upper\n",
    "\n",
    "Con este método podemos convertir a mayúscula toda la string."
   ]
  },
  {
   "cell_type": "code",
   "execution_count": 9,
   "id": "653bca43",
   "metadata": {},
   "outputs": [
    {
     "data": {
      "text/plain": [
       "'HOLA ESTAMOS EN CLASE DE IA. HASTA LUEGO ALEGRE.'"
      ]
     },
     "execution_count": 9,
     "metadata": {},
     "output_type": "execute_result"
    }
   ],
   "source": [
    "texto.upper()"
   ]
  },
  {
   "cell_type": "markdown",
   "id": "063ffac4",
   "metadata": {},
   "source": [
    "### 1.5 - lower\n",
    "\n",
    "Con este método podemos convertir a minúscula toda la string. También veremos que se pueden concatenar los métodos."
   ]
  },
  {
   "cell_type": "code",
   "execution_count": 10,
   "id": "aa4f02b0",
   "metadata": {},
   "outputs": [
    {
     "data": {
      "text/plain": [
       "'hola estamos en clase de ia. hasta luego alegre.'"
      ]
     },
     "execution_count": 10,
     "metadata": {},
     "output_type": "execute_result"
    }
   ],
   "source": [
    "texto.lower()"
   ]
  },
  {
   "cell_type": "code",
   "execution_count": 11,
   "id": "fe42f803",
   "metadata": {},
   "outputs": [
    {
     "data": {
      "text/plain": [
       "'hola'"
      ]
     },
     "execution_count": 11,
     "metadata": {},
     "output_type": "execute_result"
    }
   ],
   "source": [
    "'HOLA'.lower()"
   ]
  },
  {
   "cell_type": "markdown",
   "id": "3d21e85e",
   "metadata": {},
   "source": [
    "### 1.6 - title\n",
    "\n",
    "Este método pone en mayúscula la primera letra de cada palabra."
   ]
  },
  {
   "cell_type": "code",
   "execution_count": 12,
   "id": "3973a5b5",
   "metadata": {},
   "outputs": [
    {
     "data": {
      "text/plain": [
       "'Hola Estamos En Clase De Ia. Hasta Luego Alegre.'"
      ]
     },
     "execution_count": 12,
     "metadata": {},
     "output_type": "execute_result"
    }
   ],
   "source": [
    "texto.title()"
   ]
  },
  {
   "cell_type": "markdown",
   "id": "caa64947",
   "metadata": {},
   "source": [
    "### 1.7 - replace\n",
    "\n",
    "Replace cambia un caracter por otro, podemos cambiarlos todos a un número determinado de ellos."
   ]
  },
  {
   "cell_type": "code",
   "execution_count": 13,
   "id": "b8d74c9d",
   "metadata": {},
   "outputs": [
    {
     "data": {
      "text/plain": [
       "'Hola ustamos un clasu du IA. Hasta luugo alugru.'"
      ]
     },
     "execution_count": 13,
     "metadata": {},
     "output_type": "execute_result"
    }
   ],
   "source": [
    "# cambiamos todas las e, primero lo que hay, luego que queremos\n",
    "\n",
    "texto.replace('e', 'u')"
   ]
  },
  {
   "cell_type": "code",
   "execution_count": 15,
   "id": "58bfa37b",
   "metadata": {},
   "outputs": [
    {
     "data": {
      "text/plain": [
       "'Hola ustamos un clasu de IA. Hasta luego alegre.'"
      ]
     },
     "execution_count": 15,
     "metadata": {},
     "output_type": "execute_result"
    }
   ],
   "source": [
    "# las dos primeras\n",
    "\n",
    "texto.replace('e', 'u', 3)"
   ]
  },
  {
   "cell_type": "markdown",
   "id": "377b97db",
   "metadata": {},
   "source": [
    "### 1.8 - count\n",
    "\n",
    "Cuenta el número de apariciones de cierto caracter en una string."
   ]
  },
  {
   "cell_type": "code",
   "execution_count": 16,
   "id": "16b3d316",
   "metadata": {},
   "outputs": [
    {
     "data": {
      "text/plain": [
       "7"
      ]
     },
     "execution_count": 16,
     "metadata": {},
     "output_type": "execute_result"
    }
   ],
   "source": [
    "# cuenta las e\n",
    "\n",
    "texto.count('e')"
   ]
  },
  {
   "cell_type": "code",
   "execution_count": 17,
   "id": "0334dd41",
   "metadata": {},
   "outputs": [
    {
     "data": {
      "text/plain": [
       "4"
      ]
     },
     "execution_count": 17,
     "metadata": {},
     "output_type": "execute_result"
    }
   ],
   "source": [
    "# cuenta las l\n",
    "\n",
    "texto.count('l')"
   ]
  },
  {
   "cell_type": "markdown",
   "id": "4089ae70",
   "metadata": {},
   "source": [
    "### 1.9 - lstrip\n",
    "\n",
    "Elimina cierto caracter por la izquierda de la string. Por defecto el espacio vacío."
   ]
  },
  {
   "cell_type": "code",
   "execution_count": 19,
   "id": "76da9674",
   "metadata": {},
   "outputs": [
    {
     "data": {
      "text/plain": [
       "'ola estamos en clase de IA. Hasta luego alegre.'"
      ]
     },
     "execution_count": 19,
     "metadata": {},
     "output_type": "execute_result"
    }
   ],
   "source": [
    "# eliminamos la primera H\n",
    "\n",
    "texto.lstrip('H')"
   ]
  },
  {
   "cell_type": "code",
   "execution_count": 20,
   "id": "1620eef5",
   "metadata": {},
   "outputs": [
    {
     "data": {
      "text/plain": [
       "'hola como vais         '"
      ]
     },
     "execution_count": 20,
     "metadata": {},
     "output_type": "execute_result"
    }
   ],
   "source": [
    "# con espacios\n",
    "\n",
    "texto_esp = '       hola como vais         '\n",
    "\n",
    "texto_esp.lstrip()"
   ]
  },
  {
   "cell_type": "markdown",
   "id": "5b36105c",
   "metadata": {},
   "source": [
    "### 1.10 - rstrip\n",
    "\n",
    "Elimina cierto caracter por la derecha de la string. Por defecto el espacio vacío."
   ]
  },
  {
   "cell_type": "code",
   "execution_count": 21,
   "id": "08b4fb48",
   "metadata": {},
   "outputs": [
    {
     "data": {
      "text/plain": [
       "'Hola estamos en clase de IA. Hasta luego al'"
      ]
     },
     "execution_count": 21,
     "metadata": {},
     "output_type": "execute_result"
    }
   ],
   "source": [
    "# eliminamos el ultimo punto y gre\n",
    "\n",
    "texto.rstrip('gre.')"
   ]
  },
  {
   "cell_type": "code",
   "execution_count": 22,
   "id": "9871acfd",
   "metadata": {},
   "outputs": [
    {
     "data": {
      "text/plain": [
       "'       hola como vais'"
      ]
     },
     "execution_count": 22,
     "metadata": {},
     "output_type": "execute_result"
    }
   ],
   "source": [
    "texto_esp.rstrip()"
   ]
  },
  {
   "cell_type": "markdown",
   "id": "bf3f7e93",
   "metadata": {},
   "source": [
    "### 1.11 - strip\n",
    "\n",
    "Elimina cierto caracter por ambos lados de la string. Por defecto el espacio vacío."
   ]
  },
  {
   "cell_type": "code",
   "execution_count": 23,
   "id": "87bcdab3",
   "metadata": {},
   "outputs": [
    {
     "data": {
      "text/plain": [
       "'hola como vais'"
      ]
     },
     "execution_count": 23,
     "metadata": {},
     "output_type": "execute_result"
    }
   ],
   "source": [
    "texto_esp.strip()"
   ]
  },
  {
   "cell_type": "code",
   "execution_count": 25,
   "id": "467b1282",
   "metadata": {},
   "outputs": [
    {
     "data": {
      "text/plain": [
       "' estamos en clase de IA. Hasta luego alegre.'"
      ]
     },
     "execution_count": 25,
     "metadata": {},
     "output_type": "execute_result"
    }
   ],
   "source": [
    "texto.strip('Hola')"
   ]
  },
  {
   "cell_type": "code",
   "execution_count": 26,
   "id": "92d59ebc",
   "metadata": {},
   "outputs": [
    {
     "data": {
      "text/plain": [
       "'Hola estamos en clase de IA. Hasta luego '"
      ]
     },
     "execution_count": 26,
     "metadata": {},
     "output_type": "execute_result"
    }
   ],
   "source": [
    "texto.strip('alegre.')"
   ]
  },
  {
   "cell_type": "markdown",
   "id": "02667371",
   "metadata": {},
   "source": [
    "### 1.11 - islower\n",
    "\n",
    "Determina si una string es minúscula, todos sus caracteres. Devuelvo un booleano."
   ]
  },
  {
   "cell_type": "code",
   "execution_count": 27,
   "id": "572524ce",
   "metadata": {},
   "outputs": [
    {
     "data": {
      "text/plain": [
       "False"
      ]
     },
     "execution_count": 27,
     "metadata": {},
     "output_type": "execute_result"
    }
   ],
   "source": [
    "# ¿es minuscula?\n",
    "\n",
    "texto.islower()"
   ]
  },
  {
   "cell_type": "code",
   "execution_count": 28,
   "id": "ec011d90",
   "metadata": {},
   "outputs": [
    {
     "data": {
      "text/plain": [
       "True"
      ]
     },
     "execution_count": 28,
     "metadata": {},
     "output_type": "execute_result"
    }
   ],
   "source": [
    "'hola'.islower()"
   ]
  },
  {
   "cell_type": "markdown",
   "id": "e3a4f4fd",
   "metadata": {},
   "source": [
    "### 1.12 - isupper\n",
    "\n",
    "Determina si una string es mayúscula, todos sus caracteres. Devuelvo un booleano."
   ]
  },
  {
   "cell_type": "code",
   "execution_count": 29,
   "id": "61f671c8",
   "metadata": {},
   "outputs": [
    {
     "data": {
      "text/plain": [
       "False"
      ]
     },
     "execution_count": 29,
     "metadata": {},
     "output_type": "execute_result"
    }
   ],
   "source": [
    "# ¿es mayuscula?\n",
    "\n",
    "texto.isupper()"
   ]
  },
  {
   "cell_type": "code",
   "execution_count": 30,
   "id": "73f53822",
   "metadata": {},
   "outputs": [
    {
     "data": {
      "text/plain": [
       "True"
      ]
     },
     "execution_count": 30,
     "metadata": {},
     "output_type": "execute_result"
    }
   ],
   "source": [
    "'HOLA'.isupper()"
   ]
  },
  {
   "cell_type": "markdown",
   "id": "e30382e5",
   "metadata": {},
   "source": [
    "### 1.13 - isnumeric\n",
    "\n",
    "Determina si una string es numérica, todos sus caracteres. Devuelvo un booleano."
   ]
  },
  {
   "cell_type": "code",
   "execution_count": 31,
   "id": "8d5dbc8c",
   "metadata": {},
   "outputs": [
    {
     "data": {
      "text/plain": [
       "False"
      ]
     },
     "execution_count": 31,
     "metadata": {},
     "output_type": "execute_result"
    }
   ],
   "source": [
    "# ¿es numerico?\n",
    "\n",
    "texto.isnumeric()"
   ]
  },
  {
   "cell_type": "code",
   "execution_count": 32,
   "id": "4fbba5d0",
   "metadata": {},
   "outputs": [
    {
     "data": {
      "text/plain": [
       "False"
      ]
     },
     "execution_count": 32,
     "metadata": {},
     "output_type": "execute_result"
    }
   ],
   "source": [
    "'hola123'.isnumeric()"
   ]
  },
  {
   "cell_type": "code",
   "execution_count": 33,
   "id": "cc62467c",
   "metadata": {},
   "outputs": [
    {
     "data": {
      "text/plain": [
       "True"
      ]
     },
     "execution_count": 33,
     "metadata": {},
     "output_type": "execute_result"
    }
   ],
   "source": [
    "'123'.isnumeric()"
   ]
  },
  {
   "cell_type": "markdown",
   "id": "a67f7e59",
   "metadata": {},
   "source": [
    "### 1.14 - format\n",
    "\n",
    "El método format nos permite incrustar una variable dentro de una string. Imaginemos que tenemos una string con cierta forma y queremos que sea siempre igual, salvo por un número que va dentro de ella. El format nos permite cambiar la variable numérica sin tener que reescribir toda la string. Se incrusta con `{}`."
   ]
  },
  {
   "cell_type": "code",
   "execution_count": 35,
   "id": "c140bc8f",
   "metadata": {},
   "outputs": [
    {
     "data": {
      "text/plain": [
       "'Hola Maria, apuntate al curso'"
      ]
     },
     "execution_count": 35,
     "metadata": {},
     "output_type": "execute_result"
    }
   ],
   "source": [
    "# variable incrustada en la string\n",
    "\n",
    "nombre = 'Maria'\n",
    "\n",
    "txt = 'Hola {}, apuntate al curso'.format(nombre)\n",
    "\n",
    "txt"
   ]
  },
  {
   "cell_type": "markdown",
   "id": "338313df",
   "metadata": {},
   "source": [
    "La forma de hacer esto en las nuevas versiones de Python, y que resulta más comoda, es poner una `f` delanta de la string y el nombre de la variable dentro de las llaves. Veámos cómo."
   ]
  },
  {
   "cell_type": "code",
   "execution_count": 37,
   "id": "d8c322d8",
   "metadata": {},
   "outputs": [
    {
     "data": {
      "text/plain": [
       "'El precio de zapatos es 90€.'"
      ]
     },
     "execution_count": 37,
     "metadata": {},
     "output_type": "execute_result"
    }
   ],
   "source": [
    "numero = 90\n",
    "\n",
    "producto = 'zapatos'\n",
    "\n",
    "\n",
    "txt = f'El precio de {producto} es {numero}€.'\n",
    "\n",
    "txt"
   ]
  },
  {
   "cell_type": "markdown",
   "id": "880e1ba3",
   "metadata": {},
   "source": [
    "### 1.15 - raw\n",
    "\n",
    "Existen caracteres especiales dentro de las strings, como `\\n` que significa salto de línea o `\\t` que es el tabulador, que pueden suponer un problema de expresión del significado de la string. Por ejemplo, las rutas en Linux o en Mac usan la barra `/` (/Users/tecnico.IA/TecnicoIA), sin embargo en Windows usan `\\` (C:\\Usuario\\tratado), el `\\t` de esa ruta supondría un problema. Paa arreglar eso, usamos la string en crudo (raw) poniendo la letra `r` delante de la string. Veámos un ejemplo."
   ]
  },
  {
   "cell_type": "code",
   "execution_count": 38,
   "id": "26109535",
   "metadata": {},
   "outputs": [
    {
     "name": "stdout",
     "output_type": "stream",
     "text": [
      "\n",
      "ormal\n"
     ]
    }
   ],
   "source": [
    "# salto de linea con \\n\n",
    "\n",
    "palabra = '\\normal'\n",
    "\n",
    "print(palabra)"
   ]
  },
  {
   "cell_type": "code",
   "execution_count": 39,
   "id": "8dba15f0",
   "metadata": {},
   "outputs": [
    {
     "name": "stdout",
     "output_type": "stream",
     "text": [
      "\\normal\n"
     ]
    }
   ],
   "source": [
    "# en crudo, con todos los caracteres que existen\n",
    "\n",
    "palabra = r'\\normal'\n",
    "\n",
    "print(palabra)"
   ]
  },
  {
   "cell_type": "code",
   "execution_count": null,
   "id": "db90d60d",
   "metadata": {},
   "outputs": [],
   "source": []
  }
 ],
 "metadata": {
  "kernelspec": {
   "display_name": "ia",
   "language": "python",
   "name": "ia"
  },
  "language_info": {
   "codemirror_mode": {
    "name": "ipython",
    "version": 3
   },
   "file_extension": ".py",
   "mimetype": "text/x-python",
   "name": "python",
   "nbconvert_exporter": "python",
   "pygments_lexer": "ipython3",
   "version": "3.9.19"
  },
  "toc": {
   "base_numbering": 1,
   "nav_menu": {},
   "number_sections": false,
   "sideBar": true,
   "skip_h1_title": true,
   "title_cell": "Tabla de Contenidos",
   "title_sidebar": "Contents",
   "toc_cell": true,
   "toc_position": {
    "height": "calc(100% - 180px)",
    "left": "10px",
    "top": "150px",
    "width": "300.773px"
   },
   "toc_section_display": true,
   "toc_window_display": true
  }
 },
 "nbformat": 4,
 "nbformat_minor": 5
}
