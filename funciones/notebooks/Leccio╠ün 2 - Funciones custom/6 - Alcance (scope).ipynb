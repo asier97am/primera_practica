{
 "cells": [
  {
   "cell_type": "markdown",
   "id": "a56f1aae",
   "metadata": {},
   "source": [
    "# 6 - Alcance (scope)\n",
    "\n",
    "<br>\n",
    "<br>\n",
    "\n",
    "<img src=\"https://raw.githubusercontent.com/Hack-io-AI/ai_images/main/python_functions.webp\" style=\"width:400px;\"/>"
   ]
  },
  {
   "cell_type": "markdown",
   "id": "e7bc954c",
   "metadata": {
    "toc": true
   },
   "source": [
    "<h1>Tabla de Contenidos<span class=\"tocSkip\"></span></h1>\n",
    "<div class=\"toc\"><ul class=\"toc-item\"><li><span><a href=\"#1---¿Qué-es-el-alcance?\" data-toc-modified-id=\"1---¿Qué-es-el-alcance?-1\">1 - ¿Qué es el alcance?</a></span></li><li><span><a href=\"#2---Regla-LEGB\" data-toc-modified-id=\"2---Regla-LEGB-2\">2 - Regla LEGB</a></span></li><li><span><a href=\"#3---Ejemplo\" data-toc-modified-id=\"3---Ejemplo-3\">3 - Ejemplo</a></span></li></ul></div>"
   ]
  },
  {
   "cell_type": "markdown",
   "id": "bc89972a",
   "metadata": {},
   "source": [
    "## 1 - ¿Qué es el alcance?"
   ]
  },
  {
   "cell_type": "markdown",
   "id": "1a1ee3c4",
   "metadata": {},
   "source": [
    "El alcance (scope) de las variables en Python se refiere al contexto en el que una variable es accesible y puede ser referenciada. Hay varios niveles de alcance en Python:\n",
    "\n",
    "\n",
    "1. **Ámbito local (Local Scope)**: Las variables declaradas dentro de una función tienen un ámbito local. Solo son accesibles dentro de esa función y no pueden ser referenciadas fuera de ella.\n",
    "\n",
    "\n",
    "2. **Ámbito de función anidada (Enclosing Scope)**: En funciones anidadas, una función dentro de una función, las variables de una función exterior (enclosing) están accesibles desde las funciones anidadas. No se pueden modificar directamente sin la palabra clave `nonlocal`.\n",
    "\n",
    "\n",
    "3. **Ámbito global (Global Scope)**: Las variables declaradas en el nivel más alto del script o módulo tienen un ámbito global. Son accesibles en cualquier lugar del script o módulo después de ser declaradas. Se pueden referenciar dentro de funciones, pero para modificarlas dentro de una función es necesario usar la palabra clave `global`.\n",
    "\n",
    "\n",
    "4. **Ámbito incorporado (Built-in Scope)**: Este ámbito incluye nombres predefinidos en Python, como funciones y excepciones integradas. Estos nombres están disponibles en cualquier parte del código.\n"
   ]
  },
  {
   "cell_type": "markdown",
   "id": "72f58c0c",
   "metadata": {},
   "source": [
    "## 2 - Regla LEGB"
   ]
  },
  {
   "cell_type": "markdown",
   "id": "7ccbf87b",
   "metadata": {},
   "source": [
    "Python sigue la regla LEGB para resolver el alcance de las variables. Estas reglas determinan en qué orden Python busca los nombres de las variables cuando se utilizan en el código.\n",
    "\n",
    "+ **Local**: Nombre en el ámbito local.\n",
    "+ **Enclosing**: Nombre en el ámbito de la función envolvente.\n",
    "+ **Global**: Nombre en el ámbito global.\n",
    "+ **Built-in**: Nombre en el ámbito incorporado."
   ]
  },
  {
   "cell_type": "markdown",
   "id": "c3a68d1d",
   "metadata": {},
   "source": [
    "## 3 - Ejemplo"
   ]
  },
  {
   "cell_type": "code",
   "execution_count": 2,
   "id": "9051ef16",
   "metadata": {},
   "outputs": [
    {
     "name": "stdout",
     "output_type": "stream",
     "text": [
      "m:  1\n"
     ]
    }
   ],
   "source": [
    "# ejemplo\n",
    "\n",
    "z = 4  # es una variable global, todo el codigo la ve\n",
    "\n",
    "m = 1 # es global\n",
    "\n",
    "print('m: ', m)\n",
    "\n",
    "\n",
    "def sumar(a):\n",
    "    \n",
    "    global z, m\n",
    "    \n",
    "    # a es una variable local, solo la funcion la ve\n",
    "    \n",
    "    m = 20 # es local\n",
    "    \n",
    "    print('valor: ', 'm: ', m, '------', 'z: ', z)\n",
    "    \n",
    "    num = a+z\n",
    "    \n",
    "    return num"
   ]
  },
  {
   "cell_type": "code",
   "execution_count": 3,
   "id": "264647ff",
   "metadata": {},
   "outputs": [
    {
     "name": "stdout",
     "output_type": "stream",
     "text": [
      "valor:  m:  20 ------ z:  4\n",
      "12\n"
     ]
    }
   ],
   "source": [
    "num = sumar(8)\n",
    "\n",
    "print(num)"
   ]
  },
  {
   "cell_type": "code",
   "execution_count": 4,
   "id": "a8b7832b",
   "metadata": {},
   "outputs": [
    {
     "name": "stdout",
     "output_type": "stream",
     "text": [
      "20\n"
     ]
    }
   ],
   "source": [
    "print(m)"
   ]
  },
  {
   "cell_type": "code",
   "execution_count": 5,
   "id": "4954623c",
   "metadata": {},
   "outputs": [
    {
     "name": "stdout",
     "output_type": "stream",
     "text": [
      "4\n"
     ]
    }
   ],
   "source": [
    "print(z)"
   ]
  },
  {
   "cell_type": "code",
   "execution_count": null,
   "id": "a5fbf05f",
   "metadata": {},
   "outputs": [],
   "source": []
  }
 ],
 "metadata": {
  "kernelspec": {
   "display_name": "ia",
   "language": "python",
   "name": "ia"
  },
  "language_info": {
   "codemirror_mode": {
    "name": "ipython",
    "version": 3
   },
   "file_extension": ".py",
   "mimetype": "text/x-python",
   "name": "python",
   "nbconvert_exporter": "python",
   "pygments_lexer": "ipython3",
   "version": "3.9.19"
  },
  "toc": {
   "base_numbering": 1,
   "nav_menu": {},
   "number_sections": false,
   "sideBar": true,
   "skip_h1_title": true,
   "title_cell": "Tabla de Contenidos",
   "title_sidebar": "Contents",
   "toc_cell": true,
   "toc_position": {
    "height": "calc(100% - 180px)",
    "left": "10px",
    "top": "150px",
    "width": "252.526px"
   },
   "toc_section_display": true,
   "toc_window_display": true
  }
 },
 "nbformat": 4,
 "nbformat_minor": 5
}
