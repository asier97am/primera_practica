{
 "cells": [
  {
   "cell_type": "markdown",
   "id": "ba8641d7",
   "metadata": {},
   "source": [
    "# 8 - Tipado\n",
    "\n",
    "<br>\n",
    "<br>\n",
    "\n",
    "<img src=\"https://raw.githubusercontent.com/Hack-io-AI/ai_images/main/python_functions.webp\" style=\"width:400px;\"/>"
   ]
  },
  {
   "cell_type": "markdown",
   "id": "62cb9515",
   "metadata": {
    "toc": true
   },
   "source": [
    "<h1>Tabla de Contenidos<span class=\"tocSkip\"></span></h1>\n",
    "<div class=\"toc\"><ul class=\"toc-item\"><li><span><a href=\"#1---Tipado-de-variables\" data-toc-modified-id=\"1---Tipado-de-variables-1\">1 - Tipado de variables</a></span></li><li><span><a href=\"#2---Tipado-de-funciones\" data-toc-modified-id=\"2---Tipado-de-funciones-2\">2 - Tipado de funciones</a></span></li></ul></div>"
   ]
  },
  {
   "cell_type": "markdown",
   "id": "52dabb5e",
   "metadata": {},
   "source": [
    "Las anotaciones de tipo de dato en Python no cambian el comportamiento del programa en tiempo de ejecución, pero proporcionan información útil sobre los tipos esperados de variables y el retorno de funciones, es como tener comentarios para los programadores en formato código. Desde Python 3.6, se pueden usar anotaciones de tipo para variables."
   ]
  },
  {
   "cell_type": "markdown",
   "id": "71464b96",
   "metadata": {},
   "source": [
    "## 1 - Tipado de variables"
   ]
  },
  {
   "cell_type": "code",
   "execution_count": 1,
   "id": "952eb4ab",
   "metadata": {},
   "outputs": [
    {
     "name": "stdout",
     "output_type": "stream",
     "text": [
      "5\n"
     ]
    }
   ],
   "source": [
    "# ejemplo variable tipada\n",
    "\n",
    "x: int = 5\n",
    "\n",
    "print(x)"
   ]
  },
  {
   "cell_type": "code",
   "execution_count": 2,
   "id": "275719c9",
   "metadata": {},
   "outputs": [
    {
     "name": "stdout",
     "output_type": "stream",
     "text": [
      "hola\n"
     ]
    }
   ],
   "source": [
    "# ejemplo variable tipada\n",
    "\n",
    "palabra: str = 'hola'\n",
    "\n",
    "print(palabra)"
   ]
  },
  {
   "cell_type": "markdown",
   "id": "af240b1c",
   "metadata": {},
   "source": [
    "## 2 - Tipado de funciones"
   ]
  },
  {
   "cell_type": "code",
   "execution_count": 3,
   "id": "92610e45",
   "metadata": {},
   "outputs": [],
   "source": [
    "# definición de una función tipada\n",
    "\n",
    "from typing import Union\n",
    "\n",
    "def calcular(n1: int, n2: float, operacion: str='+') -> Union[int,float]:\n",
    "    \n",
    "    \"\"\"\n",
    "    Esta función opera los números n1 y n2 según el parámetro operacion.\n",
    "    \n",
    "    Params:\n",
    "    n1: int o float, primer número\n",
    "    n2: int o float, segundo número, ha de ser distinto de cero\n",
    "    operación: string, opciones + (suma, opción por defecto), - (resta), * (multiplicación) y / (división)\n",
    "    \n",
    "    Return:\n",
    "    Esta función devuelve la operación de los números n1 y n2, int o float, \n",
    "    o una string si no se puede hacer la operación\n",
    "    \"\"\"\n",
    "    \n",
    "    if operacion=='+':\n",
    "        resultado = n1 + n2\n",
    "    \n",
    "    elif operacion=='-':\n",
    "        resultado = n1 - n2\n",
    "        \n",
    "    elif operacion=='*':\n",
    "        resultado = n1 * n2\n",
    "        \n",
    "    elif operacion=='/' and n2!=0:\n",
    "        resultado = n1 / n2\n",
    "        \n",
    "    else:\n",
    "        resultado = 'Operación no permitida.'\n",
    "    \n",
    "    return resultado"
   ]
  },
  {
   "cell_type": "code",
   "execution_count": 4,
   "id": "7aadbf79",
   "metadata": {},
   "outputs": [
    {
     "data": {
      "text/plain": [
       "6.5"
      ]
     },
     "execution_count": 4,
     "metadata": {},
     "output_type": "execute_result"
    }
   ],
   "source": [
    "# no es restrictivo\n",
    "\n",
    "calcular(n1=4.5, n2=2)"
   ]
  },
  {
   "cell_type": "code",
   "execution_count": 5,
   "id": "a4334c28",
   "metadata": {},
   "outputs": [
    {
     "data": {
      "text/plain": [
       "9.6"
      ]
     },
     "execution_count": 5,
     "metadata": {},
     "output_type": "execute_result"
    }
   ],
   "source": [
    "calcular(n1=4, n2=2.4, operacion='*')"
   ]
  }
 ],
 "metadata": {
  "kernelspec": {
   "display_name": "ia",
   "language": "python",
   "name": "ia"
  },
  "language_info": {
   "codemirror_mode": {
    "name": "ipython",
    "version": 3
   },
   "file_extension": ".py",
   "mimetype": "text/x-python",
   "name": "python",
   "nbconvert_exporter": "python",
   "pygments_lexer": "ipython3",
   "version": "3.9.19"
  },
  "toc": {
   "base_numbering": 1,
   "nav_menu": {},
   "number_sections": false,
   "sideBar": true,
   "skip_h1_title": true,
   "title_cell": "Tabla de Contenidos",
   "title_sidebar": "Contents",
   "toc_cell": true,
   "toc_position": {
    "height": "calc(100% - 180px)",
    "left": "10px",
    "top": "150px",
    "width": "240.877px"
   },
   "toc_section_display": true,
   "toc_window_display": true
  }
 },
 "nbformat": 4,
 "nbformat_minor": 5
}
