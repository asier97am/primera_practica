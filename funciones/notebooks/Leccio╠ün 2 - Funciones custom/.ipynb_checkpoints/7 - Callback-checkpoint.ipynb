{
 "cells": [
  {
   "cell_type": "markdown",
   "id": "a58967f1",
   "metadata": {},
   "source": [
    "# 7 - Callback\n",
    "\n",
    "<br>\n",
    "<br>\n",
    "\n",
    "<img src=\"https://raw.githubusercontent.com/Hack-io-AI/ai_images/main/python_functions.webp\" style=\"width:400px;\"/>"
   ]
  },
  {
   "cell_type": "markdown",
   "id": "cd5fbb27",
   "metadata": {
    "toc": true
   },
   "source": [
    "<h1>Tabla de Contenidos<span class=\"tocSkip\"></span></h1>\n",
    "<div class=\"toc\"><ul class=\"toc-item\"><li><span><a href=\"#1---Callback\" data-toc-modified-id=\"1---Callback-1\">1 - Callback</a></span></li></ul></div>"
   ]
  },
  {
   "cell_type": "markdown",
   "id": "0ac4f7be",
   "metadata": {},
   "source": [
    "## 1 - Callback"
   ]
  },
  {
   "cell_type": "markdown",
   "id": "d3c3a20d",
   "metadata": {},
   "source": [
    "Un callback o función de devolución de llamada, es una función que se pasa como argumento a otra función y se espera que se \"llame de vuelta\" o ejecute en un momento específico. Los callbacks permiten a las funciones ser más flexibles y reutilizables, ya que el comportamiento específico de la función puede ser personalizado mediante la inyección de lógica adicional a través de la función de devolución de llamada. Básicamente es que una función llame a otra o que se usa una función como argumento de entrada. Veamos un ejemplo."
   ]
  },
  {
   "cell_type": "code",
   "execution_count": 1,
   "id": "8df28e53",
   "metadata": {},
   "outputs": [],
   "source": [
    "# función saludar\n",
    "\n",
    "\n",
    "def saludar(nombre):\n",
    "    \n",
    "    print(f'Hola {nombre}!!')"
   ]
  },
  {
   "cell_type": "code",
   "execution_count": 2,
   "id": "e7c57205",
   "metadata": {},
   "outputs": [],
   "source": [
    "# callback\n",
    "\n",
    "\n",
    "def ejecutar_callback(callback, argumento):\n",
    "    \n",
    "    callback(argumento)"
   ]
  },
  {
   "cell_type": "code",
   "execution_count": 3,
   "id": "476fc5d1",
   "metadata": {},
   "outputs": [
    {
     "name": "stdout",
     "output_type": "stream",
     "text": [
      "Hola Pepe!!\n"
     ]
    }
   ],
   "source": [
    "# usamos la función saludar como callback\n",
    "\n",
    "ejecutar_callback(saludar, 'Pepe')"
   ]
  },
  {
   "cell_type": "code",
   "execution_count": 4,
   "id": "37f92448",
   "metadata": {},
   "outputs": [],
   "source": [
    "# definicion funcion\n",
    "\n",
    "def sumar(a):\n",
    "\n",
    "    z=20  \n",
    "    \n",
    "    num=a+z\n",
    "    \n",
    "    return num"
   ]
  },
  {
   "cell_type": "code",
   "execution_count": 5,
   "id": "44501349",
   "metadata": {},
   "outputs": [],
   "source": [
    "# también puede ser que una función llame a una función global\n",
    "\n",
    "def restar(a):\n",
    "    \n",
    "    a=sumar(a)\n",
    "    \n",
    "    return 10 - a"
   ]
  },
  {
   "cell_type": "code",
   "execution_count": 6,
   "id": "b33d6602",
   "metadata": {},
   "outputs": [
    {
     "data": {
      "text/plain": [
       "-18"
      ]
     },
     "execution_count": 6,
     "metadata": {},
     "output_type": "execute_result"
    }
   ],
   "source": [
    "restar(8)"
   ]
  }
 ],
 "metadata": {
  "kernelspec": {
   "display_name": "ia",
   "language": "python",
   "name": "ia"
  },
  "language_info": {
   "codemirror_mode": {
    "name": "ipython",
    "version": 3
   },
   "file_extension": ".py",
   "mimetype": "text/x-python",
   "name": "python",
   "nbconvert_exporter": "python",
   "pygments_lexer": "ipython3",
   "version": "3.9.19"
  },
  "toc": {
   "base_numbering": 1,
   "nav_menu": {},
   "number_sections": false,
   "sideBar": true,
   "skip_h1_title": true,
   "title_cell": "Tabla de Contenidos",
   "title_sidebar": "Contents",
   "toc_cell": true,
   "toc_position": {
    "height": "calc(100% - 180px)",
    "left": "10px",
    "top": "150px",
    "width": "272.882px"
   },
   "toc_section_display": true,
   "toc_window_display": true
  }
 },
 "nbformat": 4,
 "nbformat_minor": 5
}
