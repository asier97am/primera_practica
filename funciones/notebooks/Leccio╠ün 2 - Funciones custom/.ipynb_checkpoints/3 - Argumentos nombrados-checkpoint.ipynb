{
 "cells": [
  {
   "cell_type": "markdown",
   "id": "8d8d29dc",
   "metadata": {},
   "source": [
    "# 3 - Argumentos nombrados\n",
    "\n",
    "<br>\n",
    "<br>\n",
    "\n",
    "<img src=\"https://raw.githubusercontent.com/Hack-io-AI/ai_images/main/python_functions.webp\" style=\"width:400px;\"/>"
   ]
  },
  {
   "cell_type": "markdown",
   "id": "5c079521",
   "metadata": {
    "toc": true
   },
   "source": [
    "<h1>Tabla de Contenidos<span class=\"tocSkip\"></span></h1>\n",
    "<div class=\"toc\"><ul class=\"toc-item\"><li><span><a href=\"#1---Definición-de-función\" data-toc-modified-id=\"1---Definición-de-función-1\">1 - Definición de función</a></span></li><li><span><a href=\"#2---Llamada\" data-toc-modified-id=\"2---Llamada-2\">2 - Llamada</a></span></li></ul></div>"
   ]
  },
  {
   "cell_type": "markdown",
   "id": "9b185470",
   "metadata": {},
   "source": [
    "## 1 - Definición de función"
   ]
  },
  {
   "cell_type": "markdown",
   "id": "bbc65f31",
   "metadata": {},
   "source": [
    "Definamos la función restar que usamos anteriormente. Esa función tiene dos parámetros de entrada, n1 y n2. Cuando la llamamos el primer argumento es n1 y el segundo es n2, pero podemos llamarla de tal manera que tengan la posición que nosotros queramos, simplemente dando el nombre del parámetro."
   ]
  },
  {
   "cell_type": "code",
   "execution_count": 1,
   "id": "c016aada",
   "metadata": {},
   "outputs": [],
   "source": [
    "# definición de una función para restar dos números\n",
    "\n",
    "def restar(n1, n2):\n",
    "    \n",
    "    \"\"\"\n",
    "    Esta función resta los números n1 y n2.\n",
    "    \n",
    "    Params:\n",
    "    n1: int o float, primer número\n",
    "    n2: int o float, segundo número\n",
    "    \n",
    "    Return:\n",
    "    Esta función devuelve la resta de los números n1 y n2, int o float\n",
    "    \"\"\"\n",
    "    \n",
    "    resta = n1 - n2\n",
    "    \n",
    "    return resta"
   ]
  },
  {
   "cell_type": "markdown",
   "id": "20c8eaf8",
   "metadata": {},
   "source": [
    "## 2 - Llamada"
   ]
  },
  {
   "cell_type": "code",
   "execution_count": 2,
   "id": "59e9fa8b",
   "metadata": {},
   "outputs": [
    {
     "data": {
      "text/plain": [
       "6"
      ]
     },
     "execution_count": 2,
     "metadata": {},
     "output_type": "execute_result"
    }
   ],
   "source": [
    "# invocamos o llamamos a la función\n",
    "\n",
    "restar(9, 3)"
   ]
  },
  {
   "cell_type": "code",
   "execution_count": 3,
   "id": "b5dcad8c",
   "metadata": {},
   "outputs": [
    {
     "data": {
      "text/plain": [
       "6"
      ]
     },
     "execution_count": 3,
     "metadata": {},
     "output_type": "execute_result"
    }
   ],
   "source": [
    "# lo mismo, pero con nombre\n",
    "\n",
    "restar(n1=9, n2=3)"
   ]
  },
  {
   "cell_type": "code",
   "execution_count": 4,
   "id": "4a49f8e3",
   "metadata": {},
   "outputs": [
    {
     "data": {
      "text/plain": [
       "-6"
      ]
     },
     "execution_count": 4,
     "metadata": {},
     "output_type": "execute_result"
    }
   ],
   "source": [
    "# argumentos al revés\n",
    "\n",
    "restar(n2=9, n1=3)"
   ]
  }
 ],
 "metadata": {
  "kernelspec": {
   "display_name": "ia",
   "language": "python",
   "name": "ia"
  },
  "language_info": {
   "codemirror_mode": {
    "name": "ipython",
    "version": 3
   },
   "file_extension": ".py",
   "mimetype": "text/x-python",
   "name": "python",
   "nbconvert_exporter": "python",
   "pygments_lexer": "ipython3",
   "version": "3.9.19"
  },
  "toc": {
   "base_numbering": 1,
   "nav_menu": {},
   "number_sections": false,
   "sideBar": true,
   "skip_h1_title": true,
   "title_cell": "Tabla de Contenidos",
   "title_sidebar": "Contents",
   "toc_cell": true,
   "toc_position": {
    "height": "calc(100% - 180px)",
    "left": "10px",
    "top": "150px",
    "width": "274.87px"
   },
   "toc_section_display": true,
   "toc_window_display": true
  }
 },
 "nbformat": 4,
 "nbformat_minor": 5
}
