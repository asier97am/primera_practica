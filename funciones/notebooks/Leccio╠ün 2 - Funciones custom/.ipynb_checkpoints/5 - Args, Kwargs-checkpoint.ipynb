{
 "cells": [
  {
   "cell_type": "markdown",
   "id": "ab450362",
   "metadata": {},
   "source": [
    "# 5 - Args, Kwargs\n",
    "\n",
    "<br>\n",
    "<br>\n",
    "\n",
    "<img src=\"https://raw.githubusercontent.com/Hack-io-AI/ai_images/main/python_functions.webp\" style=\"width:400px;\"/>"
   ]
  },
  {
   "cell_type": "markdown",
   "id": "4790079b",
   "metadata": {
    "toc": true
   },
   "source": [
    "<h1>Tabla de Contenidos<span class=\"tocSkip\"></span></h1>\n",
    "<div class=\"toc\"><ul class=\"toc-item\"><li><span><a href=\"#1---Args\" data-toc-modified-id=\"1---Args-1\">1 - Args</a></span></li><li><span><a href=\"#2---Kwargs\" data-toc-modified-id=\"2---Kwargs-2\">2 - Kwargs</a></span></li></ul></div>"
   ]
  },
  {
   "cell_type": "markdown",
   "id": "c664593a",
   "metadata": {},
   "source": [
    "## 1 - Args"
   ]
  },
  {
   "cell_type": "markdown",
   "id": "45ed4d9b",
   "metadata": {},
   "source": [
    "Supongamos que queremos tener una función que recibe un número distinto de argumentos cada vez que la llamamos, una vez recibe dos y la siguiente vez recibe cinco, sin nosotros ser conscientes de cuál es el números de argumentos. Por ejemplo, una función que suma elementos, a veces dos, a veces diez, pero escrita de manera general para que con la misma función podamos hacerlo. Esto lo hacemos con la sintaxis `*args` (args viene de argumentos, podemos usar otra palabra si queremos)."
   ]
  },
  {
   "cell_type": "code",
   "execution_count": 1,
   "id": "6da0e232",
   "metadata": {},
   "outputs": [],
   "source": [
    "# ejemplo sumar\n",
    "\n",
    "def sumar(*args):\n",
    "    \n",
    "    \"\"\"\n",
    "    Esta función suma un número indeterminado de elementos.\n",
    "    También imprime cuales son esos argumentos\n",
    "    \n",
    "    Params: *args, nº indeterminado de elemento\n",
    "    \n",
    "    Return: suma de todos los elementos\n",
    "    \"\"\"\n",
    "    \n",
    "    print('ARGS : ', args)\n",
    "    \n",
    "    res=0\n",
    "    \n",
    "    for e in args:\n",
    "        res+=e\n",
    "    \n",
    "    return res"
   ]
  },
  {
   "cell_type": "code",
   "execution_count": 2,
   "id": "40fbfb8a",
   "metadata": {},
   "outputs": [
    {
     "name": "stdout",
     "output_type": "stream",
     "text": [
      "ARGS :  (1, 2)\n"
     ]
    },
    {
     "data": {
      "text/plain": [
       "3"
      ]
     },
     "execution_count": 2,
     "metadata": {},
     "output_type": "execute_result"
    }
   ],
   "source": [
    "# ejemplo con 2 números\n",
    "\n",
    "sumar(1, 2)"
   ]
  },
  {
   "cell_type": "code",
   "execution_count": 3,
   "id": "97429cec",
   "metadata": {},
   "outputs": [
    {
     "name": "stdout",
     "output_type": "stream",
     "text": [
      "ARGS :  (1, 2, 3, 2, 7)\n"
     ]
    },
    {
     "data": {
      "text/plain": [
       "15"
      ]
     },
     "execution_count": 3,
     "metadata": {},
     "output_type": "execute_result"
    }
   ],
   "source": [
    "# ejemplo con 5 números\n",
    "\n",
    "sumar(1, 2, 3, 2, 7)"
   ]
  },
  {
   "cell_type": "code",
   "execution_count": 4,
   "id": "7e605aa7",
   "metadata": {},
   "outputs": [
    {
     "name": "stdout",
     "output_type": "stream",
     "text": [
      "ARGS :  (1, 2, 3, 4, 5, 6, 7)\n"
     ]
    },
    {
     "data": {
      "text/plain": [
       "28"
      ]
     },
     "execution_count": 4,
     "metadata": {},
     "output_type": "execute_result"
    }
   ],
   "source": [
    "# supongamos que tenemos una lista\n",
    "\n",
    "lst = [1,2,3,4,5,6,7]\n",
    "\n",
    "sumar(*lst)"
   ]
  },
  {
   "cell_type": "code",
   "execution_count": 5,
   "id": "ffe4c13b",
   "metadata": {},
   "outputs": [
    {
     "name": "stdout",
     "output_type": "stream",
     "text": [
      "ARGS :  (1, 2, 3, 3, 4, 5, 8)\n"
     ]
    },
    {
     "data": {
      "text/plain": [
       "26"
      ]
     },
     "execution_count": 5,
     "metadata": {},
     "output_type": "execute_result"
    }
   ],
   "source": [
    "# otro ejemplo\n",
    "\n",
    "sumar(1,2,3, *[3,4,5], 8)"
   ]
  },
  {
   "cell_type": "markdown",
   "id": "3ee6d773",
   "metadata": {},
   "source": [
    "El símbolo `*` quiere decir que coja los elementos de uno en uno sea cual sea su número, los desempaqueta.  "
   ]
  },
  {
   "cell_type": "markdown",
   "id": "f6ecb6dd",
   "metadata": {},
   "source": [
    "## 2 - Kwargs"
   ]
  },
  {
   "cell_type": "markdown",
   "id": "f920a7dd",
   "metadata": {},
   "source": [
    "Vamos a crear otro ejemplo, una función que saluda, distinto si es \"colega\" o no y en castellano o inglés. Esta función tiene parámetros con valores por defecto."
   ]
  },
  {
   "cell_type": "code",
   "execution_count": 6,
   "id": "48f7bfbc",
   "metadata": {},
   "outputs": [],
   "source": [
    "# función saludar\n",
    "\n",
    "def saludar(nombre, lang='es', colega=True):\n",
    "    \n",
    "    \"\"\"\n",
    "    Función que saluda a alguien.\n",
    "    \n",
    "    Params:\n",
    "    nombre: string, a quién saludamos\n",
    "    lang: string, por defecto es (español)\n",
    "    colega: bool, si es colega o no\n",
    "    \n",
    "    Return:\n",
    "    No devuelve nada, solo realiza el print del saludo\n",
    "    \"\"\"\n",
    "    \n",
    "    s=''\n",
    "    \n",
    "    if colega:\n",
    "        s='colega!!!'\n",
    "        \n",
    "    if lang=='es':\n",
    "        print(f'Hola {nombre} {s}')\n",
    "        \n",
    "    else:\n",
    "        print(f'Hello {nombre} buddy!!')"
   ]
  },
  {
   "cell_type": "code",
   "execution_count": 7,
   "id": "160b30a4",
   "metadata": {},
   "outputs": [
    {
     "name": "stdout",
     "output_type": "stream",
     "text": [
      "Hola Pepe colega!!!\n"
     ]
    }
   ],
   "source": [
    "# ejemplo con solo el nombre\n",
    "\n",
    "saludar('Pepe')"
   ]
  },
  {
   "cell_type": "code",
   "execution_count": 8,
   "id": "f876e992",
   "metadata": {},
   "outputs": [
    {
     "name": "stdout",
     "output_type": "stream",
     "text": [
      "Hola Pepe \n"
     ]
    }
   ],
   "source": [
    "# ejemplo con los tres argumentos\n",
    "\n",
    "saludar('Pepe', 'es', False)"
   ]
  },
  {
   "cell_type": "code",
   "execution_count": 9,
   "id": "de320db3",
   "metadata": {},
   "outputs": [
    {
     "name": "stdout",
     "output_type": "stream",
     "text": [
      "Hola ['Pepe', 'en'] colega!!!\n"
     ]
    }
   ],
   "source": [
    "# ejemplo con lista\n",
    "\n",
    "saludar(['Pepe', 'en'])"
   ]
  },
  {
   "cell_type": "code",
   "execution_count": 10,
   "id": "ef444cf0",
   "metadata": {},
   "outputs": [
    {
     "name": "stdout",
     "output_type": "stream",
     "text": [
      "Hello Pepe buddy!!\n"
     ]
    }
   ],
   "source": [
    "# ejemplo con lista desempaquetada\n",
    "\n",
    "saludar(*['Pepe', 'en'])"
   ]
  },
  {
   "cell_type": "markdown",
   "id": "93761895",
   "metadata": {},
   "source": [
    "Surge la pregunta, ¿podemos hacer lo mismo con parámetros que tengan valores por defecto?. O de otra manera, ¿podríamos darle un número indeterminado de párametros con nombre a una función?. Esto podemos hacerlo con la sintaxis `**kwargs` (kwargs viene de keyword arguments, argumentos con estructura clave-valor). Vamos a crear una función para saludar a múltiples personas para verlo."
   ]
  },
  {
   "cell_type": "code",
   "execution_count": 11,
   "id": "38fbcab7",
   "metadata": {},
   "outputs": [],
   "source": [
    "# función para saludar en bucle\n",
    "\n",
    "def saludar_multiple(*nombres, lang='es', colega=True):\n",
    "    \n",
    "    for nombre in nombres:\n",
    "        \n",
    "        saludar(nombre, lang, colega)"
   ]
  },
  {
   "cell_type": "code",
   "execution_count": 12,
   "id": "25cec2bf",
   "metadata": {},
   "outputs": [
    {
     "name": "stdout",
     "output_type": "stream",
     "text": [
      "Hola ['María', 'Pepe', 'Juana'] colega!!!\n"
     ]
    }
   ],
   "source": [
    "# ejemplo con lista\n",
    "\n",
    "saludar_multiple(['María', 'Pepe', 'Juana'])"
   ]
  },
  {
   "cell_type": "code",
   "execution_count": 13,
   "id": "dcd4b619",
   "metadata": {},
   "outputs": [
    {
     "name": "stdout",
     "output_type": "stream",
     "text": [
      "Hola María colega!!!\n",
      "Hola Pepe colega!!!\n",
      "Hola Juana colega!!!\n"
     ]
    }
   ],
   "source": [
    "# ejemplo con lista desempaquetada\n",
    "\n",
    "saludar_multiple(*['María', 'Pepe', 'Juana'])"
   ]
  },
  {
   "cell_type": "code",
   "execution_count": 14,
   "id": "cdfe28af",
   "metadata": {},
   "outputs": [
    {
     "data": {
      "text/plain": [
       "['María', 'Pepe', 'Juana', 'Chema', 'Juan', 'Begoña']"
      ]
     },
     "execution_count": 14,
     "metadata": {},
     "output_type": "execute_result"
    }
   ],
   "source": [
    "# lista de nombres\n",
    "\n",
    "nombres=['María', 'Pepe', 'Juana', 'Chema', 'Juan', 'Begoña']\n",
    "\n",
    "nombres"
   ]
  },
  {
   "cell_type": "code",
   "execution_count": 15,
   "id": "527355dd",
   "metadata": {},
   "outputs": [
    {
     "data": {
      "text/plain": [
       "{'lang': 'es', 'colega': True}"
      ]
     },
     "execution_count": 15,
     "metadata": {},
     "output_type": "execute_result"
    }
   ],
   "source": [
    "# diccionario de configuración\n",
    "\n",
    "config = {'lang': 'es', 'colega': True}\n",
    "\n",
    "config"
   ]
  },
  {
   "cell_type": "code",
   "execution_count": 16,
   "id": "60d51b1c",
   "metadata": {},
   "outputs": [
    {
     "name": "stdout",
     "output_type": "stream",
     "text": [
      "Hola María colega!!!\n",
      "Hola Pepe colega!!!\n",
      "Hola Juana colega!!!\n",
      "Hola Chema colega!!!\n",
      "Hola Juan colega!!!\n",
      "Hola Begoña colega!!!\n"
     ]
    }
   ],
   "source": [
    "# llamada a la función con *args y **kwargs\n",
    "\n",
    "saludar_multiple(*nombres, **config)"
   ]
  },
  {
   "cell_type": "markdown",
   "id": "3e05bef3",
   "metadata": {},
   "source": [
    "El símbolo `**` quiere decir que coja los elementos de uno en uno sabiendo que tiene la estructura clave-valor como en un diccionario. Veamos ahora la generalización de una función, de esta manera se tendría una función con un número indeterminado de parámetros de entrada, con valores por defecto o sin ellos."
   ]
  },
  {
   "cell_type": "code",
   "execution_count": 17,
   "id": "02b99be8",
   "metadata": {},
   "outputs": [],
   "source": [
    "# función generalizada, solo imprime\n",
    "\n",
    "def func(*args, **kwargs):\n",
    "    print('Args', args)\n",
    "    print('Kwargs', kwargs)"
   ]
  },
  {
   "cell_type": "code",
   "execution_count": 18,
   "id": "9134fdfa",
   "metadata": {},
   "outputs": [
    {
     "name": "stdout",
     "output_type": "stream",
     "text": [
      "Args (12, 34, 56)\n",
      "Kwargs {'lang': 'es', 'colega': True}\n"
     ]
    }
   ],
   "source": [
    "# ejemplo 1\n",
    "\n",
    "func(*[12, 34, 56], **config)"
   ]
  },
  {
   "cell_type": "code",
   "execution_count": 19,
   "id": "a6fe0207",
   "metadata": {},
   "outputs": [
    {
     "name": "stdout",
     "output_type": "stream",
     "text": [
      "Args ([12, 34, 56], {'lang': 'es', 'colega': True})\n",
      "Kwargs {}\n"
     ]
    }
   ],
   "source": [
    "# ejemplo 2\n",
    "\n",
    "func([12, 34, 56], config)"
   ]
  },
  {
   "cell_type": "code",
   "execution_count": 20,
   "id": "462b3c7c",
   "metadata": {},
   "outputs": [
    {
     "name": "stdout",
     "output_type": "stream",
     "text": [
      "Args (12, 34, 13, 56)\n",
      "Kwargs {}\n"
     ]
    }
   ],
   "source": [
    "# ejemplo 3\n",
    "\n",
    "func(*[12, 34], *[13, 56])"
   ]
  },
  {
   "cell_type": "code",
   "execution_count": 21,
   "id": "0383206b",
   "metadata": {},
   "outputs": [
    {
     "name": "stdout",
     "output_type": "stream",
     "text": [
      "Args ()\n",
      "Kwargs {'a': 4, 'd': 5, 'v': 'hola', 'g': 50}\n"
     ]
    }
   ],
   "source": [
    "# ejemplo 4\n",
    "\n",
    "func(**{'a': 4, 'd': 5}, **{'v': 'hola', 'g': 50})"
   ]
  }
 ],
 "metadata": {
  "kernelspec": {
   "display_name": "ia",
   "language": "python",
   "name": "ia"
  },
  "language_info": {
   "codemirror_mode": {
    "name": "ipython",
    "version": 3
   },
   "file_extension": ".py",
   "mimetype": "text/x-python",
   "name": "python",
   "nbconvert_exporter": "python",
   "pygments_lexer": "ipython3",
   "version": "3.9.19"
  },
  "toc": {
   "base_numbering": 1,
   "nav_menu": {},
   "number_sections": false,
   "sideBar": true,
   "skip_h1_title": true,
   "title_cell": "Tabla de Contenidos",
   "title_sidebar": "Contents",
   "toc_cell": true,
   "toc_position": {
    "height": "calc(100% - 180px)",
    "left": "10px",
    "top": "150px",
    "width": "277.882px"
   },
   "toc_section_display": true,
   "toc_window_display": true
  }
 },
 "nbformat": 4,
 "nbformat_minor": 5
}
