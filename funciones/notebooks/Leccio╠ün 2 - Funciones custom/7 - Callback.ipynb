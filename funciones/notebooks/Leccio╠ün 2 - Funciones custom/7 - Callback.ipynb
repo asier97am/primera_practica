{
 "cells": [
  {
   "cell_type": "markdown",
   "id": "a58967f1",
   "metadata": {},
   "source": [
    "# 7 - Callback\n",
    "\n",
    "<br>\n",
    "<br>\n",
    "\n",
    "<img src=\"https://raw.githubusercontent.com/Hack-io-AI/ai_images/main/python_functions.webp\" style=\"width:400px;\"/>"
   ]
  },
  {
   "cell_type": "markdown",
   "id": "cd5fbb27",
   "metadata": {
    "toc": true
   },
   "source": [
    "<h1>Tabla de Contenidos<span class=\"tocSkip\"></span></h1>\n",
    "<div class=\"toc\"><ul class=\"toc-item\"><li><span><a href=\"#1---Callback\" data-toc-modified-id=\"1---Callback-1\">1 - Callback</a></span></li></ul></div>"
   ]
  },
  {
   "cell_type": "markdown",
   "id": "0ac4f7be",
   "metadata": {},
   "source": [
    "## 1 - Callback"
   ]
  },
  {
   "cell_type": "markdown",
   "id": "d3c3a20d",
   "metadata": {},
   "source": [
    "Un callback o función de devolución de llamada, es una función que se pasa como argumento a otra función y se espera que se \"llame de vuelta\" o ejecute en un momento específico. Los callbacks permiten a las funciones ser más flexibles y reutilizables, ya que el comportamiento específico de la función puede ser personalizado mediante la inyección de lógica adicional a través de la función de devolución de llamada. Básicamente es que una función llame a otra o que se usa una función como argumento de entrada. Veamos un ejemplo."
   ]
  },
  {
   "cell_type": "code",
   "execution_count": 1,
   "id": "8df28e53",
   "metadata": {},
   "outputs": [],
   "source": [
    "# funcion saludar\n",
    "\n",
    "def saludar(nombre):\n",
    "    \n",
    "    print(f'Hola {nombre}')"
   ]
  },
  {
   "cell_type": "code",
   "execution_count": 2,
   "id": "e7c57205",
   "metadata": {},
   "outputs": [
    {
     "name": "stdout",
     "output_type": "stream",
     "text": [
      "Hola Pepe\n"
     ]
    }
   ],
   "source": [
    "saludar('Pepe')"
   ]
  },
  {
   "cell_type": "code",
   "execution_count": 3,
   "id": "476fc5d1",
   "metadata": {},
   "outputs": [],
   "source": [
    "# callback\n",
    "\n",
    "def ejecutar_callback(funcion, argumento):\n",
    "    \n",
    "    funcion(argumento)"
   ]
  },
  {
   "cell_type": "code",
   "execution_count": 4,
   "id": "37f92448",
   "metadata": {},
   "outputs": [
    {
     "name": "stdout",
     "output_type": "stream",
     "text": [
      "Hola Maria\n"
     ]
    }
   ],
   "source": [
    "# usamos el callback\n",
    "\n",
    "ejecutar_callback(saludar, 'Maria')"
   ]
  },
  {
   "cell_type": "code",
   "execution_count": 5,
   "id": "44501349",
   "metadata": {},
   "outputs": [],
   "source": [
    "# definir funcion sumar\n",
    "\n",
    "def sumar(a):\n",
    "    \n",
    "    return a+20"
   ]
  },
  {
   "cell_type": "code",
   "execution_count": 6,
   "id": "b33d6602",
   "metadata": {},
   "outputs": [
    {
     "data": {
      "text/plain": [
       "23"
      ]
     },
     "execution_count": 6,
     "metadata": {},
     "output_type": "execute_result"
    }
   ],
   "source": [
    "sumar(3)"
   ]
  },
  {
   "cell_type": "code",
   "execution_count": 7,
   "id": "bb0cb3c9",
   "metadata": {},
   "outputs": [],
   "source": [
    "# definir restar\n",
    "\n",
    "def restar(a):\n",
    "    \n",
    "    a = sumar(a)\n",
    "    \n",
    "    return a - 40"
   ]
  },
  {
   "cell_type": "code",
   "execution_count": 8,
   "id": "52d0dee0",
   "metadata": {},
   "outputs": [
    {
     "data": {
      "text/plain": [
       "-17"
      ]
     },
     "execution_count": 8,
     "metadata": {},
     "output_type": "execute_result"
    }
   ],
   "source": [
    "restar(3)"
   ]
  },
  {
   "cell_type": "code",
   "execution_count": null,
   "id": "8ab5b342",
   "metadata": {},
   "outputs": [],
   "source": []
  }
 ],
 "metadata": {
  "kernelspec": {
   "display_name": "ia",
   "language": "python",
   "name": "ia"
  },
  "language_info": {
   "codemirror_mode": {
    "name": "ipython",
    "version": 3
   },
   "file_extension": ".py",
   "mimetype": "text/x-python",
   "name": "python",
   "nbconvert_exporter": "python",
   "pygments_lexer": "ipython3",
   "version": "3.9.19"
  },
  "toc": {
   "base_numbering": 1,
   "nav_menu": {},
   "number_sections": false,
   "sideBar": true,
   "skip_h1_title": true,
   "title_cell": "Tabla de Contenidos",
   "title_sidebar": "Contents",
   "toc_cell": true,
   "toc_position": {
    "height": "calc(100% - 180px)",
    "left": "10px",
    "top": "150px",
    "width": "271.536px"
   },
   "toc_section_display": true,
   "toc_window_display": true
  }
 },
 "nbformat": 4,
 "nbformat_minor": 5
}
