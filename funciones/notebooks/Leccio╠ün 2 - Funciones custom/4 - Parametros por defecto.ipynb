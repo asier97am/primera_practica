{
 "cells": [
  {
   "cell_type": "markdown",
   "id": "f2c26c72",
   "metadata": {},
   "source": [
    "# 4 - Parámetros por defecto\n",
    "\n",
    "<br>\n",
    "<br>\n",
    "\n",
    "<img src=\"https://raw.githubusercontent.com/Hack-io-AI/ai_images/main/python_functions.webp\" style=\"width:400px;\"/>"
   ]
  },
  {
   "cell_type": "markdown",
   "id": "40803f88",
   "metadata": {
    "toc": true
   },
   "source": [
    "<h1>Tabla de Contenidos<span class=\"tocSkip\"></span></h1>\n",
    "<div class=\"toc\"><ul class=\"toc-item\"><li><span><a href=\"#1---Definición-de-función\" data-toc-modified-id=\"1---Definición-de-función-1\">1 - Definición de función</a></span></li><li><span><a href=\"#2---Llamada\" data-toc-modified-id=\"2---Llamada-2\">2 - Llamada</a></span></li></ul></div>"
   ]
  },
  {
   "cell_type": "markdown",
   "id": "6ebc7695",
   "metadata": {},
   "source": [
    "## 1 - Definición de función"
   ]
  },
  {
   "cell_type": "markdown",
   "id": "b1eae5a3",
   "metadata": {},
   "source": [
    "Cuando definimos una función con parámetros, podemos dar valores por defecto a esos parámetros. Estos siempre se escribirán después de los parámetros sin valores por defecto. Creemos una función calculadora para ver un ejemplo."
   ]
  },
  {
   "cell_type": "code",
   "execution_count": 4,
   "id": "7eaadd26",
   "metadata": {},
   "outputs": [],
   "source": [
    "# definicion de un afuncion para calcular con dos numeros\n",
    "\n",
    "\n",
    "def calcular(n1, n2, operacion='+'):\n",
    "    \n",
    "    \"\"\"\n",
    "    Esta funcion opera los numeros n1 y n2 segun el parametro operacion\n",
    "    \n",
    "    Params:\n",
    "    n1: int o float\n",
    "    n2: int o float\n",
    "    operacion: string, opciones + (suma por defecto), - (resta), *(multiplicacion), /(division)\n",
    "    \n",
    "    Return\n",
    "    Esta funcion devuelva el resulta de operar n1 y n2 segun sea el parametro operacion, int o float\n",
    "    Devolvera 'Esta operacion no es valida' string para otro caso\n",
    "    \"\"\"\n",
    "    \n",
    "    \n",
    "    if operacion == '+':\n",
    "        \n",
    "        resultado = n1 + n2\n",
    "        \n",
    "        \n",
    "    elif operacion == '-':\n",
    "        \n",
    "        resultado = n1 - n2\n",
    "        \n",
    "        \n",
    "    elif operacion == '*':\n",
    "        \n",
    "        resultado = n1 * n2\n",
    "        \n",
    "        \n",
    "    elif operacion == '/' and n2!=0:\n",
    "        \n",
    "        resultado = n1 / n2\n",
    "        \n",
    "    else:\n",
    "        resultado = 'Esta operacion no es valida'\n",
    "        \n",
    "        \n",
    "    return resultado\n",
    "    "
   ]
  },
  {
   "cell_type": "code",
   "execution_count": 5,
   "id": "a005f102",
   "metadata": {},
   "outputs": [
    {
     "name": "stdout",
     "output_type": "stream",
     "text": [
      "Help on function calcular in module __main__:\n",
      "\n",
      "calcular(n1, n2, operacion='+')\n",
      "    Esta funcion opera los numeros n1 y n2 segun el parametro operacion\n",
      "    \n",
      "    Params:\n",
      "    n1: int o float\n",
      "    n2: int o float\n",
      "    operacion: string, opciones + (suma por defecto), - (resta), *(multiplicacion), /(division)\n",
      "    \n",
      "    Return\n",
      "    Esta funcion devuelva el resulta de operar n1 y n2 segun sea el parametro operacion, int o float\n",
      "    Devolvera 'Esta operacion no es valida' string para otro caso\n",
      "\n"
     ]
    }
   ],
   "source": [
    "# ayuda de la funcion\n",
    "\n",
    "help(calcular)"
   ]
  },
  {
   "cell_type": "markdown",
   "id": "481dbef8",
   "metadata": {},
   "source": [
    "## 2 - Llamada"
   ]
  },
  {
   "cell_type": "code",
   "execution_count": 6,
   "id": "0ca84424",
   "metadata": {},
   "outputs": [
    {
     "data": {
      "text/plain": [
       "7"
      ]
     },
     "execution_count": 6,
     "metadata": {},
     "output_type": "execute_result"
    }
   ],
   "source": [
    "# llamada con dos parametros, por defecto sera la suma\n",
    "\n",
    "calcular(2, 5)"
   ]
  },
  {
   "cell_type": "code",
   "execution_count": 7,
   "id": "61bdd2e6",
   "metadata": {},
   "outputs": [
    {
     "data": {
      "text/plain": [
       "7"
      ]
     },
     "execution_count": 7,
     "metadata": {},
     "output_type": "execute_result"
    }
   ],
   "source": [
    "# lo mismo\n",
    "\n",
    "calcular(2, 5, '+')"
   ]
  },
  {
   "cell_type": "code",
   "execution_count": 8,
   "id": "be172682",
   "metadata": {},
   "outputs": [
    {
     "data": {
      "text/plain": [
       "-3"
      ]
     },
     "execution_count": 8,
     "metadata": {},
     "output_type": "execute_result"
    }
   ],
   "source": [
    "# restar\n",
    "\n",
    "calcular(2, 5, '-')"
   ]
  },
  {
   "cell_type": "code",
   "execution_count": 9,
   "id": "0a961ae1",
   "metadata": {},
   "outputs": [
    {
     "data": {
      "text/plain": [
       "10"
      ]
     },
     "execution_count": 9,
     "metadata": {},
     "output_type": "execute_result"
    }
   ],
   "source": [
    "# multiplicar\n",
    "\n",
    "calcular(2, 5, '*')"
   ]
  },
  {
   "cell_type": "code",
   "execution_count": 10,
   "id": "ae537d02",
   "metadata": {},
   "outputs": [
    {
     "data": {
      "text/plain": [
       "0.4"
      ]
     },
     "execution_count": 10,
     "metadata": {},
     "output_type": "execute_result"
    }
   ],
   "source": [
    "# dividir\n",
    "\n",
    "calcular(2, 5, '/')"
   ]
  },
  {
   "cell_type": "code",
   "execution_count": null,
   "id": "2e898c81",
   "metadata": {},
   "outputs": [],
   "source": []
  },
  {
   "cell_type": "code",
   "execution_count": null,
   "id": "41dbb9aa",
   "metadata": {},
   "outputs": [],
   "source": []
  }
 ],
 "metadata": {
  "kernelspec": {
   "display_name": "ia",
   "language": "python",
   "name": "ia"
  },
  "language_info": {
   "codemirror_mode": {
    "name": "ipython",
    "version": 3
   },
   "file_extension": ".py",
   "mimetype": "text/x-python",
   "name": "python",
   "nbconvert_exporter": "python",
   "pygments_lexer": "ipython3",
   "version": "3.9.19"
  },
  "toc": {
   "base_numbering": 1,
   "nav_menu": {},
   "number_sections": false,
   "sideBar": true,
   "skip_h1_title": true,
   "title_cell": "Tabla de Contenidos",
   "title_sidebar": "Contents",
   "toc_cell": true,
   "toc_position": {
    "height": "calc(100% - 180px)",
    "left": "10px",
    "top": "150px",
    "width": "271.884px"
   },
   "toc_section_display": true,
   "toc_window_display": true
  }
 },
 "nbformat": 4,
 "nbformat_minor": 5
}
