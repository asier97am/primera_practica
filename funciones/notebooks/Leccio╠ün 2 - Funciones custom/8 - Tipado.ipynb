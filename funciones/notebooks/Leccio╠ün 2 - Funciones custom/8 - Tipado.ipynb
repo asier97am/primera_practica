{
 "cells": [
  {
   "cell_type": "markdown",
   "id": "ba8641d7",
   "metadata": {},
   "source": [
    "# 8 - Tipado\n",
    "\n",
    "<br>\n",
    "<br>\n",
    "\n",
    "<img src=\"https://raw.githubusercontent.com/Hack-io-AI/ai_images/main/python_functions.webp\" style=\"width:400px;\"/>"
   ]
  },
  {
   "cell_type": "markdown",
   "id": "62cb9515",
   "metadata": {
    "toc": true
   },
   "source": [
    "<h1>Tabla de Contenidos<span class=\"tocSkip\"></span></h1>\n",
    "<div class=\"toc\"><ul class=\"toc-item\"><li><span><a href=\"#1---Tipado-de-variables\" data-toc-modified-id=\"1---Tipado-de-variables-1\">1 - Tipado de variables</a></span></li><li><span><a href=\"#2---Tipado-de-funciones\" data-toc-modified-id=\"2---Tipado-de-funciones-2\">2 - Tipado de funciones</a></span></li></ul></div>"
   ]
  },
  {
   "cell_type": "markdown",
   "id": "52dabb5e",
   "metadata": {},
   "source": [
    "Las anotaciones de tipo de dato en Python no cambian el comportamiento del programa en tiempo de ejecución, pero proporcionan información útil sobre los tipos esperados de variables y el retorno de funciones, es como tener comentarios para los programadores en formato código. Desde Python 3.6, se pueden usar anotaciones de tipo para variables."
   ]
  },
  {
   "cell_type": "markdown",
   "id": "71464b96",
   "metadata": {},
   "source": [
    "## 1 - Tipado de variables"
   ]
  },
  {
   "cell_type": "code",
   "execution_count": 5,
   "id": "952eb4ab",
   "metadata": {},
   "outputs": [
    {
     "name": "stdout",
     "output_type": "stream",
     "text": [
      "5\n"
     ]
    }
   ],
   "source": [
    "# ejmplo de variable tipada\n",
    "\n",
    "x: int = 5\n",
    "\n",
    "print(x)"
   ]
  },
  {
   "cell_type": "code",
   "execution_count": 10,
   "id": "275719c9",
   "metadata": {},
   "outputs": [
    {
     "name": "stdout",
     "output_type": "stream",
     "text": [
      "hola\n"
     ]
    },
    {
     "data": {
      "text/plain": [
       "str"
      ]
     },
     "execution_count": 10,
     "metadata": {},
     "output_type": "execute_result"
    }
   ],
   "source": [
    "# ejmplo de variable tipada\n",
    "\n",
    "palabra: str = 'hola'\n",
    "\n",
    "print(palabra)\n",
    "\n",
    "type(palabra)"
   ]
  },
  {
   "cell_type": "markdown",
   "id": "af240b1c",
   "metadata": {},
   "source": [
    "## 2 - Tipado de funciones"
   ]
  },
  {
   "cell_type": "code",
   "execution_count": 33,
   "id": "92610e45",
   "metadata": {},
   "outputs": [],
   "source": [
    "from typing import Union\n",
    "\n",
    "\n",
    "def calcular(n1: Union[int,float], n2: Union[int,float], operacion: str = '+') -> Union[int,float,str]:\n",
    "    \n",
    "    \"\"\"\n",
    "    Comentario aqui de como funciona\n",
    "    \"\"\"\n",
    "    \n",
    "    if operacion == '+':\n",
    "        \n",
    "        res = n1 + n2\n",
    "        \n",
    "    elif operacion == '-':\n",
    "        \n",
    "        res = n1 - n2\n",
    "        \n",
    "    elif operacion == '*':\n",
    "        \n",
    "        res = n1 * n2\n",
    "        \n",
    "    elif operacion == '/' and n2!=0:\n",
    "        \n",
    "        res = n1 / n2\n",
    "        \n",
    "    else:\n",
    "        \n",
    "        res = 'Esta operacion no se puede realizar'\n",
    "        \n",
    "    return res"
   ]
  },
  {
   "cell_type": "code",
   "execution_count": 34,
   "id": "7aadbf79",
   "metadata": {},
   "outputs": [
    {
     "data": {
      "text/plain": [
       "17"
      ]
     },
     "execution_count": 34,
     "metadata": {},
     "output_type": "execute_result"
    }
   ],
   "source": [
    "calcular(8, 9)"
   ]
  },
  {
   "cell_type": "code",
   "execution_count": 35,
   "id": "a4334c28",
   "metadata": {},
   "outputs": [
    {
     "data": {
      "text/plain": [
       "17"
      ]
     },
     "execution_count": 35,
     "metadata": {},
     "output_type": "execute_result"
    }
   ],
   "source": [
    "calcular(8, 9, '+')"
   ]
  },
  {
   "cell_type": "code",
   "execution_count": 36,
   "id": "00ba3d47",
   "metadata": {},
   "outputs": [
    {
     "data": {
      "text/plain": [
       "72"
      ]
     },
     "execution_count": 36,
     "metadata": {},
     "output_type": "execute_result"
    }
   ],
   "source": [
    "calcular(8, 9, '*')"
   ]
  },
  {
   "cell_type": "code",
   "execution_count": 37,
   "id": "da224274",
   "metadata": {},
   "outputs": [
    {
     "data": {
      "text/plain": [
       "'Esta operacion no se puede realizar'"
      ]
     },
     "execution_count": 37,
     "metadata": {},
     "output_type": "execute_result"
    }
   ],
   "source": [
    "calcular(8, 0, '/')"
   ]
  },
  {
   "cell_type": "code",
   "execution_count": null,
   "id": "f1fcbfe6",
   "metadata": {},
   "outputs": [],
   "source": []
  },
  {
   "cell_type": "code",
   "execution_count": null,
   "id": "ce5fc3de",
   "metadata": {},
   "outputs": [],
   "source": []
  }
 ],
 "metadata": {
  "kernelspec": {
   "display_name": "ia",
   "language": "python",
   "name": "ia"
  },
  "language_info": {
   "codemirror_mode": {
    "name": "ipython",
    "version": 3
   },
   "file_extension": ".py",
   "mimetype": "text/x-python",
   "name": "python",
   "nbconvert_exporter": "python",
   "pygments_lexer": "ipython3",
   "version": "3.9.19"
  },
  "toc": {
   "base_numbering": 1,
   "nav_menu": {},
   "number_sections": false,
   "sideBar": true,
   "skip_h1_title": true,
   "title_cell": "Tabla de Contenidos",
   "title_sidebar": "Contents",
   "toc_cell": true,
   "toc_position": {
    "height": "calc(100% - 180px)",
    "left": "10px",
    "top": "150px",
    "width": "273.759px"
   },
   "toc_section_display": true,
   "toc_window_display": true
  }
 },
 "nbformat": 4,
 "nbformat_minor": 5
}
