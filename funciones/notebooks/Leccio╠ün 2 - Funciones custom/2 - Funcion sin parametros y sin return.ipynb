{
 "cells": [
  {
   "cell_type": "markdown",
   "id": "6f464ce6",
   "metadata": {},
   "source": [
    "# 2 - Función sin parámetros y sin return\n",
    "\n",
    "<br>\n",
    "<br>\n",
    "\n",
    "<img src=\"https://raw.githubusercontent.com/Hack-io-AI/ai_images/main/python_functions.webp\" style=\"width:400px;\"/>"
   ]
  },
  {
   "cell_type": "markdown",
   "id": "aca0b684",
   "metadata": {
    "toc": true
   },
   "source": [
    "<h1>Tabla de Contenidos<span class=\"tocSkip\"></span></h1>\n",
    "<div class=\"toc\"><ul class=\"toc-item\"><li><span><a href=\"#1---Print-y-Return\" data-toc-modified-id=\"1---Print-y-Return-1\">1 - Print y Return</a></span></li><li><span><a href=\"#2---Función-sin-parámetros-y-sin-return\" data-toc-modified-id=\"2---Función-sin-parámetros-y-sin-return-2\">2 - Función sin parámetros y sin return</a></span></li></ul></div>"
   ]
  },
  {
   "cell_type": "markdown",
   "id": "88ffb052",
   "metadata": {},
   "source": [
    "## 1 - Print y Return"
   ]
  },
  {
   "cell_type": "markdown",
   "id": "7985f4ec",
   "metadata": {},
   "source": [
    "Podría surgir la pregunta, **¿qué diferencia hay entre print y return?**. `print` es una función que se utiliza para mostrar información al usuario. Envía la salida a la consola o cualquier otro dispositivo de salida, imprime el argumento que se le pasa y no devuelve ningún valor. La declaración `return` se usa para finalizar la ejecución de una función y devolver un valor cuando llamamos a la función, solo se usa dentro de funciones."
   ]
  },
  {
   "cell_type": "code",
   "execution_count": 1,
   "id": "33807b68",
   "metadata": {},
   "outputs": [
    {
     "name": "stdout",
     "output_type": "stream",
     "text": [
      "8\n"
     ]
    }
   ],
   "source": [
    "# guardar la salida del print\n",
    "\n",
    "var = print(8)"
   ]
  },
  {
   "cell_type": "code",
   "execution_count": 2,
   "id": "33c4d6f2",
   "metadata": {},
   "outputs": [
    {
     "name": "stdout",
     "output_type": "stream",
     "text": [
      "None\n"
     ]
    }
   ],
   "source": [
    "# cuanto var\n",
    "\n",
    "print(var)"
   ]
  },
  {
   "cell_type": "markdown",
   "id": "8a03bea6",
   "metadata": {},
   "source": [
    "## 2 - Función sin parámetros y sin return"
   ]
  },
  {
   "cell_type": "markdown",
   "id": "944c500f",
   "metadata": {},
   "source": [
    "Una función puede no tener ni parámetros de entrada ni tampoco return. Una función sin return devolverá siempre `None`."
   ]
  },
  {
   "cell_type": "code",
   "execution_count": 3,
   "id": "d5c8cdf8",
   "metadata": {},
   "outputs": [],
   "source": [
    "# definicion\n",
    "\n",
    "def saludar():\n",
    "    print('Hola alegre')"
   ]
  },
  {
   "cell_type": "code",
   "execution_count": null,
   "id": "e8bf6230",
   "metadata": {},
   "outputs": [],
   "source": []
  },
  {
   "cell_type": "code",
   "execution_count": null,
   "id": "dda2cc54",
   "metadata": {},
   "outputs": [],
   "source": []
  }
 ],
 "metadata": {
  "kernelspec": {
   "display_name": "ia",
   "language": "python",
   "name": "ia"
  },
  "language_info": {
   "codemirror_mode": {
    "name": "ipython",
    "version": 3
   },
   "file_extension": ".py",
   "mimetype": "text/x-python",
   "name": "python",
   "nbconvert_exporter": "python",
   "pygments_lexer": "ipython3",
   "version": "3.9.19"
  },
  "toc": {
   "base_numbering": 1,
   "nav_menu": {},
   "number_sections": false,
   "sideBar": true,
   "skip_h1_title": true,
   "title_cell": "Tabla de Contenidos",
   "title_sidebar": "Contents",
   "toc_cell": true,
   "toc_position": {
    "height": "calc(100% - 180px)",
    "left": "10px",
    "top": "150px",
    "width": "279.766px"
   },
   "toc_section_display": true,
   "toc_window_display": true
  }
 },
 "nbformat": 4,
 "nbformat_minor": 5
}
