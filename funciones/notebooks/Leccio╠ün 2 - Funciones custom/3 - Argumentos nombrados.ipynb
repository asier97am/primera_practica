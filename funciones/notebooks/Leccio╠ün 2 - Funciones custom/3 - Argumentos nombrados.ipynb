{
 "cells": [
  {
   "cell_type": "markdown",
   "id": "8d8d29dc",
   "metadata": {},
   "source": [
    "# 3 - Argumentos nombrados\n",
    "\n",
    "<br>\n",
    "<br>\n",
    "\n",
    "<img src=\"https://raw.githubusercontent.com/Hack-io-AI/ai_images/main/python_functions.webp\" style=\"width:400px;\"/>"
   ]
  },
  {
   "cell_type": "markdown",
   "id": "5c079521",
   "metadata": {
    "toc": true
   },
   "source": [
    "<h1>Tabla de Contenidos<span class=\"tocSkip\"></span></h1>\n",
    "<div class=\"toc\"><ul class=\"toc-item\"><li><span><a href=\"#1---Definición-de-función\" data-toc-modified-id=\"1---Definición-de-función-1\">1 - Definición de función</a></span></li><li><span><a href=\"#2---Llamada\" data-toc-modified-id=\"2---Llamada-2\">2 - Llamada</a></span></li></ul></div>"
   ]
  },
  {
   "cell_type": "markdown",
   "id": "5be0fd32",
   "metadata": {},
   "source": [
    "## 1 - Definición de función"
   ]
  },
  {
   "cell_type": "markdown",
   "id": "48700da1",
   "metadata": {},
   "source": [
    "Definamos la función restar que usamos anteriormente. Esa función tiene dos parámetros de entrada, n1 y n2. Cuando la llamamos el primer argumento es n1 y el segundo es n2, pero podemos llamarla de tal manera que tengan la posición que nosotros queramos, simplemente dando el nombre del parámetro."
   ]
  },
  {
   "cell_type": "code",
   "execution_count": 1,
   "id": "c016aada",
   "metadata": {},
   "outputs": [],
   "source": [
    "# definion\n",
    "\n",
    "def restar(n1, n2):\n",
    "    \n",
    "    \"\"\"\n",
    "    Esta funcion resta dos numeros\n",
    "    \n",
    "    Params:\n",
    "    n1: int o float\n",
    "    n2: int o float\n",
    "    \n",
    "    Return:\n",
    "    Devuelve la resta de n1 y n2\n",
    "    \"\"\"\n",
    "    \n",
    "    resta = n1 - n2\n",
    "    \n",
    "    return resta"
   ]
  },
  {
   "cell_type": "markdown",
   "id": "2a91193e",
   "metadata": {},
   "source": [
    "## 2 - Llamada"
   ]
  },
  {
   "cell_type": "code",
   "execution_count": 2,
   "id": "9641b770",
   "metadata": {},
   "outputs": [
    {
     "data": {
      "text/plain": [
       "6"
      ]
     },
     "execution_count": 2,
     "metadata": {},
     "output_type": "execute_result"
    }
   ],
   "source": [
    "# llamada a la funcion\n",
    "\n",
    "restar(9, 3)"
   ]
  },
  {
   "cell_type": "code",
   "execution_count": 3,
   "id": "6bf606c3",
   "metadata": {},
   "outputs": [
    {
     "data": {
      "text/plain": [
       "6"
      ]
     },
     "execution_count": 3,
     "metadata": {},
     "output_type": "execute_result"
    }
   ],
   "source": [
    "# llamada a la funcion, lo mismo\n",
    "\n",
    "restar(n1=9, n2=3)"
   ]
  },
  {
   "cell_type": "code",
   "execution_count": 4,
   "id": "462b95f2",
   "metadata": {},
   "outputs": [
    {
     "data": {
      "text/plain": [
       "-6"
      ]
     },
     "execution_count": 4,
     "metadata": {},
     "output_type": "execute_result"
    }
   ],
   "source": [
    "# al reves\n",
    "\n",
    "restar(n2=9, n1=3)"
   ]
  },
  {
   "cell_type": "code",
   "execution_count": null,
   "id": "96d71739",
   "metadata": {},
   "outputs": [],
   "source": []
  }
 ],
 "metadata": {
  "kernelspec": {
   "display_name": "ia",
   "language": "python",
   "name": "ia"
  },
  "language_info": {
   "codemirror_mode": {
    "name": "ipython",
    "version": 3
   },
   "file_extension": ".py",
   "mimetype": "text/x-python",
   "name": "python",
   "nbconvert_exporter": "python",
   "pygments_lexer": "ipython3",
   "version": "3.9.19"
  },
  "toc": {
   "base_numbering": 1,
   "nav_menu": {},
   "number_sections": false,
   "sideBar": true,
   "skip_h1_title": true,
   "title_cell": "Tabla de Contenidos",
   "title_sidebar": "Contents",
   "toc_cell": true,
   "toc_position": {
    "height": "calc(100% - 180px)",
    "left": "10px",
    "top": "150px",
    "width": "285.755px"
   },
   "toc_section_display": true,
   "toc_window_display": true
  }
 },
 "nbformat": 4,
 "nbformat_minor": 5
}
