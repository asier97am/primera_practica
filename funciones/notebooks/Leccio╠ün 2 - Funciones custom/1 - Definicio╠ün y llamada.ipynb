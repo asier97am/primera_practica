{
 "cells": [
  {
   "cell_type": "markdown",
   "id": "8662eaad",
   "metadata": {},
   "source": [
    "# 1 - Definición y llamada\n",
    "\n",
    "\n",
    "<br>\n",
    "<br>\n",
    "\n",
    "<img src=\"https://raw.githubusercontent.com/Hack-io-AI/ai_images/main/python_functions.webp\" style=\"width:400px;\"/>"
   ]
  },
  {
   "cell_type": "markdown",
   "id": "1378a641",
   "metadata": {
    "toc": true
   },
   "source": [
    "<h1>Tabla de Contenidos<span class=\"tocSkip\"></span></h1>\n",
    "<div class=\"toc\"><ul class=\"toc-item\"><li><span><a href=\"#1---Definición-de-funciones-custom\" data-toc-modified-id=\"1---Definición-de-funciones-custom-1\">1 - Definición de funciones custom</a></span></li><li><span><a href=\"#2---Llamada-a-una-función\" data-toc-modified-id=\"2---Llamada-a-una-función-2\">2 - Llamada a una función</a></span></li></ul></div>"
   ]
  },
  {
   "cell_type": "markdown",
   "id": "c657dda1",
   "metadata": {},
   "source": [
    "## 1 - Definición de funciones custom"
   ]
  },
  {
   "cell_type": "markdown",
   "id": "c322dbcd",
   "metadata": {},
   "source": [
    "Las funciones que nosotros creamos se definen utilizando la palabra reservada `def` seguida del nombre de la función, paréntesis que pueden incluir parámetros y un bloque de código indentado. Así es la sintaxis:\n",
    "\n",
    "```python\n",
    "def nombre_funcion(parametros):\n",
    "    # los dos puntos y la indentación implican estar en la funcion\n",
    "    realiza acciones\n",
    "    return () # devuelve cierto valor\n",
    "```\n",
    "\n",
    "+ **nombre_funcion**: Es el nombre de la función y debe ser único en el contexto en el que se define.\n",
    "\n",
    "+ **parametros**: Son las entradas que la función puede recibir. Estos son opcionales.\n",
    "\n",
    "+ **return**: Es una declaración opcional que especifica el valor que la función devuelve. También es opcional, si una función no tiene return siempre devolverá `None`.\n",
    "\n",
    "\n",
    "Existe una guía de buenas prácticas en Python, llamado [PEP8](https://peps.python.org/pep-0008/). Se incluyen, por ejemplo, como llamar a las funciones, con minúsculas y palabras separadas por underscore `_`. También, una buena práctica es llamar a las funciones con verbos dado que realizan acciones. Otra buena práctica es escribir como comentario la acción que realiza la función, sus parámetros de entrada y su salida. Dicho comentario saldrá como descripción si hacemos `help` de la función."
   ]
  },
  {
   "cell_type": "code",
   "execution_count": 1,
   "id": "06f4835a",
   "metadata": {},
   "outputs": [],
   "source": [
    "# definicion de una funcion\n",
    "\n",
    "def restar(n1, n2):\n",
    "    \n",
    "    \"\"\"\n",
    "    Esta función resta los numeros n1 y n2\n",
    "    \n",
    "    Params:\n",
    "    n1: int o float, primer numero\n",
    "    n2: int o float, segundo numero\n",
    "    \n",
    "    \n",
    "    Return:\n",
    "    Esta función devuelve la resta de los numeros n1 y n2, int o float\n",
    "    \"\"\"\n",
    "    \n",
    "    \n",
    "    resta = n1 - n2\n",
    "    \n",
    "    return resta"
   ]
  },
  {
   "cell_type": "code",
   "execution_count": 2,
   "id": "acafbd0e",
   "metadata": {},
   "outputs": [
    {
     "name": "stdout",
     "output_type": "stream",
     "text": [
      "Help on function restar in module __main__:\n",
      "\n",
      "restar(n1, n2)\n",
      "    Esta función resta los numeros n1 y n2\n",
      "    \n",
      "    Params:\n",
      "    n1: int o float, primer numero\n",
      "    n2: int o float, segundo numero\n",
      "    \n",
      "    \n",
      "    Return:\n",
      "    Esta función devuelve la resta de los numeros n1 y n2, int o float\n",
      "\n"
     ]
    }
   ],
   "source": [
    "# ayuda de la funcion\n",
    "\n",
    "help(restar)"
   ]
  },
  {
   "cell_type": "code",
   "execution_count": 3,
   "id": "74df9ad6",
   "metadata": {},
   "outputs": [
    {
     "data": {
      "text/plain": [
       "function"
      ]
     },
     "execution_count": 3,
     "metadata": {},
     "output_type": "execute_result"
    }
   ],
   "source": [
    "# tipo de dato\n",
    "\n",
    "type(restar)"
   ]
  },
  {
   "cell_type": "markdown",
   "id": "5b5f1a99",
   "metadata": {},
   "source": [
    "## 2 - Llamada a una función"
   ]
  },
  {
   "cell_type": "markdown",
   "id": "36db9fe3",
   "metadata": {},
   "source": [
    "Ahora que tenemos definida la función podemos usarla llamandola o invocandola."
   ]
  },
  {
   "cell_type": "code",
   "execution_count": 4,
   "id": "9b6a579d",
   "metadata": {},
   "outputs": [
    {
     "data": {
      "text/plain": [
       "1"
      ]
     },
     "execution_count": 4,
     "metadata": {},
     "output_type": "execute_result"
    }
   ],
   "source": [
    "# llamada o invocacion de la funcion\n",
    "\n",
    "restar(3, 2)"
   ]
  },
  {
   "cell_type": "code",
   "execution_count": 5,
   "id": "9fc0d812",
   "metadata": {},
   "outputs": [],
   "source": [
    "# guardado en variable\n",
    "\n",
    "num = restar(9, 2)"
   ]
  },
  {
   "cell_type": "code",
   "execution_count": 6,
   "id": "f2dd2c9b",
   "metadata": {},
   "outputs": [
    {
     "name": "stdout",
     "output_type": "stream",
     "text": [
      "7\n"
     ]
    }
   ],
   "source": [
    "print(num)"
   ]
  },
  {
   "cell_type": "code",
   "execution_count": null,
   "id": "8d20e7c5",
   "metadata": {},
   "outputs": [],
   "source": []
  }
 ],
 "metadata": {
  "kernelspec": {
   "display_name": "ia",
   "language": "python",
   "name": "ia"
  },
  "language_info": {
   "codemirror_mode": {
    "name": "ipython",
    "version": 3
   },
   "file_extension": ".py",
   "mimetype": "text/x-python",
   "name": "python",
   "nbconvert_exporter": "python",
   "pygments_lexer": "ipython3",
   "version": "3.9.19"
  },
  "toc": {
   "base_numbering": 1,
   "nav_menu": {},
   "number_sections": false,
   "sideBar": true,
   "skip_h1_title": true,
   "title_cell": "Tabla de Contenidos",
   "title_sidebar": "Contents",
   "toc_cell": true,
   "toc_position": {
    "height": "calc(100% - 180px)",
    "left": "10px",
    "top": "150px",
    "width": "271.649px"
   },
   "toc_section_display": true,
   "toc_window_display": true
  }
 },
 "nbformat": 4,
 "nbformat_minor": 5
}
