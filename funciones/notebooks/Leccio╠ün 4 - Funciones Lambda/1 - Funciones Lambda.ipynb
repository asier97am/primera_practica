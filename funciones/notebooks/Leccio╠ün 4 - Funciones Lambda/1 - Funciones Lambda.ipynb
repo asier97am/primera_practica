{
 "cells": [
  {
   "cell_type": "markdown",
   "id": "7c138a92",
   "metadata": {},
   "source": [
    "# 1 - Funciones Lambda\n",
    "\n",
    "\n",
    "<br>\n",
    "<br>\n",
    "\n",
    "<img src=\"https://raw.githubusercontent.com/Hack-io-AI/ai_images/main/lambda.png\" style=\"width:200px;\"/>"
   ]
  },
  {
   "cell_type": "markdown",
   "id": "7f785b1e",
   "metadata": {
    "toc": true
   },
   "source": [
    "<h1>Tabla de Contenidos<span class=\"tocSkip\"></span></h1>\n",
    "<div class=\"toc\"><ul class=\"toc-item\"><li><span><a href=\"#1---¿Qué-es-una-función-Lambda?\" data-toc-modified-id=\"1---¿Qué-es-una-función-Lambda?-1\">1 - ¿Qué es una función Lambda?</a></span></li><li><span><a href=\"#2---Ejemplos\" data-toc-modified-id=\"2---Ejemplos-2\">2 - Ejemplos</a></span></li></ul></div>"
   ]
  },
  {
   "cell_type": "markdown",
   "id": "05eeb341",
   "metadata": {},
   "source": [
    "## 1 - ¿Qué es una función Lambda?"
   ]
  },
  {
   "cell_type": "markdown",
   "id": "ca4a678c",
   "metadata": {},
   "source": [
    "Una función Lambda se refiere a una pequeña función anónima. Las llamamos “funciones anónimas” porque técnicamente carecen de nombre.\n",
    "\n",
    "Al contrario que una función normal, no la definimos con la palabra clave estándar def que utilizamos en python. En su lugar, las funciones Lambda se definen como una línea que ejecuta una sola expresión. Este tipo de funciones pueden tomar cualquier número de argumentos, pero solo pueden tener una expresión.\n",
    "\n",
    "Una de las utilidades principales de las funciones Lambda es la optimización de memoria, no guardando la función una vez utilizada.\n"
   ]
  },
  {
   "cell_type": "markdown",
   "id": "3de2355a",
   "metadata": {},
   "source": [
    "**Recordatorio de la estructura de una función:**\n",
    "\n",
    "Partes de una función:\n",
    "- Nombre\n",
    "- Parámetros\n",
    "- Código (acción/operación)\n",
    "- return (ojo, las funciones sin return devuelven `None`)\n",
    "    \n",
    "```python\n",
    "def nombre_funcion(parámetro_1, parámetro_2='valor_por_defecto'):\n",
    "    return acción(parámetro_1, parámetro_2)\n",
    "```\n",
    "\n",
    "\n",
    "O más general:\n",
    "\n",
    "```python\n",
    "def func(*args,**kwargs):\n",
    "    return acción(*args,**kwargs)\n",
    "```\n"
   ]
  },
  {
   "cell_type": "markdown",
   "id": "c1eedbff",
   "metadata": {},
   "source": [
    "**Sintaxis de la función Lambda**\n",
    "\n",
    "```python\n",
    "lambda parámetro_1, parámetro_2: action(parámetro_1, parámetro_2)\n",
    "```\n",
    "\n",
    "También puede tener valores por defecto:\n",
    "\n",
    "```python\n",
    "lambda parámetro_1, parámetro_2='valor_por_defecto': action(parámetro_1, parámetro_2)\n",
    "```\n",
    "\n",
    "O más general:\n",
    "\n",
    "```python\n",
    "lambda *args,**kwargs: acción(*args,**kwargs)\n",
    "\n"
   ]
  },
  {
   "cell_type": "markdown",
   "id": "391cbb3a",
   "metadata": {},
   "source": [
    "**Resumen**\n",
    "\n",
    "+ Las funciones Lambda hacen lo mismo que las funciones `def` (valores por defecto, \\*args, \\*\\*kwargs)\n",
    "+ Tienen una sintaxis diferente\n",
    "+ Están en una línea (dificultad en expresar el return)\n"
   ]
  },
  {
   "cell_type": "markdown",
   "id": "8574533a",
   "metadata": {},
   "source": [
    "## 2 - Ejemplos\n",
    "\n",
    "Supongamos primero una función sencilla:"
   ]
  },
  {
   "cell_type": "code",
   "execution_count": 1,
   "id": "26575cdd",
   "metadata": {},
   "outputs": [],
   "source": [
    "def sumar(a, b):\n",
    "    return a+b"
   ]
  },
  {
   "cell_type": "code",
   "execution_count": 2,
   "id": "c44e495b",
   "metadata": {},
   "outputs": [
    {
     "data": {
      "text/plain": [
       "<function __main__.sumar(a, b)>"
      ]
     },
     "execution_count": 2,
     "metadata": {},
     "output_type": "execute_result"
    }
   ],
   "source": [
    "# objeto funcion\n",
    "\n",
    "sumar"
   ]
  },
  {
   "cell_type": "code",
   "execution_count": 3,
   "id": "1a48ca6a",
   "metadata": {},
   "outputs": [
    {
     "data": {
      "text/plain": [
       "11"
      ]
     },
     "execution_count": 3,
     "metadata": {},
     "output_type": "execute_result"
    }
   ],
   "source": [
    "# llamada a la funcion\n",
    "\n",
    "sumar(5, 6)"
   ]
  },
  {
   "cell_type": "code",
   "execution_count": 4,
   "id": "44e54224",
   "metadata": {},
   "outputs": [
    {
     "data": {
      "text/plain": [
       "<function __main__.<lambda>(a, b)>"
      ]
     },
     "execution_count": 4,
     "metadata": {},
     "output_type": "execute_result"
    }
   ],
   "source": [
    "# lo mismo con lambda\n",
    "\n",
    "lambda a,b : a+b"
   ]
  },
  {
   "cell_type": "code",
   "execution_count": 5,
   "id": "f73ac6cd",
   "metadata": {},
   "outputs": [
    {
     "data": {
      "text/plain": [
       "11"
      ]
     },
     "execution_count": 5,
     "metadata": {},
     "output_type": "execute_result"
    }
   ],
   "source": [
    "# llamada a la funcion lambda\n",
    "\n",
    "(lambda a,b : a+b)(5, 6)"
   ]
  },
  {
   "cell_type": "code",
   "execution_count": 6,
   "id": "38ecba89",
   "metadata": {},
   "outputs": [],
   "source": [
    "# guardado con nombre\n",
    "\n",
    "sumar2 = lambda a,b : a+b"
   ]
  },
  {
   "cell_type": "code",
   "execution_count": 7,
   "id": "c47b12ef",
   "metadata": {},
   "outputs": [
    {
     "data": {
      "text/plain": [
       "<function __main__.<lambda>(a, b)>"
      ]
     },
     "execution_count": 7,
     "metadata": {},
     "output_type": "execute_result"
    }
   ],
   "source": [
    "sumar2"
   ]
  },
  {
   "cell_type": "code",
   "execution_count": 8,
   "id": "14731f47",
   "metadata": {},
   "outputs": [
    {
     "data": {
      "text/plain": [
       "11"
      ]
     },
     "execution_count": 8,
     "metadata": {},
     "output_type": "execute_result"
    }
   ],
   "source": [
    "sumar2(5, 6)"
   ]
  },
  {
   "cell_type": "markdown",
   "id": "9e2707c9",
   "metadata": {},
   "source": [
    "Veamos como se escribiría una función lambda con parámetros que tienen valores por defecto. Priemro escribamos otra vez la función sumar con un parámetro con un valor por defecto."
   ]
  },
  {
   "cell_type": "code",
   "execution_count": 9,
   "id": "b9fa8ee1",
   "metadata": {},
   "outputs": [],
   "source": [
    "def sumar(a, b=9):\n",
    "    return a+b"
   ]
  },
  {
   "cell_type": "code",
   "execution_count": 10,
   "id": "0fa3f1e8",
   "metadata": {},
   "outputs": [
    {
     "data": {
      "text/plain": [
       "17"
      ]
     },
     "execution_count": 10,
     "metadata": {},
     "output_type": "execute_result"
    }
   ],
   "source": [
    "# llamada con un argumento\n",
    "\n",
    "sumar(8)"
   ]
  },
  {
   "cell_type": "code",
   "execution_count": 11,
   "id": "b294ef91",
   "metadata": {},
   "outputs": [
    {
     "data": {
      "text/plain": [
       "11"
      ]
     },
     "execution_count": 11,
     "metadata": {},
     "output_type": "execute_result"
    }
   ],
   "source": [
    "# llamada con dos argumento\n",
    "\n",
    "sumar(8, 3)"
   ]
  },
  {
   "cell_type": "code",
   "execution_count": 12,
   "id": "5be609f3",
   "metadata": {},
   "outputs": [
    {
     "data": {
      "text/plain": [
       "<function __main__.<lambda>(a, b=9)>"
      ]
     },
     "execution_count": 12,
     "metadata": {},
     "output_type": "execute_result"
    }
   ],
   "source": [
    "# lambda con valores por defecto\n",
    "\n",
    "lambda a, b=9: a+b"
   ]
  },
  {
   "cell_type": "code",
   "execution_count": 13,
   "id": "ad48bede",
   "metadata": {},
   "outputs": [
    {
     "data": {
      "text/plain": [
       "13"
      ]
     },
     "execution_count": 13,
     "metadata": {},
     "output_type": "execute_result"
    }
   ],
   "source": [
    "# llamada a funcion lambda\n",
    "\n",
    "(lambda a, b=9: a+b)(4)"
   ]
  },
  {
   "cell_type": "code",
   "execution_count": 14,
   "id": "c56a1eaa",
   "metadata": {},
   "outputs": [
    {
     "data": {
      "text/plain": [
       "10"
      ]
     },
     "execution_count": 14,
     "metadata": {},
     "output_type": "execute_result"
    }
   ],
   "source": [
    "(lambda a, b=9: a+b)(4, 6)"
   ]
  },
  {
   "cell_type": "code",
   "execution_count": 15,
   "id": "a316236e",
   "metadata": {},
   "outputs": [],
   "source": [
    "# más complicado\n",
    "\n",
    "def filtrar(*lst):\n",
    "    \n",
    "    res = []\n",
    "    \n",
    "    \n",
    "    for e in lst:\n",
    "        \n",
    "        if 'o' in e:\n",
    "            res.append(3*e)\n",
    "            \n",
    "        elif 'v' in e:\n",
    "            res.append(e)\n",
    "            \n",
    "        elif 'a' in e:\n",
    "            res.append(5*e)\n",
    "            \n",
    "        else:\n",
    "            res.append(None)\n",
    "            \n",
    "    \n",
    "    return res\n",
    "        "
   ]
  },
  {
   "cell_type": "code",
   "execution_count": 17,
   "id": "392c950b",
   "metadata": {},
   "outputs": [
    {
     "data": {
      "text/plain": [
       "['holaholahola',\n",
       " 'venga',\n",
       " 'alaalaalaalaala',\n",
       " 'cohetecohetecohete',\n",
       " 'vamosvamosvamos']"
      ]
     },
     "execution_count": 17,
     "metadata": {},
     "output_type": "execute_result"
    }
   ],
   "source": [
    "# llamada a la funcion\n",
    "\n",
    "filtrar('hola', 'venga', 'ala', 'cohete', 'vamos')"
   ]
  },
  {
   "cell_type": "code",
   "execution_count": 18,
   "id": "acbe741d",
   "metadata": {},
   "outputs": [
    {
     "data": {
      "text/plain": [
       "<function __main__.<lambda>(*lst)>"
      ]
     },
     "execution_count": 18,
     "metadata": {},
     "output_type": "execute_result"
    }
   ],
   "source": [
    "# misma funcion con lambda\n",
    "\n",
    "lambda *lst: [3*e if 'o' in e else (e if 'v' in e else (5*e if 'a' in e else None)) for e in lst]"
   ]
  },
  {
   "cell_type": "code",
   "execution_count": 19,
   "id": "45751ff1",
   "metadata": {},
   "outputs": [
    {
     "data": {
      "text/plain": [
       "<function __main__.<lambda>(*lst)>"
      ]
     },
     "execution_count": 19,
     "metadata": {},
     "output_type": "execute_result"
    }
   ],
   "source": [
    "# misma funcion con lambda con salto de linea\n",
    "\n",
    "lambda *lst: [3*e if 'o' in e else \\\n",
    "              (e if 'v' in e else \\\n",
    "               (5*e if 'a' in e \\\n",
    "                else None)) \n",
    "              \n",
    "              for e in lst]"
   ]
  },
  {
   "cell_type": "code",
   "execution_count": 20,
   "id": "71f2bbb5",
   "metadata": {},
   "outputs": [
    {
     "data": {
      "text/plain": [
       "['holaholahola',\n",
       " 'venga',\n",
       " 'alaalaalaalaala',\n",
       " 'cohetecohetecohete',\n",
       " 'vamosvamosvamos']"
      ]
     },
     "execution_count": 20,
     "metadata": {},
     "output_type": "execute_result"
    }
   ],
   "source": [
    "# llamada\n",
    "\n",
    "(lambda *lst: [3*e if 'o' in e else \\\n",
    "              (e if 'v' in e else \\\n",
    "               (5*e if 'a' in e \\\n",
    "                else None)) \n",
    "              \n",
    "              for e in lst])('hola', 'venga', 'ala', 'cohete', 'vamos')"
   ]
  },
  {
   "cell_type": "code",
   "execution_count": null,
   "id": "ebd9e1fa",
   "metadata": {},
   "outputs": [],
   "source": []
  }
 ],
 "metadata": {
  "kernelspec": {
   "display_name": "ia",
   "language": "python",
   "name": "ia"
  },
  "language_info": {
   "codemirror_mode": {
    "name": "ipython",
    "version": 3
   },
   "file_extension": ".py",
   "mimetype": "text/x-python",
   "name": "python",
   "nbconvert_exporter": "python",
   "pygments_lexer": "ipython3",
   "version": "3.9.19"
  },
  "toc": {
   "base_numbering": 1,
   "nav_menu": {},
   "number_sections": false,
   "sideBar": true,
   "skip_h1_title": true,
   "title_cell": "Tabla de Contenidos",
   "title_sidebar": "Contents",
   "toc_cell": true,
   "toc_position": {
    "height": "598px",
    "left": "50px",
    "top": "170.141px",
    "width": "263.16px"
   },
   "toc_section_display": true,
   "toc_window_display": true
  }
 },
 "nbformat": 4,
 "nbformat_minor": 5
}
