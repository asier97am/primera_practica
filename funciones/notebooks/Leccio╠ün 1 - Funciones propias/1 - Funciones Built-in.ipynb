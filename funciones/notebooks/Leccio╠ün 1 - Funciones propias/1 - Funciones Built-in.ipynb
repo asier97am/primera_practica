{
 "cells": [
  {
   "cell_type": "markdown",
   "id": "3d11b4af",
   "metadata": {},
   "source": [
    "# 1 - Funciones Built-in\n",
    "\n",
    "\n",
    "<br>\n",
    "<br>\n",
    "\n",
    "<img src=\"https://raw.githubusercontent.com/Hack-io-AI/ai_images/main/python_functions.webp\" style=\"width:400px;\"/>"
   ]
  },
  {
   "cell_type": "markdown",
   "id": "61d846ec",
   "metadata": {
    "toc": true
   },
   "source": [
    "<h1>Tabla de Contenidos<span class=\"tocSkip\"></span></h1>\n",
    "<div class=\"toc\"><ul class=\"toc-item\"><li><span><a href=\"#1---¿Qué-es-una-función?\" data-toc-modified-id=\"1---¿Qué-es-una-función?-1\">1 - ¿Qué es una función?</a></span></li><li><span><a href=\"#2---Funciones-propias-de-python-(built-in-functions)\" data-toc-modified-id=\"2---Funciones-propias-de-python-(built-in-functions)-2\">2 - Funciones propias de python (built-in functions)</a></span></li></ul></div>"
   ]
  },
  {
   "cell_type": "markdown",
   "id": "33d8eef5",
   "metadata": {},
   "source": [
    "## 1 - ¿Qué es una función?"
   ]
  },
  {
   "cell_type": "markdown",
   "id": "f0dd8aa6",
   "metadata": {},
   "source": [
    "Una función es un bloque de código con un nombre asociado, que recibe cero o más argumentos como entrada, sigue una secuencia de sentencias, la cuales ejecuta una operación deseada y devuelve un valor y/o realiza una tarea, este bloque puede ser llamados cuando se necesite.\n",
    "\n",
    "El uso de funciones es un componente muy importante del paradigma de la programación llamada estructurada, y tiene varias ventajas:\n",
    "\n",
    "+ **Modularización**: permite segmentar un programa complejo en una serie de partes o módulos más simples, facilitando así la programación y el depurado.\n",
    "\n",
    "+ **Reutilización**: permite reutilizar una misma función en distintos programas.\n"
   ]
  },
  {
   "cell_type": "markdown",
   "id": "c7b160cf",
   "metadata": {},
   "source": [
    "## 2 - Funciones propias de python (built-in functions)"
   ]
  },
  {
   "cell_type": "markdown",
   "id": "79997ad6",
   "metadata": {},
   "source": [
    "Las funciones integradas (built-in functions) en Python son funciones que están disponibles por defecto en el lenguaje, sin necesidad de importar módulos adicionales. Estas funciones proporcionan una amplia gama de funcionalidades básicas y avanzadas, facilitando tareas comunes y operaciones complejas. Algunas de estas funciones ya las hemos utilizado, como `len`, `sum`, `max`, `range` o `print`. En este [link](https://docs.python.org/3/library/functions.html) tenemos una lista con todas las funciones propias de Python disponibles. Veámos algunas de ellas."
   ]
  },
  {
   "cell_type": "code",
   "execution_count": 1,
   "id": "0bff3bc5",
   "metadata": {},
   "outputs": [
    {
     "name": "stdout",
     "output_type": "stream",
     "text": [
      "Help on built-in function print in module builtins:\n",
      "\n",
      "print(...)\n",
      "    print(value, ..., sep=' ', end='\\n', file=sys.stdout, flush=False)\n",
      "    \n",
      "    Prints the values to a stream, or to sys.stdout by default.\n",
      "    Optional keyword arguments:\n",
      "    file:  a file-like object (stream); defaults to the current sys.stdout.\n",
      "    sep:   string inserted between values, default a space.\n",
      "    end:   string appended after the last value, default a newline.\n",
      "    flush: whether to forcibly flush the stream.\n",
      "\n"
     ]
    }
   ],
   "source": [
    "help(print)"
   ]
  },
  {
   "cell_type": "code",
   "execution_count": 2,
   "id": "2c890a32",
   "metadata": {},
   "outputs": [
    {
     "name": "stdout",
     "output_type": "stream",
     "text": [
      "hola\n"
     ]
    }
   ],
   "source": [
    "# prueba\n",
    "\n",
    "print('hola')"
   ]
  },
  {
   "cell_type": "code",
   "execution_count": 4,
   "id": "ddc5b248",
   "metadata": {},
   "outputs": [
    {
     "name": "stdout",
     "output_type": "stream",
     "text": [
      "hola------adios👋"
     ]
    }
   ],
   "source": [
    "# con mas argumento\n",
    "\n",
    "print('hola', 'adios', sep='------', end='👋')"
   ]
  },
  {
   "cell_type": "code",
   "execution_count": 5,
   "id": "b804e712",
   "metadata": {},
   "outputs": [
    {
     "name": "stdout",
     "output_type": "stream",
     "text": [
      "9\n"
     ]
    }
   ],
   "source": [
    "numero = print(9)"
   ]
  },
  {
   "cell_type": "code",
   "execution_count": 6,
   "id": "79b9c327",
   "metadata": {},
   "outputs": [
    {
     "name": "stdout",
     "output_type": "stream",
     "text": [
      "None\n"
     ]
    }
   ],
   "source": [
    "print(numero)"
   ]
  },
  {
   "cell_type": "code",
   "execution_count": null,
   "id": "c9c7ce86",
   "metadata": {},
   "outputs": [],
   "source": []
  },
  {
   "cell_type": "code",
   "execution_count": null,
   "id": "d8ecd852",
   "metadata": {},
   "outputs": [],
   "source": []
  }
 ],
 "metadata": {
  "kernelspec": {
   "display_name": "ia",
   "language": "python",
   "name": "ia"
  },
  "language_info": {
   "codemirror_mode": {
    "name": "ipython",
    "version": 3
   },
   "file_extension": ".py",
   "mimetype": "text/x-python",
   "name": "python",
   "nbconvert_exporter": "python",
   "pygments_lexer": "ipython3",
   "version": "3.9.19"
  },
  "toc": {
   "base_numbering": 1,
   "nav_menu": {},
   "number_sections": false,
   "sideBar": true,
   "skip_h1_title": true,
   "title_cell": "Tabla de Contenidos",
   "title_sidebar": "Contents",
   "toc_cell": true,
   "toc_position": {
    "height": "calc(100% - 180px)",
    "left": "10px",
    "top": "150px",
    "width": "316.658px"
   },
   "toc_section_display": true,
   "toc_window_display": true
  }
 },
 "nbformat": 4,
 "nbformat_minor": 5
}
