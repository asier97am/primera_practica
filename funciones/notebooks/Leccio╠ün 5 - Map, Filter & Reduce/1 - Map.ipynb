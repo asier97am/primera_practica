{
 "cells": [
  {
   "cell_type": "markdown",
   "id": "037a5947",
   "metadata": {},
   "source": [
    "# 1 - Map\n",
    "\n",
    "<br>\n",
    "<br>\n",
    "\n",
    "<img src=\"https://raw.githubusercontent.com/Hack-io-AI/ai_images/main/map_filter_reduce.webp\" style=\"width:400px;\"/>"
   ]
  },
  {
   "cell_type": "markdown",
   "id": "9f30df20",
   "metadata": {
    "toc": true
   },
   "source": [
    "<h1>Tabla de Contenidos<span class=\"tocSkip\"></span></h1>\n",
    "<div class=\"toc\"><ul class=\"toc-item\"><li><span><a href=\"#1---¿Qué-son-estas-funciones?\" data-toc-modified-id=\"1---¿Qué-son-estas-funciones?-1\">1 - ¿Qué son estas funciones?</a></span></li><li><span><a href=\"#2---Map-(Mathematical-application)\" data-toc-modified-id=\"2---Map-(Mathematical-application)-2\">2 - Map (Mathematical application)</a></span></li></ul></div>"
   ]
  },
  {
   "cell_type": "markdown",
   "id": "6643807a",
   "metadata": {},
   "source": [
    "## 1 - ¿Qué son estas funciones?"
   ]
  },
  {
   "cell_type": "markdown",
   "id": "c9dc4741",
   "metadata": {},
   "source": [
    "Estas tres funciones nos permiten realizar procesos con iterables de una manera más eficiente. Básicamente nos permiten saltarnos el bucle for. Todas ellas reciben como argumentos de entrada un iterable y una función que realiza una acción sobre el iterable. A menudo, la función que se pasa a `map()`, `reduce()` o `filter()` solamente se utiliza una vez, de ahí que el uso de funciones `lambda` sea muy habitual en su uso."
   ]
  },
  {
   "cell_type": "markdown",
   "id": "334cfeb4",
   "metadata": {},
   "source": [
    "## 2 - Map (Mathematical application)"
   ]
  },
  {
   "cell_type": "markdown",
   "id": "f48f2881",
   "metadata": {},
   "source": [
    "El `map()` itera sobre todos los elementos de un iterable aplicando una función a cada uno de ellos. Su sintaxis es:\n",
    "\n",
    "```python\n",
    "map(funcion, iterable)\n",
    "```\n",
    "\n",
    "La función `map()` devuelve un iterable con el mismo número de elementos que el que se le pasa como entrada, aplica una función matemática a cada uno de los elementos. La función ha de ser escrita para un solo elemento del iterable."
   ]
  },
  {
   "cell_type": "code",
   "execution_count": 1,
   "id": "f6314827",
   "metadata": {},
   "outputs": [
    {
     "data": {
      "text/plain": [
       "[0, 1, 2, 3, 4]"
      ]
     },
     "execution_count": 1,
     "metadata": {},
     "output_type": "execute_result"
    }
   ],
   "source": [
    "# iterable, 10M de elementos\n",
    "\n",
    "lst = [i for i in range(10_000_000)]\n",
    "\n",
    "lst[:5]"
   ]
  },
  {
   "cell_type": "code",
   "execution_count": 2,
   "id": "46d783e4",
   "metadata": {},
   "outputs": [
    {
     "data": {
      "text/plain": [
       "10000000"
      ]
     },
     "execution_count": 2,
     "metadata": {},
     "output_type": "execute_result"
    }
   ],
   "source": [
    "len(lst)"
   ]
  },
  {
   "cell_type": "code",
   "execution_count": 3,
   "id": "39dd417e",
   "metadata": {},
   "outputs": [],
   "source": [
    "# definicion de funcion\n",
    "\n",
    "def sumar_10(x):\n",
    "    \"\"\"\n",
    "    Esta funcion recibe un solo elemento de los que hay en lista\n",
    "    \n",
    "    y devuelve un elemento\n",
    "    \"\"\"\n",
    "    \n",
    "    return x+10"
   ]
  },
  {
   "cell_type": "markdown",
   "id": "87453009",
   "metadata": {},
   "source": [
    "Apliquemos la función al iterable a lo \"bruto\", con un bucle for y el método append, para crear una nueva lista con cada uno de los elementos más diez. La línea `%%time` mide el tiempo de ejecución de la casilla completa de jupyter notebook, son los llamados [comando mágicos](https://ipython.readthedocs.io/en/stable/interactive/magics.html)."
   ]
  },
  {
   "cell_type": "code",
   "execution_count": 4,
   "id": "8dc3e771",
   "metadata": {},
   "outputs": [
    {
     "name": "stdout",
     "output_type": "stream",
     "text": [
      "CPU times: user 699 ms, sys: 125 ms, total: 824 ms\n",
      "Wall time: 909 ms\n"
     ]
    },
    {
     "data": {
      "text/plain": [
       "[10, 11, 12, 13, 14]"
      ]
     },
     "execution_count": 4,
     "metadata": {},
     "output_type": "execute_result"
    }
   ],
   "source": [
    "%%time\n",
    "\n",
    "res = []\n",
    "\n",
    "for e in lst:\n",
    "    \n",
    "    n = sumar_10(e)\n",
    "    \n",
    "    res.append(n)\n",
    "    \n",
    "res[:5]"
   ]
  },
  {
   "cell_type": "code",
   "execution_count": 5,
   "id": "a4581dc3",
   "metadata": {},
   "outputs": [
    {
     "data": {
      "text/plain": [
       "10000000"
      ]
     },
     "execution_count": 5,
     "metadata": {},
     "output_type": "execute_result"
    }
   ],
   "source": [
    "len(res)"
   ]
  },
  {
   "cell_type": "code",
   "execution_count": 6,
   "id": "ad37e38f",
   "metadata": {},
   "outputs": [
    {
     "name": "stdout",
     "output_type": "stream",
     "text": [
      "CPU times: user 411 ms, sys: 89.8 ms, total: 501 ms\n",
      "Wall time: 509 ms\n"
     ]
    },
    {
     "data": {
      "text/plain": [
       "[10, 11, 12, 13, 14]"
      ]
     },
     "execution_count": 6,
     "metadata": {},
     "output_type": "execute_result"
    }
   ],
   "source": [
    "%%time\n",
    "\n",
    "res = [sumar_10(e) for e in lst]\n",
    "\n",
    "res[:5]"
   ]
  },
  {
   "cell_type": "markdown",
   "id": "0a3e841b",
   "metadata": {},
   "source": [
    "Probemos ahora con el `map`."
   ]
  },
  {
   "cell_type": "code",
   "execution_count": 7,
   "id": "f8f4e732",
   "metadata": {},
   "outputs": [
    {
     "name": "stdout",
     "output_type": "stream",
     "text": [
      "CPU times: user 6 µs, sys: 1 µs, total: 7 µs\n",
      "Wall time: 9.06 µs\n"
     ]
    },
    {
     "data": {
      "text/plain": [
       "<map at 0x1069c7370>"
      ]
     },
     "execution_count": 7,
     "metadata": {},
     "output_type": "execute_result"
    }
   ],
   "source": [
    "%%time\n",
    "\n",
    "# map(funcion, iterable)\n",
    "\n",
    "map(sumar_10, lst)"
   ]
  },
  {
   "cell_type": "markdown",
   "id": "f05e6af5",
   "metadata": {},
   "source": [
    "La velocidad del map es varios ordenes de magnitud mayor, es mucho más rápido. Vemos que la salida es un objeto map, pudiera parecer que la operación no se ha realizado, pero el propio objecto map es un iterable. Lo vamos a convertir a lista para ver el resultado, pero también veremos que es en esa conversión a lista donde se pierde el tiempo."
   ]
  },
  {
   "cell_type": "code",
   "execution_count": 8,
   "id": "33f7e5e8",
   "metadata": {},
   "outputs": [
    {
     "name": "stdout",
     "output_type": "stream",
     "text": [
      "CPU times: user 328 ms, sys: 88.8 ms, total: 416 ms\n",
      "Wall time: 436 ms\n"
     ]
    },
    {
     "data": {
      "text/plain": [
       "[10, 11, 12, 13, 14, 15, 16, 17, 18, 19]"
      ]
     },
     "execution_count": 8,
     "metadata": {},
     "output_type": "execute_result"
    }
   ],
   "source": [
    "%%time\n",
    "\n",
    "# map(funcion, iterable)\n",
    "\n",
    "list(map(sumar_10, lst))[:10]"
   ]
  },
  {
   "cell_type": "code",
   "execution_count": 9,
   "id": "4d9dda17",
   "metadata": {},
   "outputs": [
    {
     "name": "stdout",
     "output_type": "stream",
     "text": [
      "10\n",
      "11\n",
      "12\n",
      "13\n",
      "14\n",
      "15\n",
      "16\n",
      "17\n",
      "18\n",
      "19\n"
     ]
    }
   ],
   "source": [
    "for e in map(sumar_10, lst[:10]):\n",
    "    print(e)"
   ]
  },
  {
   "cell_type": "markdown",
   "id": "9a98d7ae",
   "metadata": {},
   "source": [
    "Como dijimos, el map suele usar funciones que solo se usan una vez, de ahí que a menudo se usen funciones lambda. Veamos un ejemplo."
   ]
  },
  {
   "cell_type": "code",
   "execution_count": 10,
   "id": "2fe2c02f",
   "metadata": {},
   "outputs": [
    {
     "name": "stdout",
     "output_type": "stream",
     "text": [
      "CPU times: user 6 µs, sys: 1e+03 ns, total: 7 µs\n",
      "Wall time: 9.06 µs\n"
     ]
    },
    {
     "data": {
      "text/plain": [
       "<map at 0x1069c7fa0>"
      ]
     },
     "execution_count": 10,
     "metadata": {},
     "output_type": "execute_result"
    }
   ],
   "source": [
    "%%time\n",
    "\n",
    "# map(funcion, iterable)\n",
    "\n",
    "map(lambda x: x+10, lst)"
   ]
  },
  {
   "cell_type": "code",
   "execution_count": null,
   "id": "efd63382",
   "metadata": {},
   "outputs": [],
   "source": []
  }
 ],
 "metadata": {
  "kernelspec": {
   "display_name": "ia",
   "language": "python",
   "name": "ia"
  },
  "language_info": {
   "codemirror_mode": {
    "name": "ipython",
    "version": 3
   },
   "file_extension": ".py",
   "mimetype": "text/x-python",
   "name": "python",
   "nbconvert_exporter": "python",
   "pygments_lexer": "ipython3",
   "version": "3.9.19"
  },
  "toc": {
   "base_numbering": 1,
   "nav_menu": {},
   "number_sections": false,
   "sideBar": true,
   "skip_h1_title": true,
   "title_cell": "Tabla de Contenidos",
   "title_sidebar": "Contents",
   "toc_cell": true,
   "toc_position": {
    "height": "calc(100% - 180px)",
    "left": "10px",
    "top": "150px",
    "width": "285.755px"
   },
   "toc_section_display": true,
   "toc_window_display": true
  }
 },
 "nbformat": 4,
 "nbformat_minor": 5
}
