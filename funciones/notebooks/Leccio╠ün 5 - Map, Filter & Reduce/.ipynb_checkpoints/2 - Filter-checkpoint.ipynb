{
 "cells": [
  {
   "cell_type": "markdown",
   "id": "d6e459a1",
   "metadata": {},
   "source": [
    "# 2 - Filter\n",
    "\n",
    "<br>\n",
    "<br>\n",
    "\n",
    "<img src=\"https://raw.githubusercontent.com/Hack-io-AI/ai_images/main/map_filter_reduce.webp\" style=\"width:400px;\"/>"
   ]
  },
  {
   "cell_type": "markdown",
   "id": "57f47973",
   "metadata": {
    "toc": true
   },
   "source": [
    "<h1>Tabla de Contenidos<span class=\"tocSkip\"></span></h1>\n",
    "<div class=\"toc\"><ul class=\"toc-item\"><li><span><a href=\"#1---Filter\" data-toc-modified-id=\"1---Filter-1\">1 - Filter</a></span></li></ul></div>"
   ]
  },
  {
   "cell_type": "markdown",
   "id": "f1e1e9f1",
   "metadata": {},
   "source": [
    "## 1 - Filter"
   ]
  },
  {
   "cell_type": "markdown",
   "id": "fd0851e6",
   "metadata": {},
   "source": [
    "Como el nombre sugiere la función `filter()` sirve para filtrar un iterable. Su sintaxis es:\n",
    "\n",
    "```python\n",
    "filter(funcion, iterable)\n",
    "```\n",
    "\n",
    "La función filter devuelve un iterable, pero su longitud no tiene por qué coincidir con la del iterable de entrada, después de todo es un filtro. La función de entrada del filter tiene la particularidad de devolver valores booleanos según cierta condición, de ésta manera es como se gestiona el filtrado de elementos. Vamos a crear una función para filtar los números pares de la lista que creamos anteriormente. Probemos primero a los bruto y luego con el filter."
   ]
  },
  {
   "cell_type": "code",
   "execution_count": 1,
   "id": "be8c59ea",
   "metadata": {},
   "outputs": [
    {
     "data": {
      "text/plain": [
       "[0, 1, 2, 3, 4]"
      ]
     },
     "execution_count": 1,
     "metadata": {},
     "output_type": "execute_result"
    }
   ],
   "source": [
    "# iterable\n",
    "\n",
    "lst = [i for i in range(10_000_000)]\n",
    "\n",
    "lst[:5]"
   ]
  },
  {
   "cell_type": "code",
   "execution_count": 2,
   "id": "54bc4080",
   "metadata": {},
   "outputs": [],
   "source": [
    "# definir funcion que devuelve booleanos\n",
    "\n",
    "def buscar_par(n):\n",
    "    \n",
    "    if n%2==0:  # par\n",
    "        \n",
    "        return True\n",
    "    \n",
    "    elif n%2==1:  # impar\n",
    "        \n",
    "        return False"
   ]
  },
  {
   "cell_type": "code",
   "execution_count": 4,
   "id": "e8538dad",
   "metadata": {},
   "outputs": [
    {
     "name": "stdout",
     "output_type": "stream",
     "text": [
      "CPU times: user 373 ms, sys: 32.5 ms, total: 405 ms\n",
      "Wall time: 405 ms\n"
     ]
    },
    {
     "data": {
      "text/plain": [
       "[0, 2, 4, 6, 8]"
      ]
     },
     "execution_count": 4,
     "metadata": {},
     "output_type": "execute_result"
    }
   ],
   "source": [
    "%%time\n",
    "\n",
    "res = []\n",
    "\n",
    "for e in lst:\n",
    "    \n",
    "    if e%2==0:\n",
    "        res.append(e)\n",
    "        \n",
    "    else:\n",
    "        continue\n",
    "        \n",
    "res[:5]"
   ]
  },
  {
   "cell_type": "code",
   "execution_count": 5,
   "id": "b150ceba",
   "metadata": {},
   "outputs": [
    {
     "name": "stdout",
     "output_type": "stream",
     "text": [
      "CPU times: user 4 µs, sys: 1 µs, total: 5 µs\n",
      "Wall time: 7.87 µs\n"
     ]
    },
    {
     "data": {
      "text/plain": [
       "<filter at 0x147e9cd00>"
      ]
     },
     "execution_count": 5,
     "metadata": {},
     "output_type": "execute_result"
    }
   ],
   "source": [
    "%%time\n",
    "\n",
    "filter(buscar_par, lst)"
   ]
  },
  {
   "cell_type": "code",
   "execution_count": 7,
   "id": "82c6b6ab",
   "metadata": {},
   "outputs": [
    {
     "name": "stdout",
     "output_type": "stream",
     "text": [
      "CPU times: user 399 ms, sys: 10.6 ms, total: 409 ms\n",
      "Wall time: 410 ms\n"
     ]
    },
    {
     "data": {
      "text/plain": [
       "[0, 2, 4, 6, 8, 10, 12, 14, 16, 18]"
      ]
     },
     "execution_count": 7,
     "metadata": {},
     "output_type": "execute_result"
    }
   ],
   "source": [
    "%%time\n",
    "\n",
    "list(filter(buscar_par, lst))[:10]"
   ]
  },
  {
   "cell_type": "markdown",
   "id": "1aca926e",
   "metadata": {},
   "source": [
    "Ahora vamos a crear un multifiltro. Supongamos que tenemos una lista de diccionarios con datos de hoteles y queremos filtrar esos según nuestra propia elección de búsqueda."
   ]
  },
  {
   "cell_type": "code",
   "execution_count": 8,
   "id": "231ba445",
   "metadata": {},
   "outputs": [],
   "source": [
    "# formato json\n",
    "\n",
    "hoteles = [{'name': 'Ritz', 'hasPool': True, 'stars': 5},\n",
    "           {'name': 'Pension Lola', 'hasPool': True, 'stars': 2},\n",
    "           {'name': 'Roma Norte', 'hasPool': False, 'stars': 3},\n",
    "           {'name': 'Palace', 'hasPool': True, 'stars': 4},\n",
    "          ]"
   ]
  },
  {
   "cell_type": "code",
   "execution_count": 10,
   "id": "9170d496",
   "metadata": {},
   "outputs": [
    {
     "data": {
      "text/plain": [
       "[{'name': 'Pension Lola', 'hasPool': True, 'stars': 2}]"
      ]
     },
     "execution_count": 10,
     "metadata": {},
     "output_type": "execute_result"
    }
   ],
   "source": [
    "# menos de 3 estrellas\n",
    "\n",
    "list(filter(lambda x: x['stars']<3, hoteles))"
   ]
  },
  {
   "cell_type": "code",
   "execution_count": 11,
   "id": "bc0c83cf",
   "metadata": {},
   "outputs": [
    {
     "data": {
      "text/plain": [
       "[{'name': 'Ritz', 'hasPool': True, 'stars': 5},\n",
       " {'name': 'Palace', 'hasPool': True, 'stars': 4}]"
      ]
     },
     "execution_count": 11,
     "metadata": {},
     "output_type": "execute_result"
    }
   ],
   "source": [
    "# mas de 3 estrellas y con piscina\n",
    "\n",
    "list(filter(lambda x: x['stars']>3 and x['hasPool'], hoteles))"
   ]
  },
  {
   "cell_type": "code",
   "execution_count": null,
   "id": "788cc702",
   "metadata": {},
   "outputs": [],
   "source": []
  }
 ],
 "metadata": {
  "kernelspec": {
   "display_name": "ia",
   "language": "python",
   "name": "ia"
  },
  "language_info": {
   "codemirror_mode": {
    "name": "ipython",
    "version": 3
   },
   "file_extension": ".py",
   "mimetype": "text/x-python",
   "name": "python",
   "nbconvert_exporter": "python",
   "pygments_lexer": "ipython3",
   "version": "3.9.19"
  },
  "toc": {
   "base_numbering": 1,
   "nav_menu": {},
   "number_sections": false,
   "sideBar": true,
   "skip_h1_title": true,
   "title_cell": "Tabla de Contenidos",
   "title_sidebar": "Contents",
   "toc_cell": true,
   "toc_position": {
    "height": "calc(100% - 180px)",
    "left": "10px",
    "top": "150px",
    "width": "298.759px"
   },
   "toc_section_display": true,
   "toc_window_display": true
  }
 },
 "nbformat": 4,
 "nbformat_minor": 5
}
