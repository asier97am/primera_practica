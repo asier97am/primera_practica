{
 "cells": [
  {
   "cell_type": "markdown",
   "id": "d7b143e2",
   "metadata": {},
   "source": [
    "# 3 - Reduce\n",
    "\n",
    "<br>\n",
    "<br>\n",
    "\n",
    "<img src=\"https://raw.githubusercontent.com/Hack-io-AI/ai_images/main/map_filter_reduce.webp\" style=\"width:400px;\"/>"
   ]
  },
  {
   "cell_type": "markdown",
   "id": "eae04e9b",
   "metadata": {
    "toc": true
   },
   "source": [
    "<h1>Tabla de Contenidos<span class=\"tocSkip\"></span></h1>\n",
    "<div class=\"toc\"><ul class=\"toc-item\"><li><span><a href=\"#1---Reduce\" data-toc-modified-id=\"1---Reduce-1\">1 - Reduce</a></span></li></ul></div>"
   ]
  },
  {
   "cell_type": "markdown",
   "id": "692917e9",
   "metadata": {},
   "source": [
    "## 1 - Reduce"
   ]
  },
  {
   "cell_type": "markdown",
   "id": "7cf53892",
   "metadata": {},
   "source": [
    "El `reduce()` funciona de manera diferente que el `map()` o el `filter()`. No devuelve un iterable resultante de la aplicación de una función, sino que devuelve un solo elemento reducido, procesado. La manera de hacerlo es acumulando los resultados, empezando por el primer elemento del iterable y recorriéndolo (el valor inicial se puede cambiar). La función que usa el reduce tiene dos parámetros de entrada, el acumulado y el siguiente elemento del iterable.\n",
    "\n",
    "\n",
    "<img src=\"https://raw.githubusercontent.com/Hack-io-AI/ai_images/main/reduce_process.png\" style=\"width:200px;\"/>"
   ]
  },
  {
   "cell_type": "code",
   "execution_count": 1,
   "id": "2798cbef",
   "metadata": {},
   "outputs": [],
   "source": [
    "# importamos reduce\n",
    "\n",
    "from functools import reduce"
   ]
  },
  {
   "cell_type": "code",
   "execution_count": 2,
   "id": "264172ea",
   "metadata": {},
   "outputs": [
    {
     "data": {
      "text/plain": [
       "[0, 1, 2, 3, 4, 5, 6, 7, 8, 9]"
      ]
     },
     "execution_count": 2,
     "metadata": {},
     "output_type": "execute_result"
    }
   ],
   "source": [
    "# iterable, 10M de elementos\n",
    "\n",
    "lst = [i for i in range(10_000_000)]\n",
    "\n",
    "\n",
    "lst[:10]"
   ]
  },
  {
   "cell_type": "code",
   "execution_count": 3,
   "id": "520bdfd0",
   "metadata": {},
   "outputs": [],
   "source": [
    "# definición de función con dos parámetros\n",
    "\n",
    "def sumar(a, b):\n",
    "    \n",
    "    print('Primero:', a, '-------', 'Segundo:', b)\n",
    "    \n",
    "    return a+b"
   ]
  },
  {
   "cell_type": "code",
   "execution_count": 4,
   "id": "5f539be8",
   "metadata": {},
   "outputs": [
    {
     "name": "stdout",
     "output_type": "stream",
     "text": [
      "Primero: 0 ------- Segundo: 1\n",
      "Primero: 1 ------- Segundo: 2\n",
      "Primero: 3 ------- Segundo: 3\n",
      "Primero: 6 ------- Segundo: 4\n",
      "Primero: 10 ------- Segundo: 5\n",
      "Primero: 15 ------- Segundo: 6\n",
      "Primero: 21 ------- Segundo: 7\n",
      "Primero: 28 ------- Segundo: 8\n",
      "Primero: 36 ------- Segundo: 9\n",
      "CPU times: user 47 µs, sys: 4 µs, total: 51 µs\n",
      "Wall time: 49.1 µs\n"
     ]
    },
    {
     "data": {
      "text/plain": [
       "45"
      ]
     },
     "execution_count": 4,
     "metadata": {},
     "output_type": "execute_result"
    }
   ],
   "source": [
    "%%time\n",
    "\n",
    "# aplicación del reduce\n",
    "\n",
    "reduce(sumar, lst[:10])"
   ]
  },
  {
   "cell_type": "markdown",
   "id": "a729ba85",
   "metadata": {},
   "source": [
    "La función sumatoria existe en Python, `sum`, pero el productorio no existe como función por defecto. Veamos como crear un productorio con reduce."
   ]
  },
  {
   "cell_type": "code",
   "execution_count": 5,
   "id": "a7bdcfde",
   "metadata": {},
   "outputs": [
    {
     "name": "stdout",
     "output_type": "stream",
     "text": [
      "CPU times: user 1e+03 ns, sys: 0 ns, total: 1e+03 ns\n",
      "Wall time: 2.15 µs\n"
     ]
    },
    {
     "data": {
      "text/plain": [
       "45"
      ]
     },
     "execution_count": 5,
     "metadata": {},
     "output_type": "execute_result"
    }
   ],
   "source": [
    "%%time\n",
    "\n",
    "# función sum\n",
    "\n",
    "sum(lst[:10])"
   ]
  },
  {
   "cell_type": "code",
   "execution_count": 6,
   "id": "64af0c57",
   "metadata": {},
   "outputs": [],
   "source": [
    "# función producto\n",
    "\n",
    "def producto(a, b):\n",
    "    return a*b"
   ]
  },
  {
   "cell_type": "code",
   "execution_count": 7,
   "id": "d33e23b6",
   "metadata": {},
   "outputs": [
    {
     "data": {
      "text/plain": [
       "362880"
      ]
     },
     "execution_count": 7,
     "metadata": {},
     "output_type": "execute_result"
    }
   ],
   "source": [
    "# uso del reduce\n",
    "\n",
    "reduce(producto, lst[1:10])"
   ]
  },
  {
   "cell_type": "code",
   "execution_count": 8,
   "id": "65bdf9c7",
   "metadata": {},
   "outputs": [
    {
     "data": {
      "text/plain": [
       "362880"
      ]
     },
     "execution_count": 8,
     "metadata": {},
     "output_type": "execute_result"
    }
   ],
   "source": [
    "# uso del reduce con lambda\n",
    "\n",
    "reduce(lambda a, b: a*b, lst[1:10])"
   ]
  }
 ],
 "metadata": {
  "kernelspec": {
   "display_name": "ia",
   "language": "python",
   "name": "ia"
  },
  "language_info": {
   "codemirror_mode": {
    "name": "ipython",
    "version": 3
   },
   "file_extension": ".py",
   "mimetype": "text/x-python",
   "name": "python",
   "nbconvert_exporter": "python",
   "pygments_lexer": "ipython3",
   "version": "3.9.19"
  },
  "toc": {
   "base_numbering": 1,
   "nav_menu": {},
   "number_sections": false,
   "sideBar": true,
   "skip_h1_title": true,
   "title_cell": "Tabla de Contenidos",
   "title_sidebar": "Contents",
   "toc_cell": true,
   "toc_position": {
    "height": "calc(100% - 180px)",
    "left": "10px",
    "top": "150px",
    "width": "281.884px"
   },
   "toc_section_display": true,
   "toc_window_display": true
  }
 },
 "nbformat": 4,
 "nbformat_minor": 5
}
