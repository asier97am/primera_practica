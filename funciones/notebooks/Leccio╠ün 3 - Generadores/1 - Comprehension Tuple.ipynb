{
 "cells": [
  {
   "cell_type": "markdown",
   "id": "843dd70d",
   "metadata": {},
   "source": [
    "# 1 - Comprehension Tuple\n",
    "\n",
    "<br>\n",
    "<br>\n",
    "\n",
    "<img src=\"https://raw.githubusercontent.com/Hack-io-AI/ai_images/main/python_generator.webp\" style=\"width:400px;\"/>"
   ]
  },
  {
   "cell_type": "markdown",
   "id": "586926c2",
   "metadata": {
    "toc": true
   },
   "source": [
    "<h1>Tabla de Contenidos<span class=\"tocSkip\"></span></h1>\n",
    "<div class=\"toc\"><ul class=\"toc-item\"><li><span><a href=\"#1---¿Qué-es-un-generador?\" data-toc-modified-id=\"1---¿Qué-es-un-generador?-1\">1 - ¿Qué es un generador?</a></span></li><li><span><a href=\"#2---Tupla-comprimida\" data-toc-modified-id=\"2---Tupla-comprimida-2\">2 - Tupla comprimida</a></span></li></ul></div>"
   ]
  },
  {
   "cell_type": "markdown",
   "id": "1cd2299f",
   "metadata": {},
   "source": [
    "## 1 - ¿Qué es un generador?"
   ]
  },
  {
   "cell_type": "markdown",
   "id": "a3b1c0de",
   "metadata": {},
   "source": [
    "Un generador en Python es una función que devuelve un iterador que produce una secuencia de valores cuando se itera sobre él. A diferencia de las funciones normales que utilizan `return` para devolver un valor, los generadores utilizan `yield` para devolver un valor, permitiendo que la función \"recuerde\" su estado entre cada iteración. Esto permite que los generadores manejen iteraciones de manera eficiente, especialmente con grandes conjuntos de datos.\n",
    "\n",
    "\n",
    "**Características de los Generadores**\n",
    "\n",
    "\n",
    "1. **Eficiencia en memoria**: Los generadores producen elementos sobre la marcha y no almacenan toda la secuencia en memoria, lo que los hace ideales para trabajar con grandes conjuntos de datos.\n",
    "\n",
    "\n",
    "2. **Pausabilidad**: La función generadora se pausa en cada declaración yield y se reanuda desde allí en la siguiente iteración.\n",
    "\n",
    "\n",
    "3. **Simplicidad**: Los generadores permiten escribir iteradores de manera más sencilla y legible que implementando manualmente los métodos `__iter__` y `__next__`.\n",
    "\n",
    "\n",
    "<img src=\"https://raw.githubusercontent.com/Hack-io-AI/ai_images/main/funcion_generador.gif\" style=\"width:400px;\"/>"
   ]
  },
  {
   "cell_type": "markdown",
   "id": "6edb4070",
   "metadata": {},
   "source": [
    "## 2 - Tupla comprimida"
   ]
  },
  {
   "cell_type": "markdown",
   "id": "b02b2ac8",
   "metadata": {},
   "source": [
    "Una tupla comprimida es un generador. Definamos una y veamos cuál es el comportamiento de uno de ellos."
   ]
  },
  {
   "cell_type": "code",
   "execution_count": 2,
   "id": "ac9b5936",
   "metadata": {},
   "outputs": [
    {
     "data": {
      "text/plain": [
       "[0, 1, 2, 3, 4, 5]"
      ]
     },
     "execution_count": 2,
     "metadata": {},
     "output_type": "execute_result"
    }
   ],
   "source": [
    "[i for i in range(6)]"
   ]
  },
  {
   "cell_type": "code",
   "execution_count": 1,
   "id": "790bca32",
   "metadata": {},
   "outputs": [
    {
     "data": {
      "text/plain": [
       "<generator object <genexpr> at 0x106791d60>"
      ]
     },
     "execution_count": 1,
     "metadata": {},
     "output_type": "execute_result"
    }
   ],
   "source": [
    "# tupla comprimida\n",
    "\n",
    "tup = (i for i in range(6))\n",
    "\n",
    "tup"
   ]
  },
  {
   "cell_type": "code",
   "execution_count": 3,
   "id": "f167978d",
   "metadata": {},
   "outputs": [
    {
     "data": {
      "text/plain": [
       "0"
      ]
     },
     "execution_count": 3,
     "metadata": {},
     "output_type": "execute_result"
    }
   ],
   "source": [
    "# funcion next, primer elemento\n",
    "\n",
    "next(tup)"
   ]
  },
  {
   "cell_type": "code",
   "execution_count": 4,
   "id": "1af014c1",
   "metadata": {},
   "outputs": [
    {
     "data": {
      "text/plain": [
       "1"
      ]
     },
     "execution_count": 4,
     "metadata": {},
     "output_type": "execute_result"
    }
   ],
   "source": [
    "# funcion next, segundo elemento\n",
    "\n",
    "next(tup)"
   ]
  },
  {
   "cell_type": "code",
   "execution_count": 5,
   "id": "e4bce28e",
   "metadata": {},
   "outputs": [
    {
     "data": {
      "text/plain": [
       "2"
      ]
     },
     "execution_count": 5,
     "metadata": {},
     "output_type": "execute_result"
    }
   ],
   "source": [
    "# funcion next, tercero elemento\n",
    "\n",
    "next(tup)"
   ]
  },
  {
   "cell_type": "code",
   "execution_count": 6,
   "id": "a6a862bd",
   "metadata": {},
   "outputs": [
    {
     "data": {
      "text/plain": [
       "[3, 4, 5]"
      ]
     },
     "execution_count": 6,
     "metadata": {},
     "output_type": "execute_result"
    }
   ],
   "source": [
    "# convertir a lista\n",
    "\n",
    "list(tup)"
   ]
  },
  {
   "cell_type": "code",
   "execution_count": 7,
   "id": "464a0a7b",
   "metadata": {},
   "outputs": [
    {
     "data": {
      "text/plain": [
       "[]"
      ]
     },
     "execution_count": 7,
     "metadata": {},
     "output_type": "execute_result"
    }
   ],
   "source": [
    "# convertir a lista\n",
    "\n",
    "list(tup)"
   ]
  },
  {
   "cell_type": "code",
   "execution_count": 8,
   "id": "1a625bd7",
   "metadata": {},
   "outputs": [
    {
     "data": {
      "text/plain": [
       "[0, 1, 2, 3, 4, 5]"
      ]
     },
     "execution_count": 8,
     "metadata": {},
     "output_type": "execute_result"
    }
   ],
   "source": [
    "tup = (i for i in range(6))\n",
    "\n",
    "list(tup)"
   ]
  },
  {
   "cell_type": "code",
   "execution_count": null,
   "id": "4cc245f0",
   "metadata": {},
   "outputs": [],
   "source": []
  }
 ],
 "metadata": {
  "kernelspec": {
   "display_name": "ia",
   "language": "python",
   "name": "ia"
  },
  "language_info": {
   "codemirror_mode": {
    "name": "ipython",
    "version": 3
   },
   "file_extension": ".py",
   "mimetype": "text/x-python",
   "name": "python",
   "nbconvert_exporter": "python",
   "pygments_lexer": "ipython3",
   "version": "3.9.19"
  },
  "toc": {
   "base_numbering": 1,
   "nav_menu": {},
   "number_sections": false,
   "sideBar": true,
   "skip_h1_title": true,
   "title_cell": "Tabla de Contenidos",
   "title_sidebar": "Contents",
   "toc_cell": true,
   "toc_position": {
    "height": "calc(100% - 180px)",
    "left": "10px",
    "top": "150px",
    "width": "295.773px"
   },
   "toc_section_display": true,
   "toc_window_display": true
  }
 },
 "nbformat": 4,
 "nbformat_minor": 5
}
