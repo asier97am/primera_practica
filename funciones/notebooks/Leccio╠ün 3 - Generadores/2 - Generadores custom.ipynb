{
 "cells": [
  {
   "cell_type": "markdown",
   "id": "f7f51bb4",
   "metadata": {},
   "source": [
    "# 2 - Generadores custom\n",
    "\n",
    "<br>\n",
    "<br>\n",
    "\n",
    "<img src=\"https://raw.githubusercontent.com/Hack-io-AI/ai_images/main/python_generator.webp\" style=\"width:400px;\"/>"
   ]
  },
  {
   "cell_type": "markdown",
   "id": "4eb8c553",
   "metadata": {
    "toc": true
   },
   "source": [
    "<h1>Tabla de Contenidos<span class=\"tocSkip\"></span></h1>\n",
    "<div class=\"toc\"><ul class=\"toc-item\"><li><span><a href=\"#1---Generadores-custom\" data-toc-modified-id=\"1---Generadores-custom-1\">1 - Generadores custom</a></span></li></ul></div>"
   ]
  },
  {
   "cell_type": "markdown",
   "id": "4ab5b5d2",
   "metadata": {},
   "source": [
    "## 1 - Generadores custom"
   ]
  },
  {
   "cell_type": "markdown",
   "id": "15a8c61f",
   "metadata": {},
   "source": [
    "Un generador se crea exactamente igual que una función, con la palabra reservada `def`, pero en vez de tener `return` se usa la palabra reservada `yield`. Vamos a crear un \"range custom\", que nos permitirá extender el concepto de la función \"range\"."
   ]
  },
  {
   "cell_type": "code",
   "execution_count": 1,
   "id": "1fd202b3",
   "metadata": {},
   "outputs": [],
   "source": [
    "# range custom\n",
    "\n",
    "def rang(*args):\n",
    "    \n",
    "    \n",
    "    if len(args)==1:\n",
    "        \n",
    "        start = 0\n",
    "        stop = args[0]\n",
    "        step = 1\n",
    "        \n",
    "        \n",
    "    elif len(args)==2:\n",
    "        \n",
    "        start = args[0]\n",
    "        stop = args[1]\n",
    "        step = 1\n",
    "        \n",
    "        \n",
    "    elif len(args)==3:\n",
    "        \n",
    "        start = args[0]\n",
    "        stop = args[1]\n",
    "        step = args[2]\n",
    "        \n",
    "    else:\n",
    "        pass\n",
    "    \n",
    "    \n",
    "    while start<stop:\n",
    "        \n",
    "        yield start\n",
    "        \n",
    "        start += step\n",
    "        \n",
    "    "
   ]
  },
  {
   "cell_type": "code",
   "execution_count": 2,
   "id": "ec77144b",
   "metadata": {},
   "outputs": [
    {
     "data": {
      "text/plain": [
       "<generator object rang at 0x10479bdd0>"
      ]
     },
     "execution_count": 2,
     "metadata": {},
     "output_type": "execute_result"
    }
   ],
   "source": [
    "rang(4)"
   ]
  },
  {
   "cell_type": "code",
   "execution_count": 3,
   "id": "48ee82c6",
   "metadata": {},
   "outputs": [
    {
     "data": {
      "text/plain": [
       "[0, 1, 2, 3]"
      ]
     },
     "execution_count": 3,
     "metadata": {},
     "output_type": "execute_result"
    }
   ],
   "source": [
    "list(rang(4))"
   ]
  },
  {
   "cell_type": "code",
   "execution_count": 4,
   "id": "f695b722",
   "metadata": {},
   "outputs": [
    {
     "data": {
      "text/plain": [
       "[0, 1, 2, 3]"
      ]
     },
     "execution_count": 4,
     "metadata": {},
     "output_type": "execute_result"
    }
   ],
   "source": [
    "list(range(4))"
   ]
  },
  {
   "cell_type": "code",
   "execution_count": 5,
   "id": "65c33ca2",
   "metadata": {},
   "outputs": [
    {
     "data": {
      "text/plain": [
       "[1, 2, 3]"
      ]
     },
     "execution_count": 5,
     "metadata": {},
     "output_type": "execute_result"
    }
   ],
   "source": [
    "list(rang(1, 4))"
   ]
  },
  {
   "cell_type": "code",
   "execution_count": 7,
   "id": "1eb2431b",
   "metadata": {},
   "outputs": [
    {
     "data": {
      "text/plain": [
       "[1, 2, 3]"
      ]
     },
     "execution_count": 7,
     "metadata": {},
     "output_type": "execute_result"
    }
   ],
   "source": [
    "list(range(1, 4))"
   ]
  },
  {
   "cell_type": "code",
   "execution_count": 6,
   "id": "d4f04b33",
   "metadata": {},
   "outputs": [
    {
     "data": {
      "text/plain": [
       "[1, 4, 7]"
      ]
     },
     "execution_count": 6,
     "metadata": {},
     "output_type": "execute_result"
    }
   ],
   "source": [
    "list(rang(1, 10, 3))"
   ]
  },
  {
   "cell_type": "code",
   "execution_count": 8,
   "id": "08dbfa54",
   "metadata": {},
   "outputs": [
    {
     "data": {
      "text/plain": [
       "[1, 4, 7]"
      ]
     },
     "execution_count": 8,
     "metadata": {},
     "output_type": "execute_result"
    }
   ],
   "source": [
    "list(range(1, 10, 3))"
   ]
  },
  {
   "cell_type": "code",
   "execution_count": 9,
   "id": "7d96f422",
   "metadata": {},
   "outputs": [],
   "source": [
    "bucle = rang(1, 10, 3)"
   ]
  },
  {
   "cell_type": "code",
   "execution_count": 10,
   "id": "63751c90",
   "metadata": {},
   "outputs": [
    {
     "data": {
      "text/plain": [
       "<generator object rang at 0x1047d9120>"
      ]
     },
     "execution_count": 10,
     "metadata": {},
     "output_type": "execute_result"
    }
   ],
   "source": [
    "bucle"
   ]
  },
  {
   "cell_type": "code",
   "execution_count": 11,
   "id": "2f338752",
   "metadata": {},
   "outputs": [
    {
     "data": {
      "text/plain": [
       "1"
      ]
     },
     "execution_count": 11,
     "metadata": {},
     "output_type": "execute_result"
    }
   ],
   "source": [
    "next(bucle)"
   ]
  },
  {
   "cell_type": "code",
   "execution_count": 12,
   "id": "f5294f4f",
   "metadata": {},
   "outputs": [
    {
     "data": {
      "text/plain": [
       "4"
      ]
     },
     "execution_count": 12,
     "metadata": {},
     "output_type": "execute_result"
    }
   ],
   "source": [
    "next(bucle)"
   ]
  },
  {
   "cell_type": "code",
   "execution_count": 13,
   "id": "00b390d7",
   "metadata": {},
   "outputs": [
    {
     "data": {
      "text/plain": [
       "7"
      ]
     },
     "execution_count": 13,
     "metadata": {},
     "output_type": "execute_result"
    }
   ],
   "source": [
    "next(bucle)"
   ]
  },
  {
   "cell_type": "code",
   "execution_count": 14,
   "id": "c161ff4f",
   "metadata": {},
   "outputs": [
    {
     "ename": "StopIteration",
     "evalue": "",
     "output_type": "error",
     "traceback": [
      "\u001b[0;31m---------------------------------------------------------------------------\u001b[0m",
      "\u001b[0;31mStopIteration\u001b[0m                             Traceback (most recent call last)",
      "Cell \u001b[0;32mIn[14], line 1\u001b[0m\n\u001b[0;32m----> 1\u001b[0m \u001b[38;5;28;43mnext\u001b[39;49m\u001b[43m(\u001b[49m\u001b[43mbucle\u001b[49m\u001b[43m)\u001b[49m\n",
      "\u001b[0;31mStopIteration\u001b[0m: "
     ]
    }
   ],
   "source": [
    "next(bucle)"
   ]
  },
  {
   "cell_type": "code",
   "execution_count": 15,
   "id": "6601d8f0",
   "metadata": {},
   "outputs": [
    {
     "data": {
      "text/plain": [
       "[]"
      ]
     },
     "execution_count": 15,
     "metadata": {},
     "output_type": "execute_result"
    }
   ],
   "source": [
    "list(bucle)"
   ]
  },
  {
   "cell_type": "code",
   "execution_count": 16,
   "id": "846cf43f",
   "metadata": {},
   "outputs": [],
   "source": [
    "bucle = rang(1, 10, 3)"
   ]
  },
  {
   "cell_type": "code",
   "execution_count": 17,
   "id": "f0569fea",
   "metadata": {},
   "outputs": [
    {
     "data": {
      "text/plain": [
       "1"
      ]
     },
     "execution_count": 17,
     "metadata": {},
     "output_type": "execute_result"
    }
   ],
   "source": [
    "next(bucle)"
   ]
  },
  {
   "cell_type": "code",
   "execution_count": 18,
   "id": "30f9a57f",
   "metadata": {},
   "outputs": [],
   "source": [
    "numero = next(bucle)"
   ]
  },
  {
   "cell_type": "code",
   "execution_count": 19,
   "id": "16711f36",
   "metadata": {},
   "outputs": [
    {
     "name": "stdout",
     "output_type": "stream",
     "text": [
      "4\n"
     ]
    }
   ],
   "source": [
    "print(numero)"
   ]
  },
  {
   "cell_type": "code",
   "execution_count": 20,
   "id": "db882ae1",
   "metadata": {},
   "outputs": [
    {
     "data": {
      "text/plain": [
       "[7]"
      ]
     },
     "execution_count": 20,
     "metadata": {},
     "output_type": "execute_result"
    }
   ],
   "source": [
    "list(bucle)"
   ]
  },
  {
   "cell_type": "code",
   "execution_count": 21,
   "id": "73b37238",
   "metadata": {},
   "outputs": [
    {
     "data": {
      "text/plain": [
       "[]"
      ]
     },
     "execution_count": 21,
     "metadata": {},
     "output_type": "execute_result"
    }
   ],
   "source": [
    "list(bucle)"
   ]
  },
  {
   "cell_type": "code",
   "execution_count": 22,
   "id": "5e68f124",
   "metadata": {},
   "outputs": [
    {
     "name": "stdout",
     "output_type": "stream",
     "text": [
      "2\n",
      "4\n",
      "6\n"
     ]
    }
   ],
   "source": [
    "for i in rang(2, 7, 2):\n",
    "    print(i)"
   ]
  },
  {
   "cell_type": "code",
   "execution_count": 23,
   "id": "dfeec069",
   "metadata": {},
   "outputs": [
    {
     "name": "stdout",
     "output_type": "stream",
     "text": [
      "2\n",
      "4\n",
      "6\n"
     ]
    }
   ],
   "source": [
    "for i in range(2, 7, 2):\n",
    "    print(i)"
   ]
  },
  {
   "cell_type": "code",
   "execution_count": 24,
   "id": "2cefaf9e",
   "metadata": {},
   "outputs": [
    {
     "ename": "TypeError",
     "evalue": "'float' object cannot be interpreted as an integer",
     "output_type": "error",
     "traceback": [
      "\u001b[0;31m---------------------------------------------------------------------------\u001b[0m",
      "\u001b[0;31mTypeError\u001b[0m                                 Traceback (most recent call last)",
      "Cell \u001b[0;32mIn[24], line 1\u001b[0m\n\u001b[0;32m----> 1\u001b[0m \u001b[38;5;28;01mfor\u001b[39;00m i \u001b[38;5;129;01min\u001b[39;00m \u001b[38;5;28;43mrange\u001b[39;49m\u001b[43m(\u001b[49m\u001b[38;5;241;43m1\u001b[39;49m\u001b[43m,\u001b[49m\u001b[43m \u001b[49m\u001b[38;5;241;43m2\u001b[39;49m\u001b[43m,\u001b[49m\u001b[43m \u001b[49m\u001b[38;5;241;43m0.1\u001b[39;49m\u001b[43m)\u001b[49m:\n\u001b[1;32m      2\u001b[0m     \u001b[38;5;28mprint\u001b[39m(i)\n",
      "\u001b[0;31mTypeError\u001b[0m: 'float' object cannot be interpreted as an integer"
     ]
    }
   ],
   "source": [
    "for i in range(1, 2, 0.1):\n",
    "    print(i)"
   ]
  },
  {
   "cell_type": "code",
   "execution_count": 25,
   "id": "194e52d6",
   "metadata": {},
   "outputs": [
    {
     "name": "stdout",
     "output_type": "stream",
     "text": [
      "1\n",
      "1.1\n",
      "1.2000000000000002\n",
      "1.3000000000000003\n",
      "1.4000000000000004\n",
      "1.5000000000000004\n",
      "1.6000000000000005\n",
      "1.7000000000000006\n",
      "1.8000000000000007\n",
      "1.9000000000000008\n"
     ]
    }
   ],
   "source": [
    "for i in rang(1, 2, 0.1):\n",
    "    print(i)"
   ]
  },
  {
   "cell_type": "code",
   "execution_count": 27,
   "id": "88a37a4c",
   "metadata": {},
   "outputs": [
    {
     "name": "stdout",
     "output_type": "stream",
     "text": [
      "10.3\n",
      "10.700000000000001\n",
      "11.100000000000001\n",
      "11.500000000000002\n",
      "11.900000000000002\n",
      "12.300000000000002\n",
      "12.700000000000003\n"
     ]
    }
   ],
   "source": [
    "for i in rang(10.3, 12.9, 0.4):\n",
    "    print(i)"
   ]
  },
  {
   "cell_type": "code",
   "execution_count": null,
   "id": "37bfa28f",
   "metadata": {},
   "outputs": [],
   "source": []
  }
 ],
 "metadata": {
  "kernelspec": {
   "display_name": "ia",
   "language": "python",
   "name": "ia"
  },
  "language_info": {
   "codemirror_mode": {
    "name": "ipython",
    "version": 3
   },
   "file_extension": ".py",
   "mimetype": "text/x-python",
   "name": "python",
   "nbconvert_exporter": "python",
   "pygments_lexer": "ipython3",
   "version": "3.9.19"
  },
  "toc": {
   "base_numbering": 1,
   "nav_menu": {},
   "number_sections": false,
   "sideBar": true,
   "skip_h1_title": true,
   "title_cell": "Tabla de Contenidos",
   "title_sidebar": "Contents",
   "toc_cell": true,
   "toc_position": {
    "height": "calc(100% - 180px)",
    "left": "10px",
    "top": "150px",
    "width": "271.641px"
   },
   "toc_section_display": true,
   "toc_window_display": true
  }
 },
 "nbformat": 4,
 "nbformat_minor": 5
}
