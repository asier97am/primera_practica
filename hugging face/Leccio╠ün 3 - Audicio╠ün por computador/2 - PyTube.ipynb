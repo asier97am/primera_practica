{
 "cells": [
  {
   "cell_type": "markdown",
   "id": "15d08194",
   "metadata": {},
   "source": [
    "# 2 - PyTube \n",
    "\n",
    "\n",
    "<br>\n",
    "<br>\n",
    "\n",
    "<img src=\"https://raw.githubusercontent.com/Hack-io-AI/ai_images/main/youtube.png\" style=\"width:400px;\"/>"
   ]
  },
  {
   "cell_type": "markdown",
   "id": "dc2b527c",
   "metadata": {
    "toc": true
   },
   "source": [
    "<h1>Tabla de Contenidos<span class=\"tocSkip\"></span></h1>\n",
    "<div class=\"toc\"><ul class=\"toc-item\"><li><span><a href=\"#1---PyTube\" data-toc-modified-id=\"1---PyTube-1\">1 - PyTube</a></span></li><li><span><a href=\"#2---Instalación-de-PyTube\" data-toc-modified-id=\"2---Instalación-de-PyTube-2\">2 - Instalación de PyTube</a></span></li><li><span><a href=\"#3---Descarga-de-videos-desde-YouTube\" data-toc-modified-id=\"3---Descarga-de-videos-desde-YouTube-3\">3 - Descarga de videos desde YouTube</a></span></li><li><span><a href=\"#4---Descarga-de-audio-desde-YouTube\" data-toc-modified-id=\"4---Descarga-de-audio-desde-YouTube-4\">4 - Descarga de audio desde YouTube</a></span></li><li><span><a href=\"#5---Extracción-de-subtítulos\" data-toc-modified-id=\"5---Extracción-de-subtítulos-5\">5 - Extracción de subtítulos</a></span></li><li><span><a href=\"#6---Descarga-de-playlist\" data-toc-modified-id=\"6---Descarga-de-playlist-6\">6 - Descarga de playlist</a></span></li></ul></div>"
   ]
  },
  {
   "cell_type": "markdown",
   "id": "c0004b33",
   "metadata": {},
   "source": [
    "## 1 - PyTube"
   ]
  },
  {
   "cell_type": "markdown",
   "id": "3677f5f5",
   "metadata": {},
   "source": [
    "[PyTube](https://pytube.io/en/latest/) es una biblioteca de Python diseñada para facilitar la descarga de videos de [YouTube](https://www.youtube.com/). Es una herramienta de código abierto que permite a los desarrolladores programar la descarga de videos y audios de YouTube de manera sencilla y eficiente. PyTube es muy útil para aquellos que necesitan automatizar la descarga de contenido multimedia desde YouTube para su procesamiento posterior, análisis o simplemente para uso personal.\n",
    "\n",
    "\n",
    "**Características Principales de PyTube**\n",
    "\n",
    "1. **Descarga de videos y audios**: PyTube permite descargar videos completos o solo el audio de YouTube en diferentes formatos y calidades.\n",
    "\n",
    "\n",
    "2. **Selección de streams**: Los usuarios pueden seleccionar y descargar streams específicos, como videos en alta definición, videos con una calidad específica o solo el audio.\n",
    "\n",
    "\n",
    "3. **Manipulación de videos**: La biblioteca proporciona herramientas para manejar diferentes aspectos del video, como la conversión de formatos y la manipulación de metadatos.\n",
    "\n",
    "\n",
    "4. **Descarga de subtítulos**: PyTube puede descargar subtítulos asociados con los videos de YouTube, lo que es útil para la transcripción y traducción.\n",
    "\n",
    "\n",
    "5. **Manejo de playlists**: La biblioteca facilita la descarga de todos los videos en una playlist de YouTube con una simple línea de código.\n",
    "\n",
    "\n",
    "6. **Compatibilidad**: Es compatible con Python 3.6 y versiones posteriores, lo que la hace adecuada para una amplia gama de proyectos y aplicaciones."
   ]
  },
  {
   "cell_type": "markdown",
   "id": "2e5bdc5f",
   "metadata": {},
   "source": [
    "## 2 - Instalación de PyTube"
   ]
  },
  {
   "cell_type": "markdown",
   "id": "b5b092a9",
   "metadata": {},
   "source": [
    "Para comenzar, necesitamos instalar la biblioteca PyTube. Podemos hacerlo utilizando pip:\n",
    "\n",
    "```bash\n",
    "pip install pytube\n",
    "```"
   ]
  },
  {
   "cell_type": "markdown",
   "id": "2f30371f",
   "metadata": {},
   "source": [
    "Además, necesitaremos instalar [ffmpeg](https://ffmpeg.org/download.html), una colección de herramientas de software libres que pueden grabar, convertir y hacer streaming de audio y video. La instalación de ffmpeg depende del sistema operativo:\n",
    "\n",
    "**En Windows**: Podemos descargar el binario de [ffmpeg](https://ffmpeg.org/download.html).\n",
    "\n",
    "**En macOS**: Usa Homebrew para instalar ffmpeg:\n",
    "```bash\n",
    "brew install ffmpeg\n",
    "```\n",
    "\n",
    "**En Linux**: Usa el gestor de paquetes de tu distribución, por ejemplo, en Ubuntu:\n",
    "```bash\n",
    "sudo apt-get install ffmpeg\n",
    "```"
   ]
  },
  {
   "cell_type": "markdown",
   "id": "0e287eac",
   "metadata": {},
   "source": [
    "## 3 - Descarga de videos desde YouTube"
   ]
  },
  {
   "cell_type": "markdown",
   "id": "ba0ac5e2",
   "metadata": {},
   "source": [
    "Primero vamos a ver cómo se descargan los videos. Importaremos la librería, definiremos la url y también le pediremos información sobre el video."
   ]
  },
  {
   "cell_type": "code",
   "execution_count": 1,
   "id": "15ebc371",
   "metadata": {},
   "outputs": [],
   "source": [
    "# importamos la librería\n",
    "\n",
    "from pytube import YouTube"
   ]
  },
  {
   "cell_type": "markdown",
   "id": "3b41c2de",
   "metadata": {},
   "source": [
    "Si ocurre el error 403:\n",
    "\n",
    "https://github.com/pytube/pytube/issues/2052"
   ]
  },
  {
   "cell_type": "code",
   "execution_count": 2,
   "id": "d35f0ad8",
   "metadata": {},
   "outputs": [],
   "source": [
    "from pytube.innertube import _default_clients\n",
    "\n",
    "_default_clients['ANDROID']['context']['client']['clientVersion'] = '19.08.35'\n",
    "_default_clients['IOS']['context']['client']['clientVersion'] = '19.08.35'\n",
    "_default_clients['ANDROID_EMBED']['context']['client']['clientVersion'] = '19.08.35'\n",
    "_default_clients['IOS_EMBED']['context']['client']['clientVersion'] = '19.08.35'\n",
    "_default_clients['IOS_MUSIC']['context']['client']['clientVersion'] = '6.41'\n",
    "_default_clients['ANDROID_MUSIC'] = _default_clients['ANDROID']"
   ]
  },
  {
   "cell_type": "code",
   "execution_count": 3,
   "id": "963662a4",
   "metadata": {},
   "outputs": [],
   "source": [
    "# url del video de YouTube (Casiopea - Looking Up/Dr. Solo/Bass Solo *Live 1985*  -  8:29)\n",
    "\n",
    "url = 'https://www.youtube.com/watch?v=S0Xm1PWb07o'"
   ]
  },
  {
   "cell_type": "code",
   "execution_count": 4,
   "id": "068cb842",
   "metadata": {},
   "outputs": [],
   "source": [
    "# creamos el objeto YouTube, la conexión al video\n",
    "\n",
    "youtube = YouTube(url)"
   ]
  },
  {
   "cell_type": "code",
   "execution_count": 5,
   "id": "69a97ab4",
   "metadata": {},
   "outputs": [
    {
     "data": {
      "text/plain": [
       "'Casiopea - Looking Up/Dr. Solo/Bass Solo *Live 1985*'"
      ]
     },
     "execution_count": 5,
     "metadata": {},
     "output_type": "execute_result"
    }
   ],
   "source": [
    "# titulo del video\n",
    "\n",
    "youtube.title"
   ]
  },
  {
   "cell_type": "code",
   "execution_count": 6,
   "id": "08ef2f4b",
   "metadata": {},
   "outputs": [
    {
     "data": {
      "text/plain": [
       "8.48"
      ]
     },
     "execution_count": 6,
     "metadata": {},
     "output_type": "execute_result"
    }
   ],
   "source": [
    "# duración del video, en minutos\n",
    "\n",
    "round(youtube.length / 60, 2)"
   ]
  },
  {
   "cell_type": "code",
   "execution_count": 7,
   "id": "84ccdaca",
   "metadata": {},
   "outputs": [
    {
     "name": "stdout",
     "output_type": "stream",
     "text": [
      "Live at Ryōgoku Kokugikan, Tokyo on April 27th, 1985\n"
     ]
    }
   ],
   "source": [
    "# descripción del video\n",
    "\n",
    "print(youtube.description)"
   ]
  },
  {
   "cell_type": "markdown",
   "id": "430e7a29",
   "metadata": {},
   "source": [
    "El video en Youtube tiene distintas calidades y distintos formatos. Veamos cuales son y descargaremos el video en la mejor calidad disponible."
   ]
  },
  {
   "cell_type": "code",
   "execution_count": 8,
   "id": "16662918",
   "metadata": {},
   "outputs": [
    {
     "name": "stdout",
     "output_type": "stream",
     "text": [
      "<Stream: itag=\"18\" mime_type=\"video/mp4\" res=\"360p\" fps=\"30fps\" vcodec=\"avc1.42001E\" acodec=\"mp4a.40.2\" progressive=\"True\" type=\"video\">\n",
      "<Stream: itag=\"135\" mime_type=\"video/mp4\" res=\"480p\" fps=\"30fps\" vcodec=\"avc1.4d401e\" progressive=\"False\" type=\"video\">\n",
      "<Stream: itag=\"244\" mime_type=\"video/webm\" res=\"480p\" fps=\"30fps\" vcodec=\"vp9\" progressive=\"False\" type=\"video\">\n",
      "<Stream: itag=\"397\" mime_type=\"video/mp4\" res=\"480p\" fps=\"30fps\" vcodec=\"av01.0.04M.08\" progressive=\"False\" type=\"video\">\n",
      "<Stream: itag=\"134\" mime_type=\"video/mp4\" res=\"360p\" fps=\"30fps\" vcodec=\"avc1.4d401e\" progressive=\"False\" type=\"video\">\n",
      "<Stream: itag=\"243\" mime_type=\"video/webm\" res=\"360p\" fps=\"30fps\" vcodec=\"vp9\" progressive=\"False\" type=\"video\">\n",
      "<Stream: itag=\"396\" mime_type=\"video/mp4\" res=\"360p\" fps=\"30fps\" vcodec=\"av01.0.01M.08\" progressive=\"False\" type=\"video\">\n",
      "<Stream: itag=\"133\" mime_type=\"video/mp4\" res=\"240p\" fps=\"30fps\" vcodec=\"avc1.4d400d\" progressive=\"False\" type=\"video\">\n",
      "<Stream: itag=\"242\" mime_type=\"video/webm\" res=\"240p\" fps=\"30fps\" vcodec=\"vp9\" progressive=\"False\" type=\"video\">\n",
      "<Stream: itag=\"395\" mime_type=\"video/mp4\" res=\"240p\" fps=\"30fps\" vcodec=\"av01.0.00M.08\" progressive=\"False\" type=\"video\">\n",
      "<Stream: itag=\"160\" mime_type=\"video/mp4\" res=\"144p\" fps=\"30fps\" vcodec=\"avc1.4d400c\" progressive=\"False\" type=\"video\">\n",
      "<Stream: itag=\"278\" mime_type=\"video/webm\" res=\"144p\" fps=\"30fps\" vcodec=\"vp9\" progressive=\"False\" type=\"video\">\n",
      "<Stream: itag=\"394\" mime_type=\"video/mp4\" res=\"144p\" fps=\"30fps\" vcodec=\"av01.0.00M.08\" progressive=\"False\" type=\"video\">\n",
      "<Stream: itag=\"139\" mime_type=\"audio/mp4\" abr=\"48kbps\" acodec=\"mp4a.40.5\" progressive=\"False\" type=\"audio\">\n",
      "<Stream: itag=\"140\" mime_type=\"audio/mp4\" abr=\"128kbps\" acodec=\"mp4a.40.2\" progressive=\"False\" type=\"audio\">\n",
      "<Stream: itag=\"249\" mime_type=\"audio/webm\" abr=\"50kbps\" acodec=\"opus\" progressive=\"False\" type=\"audio\">\n",
      "<Stream: itag=\"250\" mime_type=\"audio/webm\" abr=\"70kbps\" acodec=\"opus\" progressive=\"False\" type=\"audio\">\n",
      "<Stream: itag=\"251\" mime_type=\"audio/webm\" abr=\"160kbps\" acodec=\"opus\" progressive=\"False\" type=\"audio\">\n"
     ]
    }
   ],
   "source": [
    "# lista de formatos disponibles\n",
    "\n",
    "for stream in youtube.streams:\n",
    "    print(stream)"
   ]
  },
  {
   "cell_type": "code",
   "execution_count": 9,
   "id": "ecce7004",
   "metadata": {},
   "outputs": [
    {
     "data": {
      "text/plain": [
       "<Stream: itag=\"18\" mime_type=\"video/mp4\" res=\"360p\" fps=\"30fps\" vcodec=\"avc1.42001E\" acodec=\"mp4a.40.2\" progressive=\"True\" type=\"video\">"
      ]
     },
     "execution_count": 9,
     "metadata": {},
     "output_type": "execute_result"
    }
   ],
   "source": [
    "# seleccionamos la mejor calidad de video disponible\n",
    "\n",
    "video = youtube.streams.get_highest_resolution()\n",
    "\n",
    "video"
   ]
  },
  {
   "cell_type": "code",
   "execution_count": 10,
   "id": "b3015eec",
   "metadata": {},
   "outputs": [
    {
     "data": {
      "text/plain": [
       "'Casiopea - Looking UpDr SoloBass Solo Live 1985.mp4'"
      ]
     },
     "execution_count": 10,
     "metadata": {},
     "output_type": "execute_result"
    }
   ],
   "source": [
    "# nombre por defecto del archivo\n",
    "\n",
    "video.default_filename"
   ]
  },
  {
   "cell_type": "code",
   "execution_count": 11,
   "id": "b33f8041",
   "metadata": {},
   "outputs": [
    {
     "name": "stdout",
     "output_type": "stream",
     "text": [
      "CPU times: user 191 ms, sys: 391 ms, total: 583 ms\n",
      "Wall time: 8.74 s\n"
     ]
    },
    {
     "data": {
      "text/plain": [
       "'/Users/tecnico.IA/Desarrolador_IA/Modulo 10 - Hugging Face_/notebooks/Lección 3 - Audición por computador/../../../files/Casiopea - Looking UpDr SoloBass Solo Live 1985.mp4'"
      ]
     },
     "execution_count": 11,
     "metadata": {},
     "output_type": "execute_result"
    }
   ],
   "source": [
    "%%time\n",
    "\n",
    "# descargamos el video\n",
    "\n",
    "ruta = '../../../files'\n",
    "\n",
    "video.download(output_path=ruta)"
   ]
  },
  {
   "cell_type": "markdown",
   "id": "db517492",
   "metadata": {},
   "source": [
    "## 4 - Descarga de audio desde YouTube"
   ]
  },
  {
   "cell_type": "markdown",
   "id": "4c8968e0",
   "metadata": {},
   "source": [
    "A veces, solo necesitamos el audio del video. Podemos descargar solo el audio utilizando PyTube."
   ]
  },
  {
   "cell_type": "code",
   "execution_count": 12,
   "id": "7e274bf2",
   "metadata": {},
   "outputs": [
    {
     "name": "stdout",
     "output_type": "stream",
     "text": [
      "<Stream: itag=\"139\" mime_type=\"audio/mp4\" abr=\"48kbps\" acodec=\"mp4a.40.5\" progressive=\"False\" type=\"audio\">\n",
      "<Stream: itag=\"140\" mime_type=\"audio/mp4\" abr=\"128kbps\" acodec=\"mp4a.40.2\" progressive=\"False\" type=\"audio\">\n",
      "<Stream: itag=\"249\" mime_type=\"audio/webm\" abr=\"50kbps\" acodec=\"opus\" progressive=\"False\" type=\"audio\">\n",
      "<Stream: itag=\"250\" mime_type=\"audio/webm\" abr=\"70kbps\" acodec=\"opus\" progressive=\"False\" type=\"audio\">\n",
      "<Stream: itag=\"251\" mime_type=\"audio/webm\" abr=\"160kbps\" acodec=\"opus\" progressive=\"False\" type=\"audio\">\n"
     ]
    }
   ],
   "source": [
    "# todos los formatos de audio\n",
    "\n",
    "for stream in youtube.streams.filter(only_audio=True):\n",
    "    print(stream)"
   ]
  },
  {
   "cell_type": "code",
   "execution_count": 13,
   "id": "d7de322e",
   "metadata": {},
   "outputs": [
    {
     "data": {
      "text/plain": [
       "<Stream: itag=\"139\" mime_type=\"audio/mp4\" abr=\"48kbps\" acodec=\"mp4a.40.5\" progressive=\"False\" type=\"audio\">"
      ]
     },
     "execution_count": 13,
     "metadata": {},
     "output_type": "execute_result"
    }
   ],
   "source": [
    "# de entre todos los formatos de audio, seleccionamos el primero\n",
    "\n",
    "audio = youtube.streams.filter(only_audio=True).first()\n",
    "\n",
    "audio"
   ]
  },
  {
   "cell_type": "code",
   "execution_count": 14,
   "id": "6ed9a0f6",
   "metadata": {},
   "outputs": [
    {
     "data": {
      "text/plain": [
       "'/Users/tecnico.IA/Desarrolador_IA/Modulo 10 - Hugging Face_/notebooks/Lección 3 - Audición por computador/../../../files/Casiopea - Looking UpDr SoloBass Solo Live 1985.mp4'"
      ]
     },
     "execution_count": 14,
     "metadata": {},
     "output_type": "execute_result"
    }
   ],
   "source": [
    "# descargamos el audio\n",
    "\n",
    "audio.download(output_path=ruta)"
   ]
  },
  {
   "cell_type": "markdown",
   "id": "a0e3e5e5",
   "metadata": {},
   "source": [
    "## 5 - Extracción de subtítulos"
   ]
  },
  {
   "cell_type": "markdown",
   "id": "1d093f76",
   "metadata": {},
   "source": [
    "Si el video tiene subtítulos, PyTube permite descargarlos. Vamos a ver otro video, por ejemplo un TED Talk de Andrew Ng. Es posible que la librería presente un `KeyError` a la hora de extraer el archivo SRT, la solución en [esta discusión de GitHub](https://github.com/pytube/pytube/issues/1085)."
   ]
  },
  {
   "cell_type": "code",
   "execution_count": 15,
   "id": "7b680cd4",
   "metadata": {},
   "outputs": [],
   "source": [
    "# url (How AI Could Empower Any Business | Andrew Ng | TED  -  11:16)\n",
    "\n",
    "url_ted = 'https://www.youtube.com/watch?v=reUZRyXxUs4'"
   ]
  },
  {
   "cell_type": "code",
   "execution_count": 16,
   "id": "a85ba5e2",
   "metadata": {},
   "outputs": [],
   "source": [
    "# creamos el objeto YouTube, la conexión al video, y seleccionamos el primero\n",
    "\n",
    "youtube = YouTube(url_ted)\n",
    "\n",
    "video = youtube.streams.first()"
   ]
  },
  {
   "cell_type": "code",
   "execution_count": 17,
   "id": "69c31ae1",
   "metadata": {},
   "outputs": [
    {
     "data": {
      "text/plain": [
       "{'ar': <Caption lang=\"Arabic\" code=\"ar\">, 'zh-CN': <Caption lang=\"Chinese (China)\" code=\"zh-CN\">, 'zh-TW': <Caption lang=\"Chinese (Taiwan)\" code=\"zh-TW\">, 'nl': <Caption lang=\"Dutch\" code=\"nl\">, 'en': <Caption lang=\"English\" code=\"en\">, 'a.en': <Caption lang=\"English (auto-generated)\" code=\"a.en\">, 'fr': <Caption lang=\"French\" code=\"fr\">, 'el': <Caption lang=\"Greek\" code=\"el\">, 'id': <Caption lang=\"Indonesian\" code=\"id\">, 'it': <Caption lang=\"Italian\" code=\"it\">, 'pt-PT': <Caption lang=\"Portuguese (Portugal)\" code=\"pt-PT\">, 'ru': <Caption lang=\"Russian\" code=\"ru\">, 'es': <Caption lang=\"Spanish\" code=\"es\">, 'th': <Caption lang=\"Thai\" code=\"th\">, 'vi': <Caption lang=\"Vietnamese\" code=\"vi\">}"
      ]
     },
     "execution_count": 17,
     "metadata": {},
     "output_type": "execute_result"
    }
   ],
   "source": [
    "# todos los subtitulos disponibles\n",
    "\n",
    "youtube.captions"
   ]
  },
  {
   "cell_type": "code",
   "execution_count": 18,
   "id": "997b1eb3",
   "metadata": {},
   "outputs": [
    {
     "data": {
      "text/plain": [
       "<Caption lang=\"Spanish\" code=\"es\">"
      ]
     },
     "execution_count": 18,
     "metadata": {},
     "output_type": "execute_result"
    }
   ],
   "source": [
    "# descargar subtítulos en español\n",
    "\n",
    "subs = youtube.captions['es']\n",
    "\n",
    "subs"
   ]
  },
  {
   "cell_type": "code",
   "execution_count": 19,
   "id": "0ed349e1",
   "metadata": {},
   "outputs": [
    {
     "data": {
      "text/plain": [
       "'1\\n00:00:00,000 --> 00:00:00,000\\n \\n\\n2\\n00:00:00,000 --> 00:00:00,000'"
      ]
     },
     "execution_count": 19,
     "metadata": {},
     "output_type": "execute_result"
    }
   ],
   "source": [
    "# conversión a formato SRT\n",
    "\n",
    "texto_srt = subs.generate_srt_captions()\n",
    "\n",
    "texto_srt[:1000]"
   ]
  },
  {
   "cell_type": "code",
   "execution_count": 20,
   "id": "45a04890",
   "metadata": {},
   "outputs": [
    {
     "data": {
      "text/plain": [
       "'../../../files/How AI Could Empower Any Business | Andrew Ng | TED.srt'"
      ]
     },
     "execution_count": 20,
     "metadata": {},
     "output_type": "execute_result"
    }
   ],
   "source": [
    "# ruta guardado subtítulos \n",
    "\n",
    "ruta_srt = ruta + '/' + youtube.title + '.srt'\n",
    "\n",
    "ruta_srt"
   ]
  },
  {
   "cell_type": "code",
   "execution_count": 21,
   "id": "16166b1b",
   "metadata": {},
   "outputs": [],
   "source": [
    "# guardar subtítulos en un archivo\n",
    "\n",
    "with open(ruta_srt, 'w') as f:\n",
    "    \n",
    "    f.write(texto_srt)"
   ]
  },
  {
   "cell_type": "markdown",
   "id": "1d0fd89a",
   "metadata": {},
   "source": [
    "## 6 - Descarga de playlist"
   ]
  },
  {
   "cell_type": "markdown",
   "id": "ddfc799d",
   "metadata": {},
   "source": [
    "PyTube también permite la descarga de todos los videos de una playlist.\n"
   ]
  },
  {
   "cell_type": "code",
   "execution_count": 22,
   "id": "71b582e6",
   "metadata": {},
   "outputs": [],
   "source": [
    "# importamos objeto Playlist\n",
    "\n",
    "from pytube import Playlist"
   ]
  },
  {
   "cell_type": "code",
   "execution_count": 23,
   "id": "0405040b",
   "metadata": {},
   "outputs": [],
   "source": [
    "# url de la playlist\n",
    "\n",
    "play_url = 'https://www.youtube.com/watch?v=vegqkKGTsBc&list=PL8AC3254DFDA8A81B'"
   ]
  },
  {
   "cell_type": "code",
   "execution_count": 24,
   "id": "a820d40a",
   "metadata": {},
   "outputs": [],
   "source": [
    "# creamos el objeto Playlist\n",
    "\n",
    "playlist = Playlist(play_url)"
   ]
  },
  {
   "cell_type": "code",
   "execution_count": 25,
   "id": "5041ad2f",
   "metadata": {},
   "outputs": [
    {
     "data": {
      "text/plain": [
       "'J.A.M_SOIL & \"PIMP\" SESSIONS'"
      ]
     },
     "execution_count": 25,
     "metadata": {},
     "output_type": "execute_result"
    }
   ],
   "source": [
    "# titulo de la playlist\n",
    "\n",
    "playlist.title"
   ]
  },
  {
   "cell_type": "code",
   "execution_count": 26,
   "id": "6c7d61ec",
   "metadata": {},
   "outputs": [
    {
     "data": {
      "text/plain": [
       "'../../../files/J.A.M_SOIL & \"PIMP\" SESSIONS'"
      ]
     },
     "execution_count": 26,
     "metadata": {},
     "output_type": "execute_result"
    }
   ],
   "source": [
    "# ruta de guardado\n",
    "\n",
    "ruta_play = ruta + '/' + playlist.title\n",
    "\n",
    "ruta_play"
   ]
  },
  {
   "cell_type": "code",
   "execution_count": 27,
   "id": "249dbd87",
   "metadata": {},
   "outputs": [
    {
     "name": "stdout",
     "output_type": "stream",
     "text": [
      "Descargado: J.A.M／産業革命\n",
      "Descargado: Soil & Pimp Sessions - Death Jazz!\n",
      "Descargado: J.A.M(SOIL&\"PIMP\"SESSIONS) 02 道\n",
      "Descargado: Soil & \"PIMP\" Sessions - Factory\n",
      "Descargado: SOIL & \"PIMP\" Sessions - Mature\n",
      "Descargado: J.A.M - Quiet Fire\n",
      "Descargado: SOIL & \"PIMP\" Sessions - The World Is Filled By...\n",
      "Descargado: Soil & Pimp Sessions - Sorrow\n",
      "Descargado: Soil & \"PIMP\" Sessions - Avalanche\n",
      "Descargado: Soil & Pimp Sessions J.A.M. -  AIE (Live - Jools Holland 2007)\n"
     ]
    }
   ],
   "source": [
    "# descargamos todos los videos de la playlist\n",
    "\n",
    "for video in playlist.videos:\n",
    "    \n",
    "    video.streams.get_highest_resolution().download(output_path=ruta_play)\n",
    "    \n",
    "    print(f'Descargado: {video.title}')\n"
   ]
  },
  {
   "cell_type": "code",
   "execution_count": 28,
   "id": "a78479bd",
   "metadata": {},
   "outputs": [
    {
     "name": "stdout",
     "output_type": "stream",
     "text": [
      "Descargado: J.A.M／産業革命\n",
      "Descargado: Soil & Pimp Sessions - Death Jazz!\n",
      "Descargado: J.A.M(SOIL&\"PIMP\"SESSIONS) 02 道\n",
      "Descargado: Soil & \"PIMP\" Sessions - Factory\n",
      "Descargado: SOIL & \"PIMP\" Sessions - Mature\n",
      "Descargado: J.A.M - Quiet Fire\n",
      "Descargado: SOIL & \"PIMP\" Sessions - The World Is Filled By...\n",
      "Descargado: Soil & Pimp Sessions - Sorrow\n",
      "Descargado: Soil & \"PIMP\" Sessions - Avalanche\n",
      "Descargado: Soil & Pimp Sessions J.A.M. -  AIE (Live - Jools Holland 2007)\n"
     ]
    }
   ],
   "source": [
    "# podemos descargar el audio de la playlist\n",
    "\n",
    "for url in playlist:\n",
    "    \n",
    "    youtube = YouTube(url)\n",
    "    \n",
    "    audio = youtube.streams.filter(only_audio=True).first()\n",
    "    \n",
    "    audio.download(output_path=ruta_play)\n",
    "    \n",
    "    print(f'Descargado: {youtube.title}')\n"
   ]
  },
  {
   "cell_type": "code",
   "execution_count": null,
   "id": "a1e4fef2",
   "metadata": {},
   "outputs": [],
   "source": []
  }
 ],
 "metadata": {
  "kernelspec": {
   "display_name": "ia",
   "language": "python",
   "name": "ia"
  },
  "language_info": {
   "codemirror_mode": {
    "name": "ipython",
    "version": 3
   },
   "file_extension": ".py",
   "mimetype": "text/x-python",
   "name": "python",
   "nbconvert_exporter": "python",
   "pygments_lexer": "ipython3",
   "version": "3.9.19"
  },
  "toc": {
   "base_numbering": 1,
   "nav_menu": {},
   "number_sections": false,
   "sideBar": true,
   "skip_h1_title": true,
   "title_cell": "Tabla de Contenidos",
   "title_sidebar": "Contents",
   "toc_cell": true,
   "toc_position": {
    "height": "598px",
    "left": "60px",
    "top": "0px",
    "width": "246.391px"
   },
   "toc_section_display": true,
   "toc_window_display": true
  }
 },
 "nbformat": 4,
 "nbformat_minor": 5
}
