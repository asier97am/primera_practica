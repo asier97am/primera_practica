{
 "cells": [
  {
   "cell_type": "markdown",
   "id": "1c345826",
   "metadata": {},
   "source": [
    "# 13 - Prompt Engineering\n",
    "\n",
    "\n",
    "<br>\n",
    "<br>\n",
    "\n",
    "<img src=\"https://raw.githubusercontent.com/Hack-io-AI/ai_images/main/prompt.webp\" style=\"width:400px;\"/>"
   ]
  },
  {
   "cell_type": "markdown",
   "id": "6e9a6869",
   "metadata": {
    "toc": true
   },
   "source": [
    "<h1>Tabla de Contenidos<span class=\"tocSkip\"></span></h1>\n",
    "<div class=\"toc\"><ul class=\"toc-item\"><li><span><a href=\"#1---¿Qué-es-prompt-engineering?\" data-toc-modified-id=\"1---¿Qué-es-prompt-engineering?-1\">1 - ¿Qué es prompt engineering?</a></span><ul class=\"toc-item\"><li><span><a href=\"#1.1---Conceptos-básicos\" data-toc-modified-id=\"1.1---Conceptos-básicos-1.1\">1.1 - Conceptos básicos</a></span></li></ul></li><li><span><a href=\"#2---Elementos-principales-del-prompt\" data-toc-modified-id=\"2---Elementos-principales-del-prompt-2\">2 - Elementos principales del prompt</a></span><ul class=\"toc-item\"><li><span><a href=\"#2.1---Contexto\" data-toc-modified-id=\"2.1---Contexto-2.1\">2.1 - Contexto</a></span></li><li><span><a href=\"#2.2---Instrucciones-claras\" data-toc-modified-id=\"2.2---Instrucciones-claras-2.2\">2.2 - Instrucciones claras</a></span></li><li><span><a href=\"#2.3---Formato-del-resultado-deseado\" data-toc-modified-id=\"2.3---Formato-del-resultado-deseado-2.3\">2.3 - Formato del resultado deseado</a></span></li><li><span><a href=\"#2.4---Tono-y-longitud\" data-toc-modified-id=\"2.4---Tono-y-longitud-2.4\">2.4 - Tono y longitud</a></span></li></ul></li><li><span><a href=\"#3---Técnicas-de-prompt-engineering\" data-toc-modified-id=\"3---Técnicas-de-prompt-engineering-3\">3 - Técnicas de prompt engineering</a></span><ul class=\"toc-item\"><li><span><a href=\"#3.1---Zero-Shot-Prompting\" data-toc-modified-id=\"3.1---Zero-Shot-Prompting-3.1\">3.1 - Zero-Shot Prompting</a></span></li><li><span><a href=\"#3.2---One-Shot-Prompting\" data-toc-modified-id=\"3.2---One-Shot-Prompting-3.2\">3.2 - One-Shot Prompting</a></span></li><li><span><a href=\"#3.3---Recuperación-de-información\" data-toc-modified-id=\"3.3---Recuperación-de-información-3.3\">3.3 - Recuperación de información</a></span></li><li><span><a href=\"#3.4---Escritura-creativa\" data-toc-modified-id=\"3.4---Escritura-creativa-3.4\">3.4 - Escritura creativa</a></span></li><li><span><a href=\"#3.5---Expansión-del-contexto\" data-toc-modified-id=\"3.5---Expansión-del-contexto-3.5\">3.5 - Expansión del contexto</a></span></li><li><span><a href=\"#3.6---Resumen-de-contenidos-con-enfoque-específico\" data-toc-modified-id=\"3.6---Resumen-de-contenidos-con-enfoque-específico-3.6\">3.6 - Resumen de contenidos con enfoque específico</a></span></li><li><span><a href=\"#3.7---Rellenar-plantillas\" data-toc-modified-id=\"3.7---Rellenar-plantillas-3.7\">3.7 - Rellenar plantillas</a></span></li><li><span><a href=\"#3.8---Prompt-Reframing\" data-toc-modified-id=\"3.8---Prompt-Reframing-3.8\">3.8 - Prompt Reframing</a></span></li><li><span><a href=\"#3.9---Combinación-de-prompts\" data-toc-modified-id=\"3.9---Combinación-de-prompts-3.9\">3.9 - Combinación de prompts</a></span></li><li><span><a href=\"#3.10---Chain-Of-Thought-Prompting\" data-toc-modified-id=\"3.10---Chain-Of-Thought-Prompting-3.10\">3.10 - Chain-Of-Thought Prompting</a></span></li><li><span><a href=\"#3.11---Prompting-iterativo\" data-toc-modified-id=\"3.11---Prompting-iterativo-3.11\">3.11 - Prompting iterativo</a></span></li><li><span><a href=\"#3.12---Storytelling-interactivo-y-juegos-de-rol\" data-toc-modified-id=\"3.12---Storytelling-interactivo-y-juegos-de-rol-3.12\">3.12 - Storytelling interactivo y juegos de rol</a></span></li><li><span><a href=\"#3.13---Inyección-implícita-de-información\" data-toc-modified-id=\"3.13---Inyección-implícita-de-información-3.13\">3.13 - Inyección implícita de información</a></span></li><li><span><a href=\"#3.14---Traducción-de-idiomas-con-matices-contextuales\" data-toc-modified-id=\"3.14---Traducción-de-idiomas-con-matices-contextuales-3.14\">3.14 - Traducción de idiomas con matices contextuales</a></span></li><li><span><a href=\"#3.15---Ingeniería-de-prompt-automática\" data-toc-modified-id=\"3.15---Ingeniería-de-prompt-automática-3.15\">3.15 - Ingeniería de prompt automática</a></span></li></ul></li><li><span><a href=\"#4---Casos-de-uso-del-Prompt-Engineering\" data-toc-modified-id=\"4---Casos-de-uso-del-Prompt-Engineering-4\">4 - Casos de uso del Prompt Engineering</a></span></li><li><span><a href=\"#5---Consejos-para-mejorar-el-prompt-engineering\" data-toc-modified-id=\"5---Consejos-para-mejorar-el-prompt-engineering-5\">5 - Consejos para mejorar el prompt engineering</a></span></li><li><span><a href=\"#6---Preguntas-frecuentes-sobre-prompt-engineering\" data-toc-modified-id=\"6---Preguntas-frecuentes-sobre-prompt-engineering-6\">6 - Preguntas frecuentes sobre prompt engineering</a></span></li></ul></div>"
   ]
  },
  {
   "cell_type": "markdown",
   "id": "739ba2ff",
   "metadata": {},
   "source": [
    "## 1 - ¿Qué es prompt engineering?"
   ]
  },
  {
   "cell_type": "markdown",
   "id": "7cda4930",
   "metadata": {},
   "source": [
    "El prompt engineering se refiere a la creación de prompts precisos y eficaces para obtener resultados de IA basados en el contexto a partir de grandes modelos de lenguaje. Los ingenieros tienen que formular preguntas y afirmaciones claras y adaptadas al contexto para obtener las respuestas más pertinentes y precisas del modelo de IA. \n",
    "\n",
    "Ya sea para generar informes de marketing detallados, crear contenidos atractivos para un sitio web o desarrollar el código perfecto para una aplicación, el prompt engineering eficaz es una habilidad que ahorra tiempo y que los profesionales del sector deberían añadir a sus portfolios.\n",
    "\n",
    "Hay que tener en cuenta que quien realiza prompt engineering no tiene por qué estar familiarizado con los lenguajes de programación ni tener conocimientos de desarrollo de software. Cualquiera con buenos conocimientos lingüísticos y pensamiento analítico puede aprender prompt engineering."
   ]
  },
  {
   "cell_type": "markdown",
   "id": "67bbb8f6",
   "metadata": {},
   "source": [
    "### 1.1 - Conceptos básicos"
   ]
  },
  {
   "cell_type": "markdown",
   "id": "eb768dcb",
   "metadata": {},
   "source": [
    "Los LLM son herramientas de IA generativa que crean textos similares a los humanos a partir de las indicaciones que reciben. Estas indicaciones se denominan prompts. Por ejemplo, pensemos en una agencia de desarrollo web que quiere crear un eslogan para una nueva herramienta de diseño que ha desarrollado. Un prompts bien diseñado, en este caso, podría ser:\n",
    "\n",
    "**\"Genera un eslogan para una herramienta que hace que el diseño de páginas web sea fácil y accesible para todos\"**.\n",
    "\n",
    "Este mensaje es claro e indica al LLM el tipo específico de contenido requerido, un eslogan pegadizo y conciso dirigido a los usuarios potenciales de una herramienta de diseño web. El objetivo es comunicar claramente tus objetivos al LLM para recibir un resultado preciso y pertinente."
   ]
  },
  {
   "cell_type": "markdown",
   "id": "ed327c68",
   "metadata": {},
   "source": [
    "Para maximizar la eficacia de un modelo de lenguaje, debemos incluir dos componentes en los prompts, el contexto y la instrucción. Añadir contexto ayuda al modelo a comprender mejor el escenario, mientras que la elaboración de instrucciones le indica específicamente lo que quieres que haga. Por ejemplo, consideremos el prompt: \n",
    "\n",
    "\n",
    "**\"Como bloguero de salud y bienestar, resume los cuatro beneficios principales de una dieta mediterránea\"**. \n",
    "\n",
    "\n",
    "+ Contexto: \"Como bloguero de salud y bienestar\", ayuda al modelo a comprender la perspectiva y la profundidad desde las que abordar el resumen.\n",
    "\n",
    "\n",
    "+ Instrucción: \"Resume los cuatro beneficios principales de una dieta mediterránea\", indica al modelo en qué debe centrarse y qué debe producir como resultado."
   ]
  },
  {
   "cell_type": "markdown",
   "id": "32fa25f7",
   "metadata": {},
   "source": [
    "Proporcionar un contexto y una instrucción claros y completos es crucial por varias razones:\n",
    "\n",
    "\n",
    "+ Menos ambigüedad: reduce la posibilidad de recibir resultados irrelevantes o fuera de tema.\n",
    "\n",
    "\n",
    "+ Más control: obtén respuestas predecibles de la IA.\n",
    "\n",
    "\n",
    "+ Ahorro de tiempo: se necesita menos comunicación de ida y vuelta para lograr el resultado deseado."
   ]
  },
  {
   "cell_type": "markdown",
   "id": "0ecc53b4",
   "metadata": {},
   "source": [
    "## 2 - Elementos principales del prompt"
   ]
  },
  {
   "cell_type": "markdown",
   "id": "d7ae2866",
   "metadata": {},
   "source": [
    "A la hora de crear prompts en lenguaje natural para los chatbots, es crucial comprender los elementos fundamentales para lograr el resultado deseado. Los elementos del prompt guían al modelo de inteligencia artificial en la dirección deseada, garantizando claridad y contexto. \n",
    "\n",
    "Estos son algunos de los principales componentes que hay que tener en cuenta:"
   ]
  },
  {
   "cell_type": "markdown",
   "id": "173835b1",
   "metadata": {},
   "source": [
    "### 2.1 - Contexto"
   ]
  },
  {
   "cell_type": "markdown",
   "id": "6123615b",
   "metadata": {},
   "source": [
    "Preparar correctamente el escenario puede marcar la diferencia a la hora de obtener el resultado deseado. La importancia del contexto radica en que proporciona a la IA un trasfondo claro que le permite generar contenidos pertinentes y adecuados. Sin el contexto adecuado, las respuestas pueden terminar siendo genéricas o incorrectas. Por ejemplo, si preguntamos al modelo sobre \"tecnologías verdes\", introducir el contexto de \"utilizadas en el transporte\" reduce la respuesta a las tecnologías verdes relacionadas con los vehículos.\n",
    "\n",
    "Generar un buen prompt no consiste sólo en darle contexto, sino en introducirlo eficazmente. Cuanto más detallado y específico sea el contexto, mejor será la comprensión de la IA. Por ejemplo, en lugar de escribir \"Recomendaciones para el comercio electrónico\", deberíamos especificar \"Recomendaciones para mejorar la experiencia de usuario de un sitio web de comercio electrónico\".\n"
   ]
  },
  {
   "cell_type": "markdown",
   "id": "c5d7cd35",
   "metadata": {},
   "source": [
    "### 2.2 - Instrucciones claras"
   ]
  },
  {
   "cell_type": "markdown",
   "id": "8c92104e",
   "metadata": {},
   "source": [
    "Las instrucciones claras impulsan las interacciones contextuales de la IA. Crear instrucciones precisas, ser explícito y directo con las instrucciones garantiza una mayor precisión en los resultados de la IA y deja menos espacio a la ambigüedad. A modo de ejemplo, en lugar de preguntar \"Cuéntame sobre los desarrolladores de sitios web\", deberíamos escribir \"Explica las funciones y responsabilidades de un desarrollador de sitios web\".\n",
    "\n",
    "El lenguaje impreciso, contradictorio o la ambigüedad pueden confundir al modelo y dar lugar a respuestas menos precisas. Por ejemplo, \"Habla sobre el diseño de un sitio web\" es vago. En cambio, \"Habla sobre las tendencias en el diseño de sitios web para plataformas de comercio electrónico\" es más directo."
   ]
  },
  {
   "cell_type": "markdown",
   "id": "596b6c54",
   "metadata": {},
   "source": [
    "### 2.3 - Formato del resultado deseado"
   ]
  },
  {
   "cell_type": "markdown",
   "id": "028e6c04",
   "metadata": {},
   "source": [
    "Especificar el formato del resultado es crucial a la hora de desarrollar prompts. Ayuda a los LLM con la creación de contenidos mejorados. Al dictar la estructura o el estilo de la respuesta de la IA, se pueden perfeccionar los resultados hasta conseguir la forma deseada. Por ejemplo, si escribimos \"Enumera las cinco mejores herramientas para desarrolladores de sitios web\", obtendremos una lista concisa."
   ]
  },
  {
   "cell_type": "markdown",
   "id": "9d247b41",
   "metadata": {},
   "source": [
    "### 2.4 - Tono y longitud"
   ]
  },
  {
   "cell_type": "markdown",
   "id": "054087c4",
   "metadata": {},
   "source": [
    "Establecer el tono ayuda a infundir una emoción de lenguaje natural en las respuestas del LLM. Podemos regular la resonancia emocional o el grado profesional de una respuesta indicando el tono deseado. Por ejemplo: \"Haz una crítica profesional del siguiente diseño de página web\".\n",
    "\n",
    "\n",
    "Por otro lado, la definición de la longitud permite a los modelos de inteligencia artificial determinar la profundidad de su respuesta. Indicar si necesitamos un resumen conciso o una explicación elaborada garantiza respuestas a medida. Por ejemplo: \"Escribe una breve introducción (30-40 palabras) sobre la evolución del diseño de sitios web responsivos\"."
   ]
  },
  {
   "cell_type": "markdown",
   "id": "4ac3cb48",
   "metadata": {},
   "source": [
    "## 3 - Técnicas de prompt engineering"
   ]
  },
  {
   "cell_type": "markdown",
   "id": "3030f797",
   "metadata": {},
   "source": [
    "Vamos a profundizar en algunas técnicas y estrategias básicas de prompt engineering que nos ayudarán a dominar el modelo de prompting."
   ]
  },
  {
   "cell_type": "markdown",
   "id": "b1f977ec",
   "metadata": {},
   "source": [
    "### 3.1 - Zero-Shot Prompting"
   ]
  },
  {
   "cell_type": "markdown",
   "id": "892d2143",
   "metadata": {},
   "source": [
    "El \"zero-shot prompting\" consiste en generar una respuesta sin dar a los LLM ejemplos ni contexto previo. Esta técnica es ideal cuando necesitas respuestas rápidas a preguntas básicas o temas generales. Por ejemplo:\n",
    "\n",
    "\"¿Puedes describir rápidamente qué es un hoverboard?\""
   ]
  },
  {
   "cell_type": "markdown",
   "id": "093c984f",
   "metadata": {},
   "source": [
    "### 3.2 - One-Shot Prompting"
   ]
  },
  {
   "cell_type": "markdown",
   "id": "a3d2d02e",
   "metadata": {},
   "source": [
    "Se trata de extraer una respuesta a partir de un ejemplo o contexto proporcionado por el usuario. Por ejemplo: \n",
    "\n",
    "\"Traduce las siguientes oraciones del inglés al español. Aquí un ejemplo: 'I like playing football' -> 'Me gusta jugar al fútbol'. Ahora traduce: 'She likes reading books'\""
   ]
  },
  {
   "cell_type": "markdown",
   "id": "7303485a",
   "metadata": {},
   "source": [
    "### 3.3 - Recuperación de información"
   ]
  },
  {
   "cell_type": "markdown",
   "id": "605bc6ee",
   "metadata": {},
   "source": [
    "Se habla de \"retrieval prompting\" cuando se trata a los LLM como motores de búsqueda. Consiste en formular a la IA generativa una pregunta muy concreta para obtener respuestas más detalladas. Algunos LLM son mejores en los prompts de recuperación de información debido a sus fuentes de datos. Por ejemplo, ChatGPT no tenía acceso a datos anteriores a septiembre de 2021, ahora ya tiene acceso a internet. Por ejemplo, si le pedimos:\n",
    "\n",
    "\"Ayúdame a crear esquemas para 10 artículos sobre marketing de contenido.\""
   ]
  },
  {
   "cell_type": "markdown",
   "id": "f8753683",
   "metadata": {},
   "source": [
    "### 3.4 - Escritura creativa"
   ]
  },
  {
   "cell_type": "markdown",
   "id": "46486c0c",
   "metadata": {},
   "source": [
    "La creación de contenidos creativos puede ayudarte a generar relatos imaginativos, historias cautivadoras y expresiones textuales únicas adaptadas a las preferencias e intereses de tu audiencia. Por ejemplo:\n",
    "\n",
    "\"Escribe un poema corto sobre la luna llena.\""
   ]
  },
  {
   "cell_type": "markdown",
   "id": "8afd5996",
   "metadata": {},
   "source": [
    "### 3.5 - Expansión del contexto"
   ]
  },
  {
   "cell_type": "markdown",
   "id": "98ea9539",
   "metadata": {},
   "source": [
    "La técnica de ampliación del contexto gira en torno al enriquecimiento de la información facilitada a la IA para mejorar eficazmente su comprensión. Una buena forma de redactar preguntas de ampliación de contexto es mediante el método, conocido así en inglés, de las 5W y 1H, que consiste en ampliar la consulta planteando las preguntas Quién, Qué, Dónde, Cuándo, Por qué y Cómo relacionadas con el tema. Por ejemplo:\n",
    "\n",
    "\"Siguiendo el método de las 5W y 1H: El ejercicio es bueno para la salud\""
   ]
  },
  {
   "cell_type": "markdown",
   "id": "ea4c57de",
   "metadata": {},
   "source": [
    "### 3.6 - Resumen de contenidos con enfoque específico"
   ]
  },
  {
   "cell_type": "markdown",
   "id": "57c7c054",
   "metadata": {},
   "source": [
    "Un prompt engineering eficaz también consiste en dirigir la atención de la IA a partes concretas de la instrucción, sobre todo cuando se quieren resúmenes concisos con un énfasis particular. Si elaboramos instrucciones precisas, podremos destacar qué elementos del texto deseamos que el modelo priorice, garantizando así que el resumen capte la esencia del enfoque deseado. Supongamos que tenemos una guía completa sobre técnicas de optimización de sitios web, pero sólo nos interesan las estrategias de optimización para móviles. En este caso, el prompt debe indicarlo claramente. Por ejemplo: \n",
    "\n",
    "\"Resume este artículo sobre optimización de sitios web, pero céntrate sólo en las estrategias relacionadas con la optimización para móviles:\n",
    "\n",
    "[copiar+pegar artículo aquí]\"."
   ]
  },
  {
   "cell_type": "markdown",
   "id": "dea4fdce",
   "metadata": {},
   "source": [
    "### 3.7 - Rellenar plantillas"
   ]
  },
  {
   "cell_type": "markdown",
   "id": "56a2423e",
   "metadata": {},
   "source": [
    "El relleno de plantillas nos permite crear contenidos versátiles pero estructurados sin esfuerzo. Utilizaremos una plantilla con marcadores de posición para personalizar los prompts para diferentes situaciones o instrucciones, manteniendo al mismo tiempo un formato coherente.\n",
    "\n",
    "Podemos personalizar plantillas con variables y marcadores de posición. En el rellenado de plantillas, se puede personalizar aún más el resultado de las herramientas de IA definiendo múltiples variables para los marcadores de posición. Normalmente, los content managers o desarrolladores web utilizan esta estrategia para crear múltiples fragmentos de contenido personalizados generados por IA para sus sitios web. \n",
    "\n",
    "Supongamos que se gestiona un sitio web de comercio electrónico. En ese caso, podríamos utilizar una plantilla estándar para las descripciones de productos, permitiendo que la IA complete campos como el nombre del producto, las características y el precio para crear una nueva descripción con cada respuesta. Esta técnica es increíblemente beneficiosa cuando necesitamos que los contenidos generados por IA cumplan con directrices o formatos concretos. \n",
    "\n",
    "Otro caso práctico es la creación de correos electrónicos automatizados pero personalizados. El relleno dinámico de plantillas garantiza que la estructura general del correo electrónico sea coherente, mientras el contenido específico varía en función de la información del usuario. Por ejemplo: \n",
    "\n",
    "\"Genera un correo electrónico de bienvenida personalizado utilizando la plantilla:\n",
    "\n",
    "'Hola {Nombre}, Bienvenido a nuestro {Servicio}. ¡Nos alegra que estés aquí! {Cierre}'\""
   ]
  },
  {
   "cell_type": "markdown",
   "id": "ff8a405d",
   "metadata": {},
   "source": [
    "### 3.8 - Prompt Reframing"
   ]
  },
  {
   "cell_type": "markdown",
   "id": "85ab497d",
   "metadata": {},
   "source": [
    "El \"prompt reframing\" o la personalización de prompts de IA nos permite cambiar sutilmente la redacción de nuestras preguntas manteniendo la intención original de la consulta. Podemos llevar al modelo lingüístico a producir una variedad de respuestas que respondan a la intención original de diferentes maneras.\n",
    "\n",
    "En este caso usaremos técnicas de redacción para mantener la intención. Un método consiste en utilizar sinónimos o reformular las preguntas manteniendo la coherencia del tema principal. Obtendremos diferentes matices en las respuestas, lo que puede ser especialmente útil cuando estemos buscando distintas ideas. Por ejemplo:\n",
    "\n",
    "Prompt original: \"¿Cuáles son algunas de las formas de optimizar la velocidad de un sitio web?\"\n",
    "\n",
    "Prompt reformulado: \"¿Puedes enumerar técnicas para mejorar los tiempos de carga de un sitio web?\""
   ]
  },
  {
   "cell_type": "markdown",
   "id": "6d9d0120",
   "metadata": {},
   "source": [
    "### 3.9 - Combinación de prompts"
   ]
  },
  {
   "cell_type": "markdown",
   "id": "51b51b7c",
   "metadata": {},
   "source": [
    "La técnica de combinación de prompts consiste en fusionar diferentes instrucciones o preguntas en una única instrucción polifacética para obtener una respuesta completa de la IA. Por ejemplo: \n",
    "\n",
    "\"¿Puedes explicar las diferencias entre el hosting compartido y el hosting VPS y recomendar cuál es mejor para un pequeño sitio web de comercio electrónico?\"."
   ]
  },
  {
   "cell_type": "markdown",
   "id": "ebb4aff5",
   "metadata": {},
   "source": [
    "### 3.10 - Chain-Of-Thought Prompting"
   ]
  },
  {
   "cell_type": "markdown",
   "id": "5c5d39a9",
   "metadata": {},
   "source": [
    "La cadena de pensamiento consiste en utilizar interacciones de la IA en tiempo real para guiar a la herramienta hacia respuestas más precisas y completas. En lugar de basarnos únicamente en una pregunta, podemos proporcionar una secuencia de ejemplos o preguntas relacionadas para perfeccionar la consulta original.\n",
    "\n",
    "La clave para que la cadena de pensamiento sea eficaz es dividir una pregunta o un tema complejo en partes más pequeñas y manejables. Luego, presentamos estas partes como una secuencia de preguntas que se desarrollan unas sobre otras, empujando a la IA hacia la respuesta deseada."
   ]
  },
  {
   "cell_type": "markdown",
   "id": "73fe205d",
   "metadata": {},
   "source": [
    "### 3.11 - Prompting iterativo "
   ]
  },
  {
   "cell_type": "markdown",
   "id": "00fe163e",
   "metadata": {},
   "source": [
    "Otra técnica eficaz consiste en hacer preguntas de seguimiento a partir de respuestas anteriores. Con este método, podemos profundizar en un tema, extraer información adicional o aclarar cualquier ambigüedad del resultado inicial.\n",
    "\n",
    "La clave del prompt iterativo es estar atento a la respuesta inicial de la IA. Podemos formular nuestro prompt de seguimiento para profundizar en una parte específica de esa respuesta, ahondar en un subtema o pedir aclaraciones. Es especialmente útil cuando necesitamos recopilar información detallada. Los LLM más expertos pueden manejar los prompts iterativos y elaborar sus respuestas de forma similar a la de un humano.\n"
   ]
  },
  {
   "cell_type": "markdown",
   "id": "7dd05886",
   "metadata": {},
   "source": [
    "### 3.12 - Storytelling interactivo y juegos de rol"
   ]
  },
  {
   "cell_type": "markdown",
   "id": "318b2ad0",
   "metadata": {},
   "source": [
    "El storytelling interactivo y los juegos de rol con IA son una forma creativa y atractiva de producir contenidos dinámicos. Esta técnica aprovecha la capacidad de la IA para adaptar sus respuestas en función de los prompts y las interacciones anteriores, lo que permite una narración fluida.\n",
    "\n",
    "La narración colaborativa va un paso más allá al permitir que la IA se adapte a nuestros aportes en tiempo real. Permite un intercambio de ida y vuelta en el que la herramienta y nosotros contribuimos al desarrollo de la historia, creando una experiencia interactiva. Por ejemplo:\n",
    "\n",
    "\n",
    "\"Quiero empezar un ejercicio de narración colaborativa contigo. Escribiremos una historia de fantasía sobre una tierra en la que existe la magia, pero que lleva mucho tiempo olvidada.\n",
    "\n",
    "Aquí está el personaje principal y el objetivo final de la historia:\n",
    "\n",
    "Personaje: Doraleous, un joven granjero que descubre accidentalmente un antiguo libro de hechizos.\n",
    "\n",
    "Objetivo: aprovechar el poder de la magia para acabar con la hambruna que azota a su aldea en el bosque.\""
   ]
  },
  {
   "cell_type": "markdown",
   "id": "376c9ff0",
   "metadata": {},
   "source": [
    "### 3.13 - Inyección implícita de información"
   ]
  },
  {
   "cell_type": "markdown",
   "id": "38800ca9",
   "metadata": {},
   "source": [
    "Con la inyección de información implícita, otorgamos contexto sutilmente para que el modelo de IA entienda tus necesidades sin que se lo digas explícitamente.\n",
    "\n",
    "El contexto implícito puede ser especialmente útil cuando buscamos respuestas matizadas o adaptadas. Por ejemplo, en lugar de decir: \"Escribe esto en un tono formal\", podemos utilizar palabras como \"elaborado\" o \"detallado\" para guiar a la IA hacia un resultado más formal. Por ejemplo:\n",
    "\n",
    "\"¿Puedes dar algunos consejos rápidos para aumentar el tráfico de un sitio web?\""
   ]
  },
  {
   "cell_type": "markdown",
   "id": "c1a2b84f",
   "metadata": {},
   "source": [
    "### 3.14 - Traducción de idiomas con matices contextuales"
   ]
  },
  {
   "cell_type": "markdown",
   "id": "6210ebe6",
   "metadata": {},
   "source": [
    "La generación de contenidos multilingües no consiste sólo en convertir palabras de un idioma a otro. Gracias al prompt engineering, podemos asegurarnos de que la IA tenga en cuenta el contexto cultural o situacional, lo que producirá una traducción más precisa y matizada.\n",
    "\n",
    "Podemos mejorar la precisión de la traducción con el contexto. Si añadimos pistas culturales o situacionales en la pregunta, podemos guiar a la IA para que proporcione una traducción que se ajuste al contexto. Es especialmente útil en comunicaciones comerciales, documentos jurídicos o cualquier texto en el que un matiz pueda alterar drásticamente el significado. Por ejemplo:\n",
    "\n",
    "\"Traduce la frase «She took the ball and ran with it» del inglés al francés, teniendo en cuenta que se trata de una metáfora empresarial para referirse a tomar las riendas de un proyecto.\""
   ]
  },
  {
   "cell_type": "markdown",
   "id": "d053bff1",
   "metadata": {},
   "source": [
    "### 3.15 - Ingeniería de prompt automática"
   ]
  },
  {
   "cell_type": "markdown",
   "id": "3cadaa10",
   "metadata": {},
   "source": [
    "La ingeniería automática de prompts, APE por las siglas en inglés, es un avance en el campo de la inteligencia artificial que aprovecha las nuevas capacidades de los LLM para ayudar a la IA a generar y seleccionar automáticamente instrucciones por sí misma. Transforma la tarea en un problema de optimización, utilizando algoritmos de aprendizaje automático para generar y evaluar soluciones de forma heurística.\n",
    "\n",
    "El flujo de trabajo APE consta de cinco pasos principales:\n",
    "\n",
    "1. Asignamos al chatbot una tarea específica y le mostramos algunos ejemplos.\n",
    "2. Al chatbot se le ocurren diferentes maneras de hacer el trabajo, ya sea por razonamiento directo o teniendo en cuenta tareas similares que conoce.\n",
    "3. A continuación, se prueban en la práctica estos distintos métodos.\n",
    "4. El chatbot valora la eficacia de cada método.\n",
    "5. La IA elegirá entonces un método mejor y lo aplicará. \n",
    "\n",
    "\n",
    "Cuando están equipadas con capacidades de self-prompting, las herramientas de IA generativa pueden agilizar las tareas, desde el análisis de datos basado en el contexto hasta la atención al cliente automatizada, eliminando la necesidad de constantes prompts generados por humanos.\n"
   ]
  },
  {
   "cell_type": "markdown",
   "id": "dd7ead40",
   "metadata": {},
   "source": [
    "## 4 - Casos de uso del Prompt Engineering "
   ]
  },
  {
   "cell_type": "markdown",
   "id": "4fd1f85f",
   "metadata": {},
   "source": [
    "Exploremos cómo se pueden emplear estas técnicas en diversos escenarios prácticos que van desde el desarrollo de código y la generación de contenidos para SEO hasta el diagnóstico médico.\n",
    "\n",
    "\n",
    "+ **Generación y depuración de código**: El prompt engineering puede ser muy útil para la generación y depuración de código. Podemos crear prompts específicos para que la IA produzca fragmentos de código, depure el código existente o incluso sugiera métodos de codificación alternativos. Por ejemplo, podemos utilizar un prompt como \"Genera una función Python para calcular el factorial de un número\" para obtener código funcional.\n",
    "\n",
    "\n",
    "+ **Producción de artículos SEO**: Además de pedirle a la IA que cree un artículo desde cero, podemos utilizarla para mejorar los que ya tenemos. Una de las prácticas más comunes de optimización de contenidos con IA es copiar toda la entrada del blog y ciertas palabras clave que deseamos que la herramienta agregue de forma natural.\n",
    "\n",
    "\n",
    "+ **Personalización de los asistentes virtuales**: Con los prompts adecuados, podemos adaptar los asistentes virtuales para que ofrezcan una comunicación dirigida al público de nuestro sitio web. Esto es especialmente importante para los negocios que pretenden ofrecer una experiencia personalizada a su público. Utilizando técnicas de prompt engineering, podemos crear interacciones que no sólo sean funcionales, sino también personalizadas según las preferencias y el historial de cada usuario.\n",
    "\n",
    "\n",
    "+ **Apoyo para el aprendizaje y la educación**: Unos prompts bien elaborados pueden ayudar significativamente a la educación y el aprendizaje. Utilizando las técnicas discutidas, podemos usar la ingeniería de prompts para comprender mejor teorías complejas como las derivadas, la integrales y la gramática. Por ejemplo: \"¿Puedes explicar cómo se conjuga el verbo francés «être» en presente, paso a paso?\".\n",
    "\n",
    "\n",
    "+ **Análisis e interpretación de datos**: El prompt engineering puede ayudar a extraer información útil de conjuntos de datos complejos. Después de dar acceso a grandes fuentes de datos, podemos pedir a los LLM que analicen la información y generen resúmenes visuales mediante prompts multimodales. Podemos crear prompts para que la IA busque tendencias, patrones y relaciones en los datos que pueden no ser evidentes a primera vista. Por ejemplo, para analizar e interpretar un vasto conjunto de datos, podemos pedir a un generador de imágenes de IA que cree tablas o gráficos para mostrar tendencias y correlaciones importantes en los datos. Luego, podemos utilizar un proceso iterativo y pedir a la IA que interprete la visualización y describa las narrativas significativas, los puntos de vista y las conclusiones que se pueden extraer. La formulación de preguntas específicas mediante la recuperación de información puede ayudarnos a guiar a la IA para que identifique conclusiones significativas y articule los datos. \n",
    "\n",
    "\n",
    "+ **Investigación y diagnóstico médico**: En la investigación y el diagnóstico médicos, el prompt engineering puede cambiar las reglas del juego. A través de indicaciones meticulosamente diseñadas y APE, las aplicaciones de IA pueden ayudar a los diagnosticadores a analizar los síntomas, examinar la literatura médica e incluso proponer posibles tratamientos. Por ejemplo, un prompt podría guiar a la IA a buscar en numerosos trabajos de investigación posibles tratamientos para una enfermedad rara. Sin embargo, hablar de nuestros síntomas con una IA no es una alternativa a la consulta con el médico. Recordemos que la IA no es más que una herramienta en la que no se puede confiar plenamente.   "
   ]
  },
  {
   "cell_type": "markdown",
   "id": "2a2ae5fd",
   "metadata": {},
   "source": [
    "## 5 - Consejos para mejorar el prompt engineering"
   ]
  },
  {
   "cell_type": "markdown",
   "id": "fc42ab77",
   "metadata": {},
   "source": [
    "Un prompt engineering eficaz consiste en comprender las técnicas y aplicarlas bien. He aquí algunos consejos para perfeccionar tu enfoque.\n",
    "\n",
    "\n",
    "+ **Analizar las respuestas del modelo**: Es importante estudiar cómo reacciona el modelo a los distintos prompts. Este análisis nos ayudará a mejorar nuestros prompts para lograr respuestas más precisas y completas, especialmente cuando trabajemos con herramientas de IA generativa.\n",
    "\n",
    "\n",
    "+ **Aprovechar los comentarios del usuario**: Una forma muy eficaz de mejorar el prompt engineering es dar activamente a las aplicaciones de IA información sobre lo bien que responden a tu prompt. La integración de la retroalimentación es una de las capacidades más importantes del LLM que ayuda a las herramientas de IA generativa a perfeccionar el modelo de lenguaje. Esencialmente, les hace estar mejor equipados para darnos exactamente lo que queremos.\n",
    "\n",
    "\n",
    "+ **Adaptarse a las actualizaciones de los modelos**: Es crucial estar al tanto de los cambios en la arquitectura del modelo, los datos añadidos y las nuevas capacidades del LLM. Esto nos ayudará a ajustar nuestros prompts y a aprovechar mejor las nuevas funciones.\n",
    "\n",
    "\n",
    "+ **Colaboración y aportes de la comunidad**: Trabajar con otros ofrece nuevas perspectivas sobre el prompt engineering. Podemos pedir la opinión de la comunidad en foros, redes sociales y redes profesionales para mejorar nuestras habilidades de elaboración de prompts.\n",
    "\n",
    "\n",
    "+ **Experimentación con diferentes estrategias**: Probar distintas técnicas permite comprender mejor qué funciona más. De este modo, tendremos más flexibilidad a la hora de aplicar los prompts a distintos casos de uso y contextos."
   ]
  },
  {
   "cell_type": "markdown",
   "id": "635905d4",
   "metadata": {},
   "source": [
    "## 6 - Preguntas frecuentes sobre prompt engineering"
   ]
  },
  {
   "cell_type": "markdown",
   "id": "53de3f1f",
   "metadata": {},
   "source": [
    "**¿Cuáles son las ventajas de utilizar prompt engineering?**\n",
    "\n",
    "El prompt engineering mejora el rendimiento de los grandes modelos de lenguaje, haciéndolos más eficaces y versátiles a la hora de generar resultados útiles. Es vital para tareas como la recuperación de información, el análisis de datos, la mejora de contenidos con IA y la generación de lenguaje a medida.\n",
    "\n",
    "\n",
    "**¿Qué tan difícil es el prompt engineering?**\n",
    "\n",
    "El prompt engineering es una habilidad relativamente fácil de aprender. Sin embargo, se recomienda que se empiece con consultas sencillas y luego se pase a conceptos más complejos que requieren mayor comprensión del procesamiento del lenguaje natural y un modelado eficaz del lenguaje para elaborar consultas de datos optimizadas.\n",
    "\n",
    "\n",
    "**¿Qué hace un ingeniero de prompts?**\n",
    "\n",
    "Un ingeniero de prompts se especializa en elaborar consultas o instrucciones para guiar grandes modelos de lenguaje y sistemas de IA. Se centran en optimizar las interacciones entre el usuario y la IA, garantizando resultados más precisos y significativos en diversas aplicaciones, desde el análisis de datos hasta la captación de clientes."
   ]
  }
 ],
 "metadata": {
  "kernelspec": {
   "display_name": "ia",
   "language": "python",
   "name": "ia"
  },
  "language_info": {
   "codemirror_mode": {
    "name": "ipython",
    "version": 3
   },
   "file_extension": ".py",
   "mimetype": "text/x-python",
   "name": "python",
   "nbconvert_exporter": "python",
   "pygments_lexer": "ipython3",
   "version": "3.9.19"
  },
  "toc": {
   "base_numbering": 1,
   "nav_menu": {},
   "number_sections": false,
   "sideBar": true,
   "skip_h1_title": true,
   "title_cell": "Tabla de Contenidos",
   "title_sidebar": "Contents",
   "toc_cell": true,
   "toc_position": {
    "height": "599px",
    "left": "141px",
    "top": "111.141px",
    "width": "302.398px"
   },
   "toc_section_display": true,
   "toc_window_display": true
  }
 },
 "nbformat": 4,
 "nbformat_minor": 5
}
