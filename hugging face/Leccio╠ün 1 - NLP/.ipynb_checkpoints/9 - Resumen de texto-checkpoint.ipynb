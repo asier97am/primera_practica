{
 "cells": [
  {
   "cell_type": "markdown",
   "id": "57d8872b",
   "metadata": {},
   "source": [
    "# 9 - Resumen de texto\n",
    "\n",
    "\n",
    "<br>\n",
    "<br>\n",
    "\n",
    "<img src=\"https://raw.githubusercontent.com/Hack-io-AI/ai_images/main/resumen.webp\" style=\"width:400px;\"/>"
   ]
  },
  {
   "cell_type": "markdown",
   "id": "a16b0d72",
   "metadata": {
    "toc": true
   },
   "source": [
    "<h1>Tabla de Contenidos<span class=\"tocSkip\"></span></h1>\n",
    "<div class=\"toc\"><ul class=\"toc-item\"><li><span><a href=\"#1---Modelos-de-resumen\" data-toc-modified-id=\"1---Modelos-de-resumen-1\">1 - Modelos de resumen</a></span></li><li><span><a href=\"#2---Pipeline-de-Transformers-para-resumir\" data-toc-modified-id=\"2---Pipeline-de-Transformers-para-resumir-2\">2 - Pipeline de Transformers para resumir</a></span></li><li><span><a href=\"#3---Usando-el-modelo-de-resumen\" data-toc-modified-id=\"3---Usando-el-modelo-de-resumen-3\">3 - Usando el modelo de resumen</a></span><ul class=\"toc-item\"><li><span><a href=\"#3.1-Tokenizador\" data-toc-modified-id=\"3.1-Tokenizador-3.1\">3.1 Tokenizador</a></span></li><li><span><a href=\"#3.2---Modelo-de-resumen\" data-toc-modified-id=\"3.2---Modelo-de-resumen-3.2\">3.2 - Modelo de resumen</a></span></li><li><span><a href=\"#3.3---Resumen-funcional\" data-toc-modified-id=\"3.3---Resumen-funcional-3.3\">3.3 - Resumen funcional</a></span></li></ul></li><li><span><a href=\"#4---Más-modelos-de-resumen\" data-toc-modified-id=\"4---Más-modelos-de-resumen-4\">4 - Más modelos de resumen</a></span></li></ul></div>"
   ]
  },
  {
   "cell_type": "markdown",
   "id": "bbd1cc22",
   "metadata": {},
   "source": [
    "## 1 - Modelos de resumen"
   ]
  },
  {
   "cell_type": "markdown",
   "id": "7396ed72",
   "metadata": {},
   "source": [
    "Los modelos de resumen de texto son herramientas de NLP diseñadas para condensar información extensa en textos más cortos que mantienen los puntos clave del contenido original. Estos modelos pueden ser clasificados principalmente en dos tipos: extractivos y abstractivos.\n",
    "\n",
    "1. **Resumen Extractivo**\n",
    "\n",
    "Los modelos extractivos seleccionan y concatenan las frases o segmentos más importantes del texto original para formar un resumen. Estos modelos no generan nuevo texto, sino que extraen partes del texto original.\n",
    "\n",
    "+ Técnicas comunes del resumen extractivo:\n",
    "    + Análisis de frecuencia: Identifica las palabras y frases más frecuentes para determinar la importancia.\n",
    "    + Algoritmos de clustering: Agrupan frases similares y seleccionan representantes de cada grupo.\n",
    "    + Redes neuronales: Utilizan técnicas como LSTM o GRU para evaluar la importancia de las oraciones en el contexto del documento completo.\n",
    "\n",
    "\n",
    "2. **Resumen Abstractivo**\n",
    "\n",
    "Los modelos abstractivos generan un nuevo texto que no necesariamente aparece en el original, utilizando técnicas avanzadas para reformular y sintetizar contenido que refleje los puntos clave.\n",
    "\n",
    "+ Técnicas comunes del resumen abstractivo:\n",
    "    + Modelos Seq2Seq (Secuencia a Secuencia): Utilizan arquitecturas de codificador-decodificador, donde el texto original se codifica en una representación vectorial y el decodificador genera el resumen.\n",
    "    + Transformers: Especialmente el modelo Transformer, que ha demostrado ser muy efectivo para resúmenes abstractivos debido a su capacidad para manejar largas dependencias en el texto.\n",
    "    + BERT y derivados: Modelos como BERT, GPT y T5 han sido adaptados para mejorar las tareas de generación de texto, incluyendo el resumen abstractivo.\n",
    "\n",
    "\n",
    "\n",
    "3. **Modelos populares de resumen**\n",
    "    + GPT: Estos modelos de OpenAI, basados en la arquitectura Transformer, tienen la capacidad para realizar resúmenes abstractivos mediante el ajuste fino en tareas específicas de resumen.\n",
    "    + BERTSUM: Una adaptación de BERT para resúmenes, que modifica la arquitectura BERT para hacerla más adecuada para seleccionar oraciones significativas.\n",
    "    + T5 (Text-to-Text Transfer Transformer): Un modelo diseñado para convertir todas las tareas de NLP en un problema de generación de texto, incluido el resumen.\n",
    "\n",
    "\n",
    "4. **Aplicaciones**\n",
    "    + Medios de comunicación: Resumen de noticias y artículos para proporcionar versiones condensadas rápidamente.\n",
    "    + Academia y educación: Resumen de documentos y literatura académica para facilitar la revisión y el estudio.\n",
    "    + Negocios y legal: Automatización del resumen de informes, contratos y documentos legales para mejorar la eficiencia y reducir la carga de trabajo.\n",
    "    \n",
    "    \n",
    "    \n",
    "Los modelos de resumen no solo ofrecen eficiencias significativas en la gestión de la información, sino que también permiten a los usuarios acceder rápidamente a la información relevante sin necesidad de revisar grandes volúmenes de texto."
   ]
  },
  {
   "cell_type": "markdown",
   "id": "2370f42b",
   "metadata": {},
   "source": [
    "## 2 - Pipeline de Transformers para resumir"
   ]
  },
  {
   "cell_type": "markdown",
   "id": "041d3235",
   "metadata": {},
   "source": [
    "Vamos a usar un modelo llamado [mt5-small-spanish-summarization](https://huggingface.co/josmunpen/mt5-small-spanish-summarization). Este es un modelo mt5-small afinado para generar titulares a partir del cuerpo de las noticias en español. El modelo fue entrenado con 58.425 noticias extraídas de periódicos, 31.477 del periódico La Razón y 26.948 del periódico Público. Estas noticias pertenecen a las siguientes categorías: \"España\", \"Cultura\", \"Economía\", \"Igualdad\" y \"Política\"."
   ]
  },
  {
   "cell_type": "code",
   "execution_count": null,
   "id": "d4afedf6",
   "metadata": {},
   "outputs": [],
   "source": []
  },
  {
   "cell_type": "code",
   "execution_count": null,
   "id": "a939bbaa",
   "metadata": {},
   "outputs": [],
   "source": []
  },
  {
   "cell_type": "code",
   "execution_count": null,
   "id": "a9be9c80",
   "metadata": {},
   "outputs": [],
   "source": []
  },
  {
   "cell_type": "code",
   "execution_count": null,
   "id": "5c74b621",
   "metadata": {},
   "outputs": [],
   "source": [
    "# ejemplo de articulo\n",
    "\n",
    "articulo = '''\n",
    "La Guardia Civil ha desarticulado un grupo organizado dedicado a copiar en los examenes teoricos para \n",
    "la obtencion del permiso de conducir. Para ello, empleaban receptores y camaras de alta tecnologia y \n",
    "operaban desde la misma sede del Centro de examenes de la Direccion General de Trafico (DGT) en Mostoles. \n",
    "Es lo que han llamado la Operacion pinga. \n",
    "El grupo desarticulado ofrecia el servicio de transporte y tecnologia para copiar y \n",
    "poder aprobar. Por dicho servicio cobraban 1.000 euros. Los investigadores sorprendieron in fraganti a una \n",
    "mujer intentando copiar en el examen. Portaba una chaqueta con dispositivos electronicos ocultos, \n",
    "concretamente un telefono movil al que estaba conectada una camara que habia sido insertada en la parte \n",
    "frontal de la chaqueta para transmitir online el examen y que orientada al ordenador del Centro de Examenes \n",
    "en el que aparecen las preguntas, permitia visualizar las imagenes en otro ordenador alojado en el interior \n",
    "de un vehiculo estacionado en las inmediaciones del centro. En este vehiculo, se encontraban el resto del \n",
    "grupo desarticulado con varios ordenadores portatiles y tablets abiertos y conectados a paginas de test de la\n",
    "DGT para consultar las respuestas. Estos, comunicaban con la mujer que estaba en el aula haciendo el examen \n",
    "a traves de un diminuto receptor bluetooth que portaba en el interior de su oido.  \n",
    "\n",
    "Luis de Lama, portavoz de la Guardia Civil de Trafico destaca que los ciudadanos, eran de origen chino, \n",
    "y copiaban en el examen utilizando la tecnologia facilitada por una organizacion. Destaca que, ademas de parte \n",
    "del fraude que supone copiar en un examen muchos de estos ciudadanos desconocian el idioma, no hablan ni \n",
    "entienden el español lo que supone un grave riesgo para la seguridad vial por desconocer las señales y \n",
    "letreros que avisan en carretera de muchas incidencias. \n",
    "\n",
    "'''"
   ]
  },
  {
   "cell_type": "code",
   "execution_count": null,
   "id": "d0159747",
   "metadata": {},
   "outputs": [],
   "source": []
  },
  {
   "cell_type": "code",
   "execution_count": null,
   "id": "744460c1",
   "metadata": {},
   "outputs": [],
   "source": []
  },
  {
   "cell_type": "code",
   "execution_count": null,
   "id": "179ab12c",
   "metadata": {},
   "outputs": [],
   "source": []
  },
  {
   "cell_type": "markdown",
   "id": "91a28f44",
   "metadata": {},
   "source": [
    "## 3 - Usando el modelo de resumen\n",
    "\n",
    "Usemos el modelo fuera del pipeline. Como siempre, necesitamos el tokenizador y el modelo preentrenado:"
   ]
  },
  {
   "cell_type": "code",
   "execution_count": null,
   "id": "7dd3aabd",
   "metadata": {},
   "outputs": [],
   "source": []
  },
  {
   "cell_type": "markdown",
   "id": "2bb0b05d",
   "metadata": {},
   "source": [
    "### 3.1 Tokenizador"
   ]
  },
  {
   "cell_type": "code",
   "execution_count": null,
   "id": "72c0189f",
   "metadata": {},
   "outputs": [],
   "source": []
  },
  {
   "cell_type": "code",
   "execution_count": null,
   "id": "c3bf8a22",
   "metadata": {},
   "outputs": [],
   "source": []
  },
  {
   "cell_type": "markdown",
   "id": "3853743f",
   "metadata": {},
   "source": [
    "Características principales del T5TokenizerFast:\n",
    "\n",
    "1. **vocab_size**: 50265 representa el tamaño del vocabulario del tokenizador, es decir, la cantidad de tokens únicos que puede reconocer.\n",
    "\n",
    "\n",
    "2. **model_max_length**: 1024 es la longitud máxima de tokens que el modelo puede manejar.\n",
    "\n",
    "\n",
    "3. **is_fast**: True indica que este tokenizador utiliza la implementación rápida de Hugging Face, optimizada para ser más eficiente en comparación con las versiones basadas puramente en Python.\n",
    "\n",
    "\n",
    "4. **padding_side y truncation_side**: Ambos configurados a right (derecha), lo que significa que el relleno y la truncación de secuencias se realizan al final de las secuencias de tokens.\n",
    "\n",
    "\n",
    "5. **special_tokens**:Define varios tokens especiales que el modelo necesita para operar correctamente:\n",
    "    + eos_token: `</s>` marca el fin de una secuencia.\n",
    "    + unk_token: `<unk>` se utiliza para tokens desconocidos.\n",
    "    + pad_token: `<pad>` se usa para rellenar secuencias hasta una longitud común.\n",
    "    + mask_token: `<mask>` se usa para enmascarar y predecir la palabra original que ha sido enmascarada.\n",
    "\n",
    "\n",
    "6. **clean_up_tokenization_spaces**: True indica que el tokenizador limpiará espacios de tokenización extras, ayudando a mantener la integridad del texto original en su conversión a tokens.\n",
    "\n"
   ]
  },
  {
   "cell_type": "code",
   "execution_count": null,
   "id": "b1a25148",
   "metadata": {},
   "outputs": [],
   "source": []
  },
  {
   "cell_type": "code",
   "execution_count": null,
   "id": "8383cb80",
   "metadata": {},
   "outputs": [],
   "source": []
  },
  {
   "cell_type": "markdown",
   "id": "a8f28a4f",
   "metadata": {},
   "source": [
    "### 3.2 - Modelo de resumen"
   ]
  },
  {
   "cell_type": "code",
   "execution_count": null,
   "id": "693fb6ff",
   "metadata": {},
   "outputs": [],
   "source": []
  },
  {
   "cell_type": "code",
   "execution_count": null,
   "id": "abb724ce",
   "metadata": {
    "scrolled": false
   },
   "outputs": [],
   "source": []
  },
  {
   "cell_type": "markdown",
   "id": "fec39f07",
   "metadata": {},
   "source": [
    "**Componentes del modelo MT5ForConditionalGeneration**:\n",
    "\n",
    "\n",
    "1. **Shared Embedding**:\n",
    "\n",
    "+ Embedding(250112, 512): Una capa de embedding compartida para el encoder y el decoder, con un vocabulario de 250,112 tokens y cada token representado por un vector de 512 dimensiones.\n",
    "\n",
    "\n",
    "2. **Encoder (MT5Stack)**:\n",
    "\n",
    "+ embed_tokens: Utiliza la misma capa de embedding compartida para transformar los tokens de entrada en vectores.\n",
    "+ block: Una lista de módulos de tipo MT5Block, cada uno conteniendo capas de atención y capas de alimentación directa (feed-forward):\n",
    "    + MT5LayerSelfAttention: Capa de auto-atención que ayuda al modelo a enfocarse en diferentes partes de la entrada para entender mejor el contexto.\n",
    "    + MT5LayerFF (Feed Forward Layer): Capa que utiliza una activación no lineal (GELU) y operaciones lineales para transformar la salida de la capa de atención.\n",
    "\n",
    "\n",
    "3. **Decoder (MT5Stack)**: Similar al encoder en estructura, pero con capas adicionales para la atención cruzada:\n",
    "\n",
    "+ MT5LayerSelfAttention: Similar a la capa del encoder, se enfoca en la entrada del decoder.\n",
    "+ MT5LayerCrossAttention (EncDecAttention): Permite que el decoder acceda a la salida completa del encoder, crucial para tareas como la traducción donde el contexto del texto fuente es esencial para generar el texto objetivo.\n",
    "+ MT5LayerFF: Similar a la del encoder, procesa la salida de las capas de atención.\n",
    "\n",
    "\n",
    "4. **Componentes Adicionales**:\n",
    "\n",
    "+ Dropout(p=0.1): Utilizado en varias capas para evitar el sobreajuste mediante la desactivación aleatoria de neuronas durante el entrenamiento.\n",
    "+ MT5LayerNorm: Normalización de capa para estabilizar las salidas internas del modelo.\n",
    "+ lm_head: Una capa lineal que mapea la salida del decoder al espacio del vocabulario original, usada para generar la salida final del texto.\n"
   ]
  },
  {
   "cell_type": "code",
   "execution_count": null,
   "id": "4aff8180",
   "metadata": {},
   "outputs": [],
   "source": []
  },
  {
   "cell_type": "code",
   "execution_count": null,
   "id": "6dda3794",
   "metadata": {},
   "outputs": [],
   "source": []
  },
  {
   "cell_type": "code",
   "execution_count": null,
   "id": "f89d3514",
   "metadata": {},
   "outputs": [],
   "source": []
  },
  {
   "cell_type": "markdown",
   "id": "230684c1",
   "metadata": {},
   "source": [
    "### 3.3 - Resumen funcional\n",
    "Vamos a poner todo el código junto en una sola función:"
   ]
  },
  {
   "cell_type": "code",
   "execution_count": null,
   "id": "4f5caebb",
   "metadata": {},
   "outputs": [],
   "source": []
  },
  {
   "cell_type": "code",
   "execution_count": null,
   "id": "70106108",
   "metadata": {},
   "outputs": [],
   "source": []
  },
  {
   "cell_type": "markdown",
   "id": "18fcca33",
   "metadata": {},
   "source": [
    "## 4 - Más modelos de resumen \n",
    "\n",
    "Probemos ahora otros modelos, esta vez en inglés, puesto que la mayoría de modelos funcionan en este idioma. Vamos a usar un modelo de resumen de [Falconsai](https://huggingface.co/Falconsai/text_summarization), es un modelo T5 Small ajustado, una variante del modelo transformer T5, diseñado para la tarea de resumen de texto que pesa aproximadamente 250 Mb. Está adaptado y ajustado para generar resúmenes concisos y coherentes del texto de entrada. Este modelo está preentrenado en un corpus diverso de datos textuales, lo que le permite capturar información esencial y generar resúmenes significativos. El ajuste se realiza prestando especial atención a los ajustes de hiperparámetros, incluyendo el tamaño del lote y la tasa de aprendizaje, para garantizar un rendimiento óptimo en el resumen de texto.\n",
    "\n",
    "\n",
    "El conjunto de datos de ajuste consta de una variedad de documentos y sus resúmenes generados por humanos correspondientes. Este conjunto de datos diverso permite al modelo aprender el arte de crear resúmenes que capturen la información más importante mientras mantienen la coherencia y la fluidez. El objetivo del proceso de entrenamiento es dotar al modelo de la capacidad de generar resúmenes de texto de alta calidad, haciéndolo valioso para una amplia gama de aplicaciones que involucran la resumición de documentos y la condensación de contenido."
   ]
  },
  {
   "cell_type": "code",
   "execution_count": null,
   "id": "b1e68b03",
   "metadata": {},
   "outputs": [],
   "source": [
    "# articulo de ejemplo\n",
    "\n",
    "articulo = ''' \n",
    "Hugging Face: Revolutionizing Natural Language Processing\n",
    "Introduction\n",
    "In the rapidly evolving field of Natural Language Processing (NLP), Hugging Face has emerged as a prominent \n",
    "and innovative force. This article will explore the story and significance of Hugging Face, a company that has\n",
    "made remarkable contributions to NLP and AI as a whole. From its inception to its role in democratizing AI, \n",
    "Hugging Face has left an indelible mark on the industry.\n",
    "The Birth of Hugging Face\n",
    "Hugging Face was founded in 2016 by Clément Delangue, Julien Chaumond, and Thomas Wolf. The name \"Hugging Face\" \n",
    "was chosen to reflect the company's mission of making AI models more accessible and friendly to humans, much \n",
    "like a comforting hug. Initially, they began as a chatbot company but later shifted their focus to NLP, \n",
    "driven by their belief in the transformative potential of this technology.\n",
    "Transformative Innovations\n",
    "Hugging Face is best known for its open-source contributions, particularly the \"Transformers\" library. \n",
    "This library has become the de facto standard for NLP and enables researchers, developers, and organizations \n",
    "to easily access and utilize state-of-the-art pre-trained language models, such as BERT, GPT-3, and more. \n",
    "These models have countless applications, from chatbots and virtual assistants to language translation and \n",
    "sentiment analysis.\n",
    "Key Contributions:\n",
    "1. **Transformers Library:** The Transformers library provides a unified interface for more than 50 \n",
    "pre-trained models, simplifying the development of NLP applications. It allows users to fine-tune these \n",
    "models for specific tasks, making it accessible to a wider audience.\n",
    "2. **Model Hub:** Hugging Face's Model Hub is a treasure trove of pre-trained models, making it simple for \n",
    "anyone to access, experiment with, and fine-tune models. Researchers and developers around the world can \n",
    "collaborate and share their models through this platform.\n",
    "3. **Hugging Face Transformers Community:** Hugging Face has fostered a vibrant online community where \n",
    "developers, researchers, and AI enthusiasts can share their knowledge, code, and insights. This collaborative \n",
    "spirit has accelerated the growth of NLP.\n",
    "Democratizing AI\n",
    "Hugging Face's most significant impact has been the democratization of AI and NLP. Their commitment to \n",
    "open-source development has made powerful AI models accessible to individuals, startups, and established \n",
    "organizations. This approach contrasts with the traditional proprietary AI model market, which often limits \n",
    "access to those with substantial resources.\n",
    "By providing open-source models and tools, Hugging Face has empowered a diverse array of users to innovate \n",
    "and create their own NLP applications. This shift has fostered inclusivity, allowing a broader range of voices \n",
    "to contribute to AI research and development.\n",
    "Industry Adoption\n",
    "The success and impact of Hugging Face are evident in its widespread adoption. Numerous companies and \n",
    "institutions, from startups to tech giants, leverage Hugging Face's technology for their AI applications. \n",
    "This includes industries as varied as healthcare, finance, and entertainment, showcasing the versatility \n",
    "of NLP and Hugging Face's contributions.\n",
    "Future Directions\n",
    "Hugging Face's journey is far from over. As of my last knowledge update in September 2021, the company was \n",
    "actively pursuing research into ethical AI, bias reduction in models, and more. Given their track record of \n",
    "innovation and commitment to the AI community, it is likely that they will continue to lead in ethical AI \n",
    "development and promote responsible use of NLP technologies.\n",
    "Conclusion\n",
    "Hugging Face's story is one of transformation, collaboration, and empowerment. Their open-source contributions \n",
    "have reshaped the NLP landscape and democratized access to AI. As they continue to push the boundaries of AI \n",
    "research, we can expect Hugging Face to remain at the forefront of innovation, contributing to a more \n",
    "inclusive and ethical AI future. Their journey reminds us that the power of open-source collaboration can \n",
    "lead to groundbreaking advancements in technology and bring AI within the reach of many.\n",
    "'''"
   ]
  },
  {
   "cell_type": "code",
   "execution_count": null,
   "id": "baf0534f",
   "metadata": {},
   "outputs": [],
   "source": []
  },
  {
   "cell_type": "code",
   "execution_count": null,
   "id": "cf6db719",
   "metadata": {},
   "outputs": [],
   "source": []
  },
  {
   "cell_type": "code",
   "execution_count": null,
   "id": "8a04daa3",
   "metadata": {},
   "outputs": [],
   "source": []
  },
  {
   "cell_type": "code",
   "execution_count": null,
   "id": "191b6026",
   "metadata": {},
   "outputs": [],
   "source": []
  },
  {
   "cell_type": "code",
   "execution_count": null,
   "id": "8574ea12",
   "metadata": {},
   "outputs": [],
   "source": []
  },
  {
   "cell_type": "code",
   "execution_count": null,
   "id": "76012fbe",
   "metadata": {},
   "outputs": [],
   "source": []
  },
  {
   "cell_type": "markdown",
   "id": "ea25eb63",
   "metadata": {},
   "source": [
    "Probemos otro modelo, un modelo [BART](https://huggingface.co/facebook/bart-large-cnn), preentrenado en inglés, ajustado con el dataset [CNN Daily Mail](https://huggingface.co/datasets/cnn_dailymail) y desarrollado por Facebook. Pesa 1.65Gb."
   ]
  },
  {
   "cell_type": "code",
   "execution_count": null,
   "id": "21fe647d",
   "metadata": {},
   "outputs": [],
   "source": []
  },
  {
   "cell_type": "code",
   "execution_count": null,
   "id": "32f22e30",
   "metadata": {},
   "outputs": [],
   "source": [
    "import torch\n",
    "from transformers import BertTokenizerFast, EncoderDecoderModel  # 555Mb\n",
    "device = 'cuda' if torch.cuda.is_available() else 'cpu'\n",
    "ckpt = 'mrm8488/bert2bert_shared-spanish-finetuned-summarization'\n",
    "tokenizer = BertTokenizerFast.from_pretrained(ckpt)\n",
    "model = EncoderDecoderModel.from_pretrained(ckpt).to(device)\n",
    "\n",
    "def generate_summary(text):\n",
    "\n",
    "   inputs = tokenizer([text], padding=\"max_length\", truncation=True, max_length=512, return_tensors=\"pt\")\n",
    "   input_ids = inputs.input_ids.to(device)\n",
    "   attention_mask = inputs.attention_mask.to(device)\n",
    "   output = model.generate(input_ids, attention_mask=attention_mask)\n",
    "   return tokenizer.decode(output[0], skip_special_tokens=True)\n",
    "   \n",
    "\n",
    "generate_summary(articulo)\n"
   ]
  },
  {
   "cell_type": "code",
   "execution_count": null,
   "id": "10f0661f",
   "metadata": {},
   "outputs": [],
   "source": []
  },
  {
   "cell_type": "code",
   "execution_count": null,
   "id": "8ecc0774",
   "metadata": {},
   "outputs": [],
   "source": []
  },
  {
   "cell_type": "code",
   "execution_count": null,
   "id": "9ec6162a",
   "metadata": {},
   "outputs": [],
   "source": []
  }
 ],
 "metadata": {
  "kernelspec": {
   "display_name": "ia",
   "language": "python",
   "name": "ia"
  },
  "language_info": {
   "codemirror_mode": {
    "name": "ipython",
    "version": 3
   },
   "file_extension": ".py",
   "mimetype": "text/x-python",
   "name": "python",
   "nbconvert_exporter": "python",
   "pygments_lexer": "ipython3",
   "version": "3.9.19"
  },
  "toc": {
   "base_numbering": 1,
   "nav_menu": {},
   "number_sections": false,
   "sideBar": true,
   "skip_h1_title": true,
   "title_cell": "Tabla de Contenidos",
   "title_sidebar": "Contents",
   "toc_cell": true,
   "toc_position": {
    "height": "599px",
    "left": "106px",
    "top": "111.141px",
    "width": "266.267px"
   },
   "toc_section_display": true,
   "toc_window_display": true
  }
 },
 "nbformat": 4,
 "nbformat_minor": 5
}
