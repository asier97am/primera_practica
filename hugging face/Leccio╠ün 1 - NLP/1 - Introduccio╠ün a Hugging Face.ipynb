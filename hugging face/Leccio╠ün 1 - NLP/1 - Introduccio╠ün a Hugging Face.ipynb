{
 "cells": [
  {
   "cell_type": "markdown",
   "id": "b1274b4a",
   "metadata": {},
   "source": [
    "# 1 - Introducción a Hugging Face\n",
    "\n",
    "<br>\n",
    "<br>\n",
    "\n",
    "<img src=\"https://raw.githubusercontent.com/Hack-io-AI/ai_images/main/hugging_face.webp\" style=\"width:400px;\"/>\n"
   ]
  },
  {
   "cell_type": "markdown",
   "id": "4fd4265e",
   "metadata": {
    "toc": true
   },
   "source": [
    "<h1>Tabla de Contenidos<span class=\"tocSkip\"></span></h1>\n",
    "<div class=\"toc\"><ul class=\"toc-item\"><li><span><a href=\"#1---¿Qué-es-Hugging-Face?\" data-toc-modified-id=\"1---¿Qué-es-Hugging-Face?-1\">1 - ¿Qué es Hugging Face?</a></span></li><li><span><a href=\"#2---¿Qué-es-el-NLP?\" data-toc-modified-id=\"2---¿Qué-es-el-NLP?-2\">2 - ¿Qué es el NLP?</a></span></li><li><span><a href=\"#3---¿Qué-es-la-visión-por-computador?\" data-toc-modified-id=\"3---¿Qué-es-la-visión-por-computador?-3\">3 - ¿Qué es la visión por computador?</a></span></li><li><span><a href=\"#4---¿Qué-es-la-audición-por-computador?\" data-toc-modified-id=\"4---¿Qué-es-la-audición-por-computador?-4\">4 - ¿Qué es la audición por computador?</a></span></li><li><span><a href=\"#5---¿Qué-son-los-modelos-multimodales?\" data-toc-modified-id=\"5---¿Qué-son-los-modelos-multimodales?-5\">5 - ¿Qué son los modelos multimodales?</a></span></li><li><span><a href=\"#6---¿Cómo-se-usa-Hugging-Face?\" data-toc-modified-id=\"6---¿Cómo-se-usa-Hugging-Face?-6\">6 - ¿Cómo se usa Hugging Face?</a></span></li><li><span><a href=\"#7---Obtener-Token-de-Hugging-Face\" data-toc-modified-id=\"7---Obtener-Token-de-Hugging-Face-7\">7 - Obtener Token de Hugging Face</a></span></li></ul></div>"
   ]
  },
  {
   "cell_type": "markdown",
   "id": "62545e0e",
   "metadata": {},
   "source": [
    "## 1 - ¿Qué es Hugging Face?"
   ]
  },
  {
   "cell_type": "markdown",
   "id": "000cba04",
   "metadata": {},
   "source": [
    "![hf_webpage](https://raw.githubusercontent.com/Hack-io-AI/ai_images/main/hf_webpage.png)\n",
    "\n",
    "[Hugging Face](https://huggingface.co/) es una compañía de tecnología que se especializa en inteligencia artificial, particularmente en el campo del procesamiento del lenguaje natural (NLP, por sus siglas en inglés). Es conocida por desarrollar y mantener una serie de modelos de lenguaje importantes, como BERT, GPT-2, GPT-3 y muchos otros, que se utilizan ampliamente en la industria para una variedad de aplicaciones que incluyen traducción automática, generación de texto y comprensión del lenguaje. Hugging Face también ha creado una comunidad donde los investigadores, desarrolladores y entusiastas de la IA pueden compartir modelos entrenados, colaborar en proyectos y discutir las últimas tendencias y desarrollos en el campo de la inteligencia artificial. \n",
    "\n",
    "Con el tiempo Hugging Face ha expandido sus capacidades a otras áreas de la inteligencia artificial. Además del NLP, proporciona modelos dedicados a procesamiento de imágenes y visión por computador, modelos de audio y procesamiento del habla y también modelos multimodales, aquellos modelos que son capaces de procesar y entender información proveniente de múltiples tipos de datos a la vez"
   ]
  },
  {
   "cell_type": "markdown",
   "id": "eb5b282e",
   "metadata": {},
   "source": [
    "## 2 - ¿Qué es el NLP?"
   ]
  },
  {
   "cell_type": "markdown",
   "id": "f4cba3c3",
   "metadata": {},
   "source": [
    "El NLP (Natural Language Processing) es un campo de la lingüística y el aprendizaje automático enfocado en entender todo lo relacionado con el lenguaje humano. El objetivo de las tareas de NLP no es solo entender palabras individuales, sino también ser capaz de entender el contexto de esas palabras.\n",
    "\n",
    "Veamos algunas de las tareas comunes de NLP:\n",
    "\n",
    "+ Clasificación de frases completas: Determinar el sentimiento de una reseña, detectar si un correo electrónico es spam, determinar si una frase es gramaticalmente correcta o si dos frases están lógicamente relacionadas o no.\n",
    "\n",
    "+ Clasificación de cada palabra en una frase: Identificar los componentes gramaticales de una frase, sustantivo, verbo o adjetivo; o también las entidades nombradas, persona, ubicación u organización.\n",
    "\n",
    "+ Generación de contenido textual: Completar un mensaje con texto autogenerado o llenar los espacios en blanco en un texto con palabras ocultas.\n",
    "\n",
    "+ Extracción de una respuesta de un texto: Dada una pregunta y un contexto, extraer la respuesta a la pregunta basada en la información proporcionada en el contexto.\n",
    "\n",
    "+ Generación de una nueva frase a partir de un texto de entrada: Traducir un texto a otro idioma o resumir un texto."
   ]
  },
  {
   "cell_type": "markdown",
   "id": "fd18756f",
   "metadata": {},
   "source": [
    "## 3 - ¿Qué es la visión por computador?"
   ]
  },
  {
   "cell_type": "markdown",
   "id": "0839f539",
   "metadata": {},
   "source": [
    "La visión por computador, también conocida como visión artificial o \"computer vision\" en inglés, es un campo de la inteligencia artificial que se enfoca en la habilidad de las máquinas para interpretar y comprender el contenido visual. Utiliza técnicas para procesar, analizar y entender imágenes y videos de manera automática, intentando replicar la forma en que los humanos ven e interpretan el entorno visual.\n",
    "\n",
    "Algunas funciones de la visión por computador:\n",
    "\n",
    "+ Detección y Reconocimiento de Objetos: Identificar objetos dentro de una imagen o video y clasificarlos en diferentes categorías, por ejemplo, reconocer diferentes tipos de vehículos, animales o señales de tráfico.\n",
    "\n",
    "+ Segmentación de Imágenes: Dividir una imagen en partes o segmentos para analizarla más detalladamente, usualmente para identificar y localizar con precisión diferentes objetos y fronteras dentro de la imagen.\n",
    "\n",
    "+ Reconocimiento Facial: Identificar y verificar individuos a partir de sus características faciales en imágenes o videos. Este es ampliamente usado en aplicaciones de seguridad y en sistemas de identificación personal.\n",
    "\n",
    "+ Análisis de Movimiento: Analizar el movimiento visual para interpretar y predecir acciones. Esto incluye el seguimiento de objetos en movimiento en videos o la evaluación de comportamientos y actividades.\n",
    "\n",
    "+ Reconstrucción 3D: Crear modelos tridimensionales de objetos o escenas a partir de imágenes bidimensionales, lo cual es útil en aplicaciones como la robótica, la realidad aumentada y la planificación urbana.\n",
    "\n",
    "+ Procesamiento de Imágenes: Mejorar la calidad de las imágenes digitales, modificarlas o transformarlas, como en el ajuste de brillo, contraste, o en la eliminación de elementos no deseados.\n"
   ]
  },
  {
   "cell_type": "markdown",
   "id": "897f5a79",
   "metadata": {},
   "source": [
    "## 4 - ¿Qué es la audición por computador?"
   ]
  },
  {
   "cell_type": "markdown",
   "id": "3cda161f",
   "metadata": {},
   "source": [
    "También conocida como \"audio processing\" o procesamiento de audio, se refiere a la capacidad de las máquinas para procesar, analizar e interpretar señales de audio. Este campo es análogo a la visión por computador, pero se centra en el sonido en lugar de las imágenes.\n",
    "\n",
    "Veamos algunas de las tareas del procesamiento de audio:\n",
    "\n",
    "+ Reconocimiento de Voz: Convertir la voz humana en texto, speech-to-text. Es uno de los usos más comunes y permite a las computadoras entender y responder a comandos de voz.\n",
    "\n",
    "+ Síntesis de Voz: Generar habla humana a partir de texto, text-to-speech. Esta tecnología es utilizada en asistentes virtuales, lectores de pantalla para personas con discapacidad visual, y otros tipos de interfaces de usuario.\n",
    "\n",
    "+ Análisis de Sonido Ambiental: Identificar y clasificar sonidos del entorno, como el reconocimiento de sonidos de vehículos, maquinaria o alertas de seguridad.\n",
    "\n",
    "+ Separación de Fuentes de Sonido: Distinguir y aislar fuentes de sonido específicas dentro de una mezcla de sonidos, como en la música, donde se pueden separar diferentes instrumentos de una grabación.\n",
    "\n",
    "+ Reconocimiento de Música: Identificar canciones, géneros musicales y elementos como el ritmo, la melodía y la armonía.\n",
    "\n",
    "+ Diagnóstico Médico: Analizar audios para detectar problemas de salud, como irregularidades en el ritmo cardíaco o problemas respiratorios."
   ]
  },
  {
   "cell_type": "markdown",
   "id": "abbcbdb9",
   "metadata": {},
   "source": [
    "## 5 - ¿Qué son los modelos multimodales?"
   ]
  },
  {
   "cell_type": "markdown",
   "id": "9799d324",
   "metadata": {},
   "source": [
    "Los modelos multimodales son sistemas que son capaces de procesar y analizar información proveniente de más de una tipo de datos, como texto, imágenes, video y audio, de manera simultánea. Estos modelos buscan integrar diversas formas de información para mejorar la comprensión y la generación de respuestas en tareas complejas que involucran múltiples tipos de entrada.\n",
    "\n",
    "Algunas de las tareas de los modelos multimodales son:\n",
    "\n",
    "+ Fusión de Datos: Combina datos de diferentes fuentes y formatos para producir una representación unificada que permite al modelo realizar inferencias más precisas y contextualizadas.\n",
    "\n",
    "+ Interacción entre Modalidades: Analiza cómo las diferentes modalidades se relacionan y se influyen entre sí, mejorando la capacidad del modelo para manejar situaciones donde una sola modalidad podría no ser suficiente para entender completamente el contexto o la tarea.\n",
    "\n",
    "+ Capacidad de Generalización: Al trabajar con múltiples tipos de datos, estos modelos pueden generalizar mejor y adaptarse a diversas situaciones y ambientes, lo que mejora su robustez y flexibilidad."
   ]
  },
  {
   "cell_type": "markdown",
   "id": "d5a81f06",
   "metadata": {},
   "source": [
    "## 6 - ¿Cómo se usa Hugging Face?"
   ]
  },
  {
   "cell_type": "markdown",
   "id": "527aa92c",
   "metadata": {},
   "source": [
    "Hugging Face se usa principalmente como una plataforma para desplegar, modificar e interactuar con modelos de inteligencia artificial. Veamos cómo podemos empezar a usar Hugging Face:\n",
    "\n",
    "1. Crear una Cuenta: Para acceder a todas las características de Hugging Face, como cargar modelos o contribuir a la comunidad, necesitamos crear una cuenta en su [sitio web](https://huggingface.co/). Además debemos crear un [token](https://huggingface.co/settings/tokens) para tener acceso a algunos modelos desplegados en el hub. Dicho token conviene guardarlo en un archivo `.env` para tenerlo como variable de entorno y no compartirlo con nadie, añadiendo dicho archivo a un `.gitignore`, por ejemplo.\n",
    "\n",
    "2. Explorar Modelos: Podemos explorar una amplia variedad de modelos disponibles en el hub de Hugging Face. Encontraremos modelos pre-entrenados en una serie de tareas como traducción de texto, reconocimiento de voz, análisis de sentimiento, etc...\n",
    "\n",
    "3. Uso de la Biblioteca transformers: Aunque Hugging Face hace uso de varias librerías, la librería `transformers` es una de las herramientas más potentes que posee. Te permite implementar modelos pre-entrenados con solo unas líneas de código. Para instalarla tendremos que ejecutar el siguiente código por terminal:\n",
    "\n",
    "```bash\n",
    "pip install transformer\n",
    "```\n",
    "\n",
    "A continuación, veamos un ejemplo básico de cómo cargar y usar un modelo para la clasificación de texto. Este código configura un \"pipeline\" de análisis de sentimiento y clasifica un texto proporcionado."
   ]
  },
  {
   "cell_type": "code",
   "execution_count": 2,
   "id": "8b642e63",
   "metadata": {},
   "outputs": [
    {
     "name": "stderr",
     "output_type": "stream",
     "text": [
      "No model was supplied, defaulted to distilbert/distilbert-base-uncased-finetuned-sst-2-english and revision af0f99b (https://huggingface.co/distilbert/distilbert-base-uncased-finetuned-sst-2-english).\n",
      "Using a pipeline without specifying a model name and revision in production is not recommended.\n",
      "Hardware accelerator e.g. GPU is available in the environment, but no `device` argument is passed to the `Pipeline` object. Model will be on CPU.\n"
     ]
    },
    {
     "name": "stdout",
     "output_type": "stream",
     "text": [
      "[{'label': 'POSITIVE', 'score': 0.9591909050941467}]\n"
     ]
    }
   ],
   "source": [
    "from transformers import pipeline\n",
    "\n",
    "\n",
    "clasificador = pipeline('sentiment-analysis')\n",
    "\n",
    "\n",
    "respuesta = clasificador('Me gusta aprender IA')\n",
    "\n",
    "\n",
    "print(respuesta)"
   ]
  },
  {
   "cell_type": "markdown",
   "id": "2fc696a4",
   "metadata": {},
   "source": [
    "4. Ajustar y Personalizar Modelos: Si necesitamos personalizar un modelo para nuestros datos específicos, se puede ajustar un modelo pre-entrenado. Esto implica entrenar el modelo con nuestro conjunto de datos. Hugging Face proporciona guías y herramientas para facilitar este proceso.\n",
    "\n",
    "5. Desplegar Modelos: Hugging Face ofrece \"Spaces\" que son una forma de crear aplicaciones de IA directamente en la plataforma y compartirlas con otros. Podemos usar tecnologías como Streamlit o Gradio para crear interfaces de usuario interactivas para nuestros modelos.\n",
    "\n",
    "6. Participar en la Comunidad: Hugging Face no solo es una biblioteca o un repositorio de modelos, sino también una comunidad. Podemos participar en discusiones, colaborar en proyectos y compartir nuestros modelos entrenados con otros.\n",
    "\n",
    "Hugging Face hace que sea relativamente sencillo para los desarrolladores y científicos de datos acceder a la tecnología de IA de última generación y usarla en aplicaciones reales, proporcionando documentación extensa y ejemplos para ayudar a los usuarios a comenzar y avanzar en sus proyectos."
   ]
  },
  {
   "cell_type": "markdown",
   "id": "1756849e",
   "metadata": {},
   "source": [
    "## 7 - Obtener Token de Hugging Face"
   ]
  },
  {
   "cell_type": "markdown",
   "id": "f740fc34",
   "metadata": {},
   "source": [
    "Para el uso de algunos de los modelos del hub de Hugging Face, es necesario obtener el token de acceso. Primero tenemos que registranos en la [página web](https://huggingface.co/) y a continuación obtener el [token](https://huggingface.co/settings/tokens) de acceso. Guardaremos dicho token en un archivo `.env` y añadimos dicho archivo al `.gitignore` del repositorio para que nadie pueda ver ni usar nuestro token. Para cargar el token en el código, usaremos la librería `dotenv` para guardarlo como variable de entorno."
   ]
  },
  {
   "cell_type": "code",
   "execution_count": 3,
   "id": "b71065c3",
   "metadata": {},
   "outputs": [
    {
     "data": {
      "text/plain": [
       "True"
      ]
     },
     "execution_count": 3,
     "metadata": {},
     "output_type": "execute_result"
    }
   ],
   "source": [
    "import os\n",
    "from dotenv import load_dotenv\n",
    "\n",
    "load_dotenv()"
   ]
  },
  {
   "cell_type": "code",
   "execution_count": 4,
   "id": "04e6f9bf",
   "metadata": {},
   "outputs": [],
   "source": [
    "token = os.getenv('HUGGING_FACE_TOKEN')"
   ]
  },
  {
   "cell_type": "code",
   "execution_count": null,
   "id": "89156677",
   "metadata": {},
   "outputs": [],
   "source": []
  },
  {
   "cell_type": "code",
   "execution_count": null,
   "id": "0620857a",
   "metadata": {},
   "outputs": [],
   "source": []
  },
  {
   "cell_type": "code",
   "execution_count": null,
   "id": "9d49f2f5",
   "metadata": {},
   "outputs": [],
   "source": []
  }
 ],
 "metadata": {
  "kernelspec": {
   "display_name": "ia",
   "language": "python",
   "name": "ia"
  },
  "language_info": {
   "codemirror_mode": {
    "name": "ipython",
    "version": 3
   },
   "file_extension": ".py",
   "mimetype": "text/x-python",
   "name": "python",
   "nbconvert_exporter": "python",
   "pygments_lexer": "ipython3",
   "version": "3.9.19"
  },
  "toc": {
   "base_numbering": 1,
   "nav_menu": {},
   "number_sections": false,
   "sideBar": true,
   "skip_h1_title": true,
   "title_cell": "Tabla de Contenidos",
   "title_sidebar": "Contents",
   "toc_cell": true,
   "toc_position": {
    "height": "599px",
    "left": "163px",
    "top": "111.141px",
    "width": "302.378px"
   },
   "toc_section_display": true,
   "toc_window_display": true
  }
 },
 "nbformat": 4,
 "nbformat_minor": 5
}
