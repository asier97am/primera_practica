{
 "cells": [
  {
   "cell_type": "markdown",
   "id": "ef1277f1",
   "metadata": {},
   "source": [
    "# 1 - Recursividad\n",
    "\n",
    "<br>\n",
    "<br>\n",
    "\n",
    "<img src=\"https://raw.githubusercontent.com/Hack-io-AI/ai_images/main/python_functional.webp\" style=\"width:400px;\"/>"
   ]
  },
  {
   "cell_type": "markdown",
   "id": "ec8b51c4",
   "metadata": {
    "toc": true
   },
   "source": [
    "<h1>Tabla de Contenidos<span class=\"tocSkip\"></span></h1>\n",
    "<div class=\"toc\"><ul class=\"toc-item\"><li><span><a href=\"#1---Filosofía-de-la-programación-funcional\" data-toc-modified-id=\"1---Filosofía-de-la-programación-funcional-1\">1 - Filosofía de la programación funcional</a></span></li><li><span><a href=\"#2---Ejemplo-de-programación-funcional\" data-toc-modified-id=\"2---Ejemplo-de-programación-funcional-2\">2 - Ejemplo de programación funcional</a></span></li><li><span><a href=\"#3---Recursividad\" data-toc-modified-id=\"3---Recursividad-3\">3 - Recursividad</a></span></li></ul></div>"
   ]
  },
  {
   "cell_type": "markdown",
   "id": "eca78bde",
   "metadata": {},
   "source": [
    "## 1 - Filosofía de la programación funcional"
   ]
  },
  {
   "cell_type": "markdown",
   "id": "f7b5bf41",
   "metadata": {},
   "source": [
    "En la programación funcional se hace la distinción entre datos y comportamiento, esto quiere decir que los programas tienen dos partes separadas, las acciones y los datos, funciones que se ejecutan con o sobre los datos. Esto hace que los datos sean inmutables en la programación funcional, a no ser que sean sobreescrito a propósito. Esta metodología es lo que hemos visto hasta ahora.\n",
    "\n",
    "\n",
    "**Beneficios de la Programación Funcional**\n",
    "\n",
    "+ **Predecibilidad**: Las funciones puras son predecibles porque siempre producen la misma salida para la misma entrada.\n",
    "\n",
    "+ **Facilidad de depuración y pruebas**: La inmutabilidad y la falta de efectos secundarios hacen que el código sea más fácil de depurar y probar.\n",
    "\n",
    "+ **Paralelismo**: La inmutabilidad facilita la ejecución en paralelo, ya que no hay riesgos de condiciones de carrera.\n",
    "\n",
    "+ **Abstracción**: Una función podría funcionar como una caja negra, donde nosotros no comprendemos su funcionamiento interno, pero somos capaces de usarla y trabajar con su resultado.\n",
    "\n",
    "+ **Modularización**: Las funciones tienen un objetivo específico, realizan una acción, para luego poder construir un proceso completo con varias funciones, varios pasos dentro del mismo. \n",
    "\n",
    "+ **Reusabilidad**: Las funciones pueden ser utilizadas cuantas veces sea necesario, son módulos independientes.\n"
   ]
  },
  {
   "cell_type": "markdown",
   "id": "11df75a7",
   "metadata": {},
   "source": [
    "## 2 - Ejemplo de programación funcional"
   ]
  },
  {
   "cell_type": "markdown",
   "id": "0d45d4c6",
   "metadata": {},
   "source": [
    "Veamos un ejemplo. Supongamos que somos trabajodores autónomos y queremos crear una factura. Desde los valores en bruto vamos a crear una factura con la retención a Hacienda y el IVA (Impuesto Valor Añadido). Además tendremos en cuenta a los colaboradores, es decir, el número de socios que podemos tener en el proyecto. Para hacer esto necesitamos las funciones operativas básicas, suma, resta, multiplicación y división, y una función que nos cree la factura con el desglose de todos sus atributos. Esa última función usará internamente las anteriores, dejando inmutables los datos del bruto."
   ]
  },
  {
   "cell_type": "code",
   "execution_count": 1,
   "id": "0e632593",
   "metadata": {},
   "outputs": [],
   "source": [
    "# datos en bruto\n",
    "\n",
    "bruto = [122.89, 345.67, 987.34, 678.09]"
   ]
  },
  {
   "cell_type": "code",
   "execution_count": 2,
   "id": "47ec9bfe",
   "metadata": {},
   "outputs": [],
   "source": [
    "# funciones operativas\n",
    "\n",
    "def sumar(a, b):\n",
    "    return a+b\n",
    "\n",
    "\n",
    "\n",
    "def restar(a, b):\n",
    "    return a-b\n",
    "\n",
    "\n",
    "def multi(a, b):\n",
    "    return a*b\n",
    "\n",
    "\n",
    "def divi(a, b):\n",
    "    return a/b"
   ]
  },
  {
   "cell_type": "code",
   "execution_count": 3,
   "id": "7018608d",
   "metadata": {},
   "outputs": [],
   "source": [
    "# funcion para la factura\n",
    "\n",
    "\n",
    "def facturar(precio):\n",
    "    \n",
    "    precio = sumar(precio, 1.2)   # gastos fijos\n",
    "    \n",
    "    precio = divi(precio, 3)      # tengo 2 socios\n",
    "    \n",
    "    tax = multi(precio, 0.21)     # iva\n",
    "    \n",
    "    ret = multi(precio, 0.18)     # irpf\n",
    "    \n",
    "    \n",
    "    precio = sumar(precio, tax)\n",
    "    \n",
    "    precio = sumar(precio, ret)\n",
    "    \n",
    "    return {'precio': precio, 'tax': tax, 'ret': ret}"
   ]
  },
  {
   "cell_type": "code",
   "execution_count": 4,
   "id": "c2d5201e",
   "metadata": {},
   "outputs": [
    {
     "data": {
      "text/plain": [
       "[{'precio': 57.49503333333334, 'tax': 8.686300000000001, 'ret': 7.4454},\n",
       " {'precio': 160.71643333333333, 'tax': 24.2809, 'ret': 20.8122},\n",
       " {'precio': 458.0235333333334, 'tax': 69.1978, 'ret': 59.312400000000004},\n",
       " {'precio': 314.7377000000001,\n",
       "  'tax': 47.55030000000001,\n",
       "  'ret': 40.757400000000004}]"
      ]
     },
     "execution_count": 4,
     "metadata": {},
     "output_type": "execute_result"
    }
   ],
   "source": [
    "# para todos los brutos, calcula factura\n",
    "\n",
    "res = []\n",
    "\n",
    "\n",
    "for e in bruto:\n",
    "    \n",
    "    calculo = facturar(e)\n",
    "    \n",
    "    res.append(calculo)\n",
    "    \n",
    "res"
   ]
  },
  {
   "cell_type": "code",
   "execution_count": 5,
   "id": "5764e79b",
   "metadata": {},
   "outputs": [
    {
     "data": {
      "text/plain": [
       "[122.89, 345.67, 987.34, 678.09]"
      ]
     },
     "execution_count": 5,
     "metadata": {},
     "output_type": "execute_result"
    }
   ],
   "source": [
    "# bruto no ha sido modificado\n",
    "\n",
    "bruto"
   ]
  },
  {
   "cell_type": "markdown",
   "id": "d771b462",
   "metadata": {},
   "source": [
    "## 3 - Recursividad"
   ]
  },
  {
   "cell_type": "markdown",
   "id": "a951a823",
   "metadata": {},
   "source": [
    "La recursividad es una técnica en programación donde una función se llama a sí misma para resolver un problema. Es una forma poderosa de resolver problemas que pueden ser divididos en subproblemas más pequeños del mismo tipo. En Python, como en muchos otros lenguajes de programación, la recursividad se usa comúnmente para trabajar con estructuras de datos como listas, árboles y grafos, así como para resolver problemas algorítmicos.\n",
    "\n",
    "**Conceptos clave de la recursividad**:\n",
    "\n",
    "\n",
    "1. **Caso base**: Es la condición en la que la recursión termina. Sin un caso base, la función recursiva se llamaría a sí misma indefinidamente, provocando un desbordamiento de memoria (stack overflow).\n",
    "\n",
    "\n",
    "2. **Caso recursivo**: Es la parte de la función que se llama a sí misma con una versión simplificada o reducida del problema original.\n"
   ]
  },
  {
   "cell_type": "markdown",
   "id": "c616aac0",
   "metadata": {},
   "source": [
    "**Ejemplo: Factorial de un número**\n",
    "\n",
    "El factorial de un número $n$, denotado como $n!$, es el producto de todos los números enteros positivos menores o iguales a $n$.\n",
    "\n",
    "\n",
    "$$n!=n×(n−1)!$$\n",
    "\n",
    "Donde el caso base es $0! = 1$."
   ]
  },
  {
   "cell_type": "code",
   "execution_count": 6,
   "id": "d1761a58",
   "metadata": {},
   "outputs": [],
   "source": [
    "def factorial(n):\n",
    "    \n",
    "    # caso base\n",
    "    if n == 0:\n",
    "        return 1\n",
    "    \n",
    "    # caso recursivo\n",
    "    else:\n",
    "        return n * factorial(n - 1)"
   ]
  },
  {
   "cell_type": "code",
   "execution_count": 8,
   "id": "b5217cb7",
   "metadata": {},
   "outputs": [
    {
     "data": {
      "text/plain": [
       "120"
      ]
     },
     "execution_count": 8,
     "metadata": {},
     "output_type": "execute_result"
    }
   ],
   "source": [
    "factorial(5)"
   ]
  },
  {
   "cell_type": "markdown",
   "id": "c46fbdeb",
   "metadata": {},
   "source": [
    "**Ejemplo : Fibonacci**\n",
    "\n",
    "La secuencia de Fibonacci es una serie de números en la que cada número es la suma de los dos anteriores. Comienza con 0 y 1.\n",
    "\n",
    "\n",
    "$$F(n)=F(n−1)+F(n−2)$$\n",
    "\n",
    "Donde los casos base son $F(0) = 0$ y $F(1) = 1$."
   ]
  },
  {
   "cell_type": "code",
   "execution_count": 9,
   "id": "3ae75eae",
   "metadata": {},
   "outputs": [],
   "source": [
    "def fibonacci(n):\n",
    "    \n",
    "    # caso base\n",
    "    if n == 0:\n",
    "        return 0\n",
    "    \n",
    "    # caso base\n",
    "    elif n == 1:\n",
    "        return 1\n",
    "    \n",
    "    # caso recursivo\n",
    "    else:\n",
    "        return fibonacci(n-1) + fibonacci(n-2)"
   ]
  },
  {
   "cell_type": "code",
   "execution_count": 10,
   "id": "6cfa942d",
   "metadata": {},
   "outputs": [
    {
     "data": {
      "text/plain": [
       "0"
      ]
     },
     "execution_count": 10,
     "metadata": {},
     "output_type": "execute_result"
    }
   ],
   "source": [
    "fibonacci(0)"
   ]
  },
  {
   "cell_type": "code",
   "execution_count": 11,
   "id": "9fa3e051",
   "metadata": {},
   "outputs": [
    {
     "data": {
      "text/plain": [
       "1"
      ]
     },
     "execution_count": 11,
     "metadata": {},
     "output_type": "execute_result"
    }
   ],
   "source": [
    "fibonacci(1)"
   ]
  },
  {
   "cell_type": "code",
   "execution_count": 12,
   "id": "6d87f98c",
   "metadata": {},
   "outputs": [
    {
     "data": {
      "text/plain": [
       "1"
      ]
     },
     "execution_count": 12,
     "metadata": {},
     "output_type": "execute_result"
    }
   ],
   "source": [
    "fibonacci(2)"
   ]
  },
  {
   "cell_type": "code",
   "execution_count": 13,
   "id": "108b5bd7",
   "metadata": {},
   "outputs": [
    {
     "data": {
      "text/plain": [
       "2"
      ]
     },
     "execution_count": 13,
     "metadata": {},
     "output_type": "execute_result"
    }
   ],
   "source": [
    "fibonacci(3)"
   ]
  },
  {
   "cell_type": "code",
   "execution_count": 14,
   "id": "7059e74d",
   "metadata": {},
   "outputs": [
    {
     "data": {
      "text/plain": [
       "3"
      ]
     },
     "execution_count": 14,
     "metadata": {},
     "output_type": "execute_result"
    }
   ],
   "source": [
    "fibonacci(4)"
   ]
  },
  {
   "cell_type": "code",
   "execution_count": 15,
   "id": "868f15dc",
   "metadata": {},
   "outputs": [
    {
     "data": {
      "text/plain": [
       "5"
      ]
     },
     "execution_count": 15,
     "metadata": {},
     "output_type": "execute_result"
    }
   ],
   "source": [
    "fibonacci(5)"
   ]
  },
  {
   "cell_type": "code",
   "execution_count": 16,
   "id": "5124e368",
   "metadata": {},
   "outputs": [
    {
     "data": {
      "text/plain": [
       "8"
      ]
     },
     "execution_count": 16,
     "metadata": {},
     "output_type": "execute_result"
    }
   ],
   "source": [
    "fibonacci(6)"
   ]
  },
  {
   "cell_type": "code",
   "execution_count": 17,
   "id": "7b5dac66",
   "metadata": {},
   "outputs": [
    {
     "data": {
      "text/plain": [
       "13"
      ]
     },
     "execution_count": 17,
     "metadata": {},
     "output_type": "execute_result"
    }
   ],
   "source": [
    "fibonacci(7)"
   ]
  },
  {
   "cell_type": "code",
   "execution_count": null,
   "id": "800f48fb",
   "metadata": {},
   "outputs": [],
   "source": []
  }
 ],
 "metadata": {
  "kernelspec": {
   "display_name": "ia",
   "language": "python",
   "name": "ia"
  },
  "language_info": {
   "codemirror_mode": {
    "name": "ipython",
    "version": 3
   },
   "file_extension": ".py",
   "mimetype": "text/x-python",
   "name": "python",
   "nbconvert_exporter": "python",
   "pygments_lexer": "ipython3",
   "version": "3.9.19"
  },
  "toc": {
   "base_numbering": 1,
   "nav_menu": {},
   "number_sections": false,
   "sideBar": true,
   "skip_h1_title": true,
   "title_cell": "Tabla de Contenidos",
   "title_sidebar": "Contents",
   "toc_cell": true,
   "toc_position": {
    "height": "calc(100% - 180px)",
    "left": "10px",
    "top": "150px",
    "width": "295.764px"
   },
   "toc_section_display": true,
   "toc_window_display": true
  }
 },
 "nbformat": 4,
 "nbformat_minor": 5
}
