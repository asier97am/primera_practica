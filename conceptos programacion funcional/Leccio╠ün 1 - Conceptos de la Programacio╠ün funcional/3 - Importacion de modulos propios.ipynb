{
 "cells": [
  {
   "cell_type": "markdown",
   "id": "e7fdba84",
   "metadata": {},
   "source": [
    "# 3 - Importación de módulos propios\n",
    "\n",
    "<br>\n",
    "<br>\n",
    "\n",
    "<img src=\"https://raw.githubusercontent.com/Hack-io-AI/ai_images/main/python_functional.webp\" style=\"width:400px;\"/>"
   ]
  },
  {
   "cell_type": "markdown",
   "id": "c40d6584",
   "metadata": {
    "toc": true
   },
   "source": [
    "<h1>Tabla de Contenidos<span class=\"tocSkip\"></span></h1>\n",
    "<div class=\"toc\"><ul class=\"toc-item\"><li><span><a href=\"#1---Importación-de-módulos-propios\" data-toc-modified-id=\"1---Importación-de-módulos-propios-1\">1 - Importación de módulos propios</a></span></li></ul></div>"
   ]
  },
  {
   "cell_type": "markdown",
   "id": "1afb034e",
   "metadata": {},
   "source": [
    "## 1 - Importación de módulos propios"
   ]
  },
  {
   "cell_type": "markdown",
   "id": "4db10f33",
   "metadata": {},
   "source": [
    "La importación de módulos propios se refiere a la capacidad de importar y utilizar módulos que nosotros mismos hemos escrito, en lugar de, o además de, utilizar los módulos estándar proporcionados por Python o módulos de terceros instalados. Esto es útil para organizar nuestro código en múltiples archivos, lo que mejora la modularidad, la legibilidad y el mantenimiento del código. Tenemos un archivo llamada `funciones.py` en la misma carpeta de este jupyter con ell siguiente contenido:\n",
    "\n",
    "```python\n",
    "def sumar(a, b):\n",
    "    \"\"\"\n",
    "    Hola, estoy en el archivo de python\n",
    "    \n",
    "    \"\"\"\n",
    "    return a+b\n",
    "\n",
    "\n",
    "\n",
    "def restar(a, b):\n",
    "    \"\"\"\n",
    "    Hola, estoy en el archivo de python\n",
    "    \n",
    "    \"\"\"\n",
    "    return a-b\n",
    "\n",
    "\n",
    "\n",
    "def multi(a, b):\n",
    "    \"\"\"\n",
    "    Hola, estoy en el archivo de python\n",
    "    \n",
    "    \"\"\"\n",
    "    return a*b\n",
    "\n",
    "\n",
    "\n",
    "def divi(a, b):\n",
    "    \"\"\"\n",
    "    Hola, estoy en el archivo de python\n",
    "    \n",
    "    \"\"\"\n",
    "    return a/b\n",
    "```\n",
    "\n",
    "Puedes importar y usar este módulo en otro archivo Python o en este jupyter notebook de la siguiente manera:\n"
   ]
  },
  {
   "cell_type": "code",
   "execution_count": 1,
   "id": "cacec6ad",
   "metadata": {},
   "outputs": [],
   "source": [
    "# importamos modulo\n",
    "\n",
    "import funciones"
   ]
  },
  {
   "cell_type": "code",
   "execution_count": 2,
   "id": "db38000d",
   "metadata": {},
   "outputs": [
    {
     "data": {
      "text/plain": [
       "<module 'funciones' from '/Users/tecnico.IA/Desarrolador_IA/Modulo 6 - Python_ Programación funcional/notebooks/Lección 1 - Conceptos de la Programación funcional/funciones.py'>"
      ]
     },
     "execution_count": 2,
     "metadata": {},
     "output_type": "execute_result"
    }
   ],
   "source": [
    "funciones"
   ]
  },
  {
   "cell_type": "markdown",
   "id": "8b439d5e",
   "metadata": {},
   "source": [
    "Desde aquí ya podemos usar las funciones que están dentro de ese archivo:"
   ]
  },
  {
   "cell_type": "code",
   "execution_count": 4,
   "id": "2701f253",
   "metadata": {},
   "outputs": [
    {
     "data": {
      "text/plain": [
       "40"
      ]
     },
     "execution_count": 4,
     "metadata": {},
     "output_type": "execute_result"
    }
   ],
   "source": [
    "# acceso a la funcion multi\n",
    "\n",
    "funciones.multi(8, 5)"
   ]
  },
  {
   "cell_type": "code",
   "execution_count": 5,
   "id": "be240d02",
   "metadata": {},
   "outputs": [
    {
     "name": "stdout",
     "output_type": "stream",
     "text": [
      "Help on function multi in module funciones:\n",
      "\n",
      "multi(a, b)\n",
      "    Hola, estoy en el archivo de python\n",
      "\n"
     ]
    }
   ],
   "source": [
    "help(funciones.multi)"
   ]
  },
  {
   "cell_type": "markdown",
   "id": "89263fad",
   "metadata": {},
   "source": [
    "También podemos importar funciones específicas desde el módulo:"
   ]
  },
  {
   "cell_type": "code",
   "execution_count": 6,
   "id": "5ae52795",
   "metadata": {},
   "outputs": [],
   "source": [
    "# importar funcion divi\n",
    "\n",
    "from funciones import divi"
   ]
  },
  {
   "cell_type": "code",
   "execution_count": 8,
   "id": "97284dce",
   "metadata": {},
   "outputs": [
    {
     "data": {
      "text/plain": [
       "1.6"
      ]
     },
     "execution_count": 8,
     "metadata": {},
     "output_type": "execute_result"
    }
   ],
   "source": [
    "divi(8, 5)"
   ]
  },
  {
   "cell_type": "code",
   "execution_count": 9,
   "id": "6b7c0376",
   "metadata": {},
   "outputs": [
    {
     "name": "stdout",
     "output_type": "stream",
     "text": [
      "Help on function divi in module funciones:\n",
      "\n",
      "divi(a, b)\n",
      "    Hola, estoy en el archivo de python\n",
      "\n"
     ]
    }
   ],
   "source": [
    "help(divi)"
   ]
  },
  {
   "cell_type": "markdown",
   "id": "33e4f401",
   "metadata": {},
   "source": [
    "Podríamos importar todas las funciones del módulo usando `*`:"
   ]
  },
  {
   "cell_type": "code",
   "execution_count": 10,
   "id": "a74d8a55",
   "metadata": {},
   "outputs": [],
   "source": [
    "from funciones import *"
   ]
  },
  {
   "cell_type": "code",
   "execution_count": 11,
   "id": "fa658100",
   "metadata": {},
   "outputs": [
    {
     "name": "stdout",
     "output_type": "stream",
     "text": [
      "Help on function restar in module funciones:\n",
      "\n",
      "restar(a, b)\n",
      "    Hola, estoy en el archivo de python\n",
      "\n"
     ]
    }
   ],
   "source": [
    "help(restar)"
   ]
  },
  {
   "cell_type": "markdown",
   "id": "d334c9a0",
   "metadata": {},
   "source": [
    "Al importar un módulo completo se suele usar un alias con el objetivo de escribir menos en el resto del código. Dicho alias es el que nosotros queramos, es decir, podemos ponerle el nombre que deseemos al módulo:"
   ]
  },
  {
   "cell_type": "code",
   "execution_count": 14,
   "id": "7c8d2191",
   "metadata": {},
   "outputs": [],
   "source": [
    "import funciones as f"
   ]
  },
  {
   "cell_type": "code",
   "execution_count": 16,
   "id": "6a1d5b16",
   "metadata": {},
   "outputs": [
    {
     "data": {
      "text/plain": [
       "-1"
      ]
     },
     "execution_count": 16,
     "metadata": {},
     "output_type": "execute_result"
    }
   ],
   "source": [
    "f.restar(8, 9)"
   ]
  },
  {
   "cell_type": "markdown",
   "id": "54ba42ed",
   "metadata": {},
   "source": [
    "Para organizar mejor el código, se suelen crear carpetas para las distintas necesidades de nuestro código. Importar un módulo desde una carpeta es igual de fácil que antes, solamente tenemos que nombrar la carpeta a la hora de importar el módulo. En esta misma carpeta tenemos un carpeta llamada `src`, source code, en la cual volvemos a tener ese archivo de funciones. Vamos a usar las funciones que contiene:"
   ]
  },
  {
   "cell_type": "code",
   "execution_count": 17,
   "id": "ae0718e5",
   "metadata": {},
   "outputs": [],
   "source": [
    "from src.funciones import *"
   ]
  },
  {
   "cell_type": "code",
   "execution_count": 18,
   "id": "16f898ad",
   "metadata": {},
   "outputs": [
    {
     "name": "stdout",
     "output_type": "stream",
     "text": [
      "Help on function sumar in module src.funciones:\n",
      "\n",
      "sumar(a, b)\n",
      "    Funcion para sumar en python src\n",
      "\n"
     ]
    }
   ],
   "source": [
    "help(sumar)"
   ]
  },
  {
   "cell_type": "markdown",
   "id": "a43aedcd",
   "metadata": {},
   "source": [
    "Por último, podemos importar un jupyter en otro jupyter. Para ello primero tenemos que hacer la siguiente instalación:\n",
    "\n",
    "```bash\n",
    "pip install import_ipynb\n",
    "```\n",
    "\n",
    "Una vez instalada podemos ejecutar el siguiente código para importar funciones o variables desde un jupyter:"
   ]
  },
  {
   "cell_type": "code",
   "execution_count": 19,
   "id": "ea98427c",
   "metadata": {},
   "outputs": [
    {
     "name": "stdout",
     "output_type": "stream",
     "text": [
      "Requirement already satisfied: import_ipynb in /opt/anaconda3/envs/ia/lib/python3.9/site-packages (0.1.4)\n",
      "Requirement already satisfied: IPython in /opt/anaconda3/envs/ia/lib/python3.9/site-packages (from import_ipynb) (8.18.1)\n",
      "Requirement already satisfied: nbformat in /opt/anaconda3/envs/ia/lib/python3.9/site-packages (from import_ipynb) (5.10.4)\n",
      "Requirement already satisfied: decorator in /opt/anaconda3/envs/ia/lib/python3.9/site-packages (from IPython->import_ipynb) (5.1.1)\n",
      "Requirement already satisfied: jedi>=0.16 in /opt/anaconda3/envs/ia/lib/python3.9/site-packages (from IPython->import_ipynb) (0.19.1)\n",
      "Requirement already satisfied: matplotlib-inline in /opt/anaconda3/envs/ia/lib/python3.9/site-packages (from IPython->import_ipynb) (0.1.6)\n",
      "Requirement already satisfied: prompt-toolkit<3.1.0,>=3.0.41 in /opt/anaconda3/envs/ia/lib/python3.9/site-packages (from IPython->import_ipynb) (3.0.43)\n",
      "Requirement already satisfied: pygments>=2.4.0 in /opt/anaconda3/envs/ia/lib/python3.9/site-packages (from IPython->import_ipynb) (2.17.2)\n",
      "Requirement already satisfied: stack-data in /opt/anaconda3/envs/ia/lib/python3.9/site-packages (from IPython->import_ipynb) (0.2.0)\n",
      "Requirement already satisfied: traitlets>=5 in /opt/anaconda3/envs/ia/lib/python3.9/site-packages (from IPython->import_ipynb) (5.9.0)\n",
      "Requirement already satisfied: typing-extensions in /opt/anaconda3/envs/ia/lib/python3.9/site-packages (from IPython->import_ipynb) (4.11.0)\n",
      "Requirement already satisfied: exceptiongroup in /opt/anaconda3/envs/ia/lib/python3.9/site-packages (from IPython->import_ipynb) (1.2.0)\n",
      "Requirement already satisfied: pexpect>4.3 in /opt/anaconda3/envs/ia/lib/python3.9/site-packages (from IPython->import_ipynb) (4.8.0)\n",
      "Requirement already satisfied: fastjsonschema>=2.15 in /opt/anaconda3/envs/ia/lib/python3.9/site-packages (from nbformat->import_ipynb) (2.16.2)\n",
      "Requirement already satisfied: jsonschema>=2.6 in /opt/anaconda3/envs/ia/lib/python3.9/site-packages (from nbformat->import_ipynb) (4.19.2)\n",
      "Requirement already satisfied: jupyter-core!=5.0.*,>=4.12 in /opt/anaconda3/envs/ia/lib/python3.9/site-packages (from nbformat->import_ipynb) (5.7.2)\n",
      "Requirement already satisfied: parso<0.9.0,>=0.8.3 in /opt/anaconda3/envs/ia/lib/python3.9/site-packages (from jedi>=0.16->IPython->import_ipynb) (0.8.3)\n",
      "Requirement already satisfied: attrs>=22.2.0 in /opt/anaconda3/envs/ia/lib/python3.9/site-packages (from jsonschema>=2.6->nbformat->import_ipynb) (23.2.0)\n",
      "Requirement already satisfied: jsonschema-specifications>=2023.03.6 in /opt/anaconda3/envs/ia/lib/python3.9/site-packages (from jsonschema>=2.6->nbformat->import_ipynb) (2023.12.1)\n",
      "Requirement already satisfied: referencing>=0.28.4 in /opt/anaconda3/envs/ia/lib/python3.9/site-packages (from jsonschema>=2.6->nbformat->import_ipynb) (0.34.0)\n",
      "Requirement already satisfied: rpds-py>=0.7.1 in /opt/anaconda3/envs/ia/lib/python3.9/site-packages (from jsonschema>=2.6->nbformat->import_ipynb) (0.10.6)\n",
      "Requirement already satisfied: platformdirs>=2.5 in /opt/anaconda3/envs/ia/lib/python3.9/site-packages (from jupyter-core!=5.0.*,>=4.12->nbformat->import_ipynb) (3.10.0)\n",
      "Requirement already satisfied: ptyprocess>=0.5 in /opt/anaconda3/envs/ia/lib/python3.9/site-packages (from pexpect>4.3->IPython->import_ipynb) (0.7.0)\n",
      "Requirement already satisfied: wcwidth in /opt/anaconda3/envs/ia/lib/python3.9/site-packages (from prompt-toolkit<3.1.0,>=3.0.41->IPython->import_ipynb) (0.2.13)\n",
      "Requirement already satisfied: executing in /opt/anaconda3/envs/ia/lib/python3.9/site-packages (from stack-data->IPython->import_ipynb) (0.8.3)\n",
      "Requirement already satisfied: asttokens in /opt/anaconda3/envs/ia/lib/python3.9/site-packages (from stack-data->IPython->import_ipynb) (2.0.5)\n",
      "Requirement already satisfied: pure-eval in /opt/anaconda3/envs/ia/lib/python3.9/site-packages (from stack-data->IPython->import_ipynb) (0.2.2)\n",
      "Requirement already satisfied: six in /opt/anaconda3/envs/ia/lib/python3.9/site-packages (from asttokens->stack-data->IPython->import_ipynb) (1.16.0)\n",
      "Note: you may need to restart the kernel to use updated packages.\n"
     ]
    }
   ],
   "source": [
    "%pip install import_ipynb"
   ]
  },
  {
   "cell_type": "code",
   "execution_count": 20,
   "id": "0f8b0776",
   "metadata": {},
   "outputs": [],
   "source": [
    "import import_ipynb"
   ]
  },
  {
   "cell_type": "code",
   "execution_count": 21,
   "id": "f97bb5c1",
   "metadata": {},
   "outputs": [
    {
     "name": "stdout",
     "output_type": "stream",
     "text": [
      "importing Jupyter notebook from /Users/tecnico.IA/Desarrolador_IA/Modulo 6 - Python_ Programación funcional/notebooks/Lección 1 - Conceptos de la Programación funcional/src/funciones_jup.ipynb\n"
     ]
    }
   ],
   "source": [
    "# importo un jupyter sobre otro\n",
    "\n",
    "from src.funciones_jup import *"
   ]
  },
  {
   "cell_type": "code",
   "execution_count": 22,
   "id": "a60b1d16",
   "metadata": {},
   "outputs": [
    {
     "data": {
      "text/plain": [
       "11"
      ]
     },
     "execution_count": 22,
     "metadata": {},
     "output_type": "execute_result"
    }
   ],
   "source": [
    "sumar_jup(5, 6)"
   ]
  },
  {
   "cell_type": "code",
   "execution_count": 23,
   "id": "a8c088a3",
   "metadata": {},
   "outputs": [
    {
     "name": "stdout",
     "output_type": "stream",
     "text": [
      "Help on function restar_jup in module src.funciones_jup:\n",
      "\n",
      "restar_jup(a, b)\n",
      "\n"
     ]
    }
   ],
   "source": [
    "help(restar_jup)"
   ]
  },
  {
   "cell_type": "code",
   "execution_count": 24,
   "id": "47167ede",
   "metadata": {},
   "outputs": [
    {
     "data": {
      "text/plain": [
       "45"
      ]
     },
     "execution_count": 24,
     "metadata": {},
     "output_type": "execute_result"
    }
   ],
   "source": [
    "VAR"
   ]
  },
  {
   "cell_type": "code",
   "execution_count": null,
   "id": "78b4b5b7",
   "metadata": {},
   "outputs": [],
   "source": []
  }
 ],
 "metadata": {
  "kernelspec": {
   "display_name": "ia",
   "language": "python",
   "name": "ia"
  },
  "language_info": {
   "codemirror_mode": {
    "name": "ipython",
    "version": 3
   },
   "file_extension": ".py",
   "mimetype": "text/x-python",
   "name": "python",
   "nbconvert_exporter": "python",
   "pygments_lexer": "ipython3",
   "version": "3.9.19"
  },
  "toc": {
   "base_numbering": 1,
   "nav_menu": {},
   "number_sections": false,
   "sideBar": true,
   "skip_h1_title": true,
   "title_cell": "Tabla de Contenidos",
   "title_sidebar": "Contents",
   "toc_cell": true,
   "toc_position": {
    "height": "calc(100% - 180px)",
    "left": "10px",
    "top": "150px",
    "width": "294.757px"
   },
   "toc_section_display": true,
   "toc_window_display": true
  }
 },
 "nbformat": 4,
 "nbformat_minor": 5
}
