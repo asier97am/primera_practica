{
 "cells": [
  {
   "cell_type": "markdown",
   "id": "0e503e47",
   "metadata": {},
   "source": [
    "# 2 - Decoradores\n",
    "\n",
    "<br>\n",
    "<br>\n",
    "\n",
    "<img src=\"https://raw.githubusercontent.com/Hack-io-AI/ai_images/main/python_functional.webp\" style=\"width:400px;\"/>"
   ]
  },
  {
   "cell_type": "markdown",
   "id": "89b8e834",
   "metadata": {
    "toc": true
   },
   "source": [
    "<h1>Tabla de Contenidos<span class=\"tocSkip\"></span></h1>\n",
    "<div class=\"toc\"><ul class=\"toc-item\"><li><span><a href=\"#1---Decoradores\" data-toc-modified-id=\"1---Decoradores-1\">1 - Decoradores</a></span></li></ul></div>"
   ]
  },
  {
   "cell_type": "markdown",
   "id": "de159778",
   "metadata": {},
   "source": [
    "## 1 - Decoradores"
   ]
  },
  {
   "cell_type": "markdown",
   "id": "c73a031a",
   "metadata": {},
   "source": [
    "Los decoradores en Python son una característica poderosa y flexible que permite modificar el comportamiento de las funciones. Los decoradores son funciones que toman otra función como argumento y devuelven una nueva función que generalmente extiende el comportamiento de la original sin modificar su estructura. Se usan comúnmente para la validación, el registro, la sincronización y la gestión de acceso, entre otras cosas. Resumiendo, un decorador es un envoltorio de una función para extender su funcionamiento.\n",
    "\n",
    "\n",
    "**Conceptos clave de los decoradores**\n",
    "\n",
    "\n",
    "1. **Funciones de orden superior**: Una función de orden superior es aquella que acepta una función como argumento o devuelve una función como resultado.\n",
    "\n",
    "\n",
    "2. **Funciones anidadas**: Una función anidada es una función definida dentro de otra función. Las funciones anidadas pueden acceder a las variables locales de la función contenedora.\n",
    "\n",
    "\n",
    "3. **Clausuras (Closures)**: Una clausura es una función que recuerda el entorno en el cual fue creada. Esto significa que puede acceder a las variables de dicho entorno incluso después de que la función contenedora haya terminado su ejecución."
   ]
  },
  {
   "cell_type": "markdown",
   "id": "52d13c27",
   "metadata": {},
   "source": [
    "**Ejemplo básico**"
   ]
  },
  {
   "cell_type": "code",
   "execution_count": 4,
   "id": "abb27af0",
   "metadata": {},
   "outputs": [],
   "source": [
    "# definir decorador\n",
    "\n",
    "def decorador(funcion):\n",
    "    \n",
    "    def anidada(*args, **kwargs):\n",
    "        \n",
    "        print('Algo antes de la funcion')\n",
    "        \n",
    "        resultado = funcion(*args, **kwargs)\n",
    "        \n",
    "        print('Algo despues de la funcion')\n",
    "        \n",
    "        return resultado\n",
    "    \n",
    "    return anidada"
   ]
  },
  {
   "cell_type": "code",
   "execution_count": 5,
   "id": "0b6eb2a8",
   "metadata": {},
   "outputs": [],
   "source": [
    "# funcion normal decorada\n",
    "\n",
    "@decorador\n",
    "def saludar(nombre):\n",
    "    print(f'Hola {nombre}')\n"
   ]
  },
  {
   "cell_type": "code",
   "execution_count": 6,
   "id": "dfc3f484",
   "metadata": {},
   "outputs": [
    {
     "name": "stdout",
     "output_type": "stream",
     "text": [
      "Algo antes de la funcion\n",
      "Hola Pepe\n",
      "Algo despues de la funcion\n"
     ]
    }
   ],
   "source": [
    "# llamada\n",
    "\n",
    "saludar('Pepe')"
   ]
  },
  {
   "cell_type": "markdown",
   "id": "57eb2a1d",
   "metadata": {},
   "source": [
    "Este mismo ejemplo se usa para debuggear una función, es decir, el proceso para encontrar y corregir los errores que la función pudiera tener, simplemente realizando los prints de los argumentos de entrada y el return de la función antes de devolver la propia función para el código continue."
   ]
  },
  {
   "cell_type": "code",
   "execution_count": 7,
   "id": "75de9118",
   "metadata": {},
   "outputs": [],
   "source": [
    "# definir decorador\n",
    "\n",
    "\n",
    "def debug(fn):\n",
    "    \n",
    "    def wrap(*args, **kwargs):\n",
    "        print('Args:', args)\n",
    "        print('Kwargs:', kwargs)\n",
    "        print('Return:', fn(*args, **kwargs))\n",
    "        \n",
    "        return fn(*args, **kwargs)\n",
    "    \n",
    "    return wrap"
   ]
  },
  {
   "cell_type": "code",
   "execution_count": 8,
   "id": "74ec0fde",
   "metadata": {},
   "outputs": [],
   "source": [
    "# funcion decorada\n",
    "\n",
    "@debug\n",
    "def multi(a, b, c=0, d=True):\n",
    "    \n",
    "    return a*b"
   ]
  },
  {
   "cell_type": "code",
   "execution_count": 14,
   "id": "4fa6b87a",
   "metadata": {},
   "outputs": [
    {
     "name": "stdout",
     "output_type": "stream",
     "text": [
      "Args: (9, 4)\n",
      "Kwargs: {'c': 90, 'd': False}\n",
      "Return: 36\n"
     ]
    }
   ],
   "source": [
    "# llamada a funcion\n",
    "\n",
    "num = multi(9, 4, **{'c':90, 'd':False})"
   ]
  },
  {
   "cell_type": "code",
   "execution_count": 15,
   "id": "0c3d6816",
   "metadata": {},
   "outputs": [
    {
     "name": "stdout",
     "output_type": "stream",
     "text": [
      "36\n"
     ]
    }
   ],
   "source": [
    "print(num)"
   ]
  },
  {
   "cell_type": "markdown",
   "id": "6810d6f8",
   "metadata": {},
   "source": [
    "A veces es necesario que el decorador acepte sus propios parámetros. Para ello, se necesita una función adicional que acepte esos parámetros y devuelva el decorador real."
   ]
  },
  {
   "cell_type": "code",
   "execution_count": 16,
   "id": "a9f108ef",
   "metadata": {},
   "outputs": [],
   "source": [
    "# definir decorador\n",
    "\n",
    "def repetidor(veces):\n",
    "    \n",
    "    def debug(fn):\n",
    "    \n",
    "        def wrap(*args, **kwargs):\n",
    "            \n",
    "            for _ in range(veces):\n",
    "                \n",
    "                resultado = fn(*args, **kwargs)\n",
    "\n",
    "            return resultado\n",
    "\n",
    "        return wrap\n",
    "    \n",
    "    return debug"
   ]
  },
  {
   "cell_type": "code",
   "execution_count": 19,
   "id": "bdec2bdb",
   "metadata": {},
   "outputs": [],
   "source": [
    "@repetidor(5)\n",
    "def saludar(nombre):\n",
    "    print(f'Hola {nombre}')\n"
   ]
  },
  {
   "cell_type": "code",
   "execution_count": 20,
   "id": "53e99721",
   "metadata": {},
   "outputs": [
    {
     "name": "stdout",
     "output_type": "stream",
     "text": [
      "Hola Pepe\n",
      "Hola Pepe\n",
      "Hola Pepe\n",
      "Hola Pepe\n",
      "Hola Pepe\n"
     ]
    }
   ],
   "source": [
    "saludar('Pepe')"
   ]
  },
  {
   "cell_type": "markdown",
   "id": "cc3b8a9f",
   "metadata": {},
   "source": [
    "Podemos aplicar múltiples decoradores a una sola función. Los decoradores se aplican en el orden en que aparecen, de arriba hacia abajo."
   ]
  },
  {
   "cell_type": "code",
   "execution_count": 25,
   "id": "b063fe74",
   "metadata": {},
   "outputs": [],
   "source": [
    "# decoradores\n",
    "\n",
    "\n",
    "def deco1(func):\n",
    "    \n",
    "    def wrap(*args, **kwargs):\n",
    "        \n",
    "        print('Decorador 1')\n",
    "        \n",
    "        return func(*args, **kwargs)\n",
    "    \n",
    "    return wrap\n",
    "\n",
    "\n",
    "\n",
    "def deco2(func):\n",
    "    \n",
    "    def wrap(*args, **kwargs):\n",
    "        \n",
    "        print('Decorador 2')\n",
    "        \n",
    "        return func(*args, **kwargs)\n",
    "    \n",
    "    return wrap"
   ]
  },
  {
   "cell_type": "code",
   "execution_count": 26,
   "id": "91a693ec",
   "metadata": {},
   "outputs": [],
   "source": [
    "@deco1\n",
    "@deco2\n",
    "def saludar(nombre):\n",
    "    print(f'Hola {nombre}')\n"
   ]
  },
  {
   "cell_type": "code",
   "execution_count": 27,
   "id": "d77081d4",
   "metadata": {},
   "outputs": [
    {
     "name": "stdout",
     "output_type": "stream",
     "text": [
      "Decorador 1\n",
      "Decorador 2\n",
      "Hola Maria\n"
     ]
    }
   ],
   "source": [
    "saludar('Maria')"
   ]
  },
  {
   "cell_type": "code",
   "execution_count": null,
   "id": "1b5ee6cf",
   "metadata": {},
   "outputs": [],
   "source": []
  }
 ],
 "metadata": {
  "kernelspec": {
   "display_name": "ia",
   "language": "python",
   "name": "ia"
  },
  "language_info": {
   "codemirror_mode": {
    "name": "ipython",
    "version": 3
   },
   "file_extension": ".py",
   "mimetype": "text/x-python",
   "name": "python",
   "nbconvert_exporter": "python",
   "pygments_lexer": "ipython3",
   "version": "3.9.19"
  },
  "toc": {
   "base_numbering": 1,
   "nav_menu": {},
   "number_sections": false,
   "sideBar": true,
   "skip_h1_title": true,
   "title_cell": "Tabla de Contenidos",
   "title_sidebar": "Contents",
   "toc_cell": true,
   "toc_position": {
    "height": "calc(100% - 180px)",
    "left": "10px",
    "top": "150px",
    "width": "278.872px"
   },
   "toc_section_display": true,
   "toc_window_display": true
  }
 },
 "nbformat": 4,
 "nbformat_minor": 5
}
