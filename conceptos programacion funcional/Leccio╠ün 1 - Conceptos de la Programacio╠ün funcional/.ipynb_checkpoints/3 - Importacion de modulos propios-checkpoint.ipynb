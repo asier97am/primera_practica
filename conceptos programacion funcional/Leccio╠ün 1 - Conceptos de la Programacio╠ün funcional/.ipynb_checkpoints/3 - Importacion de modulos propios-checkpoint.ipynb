{
 "cells": [
  {
   "cell_type": "markdown",
   "id": "e7fdba84",
   "metadata": {},
   "source": [
    "# 3 - Importación de módulos propios\n",
    "\n",
    "<br>\n",
    "<br>\n",
    "\n",
    "<img src=\"https://raw.githubusercontent.com/Hack-io-AI/ai_images/main/python_functional.webp\" style=\"width:400px;\"/>"
   ]
  },
  {
   "cell_type": "markdown",
   "id": "c40d6584",
   "metadata": {
    "toc": true
   },
   "source": [
    "<h1>Tabla de Contenidos<span class=\"tocSkip\"></span></h1>\n",
    "<div class=\"toc\"><ul class=\"toc-item\"><li><span><a href=\"#1---Importación-de-módulos-propios\" data-toc-modified-id=\"1---Importación-de-módulos-propios-1\">1 - Importación de módulos propios</a></span></li></ul></div>"
   ]
  },
  {
   "cell_type": "markdown",
   "id": "1afb034e",
   "metadata": {},
   "source": [
    "## 1 - Importación de módulos propios"
   ]
  },
  {
   "cell_type": "markdown",
   "id": "4db10f33",
   "metadata": {},
   "source": [
    "La importación de módulos propios se refiere a la capacidad de importar y utilizar módulos que nosotros mismos hemos escrito, en lugar de, o además de, utilizar los módulos estándar proporcionados por Python o módulos de terceros instalados. Esto es útil para organizar nuestro código en múltiples archivos, lo que mejora la modularidad, la legibilidad y el mantenimiento del código. Tenemos un archivo llamada `funciones.py` en la misma carpeta de este jupyter con ell siguiente contenido:\n",
    "\n",
    "```python\n",
    "def sumar(a, b):\n",
    "    \"\"\"\n",
    "    Hola, estoy en el archivo de python\n",
    "    \n",
    "    \"\"\"\n",
    "    return a+b\n",
    "\n",
    "\n",
    "\n",
    "def restar(a, b):\n",
    "    \"\"\"\n",
    "    Hola, estoy en el archivo de python\n",
    "    \n",
    "    \"\"\"\n",
    "    return a-b\n",
    "\n",
    "\n",
    "\n",
    "def multi(a, b):\n",
    "    \"\"\"\n",
    "    Hola, estoy en el archivo de python\n",
    "    \n",
    "    \"\"\"\n",
    "    return a*b\n",
    "\n",
    "\n",
    "\n",
    "def divi(a, b):\n",
    "    \"\"\"\n",
    "    Hola, estoy en el archivo de python\n",
    "    \n",
    "    \"\"\"\n",
    "    return a/b\n",
    "```\n",
    "\n",
    "Puedes importar y usar este módulo en otro archivo Python o en este jupyter notebook de la siguiente manera:\n"
   ]
  },
  {
   "cell_type": "code",
   "execution_count": 1,
   "id": "cacec6ad",
   "metadata": {},
   "outputs": [],
   "source": [
    "# importamos el módulo\n",
    "\n",
    "import funciones"
   ]
  },
  {
   "cell_type": "markdown",
   "id": "8b439d5e",
   "metadata": {},
   "source": [
    "Desde aquí ya podemos usar las funciones que están dentro de ese archivo:"
   ]
  },
  {
   "cell_type": "code",
   "execution_count": 2,
   "id": "2701f253",
   "metadata": {},
   "outputs": [
    {
     "data": {
      "text/plain": [
       "40"
      ]
     },
     "execution_count": 2,
     "metadata": {},
     "output_type": "execute_result"
    }
   ],
   "source": [
    "# función multi desde el módulo\n",
    "\n",
    "funciones.multi(8, 5)"
   ]
  },
  {
   "cell_type": "code",
   "execution_count": 3,
   "id": "be240d02",
   "metadata": {},
   "outputs": [
    {
     "name": "stdout",
     "output_type": "stream",
     "text": [
      "Help on function multi in module funciones:\n",
      "\n",
      "multi(a, b)\n",
      "    Hola, estoy en el archivo de python\n",
      "\n"
     ]
    }
   ],
   "source": [
    "# ayuda de la función \n",
    "\n",
    "help(funciones.multi)"
   ]
  },
  {
   "cell_type": "markdown",
   "id": "89263fad",
   "metadata": {},
   "source": [
    "También podemos importar funciones específicas desde el módulo:"
   ]
  },
  {
   "cell_type": "code",
   "execution_count": 4,
   "id": "5ae52795",
   "metadata": {},
   "outputs": [],
   "source": [
    "# importamos la función divi\n",
    "\n",
    "from funciones import divi"
   ]
  },
  {
   "cell_type": "code",
   "execution_count": 5,
   "id": "97284dce",
   "metadata": {},
   "outputs": [
    {
     "data": {
      "text/plain": [
       "1.6"
      ]
     },
     "execution_count": 5,
     "metadata": {},
     "output_type": "execute_result"
    }
   ],
   "source": [
    "# función divi desde el módulo\n",
    "\n",
    "divi(8, 5)"
   ]
  },
  {
   "cell_type": "code",
   "execution_count": 6,
   "id": "6b7c0376",
   "metadata": {},
   "outputs": [
    {
     "name": "stdout",
     "output_type": "stream",
     "text": [
      "Help on function divi in module funciones:\n",
      "\n",
      "divi(a, b)\n",
      "    Hola, estoy en el archivo de python\n",
      "\n"
     ]
    }
   ],
   "source": [
    "# ayuda de la función \n",
    "\n",
    "help(divi)"
   ]
  },
  {
   "cell_type": "markdown",
   "id": "33e4f401",
   "metadata": {},
   "source": [
    "Podríamos importar todas las funciones del módulo usando `*`:"
   ]
  },
  {
   "cell_type": "code",
   "execution_count": 7,
   "id": "a74d8a55",
   "metadata": {},
   "outputs": [],
   "source": [
    "# importamos todas funciones\n",
    "\n",
    "from funciones import *"
   ]
  },
  {
   "cell_type": "code",
   "execution_count": 8,
   "id": "fa658100",
   "metadata": {},
   "outputs": [
    {
     "name": "stdout",
     "output_type": "stream",
     "text": [
      "Help on function restar in module funciones:\n",
      "\n",
      "restar(a, b)\n",
      "    Hola, estoy en el archivo de python\n",
      "\n"
     ]
    }
   ],
   "source": [
    "# ayuda de la función \n",
    "\n",
    "help(restar)"
   ]
  },
  {
   "cell_type": "markdown",
   "id": "d334c9a0",
   "metadata": {},
   "source": [
    "Al importar un módulo completo se suele usar un alias con el objetivo de escribir menos en el resto del código. Dicho alias es el que nosotros queramos, es decir, podemos ponerle el nombre que deseemos al módulo:"
   ]
  },
  {
   "cell_type": "code",
   "execution_count": 9,
   "id": "7c8d2191",
   "metadata": {},
   "outputs": [],
   "source": [
    "# importamos el módulo con alias\n",
    "\n",
    "import funciones as f"
   ]
  },
  {
   "cell_type": "code",
   "execution_count": 10,
   "id": "6a1d5b16",
   "metadata": {},
   "outputs": [
    {
     "data": {
      "text/plain": [
       "40"
      ]
     },
     "execution_count": 10,
     "metadata": {},
     "output_type": "execute_result"
    }
   ],
   "source": [
    "# función multi desde el módulo\n",
    "\n",
    "f.multi(8, 5)"
   ]
  },
  {
   "cell_type": "markdown",
   "id": "54ba42ed",
   "metadata": {},
   "source": [
    "Para organizar mejor el código, se suelen crear carpetas para las distintas necesidades de nuestro código. Importar un módulo desde una carpeta es igual de fácil que antes, solamente tenemos que nombrar la carpeta a la hora de importar el módulo. En esta misma carpeta tenemos un carpeta llamada `src`, source code, en la cual volvemos a tener ese archivo de funciones. Vamos a usar las funciones que contiene:"
   ]
  },
  {
   "cell_type": "code",
   "execution_count": 11,
   "id": "ae0718e5",
   "metadata": {},
   "outputs": [],
   "source": [
    "# importamos todas funciones desde la carpeta src\n",
    "\n",
    "from src.funciones import *"
   ]
  },
  {
   "cell_type": "code",
   "execution_count": 12,
   "id": "16f898ad",
   "metadata": {},
   "outputs": [
    {
     "name": "stdout",
     "output_type": "stream",
     "text": [
      "Help on function sumar in module src.funciones:\n",
      "\n",
      "sumar(a, b)\n",
      "    Funcion para sumar en python src\n",
      "\n"
     ]
    }
   ],
   "source": [
    "# ayuda de la función \n",
    "\n",
    "help(sumar)"
   ]
  },
  {
   "cell_type": "markdown",
   "id": "a43aedcd",
   "metadata": {},
   "source": [
    "Por último, podemos importar un jupyter en otro jupyter. Para ello primero tenemos que hacer la siguiente instalación:\n",
    "\n",
    "```bash\n",
    "pip install import_ipynb\n",
    "```\n",
    "\n",
    "Una vez instalada podemos ejecutar el siguiente código para importar funciones o variables desde un jupyter:"
   ]
  },
  {
   "cell_type": "code",
   "execution_count": 13,
   "id": "ea98427c",
   "metadata": {},
   "outputs": [],
   "source": [
    "# para importar desde jupyter\n",
    "\n",
    "import import_ipynb"
   ]
  },
  {
   "cell_type": "code",
   "execution_count": 14,
   "id": "0f8b0776",
   "metadata": {},
   "outputs": [
    {
     "name": "stdout",
     "output_type": "stream",
     "text": [
      "importing Jupyter notebook from /Users/tecnico.IA/Desarrolador_IA/Modulo 6 - Python_ Programación funcional/notebooks/Lección 1 - Conceptos de la Programación funcional/src/funciones_jup.ipynb\n"
     ]
    }
   ],
   "source": [
    "# importamos todas funciones desde el jupyter en la carpeta src\n",
    "\n",
    "\n",
    "from src.funciones_jup import *"
   ]
  },
  {
   "cell_type": "code",
   "execution_count": 15,
   "id": "f97bb5c1",
   "metadata": {},
   "outputs": [
    {
     "data": {
      "text/plain": [
       "17"
      ]
     },
     "execution_count": 15,
     "metadata": {},
     "output_type": "execute_result"
    }
   ],
   "source": [
    "# función sumar desde el jupyter\n",
    "\n",
    "sumar_jup(8, 9)"
   ]
  },
  {
   "cell_type": "code",
   "execution_count": 16,
   "id": "a60b1d16",
   "metadata": {},
   "outputs": [
    {
     "data": {
      "text/plain": [
       "-1"
      ]
     },
     "execution_count": 16,
     "metadata": {},
     "output_type": "execute_result"
    }
   ],
   "source": [
    "# función restar desde el jupyter\n",
    "\n",
    "restar_jup(8, 9)"
   ]
  },
  {
   "cell_type": "code",
   "execution_count": 17,
   "id": "a8c088a3",
   "metadata": {},
   "outputs": [
    {
     "data": {
      "text/plain": [
       "45"
      ]
     },
     "execution_count": 17,
     "metadata": {},
     "output_type": "execute_result"
    }
   ],
   "source": [
    "# variable desde el jupyter\n",
    "\n",
    "VAR"
   ]
  }
 ],
 "metadata": {
  "kernelspec": {
   "display_name": "ia",
   "language": "python",
   "name": "ia"
  },
  "language_info": {
   "codemirror_mode": {
    "name": "ipython",
    "version": 3
   },
   "file_extension": ".py",
   "mimetype": "text/x-python",
   "name": "python",
   "nbconvert_exporter": "python",
   "pygments_lexer": "ipython3",
   "version": "3.9.19"
  },
  "toc": {
   "base_numbering": 1,
   "nav_menu": {},
   "number_sections": false,
   "sideBar": true,
   "skip_h1_title": true,
   "title_cell": "Tabla de Contenidos",
   "title_sidebar": "Contents",
   "toc_cell": true,
   "toc_position": {
    "height": "calc(100% - 180px)",
    "left": "10px",
    "top": "150px",
    "width": "268.872px"
   },
   "toc_section_display": true,
   "toc_window_display": true
  }
 },
 "nbformat": 4,
 "nbformat_minor": 5
}
